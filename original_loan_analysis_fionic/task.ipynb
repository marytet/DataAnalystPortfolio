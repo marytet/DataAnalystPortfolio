{
 "cells": [
  {
   "cell_type": "code",
   "execution_count": 53,
   "metadata": {},
   "outputs": [
    {
     "data": {
      "text/plain": [
       "array([74,  1, 12,  1, 84, 93,  8, 77, 92, 84])"
      ]
     },
     "metadata": {},
     "output_type": "display_data"
    },
    {
     "name": "stdout",
     "output_type": "stream",
     "text": [
      "Max profit when walking through the array from the left side (first price):  92\n",
      "Max profit when walking through the array from the right side (last price):  92\n"
     ]
    }
   ],
   "source": [
    "import numpy as np\n",
    "\n",
    "stock_prices = np.random.randint(1,101,10)\n",
    "\n",
    "display(stock_prices)\n",
    "\n",
    "#define max profit walking through the array from the left side, min price determining\n",
    "def max_profit(array):\n",
    "    profit=0\n",
    "    min_price = array[0]\n",
    "    for i in range(len(stock_prices)):\n",
    "        if (array[i]-min_price) > profit:\n",
    "            profit = array[i]-min_price\n",
    "        if array[i] < min_price:\n",
    "            min_price = array[i]\n",
    "        else:\n",
    "            continue\n",
    "    return profit\n",
    "\n",
    "print('Max profit when walking through the array from the left side (first price): ', max_profit(stock_prices))\n",
    "\n",
    "#define max profit walking through the array from the left side, min price determining\n",
    "def max_profit(array):\n",
    "    profit=0\n",
    "    min_price = array[0]\n",
    "    for i in range(len(stock_prices)):\n",
    "        if (array[i]-min_price) > profit:\n",
    "            profit = array[i]-min_price\n",
    "        if array[i] < min_price:\n",
    "            min_price = array[i]\n",
    "        else:\n",
    "            continue\n",
    "    return profit\n",
    "\n",
    "print('Max profit when walking through the array from the right side (last price): ', max_profit(stock_prices))"
   ]
  },
  {
   "cell_type": "code",
   "execution_count": null,
   "metadata": {},
   "outputs": [],
   "source": []
  },
  {
   "cell_type": "code",
   "execution_count": null,
   "metadata": {},
   "outputs": [],
   "source": []
  }
 ],
 "metadata": {
  "kernelspec": {
   "display_name": "Python 3",
   "language": "python",
   "name": "python3"
  },
  "language_info": {
   "codemirror_mode": {
    "name": "ipython",
    "version": 3
   },
   "file_extension": ".py",
   "mimetype": "text/x-python",
   "name": "python",
   "nbconvert_exporter": "python",
   "pygments_lexer": "ipython3",
   "version": "3.8.5"
  }
 },
 "nbformat": 4,
 "nbformat_minor": 4
}
