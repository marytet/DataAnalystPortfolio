{
 "cells": [
  {
   "cell_type": "code",
   "execution_count": 56,
   "metadata": {},
   "outputs": [
    {
     "data": {
      "text/plain": [
       "array([64, 81, 71, 90, 35, 98, 53, 31, 93,  4])"
      ]
     },
     "metadata": {},
     "output_type": "display_data"
    }
   ],
   "source": [
    "import numpy as np\n",
    "\n",
    "#create array with randomly numbers\n",
    "stock_prices = np.random.randint(1,101,10)\n",
    "\n",
    "display(stock_prices)"
   ]
  },
  {
   "cell_type": "code",
   "execution_count": 57,
   "metadata": {},
   "outputs": [
    {
     "name": "stdout",
     "output_type": "stream",
     "text": [
      "Max profit when walking through the array from the left side (first price):  63\n"
     ]
    }
   ],
   "source": [
    "#define max profit walking through the array from the left side, min price determining\n",
    "def max_profit(array):\n",
    "    profit=0\n",
    "    min_price = array[0]\n",
    "    for i in range(len(stock_prices)):\n",
    "        if (array[i]-min_price) > profit:\n",
    "            profit = array[i]-min_price\n",
    "        if array[i] < min_price:\n",
    "            min_price = array[i]\n",
    "        else:\n",
    "            continue\n",
    "    return profit\n",
    "\n",
    "print('Max profit when walking through the array from the left side (first price): ', max_profit(stock_prices))"
   ]
  },
  {
   "cell_type": "code",
   "execution_count": 58,
   "metadata": {},
   "outputs": [
    {
     "name": "stdout",
     "output_type": "stream",
     "text": [
      "Max profit when walking through the array from the right side (last price):  63\n"
     ]
    }
   ],
   "source": [
    "#define max profit walking through the array from the left side, min price determining\n",
    "def max_profit(array):\n",
    "    profit=0\n",
    "    min_price = array[0]\n",
    "    for i in range(len(stock_prices)):\n",
    "        if (array[i]-min_price) > profit:\n",
    "            profit = array[i]-min_price\n",
    "        if array[i] < min_price:\n",
    "            min_price = array[i]\n",
    "        else:\n",
    "            continue\n",
    "    return profit\n",
    "\n",
    "print('Max profit when walking through the array from the right side (last price): ', max_profit(stock_prices))"
   ]
  },
  {
   "cell_type": "code",
   "execution_count": null,
   "metadata": {},
   "outputs": [],
   "source": []
  }
 ],
 "metadata": {
  "kernelspec": {
   "display_name": "Python 3",
   "language": "python",
   "name": "python3"
  },
  "language_info": {
   "codemirror_mode": {
    "name": "ipython",
    "version": 3
   },
   "file_extension": ".py",
   "mimetype": "text/x-python",
   "name": "python",
   "nbconvert_exporter": "python",
   "pygments_lexer": "ipython3",
   "version": "3.8.5"
  }
 },
 "nbformat": 4,
 "nbformat_minor": 4
}
