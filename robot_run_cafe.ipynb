{
 "cells": [
  {
   "cell_type": "code",
   "execution_count": 1,
   "metadata": {},
   "outputs": [
    {
     "data": {
      "image/jpeg": "[encoded data removed]",
      "text/html": [
       "\n",
       "        <iframe\n",
       "            width=\"900\"\n",
       "            height=\"500\"\n",
       "            src=\"https://www.youtube.com/embed/GGL6U0k8WYA\"\n",
       "            frameborder=\"0\"\n",
       "            allowfullscreen\n",
       "        ></iframe>\n",
       "        "
      ],
      "text/plain": [
       "<IPython.lib.display.YouTubeVideo at 0x7f6150539950>"
      ]
     },
     "execution_count": 1,
     "metadata": {},
     "output_type": "execute_result"
    }
   ],
   "source": [
    "# Derek Banas \"Plotly Tutorial 2020\", eng\n",
    "\n",
    "from IPython.display import YouTubeVideo\n",
    "YouTubeVideo('GGL6U0k8WYA', width=900, height=500)"
   ]
  },
  {
   "cell_type": "markdown",
   "metadata": {},
   "source": [
    "---"
   ]
  },
  {
   "cell_type": "markdown",
   "metadata": {},
   "source": [
    "# The goal of the project\n",
    "## Invesigate the current conditions on market establishments in Los Angeles aiming to detect the  most profitable location and type of establishment for a new robot cafe.  We will present the results of our research in presentation form to attach investors."
   ]
  },
  {
   "cell_type": "markdown",
   "metadata": {},
   "source": [
    "* [Step 1. Download the data and prepare it for analysis](#1)\n",
    "    * [Conclusion](#1_1)\n",
    "* [Step 2. Data analysis](#2)\n",
    "    * [2.1. Investigate the proportions of the various types of establishments](#2_1)\n",
    "    * [2.2. Investigate the proportions of chain and nonchain establishments](#2_2)\n",
    "    * [2.3. Determine the average number of seats for each type of restaurant. On average, which type of restaurant has the greatest number of seats?](#2_3)\n",
    "    * [2.4. Put the data on street names from the address column in a separate column.Plot a graph of the top ten streets by number of restaurants. Find the number of streets that only have one restaurant.](#2_4)\n",
    "    * [2.5. For streets with a lot of restaurants, look at the distribution of the number of seats. What trends can you see?](#2_5)\n",
    "    * [2.6. Conclusion. Draw an overall conclusion and provide recommendations on restaurant type and number of seats. Comment on the possibility of developing a chain.](#2_6)\n",
    "* [Step 3. Preparing a presentation](#3)"
   ]
  },
  {
   "cell_type": "markdown",
   "metadata": {},
   "source": [
    "### Step 1. Download the data and prepare it for analysis"
   ]
  },
  {
   "cell_type": "code",
   "execution_count": 2,
   "metadata": {},
   "outputs": [
    {
     "name": "stdout",
     "output_type": "stream",
     "text": [
      "Defaulting to user installation because normal site-packages is not writeable\n",
      "Collecting usaddress\n",
      "  Downloading usaddress-0.5.10-py2.py3-none-any.whl (63 kB)\n",
      "\u001B[K     |████████████████████████████████| 63 kB 776 kB/s eta 0:00:01\n",
      "\u001B[?25hCollecting probableparsing\n",
      "  Downloading probableparsing-0.0.1-py2.py3-none-any.whl (3.1 kB)\n",
      "Requirement already satisfied: future>=0.14 in /opt/conda/lib/python3.7/site-packages (from usaddress) (0.18.2)\n",
      "Collecting python-crfsuite>=0.7\n",
      "  Downloading python_crfsuite-0.9.7-cp37-cp37m-manylinux1_x86_64.whl (743 kB)\n",
      "\u001B[K     |████████████████████████████████| 743 kB 2.6 MB/s eta 0:00:01\n",
      "\u001B[?25hInstalling collected packages: probableparsing, python-crfsuite, usaddress\n",
      "Successfully installed probableparsing-0.0.1 python-crfsuite-0.9.7 usaddress-0.5.10\n"
     ]
    }
   ],
   "source": [
    "! pip install usaddress"
   ]
  },
  {
   "cell_type": "code",
   "execution_count": 3,
   "metadata": {},
   "outputs": [],
   "source": [
    "import pandas as pd\n",
    "import matplotlib.pyplot as plt\n",
    "import seaborn as sns\n",
    "import numpy as np\n",
    "from functools import reduce\n",
    "import math\n",
    "import datetime as dt\n",
    "from scipy import stats as stats\n",
    "import plotly.graph_objects as go\n",
    "import plotly.express as px\n",
    "import warnings\n",
    "import usaddress\n",
    "import copy\n",
    "\n",
    "warnings.filterwarnings('ignore')"
   ]
  },
  {
   "cell_type": "code",
   "execution_count": 4,
   "metadata": {},
   "outputs": [
    {
     "data": {
      "text/html": [
       "<div>\n",
       "<style scoped>\n",
       "    .dataframe tbody tr th:only-of-type {\n",
       "        vertical-align: middle;\n",
       "    }\n",
       "\n",
       "    .dataframe tbody tr th {\n",
       "        vertical-align: top;\n",
       "    }\n",
       "\n",
       "    .dataframe thead th {\n",
       "        text-align: right;\n",
       "    }\n",
       "</style>\n",
       "<table border=\"1\" class=\"dataframe\">\n",
       "  <thead>\n",
       "    <tr style=\"text-align: right;\">\n",
       "      <th></th>\n",
       "      <th>id</th>\n",
       "      <th>object_name</th>\n",
       "      <th>address</th>\n",
       "      <th>chain</th>\n",
       "      <th>object_type</th>\n",
       "      <th>number</th>\n",
       "    </tr>\n",
       "  </thead>\n",
       "  <tbody>\n",
       "    <tr>\n",
       "      <td>0</td>\n",
       "      <td>11786</td>\n",
       "      <td>HABITAT COFFEE SHOP</td>\n",
       "      <td>3708 N EAGLE ROCK BLVD</td>\n",
       "      <td>False</td>\n",
       "      <td>Cafe</td>\n",
       "      <td>26</td>\n",
       "    </tr>\n",
       "    <tr>\n",
       "      <td>1</td>\n",
       "      <td>11787</td>\n",
       "      <td>REILLY'S</td>\n",
       "      <td>100 WORLD WAY # 120</td>\n",
       "      <td>False</td>\n",
       "      <td>Restaurant</td>\n",
       "      <td>9</td>\n",
       "    </tr>\n",
       "    <tr>\n",
       "      <td>2</td>\n",
       "      <td>11788</td>\n",
       "      <td>STREET CHURROS</td>\n",
       "      <td>6801 HOLLYWOOD BLVD # 253</td>\n",
       "      <td>False</td>\n",
       "      <td>Fast Food</td>\n",
       "      <td>20</td>\n",
       "    </tr>\n",
       "    <tr>\n",
       "      <td>3</td>\n",
       "      <td>11789</td>\n",
       "      <td>TRINITI ECHO PARK</td>\n",
       "      <td>1814 W SUNSET BLVD</td>\n",
       "      <td>False</td>\n",
       "      <td>Restaurant</td>\n",
       "      <td>22</td>\n",
       "    </tr>\n",
       "    <tr>\n",
       "      <td>4</td>\n",
       "      <td>11790</td>\n",
       "      <td>POLLEN</td>\n",
       "      <td>2100 ECHO PARK AVE</td>\n",
       "      <td>False</td>\n",
       "      <td>Restaurant</td>\n",
       "      <td>20</td>\n",
       "    </tr>\n",
       "  </tbody>\n",
       "</table>\n",
       "</div>"
      ],
      "text/plain": [
       "      id          object_name                    address  chain object_type  \\\n",
       "0  11786  HABITAT COFFEE SHOP     3708 N EAGLE ROCK BLVD  False        Cafe   \n",
       "1  11787             REILLY'S        100 WORLD WAY # 120  False  Restaurant   \n",
       "2  11788       STREET CHURROS  6801 HOLLYWOOD BLVD # 253  False   Fast Food   \n",
       "3  11789    TRINITI ECHO PARK         1814 W SUNSET BLVD  False  Restaurant   \n",
       "4  11790               POLLEN         2100 ECHO PARK AVE  False  Restaurant   \n",
       "\n",
       "   number  \n",
       "0      26  \n",
       "1       9  \n",
       "2      20  \n",
       "3      22  \n",
       "4      20  "
      ]
     },
     "metadata": {},
     "output_type": "display_data"
    },
    {
     "data": {
      "text/html": [
       "<div>\n",
       "<style scoped>\n",
       "    .dataframe tbody tr th:only-of-type {\n",
       "        vertical-align: middle;\n",
       "    }\n",
       "\n",
       "    .dataframe tbody tr th {\n",
       "        vertical-align: top;\n",
       "    }\n",
       "\n",
       "    .dataframe thead th {\n",
       "        text-align: right;\n",
       "    }\n",
       "</style>\n",
       "<table border=\"1\" class=\"dataframe\">\n",
       "  <thead>\n",
       "    <tr style=\"text-align: right;\">\n",
       "      <th></th>\n",
       "      <th>id</th>\n",
       "      <th>object_name</th>\n",
       "      <th>address</th>\n",
       "      <th>chain</th>\n",
       "      <th>object_type</th>\n",
       "      <th>number</th>\n",
       "    </tr>\n",
       "  </thead>\n",
       "  <tbody>\n",
       "    <tr>\n",
       "      <td>9646</td>\n",
       "      <td>21432</td>\n",
       "      <td>HALL OF JUSTICE</td>\n",
       "      <td>217 W TEMPLE AVE</td>\n",
       "      <td>False</td>\n",
       "      <td>Restaurant</td>\n",
       "      <td>122</td>\n",
       "    </tr>\n",
       "    <tr>\n",
       "      <td>9647</td>\n",
       "      <td>21433</td>\n",
       "      <td>FIN-MELROSE</td>\n",
       "      <td>5750 MELROSE AVE</td>\n",
       "      <td>False</td>\n",
       "      <td>Restaurant</td>\n",
       "      <td>93</td>\n",
       "    </tr>\n",
       "    <tr>\n",
       "      <td>9648</td>\n",
       "      <td>21434</td>\n",
       "      <td>JUICY WINGZ</td>\n",
       "      <td>6741 HOLLYWOOD BLVD</td>\n",
       "      <td>True</td>\n",
       "      <td>Fast Food</td>\n",
       "      <td>15</td>\n",
       "    </tr>\n",
       "    <tr>\n",
       "      <td>9649</td>\n",
       "      <td>21435</td>\n",
       "      <td>MEDIDATE COFFEE</td>\n",
       "      <td>548 S SPRING ST STE 100</td>\n",
       "      <td>False</td>\n",
       "      <td>Cafe</td>\n",
       "      <td>6</td>\n",
       "    </tr>\n",
       "    <tr>\n",
       "      <td>9650</td>\n",
       "      <td>21436</td>\n",
       "      <td>CAFE SPROUTS</td>\n",
       "      <td>1300 S SAN PEDRO ST STE 111</td>\n",
       "      <td>True</td>\n",
       "      <td>Restaurant</td>\n",
       "      <td>19</td>\n",
       "    </tr>\n",
       "  </tbody>\n",
       "</table>\n",
       "</div>"
      ],
      "text/plain": [
       "         id      object_name                      address  chain object_type  \\\n",
       "9646  21432  HALL OF JUSTICE             217 W TEMPLE AVE  False  Restaurant   \n",
       "9647  21433      FIN-MELROSE             5750 MELROSE AVE  False  Restaurant   \n",
       "9648  21434      JUICY WINGZ          6741 HOLLYWOOD BLVD   True   Fast Food   \n",
       "9649  21435  MEDIDATE COFFEE      548 S SPRING ST STE 100  False        Cafe   \n",
       "9650  21436     CAFE SPROUTS  1300 S SAN PEDRO ST STE 111   True  Restaurant   \n",
       "\n",
       "      number  \n",
       "9646     122  \n",
       "9647      93  \n",
       "9648      15  \n",
       "9649       6  \n",
       "9650      19  "
      ]
     },
     "metadata": {},
     "output_type": "display_data"
    },
    {
     "data": {
      "text/html": [
       "<div>\n",
       "<style scoped>\n",
       "    .dataframe tbody tr th:only-of-type {\n",
       "        vertical-align: middle;\n",
       "    }\n",
       "\n",
       "    .dataframe tbody tr th {\n",
       "        vertical-align: top;\n",
       "    }\n",
       "\n",
       "    .dataframe thead th {\n",
       "        text-align: right;\n",
       "    }\n",
       "</style>\n",
       "<table border=\"1\" class=\"dataframe\">\n",
       "  <thead>\n",
       "    <tr style=\"text-align: right;\">\n",
       "      <th></th>\n",
       "      <th>object_name</th>\n",
       "      <th>address</th>\n",
       "      <th>chain</th>\n",
       "      <th>object_type</th>\n",
       "    </tr>\n",
       "  </thead>\n",
       "  <tbody>\n",
       "    <tr>\n",
       "      <td>count</td>\n",
       "      <td>9651</td>\n",
       "      <td>9651</td>\n",
       "      <td>9648</td>\n",
       "      <td>9651</td>\n",
       "    </tr>\n",
       "    <tr>\n",
       "      <td>unique</td>\n",
       "      <td>8672</td>\n",
       "      <td>8517</td>\n",
       "      <td>2</td>\n",
       "      <td>6</td>\n",
       "    </tr>\n",
       "    <tr>\n",
       "      <td>top</td>\n",
       "      <td>THE COFFEE BEAN &amp; TEA LEAF</td>\n",
       "      <td>3607 TROUSDALE PKWY</td>\n",
       "      <td>False</td>\n",
       "      <td>Restaurant</td>\n",
       "    </tr>\n",
       "    <tr>\n",
       "      <td>freq</td>\n",
       "      <td>47</td>\n",
       "      <td>11</td>\n",
       "      <td>5972</td>\n",
       "      <td>7255</td>\n",
       "    </tr>\n",
       "  </tbody>\n",
       "</table>\n",
       "</div>"
      ],
      "text/plain": [
       "                       object_name              address  chain object_type\n",
       "count                         9651                 9651   9648        9651\n",
       "unique                        8672                 8517      2           6\n",
       "top     THE COFFEE BEAN & TEA LEAF  3607 TROUSDALE PKWY  False  Restaurant\n",
       "freq                            47                   11   5972        7255"
      ]
     },
     "metadata": {},
     "output_type": "display_data"
    },
    {
     "name": "stdout",
     "output_type": "stream",
     "text": [
      "<class 'pandas.core.frame.DataFrame'>\n",
      "RangeIndex: 9651 entries, 0 to 9650\n",
      "Data columns (total 6 columns):\n",
      "id             9651 non-null int64\n",
      "object_name    9651 non-null object\n",
      "address        9651 non-null object\n",
      "chain          9648 non-null object\n",
      "object_type    9651 non-null object\n",
      "number         9651 non-null int64\n",
      "dtypes: int64(2), object(4)\n",
      "memory usage: 452.5+ KB\n"
     ]
    },
    {
     "data": {
      "text/plain": [
       "None"
      ]
     },
     "metadata": {},
     "output_type": "display_data"
    }
   ],
   "source": [
    "rest_data = pd.read_csv('/datasets/rest_data_us.csv', sep=',')\n",
    "display(rest_data.head())\n",
    "display(rest_data.tail())\n",
    "display(rest_data.describe(include='object'))\n",
    "display(rest_data.info())"
   ]
  },
  {
   "cell_type": "code",
   "execution_count": 5,
   "metadata": {},
   "outputs": [],
   "source": [
    "rest_data.dropna(subset=['chain'], inplace=True)\n",
    "rest_data['chain'] = rest_data['chain'].astype('bool')"
   ]
  },
  {
   "cell_type": "markdown",
   "metadata": {},
   "source": [
    "On this stage I decided to add a street column for further analysis, as well as for more correct work with duplicates."
   ]
  },
  {
   "cell_type": "code",
   "execution_count": 6,
   "metadata": {},
   "outputs": [],
   "source": [
    "def cleaning_check(raw):\n",
    "    raw_address=usaddress.parse(raw)\n",
    "    dict_address={}\n",
    "    for i in raw_address:\n",
    "        dict_address.update({i[1]:i[0]})\n",
    "    if 'StreetName' in dict_address.keys() and 'AddressNumber' in dict_address.keys():\n",
    "        clean_adress=dict_address['AddressNumber']+\",\"+str(dict_address['StreetName'])\n",
    "        return clean_adress\n",
    "    else:\n",
    "        return 'no street or number'"
   ]
  },
  {
   "cell_type": "code",
   "execution_count": 7,
   "metadata": {},
   "outputs": [
    {
     "data": {
      "text/html": [
       "<div>\n",
       "<style scoped>\n",
       "    .dataframe tbody tr th:only-of-type {\n",
       "        vertical-align: middle;\n",
       "    }\n",
       "\n",
       "    .dataframe tbody tr th {\n",
       "        vertical-align: top;\n",
       "    }\n",
       "\n",
       "    .dataframe thead th {\n",
       "        text-align: right;\n",
       "    }\n",
       "</style>\n",
       "<table border=\"1\" class=\"dataframe\">\n",
       "  <thead>\n",
       "    <tr style=\"text-align: right;\">\n",
       "      <th></th>\n",
       "      <th>id</th>\n",
       "      <th>object_name</th>\n",
       "      <th>address</th>\n",
       "      <th>chain</th>\n",
       "      <th>object_type</th>\n",
       "      <th>number</th>\n",
       "      <th>clean_street_check</th>\n",
       "    </tr>\n",
       "  </thead>\n",
       "  <tbody>\n",
       "    <tr>\n",
       "      <td>1888</td>\n",
       "      <td>13674</td>\n",
       "      <td>MAGDALENO DEBBIE</td>\n",
       "      <td>OLVERA ST E17</td>\n",
       "      <td>False</td>\n",
       "      <td>Restaurant</td>\n",
       "      <td>15</td>\n",
       "      <td>no street or number</td>\n",
       "    </tr>\n",
       "    <tr>\n",
       "      <td>3719</td>\n",
       "      <td>15505</td>\n",
       "      <td>LAS ANITAS</td>\n",
       "      <td>OLVERA ST 26</td>\n",
       "      <td>False</td>\n",
       "      <td>Restaurant</td>\n",
       "      <td>38</td>\n",
       "      <td>no street or number</td>\n",
       "    </tr>\n",
       "    <tr>\n",
       "      <td>7003</td>\n",
       "      <td>18789</td>\n",
       "      <td>D.K. DONUTS</td>\n",
       "      <td>1033 1/2 LOS ANGELES ST</td>\n",
       "      <td>False</td>\n",
       "      <td>Fast Food</td>\n",
       "      <td>8</td>\n",
       "      <td>no street or number</td>\n",
       "    </tr>\n",
       "    <tr>\n",
       "      <td>7281</td>\n",
       "      <td>19067</td>\n",
       "      <td>CIELITO LINDO</td>\n",
       "      <td>OLVERA ST 23</td>\n",
       "      <td>False</td>\n",
       "      <td>Restaurant</td>\n",
       "      <td>2</td>\n",
       "      <td>no street or number</td>\n",
       "    </tr>\n",
       "    <tr>\n",
       "      <td>7319</td>\n",
       "      <td>19105</td>\n",
       "      <td>JUANITA'S CAFE</td>\n",
       "      <td>OLVERA ST 20</td>\n",
       "      <td>False</td>\n",
       "      <td>Restaurant</td>\n",
       "      <td>12</td>\n",
       "      <td>no street or number</td>\n",
       "    </tr>\n",
       "    <tr>\n",
       "      <td>7321</td>\n",
       "      <td>19107</td>\n",
       "      <td>KITTY'S SNOW CONES</td>\n",
       "      <td>OLVERA ST 2</td>\n",
       "      <td>False</td>\n",
       "      <td>Restaurant</td>\n",
       "      <td>11</td>\n",
       "      <td>no street or number</td>\n",
       "    </tr>\n",
       "    <tr>\n",
       "      <td>7327</td>\n",
       "      <td>19113</td>\n",
       "      <td>LA NOCHE BUENA</td>\n",
       "      <td>OLVERA ST E8</td>\n",
       "      <td>False</td>\n",
       "      <td>Restaurant</td>\n",
       "      <td>1</td>\n",
       "      <td>no street or number</td>\n",
       "    </tr>\n",
       "    <tr>\n",
       "      <td>7438</td>\n",
       "      <td>19224</td>\n",
       "      <td>LA GOLONDRINA</td>\n",
       "      <td>OLVERA ST W17</td>\n",
       "      <td>False</td>\n",
       "      <td>Restaurant</td>\n",
       "      <td>204</td>\n",
       "      <td>no street or number</td>\n",
       "    </tr>\n",
       "    <tr>\n",
       "      <td>7741</td>\n",
       "      <td>19527</td>\n",
       "      <td>RODOLFO'S RESTAURANT</td>\n",
       "      <td>OLVERA ST 5</td>\n",
       "      <td>True</td>\n",
       "      <td>Restaurant</td>\n",
       "      <td>4</td>\n",
       "      <td>no street or number</td>\n",
       "    </tr>\n",
       "  </tbody>\n",
       "</table>\n",
       "</div>"
      ],
      "text/plain": [
       "         id           object_name                  address  chain object_type  \\\n",
       "1888  13674      MAGDALENO DEBBIE            OLVERA ST E17  False  Restaurant   \n",
       "3719  15505            LAS ANITAS             OLVERA ST 26  False  Restaurant   \n",
       "7003  18789           D.K. DONUTS  1033 1/2 LOS ANGELES ST  False   Fast Food   \n",
       "7281  19067         CIELITO LINDO             OLVERA ST 23  False  Restaurant   \n",
       "7319  19105        JUANITA'S CAFE             OLVERA ST 20  False  Restaurant   \n",
       "7321  19107    KITTY'S SNOW CONES              OLVERA ST 2  False  Restaurant   \n",
       "7327  19113        LA NOCHE BUENA             OLVERA ST E8  False  Restaurant   \n",
       "7438  19224         LA GOLONDRINA            OLVERA ST W17  False  Restaurant   \n",
       "7741  19527  RODOLFO'S RESTAURANT              OLVERA ST 5   True  Restaurant   \n",
       "\n",
       "      number   clean_street_check  \n",
       "1888      15  no street or number  \n",
       "3719      38  no street or number  \n",
       "7003       8  no street or number  \n",
       "7281       2  no street or number  \n",
       "7319      12  no street or number  \n",
       "7321      11  no street or number  \n",
       "7327       1  no street or number  \n",
       "7438     204  no street or number  \n",
       "7741       4  no street or number  "
      ]
     },
     "metadata": {},
     "output_type": "display_data"
    },
    {
     "data": {
      "text/plain": [
       "[('OLVERA', 'PlaceName'), ('ST', 'StateName'), ('E17', 'ZipCode')]"
      ]
     },
     "metadata": {},
     "output_type": "display_data"
    }
   ],
   "source": [
    "rest_data['clean_street_check'] = rest_data.address.apply(cleaning_check)\n",
    "display(rest_data[rest_data['clean_street_check']=='no street or number'])\n",
    "display(usaddress.parse(rest_data.iloc[1888]['address']))"
   ]
  },
  {
   "cell_type": "code",
   "execution_count": 8,
   "metadata": {},
   "outputs": [],
   "source": [
    "def cleaning_final(raw):\n",
    "    if raw.startswith('OLVERA'):\n",
    "        clean_adress='OLVERA,Los Angeles,USA'\n",
    "    elif raw.startswith('1033 1/2 LOS ANGELES'):\n",
    "        clean_adress='1033 1/2 LOS ANGELES ST,Los Angeles,USA'\n",
    "    else:\n",
    "        raw_address=usaddress.parse(raw)\n",
    "        dict_address={}\n",
    "        for i in raw_address:\n",
    "            dict_address.update({i[1]:i[0]})\n",
    "        clean_adress=dict_address['AddressNumber']+\" \"+str(dict_address['StreetName'])+str(', Los Angeles,USA')\n",
    "    return clean_adress"
   ]
  },
  {
   "cell_type": "code",
   "execution_count": 9,
   "metadata": {},
   "outputs": [
    {
     "data": {
      "text/html": [
       "<div>\n",
       "<style scoped>\n",
       "    .dataframe tbody tr th:only-of-type {\n",
       "        vertical-align: middle;\n",
       "    }\n",
       "\n",
       "    .dataframe tbody tr th {\n",
       "        vertical-align: top;\n",
       "    }\n",
       "\n",
       "    .dataframe thead th {\n",
       "        text-align: right;\n",
       "    }\n",
       "</style>\n",
       "<table border=\"1\" class=\"dataframe\">\n",
       "  <thead>\n",
       "    <tr style=\"text-align: right;\">\n",
       "      <th></th>\n",
       "      <th>id</th>\n",
       "      <th>object_name</th>\n",
       "      <th>address</th>\n",
       "      <th>chain</th>\n",
       "      <th>object_type</th>\n",
       "      <th>number</th>\n",
       "      <th>clean_street_check</th>\n",
       "      <th>clean_street_final</th>\n",
       "    </tr>\n",
       "  </thead>\n",
       "  <tbody>\n",
       "    <tr>\n",
       "      <td>5803</td>\n",
       "      <td>17589</td>\n",
       "      <td>PIZZA MAN</td>\n",
       "      <td>1578 COLORADO BLVD # 5</td>\n",
       "      <td>True</td>\n",
       "      <td>Pizza</td>\n",
       "      <td>23</td>\n",
       "      <td>1578,COLORADO</td>\n",
       "      <td>1578 COLORADO, Los Angeles,USA</td>\n",
       "    </tr>\n",
       "    <tr>\n",
       "      <td>4915</td>\n",
       "      <td>16701</td>\n",
       "      <td>RITA'S ICE-CUSTARD-HAPPINESS</td>\n",
       "      <td>11073 PICO BLVD</td>\n",
       "      <td>False</td>\n",
       "      <td>Restaurant</td>\n",
       "      <td>18</td>\n",
       "      <td>11073,PICO</td>\n",
       "      <td>11073 PICO, Los Angeles,USA</td>\n",
       "    </tr>\n",
       "    <tr>\n",
       "      <td>5234</td>\n",
       "      <td>17020</td>\n",
       "      <td>AMMO AT THE HAMMER</td>\n",
       "      <td>10899 WILSHIRE BLVD</td>\n",
       "      <td>False</td>\n",
       "      <td>Restaurant</td>\n",
       "      <td>33</td>\n",
       "      <td>10899,WILSHIRE</td>\n",
       "      <td>10899 WILSHIRE, Los Angeles,USA</td>\n",
       "    </tr>\n",
       "    <tr>\n",
       "      <td>8199</td>\n",
       "      <td>19985</td>\n",
       "      <td>LITTLE ONGPIN</td>\n",
       "      <td>5050 W SUNSET BLVD</td>\n",
       "      <td>False</td>\n",
       "      <td>Restaurant</td>\n",
       "      <td>16</td>\n",
       "      <td>5050,SUNSET</td>\n",
       "      <td>5050 SUNSET, Los Angeles,USA</td>\n",
       "    </tr>\n",
       "    <tr>\n",
       "      <td>2078</td>\n",
       "      <td>13864</td>\n",
       "      <td>SAGE VEGAN BISTRO</td>\n",
       "      <td>1700 W SUNSET BLVD</td>\n",
       "      <td>False</td>\n",
       "      <td>Restaurant</td>\n",
       "      <td>41</td>\n",
       "      <td>1700,SUNSET</td>\n",
       "      <td>1700 SUNSET, Los Angeles,USA</td>\n",
       "    </tr>\n",
       "    <tr>\n",
       "      <td>8714</td>\n",
       "      <td>20500</td>\n",
       "      <td>TOM'S JR EXRESS</td>\n",
       "      <td>724 W FLORENCE AVE</td>\n",
       "      <td>False</td>\n",
       "      <td>Restaurant</td>\n",
       "      <td>1</td>\n",
       "      <td>724,FLORENCE</td>\n",
       "      <td>724 FLORENCE, Los Angeles,USA</td>\n",
       "    </tr>\n",
       "    <tr>\n",
       "      <td>750</td>\n",
       "      <td>12536</td>\n",
       "      <td>CASA MONTEJO RESTAURANT</td>\n",
       "      <td>1125 W 6TH ST UNIT 105</td>\n",
       "      <td>True</td>\n",
       "      <td>Restaurant</td>\n",
       "      <td>23</td>\n",
       "      <td>1125,6TH</td>\n",
       "      <td>1125 6TH, Los Angeles,USA</td>\n",
       "    </tr>\n",
       "    <tr>\n",
       "      <td>4376</td>\n",
       "      <td>16162</td>\n",
       "      <td>YOU JUNG RESTAURANT</td>\n",
       "      <td>533 S WESTERN AVE # #C</td>\n",
       "      <td>True</td>\n",
       "      <td>Restaurant</td>\n",
       "      <td>64</td>\n",
       "      <td>533,WESTERN</td>\n",
       "      <td>533 WESTERN, Los Angeles,USA</td>\n",
       "    </tr>\n",
       "    <tr>\n",
       "      <td>4095</td>\n",
       "      <td>15881</td>\n",
       "      <td>JINGLE DONUTS</td>\n",
       "      <td>1901 S ALAMEDA ST STE 119</td>\n",
       "      <td>False</td>\n",
       "      <td>Fast Food</td>\n",
       "      <td>28</td>\n",
       "      <td>1901,ALAMEDA</td>\n",
       "      <td>1901 ALAMEDA, Los Angeles,USA</td>\n",
       "    </tr>\n",
       "    <tr>\n",
       "      <td>7253</td>\n",
       "      <td>19039</td>\n",
       "      <td>THE COFFEE BEAN &amp; TEA LEAF</td>\n",
       "      <td>3726 S FIGUEROA ST</td>\n",
       "      <td>True</td>\n",
       "      <td>Cafe</td>\n",
       "      <td>24</td>\n",
       "      <td>3726,FIGUEROA</td>\n",
       "      <td>3726 FIGUEROA, Los Angeles,USA</td>\n",
       "    </tr>\n",
       "  </tbody>\n",
       "</table>\n",
       "</div>"
      ],
      "text/plain": [
       "         id                   object_name                    address  chain  \\\n",
       "5803  17589                     PIZZA MAN     1578 COLORADO BLVD # 5   True   \n",
       "4915  16701  RITA'S ICE-CUSTARD-HAPPINESS            11073 PICO BLVD  False   \n",
       "5234  17020            AMMO AT THE HAMMER        10899 WILSHIRE BLVD  False   \n",
       "8199  19985                 LITTLE ONGPIN         5050 W SUNSET BLVD  False   \n",
       "2078  13864             SAGE VEGAN BISTRO         1700 W SUNSET BLVD  False   \n",
       "8714  20500               TOM'S JR EXRESS         724 W FLORENCE AVE  False   \n",
       "750   12536       CASA MONTEJO RESTAURANT     1125 W 6TH ST UNIT 105   True   \n",
       "4376  16162           YOU JUNG RESTAURANT     533 S WESTERN AVE # #C   True   \n",
       "4095  15881                 JINGLE DONUTS  1901 S ALAMEDA ST STE 119  False   \n",
       "7253  19039    THE COFFEE BEAN & TEA LEAF         3726 S FIGUEROA ST   True   \n",
       "\n",
       "     object_type  number clean_street_check               clean_street_final  \n",
       "5803       Pizza      23      1578,COLORADO   1578 COLORADO, Los Angeles,USA  \n",
       "4915  Restaurant      18         11073,PICO      11073 PICO, Los Angeles,USA  \n",
       "5234  Restaurant      33     10899,WILSHIRE  10899 WILSHIRE, Los Angeles,USA  \n",
       "8199  Restaurant      16        5050,SUNSET     5050 SUNSET, Los Angeles,USA  \n",
       "2078  Restaurant      41        1700,SUNSET     1700 SUNSET, Los Angeles,USA  \n",
       "8714  Restaurant       1       724,FLORENCE    724 FLORENCE, Los Angeles,USA  \n",
       "750   Restaurant      23           1125,6TH        1125 6TH, Los Angeles,USA  \n",
       "4376  Restaurant      64        533,WESTERN     533 WESTERN, Los Angeles,USA  \n",
       "4095   Fast Food      28       1901,ALAMEDA    1901 ALAMEDA, Los Angeles,USA  \n",
       "7253        Cafe      24      3726,FIGUEROA   3726 FIGUEROA, Los Angeles,USA  "
      ]
     },
     "execution_count": 9,
     "metadata": {},
     "output_type": "execute_result"
    }
   ],
   "source": [
    "rest_data['clean_street_final']=rest_data.address.apply(cleaning_final)\n",
    "rest_data.sample(10)"
   ]
  },
  {
   "cell_type": "code",
   "execution_count": 10,
   "metadata": {},
   "outputs": [],
   "source": [
    "def cleaning_tag(raw):\n",
    "    try:\n",
    "        if raw.startswith('OLVERA'):\n",
    "            clean_adress='OLVERA,Los Angeles,USA'\n",
    "        elif raw.startswith('1033 1/2 LOS ANGELES'):\n",
    "            clean_adress='1033 1/2 LOS ANGELES ST,Los Angeles,USA'\n",
    "        elif raw.startswith('3425 E 1ST ST SO. 3RDFL'):\n",
    "            clean_adress='3425 E 1ST ST SO. 3RDFL'\n",
    "        else:\n",
    "            clean_adress=usaddress.tag(raw)[0]['StreetName']\n",
    "    except:\n",
    "        clean_adress='no street'\n",
    "    return clean_adress"
   ]
  },
  {
   "cell_type": "code",
   "execution_count": 11,
   "metadata": {},
   "outputs": [
    {
     "data": {
      "text/html": [
       "<div>\n",
       "<style scoped>\n",
       "    .dataframe tbody tr th:only-of-type {\n",
       "        vertical-align: middle;\n",
       "    }\n",
       "\n",
       "    .dataframe tbody tr th {\n",
       "        vertical-align: top;\n",
       "    }\n",
       "\n",
       "    .dataframe thead th {\n",
       "        text-align: right;\n",
       "    }\n",
       "</style>\n",
       "<table border=\"1\" class=\"dataframe\">\n",
       "  <thead>\n",
       "    <tr style=\"text-align: right;\">\n",
       "      <th></th>\n",
       "      <th>id</th>\n",
       "      <th>object_name</th>\n",
       "      <th>address</th>\n",
       "      <th>chain</th>\n",
       "      <th>object_type</th>\n",
       "      <th>number</th>\n",
       "      <th>clean_street_check</th>\n",
       "      <th>clean_street_final</th>\n",
       "      <th>clean_street_tag</th>\n",
       "    </tr>\n",
       "  </thead>\n",
       "  <tbody>\n",
       "    <tr>\n",
       "      <td>0</td>\n",
       "      <td>11786</td>\n",
       "      <td>HABITAT COFFEE SHOP</td>\n",
       "      <td>3708 N EAGLE ROCK BLVD</td>\n",
       "      <td>False</td>\n",
       "      <td>Cafe</td>\n",
       "      <td>26</td>\n",
       "      <td>3708,ROCK</td>\n",
       "      <td>3708 ROCK, Los Angeles,USA</td>\n",
       "      <td>EAGLE ROCK</td>\n",
       "    </tr>\n",
       "    <tr>\n",
       "      <td>1</td>\n",
       "      <td>11787</td>\n",
       "      <td>REILLY'S</td>\n",
       "      <td>100 WORLD WAY # 120</td>\n",
       "      <td>False</td>\n",
       "      <td>Restaurant</td>\n",
       "      <td>9</td>\n",
       "      <td>100,WORLD</td>\n",
       "      <td>100 WORLD, Los Angeles,USA</td>\n",
       "      <td>WORLD</td>\n",
       "    </tr>\n",
       "    <tr>\n",
       "      <td>2</td>\n",
       "      <td>11788</td>\n",
       "      <td>STREET CHURROS</td>\n",
       "      <td>6801 HOLLYWOOD BLVD # 253</td>\n",
       "      <td>False</td>\n",
       "      <td>Fast Food</td>\n",
       "      <td>20</td>\n",
       "      <td>6801,HOLLYWOOD</td>\n",
       "      <td>6801 HOLLYWOOD, Los Angeles,USA</td>\n",
       "      <td>HOLLYWOOD</td>\n",
       "    </tr>\n",
       "    <tr>\n",
       "      <td>3</td>\n",
       "      <td>11789</td>\n",
       "      <td>TRINITI ECHO PARK</td>\n",
       "      <td>1814 W SUNSET BLVD</td>\n",
       "      <td>False</td>\n",
       "      <td>Restaurant</td>\n",
       "      <td>22</td>\n",
       "      <td>1814,SUNSET</td>\n",
       "      <td>1814 SUNSET, Los Angeles,USA</td>\n",
       "      <td>SUNSET</td>\n",
       "    </tr>\n",
       "    <tr>\n",
       "      <td>4</td>\n",
       "      <td>11790</td>\n",
       "      <td>POLLEN</td>\n",
       "      <td>2100 ECHO PARK AVE</td>\n",
       "      <td>False</td>\n",
       "      <td>Restaurant</td>\n",
       "      <td>20</td>\n",
       "      <td>2100,PARK</td>\n",
       "      <td>2100 PARK, Los Angeles,USA</td>\n",
       "      <td>ECHO PARK</td>\n",
       "    </tr>\n",
       "  </tbody>\n",
       "</table>\n",
       "</div>"
      ],
      "text/plain": [
       "      id          object_name                    address  chain object_type  \\\n",
       "0  11786  HABITAT COFFEE SHOP     3708 N EAGLE ROCK BLVD  False        Cafe   \n",
       "1  11787             REILLY'S        100 WORLD WAY # 120  False  Restaurant   \n",
       "2  11788       STREET CHURROS  6801 HOLLYWOOD BLVD # 253  False   Fast Food   \n",
       "3  11789    TRINITI ECHO PARK         1814 W SUNSET BLVD  False  Restaurant   \n",
       "4  11790               POLLEN         2100 ECHO PARK AVE  False  Restaurant   \n",
       "\n",
       "   number clean_street_check               clean_street_final clean_street_tag  \n",
       "0      26          3708,ROCK       3708 ROCK, Los Angeles,USA       EAGLE ROCK  \n",
       "1       9          100,WORLD       100 WORLD, Los Angeles,USA            WORLD  \n",
       "2      20     6801,HOLLYWOOD  6801 HOLLYWOOD, Los Angeles,USA        HOLLYWOOD  \n",
       "3      22        1814,SUNSET     1814 SUNSET, Los Angeles,USA           SUNSET  \n",
       "4      20          2100,PARK       2100 PARK, Los Angeles,USA        ECHO PARK  "
      ]
     },
     "execution_count": 11,
     "metadata": {},
     "output_type": "execute_result"
    }
   ],
   "source": [
    "rest_data['clean_street_tag']=rest_data.address.apply(cleaning_tag)\n",
    "rest_data.head()"
   ]
  },
  {
   "cell_type": "code",
   "execution_count": 12,
   "metadata": {},
   "outputs": [
    {
     "data": {
      "text/plain": [
       "141"
      ]
     },
     "metadata": {},
     "output_type": "display_data"
    },
    {
     "data": {
      "text/plain": [
       "9507"
      ]
     },
     "execution_count": 12,
     "metadata": {},
     "output_type": "execute_result"
    }
   ],
   "source": [
    "def regex_str_col(df, cols):\n",
    "    for col in cols:\n",
    "        df[col] = df[col].str.lower()\n",
    "        df[col] = df[col].replace('[^a-zA-Z0-9 ]', '', regex=True)\n",
    "    return df\n",
    "cols = ['object_name', 'address', 'object_type', 'clean_street_tag']\n",
    "rest_data = regex_str_col(rest_data, cols)\n",
    "dups = rest_data[rest_data.duplicated(subset=['object_name','clean_street_final'])]\n",
    "display(dups.shape[0])\n",
    "rest_data = rest_data.drop_duplicates(subset=['object_name','clean_street_final'], keep='last')\n",
    "rest_data.shape[0]"
   ]
  },
  {
   "cell_type": "markdown",
   "metadata": {},
   "source": [
    "#### Conclusion"
   ]
  },
  {
   "cell_type": "markdown",
   "metadata": {},
   "source": [
    "At this stage, the data file on restaurants in LA was downloaded and stored into the DataFrame. From the received general information about the data we see that the DataFrame consists of 6 columns (of which 4 object type and 2 - int type) and 9651 rows.  I can conclude that the table looks good at first glance, it was necessary to change the data type of the chaun column and in the same column we see the missing values. The address column consists 8517 unique names, and the name column consists 8672 unique names, so I find it necessary to check the DataFrame for duplicates and delete them."
   ]
  },
  {
   "cell_type": "markdown",
   "metadata": {},
   "source": [
    "### Step 2. Data analysis"
   ]
  },
  {
   "cell_type": "markdown",
   "metadata": {},
   "source": [
    "#### 2.1. Investigating the proportions of the various types of establishments"
   ]
  },
  {
   "cell_type": "code",
   "execution_count": 13,
   "metadata": {},
   "outputs": [
    {
     "data": {
      "text/html": [
       "<div>\n",
       "<style scoped>\n",
       "    .dataframe tbody tr th:only-of-type {\n",
       "        vertical-align: middle;\n",
       "    }\n",
       "\n",
       "    .dataframe tbody tr th {\n",
       "        vertical-align: top;\n",
       "    }\n",
       "\n",
       "    .dataframe thead th {\n",
       "        text-align: right;\n",
       "    }\n",
       "</style>\n",
       "<table border=\"1\" class=\"dataframe\">\n",
       "  <thead>\n",
       "    <tr style=\"text-align: right;\">\n",
       "      <th></th>\n",
       "      <th>object_type</th>\n",
       "      <th>count</th>\n",
       "    </tr>\n",
       "  </thead>\n",
       "  <tbody>\n",
       "    <tr>\n",
       "      <td>5</td>\n",
       "      <td>restaurant</td>\n",
       "      <td>7144</td>\n",
       "    </tr>\n",
       "    <tr>\n",
       "      <td>3</td>\n",
       "      <td>fast food</td>\n",
       "      <td>1052</td>\n",
       "    </tr>\n",
       "    <tr>\n",
       "      <td>2</td>\n",
       "      <td>cafe</td>\n",
       "      <td>430</td>\n",
       "    </tr>\n",
       "    <tr>\n",
       "      <td>4</td>\n",
       "      <td>pizza</td>\n",
       "      <td>309</td>\n",
       "    </tr>\n",
       "    <tr>\n",
       "      <td>1</td>\n",
       "      <td>bar</td>\n",
       "      <td>291</td>\n",
       "    </tr>\n",
       "    <tr>\n",
       "      <td>0</td>\n",
       "      <td>bakery</td>\n",
       "      <td>281</td>\n",
       "    </tr>\n",
       "  </tbody>\n",
       "</table>\n",
       "</div>"
      ],
      "text/plain": [
       "  object_type  count\n",
       "5  restaurant   7144\n",
       "3   fast food   1052\n",
       "2        cafe    430\n",
       "4       pizza    309\n",
       "1         bar    291\n",
       "0      bakery    281"
      ]
     },
     "metadata": {},
     "output_type": "display_data"
    }
   ],
   "source": [
    "group_est = rest_data.groupby('object_type', as_index=False).agg({'id':'count'})\n",
    "group_est.columns = ['object_type', 'count']\n",
    "group_est = group_est.sort_values(by='count', ascending=False)\n",
    "display(group_est)"
   ]
  },
  {
   "cell_type": "code",
   "execution_count": 14,
   "metadata": {},
   "outputs": [
    {
     "data": {
      "image/png": "[encoded data removed]",
      "text/plain": [
       "<Figure size 720x720 with 1 Axes>"
      ]
     },
     "metadata": {},
     "output_type": "display_data"
    }
   ],
   "source": [
    "fig, ax = plt.subplots(figsize = (10, 10), facecolor='GhostWhite')\n",
    "font_color = '#3c3c3c'\n",
    "colors = ['#FFE4C4', '#DB7093', '#CD5C5C', '#FFA07A', '#D8BFD8','#88558c']\n",
    "explode = (0.1, 0, 0, 0, 0, 0)  \n",
    "ax.pie(group_est['count'], labels=group_est['object_type'], colors=colors, explode=explode, autopct='%1.0f%%', shadow=True, startangle=True, textprops={'color':font_color})\n",
    "ax.set_title('Distribution of various types of establishments in LA', fontsize=18, color=font_color)\n",
    "plt.show()"
   ]
  },
  {
   "cell_type": "code",
   "execution_count": 15,
   "metadata": {},
   "outputs": [
    {
     "data": {
      "text/plain": [
       "<Figure size 432x288 with 0 Axes>"
      ]
     },
     "metadata": {},
     "output_type": "display_data"
    }
   ],
   "source": [
    "filename = 'establishments'\n",
    "plt.savefig(filename+'.png', facecolor=('#e8f4f0'))"
   ]
  },
  {
   "cell_type": "markdown",
   "metadata": {},
   "source": [
    "As we can conclude from the graph above, in LA the largest number of establishments are restaurants (75% of all establishments). \n",
    "In second place in terms of popularity is fast food (11%) and other types of establishments occupy from 3 to 4.5 %% in the share of all establishments of LA.\n",
    "Based on this data, I can draw several conclusions and suggetions:\n",
    "1. The LA market is oversaturated with restaurant type establishment.\n",
    "2. This establishment is the most popular among visitors.\n",
    "3. This type is the most profitable for establishment owners.\n",
    "For more accurate conclusions we need to make a much deeper analysis of the market.\n",
    "But in any case, the distribution of stablishments is already a good sign, since we plan to open a cafe, and we do not need much competition."
   ]
  },
  {
   "cell_type": "markdown",
   "metadata": {},
   "source": [
    "#### 2.2. Investigating the proportions of chain and nonchain establishments"
   ]
  },
  {
   "cell_type": "code",
   "execution_count": 16,
   "metadata": {},
   "outputs": [
    {
     "data": {
      "text/html": [
       "<div>\n",
       "<style scoped>\n",
       "    .dataframe tbody tr th:only-of-type {\n",
       "        vertical-align: middle;\n",
       "    }\n",
       "\n",
       "    .dataframe tbody tr th {\n",
       "        vertical-align: top;\n",
       "    }\n",
       "\n",
       "    .dataframe thead th {\n",
       "        text-align: right;\n",
       "    }\n",
       "</style>\n",
       "<table border=\"1\" class=\"dataframe\">\n",
       "  <thead>\n",
       "    <tr style=\"text-align: right;\">\n",
       "      <th></th>\n",
       "      <th>count</th>\n",
       "    </tr>\n",
       "    <tr>\n",
       "      <th>chain</th>\n",
       "      <th></th>\n",
       "    </tr>\n",
       "  </thead>\n",
       "  <tbody>\n",
       "    <tr>\n",
       "      <td>False</td>\n",
       "      <td>5957</td>\n",
       "    </tr>\n",
       "    <tr>\n",
       "      <td>True</td>\n",
       "      <td>3550</td>\n",
       "    </tr>\n",
       "  </tbody>\n",
       "</table>\n",
       "</div>"
      ],
      "text/plain": [
       "       count\n",
       "chain       \n",
       "False   5957\n",
       "True    3550"
      ]
     },
     "execution_count": 16,
     "metadata": {},
     "output_type": "execute_result"
    }
   ],
   "source": [
    "chain_nonchain = rest_data.groupby('chain').agg({'id':'count'})\n",
    "chain_nonchain.columns=['count']\n",
    "chain_nonchain"
   ]
  },
  {
   "cell_type": "code",
   "execution_count": 17,
   "metadata": {},
   "outputs": [
    {
     "data": {
      "image/png": "[encoded data removed]",
      "text/plain": [
       "<Figure size 720x720 with 1 Axes>"
      ]
     },
     "metadata": {},
     "output_type": "display_data"
    }
   ],
   "source": [
    "fig, ax = plt.subplots(figsize = (10, 10), facecolor='GhostWhite')\n",
    "font_color = '#3c3c3c'\n",
    "colors = ['#FFE4C4', '#DB7093', '#CD5C5C', '#FFA07A', '#D8BFD8','#88558c']\n",
    "ax.pie(chain_nonchain['count'], labels=chain_nonchain.index, colors=colors, autopct='%1.0f%%', shadow=True, startangle=True, textprops={'color':font_color})\n",
    "ax.set_title('Proportions of chain / non chain establishments of LA', fontsize=18, color=font_color)\n",
    "plt.show()"
   ]
  },
  {
   "cell_type": "markdown",
   "metadata": {},
   "source": [
    "On the graph above we can see the proportion of chain and non chain establishments in LA. From all restaurants 63% are non chain establishments and 37% are chain."
   ]
  },
  {
   "cell_type": "code",
   "execution_count": 18,
   "metadata": {},
   "outputs": [
    {
     "data": {
      "text/html": [
       "<div>\n",
       "<style scoped>\n",
       "    .dataframe tbody tr th:only-of-type {\n",
       "        vertical-align: middle;\n",
       "    }\n",
       "\n",
       "    .dataframe tbody tr th {\n",
       "        vertical-align: top;\n",
       "    }\n",
       "\n",
       "    .dataframe thead th {\n",
       "        text-align: right;\n",
       "    }\n",
       "</style>\n",
       "<table border=\"1\" class=\"dataframe\">\n",
       "  <thead>\n",
       "    <tr style=\"text-align: right;\">\n",
       "      <th></th>\n",
       "      <th>non_chain</th>\n",
       "      <th>chain</th>\n",
       "      <th>chain_prop,%</th>\n",
       "    </tr>\n",
       "    <tr>\n",
       "      <th>object_type</th>\n",
       "      <th></th>\n",
       "      <th></th>\n",
       "      <th></th>\n",
       "    </tr>\n",
       "  </thead>\n",
       "  <tbody>\n",
       "    <tr>\n",
       "      <td>bakery</td>\n",
       "      <td>0</td>\n",
       "      <td>281</td>\n",
       "      <td>100.000000</td>\n",
       "    </tr>\n",
       "    <tr>\n",
       "      <td>bar</td>\n",
       "      <td>215</td>\n",
       "      <td>76</td>\n",
       "      <td>26.116838</td>\n",
       "    </tr>\n",
       "    <tr>\n",
       "      <td>cafe</td>\n",
       "      <td>168</td>\n",
       "      <td>262</td>\n",
       "      <td>60.930233</td>\n",
       "    </tr>\n",
       "    <tr>\n",
       "      <td>fast food</td>\n",
       "      <td>460</td>\n",
       "      <td>592</td>\n",
       "      <td>56.273764</td>\n",
       "    </tr>\n",
       "    <tr>\n",
       "      <td>pizza</td>\n",
       "      <td>166</td>\n",
       "      <td>143</td>\n",
       "      <td>46.278317</td>\n",
       "    </tr>\n",
       "    <tr>\n",
       "      <td>restaurant</td>\n",
       "      <td>4948</td>\n",
       "      <td>2196</td>\n",
       "      <td>30.739082</td>\n",
       "    </tr>\n",
       "  </tbody>\n",
       "</table>\n",
       "</div>"
      ],
      "text/plain": [
       "             non_chain  chain  chain_prop,%\n",
       "object_type                                \n",
       "bakery               0    281    100.000000\n",
       "bar                215     76     26.116838\n",
       "cafe               168    262     60.930233\n",
       "fast food          460    592     56.273764\n",
       "pizza              166    143     46.278317\n",
       "restaurant        4948   2196     30.739082"
      ]
     },
     "metadata": {},
     "output_type": "display_data"
    }
   ],
   "source": [
    "est_chain_stat = rest_data.pivot_table(index='object_type', columns='chain', values='id', aggfunc='nunique')\n",
    "est_chain_stat.columns = ['non_chain', 'chain']\n",
    "\n",
    "est_chain_stat = est_chain_stat.fillna('0').astype(int)\n",
    "est_chain_stat['chain_prop,%'] = est_chain_stat['chain']/(est_chain_stat['non_chain']+est_chain_stat['chain'])*100\n",
    "display(est_chain_stat)"
   ]
  },
  {
   "cell_type": "code",
   "execution_count": 19,
   "metadata": {},
   "outputs": [
    {
     "data": {
      "image/png": "[encoded data removed]",
      "text/plain": [
       "<Figure size 720x576 with 1 Axes>"
      ]
     },
     "metadata": {
      "needs_background": "light"
     },
     "output_type": "display_data"
    }
   ],
   "source": [
    "plt.figure(figsize=(10, 8))\n",
    "sns.set_style('darkgrid')\n",
    "ax=sns.barplot(x=est_chain_stat.index, y='chain_prop,%', data = est_chain_stat, palette=\"magma\")\n",
    "\n",
    "plt.title('Proportion of chain and non chain establishments',fontdict={'size':15})    \n",
    "plt.ylabel(\"Chain proportion,%\",fontdict={'size':12})\n",
    "plt.xlabel(\"Type of establishment\",fontdict={'size':12})\n",
    "plt.show()"
   ]
  },
  {
   "cell_type": "markdown",
   "metadata": {},
   "source": [
    "As we can see from the diagramms above, the bakery establishments are typically a chain (all investigated bakeries are chain). Also we see, that 60% of cafe-type establishments, asa well as 56% of fast foods are also chain-type establishments, in a further study we will find out how this results turns out to be on the number of seats in these type establishments. As for restaurants, only 30% of this type are chain.\n"
   ]
  },
  {
   "cell_type": "code",
   "execution_count": 20,
   "metadata": {},
   "outputs": [
    {
     "data": {
      "text/html": [
       "<div>\n",
       "<style scoped>\n",
       "    .dataframe tbody tr th:only-of-type {\n",
       "        vertical-align: middle;\n",
       "    }\n",
       "\n",
       "    .dataframe tbody tr th {\n",
       "        vertical-align: top;\n",
       "    }\n",
       "\n",
       "    .dataframe thead th {\n",
       "        text-align: right;\n",
       "    }\n",
       "</style>\n",
       "<table border=\"1\" class=\"dataframe\">\n",
       "  <thead>\n",
       "    <tr style=\"text-align: right;\">\n",
       "      <th></th>\n",
       "      <th>chain</th>\n",
       "      <th>count</th>\n",
       "      <th>seats</th>\n",
       "    </tr>\n",
       "    <tr>\n",
       "      <th>object_name</th>\n",
       "      <th></th>\n",
       "      <th></th>\n",
       "      <th></th>\n",
       "    </tr>\n",
       "  </thead>\n",
       "  <tbody>\n",
       "    <tr>\n",
       "      <td>1 cafe</td>\n",
       "      <td>False</td>\n",
       "      <td>1</td>\n",
       "      <td>4.0</td>\n",
       "    </tr>\n",
       "    <tr>\n",
       "      <td>1 chinese fast food</td>\n",
       "      <td>True</td>\n",
       "      <td>1</td>\n",
       "      <td>6.0</td>\n",
       "    </tr>\n",
       "    <tr>\n",
       "      <td>1 donut</td>\n",
       "      <td>False</td>\n",
       "      <td>1</td>\n",
       "      <td>21.0</td>\n",
       "    </tr>\n",
       "    <tr>\n",
       "      <td>1 donuts</td>\n",
       "      <td>False</td>\n",
       "      <td>1</td>\n",
       "      <td>25.0</td>\n",
       "    </tr>\n",
       "    <tr>\n",
       "      <td>1 street poolbillard parlor</td>\n",
       "      <td>False</td>\n",
       "      <td>1</td>\n",
       "      <td>9.0</td>\n",
       "    </tr>\n",
       "    <tr>\n",
       "      <td>...</td>\n",
       "      <td>...</td>\n",
       "      <td>...</td>\n",
       "      <td>...</td>\n",
       "    </tr>\n",
       "    <tr>\n",
       "      <td>zulys 99 and up discount</td>\n",
       "      <td>False</td>\n",
       "      <td>1</td>\n",
       "      <td>10.0</td>\n",
       "    </tr>\n",
       "    <tr>\n",
       "      <td>zuma kitchen</td>\n",
       "      <td>False</td>\n",
       "      <td>1</td>\n",
       "      <td>98.0</td>\n",
       "    </tr>\n",
       "    <tr>\n",
       "      <td>zweet cafe</td>\n",
       "      <td>False</td>\n",
       "      <td>1</td>\n",
       "      <td>15.0</td>\n",
       "    </tr>\n",
       "    <tr>\n",
       "      <td>zwonny kitchen inc</td>\n",
       "      <td>False</td>\n",
       "      <td>1</td>\n",
       "      <td>35.0</td>\n",
       "    </tr>\n",
       "    <tr>\n",
       "      <td>zzamong</td>\n",
       "      <td>False</td>\n",
       "      <td>1</td>\n",
       "      <td>46.0</td>\n",
       "    </tr>\n",
       "  </tbody>\n",
       "</table>\n",
       "<p>8625 rows × 3 columns</p>\n",
       "</div>"
      ],
      "text/plain": [
       "                             chain  count  seats\n",
       "object_name                                     \n",
       "1 cafe                       False      1    4.0\n",
       "1 chinese fast food           True      1    6.0\n",
       "1 donut                      False      1   21.0\n",
       "1 donuts                     False      1   25.0\n",
       "1 street poolbillard parlor  False      1    9.0\n",
       "...                            ...    ...    ...\n",
       "zulys 99 and up discount     False      1   10.0\n",
       "zuma kitchen                 False      1   98.0\n",
       "zweet cafe                   False      1   15.0\n",
       "zwonny kitchen inc           False      1   35.0\n",
       "zzamong                      False      1   46.0\n",
       "\n",
       "[8625 rows x 3 columns]"
      ]
     },
     "execution_count": 20,
     "metadata": {},
     "output_type": "execute_result"
    }
   ],
   "source": [
    "branches_grouped = rest_data.groupby(['object_name']).agg({'chain':'first', 'object_name':'count', 'number':'mean'})\n",
    "branches_grouped.columns=['chain', 'count', 'seats']\n",
    "branches_grouped"
   ]
  },
  {
   "cell_type": "code",
   "execution_count": 21,
   "metadata": {},
   "outputs": [
    {
     "data": {
      "image/png": "[encoded data removed]",
      "text/plain": [
       "<Figure size 720x576 with 1 Axes>"
      ]
     },
     "metadata": {},
     "output_type": "display_data"
    }
   ],
   "source": [
    "plt.figure(figsize=(10, 8))\n",
    "sns.set_style('darkgrid')\n",
    "\n",
    "sns.scatterplot(data=branches_grouped, x='seats', y='count', hue='chain', palette=\"magma\")\n",
    "\n",
    "plt.title('Distribution of branches by number of seats',fontdict={'size':15})    \n",
    "plt.ylabel(\"Number of restaurants\",fontdict={'size':12})\n",
    "plt.xlabel(\"Number of seats\",fontdict={'size':12})\n",
    "plt.show()"
   ]
  },
  {
   "cell_type": "markdown",
   "metadata": {},
   "source": [
    "On the graph above we can see the distribution of branches by number of seats. We can conclude that more chain establishments have up to 50 seats in their restaurants. Only one chain with more than 10 establishments has more than seats. Also we see the maximum number of seats at non-chain establishments, or at chains that include 2-3 establishments."
   ]
  },
  {
   "cell_type": "markdown",
   "metadata": {},
   "source": [
    "#### 2.3. Determining the average number of seats for each type of restaurant."
   ]
  },
  {
   "cell_type": "code",
   "execution_count": 22,
   "metadata": {},
   "outputs": [
    {
     "data": {
      "image/png": "[encoded data removed]",
      "text/plain": [
       "<Figure size 720x576 with 1 Axes>"
      ]
     },
     "metadata": {},
     "output_type": "display_data"
    }
   ],
   "source": [
    "plt.figure(figsize=(10, 8))\n",
    "sns.set_style('darkgrid')\n",
    "ax=sns.barplot(x=rest_data.object_type, y=rest_data.number,hue=rest_data.chain,palette=\"magma\",ci=None)\n",
    "for p in ax.patches:\n",
    "    ax.annotate(format(p.get_height(),'.0f'),\n",
    "                (p.get_x() + p.get_width() / 2, p.get_height()), \n",
    "                ha = 'center', va = 'center', \n",
    "                xytext = (0, 9), \n",
    "                textcoords = 'offset points')\n",
    "plt.title('Average Number of Sits',fontdict={'size':15})    \n",
    "plt.ylabel(\"Number Of Seats\",fontdict={'size':12})\n",
    "plt.xlabel(\"Type Of Restaurant\",fontdict={'size':12})\n",
    "plt.show()"
   ]
  },
  {
   "cell_type": "markdown",
   "metadata": {},
   "source": [
    "On the graph above we examined the difference in the number of seats between chain and non chain establishments by type of establishment. On average, chain establishments provide 5 more seats than non-chain ones. \n",
    "The only exception is fast-food, were, on average, the number of seats in non-chain establishments is much higher."
   ]
  },
  {
   "cell_type": "markdown",
   "metadata": {},
   "source": [
    "#### 2.4. The most popular streets by number of restaurants and the streets that only have one restaurant."
   ]
  },
  {
   "cell_type": "code",
   "execution_count": 23,
   "metadata": {},
   "outputs": [
    {
     "data": {
      "text/html": [
       "<div>\n",
       "<style scoped>\n",
       "    .dataframe tbody tr th:only-of-type {\n",
       "        vertical-align: middle;\n",
       "    }\n",
       "\n",
       "    .dataframe tbody tr th {\n",
       "        vertical-align: top;\n",
       "    }\n",
       "\n",
       "    .dataframe thead th {\n",
       "        text-align: right;\n",
       "    }\n",
       "</style>\n",
       "<table border=\"1\" class=\"dataframe\">\n",
       "  <thead>\n",
       "    <tr style=\"text-align: right;\">\n",
       "      <th></th>\n",
       "      <th>street</th>\n",
       "      <th>count</th>\n",
       "    </tr>\n",
       "  </thead>\n",
       "  <tbody>\n",
       "    <tr>\n",
       "      <td>415</td>\n",
       "      <td>sunset</td>\n",
       "      <td>400</td>\n",
       "    </tr>\n",
       "    <tr>\n",
       "      <td>465</td>\n",
       "      <td>wilshire</td>\n",
       "      <td>392</td>\n",
       "    </tr>\n",
       "    <tr>\n",
       "      <td>357</td>\n",
       "      <td>pico</td>\n",
       "      <td>365</td>\n",
       "    </tr>\n",
       "    <tr>\n",
       "      <td>455</td>\n",
       "      <td>western</td>\n",
       "      <td>360</td>\n",
       "    </tr>\n",
       "    <tr>\n",
       "      <td>176</td>\n",
       "      <td>figueroa</td>\n",
       "      <td>327</td>\n",
       "    </tr>\n",
       "    <tr>\n",
       "      <td>339</td>\n",
       "      <td>olympic</td>\n",
       "      <td>304</td>\n",
       "    </tr>\n",
       "    <tr>\n",
       "      <td>439</td>\n",
       "      <td>vermont</td>\n",
       "      <td>283</td>\n",
       "    </tr>\n",
       "    <tr>\n",
       "      <td>387</td>\n",
       "      <td>santa monica</td>\n",
       "      <td>261</td>\n",
       "    </tr>\n",
       "    <tr>\n",
       "      <td>25</td>\n",
       "      <td>3rd</td>\n",
       "      <td>260</td>\n",
       "    </tr>\n",
       "    <tr>\n",
       "      <td>221</td>\n",
       "      <td>hollywood</td>\n",
       "      <td>252</td>\n",
       "    </tr>\n",
       "  </tbody>\n",
       "</table>\n",
       "</div>"
      ],
      "text/plain": [
       "           street  count\n",
       "415        sunset    400\n",
       "465      wilshire    392\n",
       "357          pico    365\n",
       "455       western    360\n",
       "176      figueroa    327\n",
       "339       olympic    304\n",
       "439       vermont    283\n",
       "387  santa monica    261\n",
       "25            3rd    260\n",
       "221     hollywood    252"
      ]
     },
     "execution_count": 23,
     "metadata": {},
     "output_type": "execute_result"
    }
   ],
   "source": [
    "top_streets = rest_data.groupby('clean_street_tag', as_index=False).agg({'id':'count'})\n",
    "top_streets.columns = ['street', 'count']\n",
    "top_streets = top_streets.sort_values(by='count', ascending=False)\n",
    "top10 = top_streets.nlargest(10, 'count')\n",
    "top10"
   ]
  },
  {
   "cell_type": "code",
   "execution_count": 24,
   "metadata": {},
   "outputs": [
    {
     "data": {
      "image/png": "[encoded data removed]",
      "text/plain": [
       "<Figure size 720x576 with 1 Axes>"
      ]
     },
     "metadata": {},
     "output_type": "display_data"
    }
   ],
   "source": [
    "plt.figure(figsize=(10, 8))\n",
    "sns.set_style('darkgrid')\n",
    "ax=sns.barplot(x='street', y='count', data = top10, palette=\"magma\")\n",
    "\n",
    "plt.title('Top 10 Streets by the Number of Restaurants',fontdict={'size':15})    \n",
    "plt.ylabel(\"Number of Restaurants\",fontdict={'size':12})\n",
    "plt.xlabel(\"Street\",fontdict={'size':12})\n",
    "plt.show()"
   ]
  },
  {
   "cell_type": "code",
   "execution_count": 25,
   "metadata": {},
   "outputs": [
    {
     "name": "stdout",
     "output_type": "stream",
     "text": [
      "The number of streets in LA with only one restaurant is  195\n"
     ]
    }
   ],
   "source": [
    "streets_one_rest = top_streets[top_streets['count'] == 1]\n",
    "print('The number of streets in LA with only one restaurant is ', streets_one_rest.shape[0])"
   ]
  },
  {
   "cell_type": "markdown",
   "metadata": {},
   "source": [
    "From the investigation above we can conclude that the largest number of restaurants is on Sunset street, which is not surprising, it is one of the most popular walking streets LA with a rich nightlife.\n",
    "\n",
    "Wilshire Boulevard and Pico Boulevard are the major LA streets with business districts, shopping areas, museums and hotels and there are on second and third place on our rate.\n",
    "\n",
    "The number of streets in LA with only one restaurant is  195. Maybe teare are shorts or non popular streets."
   ]
  },
  {
   "cell_type": "markdown",
   "metadata": {},
   "source": [
    "#### 2.5.The distribution of the number of seats  for streets with a lot of restaurants."
   ]
  },
  {
   "cell_type": "code",
   "execution_count": 26,
   "metadata": {},
   "outputs": [
    {
     "data": {
      "text/html": [
       "<div>\n",
       "<style scoped>\n",
       "    .dataframe tbody tr th:only-of-type {\n",
       "        vertical-align: middle;\n",
       "    }\n",
       "\n",
       "    .dataframe tbody tr th {\n",
       "        vertical-align: top;\n",
       "    }\n",
       "\n",
       "    .dataframe thead th {\n",
       "        text-align: right;\n",
       "    }\n",
       "</style>\n",
       "<table border=\"1\" class=\"dataframe\">\n",
       "  <thead>\n",
       "    <tr style=\"text-align: right;\">\n",
       "      <th></th>\n",
       "      <th>id</th>\n",
       "      <th>object_name</th>\n",
       "      <th>address</th>\n",
       "      <th>chain</th>\n",
       "      <th>object_type</th>\n",
       "      <th>number</th>\n",
       "      <th>clean_street_check</th>\n",
       "      <th>clean_street_final</th>\n",
       "      <th>clean_street_tag</th>\n",
       "    </tr>\n",
       "  </thead>\n",
       "  <tbody>\n",
       "    <tr>\n",
       "      <td>2</td>\n",
       "      <td>11788</td>\n",
       "      <td>street churros</td>\n",
       "      <td>6801 hollywood blvd  253</td>\n",
       "      <td>False</td>\n",
       "      <td>fast food</td>\n",
       "      <td>20</td>\n",
       "      <td>6801,HOLLYWOOD</td>\n",
       "      <td>6801 HOLLYWOOD, Los Angeles,USA</td>\n",
       "      <td>hollywood</td>\n",
       "    </tr>\n",
       "    <tr>\n",
       "      <td>3</td>\n",
       "      <td>11789</td>\n",
       "      <td>triniti echo park</td>\n",
       "      <td>1814 w sunset blvd</td>\n",
       "      <td>False</td>\n",
       "      <td>restaurant</td>\n",
       "      <td>22</td>\n",
       "      <td>1814,SUNSET</td>\n",
       "      <td>1814 SUNSET, Los Angeles,USA</td>\n",
       "      <td>sunset</td>\n",
       "    </tr>\n",
       "    <tr>\n",
       "      <td>10</td>\n",
       "      <td>11796</td>\n",
       "      <td>el pollo loco</td>\n",
       "      <td>5319 w sunset blvd</td>\n",
       "      <td>True</td>\n",
       "      <td>restaurant</td>\n",
       "      <td>38</td>\n",
       "      <td>5319,SUNSET</td>\n",
       "      <td>5319 SUNSET, Los Angeles,USA</td>\n",
       "      <td>sunset</td>\n",
       "    </tr>\n",
       "    <tr>\n",
       "      <td>11</td>\n",
       "      <td>11797</td>\n",
       "      <td>poong nyun bakery</td>\n",
       "      <td>928 s western ave ste 109</td>\n",
       "      <td>True</td>\n",
       "      <td>bakery</td>\n",
       "      <td>17</td>\n",
       "      <td>928,WESTERN</td>\n",
       "      <td>928 WESTERN, Los Angeles,USA</td>\n",
       "      <td>western</td>\n",
       "    </tr>\n",
       "    <tr>\n",
       "      <td>14</td>\n",
       "      <td>11800</td>\n",
       "      <td>cuscatleca bakery</td>\n",
       "      <td>2501 w sunset blvd a</td>\n",
       "      <td>True</td>\n",
       "      <td>bakery</td>\n",
       "      <td>26</td>\n",
       "      <td>2501,SUNSET</td>\n",
       "      <td>2501 SUNSET, Los Angeles,USA</td>\n",
       "      <td>sunset</td>\n",
       "    </tr>\n",
       "  </tbody>\n",
       "</table>\n",
       "</div>"
      ],
      "text/plain": [
       "       id        object_name                    address  chain object_type  \\\n",
       "2   11788     street churros   6801 hollywood blvd  253  False   fast food   \n",
       "3   11789  triniti echo park         1814 w sunset blvd  False  restaurant   \n",
       "10  11796      el pollo loco         5319 w sunset blvd   True  restaurant   \n",
       "11  11797  poong nyun bakery  928 s western ave ste 109   True      bakery   \n",
       "14  11800  cuscatleca bakery       2501 w sunset blvd a   True      bakery   \n",
       "\n",
       "    number clean_street_check               clean_street_final  \\\n",
       "2       20     6801,HOLLYWOOD  6801 HOLLYWOOD, Los Angeles,USA   \n",
       "3       22        1814,SUNSET     1814 SUNSET, Los Angeles,USA   \n",
       "10      38        5319,SUNSET     5319 SUNSET, Los Angeles,USA   \n",
       "11      17        928,WESTERN     928 WESTERN, Los Angeles,USA   \n",
       "14      26        2501,SUNSET     2501 SUNSET, Los Angeles,USA   \n",
       "\n",
       "   clean_street_tag  \n",
       "2         hollywood  \n",
       "3            sunset  \n",
       "10           sunset  \n",
       "11          western  \n",
       "14           sunset  "
      ]
     },
     "execution_count": 26,
     "metadata": {},
     "output_type": "execute_result"
    }
   ],
   "source": [
    "top10_seats = rest_data[rest_data['clean_street_tag'].isin(('sunset', 'wilshire', 'pico', 'western', 'figueroa', 'olympic', 'vermont', 'santa monica', '3rd', 'hollywood'))]\n",
    "top10_seats.head()"
   ]
  },
  {
   "cell_type": "code",
   "execution_count": 27,
   "metadata": {},
   "outputs": [
    {
     "data": {
      "image/png": "[encoded data removed]",
      "text/plain": [
       "<Figure size 720x576 with 1 Axes>"
      ]
     },
     "metadata": {},
     "output_type": "display_data"
    }
   ],
   "source": [
    "plt.figure(figsize=(10, 8))\n",
    "sns.set_style('darkgrid')\n",
    "sns.stripplot(x=\"object_type\", y=\"number\", data=top10_seats, palette='magma')\n",
    "plt.title('Distribution of the number of seats on the most popular streets',fontdict={'size':15})    \n",
    "plt.ylabel(\"Number of seats\",fontdict={'size':12})\n",
    "plt.xlabel(\"Object type\",fontdict={'size':12})\n",
    "plt.show()"
   ]
  },
  {
   "cell_type": "markdown",
   "metadata": {},
   "source": [
    "The graph above shows the distribution of establishments by number of seats and type of establishment.\n",
    "As we can see, the number of seats in most establishmentsvaries from 0 to 50. \n",
    "And I see a very interesting observation that in all types of establishments there is a gap between 50 and 60 seats, we can quite clearly see this feature in restaurant type establishments. It is also unusual to have establishments with a minimum number of seats, but if this is undersandable in such stablishents as fast food, pizza and bakery (since these astablishments often work with takeaway food), then as for restaurant, for example, it is hard for me to explain this feature. Perhaps this is due to incorrectly collected data.\n",
    "\n",
    "As for the upper limit in terms of the number of seats, the clear leader is the type restaurant, where a fairly large number of establishments have more than 150 seats. Most likely this is due to the purpose of the restaurants, where customers come to enjoy the food and the atmosphere, usually they do not rush anywhere and spend a lot of time."
   ]
  },
  {
   "cell_type": "markdown",
   "metadata": {},
   "source": [
    "#### 2.6. Conclusion"
   ]
  },
  {
   "cell_type": "markdown",
   "metadata": {},
   "source": [
    "In conclusion, I propose to choose the type of establishment and its location based on the research of the Los Angeles establishment market. To begin with, we will choose a location for opening uor establishment, as I believe that the correct placement is the key to success in the restaurant business. \n",
    "I propose to place the new robot cafe on one of the most popular and most visited streets in order to get a quick return on our investment - Sunset Boulevard. This street is long and crosses popular tourist areas such as Beverly Hills and Hollywood. It is the one of the most recognizable and famous streets in Los Angeles.\n",
    "\n",
    "Robot cafe is a new trend that quickly captures the market, therefore, from the point of view of competitiveness, this idea is quite attractive. We need only to run an specific advertising campaign to attract new customers.\n",
    "\n",
    "In the future, when the cafe buys most of the investments, I propose to make a chain of our robot cafes by focusing on popular streets and also make a detailed analysis of the streets with only one or few establishments. And if it will be need to open an additional one we can do it.\n",
    "\n",
    "If we consider the type of establishment, I would choose to open a cafe with about 50 seats. As we can see in our research, this is a small segment in the Los Angeles establishment market and basically the number of seats in this type of establishment is about 25.\n",
    "Thus, we will bring our cafes to a new level, it will be not only unique in terms of service methods, but also in terms of the establishment itself."
   ]
  },
  {
   "cell_type": "markdown",
   "metadata": {},
   "source": [
    "### Step 3. Preparing a presentation"
   ]
  },
  {
   "cell_type": "markdown",
   "metadata": {},
   "source": [
    "#### Here is a presentation of my research to share with investors"
   ]
  },
  {
   "cell_type": "markdown",
   "metadata": {},
   "source": [
    "Presentation: <link to cloud storage>"
   ]
  },
  {
   "cell_type": "markdown",
   "metadata": {
    "pycharm": {
     "name": "#%% md\n"
    }
   },
   "source": [
    "https://1drv.ms/p/s!Al1sIlAZhVX1kSSLdzpucEhrXUQH?e=SZz490\n",
    "\n",
    "\n"
   ]
  }
 ],
 "metadata": {
  "ExecuteTimeLog": [
   {
    "duration": 112,
    "start_time": "2021-07-27T08:42:58.021Z"
   },
   {
    "duration": 5596,
    "start_time": "2021-07-27T08:42:58.136Z"
   },
   {
    "duration": 1671,
    "start_time": "2021-07-27T08:43:03.736Z"
   },
   {
    "duration": 94,
    "start_time": "2021-07-27T08:43:05.410Z"
   },
   {
    "duration": 11,
    "start_time": "2021-07-27T08:43:05.508Z"
   },
   {
    "duration": 6,
    "start_time": "2021-07-27T08:43:05.521Z"
   },
   {
    "duration": 2123,
    "start_time": "2021-07-27T08:43:05.530Z"
   },
   {
    "duration": 6,
    "start_time": "2021-07-27T08:43:07.655Z"
   },
   {
    "duration": 2124,
    "start_time": "2021-07-27T08:43:07.664Z"
   },
   {
    "duration": 5,
    "start_time": "2021-07-27T08:43:09.791Z"
   },
   {
    "duration": 2204,
    "start_time": "2021-07-27T08:43:09.798Z"
   },
   {
    "duration": 94,
    "start_time": "2021-07-27T08:43:12.005Z"
   },
   {
    "duration": 15,
    "start_time": "2021-07-27T08:43:12.102Z"
   },
   {
    "duration": 303,
    "start_time": "2021-07-27T08:43:12.119Z"
   },
   {
    "duration": 146,
    "start_time": "2021-07-27T08:43:12.424Z"
   },
   {
    "duration": 11,
    "start_time": "2021-07-27T08:43:12.573Z"
   },
   {
    "duration": 242,
    "start_time": "2021-07-27T08:43:12.587Z"
   },
   {
    "duration": 40,
    "start_time": "2021-07-27T08:43:12.831Z"
   },
   {
    "duration": 424,
    "start_time": "2021-07-27T08:43:12.883Z"
   },
   {
    "duration": 30,
    "start_time": "2021-07-27T08:43:13.310Z"
   },
   {
    "duration": 1197,
    "start_time": "2021-07-27T08:43:13.343Z"
   },
   {
    "duration": 474,
    "start_time": "2021-07-27T08:43:14.542Z"
   },
   {
    "duration": 19,
    "start_time": "2021-07-27T08:43:15.018Z"
   },
   {
    "duration": 580,
    "start_time": "2021-07-27T08:43:15.039Z"
   },
   {
    "duration": 7,
    "start_time": "2021-07-27T08:43:15.621Z"
   },
   {
    "duration": 28,
    "start_time": "2021-07-27T08:43:15.631Z"
   },
   {
    "duration": 569,
    "start_time": "2021-07-27T08:43:15.663Z"
   }
  ],
  "kernelspec": {
   "display_name": "Python 3",
   "language": "python",
   "name": "python3"
  },
  "language_info": {
   "codemirror_mode": {
    "name": "ipython",
    "version": 3
   },
   "file_extension": ".py",
   "mimetype": "text/x-python",
   "name": "python",
   "nbconvert_exporter": "python",
   "pygments_lexer": "ipython3",
   "version": "3.7.8"
  },
  "toc": {
   "base_numbering": 1,
   "nav_menu": {},
   "number_sections": false,
   "sideBar": true,
   "skip_h1_title": true,
   "title_cell": "Table of Contents",
   "title_sidebar": "Contents",
   "toc_cell": false,
   "toc_position": {
    "height": "calc(100% - 180px)",
    "left": "10px",
    "top": "150px",
    "width": "366.391px"
   },
   "toc_section_display": true,
   "toc_window_display": true
  }
 },
 "nbformat": 4,
 "nbformat_minor": 2
}