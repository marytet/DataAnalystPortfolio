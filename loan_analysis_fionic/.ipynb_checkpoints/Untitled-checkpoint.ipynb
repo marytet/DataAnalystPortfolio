{
 "cells": [
  {
   "cell_type": "markdown",
   "metadata": {},
   "source": [
    "# The goal of the project\n",
    "### Based on analytic data on "
   ]
  },
  {
   "cell_type": "markdown",
   "metadata": {},
   "source": [
    "### Table of Contents\n",
    "\n",
    "* [Step 1. Load the data for loan and study the general information](#1)\n",
    "* [Step 2. Data preprocessing](#2)\n",
    "* [Step 3. Carry out exploratory data analysis (EDA)](#3)\n",
    "    * [3.1. Descriptive analytics](#3_1)\n",
    "    * [3.2. Calculate additional metrics for loan analysis](#3_2)\n",
    "* [Step 4. Analyze and visualize loan performance over time (annually/monthly)](#4)\n",
    "* [Step 5. Late borrowers analysis](#5)\n",
    "* [Step 6. Determining trends in default rates over time](#6)\n",
    "* [Step 7. How has loan size changed over the years? What impact did it have on loan performance?](#7)\n",
    "* [Step 8. The seasonality in loan performance over the course of a year](#8)\n",
    "* [Step 9. You can request an additional data point. Which attribute will you ask for in order to accurately predict the default rate?](#9)\n",
    "* [Step 10. Analyze returning borrowers and provide insights regarding their behavior](#10)\n",
    "* [Conclusions and basic recommendations](#11)"
   ]
  },
  {
   "cell_type": "code",
   "execution_count": 208,
   "metadata": {},
   "outputs": [],
   "source": [
    "#import necessary libraries\n",
    "\n",
    "import pandas as pd\n",
    "\n",
    "from scipy import stats\n",
    "import numpy as np\n",
    "from numpy import unique\n",
    "from numpy import where\n",
    "import math\n",
    "\n",
    "from io import BytesIO\n",
    "import requests\n",
    "\n",
    "import datetime\n",
    "from datetime import datetime\n",
    "\n",
    "from plotly import express as px\n",
    "import plotly.graph_objects as go\n",
    "import matplotlib.pyplot as plt\n",
    "import plotly.offline as pyoff\n",
    "import plotly as py\n",
    "import seaborn as sns"
   ]
  },
  {
   "cell_type": "code",
   "execution_count": 209,
   "metadata": {},
   "outputs": [],
   "source": [
    "#ignore warnings\n",
    "\n",
    "import sys\n",
    "import warnings\n",
    "if not sys.warnoptions:\n",
    "       warnings.simplefilter(\"ignore\")"
   ]
  },
  {
   "cell_type": "markdown",
   "metadata": {},
   "source": [
    "## Step 1. Load the data for loan and study the general information\n",
    "<a class=\"anchor\" id=\"1\"></a>"
   ]
  },
  {
   "cell_type": "code",
   "execution_count": 210,
   "metadata": {},
   "outputs": [],
   "source": [
    "#download dataset from Google Spreadsheet\n",
    "\n",
    "spreadsheet_id = '1u93W9I3NEAwxp5ImqaZ2B6LjGaFI_AZceD6b-QBcKNc'\n",
    "file_name = 'https://docs.google.com/spreadsheets/d/{}/export?format=csv'.format(spreadsheet_id)\n",
    "r = requests.get(file_name)\n",
    "data= pd.read_csv(BytesIO(r.content))"
   ]
  },
  {
   "cell_type": "code",
   "execution_count": 211,
   "metadata": {},
   "outputs": [
    {
     "data": {
      "text/html": [
       "<div>\n",
       "<style scoped>\n",
       "    .dataframe tbody tr th:only-of-type {\n",
       "        vertical-align: middle;\n",
       "    }\n",
       "\n",
       "    .dataframe tbody tr th {\n",
       "        vertical-align: top;\n",
       "    }\n",
       "\n",
       "    .dataframe thead th {\n",
       "        text-align: right;\n",
       "    }\n",
       "</style>\n",
       "<table border=\"1\" class=\"dataframe\">\n",
       "  <thead>\n",
       "    <tr style=\"text-align: right;\">\n",
       "      <th></th>\n",
       "      <th>Snapshot Date</th>\n",
       "      <th>Borrower ID</th>\n",
       "      <th>Loan ID</th>\n",
       "      <th>Disbursal date</th>\n",
       "      <th>Original Loan Amount</th>\n",
       "      <th>Principal Collected</th>\n",
       "      <th>Interest Collected</th>\n",
       "      <th>Term in months</th>\n",
       "      <th>Yearly interest rate</th>\n",
       "      <th>Latest Status</th>\n",
       "      <th>PostCode</th>\n",
       "      <th>Balance</th>\n",
       "      <th>Months duration</th>\n",
       "    </tr>\n",
       "  </thead>\n",
       "  <tbody>\n",
       "    <tr>\n",
       "      <th>0</th>\n",
       "      <td>2020-04-01</td>\n",
       "      <td>KCZ0hABC</td>\n",
       "      <td>KEG5Zcm</td>\n",
       "      <td>2009/12/01</td>\n",
       "      <td>12120.0</td>\n",
       "      <td>12120.000000</td>\n",
       "      <td>1433.160000</td>\n",
       "      <td>36.0</td>\n",
       "      <td>0.0872</td>\n",
       "      <td>Completed</td>\n",
       "      <td>D</td>\n",
       "      <td>0.0</td>\n",
       "      <td>18.0</td>\n",
       "    </tr>\n",
       "    <tr>\n",
       "      <th>1</th>\n",
       "      <td>2020-04-01</td>\n",
       "      <td>Kbzjqk1X</td>\n",
       "      <td>K/eXt8O</td>\n",
       "      <td>2010/01/12</td>\n",
       "      <td>3120.0</td>\n",
       "      <td>3120.000000</td>\n",
       "      <td>351.840000</td>\n",
       "      <td>36.0</td>\n",
       "      <td>0.0786</td>\n",
       "      <td>Completed</td>\n",
       "      <td>0</td>\n",
       "      <td>0.0</td>\n",
       "      <td>18.0</td>\n",
       "    </tr>\n",
       "    <tr>\n",
       "      <th>2</th>\n",
       "      <td>2020-04-01</td>\n",
       "      <td>KpImAAXO</td>\n",
       "      <td>KHAjSlB</td>\n",
       "      <td>2009/11/17</td>\n",
       "      <td>1120.0</td>\n",
       "      <td>1120.000000</td>\n",
       "      <td>141.550000</td>\n",
       "      <td>36.0</td>\n",
       "      <td>0.1007</td>\n",
       "      <td>Completed</td>\n",
       "      <td>H</td>\n",
       "      <td>0.0</td>\n",
       "      <td>18.0</td>\n",
       "    </tr>\n",
       "    <tr>\n",
       "      <th>3</th>\n",
       "      <td>2020-04-01</td>\n",
       "      <td>KDAVgrky</td>\n",
       "      <td>Ka/qq6o</td>\n",
       "      <td>2009/12/22</td>\n",
       "      <td>10120.0</td>\n",
       "      <td>10120.000000</td>\n",
       "      <td>1333.989778</td>\n",
       "      <td>60.0</td>\n",
       "      <td>0.1062</td>\n",
       "      <td>Completed</td>\n",
       "      <td>S</td>\n",
       "      <td>0.0</td>\n",
       "      <td>30.0</td>\n",
       "    </tr>\n",
       "    <tr>\n",
       "      <th>4</th>\n",
       "      <td>2020-04-01</td>\n",
       "      <td>KJe9rDg/</td>\n",
       "      <td>KMc1n/Q</td>\n",
       "      <td>2009/12/29</td>\n",
       "      <td>5120.0</td>\n",
       "      <td>5120.000000</td>\n",
       "      <td>713.650000</td>\n",
       "      <td>36.0</td>\n",
       "      <td>0.0920</td>\n",
       "      <td>Completed</td>\n",
       "      <td>B</td>\n",
       "      <td>0.0</td>\n",
       "      <td>18.0</td>\n",
       "    </tr>\n",
       "    <tr>\n",
       "      <th>5</th>\n",
       "      <td>2020-04-01</td>\n",
       "      <td>KkulrKZC</td>\n",
       "      <td>Ko8zLsG</td>\n",
       "      <td>2010/01/06</td>\n",
       "      <td>3120.0</td>\n",
       "      <td>3120.000000</td>\n",
       "      <td>494.510000</td>\n",
       "      <td>36.0</td>\n",
       "      <td>0.1089</td>\n",
       "      <td>Completed</td>\n",
       "      <td>0</td>\n",
       "      <td>0.0</td>\n",
       "      <td>18.0</td>\n",
       "    </tr>\n",
       "    <tr>\n",
       "      <th>6</th>\n",
       "      <td>2020-04-01</td>\n",
       "      <td>KlhT54+a</td>\n",
       "      <td>KNnJAFx</td>\n",
       "      <td>2010/01/06</td>\n",
       "      <td>5120.0</td>\n",
       "      <td>5120.000000</td>\n",
       "      <td>592.186408</td>\n",
       "      <td>36.0</td>\n",
       "      <td>0.0740</td>\n",
       "      <td>Completed</td>\n",
       "      <td>H</td>\n",
       "      <td>0.0</td>\n",
       "      <td>18.0</td>\n",
       "    </tr>\n",
       "    <tr>\n",
       "      <th>7</th>\n",
       "      <td>2020-04-01</td>\n",
       "      <td>Krw4DB81</td>\n",
       "      <td>Kr6ApyO</td>\n",
       "      <td>2010/01/13</td>\n",
       "      <td>9120.0</td>\n",
       "      <td>9120.000000</td>\n",
       "      <td>477.340000</td>\n",
       "      <td>36.0</td>\n",
       "      <td>0.0736</td>\n",
       "      <td>Completed</td>\n",
       "      <td>0</td>\n",
       "      <td>0.0</td>\n",
       "      <td>18.0</td>\n",
       "    </tr>\n",
       "    <tr>\n",
       "      <th>8</th>\n",
       "      <td>2020-04-01</td>\n",
       "      <td>Kddp9uXY</td>\n",
       "      <td>Ke64VjS</td>\n",
       "      <td>2009/11/27</td>\n",
       "      <td>3120.0</td>\n",
       "      <td>3120.000000</td>\n",
       "      <td>428.440000</td>\n",
       "      <td>36.0</td>\n",
       "      <td>0.0902</td>\n",
       "      <td>Completed</td>\n",
       "      <td>B</td>\n",
       "      <td>0.0</td>\n",
       "      <td>18.0</td>\n",
       "    </tr>\n",
       "    <tr>\n",
       "      <th>9</th>\n",
       "      <td>2020-04-01</td>\n",
       "      <td>KZdxQlx1</td>\n",
       "      <td>KvEFtpk</td>\n",
       "      <td>2009/12/04</td>\n",
       "      <td>2120.0</td>\n",
       "      <td>2120.000000</td>\n",
       "      <td>252.130000</td>\n",
       "      <td>36.0</td>\n",
       "      <td>0.0771</td>\n",
       "      <td>Completed</td>\n",
       "      <td>K</td>\n",
       "      <td>0.0</td>\n",
       "      <td>18.0</td>\n",
       "    </tr>\n",
       "    <tr>\n",
       "      <th>10</th>\n",
       "      <td>2020-04-01</td>\n",
       "      <td>KIa17yTn</td>\n",
       "      <td>KqZOamh</td>\n",
       "      <td>2009/12/15</td>\n",
       "      <td>5120.0</td>\n",
       "      <td>5120.000000</td>\n",
       "      <td>256.620000</td>\n",
       "      <td>36.0</td>\n",
       "      <td>0.0757</td>\n",
       "      <td>Completed</td>\n",
       "      <td>0</td>\n",
       "      <td>0.0</td>\n",
       "      <td>18.0</td>\n",
       "    </tr>\n",
       "    <tr>\n",
       "      <th>11</th>\n",
       "      <td>2020-04-01</td>\n",
       "      <td>KPr2EmOz</td>\n",
       "      <td>KdxXS+r</td>\n",
       "      <td>2010/01/04</td>\n",
       "      <td>5120.0</td>\n",
       "      <td>5120.000000</td>\n",
       "      <td>727.109513</td>\n",
       "      <td>60.0</td>\n",
       "      <td>0.0939</td>\n",
       "      <td>Completed</td>\n",
       "      <td>W</td>\n",
       "      <td>0.0</td>\n",
       "      <td>30.0</td>\n",
       "    </tr>\n",
       "    <tr>\n",
       "      <th>12</th>\n",
       "      <td>2020-04-01</td>\n",
       "      <td>KW/mFcZ8</td>\n",
       "      <td>Koef+xL</td>\n",
       "      <td>2009/11/02</td>\n",
       "      <td>8120.0</td>\n",
       "      <td>8118.946463</td>\n",
       "      <td>1990.723535</td>\n",
       "      <td>60.0</td>\n",
       "      <td>0.1214</td>\n",
       "      <td>Default</td>\n",
       "      <td>K</td>\n",
       "      <td>0.0</td>\n",
       "      <td>30.0</td>\n",
       "    </tr>\n",
       "    <tr>\n",
       "      <th>13</th>\n",
       "      <td>2020-04-01</td>\n",
       "      <td>KyJ+1Rj3</td>\n",
       "      <td>KCM4lqm</td>\n",
       "      <td>2009/11/04</td>\n",
       "      <td>5120.0</td>\n",
       "      <td>4316.872831</td>\n",
       "      <td>334.257168</td>\n",
       "      <td>60.0</td>\n",
       "      <td>0.0964</td>\n",
       "      <td>Default</td>\n",
       "      <td>W</td>\n",
       "      <td>0.0</td>\n",
       "      <td>29.0</td>\n",
       "    </tr>\n",
       "    <tr>\n",
       "      <th>14</th>\n",
       "      <td>2020-04-01</td>\n",
       "      <td>Kj/iMHxo</td>\n",
       "      <td>K+Qt3lO</td>\n",
       "      <td>2009/11/18</td>\n",
       "      <td>3120.0</td>\n",
       "      <td>3120.000000</td>\n",
       "      <td>360.430000</td>\n",
       "      <td>36.0</td>\n",
       "      <td>0.0760</td>\n",
       "      <td>Completed</td>\n",
       "      <td>O</td>\n",
       "      <td>0.0</td>\n",
       "      <td>18.0</td>\n",
       "    </tr>\n",
       "  </tbody>\n",
       "</table>\n",
       "</div>"
      ],
      "text/plain": [
       "   Snapshot Date Borrower ID  Loan ID Disbursal date  Original Loan Amount  \\\n",
       "0     2020-04-01    KCZ0hABC  KEG5Zcm     2009/12/01               12120.0   \n",
       "1     2020-04-01    Kbzjqk1X  K/eXt8O     2010/01/12                3120.0   \n",
       "2     2020-04-01    KpImAAXO  KHAjSlB     2009/11/17                1120.0   \n",
       "3     2020-04-01    KDAVgrky  Ka/qq6o     2009/12/22               10120.0   \n",
       "4     2020-04-01    KJe9rDg/  KMc1n/Q     2009/12/29                5120.0   \n",
       "5     2020-04-01    KkulrKZC  Ko8zLsG     2010/01/06                3120.0   \n",
       "6     2020-04-01    KlhT54+a  KNnJAFx     2010/01/06                5120.0   \n",
       "7     2020-04-01    Krw4DB81  Kr6ApyO     2010/01/13                9120.0   \n",
       "8     2020-04-01    Kddp9uXY  Ke64VjS     2009/11/27                3120.0   \n",
       "9     2020-04-01    KZdxQlx1  KvEFtpk     2009/12/04                2120.0   \n",
       "10    2020-04-01    KIa17yTn  KqZOamh     2009/12/15                5120.0   \n",
       "11    2020-04-01    KPr2EmOz  KdxXS+r     2010/01/04                5120.0   \n",
       "12    2020-04-01    KW/mFcZ8  Koef+xL     2009/11/02                8120.0   \n",
       "13    2020-04-01    KyJ+1Rj3  KCM4lqm     2009/11/04                5120.0   \n",
       "14    2020-04-01    Kj/iMHxo  K+Qt3lO     2009/11/18                3120.0   \n",
       "\n",
       "    Principal Collected  Interest Collected  Term in months  \\\n",
       "0          12120.000000         1433.160000            36.0   \n",
       "1           3120.000000          351.840000            36.0   \n",
       "2           1120.000000          141.550000            36.0   \n",
       "3          10120.000000         1333.989778            60.0   \n",
       "4           5120.000000          713.650000            36.0   \n",
       "5           3120.000000          494.510000            36.0   \n",
       "6           5120.000000          592.186408            36.0   \n",
       "7           9120.000000          477.340000            36.0   \n",
       "8           3120.000000          428.440000            36.0   \n",
       "9           2120.000000          252.130000            36.0   \n",
       "10          5120.000000          256.620000            36.0   \n",
       "11          5120.000000          727.109513            60.0   \n",
       "12          8118.946463         1990.723535            60.0   \n",
       "13          4316.872831          334.257168            60.0   \n",
       "14          3120.000000          360.430000            36.0   \n",
       "\n",
       "    Yearly interest rate Latest Status PostCode  Balance  Months duration  \n",
       "0                 0.0872     Completed        D      0.0             18.0  \n",
       "1                 0.0786     Completed        0      0.0             18.0  \n",
       "2                 0.1007     Completed        H      0.0             18.0  \n",
       "3                 0.1062     Completed        S      0.0             30.0  \n",
       "4                 0.0920     Completed        B      0.0             18.0  \n",
       "5                 0.1089     Completed        0      0.0             18.0  \n",
       "6                 0.0740     Completed        H      0.0             18.0  \n",
       "7                 0.0736     Completed        0      0.0             18.0  \n",
       "8                 0.0902     Completed        B      0.0             18.0  \n",
       "9                 0.0771     Completed        K      0.0             18.0  \n",
       "10                0.0757     Completed        0      0.0             18.0  \n",
       "11                0.0939     Completed        W      0.0             30.0  \n",
       "12                0.1214       Default        K      0.0             30.0  \n",
       "13                0.0964       Default        W      0.0             29.0  \n",
       "14                0.0760     Completed        O      0.0             18.0  "
      ]
     },
     "metadata": {},
     "output_type": "display_data"
    },
    {
     "name": "stdout",
     "output_type": "stream",
     "text": [
      "<class 'pandas.core.frame.DataFrame'>\n",
      "RangeIndex: 452285 entries, 0 to 452284\n",
      "Data columns (total 13 columns):\n",
      " #   Column                Non-Null Count   Dtype  \n",
      "---  ------                --------------   -----  \n",
      " 0   Snapshot Date         452283 non-null  object \n",
      " 1   Borrower ID           452283 non-null  object \n",
      " 2   Loan ID               452283 non-null  object \n",
      " 3   Disbursal date        452283 non-null  object \n",
      " 4   Original Loan Amount  452283 non-null  float64\n",
      " 5   Principal Collected   452283 non-null  float64\n",
      " 6   Interest Collected    452283 non-null  float64\n",
      " 7   Term in months        452283 non-null  float64\n",
      " 8   Yearly interest rate  452285 non-null  float64\n",
      " 9   Latest Status         452283 non-null  object \n",
      " 10  PostCode              452186 non-null  object \n",
      " 11  Balance               452283 non-null  float64\n",
      " 12  Months duration       452283 non-null  float64\n",
      "dtypes: float64(7), object(6)\n",
      "memory usage: 44.9+ MB\n"
     ]
    },
    {
     "data": {
      "text/plain": [
       "None"
      ]
     },
     "metadata": {},
     "output_type": "display_data"
    }
   ],
   "source": [
    "#get general information on dataset\n",
    "\n",
    "display(data.head(15))\n",
    "display(data.info())"
   ]
  },
  {
   "cell_type": "markdown",
   "metadata": {},
   "source": [
    "## Step 2. Data preprocessing\n",
    "<a class=\"anchor\" id=\"2\"></a>"
   ]
  },
  {
   "cell_type": "code",
   "execution_count": 212,
   "metadata": {},
   "outputs": [
    {
     "data": {
      "text/html": [
       "<div>\n",
       "<style scoped>\n",
       "    .dataframe tbody tr th:only-of-type {\n",
       "        vertical-align: middle;\n",
       "    }\n",
       "\n",
       "    .dataframe tbody tr th {\n",
       "        vertical-align: top;\n",
       "    }\n",
       "\n",
       "    .dataframe thead th {\n",
       "        text-align: right;\n",
       "    }\n",
       "</style>\n",
       "<table border=\"1\" class=\"dataframe\">\n",
       "  <thead>\n",
       "    <tr style=\"text-align: right;\">\n",
       "      <th></th>\n",
       "      <th>Snapshot Date</th>\n",
       "      <th>Borrower ID</th>\n",
       "      <th>Loan ID</th>\n",
       "      <th>Disbursal date</th>\n",
       "      <th>Original Loan Amount</th>\n",
       "      <th>Principal Collected</th>\n",
       "      <th>Interest Collected</th>\n",
       "      <th>Term in months</th>\n",
       "      <th>Yearly interest rate</th>\n",
       "      <th>Latest Status</th>\n",
       "      <th>PostCode</th>\n",
       "      <th>Balance</th>\n",
       "      <th>Months duration</th>\n",
       "    </tr>\n",
       "  </thead>\n",
       "  <tbody>\n",
       "    <tr>\n",
       "      <th>452280</th>\n",
       "      <td>2020-04-01</td>\n",
       "      <td>K+sVmtI7</td>\n",
       "      <td>KEbF4xR</td>\n",
       "      <td>2016/06/22</td>\n",
       "      <td>4800.0</td>\n",
       "      <td>4800.000000</td>\n",
       "      <td>385.510000</td>\n",
       "      <td>24.0</td>\n",
       "      <td>0.079000</td>\n",
       "      <td>Completed</td>\n",
       "      <td>K</td>\n",
       "      <td>0.0</td>\n",
       "      <td>12.0</td>\n",
       "    </tr>\n",
       "    <tr>\n",
       "      <th>452281</th>\n",
       "      <td>2020-04-01</td>\n",
       "      <td>KbHNPXjH</td>\n",
       "      <td>K+WtdLh</td>\n",
       "      <td>2016/07/20</td>\n",
       "      <td>1300.0</td>\n",
       "      <td>517.750089</td>\n",
       "      <td>71.529911</td>\n",
       "      <td>24.0</td>\n",
       "      <td>0.079000</td>\n",
       "      <td>Default</td>\n",
       "      <td>T</td>\n",
       "      <td>0.0</td>\n",
       "      <td>8.0</td>\n",
       "    </tr>\n",
       "    <tr>\n",
       "      <th>452282</th>\n",
       "      <td>2020-04-01</td>\n",
       "      <td>KcW/2Bt/</td>\n",
       "      <td>KH4x+f4</td>\n",
       "      <td>2016/08/12</td>\n",
       "      <td>2000.0</td>\n",
       "      <td>2000.000000</td>\n",
       "      <td>171.110000</td>\n",
       "      <td>24.0</td>\n",
       "      <td>0.079000</td>\n",
       "      <td>Completed</td>\n",
       "      <td>C</td>\n",
       "      <td>0.0</td>\n",
       "      <td>12.0</td>\n",
       "    </tr>\n",
       "    <tr>\n",
       "      <th>452283</th>\n",
       "      <td>NaN</td>\n",
       "      <td>NaN</td>\n",
       "      <td>NaN</td>\n",
       "      <td>NaN</td>\n",
       "      <td>NaN</td>\n",
       "      <td>NaN</td>\n",
       "      <td>NaN</td>\n",
       "      <td>NaN</td>\n",
       "      <td>0.101966</td>\n",
       "      <td>NaN</td>\n",
       "      <td>NaN</td>\n",
       "      <td>NaN</td>\n",
       "      <td>NaN</td>\n",
       "    </tr>\n",
       "    <tr>\n",
       "      <th>452284</th>\n",
       "      <td>NaN</td>\n",
       "      <td>NaN</td>\n",
       "      <td>NaN</td>\n",
       "      <td>NaN</td>\n",
       "      <td>NaN</td>\n",
       "      <td>NaN</td>\n",
       "      <td>NaN</td>\n",
       "      <td>NaN</td>\n",
       "      <td>0.100037</td>\n",
       "      <td>NaN</td>\n",
       "      <td>NaN</td>\n",
       "      <td>NaN</td>\n",
       "      <td>NaN</td>\n",
       "    </tr>\n",
       "  </tbody>\n",
       "</table>\n",
       "</div>"
      ],
      "text/plain": [
       "       Snapshot Date Borrower ID  Loan ID Disbursal date  \\\n",
       "452280    2020-04-01    K+sVmtI7  KEbF4xR     2016/06/22   \n",
       "452281    2020-04-01    KbHNPXjH  K+WtdLh     2016/07/20   \n",
       "452282    2020-04-01    KcW/2Bt/  KH4x+f4     2016/08/12   \n",
       "452283           NaN         NaN      NaN            NaN   \n",
       "452284           NaN         NaN      NaN            NaN   \n",
       "\n",
       "        Original Loan Amount  Principal Collected  Interest Collected  \\\n",
       "452280                4800.0          4800.000000          385.510000   \n",
       "452281                1300.0           517.750089           71.529911   \n",
       "452282                2000.0          2000.000000          171.110000   \n",
       "452283                   NaN                  NaN                 NaN   \n",
       "452284                   NaN                  NaN                 NaN   \n",
       "\n",
       "        Term in months  Yearly interest rate Latest Status PostCode  Balance  \\\n",
       "452280            24.0              0.079000     Completed        K      0.0   \n",
       "452281            24.0              0.079000       Default        T      0.0   \n",
       "452282            24.0              0.079000     Completed        C      0.0   \n",
       "452283             NaN              0.101966           NaN      NaN      NaN   \n",
       "452284             NaN              0.100037           NaN      NaN      NaN   \n",
       "\n",
       "        Months duration  \n",
       "452280             12.0  \n",
       "452281              8.0  \n",
       "452282             12.0  \n",
       "452283              NaN  \n",
       "452284              NaN  "
      ]
     },
     "metadata": {},
     "output_type": "display_data"
    },
    {
     "name": "stdout",
     "output_type": "stream",
     "text": [
      "The number of records in loan data: 452283 rows\n"
     ]
    }
   ],
   "source": [
    "#use function tail() to display two last rows with incomplete data (we have data only in 'Yearly Interest Rate' column)\n",
    "\n",
    "display(data.tail())\n",
    "\n",
    "#delete rows with incomplete data and check the number of rows\n",
    "data.dropna(subset=['Loan ID'], inplace=True)\n",
    "print('The number of records in loan data: {} rows'.format(data.shape[0]))"
   ]
  },
  {
   "cell_type": "code",
   "execution_count": 213,
   "metadata": {},
   "outputs": [],
   "source": [
    "#since the dataset contains missing values, we received data in certain columns with an inappropriate data types\n",
    "#the script below changes the data type to a correct and more convenient for the next analysis\n",
    "\n",
    "cols_change_datatype = ['Term in months', 'Months duration', 'Original Loan Amount']\n",
    "for col in cols_change_datatype:\n",
    "    data[col] = data[col].astype('int')"
   ]
  },
  {
   "cell_type": "code",
   "execution_count": 214,
   "metadata": {},
   "outputs": [],
   "source": [
    "#convert columns with date data to the date type\n",
    "\n",
    "data['Disbursal date'] = pd.to_datetime(data['Disbursal date'], dayfirst=True)\n",
    "data['Snapshot Date'] = pd.to_datetime(data['Snapshot Date'], dayfirst=True)"
   ]
  },
  {
   "cell_type": "code",
   "execution_count": 215,
   "metadata": {},
   "outputs": [
    {
     "data": {
      "text/plain": [
       "97"
      ]
     },
     "metadata": {},
     "output_type": "display_data"
    },
    {
     "name": "stdout",
     "output_type": "stream",
     "text": [
      "<class 'pandas.core.frame.DataFrame'>\n",
      "Int64Index: 452283 entries, 0 to 452282\n",
      "Data columns (total 13 columns):\n",
      " #   Column                Non-Null Count   Dtype         \n",
      "---  ------                --------------   -----         \n",
      " 0   Snapshot Date         452283 non-null  datetime64[ns]\n",
      " 1   Borrower ID           452283 non-null  object        \n",
      " 2   Loan ID               452283 non-null  object        \n",
      " 3   Disbursal date        452283 non-null  datetime64[ns]\n",
      " 4   Original Loan Amount  452283 non-null  int32         \n",
      " 5   Principal Collected   452283 non-null  float64       \n",
      " 6   Interest Collected    452283 non-null  float64       \n",
      " 7   Term in months        452283 non-null  int32         \n",
      " 8   Yearly interest rate  452283 non-null  float64       \n",
      " 9   Latest Status         452283 non-null  object        \n",
      " 10  PostCode              452283 non-null  object        \n",
      " 11  Balance               452283 non-null  float64       \n",
      " 12  Months duration       452283 non-null  int32         \n",
      "dtypes: datetime64[ns](2), float64(4), int32(3), object(4)\n",
      "memory usage: 43.1+ MB\n"
     ]
    }
   ],
   "source": [
    "#check the column 'PostCode' for missing values and fill in missing values\n",
    "\n",
    "display(data['PostCode'].isna().sum())\n",
    "data = data.fillna('unknown')\n",
    "data.info()"
   ]
  },
  {
   "cell_type": "code",
   "execution_count": 216,
   "metadata": {},
   "outputs": [
    {
     "data": {
      "text/html": [
       "<div>\n",
       "<style scoped>\n",
       "    .dataframe tbody tr th:only-of-type {\n",
       "        vertical-align: middle;\n",
       "    }\n",
       "\n",
       "    .dataframe tbody tr th {\n",
       "        vertical-align: top;\n",
       "    }\n",
       "\n",
       "    .dataframe thead th {\n",
       "        text-align: right;\n",
       "    }\n",
       "</style>\n",
       "<table border=\"1\" class=\"dataframe\">\n",
       "  <thead>\n",
       "    <tr style=\"text-align: right;\">\n",
       "      <th></th>\n",
       "      <th>Snapshot Date</th>\n",
       "      <th>Borrower ID</th>\n",
       "      <th>Loan ID</th>\n",
       "      <th>Disbursal date</th>\n",
       "      <th>Original Loan Amount</th>\n",
       "      <th>Principal Collected</th>\n",
       "      <th>Interest Collected</th>\n",
       "      <th>Term in months</th>\n",
       "      <th>Yearly interest rate</th>\n",
       "      <th>Latest Status</th>\n",
       "      <th>PostCode</th>\n",
       "      <th>Balance</th>\n",
       "      <th>Months duration</th>\n",
       "      <th>Disbursal Year and Month</th>\n",
       "      <th>Month</th>\n",
       "      <th>Disbursal Year</th>\n",
       "    </tr>\n",
       "  </thead>\n",
       "  <tbody>\n",
       "    <tr>\n",
       "      <th>0</th>\n",
       "      <td>2020-04-01</td>\n",
       "      <td>KCZ0hABC</td>\n",
       "      <td>KEG5Zcm</td>\n",
       "      <td>2009-12-01</td>\n",
       "      <td>12120</td>\n",
       "      <td>12120.0</td>\n",
       "      <td>1433.160000</td>\n",
       "      <td>36</td>\n",
       "      <td>0.0872</td>\n",
       "      <td>Completed</td>\n",
       "      <td>D</td>\n",
       "      <td>0.0</td>\n",
       "      <td>18</td>\n",
       "      <td>2009-12-01</td>\n",
       "      <td>12</td>\n",
       "      <td>2009</td>\n",
       "    </tr>\n",
       "    <tr>\n",
       "      <th>1</th>\n",
       "      <td>2020-04-01</td>\n",
       "      <td>Kbzjqk1X</td>\n",
       "      <td>K/eXt8O</td>\n",
       "      <td>2010-01-12</td>\n",
       "      <td>3120</td>\n",
       "      <td>3120.0</td>\n",
       "      <td>351.840000</td>\n",
       "      <td>36</td>\n",
       "      <td>0.0786</td>\n",
       "      <td>Completed</td>\n",
       "      <td>0</td>\n",
       "      <td>0.0</td>\n",
       "      <td>18</td>\n",
       "      <td>2010-01-01</td>\n",
       "      <td>01</td>\n",
       "      <td>2010</td>\n",
       "    </tr>\n",
       "    <tr>\n",
       "      <th>2</th>\n",
       "      <td>2020-04-01</td>\n",
       "      <td>KpImAAXO</td>\n",
       "      <td>KHAjSlB</td>\n",
       "      <td>2009-11-17</td>\n",
       "      <td>1120</td>\n",
       "      <td>1120.0</td>\n",
       "      <td>141.550000</td>\n",
       "      <td>36</td>\n",
       "      <td>0.1007</td>\n",
       "      <td>Completed</td>\n",
       "      <td>H</td>\n",
       "      <td>0.0</td>\n",
       "      <td>18</td>\n",
       "      <td>2009-11-01</td>\n",
       "      <td>11</td>\n",
       "      <td>2009</td>\n",
       "    </tr>\n",
       "    <tr>\n",
       "      <th>3</th>\n",
       "      <td>2020-04-01</td>\n",
       "      <td>KDAVgrky</td>\n",
       "      <td>Ka/qq6o</td>\n",
       "      <td>2009-12-22</td>\n",
       "      <td>10120</td>\n",
       "      <td>10120.0</td>\n",
       "      <td>1333.989778</td>\n",
       "      <td>60</td>\n",
       "      <td>0.1062</td>\n",
       "      <td>Completed</td>\n",
       "      <td>S</td>\n",
       "      <td>0.0</td>\n",
       "      <td>30</td>\n",
       "      <td>2009-12-01</td>\n",
       "      <td>12</td>\n",
       "      <td>2009</td>\n",
       "    </tr>\n",
       "    <tr>\n",
       "      <th>4</th>\n",
       "      <td>2020-04-01</td>\n",
       "      <td>KJe9rDg/</td>\n",
       "      <td>KMc1n/Q</td>\n",
       "      <td>2009-12-29</td>\n",
       "      <td>5120</td>\n",
       "      <td>5120.0</td>\n",
       "      <td>713.650000</td>\n",
       "      <td>36</td>\n",
       "      <td>0.0920</td>\n",
       "      <td>Completed</td>\n",
       "      <td>B</td>\n",
       "      <td>0.0</td>\n",
       "      <td>18</td>\n",
       "      <td>2009-12-01</td>\n",
       "      <td>12</td>\n",
       "      <td>2009</td>\n",
       "    </tr>\n",
       "  </tbody>\n",
       "</table>\n",
       "</div>"
      ],
      "text/plain": [
       "  Snapshot Date Borrower ID  Loan ID Disbursal date  Original Loan Amount  \\\n",
       "0    2020-04-01    KCZ0hABC  KEG5Zcm     2009-12-01                 12120   \n",
       "1    2020-04-01    Kbzjqk1X  K/eXt8O     2010-01-12                  3120   \n",
       "2    2020-04-01    KpImAAXO  KHAjSlB     2009-11-17                  1120   \n",
       "3    2020-04-01    KDAVgrky  Ka/qq6o     2009-12-22                 10120   \n",
       "4    2020-04-01    KJe9rDg/  KMc1n/Q     2009-12-29                  5120   \n",
       "\n",
       "   Principal Collected  Interest Collected  Term in months  \\\n",
       "0              12120.0         1433.160000              36   \n",
       "1               3120.0          351.840000              36   \n",
       "2               1120.0          141.550000              36   \n",
       "3              10120.0         1333.989778              60   \n",
       "4               5120.0          713.650000              36   \n",
       "\n",
       "   Yearly interest rate Latest Status PostCode  Balance  Months duration  \\\n",
       "0                0.0872     Completed        D      0.0               18   \n",
       "1                0.0786     Completed        0      0.0               18   \n",
       "2                0.1007     Completed        H      0.0               18   \n",
       "3                0.1062     Completed        S      0.0               30   \n",
       "4                0.0920     Completed        B      0.0               18   \n",
       "\n",
       "  Disbursal Year and Month Month Disbursal Year  \n",
       "0               2009-12-01    12           2009  \n",
       "1               2010-01-01    01           2010  \n",
       "2               2009-11-01    11           2009  \n",
       "3               2009-12-01    12           2009  \n",
       "4               2009-12-01    12           2009  "
      ]
     },
     "execution_count": 216,
     "metadata": {},
     "output_type": "execute_result"
    }
   ],
   "source": [
    "# add column 'Disbursal month'\n",
    "\n",
    "data['Disbursal Year and Month'] = data['Disbursal date'].astype('datetime64[M]')\n",
    "data['Month'] = data['Disbursal date'].dt.strftime('%m')\n",
    "data['Disbursal Year'] = data['Disbursal Year and Month'].dt.strftime('%Y')\n",
    "data.head()"
   ]
  },
  {
   "cell_type": "markdown",
   "metadata": {},
   "source": [
    "## Step 3. Carry out exploratory data analysis (EDA)\n",
    "<a class=\"anchor\" id=\"3\"></a>"
   ]
  },
  {
   "cell_type": "markdown",
   "metadata": {},
   "source": [
    "### 3.1. Descriptive analytics\n",
    "<a class=\"anchor\" id=\"3_1\"></a>"
   ]
  },
  {
   "cell_type": "code",
   "execution_count": 217,
   "metadata": {},
   "outputs": [
    {
     "data": {
      "text/html": [
       "<div>\n",
       "<style scoped>\n",
       "    .dataframe tbody tr th:only-of-type {\n",
       "        vertical-align: middle;\n",
       "    }\n",
       "\n",
       "    .dataframe tbody tr th {\n",
       "        vertical-align: top;\n",
       "    }\n",
       "\n",
       "    .dataframe thead th {\n",
       "        text-align: right;\n",
       "    }\n",
       "</style>\n",
       "<table border=\"1\" class=\"dataframe\">\n",
       "  <thead>\n",
       "    <tr style=\"text-align: right;\">\n",
       "      <th></th>\n",
       "      <th>Original Loan Amount</th>\n",
       "      <th>Principal Collected</th>\n",
       "      <th>Interest Collected</th>\n",
       "      <th>Term in months</th>\n",
       "      <th>Yearly interest rate</th>\n",
       "      <th>Balance</th>\n",
       "      <th>Months duration</th>\n",
       "    </tr>\n",
       "  </thead>\n",
       "  <tbody>\n",
       "    <tr>\n",
       "      <th>count</th>\n",
       "      <td>452283.000000</td>\n",
       "      <td>452283.000000</td>\n",
       "      <td>452283.000000</td>\n",
       "      <td>452283.000000</td>\n",
       "      <td>452283.000000</td>\n",
       "      <td>452283.000000</td>\n",
       "      <td>452283.000000</td>\n",
       "    </tr>\n",
       "    <tr>\n",
       "      <th>mean</th>\n",
       "      <td>6285.364186</td>\n",
       "      <td>4318.356133</td>\n",
       "      <td>665.292971</td>\n",
       "      <td>40.587234</td>\n",
       "      <td>0.100037</td>\n",
       "      <td>1650.448650</td>\n",
       "      <td>15.938751</td>\n",
       "    </tr>\n",
       "    <tr>\n",
       "      <th>std</th>\n",
       "      <td>5258.187130</td>\n",
       "      <td>4349.825917</td>\n",
       "      <td>888.375886</td>\n",
       "      <td>16.074707</td>\n",
       "      <td>0.039685</td>\n",
       "      <td>3663.798600</td>\n",
       "      <td>8.938299</td>\n",
       "    </tr>\n",
       "    <tr>\n",
       "      <th>min</th>\n",
       "      <td>260.000000</td>\n",
       "      <td>0.000000</td>\n",
       "      <td>0.000000</td>\n",
       "      <td>10.000000</td>\n",
       "      <td>0.050100</td>\n",
       "      <td>0.000000</td>\n",
       "      <td>0.000000</td>\n",
       "    </tr>\n",
       "    <tr>\n",
       "      <th>25%</th>\n",
       "      <td>2600.000000</td>\n",
       "      <td>1370.000000</td>\n",
       "      <td>132.815616</td>\n",
       "      <td>24.000000</td>\n",
       "      <td>0.068400</td>\n",
       "      <td>0.000000</td>\n",
       "      <td>8.000000</td>\n",
       "    </tr>\n",
       "    <tr>\n",
       "      <th>50%</th>\n",
       "      <td>4630.000000</td>\n",
       "      <td>3080.000000</td>\n",
       "      <td>346.410000</td>\n",
       "      <td>36.000000</td>\n",
       "      <td>0.086000</td>\n",
       "      <td>0.000000</td>\n",
       "      <td>18.000000</td>\n",
       "    </tr>\n",
       "    <tr>\n",
       "      <th>75%</th>\n",
       "      <td>8350.000000</td>\n",
       "      <td>5420.000000</td>\n",
       "      <td>822.715000</td>\n",
       "      <td>60.000000</td>\n",
       "      <td>0.129300</td>\n",
       "      <td>1238.586272</td>\n",
       "      <td>24.000000</td>\n",
       "    </tr>\n",
       "    <tr>\n",
       "      <th>max</th>\n",
       "      <td>33750.000000</td>\n",
       "      <td>30000.000000</td>\n",
       "      <td>13002.227650</td>\n",
       "      <td>60.000000</td>\n",
       "      <td>0.199900</td>\n",
       "      <td>33039.637400</td>\n",
       "      <td>30.000000</td>\n",
       "    </tr>\n",
       "  </tbody>\n",
       "</table>\n",
       "</div>"
      ],
      "text/plain": [
       "       Original Loan Amount  Principal Collected  Interest Collected  \\\n",
       "count         452283.000000        452283.000000       452283.000000   \n",
       "mean            6285.364186          4318.356133          665.292971   \n",
       "std             5258.187130          4349.825917          888.375886   \n",
       "min              260.000000             0.000000            0.000000   \n",
       "25%             2600.000000          1370.000000          132.815616   \n",
       "50%             4630.000000          3080.000000          346.410000   \n",
       "75%             8350.000000          5420.000000          822.715000   \n",
       "max            33750.000000         30000.000000        13002.227650   \n",
       "\n",
       "       Term in months  Yearly interest rate        Balance  Months duration  \n",
       "count   452283.000000         452283.000000  452283.000000    452283.000000  \n",
       "mean        40.587234              0.100037    1650.448650        15.938751  \n",
       "std         16.074707              0.039685    3663.798600         8.938299  \n",
       "min         10.000000              0.050100       0.000000         0.000000  \n",
       "25%         24.000000              0.068400       0.000000         8.000000  \n",
       "50%         36.000000              0.086000       0.000000        18.000000  \n",
       "75%         60.000000              0.129300    1238.586272        24.000000  \n",
       "max         60.000000              0.199900   33039.637400        30.000000  "
      ]
     },
     "metadata": {},
     "output_type": "display_data"
    }
   ],
   "source": [
    "display(data.describe())"
   ]
  },
  {
   "cell_type": "code",
   "execution_count": 218,
   "metadata": {},
   "outputs": [
    {
     "data": {
      "text/html": [
       "<div>\n",
       "<style scoped>\n",
       "    .dataframe tbody tr th:only-of-type {\n",
       "        vertical-align: middle;\n",
       "    }\n",
       "\n",
       "    .dataframe tbody tr th {\n",
       "        vertical-align: top;\n",
       "    }\n",
       "\n",
       "    .dataframe thead th {\n",
       "        text-align: right;\n",
       "    }\n",
       "</style>\n",
       "<table border=\"1\" class=\"dataframe\">\n",
       "  <thead>\n",
       "    <tr style=\"text-align: right;\">\n",
       "      <th></th>\n",
       "      <th>Borrower ID</th>\n",
       "      <th>Loan ID</th>\n",
       "      <th>Latest Status</th>\n",
       "      <th>PostCode</th>\n",
       "      <th>Month</th>\n",
       "      <th>Disbursal Year</th>\n",
       "    </tr>\n",
       "  </thead>\n",
       "  <tbody>\n",
       "    <tr>\n",
       "      <th>count</th>\n",
       "      <td>452283</td>\n",
       "      <td>452283</td>\n",
       "      <td>452283</td>\n",
       "      <td>452283</td>\n",
       "      <td>452283</td>\n",
       "      <td>452283</td>\n",
       "    </tr>\n",
       "    <tr>\n",
       "      <th>unique</th>\n",
       "      <td>352736</td>\n",
       "      <td>452283</td>\n",
       "      <td>4</td>\n",
       "      <td>24</td>\n",
       "      <td>12</td>\n",
       "      <td>14</td>\n",
       "    </tr>\n",
       "    <tr>\n",
       "      <th>top</th>\n",
       "      <td>K/qdtxRn</td>\n",
       "      <td>Kgv5Sz/</td>\n",
       "      <td>Completed</td>\n",
       "      <td>S</td>\n",
       "      <td>01</td>\n",
       "      <td>2019</td>\n",
       "    </tr>\n",
       "    <tr>\n",
       "      <th>freq</th>\n",
       "      <td>18</td>\n",
       "      <td>1</td>\n",
       "      <td>282792</td>\n",
       "      <td>61954</td>\n",
       "      <td>44188</td>\n",
       "      <td>82991</td>\n",
       "    </tr>\n",
       "  </tbody>\n",
       "</table>\n",
       "</div>"
      ],
      "text/plain": [
       "       Borrower ID  Loan ID Latest Status PostCode   Month Disbursal Year\n",
       "count       452283   452283        452283   452283  452283         452283\n",
       "unique      352736   452283             4       24      12             14\n",
       "top       K/qdtxRn  Kgv5Sz/     Completed        S      01           2019\n",
       "freq            18        1        282792    61954   44188          82991"
      ]
     },
     "metadata": {},
     "output_type": "display_data"
    }
   ],
   "source": [
    "display(data.describe(include='object'))"
   ]
  },
  {
   "cell_type": "code",
   "execution_count": 219,
   "metadata": {},
   "outputs": [
    {
     "data": {
      "text/html": [
       "<div>\n",
       "<style scoped>\n",
       "    .dataframe tbody tr th:only-of-type {\n",
       "        vertical-align: middle;\n",
       "    }\n",
       "\n",
       "    .dataframe tbody tr th {\n",
       "        vertical-align: top;\n",
       "    }\n",
       "\n",
       "    .dataframe thead th {\n",
       "        text-align: right;\n",
       "    }\n",
       "</style>\n",
       "<table border=\"1\" class=\"dataframe\">\n",
       "  <thead>\n",
       "    <tr style=\"text-align: right;\">\n",
       "      <th></th>\n",
       "      <th>Latest Status</th>\n",
       "      <th>Original Loan Amount</th>\n",
       "    </tr>\n",
       "  </thead>\n",
       "  <tbody>\n",
       "    <tr>\n",
       "      <th>0</th>\n",
       "      <td>Active</td>\n",
       "      <td>963533902</td>\n",
       "    </tr>\n",
       "    <tr>\n",
       "      <th>1</th>\n",
       "      <td>Completed</td>\n",
       "      <td>1544931238</td>\n",
       "    </tr>\n",
       "    <tr>\n",
       "      <th>2</th>\n",
       "      <td>Default</td>\n",
       "      <td>201072029</td>\n",
       "    </tr>\n",
       "    <tr>\n",
       "      <th>3</th>\n",
       "      <td>Late</td>\n",
       "      <td>133226201</td>\n",
       "    </tr>\n",
       "  </tbody>\n",
       "</table>\n",
       "</div>"
      ],
      "text/plain": [
       "  Latest Status  Original Loan Amount\n",
       "0        Active             963533902\n",
       "1     Completed            1544931238\n",
       "2       Default             201072029\n",
       "3          Late             133226201"
      ]
     },
     "execution_count": 219,
     "metadata": {},
     "output_type": "execute_result"
    }
   ],
   "source": [
    "#group loans by status to plot status aggregate information pie chart\n",
    "groupped_status = data.groupby('Latest Status')['Original Loan Amount'].agg('sum').reset_index()\n",
    "groupped_status"
   ]
  },
  {
   "cell_type": "code",
   "execution_count": 220,
   "metadata": {},
   "outputs": [
    {
     "data": {
      "image/png": "[encoded data removed]",
      "text/plain": [
       "<Figure size 432x288 with 1 Axes>"
      ]
     },
     "metadata": {},
     "output_type": "display_data"
    }
   ],
   "source": [
    "\n",
    "\n",
    "plt.pie(groupped_status['Original Loan Amount'],labels=groupped_status['Latest Status'],autopct='%1.1f%%')\n",
    "plt.title('Loan Status Aggregate Information')\n",
    "plt.axis('equal')\n",
    "plt.legend(groupped_status['Original Loan Amount'],title=\"Loan Amount\",loc=\"center left\",bbox_to_anchor=(1, 0, 0.5, 1))\n",
    "\n",
    "plt.show()"
   ]
  },
  {
   "cell_type": "markdown",
   "metadata": {},
   "source": [
    "Check borrowers who take more than one loan "
   ]
  },
  {
   "cell_type": "code",
   "execution_count": 221,
   "metadata": {},
   "outputs": [],
   "source": [
    "#change data types\n"
   ]
  },
  {
   "cell_type": "markdown",
   "metadata": {},
   "source": [
    "### 3.2. Calculate additional metrics for loan analysis\n",
    "<a class=\"anchor\" id=\"3_2\"></a>"
   ]
  },
  {
   "cell_type": "code",
   "execution_count": 222,
   "metadata": {
    "scrolled": true
   },
   "outputs": [
    {
     "data": {
      "text/html": [
       "<div>\n",
       "<style scoped>\n",
       "    .dataframe tbody tr th:only-of-type {\n",
       "        vertical-align: middle;\n",
       "    }\n",
       "\n",
       "    .dataframe tbody tr th {\n",
       "        vertical-align: top;\n",
       "    }\n",
       "\n",
       "    .dataframe thead th {\n",
       "        text-align: right;\n",
       "    }\n",
       "</style>\n",
       "<table border=\"1\" class=\"dataframe\">\n",
       "  <thead>\n",
       "    <tr style=\"text-align: right;\">\n",
       "      <th></th>\n",
       "      <th>Snapshot Date</th>\n",
       "      <th>Borrower ID</th>\n",
       "      <th>Loan ID</th>\n",
       "      <th>Disbursal date</th>\n",
       "      <th>Original Loan Amount</th>\n",
       "      <th>Principal Collected</th>\n",
       "      <th>Interest Collected</th>\n",
       "      <th>Term in months</th>\n",
       "      <th>Yearly interest rate</th>\n",
       "      <th>Latest Status</th>\n",
       "      <th>PostCode</th>\n",
       "      <th>Balance</th>\n",
       "      <th>Months duration</th>\n",
       "      <th>Disbursal Year and Month</th>\n",
       "      <th>Month</th>\n",
       "      <th>Disbursal Year</th>\n",
       "    </tr>\n",
       "  </thead>\n",
       "  <tbody>\n",
       "    <tr>\n",
       "      <th>0</th>\n",
       "      <td>2020-04-01</td>\n",
       "      <td>KCZ0hABC</td>\n",
       "      <td>KEG5Zcm</td>\n",
       "      <td>2009-12-01</td>\n",
       "      <td>12120</td>\n",
       "      <td>12120.0</td>\n",
       "      <td>1433.160000</td>\n",
       "      <td>36</td>\n",
       "      <td>0.0872</td>\n",
       "      <td>Completed</td>\n",
       "      <td>D</td>\n",
       "      <td>0.0</td>\n",
       "      <td>18</td>\n",
       "      <td>2009-12-01</td>\n",
       "      <td>12</td>\n",
       "      <td>2009</td>\n",
       "    </tr>\n",
       "    <tr>\n",
       "      <th>1</th>\n",
       "      <td>2020-04-01</td>\n",
       "      <td>Kbzjqk1X</td>\n",
       "      <td>K/eXt8O</td>\n",
       "      <td>2010-01-12</td>\n",
       "      <td>3120</td>\n",
       "      <td>3120.0</td>\n",
       "      <td>351.840000</td>\n",
       "      <td>36</td>\n",
       "      <td>0.0786</td>\n",
       "      <td>Completed</td>\n",
       "      <td>0</td>\n",
       "      <td>0.0</td>\n",
       "      <td>18</td>\n",
       "      <td>2010-01-01</td>\n",
       "      <td>01</td>\n",
       "      <td>2010</td>\n",
       "    </tr>\n",
       "    <tr>\n",
       "      <th>2</th>\n",
       "      <td>2020-04-01</td>\n",
       "      <td>KpImAAXO</td>\n",
       "      <td>KHAjSlB</td>\n",
       "      <td>2009-11-17</td>\n",
       "      <td>1120</td>\n",
       "      <td>1120.0</td>\n",
       "      <td>141.550000</td>\n",
       "      <td>36</td>\n",
       "      <td>0.1007</td>\n",
       "      <td>Completed</td>\n",
       "      <td>H</td>\n",
       "      <td>0.0</td>\n",
       "      <td>18</td>\n",
       "      <td>2009-11-01</td>\n",
       "      <td>11</td>\n",
       "      <td>2009</td>\n",
       "    </tr>\n",
       "    <tr>\n",
       "      <th>3</th>\n",
       "      <td>2020-04-01</td>\n",
       "      <td>KDAVgrky</td>\n",
       "      <td>Ka/qq6o</td>\n",
       "      <td>2009-12-22</td>\n",
       "      <td>10120</td>\n",
       "      <td>10120.0</td>\n",
       "      <td>1333.989778</td>\n",
       "      <td>60</td>\n",
       "      <td>0.1062</td>\n",
       "      <td>Completed</td>\n",
       "      <td>S</td>\n",
       "      <td>0.0</td>\n",
       "      <td>30</td>\n",
       "      <td>2009-12-01</td>\n",
       "      <td>12</td>\n",
       "      <td>2009</td>\n",
       "    </tr>\n",
       "    <tr>\n",
       "      <th>4</th>\n",
       "      <td>2020-04-01</td>\n",
       "      <td>KJe9rDg/</td>\n",
       "      <td>KMc1n/Q</td>\n",
       "      <td>2009-12-29</td>\n",
       "      <td>5120</td>\n",
       "      <td>5120.0</td>\n",
       "      <td>713.650000</td>\n",
       "      <td>36</td>\n",
       "      <td>0.0920</td>\n",
       "      <td>Completed</td>\n",
       "      <td>B</td>\n",
       "      <td>0.0</td>\n",
       "      <td>18</td>\n",
       "      <td>2009-12-01</td>\n",
       "      <td>12</td>\n",
       "      <td>2009</td>\n",
       "    </tr>\n",
       "  </tbody>\n",
       "</table>\n",
       "</div>"
      ],
      "text/plain": [
       "  Snapshot Date Borrower ID  Loan ID Disbursal date  Original Loan Amount  \\\n",
       "0    2020-04-01    KCZ0hABC  KEG5Zcm     2009-12-01                 12120   \n",
       "1    2020-04-01    Kbzjqk1X  K/eXt8O     2010-01-12                  3120   \n",
       "2    2020-04-01    KpImAAXO  KHAjSlB     2009-11-17                  1120   \n",
       "3    2020-04-01    KDAVgrky  Ka/qq6o     2009-12-22                 10120   \n",
       "4    2020-04-01    KJe9rDg/  KMc1n/Q     2009-12-29                  5120   \n",
       "\n",
       "   Principal Collected  Interest Collected  Term in months  \\\n",
       "0              12120.0         1433.160000              36   \n",
       "1               3120.0          351.840000              36   \n",
       "2               1120.0          141.550000              36   \n",
       "3              10120.0         1333.989778              60   \n",
       "4               5120.0          713.650000              36   \n",
       "\n",
       "   Yearly interest rate Latest Status PostCode  Balance  Months duration  \\\n",
       "0                0.0872     Completed        D      0.0               18   \n",
       "1                0.0786     Completed        0      0.0               18   \n",
       "2                0.1007     Completed        H      0.0               18   \n",
       "3                0.1062     Completed        S      0.0               30   \n",
       "4                0.0920     Completed        B      0.0               18   \n",
       "\n",
       "  Disbursal Year and Month Month Disbursal Year  \n",
       "0               2009-12-01    12           2009  \n",
       "1               2010-01-01    01           2010  \n",
       "2               2009-11-01    11           2009  \n",
       "3               2009-12-01    12           2009  \n",
       "4               2009-12-01    12           2009  "
      ]
     },
     "execution_count": 222,
     "metadata": {},
     "output_type": "execute_result"
    }
   ],
   "source": [
    "data.head()"
   ]
  },
  {
   "cell_type": "code",
   "execution_count": 223,
   "metadata": {},
   "outputs": [],
   "source": [
    "#Loan revenue calculate\n",
    "data['Loan Revenue'] = (data['Principal Collected'] + data['Interest Collected']) - data['Original Loan Amount']"
   ]
  },
  {
   "cell_type": "code",
   "execution_count": 224,
   "metadata": {},
   "outputs": [
    {
     "data": {
      "text/plain": [
       "count    452283.000000\n",
       "mean       -392.490433\n",
       "std        1555.479890\n",
       "min      -32826.700000\n",
       "25%        -114.630714\n",
       "50%           8.911333\n",
       "75%          23.746667\n",
       "max         433.407588\n",
       "Name: Loan Adjusted Revenue, dtype: float64"
      ]
     },
     "execution_count": 224,
     "metadata": {},
     "output_type": "execute_result"
    }
   ],
   "source": [
    "#calculate Loan adjusted revenue\n",
    "#as we have borrowers that have not paid the loan even once ('Months duration' and 'Loan Revenue' equal zero), \n",
    "#we'll replace inf results with 0\n",
    "data['Loan Adjusted Revenue'] = (data['Loan Revenue']/data['Months duration']).replace([np.inf, -np.inf], 0)\n",
    "data['Loan Adjusted Revenue'].describe()"
   ]
  },
  {
   "cell_type": "code",
   "execution_count": 225,
   "metadata": {},
   "outputs": [],
   "source": [
    "#calculate Loan yield\n",
    "data['Loan Yield'] = data['Loan Adjusted Revenue']/data['Original Loan Amount']"
   ]
  },
  {
   "cell_type": "code",
   "execution_count": 226,
   "metadata": {},
   "outputs": [],
   "source": [
    "#calculate Loss rate\n",
    "data['Loss Rate'] = data['Yearly interest rate'] - data['Loan Yield']"
   ]
  },
  {
   "cell_type": "markdown",
   "metadata": {},
   "source": [
    "### 3.3. Split data by loan status\n",
    "<a class=\"anchor\" id=\"3_3\"></a>"
   ]
  },
  {
   "cell_type": "code",
   "execution_count": 227,
   "metadata": {},
   "outputs": [
    {
     "data": {
      "text/plain": [
       "array(['Completed', 'Default', 'Late', 'Active'], dtype=object)"
      ]
     },
     "metadata": {},
     "output_type": "display_data"
    }
   ],
   "source": [
    "#group loans by status\n",
    "\n",
    "display(data['Latest Status'].unique())\n",
    "\n",
    "completed_loans = data[data['Latest Status'] == \"Completed\"]\n",
    "completed_loans_grouped = completed_loans.groupby('Month')['Original Loan Amount'].agg(['sum','count']).reset_index().rename(columns={'sum':'Loans amount', 'count':'Number of loans'})\n",
    "\n",
    "default_loans = data[data['Latest Status'] == \"Default\"]\n",
    "default_loans_grouped = default_loans.groupby('Month')['Original Loan Amount'].agg(['sum','count']).reset_index().rename(columns={'sum':'Loans amount', 'count':'Number of loans'})\n",
    "\n",
    "late_loans = data[data['Latest Status'] == \"Late\"]\n",
    "late_loans_grouped = late_loans.groupby('Month')['Original Loan Amount'].agg(['sum','count']).reset_index().rename(columns={'sum':'Loans amount', 'count':'Number of loans'})\n",
    "\n",
    "active_loans = data[data['Latest Status'] == \"Active\"]\n",
    "active_loans_grouped = active_loans.groupby('Month')['Original Loan Amount'].agg(['sum','count']).reset_index().rename(columns={'sum':'Loans amount', 'count':'Number of loans'})\n"
   ]
  },
  {
   "cell_type": "markdown",
   "metadata": {},
   "source": [
    "## Step 4.  Analyze and visualize loan performance over time (annually/monthly)\n",
    "<a class=\"anchor\" id=\"4\"></a>"
   ]
  },
  {
   "cell_type": "markdown",
   "metadata": {},
   "source": []
  },
  {
   "cell_type": "code",
   "execution_count": 228,
   "metadata": {},
   "outputs": [],
   "source": [
    "#calculate the total amount and number of loans splitted by status of loan\n",
    "\n",
    "loan_pivot_by_date_status = data.pivot_table(index='Disbursal Year and Month', columns='Latest Status', values='Original Loan Amount', aggfunc=['sum','count']).reset_index()\n",
    "loan_pivot_by_date_status.columns = ['Disbursal Year and Month','Active Loans Amount','Completed Loans Amount','Default Loans Amount','Late Loans Amount', 'Active Loans Number','Completed Loans Number','Default Loans Number','Late Loans Number']\n",
    "loan_pivot_by_date_status.fillna(0, inplace=True)"
   ]
  },
  {
   "cell_type": "code",
   "execution_count": 229,
   "metadata": {},
   "outputs": [
    {
     "data": {
      "application/vnd.plotly.v1+json": {
       "config": {
        "plotlyServerURL": "https://plot.ly"
       },
       "data": [
        {
         "name": "Completed",
         "type": "bar",
         "x": [
          "2007-01-01T00:00:00",
          "2007-02-01T00:00:00",
          "2007-03-01T00:00:00",
          "2007-04-01T00:00:00",
          "2007-05-01T00:00:00",
          "2007-06-01T00:00:00",
          "2007-07-01T00:00:00",
          "2007-08-01T00:00:00",
          "2007-09-01T00:00:00",
          "2007-10-01T00:00:00",
          "2007-11-01T00:00:00",
          "2007-12-01T00:00:00",
          "2008-01-01T00:00:00",
          "2008-02-01T00:00:00",
          "2008-03-01T00:00:00",
          "2008-04-01T00:00:00",
          "2008-05-01T00:00:00",
          "2008-06-01T00:00:00",
          "2008-07-01T00:00:00",
          "2008-08-01T00:00:00",
          "2008-09-01T00:00:00",
          "2008-10-01T00:00:00",
          "2008-11-01T00:00:00",
          "2008-12-01T00:00:00",
          "2009-01-01T00:00:00",
          "2009-02-01T00:00:00",
          "2009-03-01T00:00:00",
          "2009-04-01T00:00:00",
          "2009-05-01T00:00:00",
          "2009-06-01T00:00:00",
          "2009-07-01T00:00:00",
          "2009-08-01T00:00:00",
          "2009-09-01T00:00:00",
          "2009-10-01T00:00:00",
          "2009-11-01T00:00:00",
          "2009-12-01T00:00:00",
          "2010-01-01T00:00:00",
          "2010-02-01T00:00:00",
          "2010-03-01T00:00:00",
          "2010-04-01T00:00:00",
          "2010-05-01T00:00:00",
          "2010-06-01T00:00:00",
          "2010-07-01T00:00:00",
          "2010-08-01T00:00:00",
          "2010-09-01T00:00:00",
          "2010-10-01T00:00:00",
          "2010-11-01T00:00:00",
          "2010-12-01T00:00:00",
          "2011-01-01T00:00:00",
          "2011-02-01T00:00:00",
          "2011-03-01T00:00:00",
          "2011-04-01T00:00:00",
          "2011-05-01T00:00:00",
          "2011-06-01T00:00:00",
          "2011-07-01T00:00:00",
          "2011-08-01T00:00:00",
          "2011-09-01T00:00:00",
          "2011-10-01T00:00:00",
          "2011-11-01T00:00:00",
          "2011-12-01T00:00:00",
          "2012-01-01T00:00:00",
          "2012-02-01T00:00:00",
          "2012-03-01T00:00:00",
          "2012-04-01T00:00:00",
          "2012-05-01T00:00:00",
          "2012-06-01T00:00:00",
          "2012-07-01T00:00:00",
          "2012-08-01T00:00:00",
          "2012-09-01T00:00:00",
          "2012-10-01T00:00:00",
          "2012-11-01T00:00:00",
          "2012-12-01T00:00:00",
          "2013-01-01T00:00:00",
          "2013-02-01T00:00:00",
          "2013-03-01T00:00:00",
          "2013-04-01T00:00:00",
          "2013-05-01T00:00:00",
          "2013-06-01T00:00:00",
          "2013-07-01T00:00:00",
          "2013-08-01T00:00:00",
          "2013-09-01T00:00:00",
          "2013-10-01T00:00:00",
          "2013-11-01T00:00:00",
          "2013-12-01T00:00:00",
          "2014-01-01T00:00:00",
          "2014-02-01T00:00:00",
          "2014-03-01T00:00:00",
          "2014-04-01T00:00:00",
          "2014-05-01T00:00:00",
          "2014-06-01T00:00:00",
          "2014-07-01T00:00:00",
          "2014-08-01T00:00:00",
          "2014-09-01T00:00:00",
          "2014-10-01T00:00:00",
          "2014-11-01T00:00:00",
          "2014-12-01T00:00:00",
          "2015-01-01T00:00:00",
          "2015-02-01T00:00:00",
          "2015-03-01T00:00:00",
          "2015-04-01T00:00:00",
          "2015-05-01T00:00:00",
          "2015-06-01T00:00:00",
          "2015-07-01T00:00:00",
          "2015-08-01T00:00:00",
          "2015-09-01T00:00:00",
          "2015-10-01T00:00:00",
          "2015-11-01T00:00:00",
          "2015-12-01T00:00:00",
          "2016-01-01T00:00:00",
          "2016-02-01T00:00:00",
          "2016-03-01T00:00:00",
          "2016-04-01T00:00:00",
          "2016-05-01T00:00:00",
          "2016-06-01T00:00:00",
          "2016-07-01T00:00:00",
          "2016-08-01T00:00:00",
          "2016-09-01T00:00:00",
          "2016-10-01T00:00:00",
          "2016-11-01T00:00:00",
          "2016-12-01T00:00:00",
          "2017-01-01T00:00:00",
          "2017-02-01T00:00:00",
          "2017-03-01T00:00:00",
          "2017-04-01T00:00:00",
          "2017-05-01T00:00:00",
          "2017-06-01T00:00:00",
          "2017-07-01T00:00:00",
          "2017-08-01T00:00:00",
          "2017-09-01T00:00:00",
          "2017-10-01T00:00:00",
          "2017-11-01T00:00:00",
          "2017-12-01T00:00:00",
          "2018-01-01T00:00:00",
          "2018-02-01T00:00:00",
          "2018-03-01T00:00:00",
          "2018-04-01T00:00:00",
          "2018-05-01T00:00:00",
          "2018-06-01T00:00:00",
          "2018-07-01T00:00:00",
          "2018-08-01T00:00:00",
          "2018-09-01T00:00:00",
          "2018-10-01T00:00:00",
          "2018-11-01T00:00:00",
          "2018-12-01T00:00:00",
          "2019-01-01T00:00:00",
          "2019-02-01T00:00:00",
          "2019-03-01T00:00:00",
          "2019-04-01T00:00:00",
          "2019-05-01T00:00:00",
          "2019-06-01T00:00:00",
          "2019-07-01T00:00:00",
          "2019-08-01T00:00:00",
          "2019-09-01T00:00:00",
          "2019-10-01T00:00:00",
          "2019-11-01T00:00:00",
          "2019-12-01T00:00:00",
          "2020-01-01T00:00:00",
          "2020-02-01T00:00:00",
          "2020-03-01T00:00:00"
         ],
         "y": [
          870830,
          774190,
          1198180,
          634850,
          935860,
          806940,
          673380,
          537050,
          596010,
          761090,
          665860,
          444900,
          1055120,
          1014050,
          931590,
          795850,
          939900,
          780300,
          868350,
          1094500,
          953890,
          999800,
          935800,
          1088650,
          2035300,
          2277010,
          2540270,
          2936420,
          2980820,
          2714720,
          3068290,
          2613600,
          2408020,
          2866180,
          2810360,
          2320900,
          3651840,
          3263480,
          4092540,
          3162690,
          2696490,
          3869800,
          4299760,
          5253190,
          5126480,
          4378530,
          3884850,
          3668910,
          5579510,
          4795440,
          5078930,
          4158960,
          4696850,
          4938230,
          4410100,
          5121760,
          4487400,
          4292250,
          4215850,
          4775580,
          8087480,
          7410490,
          7225050,
          5910880,
          6695150,
          6711820,
          7688970,
          7748470,
          7214310,
          8170960,
          7434430,
          5265370,
          11634490,
          9809930,
          9636430,
          11463360,
          11132470,
          9466300,
          10882430,
          10245680,
          8630670,
          7658350,
          9260910,
          5787870,
          10857540,
          11011670,
          8665590,
          8665880,
          11438670,
          11714030,
          13000320,
          11082780,
          13327240,
          12627780,
          11713860,
          9677180,
          14521910,
          11444080,
          14597130,
          19202200,
          18300203,
          20368180,
          23994620,
          23708920,
          25894730,
          25085240,
          24558127,
          18760710,
          26421730,
          25955890,
          21677810,
          17835238,
          20708504,
          20791750,
          18552410,
          19559580,
          23548010,
          24555380,
          22535350,
          16849170,
          26957380,
          27246360,
          28423610,
          23483270,
          25048080,
          24084380,
          24913670,
          22714660,
          20112090,
          20210480,
          21489900,
          12020599,
          19534502,
          16138713,
          14515090,
          16045506,
          14850810,
          12165845,
          14415595,
          13293848,
          12785399,
          16181688,
          14097839,
          14207742,
          16374682,
          11268800,
          11513585,
          11455944,
          9761226,
          8102191,
          7894342,
          6055940,
          4772210,
          3701830,
          3027900,
          1561720,
          1815670,
          1504970,
          973240
         ]
        },
        {
         "name": "Active",
         "type": "bar",
         "x": [
          "2007-01-01T00:00:00",
          "2007-02-01T00:00:00",
          "2007-03-01T00:00:00",
          "2007-04-01T00:00:00",
          "2007-05-01T00:00:00",
          "2007-06-01T00:00:00",
          "2007-07-01T00:00:00",
          "2007-08-01T00:00:00",
          "2007-09-01T00:00:00",
          "2007-10-01T00:00:00",
          "2007-11-01T00:00:00",
          "2007-12-01T00:00:00",
          "2008-01-01T00:00:00",
          "2008-02-01T00:00:00",
          "2008-03-01T00:00:00",
          "2008-04-01T00:00:00",
          "2008-05-01T00:00:00",
          "2008-06-01T00:00:00",
          "2008-07-01T00:00:00",
          "2008-08-01T00:00:00",
          "2008-09-01T00:00:00",
          "2008-10-01T00:00:00",
          "2008-11-01T00:00:00",
          "2008-12-01T00:00:00",
          "2009-01-01T00:00:00",
          "2009-02-01T00:00:00",
          "2009-03-01T00:00:00",
          "2009-04-01T00:00:00",
          "2009-05-01T00:00:00",
          "2009-06-01T00:00:00",
          "2009-07-01T00:00:00",
          "2009-08-01T00:00:00",
          "2009-09-01T00:00:00",
          "2009-10-01T00:00:00",
          "2009-11-01T00:00:00",
          "2009-12-01T00:00:00",
          "2010-01-01T00:00:00",
          "2010-02-01T00:00:00",
          "2010-03-01T00:00:00",
          "2010-04-01T00:00:00",
          "2010-05-01T00:00:00",
          "2010-06-01T00:00:00",
          "2010-07-01T00:00:00",
          "2010-08-01T00:00:00",
          "2010-09-01T00:00:00",
          "2010-10-01T00:00:00",
          "2010-11-01T00:00:00",
          "2010-12-01T00:00:00",
          "2011-01-01T00:00:00",
          "2011-02-01T00:00:00",
          "2011-03-01T00:00:00",
          "2011-04-01T00:00:00",
          "2011-05-01T00:00:00",
          "2011-06-01T00:00:00",
          "2011-07-01T00:00:00",
          "2011-08-01T00:00:00",
          "2011-09-01T00:00:00",
          "2011-10-01T00:00:00",
          "2011-11-01T00:00:00",
          "2011-12-01T00:00:00",
          "2012-01-01T00:00:00",
          "2012-02-01T00:00:00",
          "2012-03-01T00:00:00",
          "2012-04-01T00:00:00",
          "2012-05-01T00:00:00",
          "2012-06-01T00:00:00",
          "2012-07-01T00:00:00",
          "2012-08-01T00:00:00",
          "2012-09-01T00:00:00",
          "2012-10-01T00:00:00",
          "2012-11-01T00:00:00",
          "2012-12-01T00:00:00",
          "2013-01-01T00:00:00",
          "2013-02-01T00:00:00",
          "2013-03-01T00:00:00",
          "2013-04-01T00:00:00",
          "2013-05-01T00:00:00",
          "2013-06-01T00:00:00",
          "2013-07-01T00:00:00",
          "2013-08-01T00:00:00",
          "2013-09-01T00:00:00",
          "2013-10-01T00:00:00",
          "2013-11-01T00:00:00",
          "2013-12-01T00:00:00",
          "2014-01-01T00:00:00",
          "2014-02-01T00:00:00",
          "2014-03-01T00:00:00",
          "2014-04-01T00:00:00",
          "2014-05-01T00:00:00",
          "2014-06-01T00:00:00",
          "2014-07-01T00:00:00",
          "2014-08-01T00:00:00",
          "2014-09-01T00:00:00",
          "2014-10-01T00:00:00",
          "2014-11-01T00:00:00",
          "2014-12-01T00:00:00",
          "2015-01-01T00:00:00",
          "2015-02-01T00:00:00",
          "2015-03-01T00:00:00",
          "2015-04-01T00:00:00",
          "2015-05-01T00:00:00",
          "2015-06-01T00:00:00",
          "2015-07-01T00:00:00",
          "2015-08-01T00:00:00",
          "2015-09-01T00:00:00",
          "2015-10-01T00:00:00",
          "2015-11-01T00:00:00",
          "2015-12-01T00:00:00",
          "2016-01-01T00:00:00",
          "2016-02-01T00:00:00",
          "2016-03-01T00:00:00",
          "2016-04-01T00:00:00",
          "2016-05-01T00:00:00",
          "2016-06-01T00:00:00",
          "2016-07-01T00:00:00",
          "2016-08-01T00:00:00",
          "2016-09-01T00:00:00",
          "2016-10-01T00:00:00",
          "2016-11-01T00:00:00",
          "2016-12-01T00:00:00",
          "2017-01-01T00:00:00",
          "2017-02-01T00:00:00",
          "2017-03-01T00:00:00",
          "2017-04-01T00:00:00",
          "2017-05-01T00:00:00",
          "2017-06-01T00:00:00",
          "2017-07-01T00:00:00",
          "2017-08-01T00:00:00",
          "2017-09-01T00:00:00",
          "2017-10-01T00:00:00",
          "2017-11-01T00:00:00",
          "2017-12-01T00:00:00",
          "2018-01-01T00:00:00",
          "2018-02-01T00:00:00",
          "2018-03-01T00:00:00",
          "2018-04-01T00:00:00",
          "2018-05-01T00:00:00",
          "2018-06-01T00:00:00",
          "2018-07-01T00:00:00",
          "2018-08-01T00:00:00",
          "2018-09-01T00:00:00",
          "2018-10-01T00:00:00",
          "2018-11-01T00:00:00",
          "2018-12-01T00:00:00",
          "2019-01-01T00:00:00",
          "2019-02-01T00:00:00",
          "2019-03-01T00:00:00",
          "2019-04-01T00:00:00",
          "2019-05-01T00:00:00",
          "2019-06-01T00:00:00",
          "2019-07-01T00:00:00",
          "2019-08-01T00:00:00",
          "2019-09-01T00:00:00",
          "2019-10-01T00:00:00",
          "2019-11-01T00:00:00",
          "2019-12-01T00:00:00",
          "2020-01-01T00:00:00",
          "2020-02-01T00:00:00",
          "2020-03-01T00:00:00"
         ],
         "y": [
          0,
          0,
          0,
          0,
          0,
          0,
          0,
          0,
          0,
          0,
          0,
          0,
          0,
          0,
          0,
          0,
          0,
          0,
          0,
          0,
          0,
          0,
          0,
          0,
          0,
          0,
          0,
          0,
          0,
          0,
          0,
          0,
          0,
          0,
          0,
          0,
          0,
          0,
          0,
          0,
          0,
          0,
          0,
          0,
          0,
          0,
          0,
          0,
          0,
          0,
          0,
          0,
          0,
          0,
          0,
          0,
          0,
          0,
          0,
          0,
          0,
          0,
          0,
          0,
          0,
          0,
          0,
          0,
          0,
          0,
          0,
          0,
          0,
          0,
          0,
          0,
          0,
          0,
          0,
          0,
          0,
          0,
          0,
          0,
          0,
          0,
          15340,
          0,
          0,
          0,
          0,
          0,
          0,
          0,
          0,
          8200,
          0,
          15380,
          130320,
          1875350,
          2654480,
          2942630,
          3701340,
          3778690,
          4613540,
          4958010,
          4517710,
          3416530,
          5054070,
          4902950,
          3819720,
          4252640,
          4908690,
          5397280,
          5130150,
          4790080,
          5884570,
          6584020,
          6953720,
          4962120,
          7349650,
          8138770,
          8929680,
          10292370,
          11431490,
          11972780,
          12796900,
          11962210,
          10853130,
          11281890,
          13566040,
          6850376,
          13204555,
          12767284,
          12322582,
          16072546,
          17967075,
          15892546,
          19378362,
          18768251,
          20125793,
          26794954,
          23920505,
          16098180,
          28110719,
          25951346,
          28638611,
          34324448,
          38655348,
          35692547,
          40000723,
          35414976,
          35652019,
          37379780,
          38763270,
          23603130,
          44798579,
          45444244,
          37098713
         ]
        },
        {
         "name": "Default",
         "type": "bar",
         "x": [
          "2007-01-01T00:00:00",
          "2007-02-01T00:00:00",
          "2007-03-01T00:00:00",
          "2007-04-01T00:00:00",
          "2007-05-01T00:00:00",
          "2007-06-01T00:00:00",
          "2007-07-01T00:00:00",
          "2007-08-01T00:00:00",
          "2007-09-01T00:00:00",
          "2007-10-01T00:00:00",
          "2007-11-01T00:00:00",
          "2007-12-01T00:00:00",
          "2008-01-01T00:00:00",
          "2008-02-01T00:00:00",
          "2008-03-01T00:00:00",
          "2008-04-01T00:00:00",
          "2008-05-01T00:00:00",
          "2008-06-01T00:00:00",
          "2008-07-01T00:00:00",
          "2008-08-01T00:00:00",
          "2008-09-01T00:00:00",
          "2008-10-01T00:00:00",
          "2008-11-01T00:00:00",
          "2008-12-01T00:00:00",
          "2009-01-01T00:00:00",
          "2009-02-01T00:00:00",
          "2009-03-01T00:00:00",
          "2009-04-01T00:00:00",
          "2009-05-01T00:00:00",
          "2009-06-01T00:00:00",
          "2009-07-01T00:00:00",
          "2009-08-01T00:00:00",
          "2009-09-01T00:00:00",
          "2009-10-01T00:00:00",
          "2009-11-01T00:00:00",
          "2009-12-01T00:00:00",
          "2010-01-01T00:00:00",
          "2010-02-01T00:00:00",
          "2010-03-01T00:00:00",
          "2010-04-01T00:00:00",
          "2010-05-01T00:00:00",
          "2010-06-01T00:00:00",
          "2010-07-01T00:00:00",
          "2010-08-01T00:00:00",
          "2010-09-01T00:00:00",
          "2010-10-01T00:00:00",
          "2010-11-01T00:00:00",
          "2010-12-01T00:00:00",
          "2011-01-01T00:00:00",
          "2011-02-01T00:00:00",
          "2011-03-01T00:00:00",
          "2011-04-01T00:00:00",
          "2011-05-01T00:00:00",
          "2011-06-01T00:00:00",
          "2011-07-01T00:00:00",
          "2011-08-01T00:00:00",
          "2011-09-01T00:00:00",
          "2011-10-01T00:00:00",
          "2011-11-01T00:00:00",
          "2011-12-01T00:00:00",
          "2012-01-01T00:00:00",
          "2012-02-01T00:00:00",
          "2012-03-01T00:00:00",
          "2012-04-01T00:00:00",
          "2012-05-01T00:00:00",
          "2012-06-01T00:00:00",
          "2012-07-01T00:00:00",
          "2012-08-01T00:00:00",
          "2012-09-01T00:00:00",
          "2012-10-01T00:00:00",
          "2012-11-01T00:00:00",
          "2012-12-01T00:00:00",
          "2013-01-01T00:00:00",
          "2013-02-01T00:00:00",
          "2013-03-01T00:00:00",
          "2013-04-01T00:00:00",
          "2013-05-01T00:00:00",
          "2013-06-01T00:00:00",
          "2013-07-01T00:00:00",
          "2013-08-01T00:00:00",
          "2013-09-01T00:00:00",
          "2013-10-01T00:00:00",
          "2013-11-01T00:00:00",
          "2013-12-01T00:00:00",
          "2014-01-01T00:00:00",
          "2014-02-01T00:00:00",
          "2014-03-01T00:00:00",
          "2014-04-01T00:00:00",
          "2014-05-01T00:00:00",
          "2014-06-01T00:00:00",
          "2014-07-01T00:00:00",
          "2014-08-01T00:00:00",
          "2014-09-01T00:00:00",
          "2014-10-01T00:00:00",
          "2014-11-01T00:00:00",
          "2014-12-01T00:00:00",
          "2015-01-01T00:00:00",
          "2015-02-01T00:00:00",
          "2015-03-01T00:00:00",
          "2015-04-01T00:00:00",
          "2015-05-01T00:00:00",
          "2015-06-01T00:00:00",
          "2015-07-01T00:00:00",
          "2015-08-01T00:00:00",
          "2015-09-01T00:00:00",
          "2015-10-01T00:00:00",
          "2015-11-01T00:00:00",
          "2015-12-01T00:00:00",
          "2016-01-01T00:00:00",
          "2016-02-01T00:00:00",
          "2016-03-01T00:00:00",
          "2016-04-01T00:00:00",
          "2016-05-01T00:00:00",
          "2016-06-01T00:00:00",
          "2016-07-01T00:00:00",
          "2016-08-01T00:00:00",
          "2016-09-01T00:00:00",
          "2016-10-01T00:00:00",
          "2016-11-01T00:00:00",
          "2016-12-01T00:00:00",
          "2017-01-01T00:00:00",
          "2017-02-01T00:00:00",
          "2017-03-01T00:00:00",
          "2017-04-01T00:00:00",
          "2017-05-01T00:00:00",
          "2017-06-01T00:00:00",
          "2017-07-01T00:00:00",
          "2017-08-01T00:00:00",
          "2017-09-01T00:00:00",
          "2017-10-01T00:00:00",
          "2017-11-01T00:00:00",
          "2017-12-01T00:00:00",
          "2018-01-01T00:00:00",
          "2018-02-01T00:00:00",
          "2018-03-01T00:00:00",
          "2018-04-01T00:00:00",
          "2018-05-01T00:00:00",
          "2018-06-01T00:00:00",
          "2018-07-01T00:00:00",
          "2018-08-01T00:00:00",
          "2018-09-01T00:00:00",
          "2018-10-01T00:00:00",
          "2018-11-01T00:00:00",
          "2018-12-01T00:00:00",
          "2019-01-01T00:00:00",
          "2019-02-01T00:00:00",
          "2019-03-01T00:00:00",
          "2019-04-01T00:00:00",
          "2019-05-01T00:00:00",
          "2019-06-01T00:00:00",
          "2019-07-01T00:00:00",
          "2019-08-01T00:00:00",
          "2019-09-01T00:00:00",
          "2019-10-01T00:00:00",
          "2019-11-01T00:00:00",
          "2019-12-01T00:00:00",
          "2020-01-01T00:00:00",
          "2020-02-01T00:00:00",
          "2020-03-01T00:00:00"
         ],
         "y": [
          5810,
          0,
          2010,
          0,
          13070,
          3020,
          0,
          0,
          0,
          12580,
          24030,
          33540,
          5530,
          58890,
          96270,
          79810,
          131500,
          144600,
          101500,
          83800,
          120500,
          141400,
          166900,
          63800,
          173500,
          189820,
          144380,
          63820,
          82570,
          56560,
          132100,
          150260,
          95240,
          136960,
          150220,
          103040,
          150520,
          160380,
          173860,
          144450,
          136640,
          205160,
          196080,
          204300,
          204480,
          129470,
          90040,
          165310,
          177600,
          128740,
          99360,
          74170,
          69510,
          74850,
          88140,
          88630,
          66490,
          65610,
          71540,
          66170,
          91830,
          137860,
          145700,
          91700,
          150310,
          116290,
          141730,
          95210,
          123660,
          142930,
          120140,
          119650,
          175010,
          106530,
          100080,
          201360,
          223470,
          180050,
          278710,
          257460,
          135680,
          247390,
          251700,
          198510,
          438590,
          376810,
          544280,
          480930,
          750830,
          926650,
          1260620,
          903210,
          1063820,
          1115540,
          1121790,
          1197850,
          1488090,
          1264540,
          1705700,
          3185640,
          2811640,
          3401680,
          3715010,
          4241320,
          4614940,
          4610900,
          4737150,
          4363460,
          5345310,
          4947410,
          2722160,
          2914580,
          3034420,
          3165950,
          2660840,
          3574540,
          4575070,
          4681420,
          4085680,
          3411980,
          5033160,
          4870350,
          4971180,
          4391920,
          5179050,
          6035490,
          5093500,
          4458410,
          3125410,
          3607430,
          3574270,
          1995195,
          3087130,
          2467310,
          2134241,
          2733610,
          2824810,
          2502775,
          2381470,
          2064770,
          2179120,
          2823660,
          2850210,
          1911070,
          2533790,
          1724860,
          1726840,
          1454415,
          1660040,
          1139998,
          1363080,
          984535,
          624400,
          334510,
          132420,
          9840,
          5400,
          10520,
          0
         ]
        },
        {
         "name": "Late",
         "type": "bar",
         "x": [
          "2007-01-01T00:00:00",
          "2007-02-01T00:00:00",
          "2007-03-01T00:00:00",
          "2007-04-01T00:00:00",
          "2007-05-01T00:00:00",
          "2007-06-01T00:00:00",
          "2007-07-01T00:00:00",
          "2007-08-01T00:00:00",
          "2007-09-01T00:00:00",
          "2007-10-01T00:00:00",
          "2007-11-01T00:00:00",
          "2007-12-01T00:00:00",
          "2008-01-01T00:00:00",
          "2008-02-01T00:00:00",
          "2008-03-01T00:00:00",
          "2008-04-01T00:00:00",
          "2008-05-01T00:00:00",
          "2008-06-01T00:00:00",
          "2008-07-01T00:00:00",
          "2008-08-01T00:00:00",
          "2008-09-01T00:00:00",
          "2008-10-01T00:00:00",
          "2008-11-01T00:00:00",
          "2008-12-01T00:00:00",
          "2009-01-01T00:00:00",
          "2009-02-01T00:00:00",
          "2009-03-01T00:00:00",
          "2009-04-01T00:00:00",
          "2009-05-01T00:00:00",
          "2009-06-01T00:00:00",
          "2009-07-01T00:00:00",
          "2009-08-01T00:00:00",
          "2009-09-01T00:00:00",
          "2009-10-01T00:00:00",
          "2009-11-01T00:00:00",
          "2009-12-01T00:00:00",
          "2010-01-01T00:00:00",
          "2010-02-01T00:00:00",
          "2010-03-01T00:00:00",
          "2010-04-01T00:00:00",
          "2010-05-01T00:00:00",
          "2010-06-01T00:00:00",
          "2010-07-01T00:00:00",
          "2010-08-01T00:00:00",
          "2010-09-01T00:00:00",
          "2010-10-01T00:00:00",
          "2010-11-01T00:00:00",
          "2010-12-01T00:00:00",
          "2011-01-01T00:00:00",
          "2011-02-01T00:00:00",
          "2011-03-01T00:00:00",
          "2011-04-01T00:00:00",
          "2011-05-01T00:00:00",
          "2011-06-01T00:00:00",
          "2011-07-01T00:00:00",
          "2011-08-01T00:00:00",
          "2011-09-01T00:00:00",
          "2011-10-01T00:00:00",
          "2011-11-01T00:00:00",
          "2011-12-01T00:00:00",
          "2012-01-01T00:00:00",
          "2012-02-01T00:00:00",
          "2012-03-01T00:00:00",
          "2012-04-01T00:00:00",
          "2012-05-01T00:00:00",
          "2012-06-01T00:00:00",
          "2012-07-01T00:00:00",
          "2012-08-01T00:00:00",
          "2012-09-01T00:00:00",
          "2012-10-01T00:00:00",
          "2012-11-01T00:00:00",
          "2012-12-01T00:00:00",
          "2013-01-01T00:00:00",
          "2013-02-01T00:00:00",
          "2013-03-01T00:00:00",
          "2013-04-01T00:00:00",
          "2013-05-01T00:00:00",
          "2013-06-01T00:00:00",
          "2013-07-01T00:00:00",
          "2013-08-01T00:00:00",
          "2013-09-01T00:00:00",
          "2013-10-01T00:00:00",
          "2013-11-01T00:00:00",
          "2013-12-01T00:00:00",
          "2014-01-01T00:00:00",
          "2014-02-01T00:00:00",
          "2014-03-01T00:00:00",
          "2014-04-01T00:00:00",
          "2014-05-01T00:00:00",
          "2014-06-01T00:00:00",
          "2014-07-01T00:00:00",
          "2014-08-01T00:00:00",
          "2014-09-01T00:00:00",
          "2014-10-01T00:00:00",
          "2014-11-01T00:00:00",
          "2014-12-01T00:00:00",
          "2015-01-01T00:00:00",
          "2015-02-01T00:00:00",
          "2015-03-01T00:00:00",
          "2015-04-01T00:00:00",
          "2015-05-01T00:00:00",
          "2015-06-01T00:00:00",
          "2015-07-01T00:00:00",
          "2015-08-01T00:00:00",
          "2015-09-01T00:00:00",
          "2015-10-01T00:00:00",
          "2015-11-01T00:00:00",
          "2015-12-01T00:00:00",
          "2016-01-01T00:00:00",
          "2016-02-01T00:00:00",
          "2016-03-01T00:00:00",
          "2016-04-01T00:00:00",
          "2016-05-01T00:00:00",
          "2016-06-01T00:00:00",
          "2016-07-01T00:00:00",
          "2016-08-01T00:00:00",
          "2016-09-01T00:00:00",
          "2016-10-01T00:00:00",
          "2016-11-01T00:00:00",
          "2016-12-01T00:00:00",
          "2017-01-01T00:00:00",
          "2017-02-01T00:00:00",
          "2017-03-01T00:00:00",
          "2017-04-01T00:00:00",
          "2017-05-01T00:00:00",
          "2017-06-01T00:00:00",
          "2017-07-01T00:00:00",
          "2017-08-01T00:00:00",
          "2017-09-01T00:00:00",
          "2017-10-01T00:00:00",
          "2017-11-01T00:00:00",
          "2017-12-01T00:00:00",
          "2018-01-01T00:00:00",
          "2018-02-01T00:00:00",
          "2018-03-01T00:00:00",
          "2018-04-01T00:00:00",
          "2018-05-01T00:00:00",
          "2018-06-01T00:00:00",
          "2018-07-01T00:00:00",
          "2018-08-01T00:00:00",
          "2018-09-01T00:00:00",
          "2018-10-01T00:00:00",
          "2018-11-01T00:00:00",
          "2018-12-01T00:00:00",
          "2019-01-01T00:00:00",
          "2019-02-01T00:00:00",
          "2019-03-01T00:00:00",
          "2019-04-01T00:00:00",
          "2019-05-01T00:00:00",
          "2019-06-01T00:00:00",
          "2019-07-01T00:00:00",
          "2019-08-01T00:00:00",
          "2019-09-01T00:00:00",
          "2019-10-01T00:00:00",
          "2019-11-01T00:00:00",
          "2019-12-01T00:00:00",
          "2020-01-01T00:00:00",
          "2020-02-01T00:00:00",
          "2020-03-01T00:00:00"
         ],
         "y": [
          0,
          0,
          0,
          0,
          0,
          0,
          0,
          0,
          0,
          0,
          0,
          0,
          0,
          0,
          0,
          0,
          0,
          0,
          0,
          0,
          0,
          0,
          0,
          0,
          0,
          0,
          0,
          0,
          0,
          0,
          0,
          0,
          0,
          0,
          0,
          0,
          0,
          0,
          0,
          0,
          0,
          0,
          0,
          0,
          0,
          0,
          0,
          0,
          0,
          0,
          0,
          0,
          0,
          0,
          0,
          0,
          0,
          0,
          0,
          0,
          0,
          0,
          0,
          0,
          0,
          0,
          0,
          0,
          0,
          0,
          0,
          0,
          7060,
          0,
          0,
          0,
          0,
          0,
          0,
          0,
          0,
          0,
          0,
          0,
          0,
          25890,
          5720,
          13810,
          0,
          0,
          11020,
          2730,
          15300,
          16600,
          10630,
          22410,
          53200,
          27580,
          33110,
          218060,
          311680,
          454900,
          446570,
          395130,
          473570,
          564790,
          522390,
          531880,
          723310,
          890780,
          638300,
          558390,
          693220,
          790360,
          487870,
          593830,
          932620,
          1397790,
          1125450,
          687890,
          1609500,
          1500930,
          1533070,
          1642100,
          1748110,
          1844620,
          1913000,
          1954050,
          1751560,
          2018490,
          2540130,
          1450951,
          2088894,
          2080750,
          1855381,
          2144370,
          2796880,
          2710585,
          2968991,
          2715818,
          2922346,
          4652380,
          4262355,
          2901811,
          4898199,
          4242295,
          4760801,
          5553652,
          5911104,
          4402790,
          5248259,
          4850865,
          4236560,
          4205179,
          5191520,
          2454840,
          3707690,
          3001545,
          1269990
         ]
        }
       ],
       "layout": {
        "barmode": "stack",
        "template": {
         "data": {
          "bar": [
           {
            "error_x": {
             "color": "#2a3f5f"
            },
            "error_y": {
             "color": "#2a3f5f"
            },
            "marker": {
             "line": {
              "color": "#E5ECF6",
              "width": 0.5
             }
            },
            "type": "bar"
           }
          ],
          "barpolar": [
           {
            "marker": {
             "line": {
              "color": "#E5ECF6",
              "width": 0.5
             }
            },
            "type": "barpolar"
           }
          ],
          "carpet": [
           {
            "aaxis": {
             "endlinecolor": "#2a3f5f",
             "gridcolor": "white",
             "linecolor": "white",
             "minorgridcolor": "white",
             "startlinecolor": "#2a3f5f"
            },
            "baxis": {
             "endlinecolor": "#2a3f5f",
             "gridcolor": "white",
             "linecolor": "white",
             "minorgridcolor": "white",
             "startlinecolor": "#2a3f5f"
            },
            "type": "carpet"
           }
          ],
          "choropleth": [
           {
            "colorbar": {
             "outlinewidth": 0,
             "ticks": ""
            },
            "type": "choropleth"
           }
          ],
          "contour": [
           {
            "colorbar": {
             "outlinewidth": 0,
             "ticks": ""
            },
            "colorscale": [
             [
              0,
              "#0d0887"
             ],
             [
              0.1111111111111111,
              "#46039f"
             ],
             [
              0.2222222222222222,
              "#7201a8"
             ],
             [
              0.3333333333333333,
              "#9c179e"
             ],
             [
              0.4444444444444444,
              "#bd3786"
             ],
             [
              0.5555555555555556,
              "#d8576b"
             ],
             [
              0.6666666666666666,
              "#ed7953"
             ],
             [
              0.7777777777777778,
              "#fb9f3a"
             ],
             [
              0.8888888888888888,
              "#fdca26"
             ],
             [
              1,
              "#f0f921"
             ]
            ],
            "type": "contour"
           }
          ],
          "contourcarpet": [
           {
            "colorbar": {
             "outlinewidth": 0,
             "ticks": ""
            },
            "type": "contourcarpet"
           }
          ],
          "heatmap": [
           {
            "colorbar": {
             "outlinewidth": 0,
             "ticks": ""
            },
            "colorscale": [
             [
              0,
              "#0d0887"
             ],
             [
              0.1111111111111111,
              "#46039f"
             ],
             [
              0.2222222222222222,
              "#7201a8"
             ],
             [
              0.3333333333333333,
              "#9c179e"
             ],
             [
              0.4444444444444444,
              "#bd3786"
             ],
             [
              0.5555555555555556,
              "#d8576b"
             ],
             [
              0.6666666666666666,
              "#ed7953"
             ],
             [
              0.7777777777777778,
              "#fb9f3a"
             ],
             [
              0.8888888888888888,
              "#fdca26"
             ],
             [
              1,
              "#f0f921"
             ]
            ],
            "type": "heatmap"
           }
          ],
          "heatmapgl": [
           {
            "colorbar": {
             "outlinewidth": 0,
             "ticks": ""
            },
            "colorscale": [
             [
              0,
              "#0d0887"
             ],
             [
              0.1111111111111111,
              "#46039f"
             ],
             [
              0.2222222222222222,
              "#7201a8"
             ],
             [
              0.3333333333333333,
              "#9c179e"
             ],
             [
              0.4444444444444444,
              "#bd3786"
             ],
             [
              0.5555555555555556,
              "#d8576b"
             ],
             [
              0.6666666666666666,
              "#ed7953"
             ],
             [
              0.7777777777777778,
              "#fb9f3a"
             ],
             [
              0.8888888888888888,
              "#fdca26"
             ],
             [
              1,
              "#f0f921"
             ]
            ],
            "type": "heatmapgl"
           }
          ],
          "histogram": [
           {
            "marker": {
             "colorbar": {
              "outlinewidth": 0,
              "ticks": ""
             }
            },
            "type": "histogram"
           }
          ],
          "histogram2d": [
           {
            "colorbar": {
             "outlinewidth": 0,
             "ticks": ""
            },
            "colorscale": [
             [
              0,
              "#0d0887"
             ],
             [
              0.1111111111111111,
              "#46039f"
             ],
             [
              0.2222222222222222,
              "#7201a8"
             ],
             [
              0.3333333333333333,
              "#9c179e"
             ],
             [
              0.4444444444444444,
              "#bd3786"
             ],
             [
              0.5555555555555556,
              "#d8576b"
             ],
             [
              0.6666666666666666,
              "#ed7953"
             ],
             [
              0.7777777777777778,
              "#fb9f3a"
             ],
             [
              0.8888888888888888,
              "#fdca26"
             ],
             [
              1,
              "#f0f921"
             ]
            ],
            "type": "histogram2d"
           }
          ],
          "histogram2dcontour": [
           {
            "colorbar": {
             "outlinewidth": 0,
             "ticks": ""
            },
            "colorscale": [
             [
              0,
              "#0d0887"
             ],
             [
              0.1111111111111111,
              "#46039f"
             ],
             [
              0.2222222222222222,
              "#7201a8"
             ],
             [
              0.3333333333333333,
              "#9c179e"
             ],
             [
              0.4444444444444444,
              "#bd3786"
             ],
             [
              0.5555555555555556,
              "#d8576b"
             ],
             [
              0.6666666666666666,
              "#ed7953"
             ],
             [
              0.7777777777777778,
              "#fb9f3a"
             ],
             [
              0.8888888888888888,
              "#fdca26"
             ],
             [
              1,
              "#f0f921"
             ]
            ],
            "type": "histogram2dcontour"
           }
          ],
          "mesh3d": [
           {
            "colorbar": {
             "outlinewidth": 0,
             "ticks": ""
            },
            "type": "mesh3d"
           }
          ],
          "parcoords": [
           {
            "line": {
             "colorbar": {
              "outlinewidth": 0,
              "ticks": ""
             }
            },
            "type": "parcoords"
           }
          ],
          "pie": [
           {
            "automargin": true,
            "type": "pie"
           }
          ],
          "scatter": [
           {
            "marker": {
             "colorbar": {
              "outlinewidth": 0,
              "ticks": ""
             }
            },
            "type": "scatter"
           }
          ],
          "scatter3d": [
           {
            "line": {
             "colorbar": {
              "outlinewidth": 0,
              "ticks": ""
             }
            },
            "marker": {
             "colorbar": {
              "outlinewidth": 0,
              "ticks": ""
             }
            },
            "type": "scatter3d"
           }
          ],
          "scattercarpet": [
           {
            "marker": {
             "colorbar": {
              "outlinewidth": 0,
              "ticks": ""
             }
            },
            "type": "scattercarpet"
           }
          ],
          "scattergeo": [
           {
            "marker": {
             "colorbar": {
              "outlinewidth": 0,
              "ticks": ""
             }
            },
            "type": "scattergeo"
           }
          ],
          "scattergl": [
           {
            "marker": {
             "colorbar": {
              "outlinewidth": 0,
              "ticks": ""
             }
            },
            "type": "scattergl"
           }
          ],
          "scattermapbox": [
           {
            "marker": {
             "colorbar": {
              "outlinewidth": 0,
              "ticks": ""
             }
            },
            "type": "scattermapbox"
           }
          ],
          "scatterpolar": [
           {
            "marker": {
             "colorbar": {
              "outlinewidth": 0,
              "ticks": ""
             }
            },
            "type": "scatterpolar"
           }
          ],
          "scatterpolargl": [
           {
            "marker": {
             "colorbar": {
              "outlinewidth": 0,
              "ticks": ""
             }
            },
            "type": "scatterpolargl"
           }
          ],
          "scatterternary": [
           {
            "marker": {
             "colorbar": {
              "outlinewidth": 0,
              "ticks": ""
             }
            },
            "type": "scatterternary"
           }
          ],
          "surface": [
           {
            "colorbar": {
             "outlinewidth": 0,
             "ticks": ""
            },
            "colorscale": [
             [
              0,
              "#0d0887"
             ],
             [
              0.1111111111111111,
              "#46039f"
             ],
             [
              0.2222222222222222,
              "#7201a8"
             ],
             [
              0.3333333333333333,
              "#9c179e"
             ],
             [
              0.4444444444444444,
              "#bd3786"
             ],
             [
              0.5555555555555556,
              "#d8576b"
             ],
             [
              0.6666666666666666,
              "#ed7953"
             ],
             [
              0.7777777777777778,
              "#fb9f3a"
             ],
             [
              0.8888888888888888,
              "#fdca26"
             ],
             [
              1,
              "#f0f921"
             ]
            ],
            "type": "surface"
           }
          ],
          "table": [
           {
            "cells": {
             "fill": {
              "color": "#EBF0F8"
             },
             "line": {
              "color": "white"
             }
            },
            "header": {
             "fill": {
              "color": "#C8D4E3"
             },
             "line": {
              "color": "white"
             }
            },
            "type": "table"
           }
          ]
         },
         "layout": {
          "annotationdefaults": {
           "arrowcolor": "#2a3f5f",
           "arrowhead": 0,
           "arrowwidth": 1
          },
          "autotypenumbers": "strict",
          "coloraxis": {
           "colorbar": {
            "outlinewidth": 0,
            "ticks": ""
           }
          },
          "colorscale": {
           "diverging": [
            [
             0,
             "#8e0152"
            ],
            [
             0.1,
             "#c51b7d"
            ],
            [
             0.2,
             "#de77ae"
            ],
            [
             0.3,
             "#f1b6da"
            ],
            [
             0.4,
             "#fde0ef"
            ],
            [
             0.5,
             "#f7f7f7"
            ],
            [
             0.6,
             "#e6f5d0"
            ],
            [
             0.7,
             "#b8e186"
            ],
            [
             0.8,
             "#7fbc41"
            ],
            [
             0.9,
             "#4d9221"
            ],
            [
             1,
             "#276419"
            ]
           ],
           "sequential": [
            [
             0,
             "#0d0887"
            ],
            [
             0.1111111111111111,
             "#46039f"
            ],
            [
             0.2222222222222222,
             "#7201a8"
            ],
            [
             0.3333333333333333,
             "#9c179e"
            ],
            [
             0.4444444444444444,
             "#bd3786"
            ],
            [
             0.5555555555555556,
             "#d8576b"
            ],
            [
             0.6666666666666666,
             "#ed7953"
            ],
            [
             0.7777777777777778,
             "#fb9f3a"
            ],
            [
             0.8888888888888888,
             "#fdca26"
            ],
            [
             1,
             "#f0f921"
            ]
           ],
           "sequentialminus": [
            [
             0,
             "#0d0887"
            ],
            [
             0.1111111111111111,
             "#46039f"
            ],
            [
             0.2222222222222222,
             "#7201a8"
            ],
            [
             0.3333333333333333,
             "#9c179e"
            ],
            [
             0.4444444444444444,
             "#bd3786"
            ],
            [
             0.5555555555555556,
             "#d8576b"
            ],
            [
             0.6666666666666666,
             "#ed7953"
            ],
            [
             0.7777777777777778,
             "#fb9f3a"
            ],
            [
             0.8888888888888888,
             "#fdca26"
            ],
            [
             1,
             "#f0f921"
            ]
           ]
          },
          "colorway": [
           "#636efa",
           "#EF553B",
           "#00cc96",
           "#ab63fa",
           "#FFA15A",
           "#19d3f3",
           "#FF6692",
           "#B6E880",
           "#FF97FF",
           "#FECB52"
          ],
          "font": {
           "color": "#2a3f5f"
          },
          "geo": {
           "bgcolor": "white",
           "lakecolor": "white",
           "landcolor": "#E5ECF6",
           "showlakes": true,
           "showland": true,
           "subunitcolor": "white"
          },
          "hoverlabel": {
           "align": "left"
          },
          "hovermode": "closest",
          "mapbox": {
           "style": "light"
          },
          "paper_bgcolor": "white",
          "plot_bgcolor": "#E5ECF6",
          "polar": {
           "angularaxis": {
            "gridcolor": "white",
            "linecolor": "white",
            "ticks": ""
           },
           "bgcolor": "#E5ECF6",
           "radialaxis": {
            "gridcolor": "white",
            "linecolor": "white",
            "ticks": ""
           }
          },
          "scene": {
           "xaxis": {
            "backgroundcolor": "#E5ECF6",
            "gridcolor": "white",
            "gridwidth": 2,
            "linecolor": "white",
            "showbackground": true,
            "ticks": "",
            "zerolinecolor": "white"
           },
           "yaxis": {
            "backgroundcolor": "#E5ECF6",
            "gridcolor": "white",
            "gridwidth": 2,
            "linecolor": "white",
            "showbackground": true,
            "ticks": "",
            "zerolinecolor": "white"
           },
           "zaxis": {
            "backgroundcolor": "#E5ECF6",
            "gridcolor": "white",
            "gridwidth": 2,
            "linecolor": "white",
            "showbackground": true,
            "ticks": "",
            "zerolinecolor": "white"
           }
          },
          "shapedefaults": {
           "line": {
            "color": "#2a3f5f"
           }
          },
          "ternary": {
           "aaxis": {
            "gridcolor": "white",
            "linecolor": "white",
            "ticks": ""
           },
           "baxis": {
            "gridcolor": "white",
            "linecolor": "white",
            "ticks": ""
           },
           "bgcolor": "#E5ECF6",
           "caxis": {
            "gridcolor": "white",
            "linecolor": "white",
            "ticks": ""
           }
          },
          "title": {
           "x": 0.05
          },
          "xaxis": {
           "automargin": true,
           "gridcolor": "white",
           "linecolor": "white",
           "ticks": "",
           "title": {
            "standoff": 15
           },
           "zerolinecolor": "white",
           "zerolinewidth": 2
          },
          "yaxis": {
           "automargin": true,
           "gridcolor": "white",
           "linecolor": "white",
           "ticks": "",
           "title": {
            "standoff": 15
           },
           "zerolinecolor": "white",
           "zerolinewidth": 2
          }
         }
        },
        "title": {
         "text": "Bar chart of loan performance over time",
         "x": 0.5
        },
        "yaxis": {
         "title": {
          "text": "Loans amount"
         }
        }
       }
      },
      "text/html": [
       "<div>                            <div id=\"0206aaf2-6b99-4b4c-9c0e-58a984b86f4c\" class=\"plotly-graph-div\" style=\"height:525px; width:100%;\"></div>            <script type=\"text/javascript\">                require([\"plotly\"], function(Plotly) {                    window.PLOTLYENV=window.PLOTLYENV || {};                                    if (document.getElementById(\"0206aaf2-6b99-4b4c-9c0e-58a984b86f4c\")) {                    Plotly.newPlot(                        \"0206aaf2-6b99-4b4c-9c0e-58a984b86f4c\",                        [{\"name\": \"Completed\", \"type\": \"bar\", \"x\": [\"2007-01-01T00:00:00\", \"2007-02-01T00:00:00\", \"2007-03-01T00:00:00\", \"2007-04-01T00:00:00\", \"2007-05-01T00:00:00\", \"2007-06-01T00:00:00\", \"2007-07-01T00:00:00\", \"2007-08-01T00:00:00\", \"2007-09-01T00:00:00\", \"2007-10-01T00:00:00\", \"2007-11-01T00:00:00\", \"2007-12-01T00:00:00\", \"2008-01-01T00:00:00\", \"2008-02-01T00:00:00\", \"2008-03-01T00:00:00\", \"2008-04-01T00:00:00\", \"2008-05-01T00:00:00\", \"2008-06-01T00:00:00\", \"2008-07-01T00:00:00\", \"2008-08-01T00:00:00\", \"2008-09-01T00:00:00\", \"2008-10-01T00:00:00\", \"2008-11-01T00:00:00\", \"2008-12-01T00:00:00\", \"2009-01-01T00:00:00\", \"2009-02-01T00:00:00\", \"2009-03-01T00:00:00\", \"2009-04-01T00:00:00\", \"2009-05-01T00:00:00\", \"2009-06-01T00:00:00\", \"2009-07-01T00:00:00\", \"2009-08-01T00:00:00\", \"2009-09-01T00:00:00\", \"2009-10-01T00:00:00\", \"2009-11-01T00:00:00\", \"2009-12-01T00:00:00\", \"2010-01-01T00:00:00\", \"2010-02-01T00:00:00\", \"2010-03-01T00:00:00\", \"2010-04-01T00:00:00\", \"2010-05-01T00:00:00\", \"2010-06-01T00:00:00\", \"2010-07-01T00:00:00\", \"2010-08-01T00:00:00\", \"2010-09-01T00:00:00\", \"2010-10-01T00:00:00\", \"2010-11-01T00:00:00\", \"2010-12-01T00:00:00\", \"2011-01-01T00:00:00\", \"2011-02-01T00:00:00\", \"2011-03-01T00:00:00\", \"2011-04-01T00:00:00\", \"2011-05-01T00:00:00\", \"2011-06-01T00:00:00\", \"2011-07-01T00:00:00\", \"2011-08-01T00:00:00\", \"2011-09-01T00:00:00\", \"2011-10-01T00:00:00\", \"2011-11-01T00:00:00\", \"2011-12-01T00:00:00\", \"2012-01-01T00:00:00\", \"2012-02-01T00:00:00\", \"2012-03-01T00:00:00\", \"2012-04-01T00:00:00\", \"2012-05-01T00:00:00\", \"2012-06-01T00:00:00\", \"2012-07-01T00:00:00\", \"2012-08-01T00:00:00\", \"2012-09-01T00:00:00\", \"2012-10-01T00:00:00\", \"2012-11-01T00:00:00\", \"2012-12-01T00:00:00\", \"2013-01-01T00:00:00\", \"2013-02-01T00:00:00\", \"2013-03-01T00:00:00\", \"2013-04-01T00:00:00\", \"2013-05-01T00:00:00\", \"2013-06-01T00:00:00\", \"2013-07-01T00:00:00\", \"2013-08-01T00:00:00\", \"2013-09-01T00:00:00\", \"2013-10-01T00:00:00\", \"2013-11-01T00:00:00\", \"2013-12-01T00:00:00\", \"2014-01-01T00:00:00\", \"2014-02-01T00:00:00\", \"2014-03-01T00:00:00\", \"2014-04-01T00:00:00\", \"2014-05-01T00:00:00\", \"2014-06-01T00:00:00\", \"2014-07-01T00:00:00\", \"2014-08-01T00:00:00\", \"2014-09-01T00:00:00\", \"2014-10-01T00:00:00\", \"2014-11-01T00:00:00\", \"2014-12-01T00:00:00\", \"2015-01-01T00:00:00\", \"2015-02-01T00:00:00\", \"2015-03-01T00:00:00\", \"2015-04-01T00:00:00\", \"2015-05-01T00:00:00\", \"2015-06-01T00:00:00\", \"2015-07-01T00:00:00\", \"2015-08-01T00:00:00\", \"2015-09-01T00:00:00\", \"2015-10-01T00:00:00\", \"2015-11-01T00:00:00\", \"2015-12-01T00:00:00\", \"2016-01-01T00:00:00\", \"2016-02-01T00:00:00\", \"2016-03-01T00:00:00\", \"2016-04-01T00:00:00\", \"2016-05-01T00:00:00\", \"2016-06-01T00:00:00\", \"2016-07-01T00:00:00\", \"2016-08-01T00:00:00\", \"2016-09-01T00:00:00\", \"2016-10-01T00:00:00\", \"2016-11-01T00:00:00\", \"2016-12-01T00:00:00\", \"2017-01-01T00:00:00\", \"2017-02-01T00:00:00\", \"2017-03-01T00:00:00\", \"2017-04-01T00:00:00\", \"2017-05-01T00:00:00\", \"2017-06-01T00:00:00\", \"2017-07-01T00:00:00\", \"2017-08-01T00:00:00\", \"2017-09-01T00:00:00\", \"2017-10-01T00:00:00\", \"2017-11-01T00:00:00\", \"2017-12-01T00:00:00\", \"2018-01-01T00:00:00\", \"2018-02-01T00:00:00\", \"2018-03-01T00:00:00\", \"2018-04-01T00:00:00\", \"2018-05-01T00:00:00\", \"2018-06-01T00:00:00\", \"2018-07-01T00:00:00\", \"2018-08-01T00:00:00\", \"2018-09-01T00:00:00\", \"2018-10-01T00:00:00\", \"2018-11-01T00:00:00\", \"2018-12-01T00:00:00\", \"2019-01-01T00:00:00\", \"2019-02-01T00:00:00\", \"2019-03-01T00:00:00\", \"2019-04-01T00:00:00\", \"2019-05-01T00:00:00\", \"2019-06-01T00:00:00\", \"2019-07-01T00:00:00\", \"2019-08-01T00:00:00\", \"2019-09-01T00:00:00\", \"2019-10-01T00:00:00\", \"2019-11-01T00:00:00\", \"2019-12-01T00:00:00\", \"2020-01-01T00:00:00\", \"2020-02-01T00:00:00\", \"2020-03-01T00:00:00\"], \"y\": [870830.0, 774190.0, 1198180.0, 634850.0, 935860.0, 806940.0, 673380.0, 537050.0, 596010.0, 761090.0, 665860.0, 444900.0, 1055120.0, 1014050.0, 931590.0, 795850.0, 939900.0, 780300.0, 868350.0, 1094500.0, 953890.0, 999800.0, 935800.0, 1088650.0, 2035300.0, 2277010.0, 2540270.0, 2936420.0, 2980820.0, 2714720.0, 3068290.0, 2613600.0, 2408020.0, 2866180.0, 2810360.0, 2320900.0, 3651840.0, 3263480.0, 4092540.0, 3162690.0, 2696490.0, 3869800.0, 4299760.0, 5253190.0, 5126480.0, 4378530.0, 3884850.0, 3668910.0, 5579510.0, 4795440.0, 5078930.0, 4158960.0, 4696850.0, 4938230.0, 4410100.0, 5121760.0, 4487400.0, 4292250.0, 4215850.0, 4775580.0, 8087480.0, 7410490.0, 7225050.0, 5910880.0, 6695150.0, 6711820.0, 7688970.0, 7748470.0, 7214310.0, 8170960.0, 7434430.0, 5265370.0, 11634490.0, 9809930.0, 9636430.0, 11463360.0, 11132470.0, 9466300.0, 10882430.0, 10245680.0, 8630670.0, 7658350.0, 9260910.0, 5787870.0, 10857540.0, 11011670.0, 8665590.0, 8665880.0, 11438670.0, 11714030.0, 13000320.0, 11082780.0, 13327240.0, 12627780.0, 11713860.0, 9677180.0, 14521910.0, 11444080.0, 14597130.0, 19202200.0, 18300203.0, 20368180.0, 23994620.0, 23708920.0, 25894730.0, 25085240.0, 24558127.0, 18760710.0, 26421730.0, 25955890.0, 21677810.0, 17835238.0, 20708504.0, 20791750.0, 18552410.0, 19559580.0, 23548010.0, 24555380.0, 22535350.0, 16849170.0, 26957380.0, 27246360.0, 28423610.0, 23483270.0, 25048080.0, 24084380.0, 24913670.0, 22714660.0, 20112090.0, 20210480.0, 21489900.0, 12020599.0, 19534502.0, 16138713.0, 14515090.0, 16045506.0, 14850810.0, 12165845.0, 14415595.0, 13293848.0, 12785399.0, 16181688.0, 14097839.0, 14207742.0, 16374682.0, 11268800.0, 11513585.0, 11455944.0, 9761226.0, 8102191.0, 7894342.0, 6055940.0, 4772210.0, 3701830.0, 3027900.0, 1561720.0, 1815670.0, 1504970.0, 973240.0]}, {\"name\": \"Active\", \"type\": \"bar\", \"x\": [\"2007-01-01T00:00:00\", \"2007-02-01T00:00:00\", \"2007-03-01T00:00:00\", \"2007-04-01T00:00:00\", \"2007-05-01T00:00:00\", \"2007-06-01T00:00:00\", \"2007-07-01T00:00:00\", \"2007-08-01T00:00:00\", \"2007-09-01T00:00:00\", \"2007-10-01T00:00:00\", \"2007-11-01T00:00:00\", \"2007-12-01T00:00:00\", \"2008-01-01T00:00:00\", \"2008-02-01T00:00:00\", \"2008-03-01T00:00:00\", \"2008-04-01T00:00:00\", \"2008-05-01T00:00:00\", \"2008-06-01T00:00:00\", \"2008-07-01T00:00:00\", \"2008-08-01T00:00:00\", \"2008-09-01T00:00:00\", \"2008-10-01T00:00:00\", \"2008-11-01T00:00:00\", \"2008-12-01T00:00:00\", \"2009-01-01T00:00:00\", \"2009-02-01T00:00:00\", \"2009-03-01T00:00:00\", \"2009-04-01T00:00:00\", \"2009-05-01T00:00:00\", \"2009-06-01T00:00:00\", \"2009-07-01T00:00:00\", \"2009-08-01T00:00:00\", \"2009-09-01T00:00:00\", \"2009-10-01T00:00:00\", \"2009-11-01T00:00:00\", \"2009-12-01T00:00:00\", \"2010-01-01T00:00:00\", \"2010-02-01T00:00:00\", \"2010-03-01T00:00:00\", \"2010-04-01T00:00:00\", \"2010-05-01T00:00:00\", \"2010-06-01T00:00:00\", \"2010-07-01T00:00:00\", \"2010-08-01T00:00:00\", \"2010-09-01T00:00:00\", \"2010-10-01T00:00:00\", \"2010-11-01T00:00:00\", \"2010-12-01T00:00:00\", \"2011-01-01T00:00:00\", \"2011-02-01T00:00:00\", \"2011-03-01T00:00:00\", \"2011-04-01T00:00:00\", \"2011-05-01T00:00:00\", \"2011-06-01T00:00:00\", \"2011-07-01T00:00:00\", \"2011-08-01T00:00:00\", \"2011-09-01T00:00:00\", \"2011-10-01T00:00:00\", \"2011-11-01T00:00:00\", \"2011-12-01T00:00:00\", \"2012-01-01T00:00:00\", \"2012-02-01T00:00:00\", \"2012-03-01T00:00:00\", \"2012-04-01T00:00:00\", \"2012-05-01T00:00:00\", \"2012-06-01T00:00:00\", \"2012-07-01T00:00:00\", \"2012-08-01T00:00:00\", \"2012-09-01T00:00:00\", \"2012-10-01T00:00:00\", \"2012-11-01T00:00:00\", \"2012-12-01T00:00:00\", \"2013-01-01T00:00:00\", \"2013-02-01T00:00:00\", \"2013-03-01T00:00:00\", \"2013-04-01T00:00:00\", \"2013-05-01T00:00:00\", \"2013-06-01T00:00:00\", \"2013-07-01T00:00:00\", \"2013-08-01T00:00:00\", \"2013-09-01T00:00:00\", \"2013-10-01T00:00:00\", \"2013-11-01T00:00:00\", \"2013-12-01T00:00:00\", \"2014-01-01T00:00:00\", \"2014-02-01T00:00:00\", \"2014-03-01T00:00:00\", \"2014-04-01T00:00:00\", \"2014-05-01T00:00:00\", \"2014-06-01T00:00:00\", \"2014-07-01T00:00:00\", \"2014-08-01T00:00:00\", \"2014-09-01T00:00:00\", \"2014-10-01T00:00:00\", \"2014-11-01T00:00:00\", \"2014-12-01T00:00:00\", \"2015-01-01T00:00:00\", \"2015-02-01T00:00:00\", \"2015-03-01T00:00:00\", \"2015-04-01T00:00:00\", \"2015-05-01T00:00:00\", \"2015-06-01T00:00:00\", \"2015-07-01T00:00:00\", \"2015-08-01T00:00:00\", \"2015-09-01T00:00:00\", \"2015-10-01T00:00:00\", \"2015-11-01T00:00:00\", \"2015-12-01T00:00:00\", \"2016-01-01T00:00:00\", \"2016-02-01T00:00:00\", \"2016-03-01T00:00:00\", \"2016-04-01T00:00:00\", \"2016-05-01T00:00:00\", \"2016-06-01T00:00:00\", \"2016-07-01T00:00:00\", \"2016-08-01T00:00:00\", \"2016-09-01T00:00:00\", \"2016-10-01T00:00:00\", \"2016-11-01T00:00:00\", \"2016-12-01T00:00:00\", \"2017-01-01T00:00:00\", \"2017-02-01T00:00:00\", \"2017-03-01T00:00:00\", \"2017-04-01T00:00:00\", \"2017-05-01T00:00:00\", \"2017-06-01T00:00:00\", \"2017-07-01T00:00:00\", \"2017-08-01T00:00:00\", \"2017-09-01T00:00:00\", \"2017-10-01T00:00:00\", \"2017-11-01T00:00:00\", \"2017-12-01T00:00:00\", \"2018-01-01T00:00:00\", \"2018-02-01T00:00:00\", \"2018-03-01T00:00:00\", \"2018-04-01T00:00:00\", \"2018-05-01T00:00:00\", \"2018-06-01T00:00:00\", \"2018-07-01T00:00:00\", \"2018-08-01T00:00:00\", \"2018-09-01T00:00:00\", \"2018-10-01T00:00:00\", \"2018-11-01T00:00:00\", \"2018-12-01T00:00:00\", \"2019-01-01T00:00:00\", \"2019-02-01T00:00:00\", \"2019-03-01T00:00:00\", \"2019-04-01T00:00:00\", \"2019-05-01T00:00:00\", \"2019-06-01T00:00:00\", \"2019-07-01T00:00:00\", \"2019-08-01T00:00:00\", \"2019-09-01T00:00:00\", \"2019-10-01T00:00:00\", \"2019-11-01T00:00:00\", \"2019-12-01T00:00:00\", \"2020-01-01T00:00:00\", \"2020-02-01T00:00:00\", \"2020-03-01T00:00:00\"], \"y\": [0.0, 0.0, 0.0, 0.0, 0.0, 0.0, 0.0, 0.0, 0.0, 0.0, 0.0, 0.0, 0.0, 0.0, 0.0, 0.0, 0.0, 0.0, 0.0, 0.0, 0.0, 0.0, 0.0, 0.0, 0.0, 0.0, 0.0, 0.0, 0.0, 0.0, 0.0, 0.0, 0.0, 0.0, 0.0, 0.0, 0.0, 0.0, 0.0, 0.0, 0.0, 0.0, 0.0, 0.0, 0.0, 0.0, 0.0, 0.0, 0.0, 0.0, 0.0, 0.0, 0.0, 0.0, 0.0, 0.0, 0.0, 0.0, 0.0, 0.0, 0.0, 0.0, 0.0, 0.0, 0.0, 0.0, 0.0, 0.0, 0.0, 0.0, 0.0, 0.0, 0.0, 0.0, 0.0, 0.0, 0.0, 0.0, 0.0, 0.0, 0.0, 0.0, 0.0, 0.0, 0.0, 0.0, 15340.0, 0.0, 0.0, 0.0, 0.0, 0.0, 0.0, 0.0, 0.0, 8200.0, 0.0, 15380.0, 130320.0, 1875350.0, 2654480.0, 2942630.0, 3701340.0, 3778690.0, 4613540.0, 4958010.0, 4517710.0, 3416530.0, 5054070.0, 4902950.0, 3819720.0, 4252640.0, 4908690.0, 5397280.0, 5130150.0, 4790080.0, 5884570.0, 6584020.0, 6953720.0, 4962120.0, 7349650.0, 8138770.0, 8929680.0, 10292370.0, 11431490.0, 11972780.0, 12796900.0, 11962210.0, 10853130.0, 11281890.0, 13566040.0, 6850376.0, 13204555.0, 12767284.0, 12322582.0, 16072546.0, 17967075.0, 15892546.0, 19378362.0, 18768251.0, 20125793.0, 26794954.0, 23920505.0, 16098180.0, 28110719.0, 25951346.0, 28638611.0, 34324448.0, 38655348.0, 35692547.0, 40000723.0, 35414976.0, 35652019.0, 37379780.0, 38763270.0, 23603130.0, 44798579.0, 45444244.0, 37098713.0]}, {\"name\": \"Default\", \"type\": \"bar\", \"x\": [\"2007-01-01T00:00:00\", \"2007-02-01T00:00:00\", \"2007-03-01T00:00:00\", \"2007-04-01T00:00:00\", \"2007-05-01T00:00:00\", \"2007-06-01T00:00:00\", \"2007-07-01T00:00:00\", \"2007-08-01T00:00:00\", \"2007-09-01T00:00:00\", \"2007-10-01T00:00:00\", \"2007-11-01T00:00:00\", \"2007-12-01T00:00:00\", \"2008-01-01T00:00:00\", \"2008-02-01T00:00:00\", \"2008-03-01T00:00:00\", \"2008-04-01T00:00:00\", \"2008-05-01T00:00:00\", \"2008-06-01T00:00:00\", \"2008-07-01T00:00:00\", \"2008-08-01T00:00:00\", \"2008-09-01T00:00:00\", \"2008-10-01T00:00:00\", \"2008-11-01T00:00:00\", \"2008-12-01T00:00:00\", \"2009-01-01T00:00:00\", \"2009-02-01T00:00:00\", \"2009-03-01T00:00:00\", \"2009-04-01T00:00:00\", \"2009-05-01T00:00:00\", \"2009-06-01T00:00:00\", \"2009-07-01T00:00:00\", \"2009-08-01T00:00:00\", \"2009-09-01T00:00:00\", \"2009-10-01T00:00:00\", \"2009-11-01T00:00:00\", \"2009-12-01T00:00:00\", \"2010-01-01T00:00:00\", \"2010-02-01T00:00:00\", \"2010-03-01T00:00:00\", \"2010-04-01T00:00:00\", \"2010-05-01T00:00:00\", \"2010-06-01T00:00:00\", \"2010-07-01T00:00:00\", \"2010-08-01T00:00:00\", \"2010-09-01T00:00:00\", \"2010-10-01T00:00:00\", \"2010-11-01T00:00:00\", \"2010-12-01T00:00:00\", \"2011-01-01T00:00:00\", \"2011-02-01T00:00:00\", \"2011-03-01T00:00:00\", \"2011-04-01T00:00:00\", \"2011-05-01T00:00:00\", \"2011-06-01T00:00:00\", \"2011-07-01T00:00:00\", \"2011-08-01T00:00:00\", \"2011-09-01T00:00:00\", \"2011-10-01T00:00:00\", \"2011-11-01T00:00:00\", \"2011-12-01T00:00:00\", \"2012-01-01T00:00:00\", \"2012-02-01T00:00:00\", \"2012-03-01T00:00:00\", \"2012-04-01T00:00:00\", \"2012-05-01T00:00:00\", \"2012-06-01T00:00:00\", \"2012-07-01T00:00:00\", \"2012-08-01T00:00:00\", \"2012-09-01T00:00:00\", \"2012-10-01T00:00:00\", \"2012-11-01T00:00:00\", \"2012-12-01T00:00:00\", \"2013-01-01T00:00:00\", \"2013-02-01T00:00:00\", \"2013-03-01T00:00:00\", \"2013-04-01T00:00:00\", \"2013-05-01T00:00:00\", \"2013-06-01T00:00:00\", \"2013-07-01T00:00:00\", \"2013-08-01T00:00:00\", \"2013-09-01T00:00:00\", \"2013-10-01T00:00:00\", \"2013-11-01T00:00:00\", \"2013-12-01T00:00:00\", \"2014-01-01T00:00:00\", \"2014-02-01T00:00:00\", \"2014-03-01T00:00:00\", \"2014-04-01T00:00:00\", \"2014-05-01T00:00:00\", \"2014-06-01T00:00:00\", \"2014-07-01T00:00:00\", \"2014-08-01T00:00:00\", \"2014-09-01T00:00:00\", \"2014-10-01T00:00:00\", \"2014-11-01T00:00:00\", \"2014-12-01T00:00:00\", \"2015-01-01T00:00:00\", \"2015-02-01T00:00:00\", \"2015-03-01T00:00:00\", \"2015-04-01T00:00:00\", \"2015-05-01T00:00:00\", \"2015-06-01T00:00:00\", \"2015-07-01T00:00:00\", \"2015-08-01T00:00:00\", \"2015-09-01T00:00:00\", \"2015-10-01T00:00:00\", \"2015-11-01T00:00:00\", \"2015-12-01T00:00:00\", \"2016-01-01T00:00:00\", \"2016-02-01T00:00:00\", \"2016-03-01T00:00:00\", \"2016-04-01T00:00:00\", \"2016-05-01T00:00:00\", \"2016-06-01T00:00:00\", \"2016-07-01T00:00:00\", \"2016-08-01T00:00:00\", \"2016-09-01T00:00:00\", \"2016-10-01T00:00:00\", \"2016-11-01T00:00:00\", \"2016-12-01T00:00:00\", \"2017-01-01T00:00:00\", \"2017-02-01T00:00:00\", \"2017-03-01T00:00:00\", \"2017-04-01T00:00:00\", \"2017-05-01T00:00:00\", \"2017-06-01T00:00:00\", \"2017-07-01T00:00:00\", \"2017-08-01T00:00:00\", \"2017-09-01T00:00:00\", \"2017-10-01T00:00:00\", \"2017-11-01T00:00:00\", \"2017-12-01T00:00:00\", \"2018-01-01T00:00:00\", \"2018-02-01T00:00:00\", \"2018-03-01T00:00:00\", \"2018-04-01T00:00:00\", \"2018-05-01T00:00:00\", \"2018-06-01T00:00:00\", \"2018-07-01T00:00:00\", \"2018-08-01T00:00:00\", \"2018-09-01T00:00:00\", \"2018-10-01T00:00:00\", \"2018-11-01T00:00:00\", \"2018-12-01T00:00:00\", \"2019-01-01T00:00:00\", \"2019-02-01T00:00:00\", \"2019-03-01T00:00:00\", \"2019-04-01T00:00:00\", \"2019-05-01T00:00:00\", \"2019-06-01T00:00:00\", \"2019-07-01T00:00:00\", \"2019-08-01T00:00:00\", \"2019-09-01T00:00:00\", \"2019-10-01T00:00:00\", \"2019-11-01T00:00:00\", \"2019-12-01T00:00:00\", \"2020-01-01T00:00:00\", \"2020-02-01T00:00:00\", \"2020-03-01T00:00:00\"], \"y\": [5810.0, 0.0, 2010.0, 0.0, 13070.0, 3020.0, 0.0, 0.0, 0.0, 12580.0, 24030.0, 33540.0, 5530.0, 58890.0, 96270.0, 79810.0, 131500.0, 144600.0, 101500.0, 83800.0, 120500.0, 141400.0, 166900.0, 63800.0, 173500.0, 189820.0, 144380.0, 63820.0, 82570.0, 56560.0, 132100.0, 150260.0, 95240.0, 136960.0, 150220.0, 103040.0, 150520.0, 160380.0, 173860.0, 144450.0, 136640.0, 205160.0, 196080.0, 204300.0, 204480.0, 129470.0, 90040.0, 165310.0, 177600.0, 128740.0, 99360.0, 74170.0, 69510.0, 74850.0, 88140.0, 88630.0, 66490.0, 65610.0, 71540.0, 66170.0, 91830.0, 137860.0, 145700.0, 91700.0, 150310.0, 116290.0, 141730.0, 95210.0, 123660.0, 142930.0, 120140.0, 119650.0, 175010.0, 106530.0, 100080.0, 201360.0, 223470.0, 180050.0, 278710.0, 257460.0, 135680.0, 247390.0, 251700.0, 198510.0, 438590.0, 376810.0, 544280.0, 480930.0, 750830.0, 926650.0, 1260620.0, 903210.0, 1063820.0, 1115540.0, 1121790.0, 1197850.0, 1488090.0, 1264540.0, 1705700.0, 3185640.0, 2811640.0, 3401680.0, 3715010.0, 4241320.0, 4614940.0, 4610900.0, 4737150.0, 4363460.0, 5345310.0, 4947410.0, 2722160.0, 2914580.0, 3034420.0, 3165950.0, 2660840.0, 3574540.0, 4575070.0, 4681420.0, 4085680.0, 3411980.0, 5033160.0, 4870350.0, 4971180.0, 4391920.0, 5179050.0, 6035490.0, 5093500.0, 4458410.0, 3125410.0, 3607430.0, 3574270.0, 1995195.0, 3087130.0, 2467310.0, 2134241.0, 2733610.0, 2824810.0, 2502775.0, 2381470.0, 2064770.0, 2179120.0, 2823660.0, 2850210.0, 1911070.0, 2533790.0, 1724860.0, 1726840.0, 1454415.0, 1660040.0, 1139998.0, 1363080.0, 984535.0, 624400.0, 334510.0, 132420.0, 9840.0, 5400.0, 10520.0, 0.0]}, {\"name\": \"Late\", \"type\": \"bar\", \"x\": [\"2007-01-01T00:00:00\", \"2007-02-01T00:00:00\", \"2007-03-01T00:00:00\", \"2007-04-01T00:00:00\", \"2007-05-01T00:00:00\", \"2007-06-01T00:00:00\", \"2007-07-01T00:00:00\", \"2007-08-01T00:00:00\", \"2007-09-01T00:00:00\", \"2007-10-01T00:00:00\", \"2007-11-01T00:00:00\", \"2007-12-01T00:00:00\", \"2008-01-01T00:00:00\", \"2008-02-01T00:00:00\", \"2008-03-01T00:00:00\", \"2008-04-01T00:00:00\", \"2008-05-01T00:00:00\", \"2008-06-01T00:00:00\", \"2008-07-01T00:00:00\", \"2008-08-01T00:00:00\", \"2008-09-01T00:00:00\", \"2008-10-01T00:00:00\", \"2008-11-01T00:00:00\", \"2008-12-01T00:00:00\", \"2009-01-01T00:00:00\", \"2009-02-01T00:00:00\", \"2009-03-01T00:00:00\", \"2009-04-01T00:00:00\", \"2009-05-01T00:00:00\", \"2009-06-01T00:00:00\", \"2009-07-01T00:00:00\", \"2009-08-01T00:00:00\", \"2009-09-01T00:00:00\", \"2009-10-01T00:00:00\", \"2009-11-01T00:00:00\", \"2009-12-01T00:00:00\", \"2010-01-01T00:00:00\", \"2010-02-01T00:00:00\", \"2010-03-01T00:00:00\", \"2010-04-01T00:00:00\", \"2010-05-01T00:00:00\", \"2010-06-01T00:00:00\", \"2010-07-01T00:00:00\", \"2010-08-01T00:00:00\", \"2010-09-01T00:00:00\", \"2010-10-01T00:00:00\", \"2010-11-01T00:00:00\", \"2010-12-01T00:00:00\", \"2011-01-01T00:00:00\", \"2011-02-01T00:00:00\", \"2011-03-01T00:00:00\", \"2011-04-01T00:00:00\", \"2011-05-01T00:00:00\", \"2011-06-01T00:00:00\", \"2011-07-01T00:00:00\", \"2011-08-01T00:00:00\", \"2011-09-01T00:00:00\", \"2011-10-01T00:00:00\", \"2011-11-01T00:00:00\", \"2011-12-01T00:00:00\", \"2012-01-01T00:00:00\", \"2012-02-01T00:00:00\", \"2012-03-01T00:00:00\", \"2012-04-01T00:00:00\", \"2012-05-01T00:00:00\", \"2012-06-01T00:00:00\", \"2012-07-01T00:00:00\", \"2012-08-01T00:00:00\", \"2012-09-01T00:00:00\", \"2012-10-01T00:00:00\", \"2012-11-01T00:00:00\", \"2012-12-01T00:00:00\", \"2013-01-01T00:00:00\", \"2013-02-01T00:00:00\", \"2013-03-01T00:00:00\", \"2013-04-01T00:00:00\", \"2013-05-01T00:00:00\", \"2013-06-01T00:00:00\", \"2013-07-01T00:00:00\", \"2013-08-01T00:00:00\", \"2013-09-01T00:00:00\", \"2013-10-01T00:00:00\", \"2013-11-01T00:00:00\", \"2013-12-01T00:00:00\", \"2014-01-01T00:00:00\", \"2014-02-01T00:00:00\", \"2014-03-01T00:00:00\", \"2014-04-01T00:00:00\", \"2014-05-01T00:00:00\", \"2014-06-01T00:00:00\", \"2014-07-01T00:00:00\", \"2014-08-01T00:00:00\", \"2014-09-01T00:00:00\", \"2014-10-01T00:00:00\", \"2014-11-01T00:00:00\", \"2014-12-01T00:00:00\", \"2015-01-01T00:00:00\", \"2015-02-01T00:00:00\", \"2015-03-01T00:00:00\", \"2015-04-01T00:00:00\", \"2015-05-01T00:00:00\", \"2015-06-01T00:00:00\", \"2015-07-01T00:00:00\", \"2015-08-01T00:00:00\", \"2015-09-01T00:00:00\", \"2015-10-01T00:00:00\", \"2015-11-01T00:00:00\", \"2015-12-01T00:00:00\", \"2016-01-01T00:00:00\", \"2016-02-01T00:00:00\", \"2016-03-01T00:00:00\", \"2016-04-01T00:00:00\", \"2016-05-01T00:00:00\", \"2016-06-01T00:00:00\", \"2016-07-01T00:00:00\", \"2016-08-01T00:00:00\", \"2016-09-01T00:00:00\", \"2016-10-01T00:00:00\", \"2016-11-01T00:00:00\", \"2016-12-01T00:00:00\", \"2017-01-01T00:00:00\", \"2017-02-01T00:00:00\", \"2017-03-01T00:00:00\", \"2017-04-01T00:00:00\", \"2017-05-01T00:00:00\", \"2017-06-01T00:00:00\", \"2017-07-01T00:00:00\", \"2017-08-01T00:00:00\", \"2017-09-01T00:00:00\", \"2017-10-01T00:00:00\", \"2017-11-01T00:00:00\", \"2017-12-01T00:00:00\", \"2018-01-01T00:00:00\", \"2018-02-01T00:00:00\", \"2018-03-01T00:00:00\", \"2018-04-01T00:00:00\", \"2018-05-01T00:00:00\", \"2018-06-01T00:00:00\", \"2018-07-01T00:00:00\", \"2018-08-01T00:00:00\", \"2018-09-01T00:00:00\", \"2018-10-01T00:00:00\", \"2018-11-01T00:00:00\", \"2018-12-01T00:00:00\", \"2019-01-01T00:00:00\", \"2019-02-01T00:00:00\", \"2019-03-01T00:00:00\", \"2019-04-01T00:00:00\", \"2019-05-01T00:00:00\", \"2019-06-01T00:00:00\", \"2019-07-01T00:00:00\", \"2019-08-01T00:00:00\", \"2019-09-01T00:00:00\", \"2019-10-01T00:00:00\", \"2019-11-01T00:00:00\", \"2019-12-01T00:00:00\", \"2020-01-01T00:00:00\", \"2020-02-01T00:00:00\", \"2020-03-01T00:00:00\"], \"y\": [0.0, 0.0, 0.0, 0.0, 0.0, 0.0, 0.0, 0.0, 0.0, 0.0, 0.0, 0.0, 0.0, 0.0, 0.0, 0.0, 0.0, 0.0, 0.0, 0.0, 0.0, 0.0, 0.0, 0.0, 0.0, 0.0, 0.0, 0.0, 0.0, 0.0, 0.0, 0.0, 0.0, 0.0, 0.0, 0.0, 0.0, 0.0, 0.0, 0.0, 0.0, 0.0, 0.0, 0.0, 0.0, 0.0, 0.0, 0.0, 0.0, 0.0, 0.0, 0.0, 0.0, 0.0, 0.0, 0.0, 0.0, 0.0, 0.0, 0.0, 0.0, 0.0, 0.0, 0.0, 0.0, 0.0, 0.0, 0.0, 0.0, 0.0, 0.0, 0.0, 7060.0, 0.0, 0.0, 0.0, 0.0, 0.0, 0.0, 0.0, 0.0, 0.0, 0.0, 0.0, 0.0, 25890.0, 5720.0, 13810.0, 0.0, 0.0, 11020.0, 2730.0, 15300.0, 16600.0, 10630.0, 22410.0, 53200.0, 27580.0, 33110.0, 218060.0, 311680.0, 454900.0, 446570.0, 395130.0, 473570.0, 564790.0, 522390.0, 531880.0, 723310.0, 890780.0, 638300.0, 558390.0, 693220.0, 790360.0, 487870.0, 593830.0, 932620.0, 1397790.0, 1125450.0, 687890.0, 1609500.0, 1500930.0, 1533070.0, 1642100.0, 1748110.0, 1844620.0, 1913000.0, 1954050.0, 1751560.0, 2018490.0, 2540130.0, 1450951.0, 2088894.0, 2080750.0, 1855381.0, 2144370.0, 2796880.0, 2710585.0, 2968991.0, 2715818.0, 2922346.0, 4652380.0, 4262355.0, 2901811.0, 4898199.0, 4242295.0, 4760801.0, 5553652.0, 5911104.0, 4402790.0, 5248259.0, 4850865.0, 4236560.0, 4205179.0, 5191520.0, 2454840.0, 3707690.0, 3001545.0, 1269990.0]}],                        {\"barmode\": \"stack\", \"template\": {\"data\": {\"bar\": [{\"error_x\": {\"color\": \"#2a3f5f\"}, \"error_y\": {\"color\": \"#2a3f5f\"}, \"marker\": {\"line\": {\"color\": \"#E5ECF6\", \"width\": 0.5}}, \"type\": \"bar\"}], \"barpolar\": [{\"marker\": {\"line\": {\"color\": \"#E5ECF6\", \"width\": 0.5}}, \"type\": \"barpolar\"}], \"carpet\": [{\"aaxis\": {\"endlinecolor\": \"#2a3f5f\", \"gridcolor\": \"white\", \"linecolor\": \"white\", \"minorgridcolor\": \"white\", \"startlinecolor\": \"#2a3f5f\"}, \"baxis\": {\"endlinecolor\": \"#2a3f5f\", \"gridcolor\": \"white\", \"linecolor\": \"white\", \"minorgridcolor\": \"white\", \"startlinecolor\": \"#2a3f5f\"}, \"type\": \"carpet\"}], \"choropleth\": [{\"colorbar\": {\"outlinewidth\": 0, \"ticks\": \"\"}, \"type\": \"choropleth\"}], \"contour\": [{\"colorbar\": {\"outlinewidth\": 0, \"ticks\": \"\"}, \"colorscale\": [[0.0, \"#0d0887\"], [0.1111111111111111, \"#46039f\"], [0.2222222222222222, \"#7201a8\"], [0.3333333333333333, \"#9c179e\"], [0.4444444444444444, \"#bd3786\"], [0.5555555555555556, \"#d8576b\"], [0.6666666666666666, \"#ed7953\"], [0.7777777777777778, \"#fb9f3a\"], [0.8888888888888888, \"#fdca26\"], [1.0, \"#f0f921\"]], \"type\": \"contour\"}], \"contourcarpet\": [{\"colorbar\": {\"outlinewidth\": 0, \"ticks\": \"\"}, \"type\": \"contourcarpet\"}], \"heatmap\": [{\"colorbar\": {\"outlinewidth\": 0, \"ticks\": \"\"}, \"colorscale\": [[0.0, \"#0d0887\"], [0.1111111111111111, \"#46039f\"], [0.2222222222222222, \"#7201a8\"], [0.3333333333333333, \"#9c179e\"], [0.4444444444444444, \"#bd3786\"], [0.5555555555555556, \"#d8576b\"], [0.6666666666666666, \"#ed7953\"], [0.7777777777777778, \"#fb9f3a\"], [0.8888888888888888, \"#fdca26\"], [1.0, \"#f0f921\"]], \"type\": \"heatmap\"}], \"heatmapgl\": [{\"colorbar\": {\"outlinewidth\": 0, \"ticks\": \"\"}, \"colorscale\": [[0.0, \"#0d0887\"], [0.1111111111111111, \"#46039f\"], [0.2222222222222222, \"#7201a8\"], [0.3333333333333333, \"#9c179e\"], [0.4444444444444444, \"#bd3786\"], [0.5555555555555556, \"#d8576b\"], [0.6666666666666666, \"#ed7953\"], [0.7777777777777778, \"#fb9f3a\"], [0.8888888888888888, \"#fdca26\"], [1.0, \"#f0f921\"]], \"type\": \"heatmapgl\"}], \"histogram\": [{\"marker\": {\"colorbar\": {\"outlinewidth\": 0, \"ticks\": \"\"}}, \"type\": \"histogram\"}], \"histogram2d\": [{\"colorbar\": {\"outlinewidth\": 0, \"ticks\": \"\"}, \"colorscale\": [[0.0, \"#0d0887\"], [0.1111111111111111, \"#46039f\"], [0.2222222222222222, \"#7201a8\"], [0.3333333333333333, \"#9c179e\"], [0.4444444444444444, \"#bd3786\"], [0.5555555555555556, \"#d8576b\"], [0.6666666666666666, \"#ed7953\"], [0.7777777777777778, \"#fb9f3a\"], [0.8888888888888888, \"#fdca26\"], [1.0, \"#f0f921\"]], \"type\": \"histogram2d\"}], \"histogram2dcontour\": [{\"colorbar\": {\"outlinewidth\": 0, \"ticks\": \"\"}, \"colorscale\": [[0.0, \"#0d0887\"], [0.1111111111111111, \"#46039f\"], [0.2222222222222222, \"#7201a8\"], [0.3333333333333333, \"#9c179e\"], [0.4444444444444444, \"#bd3786\"], [0.5555555555555556, \"#d8576b\"], [0.6666666666666666, \"#ed7953\"], [0.7777777777777778, \"#fb9f3a\"], [0.8888888888888888, \"#fdca26\"], [1.0, \"#f0f921\"]], \"type\": \"histogram2dcontour\"}], \"mesh3d\": [{\"colorbar\": {\"outlinewidth\": 0, \"ticks\": \"\"}, \"type\": \"mesh3d\"}], \"parcoords\": [{\"line\": {\"colorbar\": {\"outlinewidth\": 0, \"ticks\": \"\"}}, \"type\": \"parcoords\"}], \"pie\": [{\"automargin\": true, \"type\": \"pie\"}], \"scatter\": [{\"marker\": {\"colorbar\": {\"outlinewidth\": 0, \"ticks\": \"\"}}, \"type\": \"scatter\"}], \"scatter3d\": [{\"line\": {\"colorbar\": {\"outlinewidth\": 0, \"ticks\": \"\"}}, \"marker\": {\"colorbar\": {\"outlinewidth\": 0, \"ticks\": \"\"}}, \"type\": \"scatter3d\"}], \"scattercarpet\": [{\"marker\": {\"colorbar\": {\"outlinewidth\": 0, \"ticks\": \"\"}}, \"type\": \"scattercarpet\"}], \"scattergeo\": [{\"marker\": {\"colorbar\": {\"outlinewidth\": 0, \"ticks\": \"\"}}, \"type\": \"scattergeo\"}], \"scattergl\": [{\"marker\": {\"colorbar\": {\"outlinewidth\": 0, \"ticks\": \"\"}}, \"type\": \"scattergl\"}], \"scattermapbox\": [{\"marker\": {\"colorbar\": {\"outlinewidth\": 0, \"ticks\": \"\"}}, \"type\": \"scattermapbox\"}], \"scatterpolar\": [{\"marker\": {\"colorbar\": {\"outlinewidth\": 0, \"ticks\": \"\"}}, \"type\": \"scatterpolar\"}], \"scatterpolargl\": [{\"marker\": {\"colorbar\": {\"outlinewidth\": 0, \"ticks\": \"\"}}, \"type\": \"scatterpolargl\"}], \"scatterternary\": [{\"marker\": {\"colorbar\": {\"outlinewidth\": 0, \"ticks\": \"\"}}, \"type\": \"scatterternary\"}], \"surface\": [{\"colorbar\": {\"outlinewidth\": 0, \"ticks\": \"\"}, \"colorscale\": [[0.0, \"#0d0887\"], [0.1111111111111111, \"#46039f\"], [0.2222222222222222, \"#7201a8\"], [0.3333333333333333, \"#9c179e\"], [0.4444444444444444, \"#bd3786\"], [0.5555555555555556, \"#d8576b\"], [0.6666666666666666, \"#ed7953\"], [0.7777777777777778, \"#fb9f3a\"], [0.8888888888888888, \"#fdca26\"], [1.0, \"#f0f921\"]], \"type\": \"surface\"}], \"table\": [{\"cells\": {\"fill\": {\"color\": \"#EBF0F8\"}, \"line\": {\"color\": \"white\"}}, \"header\": {\"fill\": {\"color\": \"#C8D4E3\"}, \"line\": {\"color\": \"white\"}}, \"type\": \"table\"}]}, \"layout\": {\"annotationdefaults\": {\"arrowcolor\": \"#2a3f5f\", \"arrowhead\": 0, \"arrowwidth\": 1}, \"autotypenumbers\": \"strict\", \"coloraxis\": {\"colorbar\": {\"outlinewidth\": 0, \"ticks\": \"\"}}, \"colorscale\": {\"diverging\": [[0, \"#8e0152\"], [0.1, \"#c51b7d\"], [0.2, \"#de77ae\"], [0.3, \"#f1b6da\"], [0.4, \"#fde0ef\"], [0.5, \"#f7f7f7\"], [0.6, \"#e6f5d0\"], [0.7, \"#b8e186\"], [0.8, \"#7fbc41\"], [0.9, \"#4d9221\"], [1, \"#276419\"]], \"sequential\": [[0.0, \"#0d0887\"], [0.1111111111111111, \"#46039f\"], [0.2222222222222222, \"#7201a8\"], [0.3333333333333333, \"#9c179e\"], [0.4444444444444444, \"#bd3786\"], [0.5555555555555556, \"#d8576b\"], [0.6666666666666666, \"#ed7953\"], [0.7777777777777778, \"#fb9f3a\"], [0.8888888888888888, \"#fdca26\"], [1.0, \"#f0f921\"]], \"sequentialminus\": [[0.0, \"#0d0887\"], [0.1111111111111111, \"#46039f\"], [0.2222222222222222, \"#7201a8\"], [0.3333333333333333, \"#9c179e\"], [0.4444444444444444, \"#bd3786\"], [0.5555555555555556, \"#d8576b\"], [0.6666666666666666, \"#ed7953\"], [0.7777777777777778, \"#fb9f3a\"], [0.8888888888888888, \"#fdca26\"], [1.0, \"#f0f921\"]]}, \"colorway\": [\"#636efa\", \"#EF553B\", \"#00cc96\", \"#ab63fa\", \"#FFA15A\", \"#19d3f3\", \"#FF6692\", \"#B6E880\", \"#FF97FF\", \"#FECB52\"], \"font\": {\"color\": \"#2a3f5f\"}, \"geo\": {\"bgcolor\": \"white\", \"lakecolor\": \"white\", \"landcolor\": \"#E5ECF6\", \"showlakes\": true, \"showland\": true, \"subunitcolor\": \"white\"}, \"hoverlabel\": {\"align\": \"left\"}, \"hovermode\": \"closest\", \"mapbox\": {\"style\": \"light\"}, \"paper_bgcolor\": \"white\", \"plot_bgcolor\": \"#E5ECF6\", \"polar\": {\"angularaxis\": {\"gridcolor\": \"white\", \"linecolor\": \"white\", \"ticks\": \"\"}, \"bgcolor\": \"#E5ECF6\", \"radialaxis\": {\"gridcolor\": \"white\", \"linecolor\": \"white\", \"ticks\": \"\"}}, \"scene\": {\"xaxis\": {\"backgroundcolor\": \"#E5ECF6\", \"gridcolor\": \"white\", \"gridwidth\": 2, \"linecolor\": \"white\", \"showbackground\": true, \"ticks\": \"\", \"zerolinecolor\": \"white\"}, \"yaxis\": {\"backgroundcolor\": \"#E5ECF6\", \"gridcolor\": \"white\", \"gridwidth\": 2, \"linecolor\": \"white\", \"showbackground\": true, \"ticks\": \"\", \"zerolinecolor\": \"white\"}, \"zaxis\": {\"backgroundcolor\": \"#E5ECF6\", \"gridcolor\": \"white\", \"gridwidth\": 2, \"linecolor\": \"white\", \"showbackground\": true, \"ticks\": \"\", \"zerolinecolor\": \"white\"}}, \"shapedefaults\": {\"line\": {\"color\": \"#2a3f5f\"}}, \"ternary\": {\"aaxis\": {\"gridcolor\": \"white\", \"linecolor\": \"white\", \"ticks\": \"\"}, \"baxis\": {\"gridcolor\": \"white\", \"linecolor\": \"white\", \"ticks\": \"\"}, \"bgcolor\": \"#E5ECF6\", \"caxis\": {\"gridcolor\": \"white\", \"linecolor\": \"white\", \"ticks\": \"\"}}, \"title\": {\"x\": 0.05}, \"xaxis\": {\"automargin\": true, \"gridcolor\": \"white\", \"linecolor\": \"white\", \"ticks\": \"\", \"title\": {\"standoff\": 15}, \"zerolinecolor\": \"white\", \"zerolinewidth\": 2}, \"yaxis\": {\"automargin\": true, \"gridcolor\": \"white\", \"linecolor\": \"white\", \"ticks\": \"\", \"title\": {\"standoff\": 15}, \"zerolinecolor\": \"white\", \"zerolinewidth\": 2}}}, \"title\": {\"text\": \"Bar chart of loan performance over time\", \"x\": 0.5}, \"yaxis\": {\"title\": {\"text\": \"Loans amount\"}}},                        {\"responsive\": true}                    ).then(function(){\n",
       "                            \n",
       "var gd = document.getElementById('0206aaf2-6b99-4b4c-9c0e-58a984b86f4c');\n",
       "var x = new MutationObserver(function (mutations, observer) {{\n",
       "        var display = window.getComputedStyle(gd).display;\n",
       "        if (!display || display === 'none') {{\n",
       "            console.log([gd, 'removed!']);\n",
       "            Plotly.purge(gd);\n",
       "            observer.disconnect();\n",
       "        }}\n",
       "}});\n",
       "\n",
       "// Listen for the removal of the full notebook cells\n",
       "var notebookContainer = gd.closest('#notebook-container');\n",
       "if (notebookContainer) {{\n",
       "    x.observe(notebookContainer, {childList: true});\n",
       "}}\n",
       "\n",
       "// Listen for the clearing of the current output cell\n",
       "var outputEl = gd.closest('.output');\n",
       "if (outputEl) {{\n",
       "    x.observe(outputEl, {childList: true});\n",
       "}}\n",
       "\n",
       "                        })                };                });            </script>        </div>"
      ]
     },
     "metadata": {},
     "output_type": "display_data"
    }
   ],
   "source": [
    "#build bar charts of loan performance devided by status of loan\n",
    "\n",
    "bar_plots = [\n",
    "    go.Bar(x=loan_pivot_by_date_status['Disbursal Year and Month'], y=loan_pivot_by_date_status['Completed Loans Amount'], name='Completed'),\n",
    "    go.Bar(x=loan_pivot_by_date_status['Disbursal Year and Month'], y=loan_pivot_by_date_status['Active Loans Amount'], name='Active'),\n",
    "    go.Bar(x=loan_pivot_by_date_status['Disbursal Year and Month'], y=loan_pivot_by_date_status['Default Loans Amount'], name='Default'),\n",
    "    go.Bar(x=loan_pivot_by_date_status['Disbursal Year and Month'], y=loan_pivot_by_date_status['Late Loans Amount'], name='Late')\n",
    "]\n",
    "layout = go.Layout(\n",
    "    title = go.layout.Title(text='Bar chart of loan performance over time', x=0.5),\n",
    "    yaxis_title = 'Loans amount'\n",
    ")\n",
    "fig = go.Figure(data=bar_plots, layout=layout)\n",
    "fig.update_layout(barmode='stack')\n",
    "fig.show()"
   ]
  },
  {
   "cell_type": "markdown",
   "metadata": {},
   "source": [
    "As we can see on the graph above, start from 2017 we have a lot of active loans. As the loan is currently running and we can’t infer any information regarding loan performance from such loans we'll remove records with loan status as 'Active' and store new dataset into the new data frame 'data_new'."
   ]
  },
  {
   "cell_type": "code",
   "execution_count": 262,
   "metadata": {},
   "outputs": [
    {
     "data": {
      "text/plain": [
       "(322677, 20)"
      ]
     },
     "execution_count": 262,
     "metadata": {},
     "output_type": "execute_result"
    }
   ],
   "source": [
    "#store loan data without active loans into a new dataframe\n",
    "data_new = data[data['Latest Status'] != 'Active']\n",
    "data_new.shape"
   ]
  },
  {
   "cell_type": "code",
   "execution_count": 231,
   "metadata": {},
   "outputs": [],
   "source": [
    "#pivot table for data without active loans\n",
    "loan_pivot_by_date_status_new = data_new.pivot_table(index='Disbursal Year and Month', columns='Latest Status', values='Original Loan Amount', aggfunc=['sum','count']).reset_index()\n",
    "loan_pivot_by_date_status_new.columns = ['Disbursal Year and Month','Completed Loans Amount','Default Loans Amount','Late Loans Amount','Completed Loans Number','Default Loans Number','Late Loans Number']\n",
    "loan_pivot_by_date_status_new.fillna(0, inplace=True)"
   ]
  },
  {
   "cell_type": "code",
   "execution_count": 232,
   "metadata": {},
   "outputs": [
    {
     "data": {
      "application/vnd.plotly.v1+json": {
       "config": {
        "plotlyServerURL": "https://plot.ly"
       },
       "data": [
        {
         "name": "Completed",
         "type": "bar",
         "x": [
          "2007-01-01T00:00:00",
          "2007-02-01T00:00:00",
          "2007-03-01T00:00:00",
          "2007-04-01T00:00:00",
          "2007-05-01T00:00:00",
          "2007-06-01T00:00:00",
          "2007-07-01T00:00:00",
          "2007-08-01T00:00:00",
          "2007-09-01T00:00:00",
          "2007-10-01T00:00:00",
          "2007-11-01T00:00:00",
          "2007-12-01T00:00:00",
          "2008-01-01T00:00:00",
          "2008-02-01T00:00:00",
          "2008-03-01T00:00:00",
          "2008-04-01T00:00:00",
          "2008-05-01T00:00:00",
          "2008-06-01T00:00:00",
          "2008-07-01T00:00:00",
          "2008-08-01T00:00:00",
          "2008-09-01T00:00:00",
          "2008-10-01T00:00:00",
          "2008-11-01T00:00:00",
          "2008-12-01T00:00:00",
          "2009-01-01T00:00:00",
          "2009-02-01T00:00:00",
          "2009-03-01T00:00:00",
          "2009-04-01T00:00:00",
          "2009-05-01T00:00:00",
          "2009-06-01T00:00:00",
          "2009-07-01T00:00:00",
          "2009-08-01T00:00:00",
          "2009-09-01T00:00:00",
          "2009-10-01T00:00:00",
          "2009-11-01T00:00:00",
          "2009-12-01T00:00:00",
          "2010-01-01T00:00:00",
          "2010-02-01T00:00:00",
          "2010-03-01T00:00:00",
          "2010-04-01T00:00:00",
          "2010-05-01T00:00:00",
          "2010-06-01T00:00:00",
          "2010-07-01T00:00:00",
          "2010-08-01T00:00:00",
          "2010-09-01T00:00:00",
          "2010-10-01T00:00:00",
          "2010-11-01T00:00:00",
          "2010-12-01T00:00:00",
          "2011-01-01T00:00:00",
          "2011-02-01T00:00:00",
          "2011-03-01T00:00:00",
          "2011-04-01T00:00:00",
          "2011-05-01T00:00:00",
          "2011-06-01T00:00:00",
          "2011-07-01T00:00:00",
          "2011-08-01T00:00:00",
          "2011-09-01T00:00:00",
          "2011-10-01T00:00:00",
          "2011-11-01T00:00:00",
          "2011-12-01T00:00:00",
          "2012-01-01T00:00:00",
          "2012-02-01T00:00:00",
          "2012-03-01T00:00:00",
          "2012-04-01T00:00:00",
          "2012-05-01T00:00:00",
          "2012-06-01T00:00:00",
          "2012-07-01T00:00:00",
          "2012-08-01T00:00:00",
          "2012-09-01T00:00:00",
          "2012-10-01T00:00:00",
          "2012-11-01T00:00:00",
          "2012-12-01T00:00:00",
          "2013-01-01T00:00:00",
          "2013-02-01T00:00:00",
          "2013-03-01T00:00:00",
          "2013-04-01T00:00:00",
          "2013-05-01T00:00:00",
          "2013-06-01T00:00:00",
          "2013-07-01T00:00:00",
          "2013-08-01T00:00:00",
          "2013-09-01T00:00:00",
          "2013-10-01T00:00:00",
          "2013-11-01T00:00:00",
          "2013-12-01T00:00:00",
          "2014-01-01T00:00:00",
          "2014-02-01T00:00:00",
          "2014-03-01T00:00:00",
          "2014-04-01T00:00:00",
          "2014-05-01T00:00:00",
          "2014-06-01T00:00:00",
          "2014-07-01T00:00:00",
          "2014-08-01T00:00:00",
          "2014-09-01T00:00:00",
          "2014-10-01T00:00:00",
          "2014-11-01T00:00:00",
          "2014-12-01T00:00:00",
          "2015-01-01T00:00:00",
          "2015-02-01T00:00:00",
          "2015-03-01T00:00:00",
          "2015-04-01T00:00:00",
          "2015-05-01T00:00:00",
          "2015-06-01T00:00:00",
          "2015-07-01T00:00:00",
          "2015-08-01T00:00:00",
          "2015-09-01T00:00:00",
          "2015-10-01T00:00:00",
          "2015-11-01T00:00:00",
          "2015-12-01T00:00:00",
          "2016-01-01T00:00:00",
          "2016-02-01T00:00:00",
          "2016-03-01T00:00:00",
          "2016-04-01T00:00:00",
          "2016-05-01T00:00:00",
          "2016-06-01T00:00:00",
          "2016-07-01T00:00:00",
          "2016-08-01T00:00:00",
          "2016-09-01T00:00:00",
          "2016-10-01T00:00:00",
          "2016-11-01T00:00:00",
          "2016-12-01T00:00:00",
          "2017-01-01T00:00:00",
          "2017-02-01T00:00:00",
          "2017-03-01T00:00:00",
          "2017-04-01T00:00:00",
          "2017-05-01T00:00:00",
          "2017-06-01T00:00:00",
          "2017-07-01T00:00:00",
          "2017-08-01T00:00:00",
          "2017-09-01T00:00:00",
          "2017-10-01T00:00:00",
          "2017-11-01T00:00:00",
          "2017-12-01T00:00:00",
          "2018-01-01T00:00:00",
          "2018-02-01T00:00:00",
          "2018-03-01T00:00:00",
          "2018-04-01T00:00:00",
          "2018-05-01T00:00:00",
          "2018-06-01T00:00:00",
          "2018-07-01T00:00:00",
          "2018-08-01T00:00:00",
          "2018-09-01T00:00:00",
          "2018-10-01T00:00:00",
          "2018-11-01T00:00:00",
          "2018-12-01T00:00:00",
          "2019-01-01T00:00:00",
          "2019-02-01T00:00:00",
          "2019-03-01T00:00:00",
          "2019-04-01T00:00:00",
          "2019-05-01T00:00:00",
          "2019-06-01T00:00:00",
          "2019-07-01T00:00:00",
          "2019-08-01T00:00:00",
          "2019-09-01T00:00:00",
          "2019-10-01T00:00:00",
          "2019-11-01T00:00:00",
          "2019-12-01T00:00:00",
          "2020-01-01T00:00:00",
          "2020-02-01T00:00:00",
          "2020-03-01T00:00:00"
         ],
         "y": [
          870830,
          774190,
          1198180,
          634850,
          935860,
          806940,
          673380,
          537050,
          596010,
          761090,
          665860,
          444900,
          1055120,
          1014050,
          931590,
          795850,
          939900,
          780300,
          868350,
          1094500,
          953890,
          999800,
          935800,
          1088650,
          2035300,
          2277010,
          2540270,
          2936420,
          2980820,
          2714720,
          3068290,
          2613600,
          2408020,
          2866180,
          2810360,
          2320900,
          3651840,
          3263480,
          4092540,
          3162690,
          2696490,
          3869800,
          4299760,
          5253190,
          5126480,
          4378530,
          3884850,
          3668910,
          5579510,
          4795440,
          5078930,
          4158960,
          4696850,
          4938230,
          4410100,
          5121760,
          4487400,
          4292250,
          4215850,
          4775580,
          8087480,
          7410490,
          7225050,
          5910880,
          6695150,
          6711820,
          7688970,
          7748470,
          7214310,
          8170960,
          7434430,
          5265370,
          11634490,
          9809930,
          9636430,
          11463360,
          11132470,
          9466300,
          10882430,
          10245680,
          8630670,
          7658350,
          9260910,
          5787870,
          10857540,
          11011670,
          8665590,
          8665880,
          11438670,
          11714030,
          13000320,
          11082780,
          13327240,
          12627780,
          11713860,
          9677180,
          14521910,
          11444080,
          14597130,
          19202200,
          18300203,
          20368180,
          23994620,
          23708920,
          25894730,
          25085240,
          24558127,
          18760710,
          26421730,
          25955890,
          21677810,
          17835238,
          20708504,
          20791750,
          18552410,
          19559580,
          23548010,
          24555380,
          22535350,
          16849170,
          26957380,
          27246360,
          28423610,
          23483270,
          25048080,
          24084380,
          24913670,
          22714660,
          20112090,
          20210480,
          21489900,
          12020599,
          19534502,
          16138713,
          14515090,
          16045506,
          14850810,
          12165845,
          14415595,
          13293848,
          12785399,
          16181688,
          14097839,
          14207742,
          16374682,
          11268800,
          11513585,
          11455944,
          9761226,
          8102191,
          7894342,
          6055940,
          4772210,
          3701830,
          3027900,
          1561720,
          1815670,
          1504970,
          973240
         ]
        },
        {
         "name": "Default",
         "type": "bar",
         "x": [
          "2007-01-01T00:00:00",
          "2007-02-01T00:00:00",
          "2007-03-01T00:00:00",
          "2007-04-01T00:00:00",
          "2007-05-01T00:00:00",
          "2007-06-01T00:00:00",
          "2007-07-01T00:00:00",
          "2007-08-01T00:00:00",
          "2007-09-01T00:00:00",
          "2007-10-01T00:00:00",
          "2007-11-01T00:00:00",
          "2007-12-01T00:00:00",
          "2008-01-01T00:00:00",
          "2008-02-01T00:00:00",
          "2008-03-01T00:00:00",
          "2008-04-01T00:00:00",
          "2008-05-01T00:00:00",
          "2008-06-01T00:00:00",
          "2008-07-01T00:00:00",
          "2008-08-01T00:00:00",
          "2008-09-01T00:00:00",
          "2008-10-01T00:00:00",
          "2008-11-01T00:00:00",
          "2008-12-01T00:00:00",
          "2009-01-01T00:00:00",
          "2009-02-01T00:00:00",
          "2009-03-01T00:00:00",
          "2009-04-01T00:00:00",
          "2009-05-01T00:00:00",
          "2009-06-01T00:00:00",
          "2009-07-01T00:00:00",
          "2009-08-01T00:00:00",
          "2009-09-01T00:00:00",
          "2009-10-01T00:00:00",
          "2009-11-01T00:00:00",
          "2009-12-01T00:00:00",
          "2010-01-01T00:00:00",
          "2010-02-01T00:00:00",
          "2010-03-01T00:00:00",
          "2010-04-01T00:00:00",
          "2010-05-01T00:00:00",
          "2010-06-01T00:00:00",
          "2010-07-01T00:00:00",
          "2010-08-01T00:00:00",
          "2010-09-01T00:00:00",
          "2010-10-01T00:00:00",
          "2010-11-01T00:00:00",
          "2010-12-01T00:00:00",
          "2011-01-01T00:00:00",
          "2011-02-01T00:00:00",
          "2011-03-01T00:00:00",
          "2011-04-01T00:00:00",
          "2011-05-01T00:00:00",
          "2011-06-01T00:00:00",
          "2011-07-01T00:00:00",
          "2011-08-01T00:00:00",
          "2011-09-01T00:00:00",
          "2011-10-01T00:00:00",
          "2011-11-01T00:00:00",
          "2011-12-01T00:00:00",
          "2012-01-01T00:00:00",
          "2012-02-01T00:00:00",
          "2012-03-01T00:00:00",
          "2012-04-01T00:00:00",
          "2012-05-01T00:00:00",
          "2012-06-01T00:00:00",
          "2012-07-01T00:00:00",
          "2012-08-01T00:00:00",
          "2012-09-01T00:00:00",
          "2012-10-01T00:00:00",
          "2012-11-01T00:00:00",
          "2012-12-01T00:00:00",
          "2013-01-01T00:00:00",
          "2013-02-01T00:00:00",
          "2013-03-01T00:00:00",
          "2013-04-01T00:00:00",
          "2013-05-01T00:00:00",
          "2013-06-01T00:00:00",
          "2013-07-01T00:00:00",
          "2013-08-01T00:00:00",
          "2013-09-01T00:00:00",
          "2013-10-01T00:00:00",
          "2013-11-01T00:00:00",
          "2013-12-01T00:00:00",
          "2014-01-01T00:00:00",
          "2014-02-01T00:00:00",
          "2014-03-01T00:00:00",
          "2014-04-01T00:00:00",
          "2014-05-01T00:00:00",
          "2014-06-01T00:00:00",
          "2014-07-01T00:00:00",
          "2014-08-01T00:00:00",
          "2014-09-01T00:00:00",
          "2014-10-01T00:00:00",
          "2014-11-01T00:00:00",
          "2014-12-01T00:00:00",
          "2015-01-01T00:00:00",
          "2015-02-01T00:00:00",
          "2015-03-01T00:00:00",
          "2015-04-01T00:00:00",
          "2015-05-01T00:00:00",
          "2015-06-01T00:00:00",
          "2015-07-01T00:00:00",
          "2015-08-01T00:00:00",
          "2015-09-01T00:00:00",
          "2015-10-01T00:00:00",
          "2015-11-01T00:00:00",
          "2015-12-01T00:00:00",
          "2016-01-01T00:00:00",
          "2016-02-01T00:00:00",
          "2016-03-01T00:00:00",
          "2016-04-01T00:00:00",
          "2016-05-01T00:00:00",
          "2016-06-01T00:00:00",
          "2016-07-01T00:00:00",
          "2016-08-01T00:00:00",
          "2016-09-01T00:00:00",
          "2016-10-01T00:00:00",
          "2016-11-01T00:00:00",
          "2016-12-01T00:00:00",
          "2017-01-01T00:00:00",
          "2017-02-01T00:00:00",
          "2017-03-01T00:00:00",
          "2017-04-01T00:00:00",
          "2017-05-01T00:00:00",
          "2017-06-01T00:00:00",
          "2017-07-01T00:00:00",
          "2017-08-01T00:00:00",
          "2017-09-01T00:00:00",
          "2017-10-01T00:00:00",
          "2017-11-01T00:00:00",
          "2017-12-01T00:00:00",
          "2018-01-01T00:00:00",
          "2018-02-01T00:00:00",
          "2018-03-01T00:00:00",
          "2018-04-01T00:00:00",
          "2018-05-01T00:00:00",
          "2018-06-01T00:00:00",
          "2018-07-01T00:00:00",
          "2018-08-01T00:00:00",
          "2018-09-01T00:00:00",
          "2018-10-01T00:00:00",
          "2018-11-01T00:00:00",
          "2018-12-01T00:00:00",
          "2019-01-01T00:00:00",
          "2019-02-01T00:00:00",
          "2019-03-01T00:00:00",
          "2019-04-01T00:00:00",
          "2019-05-01T00:00:00",
          "2019-06-01T00:00:00",
          "2019-07-01T00:00:00",
          "2019-08-01T00:00:00",
          "2019-09-01T00:00:00",
          "2019-10-01T00:00:00",
          "2019-11-01T00:00:00",
          "2019-12-01T00:00:00",
          "2020-01-01T00:00:00",
          "2020-02-01T00:00:00",
          "2020-03-01T00:00:00"
         ],
         "y": [
          5810,
          0,
          2010,
          0,
          13070,
          3020,
          0,
          0,
          0,
          12580,
          24030,
          33540,
          5530,
          58890,
          96270,
          79810,
          131500,
          144600,
          101500,
          83800,
          120500,
          141400,
          166900,
          63800,
          173500,
          189820,
          144380,
          63820,
          82570,
          56560,
          132100,
          150260,
          95240,
          136960,
          150220,
          103040,
          150520,
          160380,
          173860,
          144450,
          136640,
          205160,
          196080,
          204300,
          204480,
          129470,
          90040,
          165310,
          177600,
          128740,
          99360,
          74170,
          69510,
          74850,
          88140,
          88630,
          66490,
          65610,
          71540,
          66170,
          91830,
          137860,
          145700,
          91700,
          150310,
          116290,
          141730,
          95210,
          123660,
          142930,
          120140,
          119650,
          175010,
          106530,
          100080,
          201360,
          223470,
          180050,
          278710,
          257460,
          135680,
          247390,
          251700,
          198510,
          438590,
          376810,
          544280,
          480930,
          750830,
          926650,
          1260620,
          903210,
          1063820,
          1115540,
          1121790,
          1197850,
          1488090,
          1264540,
          1705700,
          3185640,
          2811640,
          3401680,
          3715010,
          4241320,
          4614940,
          4610900,
          4737150,
          4363460,
          5345310,
          4947410,
          2722160,
          2914580,
          3034420,
          3165950,
          2660840,
          3574540,
          4575070,
          4681420,
          4085680,
          3411980,
          5033160,
          4870350,
          4971180,
          4391920,
          5179050,
          6035490,
          5093500,
          4458410,
          3125410,
          3607430,
          3574270,
          1995195,
          3087130,
          2467310,
          2134241,
          2733610,
          2824810,
          2502775,
          2381470,
          2064770,
          2179120,
          2823660,
          2850210,
          1911070,
          2533790,
          1724860,
          1726840,
          1454415,
          1660040,
          1139998,
          1363080,
          984535,
          624400,
          334510,
          132420,
          9840,
          5400,
          10520,
          0
         ]
        },
        {
         "name": "Late",
         "type": "bar",
         "x": [
          "2007-01-01T00:00:00",
          "2007-02-01T00:00:00",
          "2007-03-01T00:00:00",
          "2007-04-01T00:00:00",
          "2007-05-01T00:00:00",
          "2007-06-01T00:00:00",
          "2007-07-01T00:00:00",
          "2007-08-01T00:00:00",
          "2007-09-01T00:00:00",
          "2007-10-01T00:00:00",
          "2007-11-01T00:00:00",
          "2007-12-01T00:00:00",
          "2008-01-01T00:00:00",
          "2008-02-01T00:00:00",
          "2008-03-01T00:00:00",
          "2008-04-01T00:00:00",
          "2008-05-01T00:00:00",
          "2008-06-01T00:00:00",
          "2008-07-01T00:00:00",
          "2008-08-01T00:00:00",
          "2008-09-01T00:00:00",
          "2008-10-01T00:00:00",
          "2008-11-01T00:00:00",
          "2008-12-01T00:00:00",
          "2009-01-01T00:00:00",
          "2009-02-01T00:00:00",
          "2009-03-01T00:00:00",
          "2009-04-01T00:00:00",
          "2009-05-01T00:00:00",
          "2009-06-01T00:00:00",
          "2009-07-01T00:00:00",
          "2009-08-01T00:00:00",
          "2009-09-01T00:00:00",
          "2009-10-01T00:00:00",
          "2009-11-01T00:00:00",
          "2009-12-01T00:00:00",
          "2010-01-01T00:00:00",
          "2010-02-01T00:00:00",
          "2010-03-01T00:00:00",
          "2010-04-01T00:00:00",
          "2010-05-01T00:00:00",
          "2010-06-01T00:00:00",
          "2010-07-01T00:00:00",
          "2010-08-01T00:00:00",
          "2010-09-01T00:00:00",
          "2010-10-01T00:00:00",
          "2010-11-01T00:00:00",
          "2010-12-01T00:00:00",
          "2011-01-01T00:00:00",
          "2011-02-01T00:00:00",
          "2011-03-01T00:00:00",
          "2011-04-01T00:00:00",
          "2011-05-01T00:00:00",
          "2011-06-01T00:00:00",
          "2011-07-01T00:00:00",
          "2011-08-01T00:00:00",
          "2011-09-01T00:00:00",
          "2011-10-01T00:00:00",
          "2011-11-01T00:00:00",
          "2011-12-01T00:00:00",
          "2012-01-01T00:00:00",
          "2012-02-01T00:00:00",
          "2012-03-01T00:00:00",
          "2012-04-01T00:00:00",
          "2012-05-01T00:00:00",
          "2012-06-01T00:00:00",
          "2012-07-01T00:00:00",
          "2012-08-01T00:00:00",
          "2012-09-01T00:00:00",
          "2012-10-01T00:00:00",
          "2012-11-01T00:00:00",
          "2012-12-01T00:00:00",
          "2013-01-01T00:00:00",
          "2013-02-01T00:00:00",
          "2013-03-01T00:00:00",
          "2013-04-01T00:00:00",
          "2013-05-01T00:00:00",
          "2013-06-01T00:00:00",
          "2013-07-01T00:00:00",
          "2013-08-01T00:00:00",
          "2013-09-01T00:00:00",
          "2013-10-01T00:00:00",
          "2013-11-01T00:00:00",
          "2013-12-01T00:00:00",
          "2014-01-01T00:00:00",
          "2014-02-01T00:00:00",
          "2014-03-01T00:00:00",
          "2014-04-01T00:00:00",
          "2014-05-01T00:00:00",
          "2014-06-01T00:00:00",
          "2014-07-01T00:00:00",
          "2014-08-01T00:00:00",
          "2014-09-01T00:00:00",
          "2014-10-01T00:00:00",
          "2014-11-01T00:00:00",
          "2014-12-01T00:00:00",
          "2015-01-01T00:00:00",
          "2015-02-01T00:00:00",
          "2015-03-01T00:00:00",
          "2015-04-01T00:00:00",
          "2015-05-01T00:00:00",
          "2015-06-01T00:00:00",
          "2015-07-01T00:00:00",
          "2015-08-01T00:00:00",
          "2015-09-01T00:00:00",
          "2015-10-01T00:00:00",
          "2015-11-01T00:00:00",
          "2015-12-01T00:00:00",
          "2016-01-01T00:00:00",
          "2016-02-01T00:00:00",
          "2016-03-01T00:00:00",
          "2016-04-01T00:00:00",
          "2016-05-01T00:00:00",
          "2016-06-01T00:00:00",
          "2016-07-01T00:00:00",
          "2016-08-01T00:00:00",
          "2016-09-01T00:00:00",
          "2016-10-01T00:00:00",
          "2016-11-01T00:00:00",
          "2016-12-01T00:00:00",
          "2017-01-01T00:00:00",
          "2017-02-01T00:00:00",
          "2017-03-01T00:00:00",
          "2017-04-01T00:00:00",
          "2017-05-01T00:00:00",
          "2017-06-01T00:00:00",
          "2017-07-01T00:00:00",
          "2017-08-01T00:00:00",
          "2017-09-01T00:00:00",
          "2017-10-01T00:00:00",
          "2017-11-01T00:00:00",
          "2017-12-01T00:00:00",
          "2018-01-01T00:00:00",
          "2018-02-01T00:00:00",
          "2018-03-01T00:00:00",
          "2018-04-01T00:00:00",
          "2018-05-01T00:00:00",
          "2018-06-01T00:00:00",
          "2018-07-01T00:00:00",
          "2018-08-01T00:00:00",
          "2018-09-01T00:00:00",
          "2018-10-01T00:00:00",
          "2018-11-01T00:00:00",
          "2018-12-01T00:00:00",
          "2019-01-01T00:00:00",
          "2019-02-01T00:00:00",
          "2019-03-01T00:00:00",
          "2019-04-01T00:00:00",
          "2019-05-01T00:00:00",
          "2019-06-01T00:00:00",
          "2019-07-01T00:00:00",
          "2019-08-01T00:00:00",
          "2019-09-01T00:00:00",
          "2019-10-01T00:00:00",
          "2019-11-01T00:00:00",
          "2019-12-01T00:00:00",
          "2020-01-01T00:00:00",
          "2020-02-01T00:00:00",
          "2020-03-01T00:00:00"
         ],
         "y": [
          0,
          0,
          0,
          0,
          0,
          0,
          0,
          0,
          0,
          0,
          0,
          0,
          0,
          0,
          0,
          0,
          0,
          0,
          0,
          0,
          0,
          0,
          0,
          0,
          0,
          0,
          0,
          0,
          0,
          0,
          0,
          0,
          0,
          0,
          0,
          0,
          0,
          0,
          0,
          0,
          0,
          0,
          0,
          0,
          0,
          0,
          0,
          0,
          0,
          0,
          0,
          0,
          0,
          0,
          0,
          0,
          0,
          0,
          0,
          0,
          0,
          0,
          0,
          0,
          0,
          0,
          0,
          0,
          0,
          0,
          0,
          0,
          7060,
          0,
          0,
          0,
          0,
          0,
          0,
          0,
          0,
          0,
          0,
          0,
          0,
          25890,
          5720,
          13810,
          0,
          0,
          11020,
          2730,
          15300,
          16600,
          10630,
          22410,
          53200,
          27580,
          33110,
          218060,
          311680,
          454900,
          446570,
          395130,
          473570,
          564790,
          522390,
          531880,
          723310,
          890780,
          638300,
          558390,
          693220,
          790360,
          487870,
          593830,
          932620,
          1397790,
          1125450,
          687890,
          1609500,
          1500930,
          1533070,
          1642100,
          1748110,
          1844620,
          1913000,
          1954050,
          1751560,
          2018490,
          2540130,
          1450951,
          2088894,
          2080750,
          1855381,
          2144370,
          2796880,
          2710585,
          2968991,
          2715818,
          2922346,
          4652380,
          4262355,
          2901811,
          4898199,
          4242295,
          4760801,
          5553652,
          5911104,
          4402790,
          5248259,
          4850865,
          4236560,
          4205179,
          5191520,
          2454840,
          3707690,
          3001545,
          1269990
         ]
        }
       ],
       "layout": {
        "barmode": "stack",
        "template": {
         "data": {
          "bar": [
           {
            "error_x": {
             "color": "#2a3f5f"
            },
            "error_y": {
             "color": "#2a3f5f"
            },
            "marker": {
             "line": {
              "color": "#E5ECF6",
              "width": 0.5
             }
            },
            "type": "bar"
           }
          ],
          "barpolar": [
           {
            "marker": {
             "line": {
              "color": "#E5ECF6",
              "width": 0.5
             }
            },
            "type": "barpolar"
           }
          ],
          "carpet": [
           {
            "aaxis": {
             "endlinecolor": "#2a3f5f",
             "gridcolor": "white",
             "linecolor": "white",
             "minorgridcolor": "white",
             "startlinecolor": "#2a3f5f"
            },
            "baxis": {
             "endlinecolor": "#2a3f5f",
             "gridcolor": "white",
             "linecolor": "white",
             "minorgridcolor": "white",
             "startlinecolor": "#2a3f5f"
            },
            "type": "carpet"
           }
          ],
          "choropleth": [
           {
            "colorbar": {
             "outlinewidth": 0,
             "ticks": ""
            },
            "type": "choropleth"
           }
          ],
          "contour": [
           {
            "colorbar": {
             "outlinewidth": 0,
             "ticks": ""
            },
            "colorscale": [
             [
              0,
              "#0d0887"
             ],
             [
              0.1111111111111111,
              "#46039f"
             ],
             [
              0.2222222222222222,
              "#7201a8"
             ],
             [
              0.3333333333333333,
              "#9c179e"
             ],
             [
              0.4444444444444444,
              "#bd3786"
             ],
             [
              0.5555555555555556,
              "#d8576b"
             ],
             [
              0.6666666666666666,
              "#ed7953"
             ],
             [
              0.7777777777777778,
              "#fb9f3a"
             ],
             [
              0.8888888888888888,
              "#fdca26"
             ],
             [
              1,
              "#f0f921"
             ]
            ],
            "type": "contour"
           }
          ],
          "contourcarpet": [
           {
            "colorbar": {
             "outlinewidth": 0,
             "ticks": ""
            },
            "type": "contourcarpet"
           }
          ],
          "heatmap": [
           {
            "colorbar": {
             "outlinewidth": 0,
             "ticks": ""
            },
            "colorscale": [
             [
              0,
              "#0d0887"
             ],
             [
              0.1111111111111111,
              "#46039f"
             ],
             [
              0.2222222222222222,
              "#7201a8"
             ],
             [
              0.3333333333333333,
              "#9c179e"
             ],
             [
              0.4444444444444444,
              "#bd3786"
             ],
             [
              0.5555555555555556,
              "#d8576b"
             ],
             [
              0.6666666666666666,
              "#ed7953"
             ],
             [
              0.7777777777777778,
              "#fb9f3a"
             ],
             [
              0.8888888888888888,
              "#fdca26"
             ],
             [
              1,
              "#f0f921"
             ]
            ],
            "type": "heatmap"
           }
          ],
          "heatmapgl": [
           {
            "colorbar": {
             "outlinewidth": 0,
             "ticks": ""
            },
            "colorscale": [
             [
              0,
              "#0d0887"
             ],
             [
              0.1111111111111111,
              "#46039f"
             ],
             [
              0.2222222222222222,
              "#7201a8"
             ],
             [
              0.3333333333333333,
              "#9c179e"
             ],
             [
              0.4444444444444444,
              "#bd3786"
             ],
             [
              0.5555555555555556,
              "#d8576b"
             ],
             [
              0.6666666666666666,
              "#ed7953"
             ],
             [
              0.7777777777777778,
              "#fb9f3a"
             ],
             [
              0.8888888888888888,
              "#fdca26"
             ],
             [
              1,
              "#f0f921"
             ]
            ],
            "type": "heatmapgl"
           }
          ],
          "histogram": [
           {
            "marker": {
             "colorbar": {
              "outlinewidth": 0,
              "ticks": ""
             }
            },
            "type": "histogram"
           }
          ],
          "histogram2d": [
           {
            "colorbar": {
             "outlinewidth": 0,
             "ticks": ""
            },
            "colorscale": [
             [
              0,
              "#0d0887"
             ],
             [
              0.1111111111111111,
              "#46039f"
             ],
             [
              0.2222222222222222,
              "#7201a8"
             ],
             [
              0.3333333333333333,
              "#9c179e"
             ],
             [
              0.4444444444444444,
              "#bd3786"
             ],
             [
              0.5555555555555556,
              "#d8576b"
             ],
             [
              0.6666666666666666,
              "#ed7953"
             ],
             [
              0.7777777777777778,
              "#fb9f3a"
             ],
             [
              0.8888888888888888,
              "#fdca26"
             ],
             [
              1,
              "#f0f921"
             ]
            ],
            "type": "histogram2d"
           }
          ],
          "histogram2dcontour": [
           {
            "colorbar": {
             "outlinewidth": 0,
             "ticks": ""
            },
            "colorscale": [
             [
              0,
              "#0d0887"
             ],
             [
              0.1111111111111111,
              "#46039f"
             ],
             [
              0.2222222222222222,
              "#7201a8"
             ],
             [
              0.3333333333333333,
              "#9c179e"
             ],
             [
              0.4444444444444444,
              "#bd3786"
             ],
             [
              0.5555555555555556,
              "#d8576b"
             ],
             [
              0.6666666666666666,
              "#ed7953"
             ],
             [
              0.7777777777777778,
              "#fb9f3a"
             ],
             [
              0.8888888888888888,
              "#fdca26"
             ],
             [
              1,
              "#f0f921"
             ]
            ],
            "type": "histogram2dcontour"
           }
          ],
          "mesh3d": [
           {
            "colorbar": {
             "outlinewidth": 0,
             "ticks": ""
            },
            "type": "mesh3d"
           }
          ],
          "parcoords": [
           {
            "line": {
             "colorbar": {
              "outlinewidth": 0,
              "ticks": ""
             }
            },
            "type": "parcoords"
           }
          ],
          "pie": [
           {
            "automargin": true,
            "type": "pie"
           }
          ],
          "scatter": [
           {
            "marker": {
             "colorbar": {
              "outlinewidth": 0,
              "ticks": ""
             }
            },
            "type": "scatter"
           }
          ],
          "scatter3d": [
           {
            "line": {
             "colorbar": {
              "outlinewidth": 0,
              "ticks": ""
             }
            },
            "marker": {
             "colorbar": {
              "outlinewidth": 0,
              "ticks": ""
             }
            },
            "type": "scatter3d"
           }
          ],
          "scattercarpet": [
           {
            "marker": {
             "colorbar": {
              "outlinewidth": 0,
              "ticks": ""
             }
            },
            "type": "scattercarpet"
           }
          ],
          "scattergeo": [
           {
            "marker": {
             "colorbar": {
              "outlinewidth": 0,
              "ticks": ""
             }
            },
            "type": "scattergeo"
           }
          ],
          "scattergl": [
           {
            "marker": {
             "colorbar": {
              "outlinewidth": 0,
              "ticks": ""
             }
            },
            "type": "scattergl"
           }
          ],
          "scattermapbox": [
           {
            "marker": {
             "colorbar": {
              "outlinewidth": 0,
              "ticks": ""
             }
            },
            "type": "scattermapbox"
           }
          ],
          "scatterpolar": [
           {
            "marker": {
             "colorbar": {
              "outlinewidth": 0,
              "ticks": ""
             }
            },
            "type": "scatterpolar"
           }
          ],
          "scatterpolargl": [
           {
            "marker": {
             "colorbar": {
              "outlinewidth": 0,
              "ticks": ""
             }
            },
            "type": "scatterpolargl"
           }
          ],
          "scatterternary": [
           {
            "marker": {
             "colorbar": {
              "outlinewidth": 0,
              "ticks": ""
             }
            },
            "type": "scatterternary"
           }
          ],
          "surface": [
           {
            "colorbar": {
             "outlinewidth": 0,
             "ticks": ""
            },
            "colorscale": [
             [
              0,
              "#0d0887"
             ],
             [
              0.1111111111111111,
              "#46039f"
             ],
             [
              0.2222222222222222,
              "#7201a8"
             ],
             [
              0.3333333333333333,
              "#9c179e"
             ],
             [
              0.4444444444444444,
              "#bd3786"
             ],
             [
              0.5555555555555556,
              "#d8576b"
             ],
             [
              0.6666666666666666,
              "#ed7953"
             ],
             [
              0.7777777777777778,
              "#fb9f3a"
             ],
             [
              0.8888888888888888,
              "#fdca26"
             ],
             [
              1,
              "#f0f921"
             ]
            ],
            "type": "surface"
           }
          ],
          "table": [
           {
            "cells": {
             "fill": {
              "color": "#EBF0F8"
             },
             "line": {
              "color": "white"
             }
            },
            "header": {
             "fill": {
              "color": "#C8D4E3"
             },
             "line": {
              "color": "white"
             }
            },
            "type": "table"
           }
          ]
         },
         "layout": {
          "annotationdefaults": {
           "arrowcolor": "#2a3f5f",
           "arrowhead": 0,
           "arrowwidth": 1
          },
          "autotypenumbers": "strict",
          "coloraxis": {
           "colorbar": {
            "outlinewidth": 0,
            "ticks": ""
           }
          },
          "colorscale": {
           "diverging": [
            [
             0,
             "#8e0152"
            ],
            [
             0.1,
             "#c51b7d"
            ],
            [
             0.2,
             "#de77ae"
            ],
            [
             0.3,
             "#f1b6da"
            ],
            [
             0.4,
             "#fde0ef"
            ],
            [
             0.5,
             "#f7f7f7"
            ],
            [
             0.6,
             "#e6f5d0"
            ],
            [
             0.7,
             "#b8e186"
            ],
            [
             0.8,
             "#7fbc41"
            ],
            [
             0.9,
             "#4d9221"
            ],
            [
             1,
             "#276419"
            ]
           ],
           "sequential": [
            [
             0,
             "#0d0887"
            ],
            [
             0.1111111111111111,
             "#46039f"
            ],
            [
             0.2222222222222222,
             "#7201a8"
            ],
            [
             0.3333333333333333,
             "#9c179e"
            ],
            [
             0.4444444444444444,
             "#bd3786"
            ],
            [
             0.5555555555555556,
             "#d8576b"
            ],
            [
             0.6666666666666666,
             "#ed7953"
            ],
            [
             0.7777777777777778,
             "#fb9f3a"
            ],
            [
             0.8888888888888888,
             "#fdca26"
            ],
            [
             1,
             "#f0f921"
            ]
           ],
           "sequentialminus": [
            [
             0,
             "#0d0887"
            ],
            [
             0.1111111111111111,
             "#46039f"
            ],
            [
             0.2222222222222222,
             "#7201a8"
            ],
            [
             0.3333333333333333,
             "#9c179e"
            ],
            [
             0.4444444444444444,
             "#bd3786"
            ],
            [
             0.5555555555555556,
             "#d8576b"
            ],
            [
             0.6666666666666666,
             "#ed7953"
            ],
            [
             0.7777777777777778,
             "#fb9f3a"
            ],
            [
             0.8888888888888888,
             "#fdca26"
            ],
            [
             1,
             "#f0f921"
            ]
           ]
          },
          "colorway": [
           "#636efa",
           "#EF553B",
           "#00cc96",
           "#ab63fa",
           "#FFA15A",
           "#19d3f3",
           "#FF6692",
           "#B6E880",
           "#FF97FF",
           "#FECB52"
          ],
          "font": {
           "color": "#2a3f5f"
          },
          "geo": {
           "bgcolor": "white",
           "lakecolor": "white",
           "landcolor": "#E5ECF6",
           "showlakes": true,
           "showland": true,
           "subunitcolor": "white"
          },
          "hoverlabel": {
           "align": "left"
          },
          "hovermode": "closest",
          "mapbox": {
           "style": "light"
          },
          "paper_bgcolor": "white",
          "plot_bgcolor": "#E5ECF6",
          "polar": {
           "angularaxis": {
            "gridcolor": "white",
            "linecolor": "white",
            "ticks": ""
           },
           "bgcolor": "#E5ECF6",
           "radialaxis": {
            "gridcolor": "white",
            "linecolor": "white",
            "ticks": ""
           }
          },
          "scene": {
           "xaxis": {
            "backgroundcolor": "#E5ECF6",
            "gridcolor": "white",
            "gridwidth": 2,
            "linecolor": "white",
            "showbackground": true,
            "ticks": "",
            "zerolinecolor": "white"
           },
           "yaxis": {
            "backgroundcolor": "#E5ECF6",
            "gridcolor": "white",
            "gridwidth": 2,
            "linecolor": "white",
            "showbackground": true,
            "ticks": "",
            "zerolinecolor": "white"
           },
           "zaxis": {
            "backgroundcolor": "#E5ECF6",
            "gridcolor": "white",
            "gridwidth": 2,
            "linecolor": "white",
            "showbackground": true,
            "ticks": "",
            "zerolinecolor": "white"
           }
          },
          "shapedefaults": {
           "line": {
            "color": "#2a3f5f"
           }
          },
          "ternary": {
           "aaxis": {
            "gridcolor": "white",
            "linecolor": "white",
            "ticks": ""
           },
           "baxis": {
            "gridcolor": "white",
            "linecolor": "white",
            "ticks": ""
           },
           "bgcolor": "#E5ECF6",
           "caxis": {
            "gridcolor": "white",
            "linecolor": "white",
            "ticks": ""
           }
          },
          "title": {
           "x": 0.05
          },
          "xaxis": {
           "automargin": true,
           "gridcolor": "white",
           "linecolor": "white",
           "ticks": "",
           "title": {
            "standoff": 15
           },
           "zerolinecolor": "white",
           "zerolinewidth": 2
          },
          "yaxis": {
           "automargin": true,
           "gridcolor": "white",
           "linecolor": "white",
           "ticks": "",
           "title": {
            "standoff": 15
           },
           "zerolinecolor": "white",
           "zerolinewidth": 2
          }
         }
        },
        "title": {
         "text": "Bar chart of loan performance over time (not include active loans)",
         "x": 0.5
        },
        "yaxis": {
         "title": {
          "text": "Loans amount"
         }
        }
       }
      },
      "text/html": [
       "<div>                            <div id=\"4f161980-a2fa-4cf9-853d-476222d05d1b\" class=\"plotly-graph-div\" style=\"height:525px; width:100%;\"></div>            <script type=\"text/javascript\">                require([\"plotly\"], function(Plotly) {                    window.PLOTLYENV=window.PLOTLYENV || {};                                    if (document.getElementById(\"4f161980-a2fa-4cf9-853d-476222d05d1b\")) {                    Plotly.newPlot(                        \"4f161980-a2fa-4cf9-853d-476222d05d1b\",                        [{\"name\": \"Completed\", \"type\": \"bar\", \"x\": [\"2007-01-01T00:00:00\", \"2007-02-01T00:00:00\", \"2007-03-01T00:00:00\", \"2007-04-01T00:00:00\", \"2007-05-01T00:00:00\", \"2007-06-01T00:00:00\", \"2007-07-01T00:00:00\", \"2007-08-01T00:00:00\", \"2007-09-01T00:00:00\", \"2007-10-01T00:00:00\", \"2007-11-01T00:00:00\", \"2007-12-01T00:00:00\", \"2008-01-01T00:00:00\", \"2008-02-01T00:00:00\", \"2008-03-01T00:00:00\", \"2008-04-01T00:00:00\", \"2008-05-01T00:00:00\", \"2008-06-01T00:00:00\", \"2008-07-01T00:00:00\", \"2008-08-01T00:00:00\", \"2008-09-01T00:00:00\", \"2008-10-01T00:00:00\", \"2008-11-01T00:00:00\", \"2008-12-01T00:00:00\", \"2009-01-01T00:00:00\", \"2009-02-01T00:00:00\", \"2009-03-01T00:00:00\", \"2009-04-01T00:00:00\", \"2009-05-01T00:00:00\", \"2009-06-01T00:00:00\", \"2009-07-01T00:00:00\", \"2009-08-01T00:00:00\", \"2009-09-01T00:00:00\", \"2009-10-01T00:00:00\", \"2009-11-01T00:00:00\", \"2009-12-01T00:00:00\", \"2010-01-01T00:00:00\", \"2010-02-01T00:00:00\", \"2010-03-01T00:00:00\", \"2010-04-01T00:00:00\", \"2010-05-01T00:00:00\", \"2010-06-01T00:00:00\", \"2010-07-01T00:00:00\", \"2010-08-01T00:00:00\", \"2010-09-01T00:00:00\", \"2010-10-01T00:00:00\", \"2010-11-01T00:00:00\", \"2010-12-01T00:00:00\", \"2011-01-01T00:00:00\", \"2011-02-01T00:00:00\", \"2011-03-01T00:00:00\", \"2011-04-01T00:00:00\", \"2011-05-01T00:00:00\", \"2011-06-01T00:00:00\", \"2011-07-01T00:00:00\", \"2011-08-01T00:00:00\", \"2011-09-01T00:00:00\", \"2011-10-01T00:00:00\", \"2011-11-01T00:00:00\", \"2011-12-01T00:00:00\", \"2012-01-01T00:00:00\", \"2012-02-01T00:00:00\", \"2012-03-01T00:00:00\", \"2012-04-01T00:00:00\", \"2012-05-01T00:00:00\", \"2012-06-01T00:00:00\", \"2012-07-01T00:00:00\", \"2012-08-01T00:00:00\", \"2012-09-01T00:00:00\", \"2012-10-01T00:00:00\", \"2012-11-01T00:00:00\", \"2012-12-01T00:00:00\", \"2013-01-01T00:00:00\", \"2013-02-01T00:00:00\", \"2013-03-01T00:00:00\", \"2013-04-01T00:00:00\", \"2013-05-01T00:00:00\", \"2013-06-01T00:00:00\", \"2013-07-01T00:00:00\", \"2013-08-01T00:00:00\", \"2013-09-01T00:00:00\", \"2013-10-01T00:00:00\", \"2013-11-01T00:00:00\", \"2013-12-01T00:00:00\", \"2014-01-01T00:00:00\", \"2014-02-01T00:00:00\", \"2014-03-01T00:00:00\", \"2014-04-01T00:00:00\", \"2014-05-01T00:00:00\", \"2014-06-01T00:00:00\", \"2014-07-01T00:00:00\", \"2014-08-01T00:00:00\", \"2014-09-01T00:00:00\", \"2014-10-01T00:00:00\", \"2014-11-01T00:00:00\", \"2014-12-01T00:00:00\", \"2015-01-01T00:00:00\", \"2015-02-01T00:00:00\", \"2015-03-01T00:00:00\", \"2015-04-01T00:00:00\", \"2015-05-01T00:00:00\", \"2015-06-01T00:00:00\", \"2015-07-01T00:00:00\", \"2015-08-01T00:00:00\", \"2015-09-01T00:00:00\", \"2015-10-01T00:00:00\", \"2015-11-01T00:00:00\", \"2015-12-01T00:00:00\", \"2016-01-01T00:00:00\", \"2016-02-01T00:00:00\", \"2016-03-01T00:00:00\", \"2016-04-01T00:00:00\", \"2016-05-01T00:00:00\", \"2016-06-01T00:00:00\", \"2016-07-01T00:00:00\", \"2016-08-01T00:00:00\", \"2016-09-01T00:00:00\", \"2016-10-01T00:00:00\", \"2016-11-01T00:00:00\", \"2016-12-01T00:00:00\", \"2017-01-01T00:00:00\", \"2017-02-01T00:00:00\", \"2017-03-01T00:00:00\", \"2017-04-01T00:00:00\", \"2017-05-01T00:00:00\", \"2017-06-01T00:00:00\", \"2017-07-01T00:00:00\", \"2017-08-01T00:00:00\", \"2017-09-01T00:00:00\", \"2017-10-01T00:00:00\", \"2017-11-01T00:00:00\", \"2017-12-01T00:00:00\", \"2018-01-01T00:00:00\", \"2018-02-01T00:00:00\", \"2018-03-01T00:00:00\", \"2018-04-01T00:00:00\", \"2018-05-01T00:00:00\", \"2018-06-01T00:00:00\", \"2018-07-01T00:00:00\", \"2018-08-01T00:00:00\", \"2018-09-01T00:00:00\", \"2018-10-01T00:00:00\", \"2018-11-01T00:00:00\", \"2018-12-01T00:00:00\", \"2019-01-01T00:00:00\", \"2019-02-01T00:00:00\", \"2019-03-01T00:00:00\", \"2019-04-01T00:00:00\", \"2019-05-01T00:00:00\", \"2019-06-01T00:00:00\", \"2019-07-01T00:00:00\", \"2019-08-01T00:00:00\", \"2019-09-01T00:00:00\", \"2019-10-01T00:00:00\", \"2019-11-01T00:00:00\", \"2019-12-01T00:00:00\", \"2020-01-01T00:00:00\", \"2020-02-01T00:00:00\", \"2020-03-01T00:00:00\"], \"y\": [870830.0, 774190.0, 1198180.0, 634850.0, 935860.0, 806940.0, 673380.0, 537050.0, 596010.0, 761090.0, 665860.0, 444900.0, 1055120.0, 1014050.0, 931590.0, 795850.0, 939900.0, 780300.0, 868350.0, 1094500.0, 953890.0, 999800.0, 935800.0, 1088650.0, 2035300.0, 2277010.0, 2540270.0, 2936420.0, 2980820.0, 2714720.0, 3068290.0, 2613600.0, 2408020.0, 2866180.0, 2810360.0, 2320900.0, 3651840.0, 3263480.0, 4092540.0, 3162690.0, 2696490.0, 3869800.0, 4299760.0, 5253190.0, 5126480.0, 4378530.0, 3884850.0, 3668910.0, 5579510.0, 4795440.0, 5078930.0, 4158960.0, 4696850.0, 4938230.0, 4410100.0, 5121760.0, 4487400.0, 4292250.0, 4215850.0, 4775580.0, 8087480.0, 7410490.0, 7225050.0, 5910880.0, 6695150.0, 6711820.0, 7688970.0, 7748470.0, 7214310.0, 8170960.0, 7434430.0, 5265370.0, 11634490.0, 9809930.0, 9636430.0, 11463360.0, 11132470.0, 9466300.0, 10882430.0, 10245680.0, 8630670.0, 7658350.0, 9260910.0, 5787870.0, 10857540.0, 11011670.0, 8665590.0, 8665880.0, 11438670.0, 11714030.0, 13000320.0, 11082780.0, 13327240.0, 12627780.0, 11713860.0, 9677180.0, 14521910.0, 11444080.0, 14597130.0, 19202200.0, 18300203.0, 20368180.0, 23994620.0, 23708920.0, 25894730.0, 25085240.0, 24558127.0, 18760710.0, 26421730.0, 25955890.0, 21677810.0, 17835238.0, 20708504.0, 20791750.0, 18552410.0, 19559580.0, 23548010.0, 24555380.0, 22535350.0, 16849170.0, 26957380.0, 27246360.0, 28423610.0, 23483270.0, 25048080.0, 24084380.0, 24913670.0, 22714660.0, 20112090.0, 20210480.0, 21489900.0, 12020599.0, 19534502.0, 16138713.0, 14515090.0, 16045506.0, 14850810.0, 12165845.0, 14415595.0, 13293848.0, 12785399.0, 16181688.0, 14097839.0, 14207742.0, 16374682.0, 11268800.0, 11513585.0, 11455944.0, 9761226.0, 8102191.0, 7894342.0, 6055940.0, 4772210.0, 3701830.0, 3027900.0, 1561720.0, 1815670.0, 1504970.0, 973240.0]}, {\"name\": \"Default\", \"type\": \"bar\", \"x\": [\"2007-01-01T00:00:00\", \"2007-02-01T00:00:00\", \"2007-03-01T00:00:00\", \"2007-04-01T00:00:00\", \"2007-05-01T00:00:00\", \"2007-06-01T00:00:00\", \"2007-07-01T00:00:00\", \"2007-08-01T00:00:00\", \"2007-09-01T00:00:00\", \"2007-10-01T00:00:00\", \"2007-11-01T00:00:00\", \"2007-12-01T00:00:00\", \"2008-01-01T00:00:00\", \"2008-02-01T00:00:00\", \"2008-03-01T00:00:00\", \"2008-04-01T00:00:00\", \"2008-05-01T00:00:00\", \"2008-06-01T00:00:00\", \"2008-07-01T00:00:00\", \"2008-08-01T00:00:00\", \"2008-09-01T00:00:00\", \"2008-10-01T00:00:00\", \"2008-11-01T00:00:00\", \"2008-12-01T00:00:00\", \"2009-01-01T00:00:00\", \"2009-02-01T00:00:00\", \"2009-03-01T00:00:00\", \"2009-04-01T00:00:00\", \"2009-05-01T00:00:00\", \"2009-06-01T00:00:00\", \"2009-07-01T00:00:00\", \"2009-08-01T00:00:00\", \"2009-09-01T00:00:00\", \"2009-10-01T00:00:00\", \"2009-11-01T00:00:00\", \"2009-12-01T00:00:00\", \"2010-01-01T00:00:00\", \"2010-02-01T00:00:00\", \"2010-03-01T00:00:00\", \"2010-04-01T00:00:00\", \"2010-05-01T00:00:00\", \"2010-06-01T00:00:00\", \"2010-07-01T00:00:00\", \"2010-08-01T00:00:00\", \"2010-09-01T00:00:00\", \"2010-10-01T00:00:00\", \"2010-11-01T00:00:00\", \"2010-12-01T00:00:00\", \"2011-01-01T00:00:00\", \"2011-02-01T00:00:00\", \"2011-03-01T00:00:00\", \"2011-04-01T00:00:00\", \"2011-05-01T00:00:00\", \"2011-06-01T00:00:00\", \"2011-07-01T00:00:00\", \"2011-08-01T00:00:00\", \"2011-09-01T00:00:00\", \"2011-10-01T00:00:00\", \"2011-11-01T00:00:00\", \"2011-12-01T00:00:00\", \"2012-01-01T00:00:00\", \"2012-02-01T00:00:00\", \"2012-03-01T00:00:00\", \"2012-04-01T00:00:00\", \"2012-05-01T00:00:00\", \"2012-06-01T00:00:00\", \"2012-07-01T00:00:00\", \"2012-08-01T00:00:00\", \"2012-09-01T00:00:00\", \"2012-10-01T00:00:00\", \"2012-11-01T00:00:00\", \"2012-12-01T00:00:00\", \"2013-01-01T00:00:00\", \"2013-02-01T00:00:00\", \"2013-03-01T00:00:00\", \"2013-04-01T00:00:00\", \"2013-05-01T00:00:00\", \"2013-06-01T00:00:00\", \"2013-07-01T00:00:00\", \"2013-08-01T00:00:00\", \"2013-09-01T00:00:00\", \"2013-10-01T00:00:00\", \"2013-11-01T00:00:00\", \"2013-12-01T00:00:00\", \"2014-01-01T00:00:00\", \"2014-02-01T00:00:00\", \"2014-03-01T00:00:00\", \"2014-04-01T00:00:00\", \"2014-05-01T00:00:00\", \"2014-06-01T00:00:00\", \"2014-07-01T00:00:00\", \"2014-08-01T00:00:00\", \"2014-09-01T00:00:00\", \"2014-10-01T00:00:00\", \"2014-11-01T00:00:00\", \"2014-12-01T00:00:00\", \"2015-01-01T00:00:00\", \"2015-02-01T00:00:00\", \"2015-03-01T00:00:00\", \"2015-04-01T00:00:00\", \"2015-05-01T00:00:00\", \"2015-06-01T00:00:00\", \"2015-07-01T00:00:00\", \"2015-08-01T00:00:00\", \"2015-09-01T00:00:00\", \"2015-10-01T00:00:00\", \"2015-11-01T00:00:00\", \"2015-12-01T00:00:00\", \"2016-01-01T00:00:00\", \"2016-02-01T00:00:00\", \"2016-03-01T00:00:00\", \"2016-04-01T00:00:00\", \"2016-05-01T00:00:00\", \"2016-06-01T00:00:00\", \"2016-07-01T00:00:00\", \"2016-08-01T00:00:00\", \"2016-09-01T00:00:00\", \"2016-10-01T00:00:00\", \"2016-11-01T00:00:00\", \"2016-12-01T00:00:00\", \"2017-01-01T00:00:00\", \"2017-02-01T00:00:00\", \"2017-03-01T00:00:00\", \"2017-04-01T00:00:00\", \"2017-05-01T00:00:00\", \"2017-06-01T00:00:00\", \"2017-07-01T00:00:00\", \"2017-08-01T00:00:00\", \"2017-09-01T00:00:00\", \"2017-10-01T00:00:00\", \"2017-11-01T00:00:00\", \"2017-12-01T00:00:00\", \"2018-01-01T00:00:00\", \"2018-02-01T00:00:00\", \"2018-03-01T00:00:00\", \"2018-04-01T00:00:00\", \"2018-05-01T00:00:00\", \"2018-06-01T00:00:00\", \"2018-07-01T00:00:00\", \"2018-08-01T00:00:00\", \"2018-09-01T00:00:00\", \"2018-10-01T00:00:00\", \"2018-11-01T00:00:00\", \"2018-12-01T00:00:00\", \"2019-01-01T00:00:00\", \"2019-02-01T00:00:00\", \"2019-03-01T00:00:00\", \"2019-04-01T00:00:00\", \"2019-05-01T00:00:00\", \"2019-06-01T00:00:00\", \"2019-07-01T00:00:00\", \"2019-08-01T00:00:00\", \"2019-09-01T00:00:00\", \"2019-10-01T00:00:00\", \"2019-11-01T00:00:00\", \"2019-12-01T00:00:00\", \"2020-01-01T00:00:00\", \"2020-02-01T00:00:00\", \"2020-03-01T00:00:00\"], \"y\": [5810.0, 0.0, 2010.0, 0.0, 13070.0, 3020.0, 0.0, 0.0, 0.0, 12580.0, 24030.0, 33540.0, 5530.0, 58890.0, 96270.0, 79810.0, 131500.0, 144600.0, 101500.0, 83800.0, 120500.0, 141400.0, 166900.0, 63800.0, 173500.0, 189820.0, 144380.0, 63820.0, 82570.0, 56560.0, 132100.0, 150260.0, 95240.0, 136960.0, 150220.0, 103040.0, 150520.0, 160380.0, 173860.0, 144450.0, 136640.0, 205160.0, 196080.0, 204300.0, 204480.0, 129470.0, 90040.0, 165310.0, 177600.0, 128740.0, 99360.0, 74170.0, 69510.0, 74850.0, 88140.0, 88630.0, 66490.0, 65610.0, 71540.0, 66170.0, 91830.0, 137860.0, 145700.0, 91700.0, 150310.0, 116290.0, 141730.0, 95210.0, 123660.0, 142930.0, 120140.0, 119650.0, 175010.0, 106530.0, 100080.0, 201360.0, 223470.0, 180050.0, 278710.0, 257460.0, 135680.0, 247390.0, 251700.0, 198510.0, 438590.0, 376810.0, 544280.0, 480930.0, 750830.0, 926650.0, 1260620.0, 903210.0, 1063820.0, 1115540.0, 1121790.0, 1197850.0, 1488090.0, 1264540.0, 1705700.0, 3185640.0, 2811640.0, 3401680.0, 3715010.0, 4241320.0, 4614940.0, 4610900.0, 4737150.0, 4363460.0, 5345310.0, 4947410.0, 2722160.0, 2914580.0, 3034420.0, 3165950.0, 2660840.0, 3574540.0, 4575070.0, 4681420.0, 4085680.0, 3411980.0, 5033160.0, 4870350.0, 4971180.0, 4391920.0, 5179050.0, 6035490.0, 5093500.0, 4458410.0, 3125410.0, 3607430.0, 3574270.0, 1995195.0, 3087130.0, 2467310.0, 2134241.0, 2733610.0, 2824810.0, 2502775.0, 2381470.0, 2064770.0, 2179120.0, 2823660.0, 2850210.0, 1911070.0, 2533790.0, 1724860.0, 1726840.0, 1454415.0, 1660040.0, 1139998.0, 1363080.0, 984535.0, 624400.0, 334510.0, 132420.0, 9840.0, 5400.0, 10520.0, 0.0]}, {\"name\": \"Late\", \"type\": \"bar\", \"x\": [\"2007-01-01T00:00:00\", \"2007-02-01T00:00:00\", \"2007-03-01T00:00:00\", \"2007-04-01T00:00:00\", \"2007-05-01T00:00:00\", \"2007-06-01T00:00:00\", \"2007-07-01T00:00:00\", \"2007-08-01T00:00:00\", \"2007-09-01T00:00:00\", \"2007-10-01T00:00:00\", \"2007-11-01T00:00:00\", \"2007-12-01T00:00:00\", \"2008-01-01T00:00:00\", \"2008-02-01T00:00:00\", \"2008-03-01T00:00:00\", \"2008-04-01T00:00:00\", \"2008-05-01T00:00:00\", \"2008-06-01T00:00:00\", \"2008-07-01T00:00:00\", \"2008-08-01T00:00:00\", \"2008-09-01T00:00:00\", \"2008-10-01T00:00:00\", \"2008-11-01T00:00:00\", \"2008-12-01T00:00:00\", \"2009-01-01T00:00:00\", \"2009-02-01T00:00:00\", \"2009-03-01T00:00:00\", \"2009-04-01T00:00:00\", \"2009-05-01T00:00:00\", \"2009-06-01T00:00:00\", \"2009-07-01T00:00:00\", \"2009-08-01T00:00:00\", \"2009-09-01T00:00:00\", \"2009-10-01T00:00:00\", \"2009-11-01T00:00:00\", \"2009-12-01T00:00:00\", \"2010-01-01T00:00:00\", \"2010-02-01T00:00:00\", \"2010-03-01T00:00:00\", \"2010-04-01T00:00:00\", \"2010-05-01T00:00:00\", \"2010-06-01T00:00:00\", \"2010-07-01T00:00:00\", \"2010-08-01T00:00:00\", \"2010-09-01T00:00:00\", \"2010-10-01T00:00:00\", \"2010-11-01T00:00:00\", \"2010-12-01T00:00:00\", \"2011-01-01T00:00:00\", \"2011-02-01T00:00:00\", \"2011-03-01T00:00:00\", \"2011-04-01T00:00:00\", \"2011-05-01T00:00:00\", \"2011-06-01T00:00:00\", \"2011-07-01T00:00:00\", \"2011-08-01T00:00:00\", \"2011-09-01T00:00:00\", \"2011-10-01T00:00:00\", \"2011-11-01T00:00:00\", \"2011-12-01T00:00:00\", \"2012-01-01T00:00:00\", \"2012-02-01T00:00:00\", \"2012-03-01T00:00:00\", \"2012-04-01T00:00:00\", \"2012-05-01T00:00:00\", \"2012-06-01T00:00:00\", \"2012-07-01T00:00:00\", \"2012-08-01T00:00:00\", \"2012-09-01T00:00:00\", \"2012-10-01T00:00:00\", \"2012-11-01T00:00:00\", \"2012-12-01T00:00:00\", \"2013-01-01T00:00:00\", \"2013-02-01T00:00:00\", \"2013-03-01T00:00:00\", \"2013-04-01T00:00:00\", \"2013-05-01T00:00:00\", \"2013-06-01T00:00:00\", \"2013-07-01T00:00:00\", \"2013-08-01T00:00:00\", \"2013-09-01T00:00:00\", \"2013-10-01T00:00:00\", \"2013-11-01T00:00:00\", \"2013-12-01T00:00:00\", \"2014-01-01T00:00:00\", \"2014-02-01T00:00:00\", \"2014-03-01T00:00:00\", \"2014-04-01T00:00:00\", \"2014-05-01T00:00:00\", \"2014-06-01T00:00:00\", \"2014-07-01T00:00:00\", \"2014-08-01T00:00:00\", \"2014-09-01T00:00:00\", \"2014-10-01T00:00:00\", \"2014-11-01T00:00:00\", \"2014-12-01T00:00:00\", \"2015-01-01T00:00:00\", \"2015-02-01T00:00:00\", \"2015-03-01T00:00:00\", \"2015-04-01T00:00:00\", \"2015-05-01T00:00:00\", \"2015-06-01T00:00:00\", \"2015-07-01T00:00:00\", \"2015-08-01T00:00:00\", \"2015-09-01T00:00:00\", \"2015-10-01T00:00:00\", \"2015-11-01T00:00:00\", \"2015-12-01T00:00:00\", \"2016-01-01T00:00:00\", \"2016-02-01T00:00:00\", \"2016-03-01T00:00:00\", \"2016-04-01T00:00:00\", \"2016-05-01T00:00:00\", \"2016-06-01T00:00:00\", \"2016-07-01T00:00:00\", \"2016-08-01T00:00:00\", \"2016-09-01T00:00:00\", \"2016-10-01T00:00:00\", \"2016-11-01T00:00:00\", \"2016-12-01T00:00:00\", \"2017-01-01T00:00:00\", \"2017-02-01T00:00:00\", \"2017-03-01T00:00:00\", \"2017-04-01T00:00:00\", \"2017-05-01T00:00:00\", \"2017-06-01T00:00:00\", \"2017-07-01T00:00:00\", \"2017-08-01T00:00:00\", \"2017-09-01T00:00:00\", \"2017-10-01T00:00:00\", \"2017-11-01T00:00:00\", \"2017-12-01T00:00:00\", \"2018-01-01T00:00:00\", \"2018-02-01T00:00:00\", \"2018-03-01T00:00:00\", \"2018-04-01T00:00:00\", \"2018-05-01T00:00:00\", \"2018-06-01T00:00:00\", \"2018-07-01T00:00:00\", \"2018-08-01T00:00:00\", \"2018-09-01T00:00:00\", \"2018-10-01T00:00:00\", \"2018-11-01T00:00:00\", \"2018-12-01T00:00:00\", \"2019-01-01T00:00:00\", \"2019-02-01T00:00:00\", \"2019-03-01T00:00:00\", \"2019-04-01T00:00:00\", \"2019-05-01T00:00:00\", \"2019-06-01T00:00:00\", \"2019-07-01T00:00:00\", \"2019-08-01T00:00:00\", \"2019-09-01T00:00:00\", \"2019-10-01T00:00:00\", \"2019-11-01T00:00:00\", \"2019-12-01T00:00:00\", \"2020-01-01T00:00:00\", \"2020-02-01T00:00:00\", \"2020-03-01T00:00:00\"], \"y\": [0.0, 0.0, 0.0, 0.0, 0.0, 0.0, 0.0, 0.0, 0.0, 0.0, 0.0, 0.0, 0.0, 0.0, 0.0, 0.0, 0.0, 0.0, 0.0, 0.0, 0.0, 0.0, 0.0, 0.0, 0.0, 0.0, 0.0, 0.0, 0.0, 0.0, 0.0, 0.0, 0.0, 0.0, 0.0, 0.0, 0.0, 0.0, 0.0, 0.0, 0.0, 0.0, 0.0, 0.0, 0.0, 0.0, 0.0, 0.0, 0.0, 0.0, 0.0, 0.0, 0.0, 0.0, 0.0, 0.0, 0.0, 0.0, 0.0, 0.0, 0.0, 0.0, 0.0, 0.0, 0.0, 0.0, 0.0, 0.0, 0.0, 0.0, 0.0, 0.0, 7060.0, 0.0, 0.0, 0.0, 0.0, 0.0, 0.0, 0.0, 0.0, 0.0, 0.0, 0.0, 0.0, 25890.0, 5720.0, 13810.0, 0.0, 0.0, 11020.0, 2730.0, 15300.0, 16600.0, 10630.0, 22410.0, 53200.0, 27580.0, 33110.0, 218060.0, 311680.0, 454900.0, 446570.0, 395130.0, 473570.0, 564790.0, 522390.0, 531880.0, 723310.0, 890780.0, 638300.0, 558390.0, 693220.0, 790360.0, 487870.0, 593830.0, 932620.0, 1397790.0, 1125450.0, 687890.0, 1609500.0, 1500930.0, 1533070.0, 1642100.0, 1748110.0, 1844620.0, 1913000.0, 1954050.0, 1751560.0, 2018490.0, 2540130.0, 1450951.0, 2088894.0, 2080750.0, 1855381.0, 2144370.0, 2796880.0, 2710585.0, 2968991.0, 2715818.0, 2922346.0, 4652380.0, 4262355.0, 2901811.0, 4898199.0, 4242295.0, 4760801.0, 5553652.0, 5911104.0, 4402790.0, 5248259.0, 4850865.0, 4236560.0, 4205179.0, 5191520.0, 2454840.0, 3707690.0, 3001545.0, 1269990.0]}],                        {\"barmode\": \"stack\", \"template\": {\"data\": {\"bar\": [{\"error_x\": {\"color\": \"#2a3f5f\"}, \"error_y\": {\"color\": \"#2a3f5f\"}, \"marker\": {\"line\": {\"color\": \"#E5ECF6\", \"width\": 0.5}}, \"type\": \"bar\"}], \"barpolar\": [{\"marker\": {\"line\": {\"color\": \"#E5ECF6\", \"width\": 0.5}}, \"type\": \"barpolar\"}], \"carpet\": [{\"aaxis\": {\"endlinecolor\": \"#2a3f5f\", \"gridcolor\": \"white\", \"linecolor\": \"white\", \"minorgridcolor\": \"white\", \"startlinecolor\": \"#2a3f5f\"}, \"baxis\": {\"endlinecolor\": \"#2a3f5f\", \"gridcolor\": \"white\", \"linecolor\": \"white\", \"minorgridcolor\": \"white\", \"startlinecolor\": \"#2a3f5f\"}, \"type\": \"carpet\"}], \"choropleth\": [{\"colorbar\": {\"outlinewidth\": 0, \"ticks\": \"\"}, \"type\": \"choropleth\"}], \"contour\": [{\"colorbar\": {\"outlinewidth\": 0, \"ticks\": \"\"}, \"colorscale\": [[0.0, \"#0d0887\"], [0.1111111111111111, \"#46039f\"], [0.2222222222222222, \"#7201a8\"], [0.3333333333333333, \"#9c179e\"], [0.4444444444444444, \"#bd3786\"], [0.5555555555555556, \"#d8576b\"], [0.6666666666666666, \"#ed7953\"], [0.7777777777777778, \"#fb9f3a\"], [0.8888888888888888, \"#fdca26\"], [1.0, \"#f0f921\"]], \"type\": \"contour\"}], \"contourcarpet\": [{\"colorbar\": {\"outlinewidth\": 0, \"ticks\": \"\"}, \"type\": \"contourcarpet\"}], \"heatmap\": [{\"colorbar\": {\"outlinewidth\": 0, \"ticks\": \"\"}, \"colorscale\": [[0.0, \"#0d0887\"], [0.1111111111111111, \"#46039f\"], [0.2222222222222222, \"#7201a8\"], [0.3333333333333333, \"#9c179e\"], [0.4444444444444444, \"#bd3786\"], [0.5555555555555556, \"#d8576b\"], [0.6666666666666666, \"#ed7953\"], [0.7777777777777778, \"#fb9f3a\"], [0.8888888888888888, \"#fdca26\"], [1.0, \"#f0f921\"]], \"type\": \"heatmap\"}], \"heatmapgl\": [{\"colorbar\": {\"outlinewidth\": 0, \"ticks\": \"\"}, \"colorscale\": [[0.0, \"#0d0887\"], [0.1111111111111111, \"#46039f\"], [0.2222222222222222, \"#7201a8\"], [0.3333333333333333, \"#9c179e\"], [0.4444444444444444, \"#bd3786\"], [0.5555555555555556, \"#d8576b\"], [0.6666666666666666, \"#ed7953\"], [0.7777777777777778, \"#fb9f3a\"], [0.8888888888888888, \"#fdca26\"], [1.0, \"#f0f921\"]], \"type\": \"heatmapgl\"}], \"histogram\": [{\"marker\": {\"colorbar\": {\"outlinewidth\": 0, \"ticks\": \"\"}}, \"type\": \"histogram\"}], \"histogram2d\": [{\"colorbar\": {\"outlinewidth\": 0, \"ticks\": \"\"}, \"colorscale\": [[0.0, \"#0d0887\"], [0.1111111111111111, \"#46039f\"], [0.2222222222222222, \"#7201a8\"], [0.3333333333333333, \"#9c179e\"], [0.4444444444444444, \"#bd3786\"], [0.5555555555555556, \"#d8576b\"], [0.6666666666666666, \"#ed7953\"], [0.7777777777777778, \"#fb9f3a\"], [0.8888888888888888, \"#fdca26\"], [1.0, \"#f0f921\"]], \"type\": \"histogram2d\"}], \"histogram2dcontour\": [{\"colorbar\": {\"outlinewidth\": 0, \"ticks\": \"\"}, \"colorscale\": [[0.0, \"#0d0887\"], [0.1111111111111111, \"#46039f\"], [0.2222222222222222, \"#7201a8\"], [0.3333333333333333, \"#9c179e\"], [0.4444444444444444, \"#bd3786\"], [0.5555555555555556, \"#d8576b\"], [0.6666666666666666, \"#ed7953\"], [0.7777777777777778, \"#fb9f3a\"], [0.8888888888888888, \"#fdca26\"], [1.0, \"#f0f921\"]], \"type\": \"histogram2dcontour\"}], \"mesh3d\": [{\"colorbar\": {\"outlinewidth\": 0, \"ticks\": \"\"}, \"type\": \"mesh3d\"}], \"parcoords\": [{\"line\": {\"colorbar\": {\"outlinewidth\": 0, \"ticks\": \"\"}}, \"type\": \"parcoords\"}], \"pie\": [{\"automargin\": true, \"type\": \"pie\"}], \"scatter\": [{\"marker\": {\"colorbar\": {\"outlinewidth\": 0, \"ticks\": \"\"}}, \"type\": \"scatter\"}], \"scatter3d\": [{\"line\": {\"colorbar\": {\"outlinewidth\": 0, \"ticks\": \"\"}}, \"marker\": {\"colorbar\": {\"outlinewidth\": 0, \"ticks\": \"\"}}, \"type\": \"scatter3d\"}], \"scattercarpet\": [{\"marker\": {\"colorbar\": {\"outlinewidth\": 0, \"ticks\": \"\"}}, \"type\": \"scattercarpet\"}], \"scattergeo\": [{\"marker\": {\"colorbar\": {\"outlinewidth\": 0, \"ticks\": \"\"}}, \"type\": \"scattergeo\"}], \"scattergl\": [{\"marker\": {\"colorbar\": {\"outlinewidth\": 0, \"ticks\": \"\"}}, \"type\": \"scattergl\"}], \"scattermapbox\": [{\"marker\": {\"colorbar\": {\"outlinewidth\": 0, \"ticks\": \"\"}}, \"type\": \"scattermapbox\"}], \"scatterpolar\": [{\"marker\": {\"colorbar\": {\"outlinewidth\": 0, \"ticks\": \"\"}}, \"type\": \"scatterpolar\"}], \"scatterpolargl\": [{\"marker\": {\"colorbar\": {\"outlinewidth\": 0, \"ticks\": \"\"}}, \"type\": \"scatterpolargl\"}], \"scatterternary\": [{\"marker\": {\"colorbar\": {\"outlinewidth\": 0, \"ticks\": \"\"}}, \"type\": \"scatterternary\"}], \"surface\": [{\"colorbar\": {\"outlinewidth\": 0, \"ticks\": \"\"}, \"colorscale\": [[0.0, \"#0d0887\"], [0.1111111111111111, \"#46039f\"], [0.2222222222222222, \"#7201a8\"], [0.3333333333333333, \"#9c179e\"], [0.4444444444444444, \"#bd3786\"], [0.5555555555555556, \"#d8576b\"], [0.6666666666666666, \"#ed7953\"], [0.7777777777777778, \"#fb9f3a\"], [0.8888888888888888, \"#fdca26\"], [1.0, \"#f0f921\"]], \"type\": \"surface\"}], \"table\": [{\"cells\": {\"fill\": {\"color\": \"#EBF0F8\"}, \"line\": {\"color\": \"white\"}}, \"header\": {\"fill\": {\"color\": \"#C8D4E3\"}, \"line\": {\"color\": \"white\"}}, \"type\": \"table\"}]}, \"layout\": {\"annotationdefaults\": {\"arrowcolor\": \"#2a3f5f\", \"arrowhead\": 0, \"arrowwidth\": 1}, \"autotypenumbers\": \"strict\", \"coloraxis\": {\"colorbar\": {\"outlinewidth\": 0, \"ticks\": \"\"}}, \"colorscale\": {\"diverging\": [[0, \"#8e0152\"], [0.1, \"#c51b7d\"], [0.2, \"#de77ae\"], [0.3, \"#f1b6da\"], [0.4, \"#fde0ef\"], [0.5, \"#f7f7f7\"], [0.6, \"#e6f5d0\"], [0.7, \"#b8e186\"], [0.8, \"#7fbc41\"], [0.9, \"#4d9221\"], [1, \"#276419\"]], \"sequential\": [[0.0, \"#0d0887\"], [0.1111111111111111, \"#46039f\"], [0.2222222222222222, \"#7201a8\"], [0.3333333333333333, \"#9c179e\"], [0.4444444444444444, \"#bd3786\"], [0.5555555555555556, \"#d8576b\"], [0.6666666666666666, \"#ed7953\"], [0.7777777777777778, \"#fb9f3a\"], [0.8888888888888888, \"#fdca26\"], [1.0, \"#f0f921\"]], \"sequentialminus\": [[0.0, \"#0d0887\"], [0.1111111111111111, \"#46039f\"], [0.2222222222222222, \"#7201a8\"], [0.3333333333333333, \"#9c179e\"], [0.4444444444444444, \"#bd3786\"], [0.5555555555555556, \"#d8576b\"], [0.6666666666666666, \"#ed7953\"], [0.7777777777777778, \"#fb9f3a\"], [0.8888888888888888, \"#fdca26\"], [1.0, \"#f0f921\"]]}, \"colorway\": [\"#636efa\", \"#EF553B\", \"#00cc96\", \"#ab63fa\", \"#FFA15A\", \"#19d3f3\", \"#FF6692\", \"#B6E880\", \"#FF97FF\", \"#FECB52\"], \"font\": {\"color\": \"#2a3f5f\"}, \"geo\": {\"bgcolor\": \"white\", \"lakecolor\": \"white\", \"landcolor\": \"#E5ECF6\", \"showlakes\": true, \"showland\": true, \"subunitcolor\": \"white\"}, \"hoverlabel\": {\"align\": \"left\"}, \"hovermode\": \"closest\", \"mapbox\": {\"style\": \"light\"}, \"paper_bgcolor\": \"white\", \"plot_bgcolor\": \"#E5ECF6\", \"polar\": {\"angularaxis\": {\"gridcolor\": \"white\", \"linecolor\": \"white\", \"ticks\": \"\"}, \"bgcolor\": \"#E5ECF6\", \"radialaxis\": {\"gridcolor\": \"white\", \"linecolor\": \"white\", \"ticks\": \"\"}}, \"scene\": {\"xaxis\": {\"backgroundcolor\": \"#E5ECF6\", \"gridcolor\": \"white\", \"gridwidth\": 2, \"linecolor\": \"white\", \"showbackground\": true, \"ticks\": \"\", \"zerolinecolor\": \"white\"}, \"yaxis\": {\"backgroundcolor\": \"#E5ECF6\", \"gridcolor\": \"white\", \"gridwidth\": 2, \"linecolor\": \"white\", \"showbackground\": true, \"ticks\": \"\", \"zerolinecolor\": \"white\"}, \"zaxis\": {\"backgroundcolor\": \"#E5ECF6\", \"gridcolor\": \"white\", \"gridwidth\": 2, \"linecolor\": \"white\", \"showbackground\": true, \"ticks\": \"\", \"zerolinecolor\": \"white\"}}, \"shapedefaults\": {\"line\": {\"color\": \"#2a3f5f\"}}, \"ternary\": {\"aaxis\": {\"gridcolor\": \"white\", \"linecolor\": \"white\", \"ticks\": \"\"}, \"baxis\": {\"gridcolor\": \"white\", \"linecolor\": \"white\", \"ticks\": \"\"}, \"bgcolor\": \"#E5ECF6\", \"caxis\": {\"gridcolor\": \"white\", \"linecolor\": \"white\", \"ticks\": \"\"}}, \"title\": {\"x\": 0.05}, \"xaxis\": {\"automargin\": true, \"gridcolor\": \"white\", \"linecolor\": \"white\", \"ticks\": \"\", \"title\": {\"standoff\": 15}, \"zerolinecolor\": \"white\", \"zerolinewidth\": 2}, \"yaxis\": {\"automargin\": true, \"gridcolor\": \"white\", \"linecolor\": \"white\", \"ticks\": \"\", \"title\": {\"standoff\": 15}, \"zerolinecolor\": \"white\", \"zerolinewidth\": 2}}}, \"title\": {\"text\": \"Bar chart of loan performance over time (not include active loans)\", \"x\": 0.5}, \"yaxis\": {\"title\": {\"text\": \"Loans amount\"}}},                        {\"responsive\": true}                    ).then(function(){\n",
       "                            \n",
       "var gd = document.getElementById('4f161980-a2fa-4cf9-853d-476222d05d1b');\n",
       "var x = new MutationObserver(function (mutations, observer) {{\n",
       "        var display = window.getComputedStyle(gd).display;\n",
       "        if (!display || display === 'none') {{\n",
       "            console.log([gd, 'removed!']);\n",
       "            Plotly.purge(gd);\n",
       "            observer.disconnect();\n",
       "        }}\n",
       "}});\n",
       "\n",
       "// Listen for the removal of the full notebook cells\n",
       "var notebookContainer = gd.closest('#notebook-container');\n",
       "if (notebookContainer) {{\n",
       "    x.observe(notebookContainer, {childList: true});\n",
       "}}\n",
       "\n",
       "// Listen for the clearing of the current output cell\n",
       "var outputEl = gd.closest('.output');\n",
       "if (outputEl) {{\n",
       "    x.observe(outputEl, {childList: true});\n",
       "}}\n",
       "\n",
       "                        })                };                });            </script>        </div>"
      ]
     },
     "metadata": {},
     "output_type": "display_data"
    }
   ],
   "source": [
    "#display bar chart without active loans\n",
    "\n",
    "bar_plots = [\n",
    "    go.Bar(x=loan_pivot_by_date_status_new['Disbursal Year and Month'], y=loan_pivot_by_date_status_new['Completed Loans Amount'], name='Completed'),\n",
    "    go.Bar(x=loan_pivot_by_date_status_new['Disbursal Year and Month'], y=loan_pivot_by_date_status_new['Default Loans Amount'], name='Default'),\n",
    "    go.Bar(x=loan_pivot_by_date_status_new['Disbursal Year and Month'], y=loan_pivot_by_date_status_new['Late Loans Amount'], name='Late')\n",
    "]\n",
    "layout = go.Layout(\n",
    "    title = go.layout.Title(text='Bar chart of loan performance over time (not include active loans)', x=0.5),\n",
    "    yaxis_title = 'Loans amount'\n",
    ")\n",
    "fig = go.Figure(data=bar_plots, layout=layout)\n",
    "fig.update_layout(barmode='stack')\n",
    "fig.show()"
   ]
  },
  {
   "cell_type": "code",
   "execution_count": 263,
   "metadata": {},
   "outputs": [
    {
     "data": {
      "text/html": [
       "<div>\n",
       "<style scoped>\n",
       "    .dataframe tbody tr th:only-of-type {\n",
       "        vertical-align: middle;\n",
       "    }\n",
       "\n",
       "    .dataframe tbody tr th {\n",
       "        vertical-align: top;\n",
       "    }\n",
       "\n",
       "    .dataframe thead th {\n",
       "        text-align: right;\n",
       "    }\n",
       "</style>\n",
       "<table border=\"1\" class=\"dataframe\">\n",
       "  <thead>\n",
       "    <tr style=\"text-align: right;\">\n",
       "      <th></th>\n",
       "      <th>Disbursal Year</th>\n",
       "      <th>Loans Amount</th>\n",
       "      <th>Number of Loans</th>\n",
       "    </tr>\n",
       "  </thead>\n",
       "  <tbody>\n",
       "    <tr>\n",
       "      <th>0</th>\n",
       "      <td>2007</td>\n",
       "      <td>8993200</td>\n",
       "      <td>2302</td>\n",
       "    </tr>\n",
       "    <tr>\n",
       "      <th>1</th>\n",
       "      <td>2008</td>\n",
       "      <td>12652300</td>\n",
       "      <td>2605</td>\n",
       "    </tr>\n",
       "    <tr>\n",
       "      <th>2</th>\n",
       "      <td>2009</td>\n",
       "      <td>33050360</td>\n",
       "      <td>5894</td>\n",
       "    </tr>\n",
       "    <tr>\n",
       "      <th>3</th>\n",
       "      <td>2010</td>\n",
       "      <td>49309250</td>\n",
       "      <td>9884</td>\n",
       "    </tr>\n",
       "    <tr>\n",
       "      <th>4</th>\n",
       "      <td>2011</td>\n",
       "      <td>57621670</td>\n",
       "      <td>11881</td>\n",
       "    </tr>\n",
       "    <tr>\n",
       "      <th>5</th>\n",
       "      <td>2012</td>\n",
       "      <td>87040390</td>\n",
       "      <td>17446</td>\n",
       "    </tr>\n",
       "    <tr>\n",
       "      <th>6</th>\n",
       "      <td>2013</td>\n",
       "      <td>117971900</td>\n",
       "      <td>23904</td>\n",
       "    </tr>\n",
       "    <tr>\n",
       "      <th>7</th>\n",
       "      <td>2014</td>\n",
       "      <td>144111110</td>\n",
       "      <td>22144</td>\n",
       "    </tr>\n",
       "    <tr>\n",
       "      <th>8</th>\n",
       "      <td>2015</td>\n",
       "      <td>317212960</td>\n",
       "      <td>47169</td>\n",
       "    </tr>\n",
       "    <tr>\n",
       "      <th>9</th>\n",
       "      <td>2016</td>\n",
       "      <td>376270002</td>\n",
       "      <td>59736</td>\n",
       "    </tr>\n",
       "    <tr>\n",
       "      <th>10</th>\n",
       "      <td>2017</td>\n",
       "      <td>475971641</td>\n",
       "      <td>78833</td>\n",
       "    </tr>\n",
       "    <tr>\n",
       "      <th>11</th>\n",
       "      <td>2018</td>\n",
       "      <td>455605947</td>\n",
       "      <td>68328</td>\n",
       "    </tr>\n",
       "    <tr>\n",
       "      <th>12</th>\n",
       "      <td>2019</td>\n",
       "      <td>567322079</td>\n",
       "      <td>82991</td>\n",
       "    </tr>\n",
       "    <tr>\n",
       "      <th>13</th>\n",
       "      <td>2020</td>\n",
       "      <td>139630561</td>\n",
       "      <td>19166</td>\n",
       "    </tr>\n",
       "  </tbody>\n",
       "</table>\n",
       "</div>"
      ],
      "text/plain": [
       "   Disbursal Year  Loans Amount  Number of Loans\n",
       "0            2007       8993200             2302\n",
       "1            2008      12652300             2605\n",
       "2            2009      33050360             5894\n",
       "3            2010      49309250             9884\n",
       "4            2011      57621670            11881\n",
       "5            2012      87040390            17446\n",
       "6            2013     117971900            23904\n",
       "7            2014     144111110            22144\n",
       "8            2015     317212960            47169\n",
       "9            2016     376270002            59736\n",
       "10           2017     475971641            78833\n",
       "11           2018     455605947            68328\n",
       "12           2019     567322079            82991\n",
       "13           2020     139630561            19166"
      ]
     },
     "metadata": {},
     "output_type": "display_data"
    },
    {
     "data": {
      "application/vnd.plotly.v1+json": {
       "config": {
        "plotlyServerURL": "https://plot.ly"
       },
       "data": [
        {
         "alignmentgroup": "True",
         "hovertemplate": "Disbursal Year=%{x}<br>Loans Amount=%{y}<br>Number of Loans=%{marker.color}<extra></extra>",
         "legendgroup": "",
         "marker": {
          "color": [
           2302,
           2605,
           5894,
           9884,
           11881,
           17446,
           23904,
           22144,
           47169,
           59736,
           78833,
           68328,
           82991,
           19166
          ],
          "coloraxis": "coloraxis"
         },
         "name": "",
         "offsetgroup": "",
         "orientation": "v",
         "showlegend": false,
         "textposition": "auto",
         "type": "bar",
         "x": [
          "2007",
          "2008",
          "2009",
          "2010",
          "2011",
          "2012",
          "2013",
          "2014",
          "2015",
          "2016",
          "2017",
          "2018",
          "2019",
          "2020"
         ],
         "xaxis": "x",
         "y": [
          8993200,
          12652300,
          33050360,
          49309250,
          57621670,
          87040390,
          117971900,
          144111110,
          317212960,
          376270002,
          475971641,
          455605947,
          567322079,
          139630561
         ],
         "yaxis": "y"
        }
       ],
       "layout": {
        "barmode": "relative",
        "coloraxis": {
         "colorbar": {
          "title": {
           "text": "Number of Loans"
          }
         },
         "colorscale": [
          [
           0,
           "#0d0887"
          ],
          [
           0.1111111111111111,
           "#46039f"
          ],
          [
           0.2222222222222222,
           "#7201a8"
          ],
          [
           0.3333333333333333,
           "#9c179e"
          ],
          [
           0.4444444444444444,
           "#bd3786"
          ],
          [
           0.5555555555555556,
           "#d8576b"
          ],
          [
           0.6666666666666666,
           "#ed7953"
          ],
          [
           0.7777777777777778,
           "#fb9f3a"
          ],
          [
           0.8888888888888888,
           "#fdca26"
          ],
          [
           1,
           "#f0f921"
          ]
         ]
        },
        "height": 500,
        "legend": {
         "tracegroupgap": 0
        },
        "margin": {
         "t": 60
        },
        "template": {
         "data": {
          "bar": [
           {
            "error_x": {
             "color": "#2a3f5f"
            },
            "error_y": {
             "color": "#2a3f5f"
            },
            "marker": {
             "line": {
              "color": "#E5ECF6",
              "width": 0.5
             }
            },
            "type": "bar"
           }
          ],
          "barpolar": [
           {
            "marker": {
             "line": {
              "color": "#E5ECF6",
              "width": 0.5
             }
            },
            "type": "barpolar"
           }
          ],
          "carpet": [
           {
            "aaxis": {
             "endlinecolor": "#2a3f5f",
             "gridcolor": "white",
             "linecolor": "white",
             "minorgridcolor": "white",
             "startlinecolor": "#2a3f5f"
            },
            "baxis": {
             "endlinecolor": "#2a3f5f",
             "gridcolor": "white",
             "linecolor": "white",
             "minorgridcolor": "white",
             "startlinecolor": "#2a3f5f"
            },
            "type": "carpet"
           }
          ],
          "choropleth": [
           {
            "colorbar": {
             "outlinewidth": 0,
             "ticks": ""
            },
            "type": "choropleth"
           }
          ],
          "contour": [
           {
            "colorbar": {
             "outlinewidth": 0,
             "ticks": ""
            },
            "colorscale": [
             [
              0,
              "#0d0887"
             ],
             [
              0.1111111111111111,
              "#46039f"
             ],
             [
              0.2222222222222222,
              "#7201a8"
             ],
             [
              0.3333333333333333,
              "#9c179e"
             ],
             [
              0.4444444444444444,
              "#bd3786"
             ],
             [
              0.5555555555555556,
              "#d8576b"
             ],
             [
              0.6666666666666666,
              "#ed7953"
             ],
             [
              0.7777777777777778,
              "#fb9f3a"
             ],
             [
              0.8888888888888888,
              "#fdca26"
             ],
             [
              1,
              "#f0f921"
             ]
            ],
            "type": "contour"
           }
          ],
          "contourcarpet": [
           {
            "colorbar": {
             "outlinewidth": 0,
             "ticks": ""
            },
            "type": "contourcarpet"
           }
          ],
          "heatmap": [
           {
            "colorbar": {
             "outlinewidth": 0,
             "ticks": ""
            },
            "colorscale": [
             [
              0,
              "#0d0887"
             ],
             [
              0.1111111111111111,
              "#46039f"
             ],
             [
              0.2222222222222222,
              "#7201a8"
             ],
             [
              0.3333333333333333,
              "#9c179e"
             ],
             [
              0.4444444444444444,
              "#bd3786"
             ],
             [
              0.5555555555555556,
              "#d8576b"
             ],
             [
              0.6666666666666666,
              "#ed7953"
             ],
             [
              0.7777777777777778,
              "#fb9f3a"
             ],
             [
              0.8888888888888888,
              "#fdca26"
             ],
             [
              1,
              "#f0f921"
             ]
            ],
            "type": "heatmap"
           }
          ],
          "heatmapgl": [
           {
            "colorbar": {
             "outlinewidth": 0,
             "ticks": ""
            },
            "colorscale": [
             [
              0,
              "#0d0887"
             ],
             [
              0.1111111111111111,
              "#46039f"
             ],
             [
              0.2222222222222222,
              "#7201a8"
             ],
             [
              0.3333333333333333,
              "#9c179e"
             ],
             [
              0.4444444444444444,
              "#bd3786"
             ],
             [
              0.5555555555555556,
              "#d8576b"
             ],
             [
              0.6666666666666666,
              "#ed7953"
             ],
             [
              0.7777777777777778,
              "#fb9f3a"
             ],
             [
              0.8888888888888888,
              "#fdca26"
             ],
             [
              1,
              "#f0f921"
             ]
            ],
            "type": "heatmapgl"
           }
          ],
          "histogram": [
           {
            "marker": {
             "colorbar": {
              "outlinewidth": 0,
              "ticks": ""
             }
            },
            "type": "histogram"
           }
          ],
          "histogram2d": [
           {
            "colorbar": {
             "outlinewidth": 0,
             "ticks": ""
            },
            "colorscale": [
             [
              0,
              "#0d0887"
             ],
             [
              0.1111111111111111,
              "#46039f"
             ],
             [
              0.2222222222222222,
              "#7201a8"
             ],
             [
              0.3333333333333333,
              "#9c179e"
             ],
             [
              0.4444444444444444,
              "#bd3786"
             ],
             [
              0.5555555555555556,
              "#d8576b"
             ],
             [
              0.6666666666666666,
              "#ed7953"
             ],
             [
              0.7777777777777778,
              "#fb9f3a"
             ],
             [
              0.8888888888888888,
              "#fdca26"
             ],
             [
              1,
              "#f0f921"
             ]
            ],
            "type": "histogram2d"
           }
          ],
          "histogram2dcontour": [
           {
            "colorbar": {
             "outlinewidth": 0,
             "ticks": ""
            },
            "colorscale": [
             [
              0,
              "#0d0887"
             ],
             [
              0.1111111111111111,
              "#46039f"
             ],
             [
              0.2222222222222222,
              "#7201a8"
             ],
             [
              0.3333333333333333,
              "#9c179e"
             ],
             [
              0.4444444444444444,
              "#bd3786"
             ],
             [
              0.5555555555555556,
              "#d8576b"
             ],
             [
              0.6666666666666666,
              "#ed7953"
             ],
             [
              0.7777777777777778,
              "#fb9f3a"
             ],
             [
              0.8888888888888888,
              "#fdca26"
             ],
             [
              1,
              "#f0f921"
             ]
            ],
            "type": "histogram2dcontour"
           }
          ],
          "mesh3d": [
           {
            "colorbar": {
             "outlinewidth": 0,
             "ticks": ""
            },
            "type": "mesh3d"
           }
          ],
          "parcoords": [
           {
            "line": {
             "colorbar": {
              "outlinewidth": 0,
              "ticks": ""
             }
            },
            "type": "parcoords"
           }
          ],
          "pie": [
           {
            "automargin": true,
            "type": "pie"
           }
          ],
          "scatter": [
           {
            "marker": {
             "colorbar": {
              "outlinewidth": 0,
              "ticks": ""
             }
            },
            "type": "scatter"
           }
          ],
          "scatter3d": [
           {
            "line": {
             "colorbar": {
              "outlinewidth": 0,
              "ticks": ""
             }
            },
            "marker": {
             "colorbar": {
              "outlinewidth": 0,
              "ticks": ""
             }
            },
            "type": "scatter3d"
           }
          ],
          "scattercarpet": [
           {
            "marker": {
             "colorbar": {
              "outlinewidth": 0,
              "ticks": ""
             }
            },
            "type": "scattercarpet"
           }
          ],
          "scattergeo": [
           {
            "marker": {
             "colorbar": {
              "outlinewidth": 0,
              "ticks": ""
             }
            },
            "type": "scattergeo"
           }
          ],
          "scattergl": [
           {
            "marker": {
             "colorbar": {
              "outlinewidth": 0,
              "ticks": ""
             }
            },
            "type": "scattergl"
           }
          ],
          "scattermapbox": [
           {
            "marker": {
             "colorbar": {
              "outlinewidth": 0,
              "ticks": ""
             }
            },
            "type": "scattermapbox"
           }
          ],
          "scatterpolar": [
           {
            "marker": {
             "colorbar": {
              "outlinewidth": 0,
              "ticks": ""
             }
            },
            "type": "scatterpolar"
           }
          ],
          "scatterpolargl": [
           {
            "marker": {
             "colorbar": {
              "outlinewidth": 0,
              "ticks": ""
             }
            },
            "type": "scatterpolargl"
           }
          ],
          "scatterternary": [
           {
            "marker": {
             "colorbar": {
              "outlinewidth": 0,
              "ticks": ""
             }
            },
            "type": "scatterternary"
           }
          ],
          "surface": [
           {
            "colorbar": {
             "outlinewidth": 0,
             "ticks": ""
            },
            "colorscale": [
             [
              0,
              "#0d0887"
             ],
             [
              0.1111111111111111,
              "#46039f"
             ],
             [
              0.2222222222222222,
              "#7201a8"
             ],
             [
              0.3333333333333333,
              "#9c179e"
             ],
             [
              0.4444444444444444,
              "#bd3786"
             ],
             [
              0.5555555555555556,
              "#d8576b"
             ],
             [
              0.6666666666666666,
              "#ed7953"
             ],
             [
              0.7777777777777778,
              "#fb9f3a"
             ],
             [
              0.8888888888888888,
              "#fdca26"
             ],
             [
              1,
              "#f0f921"
             ]
            ],
            "type": "surface"
           }
          ],
          "table": [
           {
            "cells": {
             "fill": {
              "color": "#EBF0F8"
             },
             "line": {
              "color": "white"
             }
            },
            "header": {
             "fill": {
              "color": "#C8D4E3"
             },
             "line": {
              "color": "white"
             }
            },
            "type": "table"
           }
          ]
         },
         "layout": {
          "annotationdefaults": {
           "arrowcolor": "#2a3f5f",
           "arrowhead": 0,
           "arrowwidth": 1
          },
          "autotypenumbers": "strict",
          "coloraxis": {
           "colorbar": {
            "outlinewidth": 0,
            "ticks": ""
           }
          },
          "colorscale": {
           "diverging": [
            [
             0,
             "#8e0152"
            ],
            [
             0.1,
             "#c51b7d"
            ],
            [
             0.2,
             "#de77ae"
            ],
            [
             0.3,
             "#f1b6da"
            ],
            [
             0.4,
             "#fde0ef"
            ],
            [
             0.5,
             "#f7f7f7"
            ],
            [
             0.6,
             "#e6f5d0"
            ],
            [
             0.7,
             "#b8e186"
            ],
            [
             0.8,
             "#7fbc41"
            ],
            [
             0.9,
             "#4d9221"
            ],
            [
             1,
             "#276419"
            ]
           ],
           "sequential": [
            [
             0,
             "#0d0887"
            ],
            [
             0.1111111111111111,
             "#46039f"
            ],
            [
             0.2222222222222222,
             "#7201a8"
            ],
            [
             0.3333333333333333,
             "#9c179e"
            ],
            [
             0.4444444444444444,
             "#bd3786"
            ],
            [
             0.5555555555555556,
             "#d8576b"
            ],
            [
             0.6666666666666666,
             "#ed7953"
            ],
            [
             0.7777777777777778,
             "#fb9f3a"
            ],
            [
             0.8888888888888888,
             "#fdca26"
            ],
            [
             1,
             "#f0f921"
            ]
           ],
           "sequentialminus": [
            [
             0,
             "#0d0887"
            ],
            [
             0.1111111111111111,
             "#46039f"
            ],
            [
             0.2222222222222222,
             "#7201a8"
            ],
            [
             0.3333333333333333,
             "#9c179e"
            ],
            [
             0.4444444444444444,
             "#bd3786"
            ],
            [
             0.5555555555555556,
             "#d8576b"
            ],
            [
             0.6666666666666666,
             "#ed7953"
            ],
            [
             0.7777777777777778,
             "#fb9f3a"
            ],
            [
             0.8888888888888888,
             "#fdca26"
            ],
            [
             1,
             "#f0f921"
            ]
           ]
          },
          "colorway": [
           "#636efa",
           "#EF553B",
           "#00cc96",
           "#ab63fa",
           "#FFA15A",
           "#19d3f3",
           "#FF6692",
           "#B6E880",
           "#FF97FF",
           "#FECB52"
          ],
          "font": {
           "color": "#2a3f5f"
          },
          "geo": {
           "bgcolor": "white",
           "lakecolor": "white",
           "landcolor": "#E5ECF6",
           "showlakes": true,
           "showland": true,
           "subunitcolor": "white"
          },
          "hoverlabel": {
           "align": "left"
          },
          "hovermode": "closest",
          "mapbox": {
           "style": "light"
          },
          "paper_bgcolor": "white",
          "plot_bgcolor": "#E5ECF6",
          "polar": {
           "angularaxis": {
            "gridcolor": "white",
            "linecolor": "white",
            "ticks": ""
           },
           "bgcolor": "#E5ECF6",
           "radialaxis": {
            "gridcolor": "white",
            "linecolor": "white",
            "ticks": ""
           }
          },
          "scene": {
           "xaxis": {
            "backgroundcolor": "#E5ECF6",
            "gridcolor": "white",
            "gridwidth": 2,
            "linecolor": "white",
            "showbackground": true,
            "ticks": "",
            "zerolinecolor": "white"
           },
           "yaxis": {
            "backgroundcolor": "#E5ECF6",
            "gridcolor": "white",
            "gridwidth": 2,
            "linecolor": "white",
            "showbackground": true,
            "ticks": "",
            "zerolinecolor": "white"
           },
           "zaxis": {
            "backgroundcolor": "#E5ECF6",
            "gridcolor": "white",
            "gridwidth": 2,
            "linecolor": "white",
            "showbackground": true,
            "ticks": "",
            "zerolinecolor": "white"
           }
          },
          "shapedefaults": {
           "line": {
            "color": "#2a3f5f"
           }
          },
          "ternary": {
           "aaxis": {
            "gridcolor": "white",
            "linecolor": "white",
            "ticks": ""
           },
           "baxis": {
            "gridcolor": "white",
            "linecolor": "white",
            "ticks": ""
           },
           "bgcolor": "#E5ECF6",
           "caxis": {
            "gridcolor": "white",
            "linecolor": "white",
            "ticks": ""
           }
          },
          "title": {
           "x": 0.05
          },
          "xaxis": {
           "automargin": true,
           "gridcolor": "white",
           "linecolor": "white",
           "ticks": "",
           "title": {
            "standoff": 15
           },
           "zerolinecolor": "white",
           "zerolinewidth": 2
          },
          "yaxis": {
           "automargin": true,
           "gridcolor": "white",
           "linecolor": "white",
           "ticks": "",
           "title": {
            "standoff": 15
           },
           "zerolinecolor": "white",
           "zerolinewidth": 2
          }
         }
        },
        "title": {
         "text": "Total amount of loans for each year",
         "x": 0.5
        },
        "xaxis": {
         "anchor": "y",
         "domain": [
          0,
          1
         ],
         "title": {
          "text": "Disbursal Year"
         }
        },
        "yaxis": {
         "anchor": "x",
         "domain": [
          0,
          1
         ],
         "title": {
          "text": "Loans Amount"
         }
        }
       }
      },
      "text/html": [
       "<div>                            <div id=\"04fe8748-909b-442f-a606-fbc0c71a2871\" class=\"plotly-graph-div\" style=\"height:500px; width:100%;\"></div>            <script type=\"text/javascript\">                require([\"plotly\"], function(Plotly) {                    window.PLOTLYENV=window.PLOTLYENV || {};                                    if (document.getElementById(\"04fe8748-909b-442f-a606-fbc0c71a2871\")) {                    Plotly.newPlot(                        \"04fe8748-909b-442f-a606-fbc0c71a2871\",                        [{\"alignmentgroup\": \"True\", \"hovertemplate\": \"Disbursal Year=%{x}<br>Loans Amount=%{y}<br>Number of Loans=%{marker.color}<extra></extra>\", \"legendgroup\": \"\", \"marker\": {\"color\": [2302, 2605, 5894, 9884, 11881, 17446, 23904, 22144, 47169, 59736, 78833, 68328, 82991, 19166], \"coloraxis\": \"coloraxis\"}, \"name\": \"\", \"offsetgroup\": \"\", \"orientation\": \"v\", \"showlegend\": false, \"textposition\": \"auto\", \"type\": \"bar\", \"x\": [\"2007\", \"2008\", \"2009\", \"2010\", \"2011\", \"2012\", \"2013\", \"2014\", \"2015\", \"2016\", \"2017\", \"2018\", \"2019\", \"2020\"], \"xaxis\": \"x\", \"y\": [8993200, 12652300, 33050360, 49309250, 57621670, 87040390, 117971900, 144111110, 317212960, 376270002, 475971641, 455605947, 567322079, 139630561], \"yaxis\": \"y\"}],                        {\"barmode\": \"relative\", \"coloraxis\": {\"colorbar\": {\"title\": {\"text\": \"Number of Loans\"}}, \"colorscale\": [[0.0, \"#0d0887\"], [0.1111111111111111, \"#46039f\"], [0.2222222222222222, \"#7201a8\"], [0.3333333333333333, \"#9c179e\"], [0.4444444444444444, \"#bd3786\"], [0.5555555555555556, \"#d8576b\"], [0.6666666666666666, \"#ed7953\"], [0.7777777777777778, \"#fb9f3a\"], [0.8888888888888888, \"#fdca26\"], [1.0, \"#f0f921\"]]}, \"height\": 500, \"legend\": {\"tracegroupgap\": 0}, \"margin\": {\"t\": 60}, \"template\": {\"data\": {\"bar\": [{\"error_x\": {\"color\": \"#2a3f5f\"}, \"error_y\": {\"color\": \"#2a3f5f\"}, \"marker\": {\"line\": {\"color\": \"#E5ECF6\", \"width\": 0.5}}, \"type\": \"bar\"}], \"barpolar\": [{\"marker\": {\"line\": {\"color\": \"#E5ECF6\", \"width\": 0.5}}, \"type\": \"barpolar\"}], \"carpet\": [{\"aaxis\": {\"endlinecolor\": \"#2a3f5f\", \"gridcolor\": \"white\", \"linecolor\": \"white\", \"minorgridcolor\": \"white\", \"startlinecolor\": \"#2a3f5f\"}, \"baxis\": {\"endlinecolor\": \"#2a3f5f\", \"gridcolor\": \"white\", \"linecolor\": \"white\", \"minorgridcolor\": \"white\", \"startlinecolor\": \"#2a3f5f\"}, \"type\": \"carpet\"}], \"choropleth\": [{\"colorbar\": {\"outlinewidth\": 0, \"ticks\": \"\"}, \"type\": \"choropleth\"}], \"contour\": [{\"colorbar\": {\"outlinewidth\": 0, \"ticks\": \"\"}, \"colorscale\": [[0.0, \"#0d0887\"], [0.1111111111111111, \"#46039f\"], [0.2222222222222222, \"#7201a8\"], [0.3333333333333333, \"#9c179e\"], [0.4444444444444444, \"#bd3786\"], [0.5555555555555556, \"#d8576b\"], [0.6666666666666666, \"#ed7953\"], [0.7777777777777778, \"#fb9f3a\"], [0.8888888888888888, \"#fdca26\"], [1.0, \"#f0f921\"]], \"type\": \"contour\"}], \"contourcarpet\": [{\"colorbar\": {\"outlinewidth\": 0, \"ticks\": \"\"}, \"type\": \"contourcarpet\"}], \"heatmap\": [{\"colorbar\": {\"outlinewidth\": 0, \"ticks\": \"\"}, \"colorscale\": [[0.0, \"#0d0887\"], [0.1111111111111111, \"#46039f\"], [0.2222222222222222, \"#7201a8\"], [0.3333333333333333, \"#9c179e\"], [0.4444444444444444, \"#bd3786\"], [0.5555555555555556, \"#d8576b\"], [0.6666666666666666, \"#ed7953\"], [0.7777777777777778, \"#fb9f3a\"], [0.8888888888888888, \"#fdca26\"], [1.0, \"#f0f921\"]], \"type\": \"heatmap\"}], \"heatmapgl\": [{\"colorbar\": {\"outlinewidth\": 0, \"ticks\": \"\"}, \"colorscale\": [[0.0, \"#0d0887\"], [0.1111111111111111, \"#46039f\"], [0.2222222222222222, \"#7201a8\"], [0.3333333333333333, \"#9c179e\"], [0.4444444444444444, \"#bd3786\"], [0.5555555555555556, \"#d8576b\"], [0.6666666666666666, \"#ed7953\"], [0.7777777777777778, \"#fb9f3a\"], [0.8888888888888888, \"#fdca26\"], [1.0, \"#f0f921\"]], \"type\": \"heatmapgl\"}], \"histogram\": [{\"marker\": {\"colorbar\": {\"outlinewidth\": 0, \"ticks\": \"\"}}, \"type\": \"histogram\"}], \"histogram2d\": [{\"colorbar\": {\"outlinewidth\": 0, \"ticks\": \"\"}, \"colorscale\": [[0.0, \"#0d0887\"], [0.1111111111111111, \"#46039f\"], [0.2222222222222222, \"#7201a8\"], [0.3333333333333333, \"#9c179e\"], [0.4444444444444444, \"#bd3786\"], [0.5555555555555556, \"#d8576b\"], [0.6666666666666666, \"#ed7953\"], [0.7777777777777778, \"#fb9f3a\"], [0.8888888888888888, \"#fdca26\"], [1.0, \"#f0f921\"]], \"type\": \"histogram2d\"}], \"histogram2dcontour\": [{\"colorbar\": {\"outlinewidth\": 0, \"ticks\": \"\"}, \"colorscale\": [[0.0, \"#0d0887\"], [0.1111111111111111, \"#46039f\"], [0.2222222222222222, \"#7201a8\"], [0.3333333333333333, \"#9c179e\"], [0.4444444444444444, \"#bd3786\"], [0.5555555555555556, \"#d8576b\"], [0.6666666666666666, \"#ed7953\"], [0.7777777777777778, \"#fb9f3a\"], [0.8888888888888888, \"#fdca26\"], [1.0, \"#f0f921\"]], \"type\": \"histogram2dcontour\"}], \"mesh3d\": [{\"colorbar\": {\"outlinewidth\": 0, \"ticks\": \"\"}, \"type\": \"mesh3d\"}], \"parcoords\": [{\"line\": {\"colorbar\": {\"outlinewidth\": 0, \"ticks\": \"\"}}, \"type\": \"parcoords\"}], \"pie\": [{\"automargin\": true, \"type\": \"pie\"}], \"scatter\": [{\"marker\": {\"colorbar\": {\"outlinewidth\": 0, \"ticks\": \"\"}}, \"type\": \"scatter\"}], \"scatter3d\": [{\"line\": {\"colorbar\": {\"outlinewidth\": 0, \"ticks\": \"\"}}, \"marker\": {\"colorbar\": {\"outlinewidth\": 0, \"ticks\": \"\"}}, \"type\": \"scatter3d\"}], \"scattercarpet\": [{\"marker\": {\"colorbar\": {\"outlinewidth\": 0, \"ticks\": \"\"}}, \"type\": \"scattercarpet\"}], \"scattergeo\": [{\"marker\": {\"colorbar\": {\"outlinewidth\": 0, \"ticks\": \"\"}}, \"type\": \"scattergeo\"}], \"scattergl\": [{\"marker\": {\"colorbar\": {\"outlinewidth\": 0, \"ticks\": \"\"}}, \"type\": \"scattergl\"}], \"scattermapbox\": [{\"marker\": {\"colorbar\": {\"outlinewidth\": 0, \"ticks\": \"\"}}, \"type\": \"scattermapbox\"}], \"scatterpolar\": [{\"marker\": {\"colorbar\": {\"outlinewidth\": 0, \"ticks\": \"\"}}, \"type\": \"scatterpolar\"}], \"scatterpolargl\": [{\"marker\": {\"colorbar\": {\"outlinewidth\": 0, \"ticks\": \"\"}}, \"type\": \"scatterpolargl\"}], \"scatterternary\": [{\"marker\": {\"colorbar\": {\"outlinewidth\": 0, \"ticks\": \"\"}}, \"type\": \"scatterternary\"}], \"surface\": [{\"colorbar\": {\"outlinewidth\": 0, \"ticks\": \"\"}, \"colorscale\": [[0.0, \"#0d0887\"], [0.1111111111111111, \"#46039f\"], [0.2222222222222222, \"#7201a8\"], [0.3333333333333333, \"#9c179e\"], [0.4444444444444444, \"#bd3786\"], [0.5555555555555556, \"#d8576b\"], [0.6666666666666666, \"#ed7953\"], [0.7777777777777778, \"#fb9f3a\"], [0.8888888888888888, \"#fdca26\"], [1.0, \"#f0f921\"]], \"type\": \"surface\"}], \"table\": [{\"cells\": {\"fill\": {\"color\": \"#EBF0F8\"}, \"line\": {\"color\": \"white\"}}, \"header\": {\"fill\": {\"color\": \"#C8D4E3\"}, \"line\": {\"color\": \"white\"}}, \"type\": \"table\"}]}, \"layout\": {\"annotationdefaults\": {\"arrowcolor\": \"#2a3f5f\", \"arrowhead\": 0, \"arrowwidth\": 1}, \"autotypenumbers\": \"strict\", \"coloraxis\": {\"colorbar\": {\"outlinewidth\": 0, \"ticks\": \"\"}}, \"colorscale\": {\"diverging\": [[0, \"#8e0152\"], [0.1, \"#c51b7d\"], [0.2, \"#de77ae\"], [0.3, \"#f1b6da\"], [0.4, \"#fde0ef\"], [0.5, \"#f7f7f7\"], [0.6, \"#e6f5d0\"], [0.7, \"#b8e186\"], [0.8, \"#7fbc41\"], [0.9, \"#4d9221\"], [1, \"#276419\"]], \"sequential\": [[0.0, \"#0d0887\"], [0.1111111111111111, \"#46039f\"], [0.2222222222222222, \"#7201a8\"], [0.3333333333333333, \"#9c179e\"], [0.4444444444444444, \"#bd3786\"], [0.5555555555555556, \"#d8576b\"], [0.6666666666666666, \"#ed7953\"], [0.7777777777777778, \"#fb9f3a\"], [0.8888888888888888, \"#fdca26\"], [1.0, \"#f0f921\"]], \"sequentialminus\": [[0.0, \"#0d0887\"], [0.1111111111111111, \"#46039f\"], [0.2222222222222222, \"#7201a8\"], [0.3333333333333333, \"#9c179e\"], [0.4444444444444444, \"#bd3786\"], [0.5555555555555556, \"#d8576b\"], [0.6666666666666666, \"#ed7953\"], [0.7777777777777778, \"#fb9f3a\"], [0.8888888888888888, \"#fdca26\"], [1.0, \"#f0f921\"]]}, \"colorway\": [\"#636efa\", \"#EF553B\", \"#00cc96\", \"#ab63fa\", \"#FFA15A\", \"#19d3f3\", \"#FF6692\", \"#B6E880\", \"#FF97FF\", \"#FECB52\"], \"font\": {\"color\": \"#2a3f5f\"}, \"geo\": {\"bgcolor\": \"white\", \"lakecolor\": \"white\", \"landcolor\": \"#E5ECF6\", \"showlakes\": true, \"showland\": true, \"subunitcolor\": \"white\"}, \"hoverlabel\": {\"align\": \"left\"}, \"hovermode\": \"closest\", \"mapbox\": {\"style\": \"light\"}, \"paper_bgcolor\": \"white\", \"plot_bgcolor\": \"#E5ECF6\", \"polar\": {\"angularaxis\": {\"gridcolor\": \"white\", \"linecolor\": \"white\", \"ticks\": \"\"}, \"bgcolor\": \"#E5ECF6\", \"radialaxis\": {\"gridcolor\": \"white\", \"linecolor\": \"white\", \"ticks\": \"\"}}, \"scene\": {\"xaxis\": {\"backgroundcolor\": \"#E5ECF6\", \"gridcolor\": \"white\", \"gridwidth\": 2, \"linecolor\": \"white\", \"showbackground\": true, \"ticks\": \"\", \"zerolinecolor\": \"white\"}, \"yaxis\": {\"backgroundcolor\": \"#E5ECF6\", \"gridcolor\": \"white\", \"gridwidth\": 2, \"linecolor\": \"white\", \"showbackground\": true, \"ticks\": \"\", \"zerolinecolor\": \"white\"}, \"zaxis\": {\"backgroundcolor\": \"#E5ECF6\", \"gridcolor\": \"white\", \"gridwidth\": 2, \"linecolor\": \"white\", \"showbackground\": true, \"ticks\": \"\", \"zerolinecolor\": \"white\"}}, \"shapedefaults\": {\"line\": {\"color\": \"#2a3f5f\"}}, \"ternary\": {\"aaxis\": {\"gridcolor\": \"white\", \"linecolor\": \"white\", \"ticks\": \"\"}, \"baxis\": {\"gridcolor\": \"white\", \"linecolor\": \"white\", \"ticks\": \"\"}, \"bgcolor\": \"#E5ECF6\", \"caxis\": {\"gridcolor\": \"white\", \"linecolor\": \"white\", \"ticks\": \"\"}}, \"title\": {\"x\": 0.05}, \"xaxis\": {\"automargin\": true, \"gridcolor\": \"white\", \"linecolor\": \"white\", \"ticks\": \"\", \"title\": {\"standoff\": 15}, \"zerolinecolor\": \"white\", \"zerolinewidth\": 2}, \"yaxis\": {\"automargin\": true, \"gridcolor\": \"white\", \"linecolor\": \"white\", \"ticks\": \"\", \"title\": {\"standoff\": 15}, \"zerolinecolor\": \"white\", \"zerolinewidth\": 2}}}, \"title\": {\"text\": \"Total amount of loans for each year\", \"x\": 0.5}, \"xaxis\": {\"anchor\": \"y\", \"domain\": [0.0, 1.0], \"title\": {\"text\": \"Disbursal Year\"}}, \"yaxis\": {\"anchor\": \"x\", \"domain\": [0.0, 1.0], \"title\": {\"text\": \"Loans Amount\"}}},                        {\"responsive\": true}                    ).then(function(){\n",
       "                            \n",
       "var gd = document.getElementById('04fe8748-909b-442f-a606-fbc0c71a2871');\n",
       "var x = new MutationObserver(function (mutations, observer) {{\n",
       "        var display = window.getComputedStyle(gd).display;\n",
       "        if (!display || display === 'none') {{\n",
       "            console.log([gd, 'removed!']);\n",
       "            Plotly.purge(gd);\n",
       "            observer.disconnect();\n",
       "        }}\n",
       "}});\n",
       "\n",
       "// Listen for the removal of the full notebook cells\n",
       "var notebookContainer = gd.closest('#notebook-container');\n",
       "if (notebookContainer) {{\n",
       "    x.observe(notebookContainer, {childList: true});\n",
       "}}\n",
       "\n",
       "// Listen for the clearing of the current output cell\n",
       "var outputEl = gd.closest('.output');\n",
       "if (outputEl) {{\n",
       "    x.observe(outputEl, {childList: true});\n",
       "}}\n",
       "\n",
       "                        })                };                });            </script>        </div>"
      ]
     },
     "metadata": {},
     "output_type": "display_data"
    }
   ],
   "source": [
    "#loans amount distribution over the years with highlighter number of loans\n",
    "\n",
    "#group loans by year\n",
    "loan_group_by_year = data.groupby('Disbursal Year')['Original Loan Amount'].agg(['sum', 'count']).reset_index()\n",
    "loan_group_by_year.columns = ['Disbursal Year', 'Loans Amount', 'Number of Loans']\n",
    "display(loan_group_by_year)\n",
    "\n",
    "#build graph of total amount loans over the years with loan's number highlighter\n",
    "fig = px.bar(loan_group_by_year, x='Disbursal Year', y='Loans Amount', color='Number of Loans', height=500)\n",
    "fig.update_layout(title_text='Total amount of loans for each year', title_x=0.5)\n",
    "fig.show()"
   ]
  },
  {
   "cell_type": "markdown",
   "metadata": {},
   "source": [
    "## Step 5. Late borrowers analysis \n",
    "<a class=\"anchor\" id=\"5\"></a>"
   ]
  },
  {
   "cell_type": "markdown",
   "metadata": {},
   "source": [
    "What attribute provides the best predictor of late borrowers?\n",
    "build correlation matrix"
   ]
  },
  {
   "cell_type": "code",
   "execution_count": 264,
   "metadata": {},
   "outputs": [],
   "source": [
    "def buildScatterPlot(x,y):\n",
    "    plt.figure(figsize=(10,8))\n",
    "#    plt.title('Orders price distribution')\n",
    "    plt.xlabel('Yearly interest rate')\n",
    "    plt.scatter(data[x], data[y])\n",
    "    plt.plot()\n",
    "\n",
    "data_late_completed = data[data['Latest Status']!='Default']\n",
    "data_late_completed = data_late_completed[data_late_completed['Latest Status']!='Active']\n",
    "#plt.ylabel('Price')\n",
    "def buildDistributionPlot(x):\n",
    "    plt.figure(figsize=(10,8))\n",
    "    plt.title(str(x)+' distribution')\n",
    "    plt.xlabel(x)\n",
    "    sns.histplot(data=late_loans, x=x, kde=True,  palette=\"bright\")\n",
    "    plt.plot()\n",
    "#     hue=\"Latest Status\", ,  palette=\"bright\""
   ]
  },
  {
   "cell_type": "code",
   "execution_count": 235,
   "metadata": {},
   "outputs": [
    {
     "data": {
      "text/html": [
       "<div>\n",
       "<style scoped>\n",
       "    .dataframe tbody tr th:only-of-type {\n",
       "        vertical-align: middle;\n",
       "    }\n",
       "\n",
       "    .dataframe tbody tr th {\n",
       "        vertical-align: top;\n",
       "    }\n",
       "\n",
       "    .dataframe thead th {\n",
       "        text-align: right;\n",
       "    }\n",
       "</style>\n",
       "<table border=\"1\" class=\"dataframe\">\n",
       "  <thead>\n",
       "    <tr style=\"text-align: right;\">\n",
       "      <th>Disbursal Year</th>\n",
       "      <th>2007</th>\n",
       "      <th>2008</th>\n",
       "      <th>2009</th>\n",
       "      <th>2010</th>\n",
       "      <th>2011</th>\n",
       "      <th>2012</th>\n",
       "      <th>2013</th>\n",
       "      <th>2014</th>\n",
       "      <th>2015</th>\n",
       "      <th>2016</th>\n",
       "      <th>2017</th>\n",
       "      <th>2018</th>\n",
       "      <th>2019</th>\n",
       "      <th>2020</th>\n",
       "    </tr>\n",
       "    <tr>\n",
       "      <th>Latest Status</th>\n",
       "      <th></th>\n",
       "      <th></th>\n",
       "      <th></th>\n",
       "      <th></th>\n",
       "      <th></th>\n",
       "      <th></th>\n",
       "      <th></th>\n",
       "      <th></th>\n",
       "      <th></th>\n",
       "      <th></th>\n",
       "      <th></th>\n",
       "      <th></th>\n",
       "      <th></th>\n",
       "      <th></th>\n",
       "    </tr>\n",
       "  </thead>\n",
       "  <tbody>\n",
       "    <tr>\n",
       "      <th>Active</th>\n",
       "      <td>NaN</td>\n",
       "      <td>NaN</td>\n",
       "      <td>NaN</td>\n",
       "      <td>NaN</td>\n",
       "      <td>NaN</td>\n",
       "      <td>NaN</td>\n",
       "      <td>NaN</td>\n",
       "      <td>23540.0</td>\n",
       "      <td>32603980.0</td>\n",
       "      <td>62640010.0</td>\n",
       "      <td>125425286.0</td>\n",
       "      <td>213312633.0</td>\n",
       "      <td>402186917.0</td>\n",
       "      <td>127341536.0</td>\n",
       "    </tr>\n",
       "    <tr>\n",
       "      <th>Completed</th>\n",
       "      <td>8899140.0</td>\n",
       "      <td>11457800.0</td>\n",
       "      <td>31571890.0</td>\n",
       "      <td>47348560.0</td>\n",
       "      <td>56550860.0</td>\n",
       "      <td>85563380.0</td>\n",
       "      <td>115608890.0</td>\n",
       "      <td>133782540.0</td>\n",
       "      <td>240436050.0</td>\n",
       "      <td>258990822.0</td>\n",
       "      <td>276704479.0</td>\n",
       "      <td>178232577.0</td>\n",
       "      <td>95490370.0</td>\n",
       "      <td>4293880.0</td>\n",
       "    </tr>\n",
       "    <tr>\n",
       "      <th>Default</th>\n",
       "      <td>94060.0</td>\n",
       "      <td>1194500.0</td>\n",
       "      <td>1478470.0</td>\n",
       "      <td>1960690.0</td>\n",
       "      <td>1070810.0</td>\n",
       "      <td>1477010.0</td>\n",
       "      <td>2355950.0</td>\n",
       "      <td>10180920.0</td>\n",
       "      <td>40140070.0</td>\n",
       "      <td>45119360.0</td>\n",
       "      <td>52335365.0</td>\n",
       "      <td>29960176.0</td>\n",
       "      <td>13688728.0</td>\n",
       "      <td>15920.0</td>\n",
       "    </tr>\n",
       "    <tr>\n",
       "      <th>Late</th>\n",
       "      <td>NaN</td>\n",
       "      <td>NaN</td>\n",
       "      <td>NaN</td>\n",
       "      <td>NaN</td>\n",
       "      <td>NaN</td>\n",
       "      <td>NaN</td>\n",
       "      <td>7060.0</td>\n",
       "      <td>124110.0</td>\n",
       "      <td>4032860.0</td>\n",
       "      <td>9519810.0</td>\n",
       "      <td>21506511.0</td>\n",
       "      <td>34100561.0</td>\n",
       "      <td>55956064.0</td>\n",
       "      <td>7979225.0</td>\n",
       "    </tr>\n",
       "  </tbody>\n",
       "</table>\n",
       "</div>"
      ],
      "text/plain": [
       "Disbursal Year       2007        2008        2009        2010        2011  \\\n",
       "Latest Status                                                               \n",
       "Active                NaN         NaN         NaN         NaN         NaN   \n",
       "Completed       8899140.0  11457800.0  31571890.0  47348560.0  56550860.0   \n",
       "Default           94060.0   1194500.0   1478470.0   1960690.0   1070810.0   \n",
       "Late                  NaN         NaN         NaN         NaN         NaN   \n",
       "\n",
       "Disbursal Year        2012         2013         2014         2015  \\\n",
       "Latest Status                                                       \n",
       "Active                 NaN          NaN      23540.0   32603980.0   \n",
       "Completed       85563380.0  115608890.0  133782540.0  240436050.0   \n",
       "Default          1477010.0    2355950.0   10180920.0   40140070.0   \n",
       "Late                   NaN       7060.0     124110.0    4032860.0   \n",
       "\n",
       "Disbursal Year         2016         2017         2018         2019  \\\n",
       "Latest Status                                                        \n",
       "Active           62640010.0  125425286.0  213312633.0  402186917.0   \n",
       "Completed       258990822.0  276704479.0  178232577.0   95490370.0   \n",
       "Default          45119360.0   52335365.0   29960176.0   13688728.0   \n",
       "Late              9519810.0   21506511.0   34100561.0   55956064.0   \n",
       "\n",
       "Disbursal Year         2020  \n",
       "Latest Status                \n",
       "Active          127341536.0  \n",
       "Completed         4293880.0  \n",
       "Default             15920.0  \n",
       "Late              7979225.0  "
      ]
     },
     "execution_count": 235,
     "metadata": {},
     "output_type": "execute_result"
    }
   ],
   "source": [
    "loans_pivot = data.pivot_table(index='Latest Status', columns=['Disbursal Year'],values='Original Loan Amount', aggfunc=sum)\n",
    "loans_pivot"
   ]
  },
  {
   "cell_type": "code",
   "execution_count": 265,
   "metadata": {},
   "outputs": [
    {
     "ename": "NameError",
     "evalue": "name 'plotUnivariateBarLate' is not defined",
     "output_type": "error",
     "traceback": [
      "\u001b[1;31m---------------------------------------------------------------------------\u001b[0m",
      "\u001b[1;31mNameError\u001b[0m                                 Traceback (most recent call last)",
      "\u001b[1;32m<ipython-input-265-f8fff0b5cf71>\u001b[0m in \u001b[0;36m<module>\u001b[1;34m\u001b[0m\n\u001b[0;32m      3\u001b[0m \u001b[1;31m#build graphs for each feature\u001b[0m\u001b[1;33m\u001b[0m\u001b[1;33m\u001b[0m\u001b[1;33m\u001b[0m\u001b[0m\n\u001b[0;32m      4\u001b[0m \u001b[1;32mfor\u001b[0m \u001b[0mfeature\u001b[0m \u001b[1;32min\u001b[0m \u001b[0mfeatures\u001b[0m\u001b[1;33m:\u001b[0m\u001b[1;33m\u001b[0m\u001b[1;33m\u001b[0m\u001b[0m\n\u001b[1;32m----> 5\u001b[1;33m     \u001b[0mplotUnivariateBarLate\u001b[0m\u001b[1;33m(\u001b[0m\u001b[0mfeature\u001b[0m\u001b[1;33m)\u001b[0m\u001b[1;33m\u001b[0m\u001b[1;33m\u001b[0m\u001b[0m\n\u001b[0m",
      "\u001b[1;31mNameError\u001b[0m: name 'plotUnivariateBarLate' is not defined"
     ]
    }
   ],
   "source": [
    "#detect features for plotting graphs\n",
    "features=['Int rate range','Loan amount range','Term in months','Year','Month']\n",
    "#build graphs for each feature\n",
    "for feature in features:\n",
    "    plotUnivariateBarLate(feature)"
   ]
  },
  {
   "cell_type": "markdown",
   "metadata": {},
   "source": [
    "## Step 6. Determining trends in default rates over time\n",
    "<a class=\"anchor\" id=\"6\"></a>"
   ]
  },
  {
   "cell_type": "code",
   "execution_count": 236,
   "metadata": {},
   "outputs": [
    {
     "data": {
      "application/vnd.plotly.v1+json": {
       "config": {
        "plotlyServerURL": "https://plot.ly"
       },
       "data": [
        {
         "name": "Default",
         "type": "bar",
         "x": [
          "2007-01-01T00:00:00",
          "2007-02-01T00:00:00",
          "2007-03-01T00:00:00",
          "2007-04-01T00:00:00",
          "2007-05-01T00:00:00",
          "2007-06-01T00:00:00",
          "2007-07-01T00:00:00",
          "2007-08-01T00:00:00",
          "2007-09-01T00:00:00",
          "2007-10-01T00:00:00",
          "2007-11-01T00:00:00",
          "2007-12-01T00:00:00",
          "2008-01-01T00:00:00",
          "2008-02-01T00:00:00",
          "2008-03-01T00:00:00",
          "2008-04-01T00:00:00",
          "2008-05-01T00:00:00",
          "2008-06-01T00:00:00",
          "2008-07-01T00:00:00",
          "2008-08-01T00:00:00",
          "2008-09-01T00:00:00",
          "2008-10-01T00:00:00",
          "2008-11-01T00:00:00",
          "2008-12-01T00:00:00",
          "2009-01-01T00:00:00",
          "2009-02-01T00:00:00",
          "2009-03-01T00:00:00",
          "2009-04-01T00:00:00",
          "2009-05-01T00:00:00",
          "2009-06-01T00:00:00",
          "2009-07-01T00:00:00",
          "2009-08-01T00:00:00",
          "2009-09-01T00:00:00",
          "2009-10-01T00:00:00",
          "2009-11-01T00:00:00",
          "2009-12-01T00:00:00",
          "2010-01-01T00:00:00",
          "2010-02-01T00:00:00",
          "2010-03-01T00:00:00",
          "2010-04-01T00:00:00",
          "2010-05-01T00:00:00",
          "2010-06-01T00:00:00",
          "2010-07-01T00:00:00",
          "2010-08-01T00:00:00",
          "2010-09-01T00:00:00",
          "2010-10-01T00:00:00",
          "2010-11-01T00:00:00",
          "2010-12-01T00:00:00",
          "2011-01-01T00:00:00",
          "2011-02-01T00:00:00",
          "2011-03-01T00:00:00",
          "2011-04-01T00:00:00",
          "2011-05-01T00:00:00",
          "2011-06-01T00:00:00",
          "2011-07-01T00:00:00",
          "2011-08-01T00:00:00",
          "2011-09-01T00:00:00",
          "2011-10-01T00:00:00",
          "2011-11-01T00:00:00",
          "2011-12-01T00:00:00",
          "2012-01-01T00:00:00",
          "2012-02-01T00:00:00",
          "2012-03-01T00:00:00",
          "2012-04-01T00:00:00",
          "2012-05-01T00:00:00",
          "2012-06-01T00:00:00",
          "2012-07-01T00:00:00",
          "2012-08-01T00:00:00",
          "2012-09-01T00:00:00",
          "2012-10-01T00:00:00",
          "2012-11-01T00:00:00",
          "2012-12-01T00:00:00",
          "2013-01-01T00:00:00",
          "2013-02-01T00:00:00",
          "2013-03-01T00:00:00",
          "2013-04-01T00:00:00",
          "2013-05-01T00:00:00",
          "2013-06-01T00:00:00",
          "2013-07-01T00:00:00",
          "2013-08-01T00:00:00",
          "2013-09-01T00:00:00",
          "2013-10-01T00:00:00",
          "2013-11-01T00:00:00",
          "2013-12-01T00:00:00",
          "2014-01-01T00:00:00",
          "2014-02-01T00:00:00",
          "2014-03-01T00:00:00",
          "2014-04-01T00:00:00",
          "2014-05-01T00:00:00",
          "2014-06-01T00:00:00",
          "2014-07-01T00:00:00",
          "2014-08-01T00:00:00",
          "2014-09-01T00:00:00",
          "2014-10-01T00:00:00",
          "2014-11-01T00:00:00",
          "2014-12-01T00:00:00",
          "2015-01-01T00:00:00",
          "2015-02-01T00:00:00",
          "2015-03-01T00:00:00",
          "2015-04-01T00:00:00",
          "2015-05-01T00:00:00",
          "2015-06-01T00:00:00",
          "2015-07-01T00:00:00",
          "2015-08-01T00:00:00",
          "2015-09-01T00:00:00",
          "2015-10-01T00:00:00",
          "2015-11-01T00:00:00",
          "2015-12-01T00:00:00",
          "2016-01-01T00:00:00",
          "2016-02-01T00:00:00",
          "2016-03-01T00:00:00",
          "2016-04-01T00:00:00",
          "2016-05-01T00:00:00",
          "2016-06-01T00:00:00",
          "2016-07-01T00:00:00",
          "2016-08-01T00:00:00",
          "2016-09-01T00:00:00",
          "2016-10-01T00:00:00",
          "2016-11-01T00:00:00",
          "2016-12-01T00:00:00",
          "2017-01-01T00:00:00",
          "2017-02-01T00:00:00",
          "2017-03-01T00:00:00",
          "2017-04-01T00:00:00",
          "2017-05-01T00:00:00",
          "2017-06-01T00:00:00",
          "2017-07-01T00:00:00",
          "2017-08-01T00:00:00",
          "2017-09-01T00:00:00",
          "2017-10-01T00:00:00",
          "2017-11-01T00:00:00",
          "2017-12-01T00:00:00",
          "2018-01-01T00:00:00",
          "2018-02-01T00:00:00",
          "2018-03-01T00:00:00",
          "2018-04-01T00:00:00",
          "2018-05-01T00:00:00",
          "2018-06-01T00:00:00",
          "2018-07-01T00:00:00",
          "2018-08-01T00:00:00",
          "2018-09-01T00:00:00",
          "2018-10-01T00:00:00",
          "2018-11-01T00:00:00",
          "2018-12-01T00:00:00",
          "2019-01-01T00:00:00",
          "2019-02-01T00:00:00",
          "2019-03-01T00:00:00",
          "2019-04-01T00:00:00",
          "2019-05-01T00:00:00",
          "2019-06-01T00:00:00",
          "2019-07-01T00:00:00",
          "2019-08-01T00:00:00",
          "2019-09-01T00:00:00",
          "2019-10-01T00:00:00",
          "2019-11-01T00:00:00",
          "2019-12-01T00:00:00",
          "2020-01-01T00:00:00",
          "2020-02-01T00:00:00",
          "2020-03-01T00:00:00"
         ],
         "y": [
          5810,
          0,
          2010,
          0,
          13070,
          3020,
          0,
          0,
          0,
          12580,
          24030,
          33540,
          5530,
          58890,
          96270,
          79810,
          131500,
          144600,
          101500,
          83800,
          120500,
          141400,
          166900,
          63800,
          173500,
          189820,
          144380,
          63820,
          82570,
          56560,
          132100,
          150260,
          95240,
          136960,
          150220,
          103040,
          150520,
          160380,
          173860,
          144450,
          136640,
          205160,
          196080,
          204300,
          204480,
          129470,
          90040,
          165310,
          177600,
          128740,
          99360,
          74170,
          69510,
          74850,
          88140,
          88630,
          66490,
          65610,
          71540,
          66170,
          91830,
          137860,
          145700,
          91700,
          150310,
          116290,
          141730,
          95210,
          123660,
          142930,
          120140,
          119650,
          175010,
          106530,
          100080,
          201360,
          223470,
          180050,
          278710,
          257460,
          135680,
          247390,
          251700,
          198510,
          438590,
          376810,
          544280,
          480930,
          750830,
          926650,
          1260620,
          903210,
          1063820,
          1115540,
          1121790,
          1197850,
          1488090,
          1264540,
          1705700,
          3185640,
          2811640,
          3401680,
          3715010,
          4241320,
          4614940,
          4610900,
          4737150,
          4363460,
          5345310,
          4947410,
          2722160,
          2914580,
          3034420,
          3165950,
          2660840,
          3574540,
          4575070,
          4681420,
          4085680,
          3411980,
          5033160,
          4870350,
          4971180,
          4391920,
          5179050,
          6035490,
          5093500,
          4458410,
          3125410,
          3607430,
          3574270,
          1995195,
          3087130,
          2467310,
          2134241,
          2733610,
          2824810,
          2502775,
          2381470,
          2064770,
          2179120,
          2823660,
          2850210,
          1911070,
          2533790,
          1724860,
          1726840,
          1454415,
          1660040,
          1139998,
          1363080,
          984535,
          624400,
          334510,
          132420,
          9840,
          5400,
          10520,
          0
         ]
        }
       ],
       "layout": {
        "barmode": "stack",
        "template": {
         "data": {
          "bar": [
           {
            "error_x": {
             "color": "#2a3f5f"
            },
            "error_y": {
             "color": "#2a3f5f"
            },
            "marker": {
             "line": {
              "color": "#E5ECF6",
              "width": 0.5
             }
            },
            "type": "bar"
           }
          ],
          "barpolar": [
           {
            "marker": {
             "line": {
              "color": "#E5ECF6",
              "width": 0.5
             }
            },
            "type": "barpolar"
           }
          ],
          "carpet": [
           {
            "aaxis": {
             "endlinecolor": "#2a3f5f",
             "gridcolor": "white",
             "linecolor": "white",
             "minorgridcolor": "white",
             "startlinecolor": "#2a3f5f"
            },
            "baxis": {
             "endlinecolor": "#2a3f5f",
             "gridcolor": "white",
             "linecolor": "white",
             "minorgridcolor": "white",
             "startlinecolor": "#2a3f5f"
            },
            "type": "carpet"
           }
          ],
          "choropleth": [
           {
            "colorbar": {
             "outlinewidth": 0,
             "ticks": ""
            },
            "type": "choropleth"
           }
          ],
          "contour": [
           {
            "colorbar": {
             "outlinewidth": 0,
             "ticks": ""
            },
            "colorscale": [
             [
              0,
              "#0d0887"
             ],
             [
              0.1111111111111111,
              "#46039f"
             ],
             [
              0.2222222222222222,
              "#7201a8"
             ],
             [
              0.3333333333333333,
              "#9c179e"
             ],
             [
              0.4444444444444444,
              "#bd3786"
             ],
             [
              0.5555555555555556,
              "#d8576b"
             ],
             [
              0.6666666666666666,
              "#ed7953"
             ],
             [
              0.7777777777777778,
              "#fb9f3a"
             ],
             [
              0.8888888888888888,
              "#fdca26"
             ],
             [
              1,
              "#f0f921"
             ]
            ],
            "type": "contour"
           }
          ],
          "contourcarpet": [
           {
            "colorbar": {
             "outlinewidth": 0,
             "ticks": ""
            },
            "type": "contourcarpet"
           }
          ],
          "heatmap": [
           {
            "colorbar": {
             "outlinewidth": 0,
             "ticks": ""
            },
            "colorscale": [
             [
              0,
              "#0d0887"
             ],
             [
              0.1111111111111111,
              "#46039f"
             ],
             [
              0.2222222222222222,
              "#7201a8"
             ],
             [
              0.3333333333333333,
              "#9c179e"
             ],
             [
              0.4444444444444444,
              "#bd3786"
             ],
             [
              0.5555555555555556,
              "#d8576b"
             ],
             [
              0.6666666666666666,
              "#ed7953"
             ],
             [
              0.7777777777777778,
              "#fb9f3a"
             ],
             [
              0.8888888888888888,
              "#fdca26"
             ],
             [
              1,
              "#f0f921"
             ]
            ],
            "type": "heatmap"
           }
          ],
          "heatmapgl": [
           {
            "colorbar": {
             "outlinewidth": 0,
             "ticks": ""
            },
            "colorscale": [
             [
              0,
              "#0d0887"
             ],
             [
              0.1111111111111111,
              "#46039f"
             ],
             [
              0.2222222222222222,
              "#7201a8"
             ],
             [
              0.3333333333333333,
              "#9c179e"
             ],
             [
              0.4444444444444444,
              "#bd3786"
             ],
             [
              0.5555555555555556,
              "#d8576b"
             ],
             [
              0.6666666666666666,
              "#ed7953"
             ],
             [
              0.7777777777777778,
              "#fb9f3a"
             ],
             [
              0.8888888888888888,
              "#fdca26"
             ],
             [
              1,
              "#f0f921"
             ]
            ],
            "type": "heatmapgl"
           }
          ],
          "histogram": [
           {
            "marker": {
             "colorbar": {
              "outlinewidth": 0,
              "ticks": ""
             }
            },
            "type": "histogram"
           }
          ],
          "histogram2d": [
           {
            "colorbar": {
             "outlinewidth": 0,
             "ticks": ""
            },
            "colorscale": [
             [
              0,
              "#0d0887"
             ],
             [
              0.1111111111111111,
              "#46039f"
             ],
             [
              0.2222222222222222,
              "#7201a8"
             ],
             [
              0.3333333333333333,
              "#9c179e"
             ],
             [
              0.4444444444444444,
              "#bd3786"
             ],
             [
              0.5555555555555556,
              "#d8576b"
             ],
             [
              0.6666666666666666,
              "#ed7953"
             ],
             [
              0.7777777777777778,
              "#fb9f3a"
             ],
             [
              0.8888888888888888,
              "#fdca26"
             ],
             [
              1,
              "#f0f921"
             ]
            ],
            "type": "histogram2d"
           }
          ],
          "histogram2dcontour": [
           {
            "colorbar": {
             "outlinewidth": 0,
             "ticks": ""
            },
            "colorscale": [
             [
              0,
              "#0d0887"
             ],
             [
              0.1111111111111111,
              "#46039f"
             ],
             [
              0.2222222222222222,
              "#7201a8"
             ],
             [
              0.3333333333333333,
              "#9c179e"
             ],
             [
              0.4444444444444444,
              "#bd3786"
             ],
             [
              0.5555555555555556,
              "#d8576b"
             ],
             [
              0.6666666666666666,
              "#ed7953"
             ],
             [
              0.7777777777777778,
              "#fb9f3a"
             ],
             [
              0.8888888888888888,
              "#fdca26"
             ],
             [
              1,
              "#f0f921"
             ]
            ],
            "type": "histogram2dcontour"
           }
          ],
          "mesh3d": [
           {
            "colorbar": {
             "outlinewidth": 0,
             "ticks": ""
            },
            "type": "mesh3d"
           }
          ],
          "parcoords": [
           {
            "line": {
             "colorbar": {
              "outlinewidth": 0,
              "ticks": ""
             }
            },
            "type": "parcoords"
           }
          ],
          "pie": [
           {
            "automargin": true,
            "type": "pie"
           }
          ],
          "scatter": [
           {
            "marker": {
             "colorbar": {
              "outlinewidth": 0,
              "ticks": ""
             }
            },
            "type": "scatter"
           }
          ],
          "scatter3d": [
           {
            "line": {
             "colorbar": {
              "outlinewidth": 0,
              "ticks": ""
             }
            },
            "marker": {
             "colorbar": {
              "outlinewidth": 0,
              "ticks": ""
             }
            },
            "type": "scatter3d"
           }
          ],
          "scattercarpet": [
           {
            "marker": {
             "colorbar": {
              "outlinewidth": 0,
              "ticks": ""
             }
            },
            "type": "scattercarpet"
           }
          ],
          "scattergeo": [
           {
            "marker": {
             "colorbar": {
              "outlinewidth": 0,
              "ticks": ""
             }
            },
            "type": "scattergeo"
           }
          ],
          "scattergl": [
           {
            "marker": {
             "colorbar": {
              "outlinewidth": 0,
              "ticks": ""
             }
            },
            "type": "scattergl"
           }
          ],
          "scattermapbox": [
           {
            "marker": {
             "colorbar": {
              "outlinewidth": 0,
              "ticks": ""
             }
            },
            "type": "scattermapbox"
           }
          ],
          "scatterpolar": [
           {
            "marker": {
             "colorbar": {
              "outlinewidth": 0,
              "ticks": ""
             }
            },
            "type": "scatterpolar"
           }
          ],
          "scatterpolargl": [
           {
            "marker": {
             "colorbar": {
              "outlinewidth": 0,
              "ticks": ""
             }
            },
            "type": "scatterpolargl"
           }
          ],
          "scatterternary": [
           {
            "marker": {
             "colorbar": {
              "outlinewidth": 0,
              "ticks": ""
             }
            },
            "type": "scatterternary"
           }
          ],
          "surface": [
           {
            "colorbar": {
             "outlinewidth": 0,
             "ticks": ""
            },
            "colorscale": [
             [
              0,
              "#0d0887"
             ],
             [
              0.1111111111111111,
              "#46039f"
             ],
             [
              0.2222222222222222,
              "#7201a8"
             ],
             [
              0.3333333333333333,
              "#9c179e"
             ],
             [
              0.4444444444444444,
              "#bd3786"
             ],
             [
              0.5555555555555556,
              "#d8576b"
             ],
             [
              0.6666666666666666,
              "#ed7953"
             ],
             [
              0.7777777777777778,
              "#fb9f3a"
             ],
             [
              0.8888888888888888,
              "#fdca26"
             ],
             [
              1,
              "#f0f921"
             ]
            ],
            "type": "surface"
           }
          ],
          "table": [
           {
            "cells": {
             "fill": {
              "color": "#EBF0F8"
             },
             "line": {
              "color": "white"
             }
            },
            "header": {
             "fill": {
              "color": "#C8D4E3"
             },
             "line": {
              "color": "white"
             }
            },
            "type": "table"
           }
          ]
         },
         "layout": {
          "annotationdefaults": {
           "arrowcolor": "#2a3f5f",
           "arrowhead": 0,
           "arrowwidth": 1
          },
          "autotypenumbers": "strict",
          "coloraxis": {
           "colorbar": {
            "outlinewidth": 0,
            "ticks": ""
           }
          },
          "colorscale": {
           "diverging": [
            [
             0,
             "#8e0152"
            ],
            [
             0.1,
             "#c51b7d"
            ],
            [
             0.2,
             "#de77ae"
            ],
            [
             0.3,
             "#f1b6da"
            ],
            [
             0.4,
             "#fde0ef"
            ],
            [
             0.5,
             "#f7f7f7"
            ],
            [
             0.6,
             "#e6f5d0"
            ],
            [
             0.7,
             "#b8e186"
            ],
            [
             0.8,
             "#7fbc41"
            ],
            [
             0.9,
             "#4d9221"
            ],
            [
             1,
             "#276419"
            ]
           ],
           "sequential": [
            [
             0,
             "#0d0887"
            ],
            [
             0.1111111111111111,
             "#46039f"
            ],
            [
             0.2222222222222222,
             "#7201a8"
            ],
            [
             0.3333333333333333,
             "#9c179e"
            ],
            [
             0.4444444444444444,
             "#bd3786"
            ],
            [
             0.5555555555555556,
             "#d8576b"
            ],
            [
             0.6666666666666666,
             "#ed7953"
            ],
            [
             0.7777777777777778,
             "#fb9f3a"
            ],
            [
             0.8888888888888888,
             "#fdca26"
            ],
            [
             1,
             "#f0f921"
            ]
           ],
           "sequentialminus": [
            [
             0,
             "#0d0887"
            ],
            [
             0.1111111111111111,
             "#46039f"
            ],
            [
             0.2222222222222222,
             "#7201a8"
            ],
            [
             0.3333333333333333,
             "#9c179e"
            ],
            [
             0.4444444444444444,
             "#bd3786"
            ],
            [
             0.5555555555555556,
             "#d8576b"
            ],
            [
             0.6666666666666666,
             "#ed7953"
            ],
            [
             0.7777777777777778,
             "#fb9f3a"
            ],
            [
             0.8888888888888888,
             "#fdca26"
            ],
            [
             1,
             "#f0f921"
            ]
           ]
          },
          "colorway": [
           "#636efa",
           "#EF553B",
           "#00cc96",
           "#ab63fa",
           "#FFA15A",
           "#19d3f3",
           "#FF6692",
           "#B6E880",
           "#FF97FF",
           "#FECB52"
          ],
          "font": {
           "color": "#2a3f5f"
          },
          "geo": {
           "bgcolor": "white",
           "lakecolor": "white",
           "landcolor": "#E5ECF6",
           "showlakes": true,
           "showland": true,
           "subunitcolor": "white"
          },
          "hoverlabel": {
           "align": "left"
          },
          "hovermode": "closest",
          "mapbox": {
           "style": "light"
          },
          "paper_bgcolor": "white",
          "plot_bgcolor": "#E5ECF6",
          "polar": {
           "angularaxis": {
            "gridcolor": "white",
            "linecolor": "white",
            "ticks": ""
           },
           "bgcolor": "#E5ECF6",
           "radialaxis": {
            "gridcolor": "white",
            "linecolor": "white",
            "ticks": ""
           }
          },
          "scene": {
           "xaxis": {
            "backgroundcolor": "#E5ECF6",
            "gridcolor": "white",
            "gridwidth": 2,
            "linecolor": "white",
            "showbackground": true,
            "ticks": "",
            "zerolinecolor": "white"
           },
           "yaxis": {
            "backgroundcolor": "#E5ECF6",
            "gridcolor": "white",
            "gridwidth": 2,
            "linecolor": "white",
            "showbackground": true,
            "ticks": "",
            "zerolinecolor": "white"
           },
           "zaxis": {
            "backgroundcolor": "#E5ECF6",
            "gridcolor": "white",
            "gridwidth": 2,
            "linecolor": "white",
            "showbackground": true,
            "ticks": "",
            "zerolinecolor": "white"
           }
          },
          "shapedefaults": {
           "line": {
            "color": "#2a3f5f"
           }
          },
          "ternary": {
           "aaxis": {
            "gridcolor": "white",
            "linecolor": "white",
            "ticks": ""
           },
           "baxis": {
            "gridcolor": "white",
            "linecolor": "white",
            "ticks": ""
           },
           "bgcolor": "#E5ECF6",
           "caxis": {
            "gridcolor": "white",
            "linecolor": "white",
            "ticks": ""
           }
          },
          "title": {
           "x": 0.05
          },
          "xaxis": {
           "automargin": true,
           "gridcolor": "white",
           "linecolor": "white",
           "ticks": "",
           "title": {
            "standoff": 15
           },
           "zerolinecolor": "white",
           "zerolinewidth": 2
          },
          "yaxis": {
           "automargin": true,
           "gridcolor": "white",
           "linecolor": "white",
           "ticks": "",
           "title": {
            "standoff": 15
           },
           "zerolinecolor": "white",
           "zerolinewidth": 2
          }
         }
        },
        "title": {
         "text": "Bar chart of default loans over time",
         "x": 0.5
        },
        "yaxis": {
         "title": {
          "text": "Loans amount"
         }
        }
       }
      },
      "text/html": [
       "<div>                            <div id=\"bbca9ad3-cd9c-481e-9829-f2c6429ea8c7\" class=\"plotly-graph-div\" style=\"height:525px; width:100%;\"></div>            <script type=\"text/javascript\">                require([\"plotly\"], function(Plotly) {                    window.PLOTLYENV=window.PLOTLYENV || {};                                    if (document.getElementById(\"bbca9ad3-cd9c-481e-9829-f2c6429ea8c7\")) {                    Plotly.newPlot(                        \"bbca9ad3-cd9c-481e-9829-f2c6429ea8c7\",                        [{\"name\": \"Default\", \"type\": \"bar\", \"x\": [\"2007-01-01T00:00:00\", \"2007-02-01T00:00:00\", \"2007-03-01T00:00:00\", \"2007-04-01T00:00:00\", \"2007-05-01T00:00:00\", \"2007-06-01T00:00:00\", \"2007-07-01T00:00:00\", \"2007-08-01T00:00:00\", \"2007-09-01T00:00:00\", \"2007-10-01T00:00:00\", \"2007-11-01T00:00:00\", \"2007-12-01T00:00:00\", \"2008-01-01T00:00:00\", \"2008-02-01T00:00:00\", \"2008-03-01T00:00:00\", \"2008-04-01T00:00:00\", \"2008-05-01T00:00:00\", \"2008-06-01T00:00:00\", \"2008-07-01T00:00:00\", \"2008-08-01T00:00:00\", \"2008-09-01T00:00:00\", \"2008-10-01T00:00:00\", \"2008-11-01T00:00:00\", \"2008-12-01T00:00:00\", \"2009-01-01T00:00:00\", \"2009-02-01T00:00:00\", \"2009-03-01T00:00:00\", \"2009-04-01T00:00:00\", \"2009-05-01T00:00:00\", \"2009-06-01T00:00:00\", \"2009-07-01T00:00:00\", \"2009-08-01T00:00:00\", \"2009-09-01T00:00:00\", \"2009-10-01T00:00:00\", \"2009-11-01T00:00:00\", \"2009-12-01T00:00:00\", \"2010-01-01T00:00:00\", \"2010-02-01T00:00:00\", \"2010-03-01T00:00:00\", \"2010-04-01T00:00:00\", \"2010-05-01T00:00:00\", \"2010-06-01T00:00:00\", \"2010-07-01T00:00:00\", \"2010-08-01T00:00:00\", \"2010-09-01T00:00:00\", \"2010-10-01T00:00:00\", \"2010-11-01T00:00:00\", \"2010-12-01T00:00:00\", \"2011-01-01T00:00:00\", \"2011-02-01T00:00:00\", \"2011-03-01T00:00:00\", \"2011-04-01T00:00:00\", \"2011-05-01T00:00:00\", \"2011-06-01T00:00:00\", \"2011-07-01T00:00:00\", \"2011-08-01T00:00:00\", \"2011-09-01T00:00:00\", \"2011-10-01T00:00:00\", \"2011-11-01T00:00:00\", \"2011-12-01T00:00:00\", \"2012-01-01T00:00:00\", \"2012-02-01T00:00:00\", \"2012-03-01T00:00:00\", \"2012-04-01T00:00:00\", \"2012-05-01T00:00:00\", \"2012-06-01T00:00:00\", \"2012-07-01T00:00:00\", \"2012-08-01T00:00:00\", \"2012-09-01T00:00:00\", \"2012-10-01T00:00:00\", \"2012-11-01T00:00:00\", \"2012-12-01T00:00:00\", \"2013-01-01T00:00:00\", \"2013-02-01T00:00:00\", \"2013-03-01T00:00:00\", \"2013-04-01T00:00:00\", \"2013-05-01T00:00:00\", \"2013-06-01T00:00:00\", \"2013-07-01T00:00:00\", \"2013-08-01T00:00:00\", \"2013-09-01T00:00:00\", \"2013-10-01T00:00:00\", \"2013-11-01T00:00:00\", \"2013-12-01T00:00:00\", \"2014-01-01T00:00:00\", \"2014-02-01T00:00:00\", \"2014-03-01T00:00:00\", \"2014-04-01T00:00:00\", \"2014-05-01T00:00:00\", \"2014-06-01T00:00:00\", \"2014-07-01T00:00:00\", \"2014-08-01T00:00:00\", \"2014-09-01T00:00:00\", \"2014-10-01T00:00:00\", \"2014-11-01T00:00:00\", \"2014-12-01T00:00:00\", \"2015-01-01T00:00:00\", \"2015-02-01T00:00:00\", \"2015-03-01T00:00:00\", \"2015-04-01T00:00:00\", \"2015-05-01T00:00:00\", \"2015-06-01T00:00:00\", \"2015-07-01T00:00:00\", \"2015-08-01T00:00:00\", \"2015-09-01T00:00:00\", \"2015-10-01T00:00:00\", \"2015-11-01T00:00:00\", \"2015-12-01T00:00:00\", \"2016-01-01T00:00:00\", \"2016-02-01T00:00:00\", \"2016-03-01T00:00:00\", \"2016-04-01T00:00:00\", \"2016-05-01T00:00:00\", \"2016-06-01T00:00:00\", \"2016-07-01T00:00:00\", \"2016-08-01T00:00:00\", \"2016-09-01T00:00:00\", \"2016-10-01T00:00:00\", \"2016-11-01T00:00:00\", \"2016-12-01T00:00:00\", \"2017-01-01T00:00:00\", \"2017-02-01T00:00:00\", \"2017-03-01T00:00:00\", \"2017-04-01T00:00:00\", \"2017-05-01T00:00:00\", \"2017-06-01T00:00:00\", \"2017-07-01T00:00:00\", \"2017-08-01T00:00:00\", \"2017-09-01T00:00:00\", \"2017-10-01T00:00:00\", \"2017-11-01T00:00:00\", \"2017-12-01T00:00:00\", \"2018-01-01T00:00:00\", \"2018-02-01T00:00:00\", \"2018-03-01T00:00:00\", \"2018-04-01T00:00:00\", \"2018-05-01T00:00:00\", \"2018-06-01T00:00:00\", \"2018-07-01T00:00:00\", \"2018-08-01T00:00:00\", \"2018-09-01T00:00:00\", \"2018-10-01T00:00:00\", \"2018-11-01T00:00:00\", \"2018-12-01T00:00:00\", \"2019-01-01T00:00:00\", \"2019-02-01T00:00:00\", \"2019-03-01T00:00:00\", \"2019-04-01T00:00:00\", \"2019-05-01T00:00:00\", \"2019-06-01T00:00:00\", \"2019-07-01T00:00:00\", \"2019-08-01T00:00:00\", \"2019-09-01T00:00:00\", \"2019-10-01T00:00:00\", \"2019-11-01T00:00:00\", \"2019-12-01T00:00:00\", \"2020-01-01T00:00:00\", \"2020-02-01T00:00:00\", \"2020-03-01T00:00:00\"], \"y\": [5810.0, 0.0, 2010.0, 0.0, 13070.0, 3020.0, 0.0, 0.0, 0.0, 12580.0, 24030.0, 33540.0, 5530.0, 58890.0, 96270.0, 79810.0, 131500.0, 144600.0, 101500.0, 83800.0, 120500.0, 141400.0, 166900.0, 63800.0, 173500.0, 189820.0, 144380.0, 63820.0, 82570.0, 56560.0, 132100.0, 150260.0, 95240.0, 136960.0, 150220.0, 103040.0, 150520.0, 160380.0, 173860.0, 144450.0, 136640.0, 205160.0, 196080.0, 204300.0, 204480.0, 129470.0, 90040.0, 165310.0, 177600.0, 128740.0, 99360.0, 74170.0, 69510.0, 74850.0, 88140.0, 88630.0, 66490.0, 65610.0, 71540.0, 66170.0, 91830.0, 137860.0, 145700.0, 91700.0, 150310.0, 116290.0, 141730.0, 95210.0, 123660.0, 142930.0, 120140.0, 119650.0, 175010.0, 106530.0, 100080.0, 201360.0, 223470.0, 180050.0, 278710.0, 257460.0, 135680.0, 247390.0, 251700.0, 198510.0, 438590.0, 376810.0, 544280.0, 480930.0, 750830.0, 926650.0, 1260620.0, 903210.0, 1063820.0, 1115540.0, 1121790.0, 1197850.0, 1488090.0, 1264540.0, 1705700.0, 3185640.0, 2811640.0, 3401680.0, 3715010.0, 4241320.0, 4614940.0, 4610900.0, 4737150.0, 4363460.0, 5345310.0, 4947410.0, 2722160.0, 2914580.0, 3034420.0, 3165950.0, 2660840.0, 3574540.0, 4575070.0, 4681420.0, 4085680.0, 3411980.0, 5033160.0, 4870350.0, 4971180.0, 4391920.0, 5179050.0, 6035490.0, 5093500.0, 4458410.0, 3125410.0, 3607430.0, 3574270.0, 1995195.0, 3087130.0, 2467310.0, 2134241.0, 2733610.0, 2824810.0, 2502775.0, 2381470.0, 2064770.0, 2179120.0, 2823660.0, 2850210.0, 1911070.0, 2533790.0, 1724860.0, 1726840.0, 1454415.0, 1660040.0, 1139998.0, 1363080.0, 984535.0, 624400.0, 334510.0, 132420.0, 9840.0, 5400.0, 10520.0, 0.0]}],                        {\"barmode\": \"stack\", \"template\": {\"data\": {\"bar\": [{\"error_x\": {\"color\": \"#2a3f5f\"}, \"error_y\": {\"color\": \"#2a3f5f\"}, \"marker\": {\"line\": {\"color\": \"#E5ECF6\", \"width\": 0.5}}, \"type\": \"bar\"}], \"barpolar\": [{\"marker\": {\"line\": {\"color\": \"#E5ECF6\", \"width\": 0.5}}, \"type\": \"barpolar\"}], \"carpet\": [{\"aaxis\": {\"endlinecolor\": \"#2a3f5f\", \"gridcolor\": \"white\", \"linecolor\": \"white\", \"minorgridcolor\": \"white\", \"startlinecolor\": \"#2a3f5f\"}, \"baxis\": {\"endlinecolor\": \"#2a3f5f\", \"gridcolor\": \"white\", \"linecolor\": \"white\", \"minorgridcolor\": \"white\", \"startlinecolor\": \"#2a3f5f\"}, \"type\": \"carpet\"}], \"choropleth\": [{\"colorbar\": {\"outlinewidth\": 0, \"ticks\": \"\"}, \"type\": \"choropleth\"}], \"contour\": [{\"colorbar\": {\"outlinewidth\": 0, \"ticks\": \"\"}, \"colorscale\": [[0.0, \"#0d0887\"], [0.1111111111111111, \"#46039f\"], [0.2222222222222222, \"#7201a8\"], [0.3333333333333333, \"#9c179e\"], [0.4444444444444444, \"#bd3786\"], [0.5555555555555556, \"#d8576b\"], [0.6666666666666666, \"#ed7953\"], [0.7777777777777778, \"#fb9f3a\"], [0.8888888888888888, \"#fdca26\"], [1.0, \"#f0f921\"]], \"type\": \"contour\"}], \"contourcarpet\": [{\"colorbar\": {\"outlinewidth\": 0, \"ticks\": \"\"}, \"type\": \"contourcarpet\"}], \"heatmap\": [{\"colorbar\": {\"outlinewidth\": 0, \"ticks\": \"\"}, \"colorscale\": [[0.0, \"#0d0887\"], [0.1111111111111111, \"#46039f\"], [0.2222222222222222, \"#7201a8\"], [0.3333333333333333, \"#9c179e\"], [0.4444444444444444, \"#bd3786\"], [0.5555555555555556, \"#d8576b\"], [0.6666666666666666, \"#ed7953\"], [0.7777777777777778, \"#fb9f3a\"], [0.8888888888888888, \"#fdca26\"], [1.0, \"#f0f921\"]], \"type\": \"heatmap\"}], \"heatmapgl\": [{\"colorbar\": {\"outlinewidth\": 0, \"ticks\": \"\"}, \"colorscale\": [[0.0, \"#0d0887\"], [0.1111111111111111, \"#46039f\"], [0.2222222222222222, \"#7201a8\"], [0.3333333333333333, \"#9c179e\"], [0.4444444444444444, \"#bd3786\"], [0.5555555555555556, \"#d8576b\"], [0.6666666666666666, \"#ed7953\"], [0.7777777777777778, \"#fb9f3a\"], [0.8888888888888888, \"#fdca26\"], [1.0, \"#f0f921\"]], \"type\": \"heatmapgl\"}], \"histogram\": [{\"marker\": {\"colorbar\": {\"outlinewidth\": 0, \"ticks\": \"\"}}, \"type\": \"histogram\"}], \"histogram2d\": [{\"colorbar\": {\"outlinewidth\": 0, \"ticks\": \"\"}, \"colorscale\": [[0.0, \"#0d0887\"], [0.1111111111111111, \"#46039f\"], [0.2222222222222222, \"#7201a8\"], [0.3333333333333333, \"#9c179e\"], [0.4444444444444444, \"#bd3786\"], [0.5555555555555556, \"#d8576b\"], [0.6666666666666666, \"#ed7953\"], [0.7777777777777778, \"#fb9f3a\"], [0.8888888888888888, \"#fdca26\"], [1.0, \"#f0f921\"]], \"type\": \"histogram2d\"}], \"histogram2dcontour\": [{\"colorbar\": {\"outlinewidth\": 0, \"ticks\": \"\"}, \"colorscale\": [[0.0, \"#0d0887\"], [0.1111111111111111, \"#46039f\"], [0.2222222222222222, \"#7201a8\"], [0.3333333333333333, \"#9c179e\"], [0.4444444444444444, \"#bd3786\"], [0.5555555555555556, \"#d8576b\"], [0.6666666666666666, \"#ed7953\"], [0.7777777777777778, \"#fb9f3a\"], [0.8888888888888888, \"#fdca26\"], [1.0, \"#f0f921\"]], \"type\": \"histogram2dcontour\"}], \"mesh3d\": [{\"colorbar\": {\"outlinewidth\": 0, \"ticks\": \"\"}, \"type\": \"mesh3d\"}], \"parcoords\": [{\"line\": {\"colorbar\": {\"outlinewidth\": 0, \"ticks\": \"\"}}, \"type\": \"parcoords\"}], \"pie\": [{\"automargin\": true, \"type\": \"pie\"}], \"scatter\": [{\"marker\": {\"colorbar\": {\"outlinewidth\": 0, \"ticks\": \"\"}}, \"type\": \"scatter\"}], \"scatter3d\": [{\"line\": {\"colorbar\": {\"outlinewidth\": 0, \"ticks\": \"\"}}, \"marker\": {\"colorbar\": {\"outlinewidth\": 0, \"ticks\": \"\"}}, \"type\": \"scatter3d\"}], \"scattercarpet\": [{\"marker\": {\"colorbar\": {\"outlinewidth\": 0, \"ticks\": \"\"}}, \"type\": \"scattercarpet\"}], \"scattergeo\": [{\"marker\": {\"colorbar\": {\"outlinewidth\": 0, \"ticks\": \"\"}}, \"type\": \"scattergeo\"}], \"scattergl\": [{\"marker\": {\"colorbar\": {\"outlinewidth\": 0, \"ticks\": \"\"}}, \"type\": \"scattergl\"}], \"scattermapbox\": [{\"marker\": {\"colorbar\": {\"outlinewidth\": 0, \"ticks\": \"\"}}, \"type\": \"scattermapbox\"}], \"scatterpolar\": [{\"marker\": {\"colorbar\": {\"outlinewidth\": 0, \"ticks\": \"\"}}, \"type\": \"scatterpolar\"}], \"scatterpolargl\": [{\"marker\": {\"colorbar\": {\"outlinewidth\": 0, \"ticks\": \"\"}}, \"type\": \"scatterpolargl\"}], \"scatterternary\": [{\"marker\": {\"colorbar\": {\"outlinewidth\": 0, \"ticks\": \"\"}}, \"type\": \"scatterternary\"}], \"surface\": [{\"colorbar\": {\"outlinewidth\": 0, \"ticks\": \"\"}, \"colorscale\": [[0.0, \"#0d0887\"], [0.1111111111111111, \"#46039f\"], [0.2222222222222222, \"#7201a8\"], [0.3333333333333333, \"#9c179e\"], [0.4444444444444444, \"#bd3786\"], [0.5555555555555556, \"#d8576b\"], [0.6666666666666666, \"#ed7953\"], [0.7777777777777778, \"#fb9f3a\"], [0.8888888888888888, \"#fdca26\"], [1.0, \"#f0f921\"]], \"type\": \"surface\"}], \"table\": [{\"cells\": {\"fill\": {\"color\": \"#EBF0F8\"}, \"line\": {\"color\": \"white\"}}, \"header\": {\"fill\": {\"color\": \"#C8D4E3\"}, \"line\": {\"color\": \"white\"}}, \"type\": \"table\"}]}, \"layout\": {\"annotationdefaults\": {\"arrowcolor\": \"#2a3f5f\", \"arrowhead\": 0, \"arrowwidth\": 1}, \"autotypenumbers\": \"strict\", \"coloraxis\": {\"colorbar\": {\"outlinewidth\": 0, \"ticks\": \"\"}}, \"colorscale\": {\"diverging\": [[0, \"#8e0152\"], [0.1, \"#c51b7d\"], [0.2, \"#de77ae\"], [0.3, \"#f1b6da\"], [0.4, \"#fde0ef\"], [0.5, \"#f7f7f7\"], [0.6, \"#e6f5d0\"], [0.7, \"#b8e186\"], [0.8, \"#7fbc41\"], [0.9, \"#4d9221\"], [1, \"#276419\"]], \"sequential\": [[0.0, \"#0d0887\"], [0.1111111111111111, \"#46039f\"], [0.2222222222222222, \"#7201a8\"], [0.3333333333333333, \"#9c179e\"], [0.4444444444444444, \"#bd3786\"], [0.5555555555555556, \"#d8576b\"], [0.6666666666666666, \"#ed7953\"], [0.7777777777777778, \"#fb9f3a\"], [0.8888888888888888, \"#fdca26\"], [1.0, \"#f0f921\"]], \"sequentialminus\": [[0.0, \"#0d0887\"], [0.1111111111111111, \"#46039f\"], [0.2222222222222222, \"#7201a8\"], [0.3333333333333333, \"#9c179e\"], [0.4444444444444444, \"#bd3786\"], [0.5555555555555556, \"#d8576b\"], [0.6666666666666666, \"#ed7953\"], [0.7777777777777778, \"#fb9f3a\"], [0.8888888888888888, \"#fdca26\"], [1.0, \"#f0f921\"]]}, \"colorway\": [\"#636efa\", \"#EF553B\", \"#00cc96\", \"#ab63fa\", \"#FFA15A\", \"#19d3f3\", \"#FF6692\", \"#B6E880\", \"#FF97FF\", \"#FECB52\"], \"font\": {\"color\": \"#2a3f5f\"}, \"geo\": {\"bgcolor\": \"white\", \"lakecolor\": \"white\", \"landcolor\": \"#E5ECF6\", \"showlakes\": true, \"showland\": true, \"subunitcolor\": \"white\"}, \"hoverlabel\": {\"align\": \"left\"}, \"hovermode\": \"closest\", \"mapbox\": {\"style\": \"light\"}, \"paper_bgcolor\": \"white\", \"plot_bgcolor\": \"#E5ECF6\", \"polar\": {\"angularaxis\": {\"gridcolor\": \"white\", \"linecolor\": \"white\", \"ticks\": \"\"}, \"bgcolor\": \"#E5ECF6\", \"radialaxis\": {\"gridcolor\": \"white\", \"linecolor\": \"white\", \"ticks\": \"\"}}, \"scene\": {\"xaxis\": {\"backgroundcolor\": \"#E5ECF6\", \"gridcolor\": \"white\", \"gridwidth\": 2, \"linecolor\": \"white\", \"showbackground\": true, \"ticks\": \"\", \"zerolinecolor\": \"white\"}, \"yaxis\": {\"backgroundcolor\": \"#E5ECF6\", \"gridcolor\": \"white\", \"gridwidth\": 2, \"linecolor\": \"white\", \"showbackground\": true, \"ticks\": \"\", \"zerolinecolor\": \"white\"}, \"zaxis\": {\"backgroundcolor\": \"#E5ECF6\", \"gridcolor\": \"white\", \"gridwidth\": 2, \"linecolor\": \"white\", \"showbackground\": true, \"ticks\": \"\", \"zerolinecolor\": \"white\"}}, \"shapedefaults\": {\"line\": {\"color\": \"#2a3f5f\"}}, \"ternary\": {\"aaxis\": {\"gridcolor\": \"white\", \"linecolor\": \"white\", \"ticks\": \"\"}, \"baxis\": {\"gridcolor\": \"white\", \"linecolor\": \"white\", \"ticks\": \"\"}, \"bgcolor\": \"#E5ECF6\", \"caxis\": {\"gridcolor\": \"white\", \"linecolor\": \"white\", \"ticks\": \"\"}}, \"title\": {\"x\": 0.05}, \"xaxis\": {\"automargin\": true, \"gridcolor\": \"white\", \"linecolor\": \"white\", \"ticks\": \"\", \"title\": {\"standoff\": 15}, \"zerolinecolor\": \"white\", \"zerolinewidth\": 2}, \"yaxis\": {\"automargin\": true, \"gridcolor\": \"white\", \"linecolor\": \"white\", \"ticks\": \"\", \"title\": {\"standoff\": 15}, \"zerolinecolor\": \"white\", \"zerolinewidth\": 2}}}, \"title\": {\"text\": \"Bar chart of default loans over time\", \"x\": 0.5}, \"yaxis\": {\"title\": {\"text\": \"Loans amount\"}}},                        {\"responsive\": true}                    ).then(function(){\n",
       "                            \n",
       "var gd = document.getElementById('bbca9ad3-cd9c-481e-9829-f2c6429ea8c7');\n",
       "var x = new MutationObserver(function (mutations, observer) {{\n",
       "        var display = window.getComputedStyle(gd).display;\n",
       "        if (!display || display === 'none') {{\n",
       "            console.log([gd, 'removed!']);\n",
       "            Plotly.purge(gd);\n",
       "            observer.disconnect();\n",
       "        }}\n",
       "}});\n",
       "\n",
       "// Listen for the removal of the full notebook cells\n",
       "var notebookContainer = gd.closest('#notebook-container');\n",
       "if (notebookContainer) {{\n",
       "    x.observe(notebookContainer, {childList: true});\n",
       "}}\n",
       "\n",
       "// Listen for the clearing of the current output cell\n",
       "var outputEl = gd.closest('.output');\n",
       "if (outputEl) {{\n",
       "    x.observe(outputEl, {childList: true});\n",
       "}}\n",
       "\n",
       "                        })                };                });            </script>        </div>"
      ]
     },
     "metadata": {},
     "output_type": "display_data"
    }
   ],
   "source": [
    "#display bar chart without active loans\n",
    "\n",
    "bar_plots = [\n",
    "    go.Bar(x=loan_pivot_by_date_status_new['Disbursal Year and Month'], y=loan_pivot_by_date_status_new['Default Loans Amount'], name='Default'),\n",
    "]\n",
    "layout = go.Layout(\n",
    "    title = go.layout.Title(text='Bar chart of default loans over time', x=0.5),\n",
    "    yaxis_title = 'Loans amount'\n",
    ")\n",
    "fig = go.Figure(data=bar_plots, layout=layout)\n",
    "fig.update_layout(barmode='stack')\n",
    "fig.show()"
   ]
  },
  {
   "cell_type": "code",
   "execution_count": 237,
   "metadata": {},
   "outputs": [
    {
     "data": {
      "text/html": [
       "<div>\n",
       "<style scoped>\n",
       "    .dataframe tbody tr th:only-of-type {\n",
       "        vertical-align: middle;\n",
       "    }\n",
       "\n",
       "    .dataframe tbody tr th {\n",
       "        vertical-align: top;\n",
       "    }\n",
       "\n",
       "    .dataframe thead th {\n",
       "        text-align: right;\n",
       "    }\n",
       "</style>\n",
       "<table border=\"1\" class=\"dataframe\">\n",
       "  <thead>\n",
       "    <tr style=\"text-align: right;\">\n",
       "      <th></th>\n",
       "      <th>Disbursal Year</th>\n",
       "      <th>Completed Loans Amount</th>\n",
       "      <th>Completed Loans Number</th>\n",
       "      <th>Default Loans Amount</th>\n",
       "      <th>Default Loans Number</th>\n",
       "    </tr>\n",
       "  </thead>\n",
       "  <tbody>\n",
       "    <tr>\n",
       "      <th>0</th>\n",
       "      <td>2007</td>\n",
       "      <td>8899140.0</td>\n",
       "      <td>2285.0</td>\n",
       "      <td>94060.0</td>\n",
       "      <td>17.0</td>\n",
       "    </tr>\n",
       "    <tr>\n",
       "      <th>1</th>\n",
       "      <td>2008</td>\n",
       "      <td>11457800.0</td>\n",
       "      <td>2395.0</td>\n",
       "      <td>1194500.0</td>\n",
       "      <td>210.0</td>\n",
       "    </tr>\n",
       "    <tr>\n",
       "      <th>2</th>\n",
       "      <td>2009</td>\n",
       "      <td>31571890.0</td>\n",
       "      <td>5636.0</td>\n",
       "      <td>1478470.0</td>\n",
       "      <td>258.0</td>\n",
       "    </tr>\n",
       "    <tr>\n",
       "      <th>3</th>\n",
       "      <td>2010</td>\n",
       "      <td>47348560.0</td>\n",
       "      <td>9514.0</td>\n",
       "      <td>1960690.0</td>\n",
       "      <td>370.0</td>\n",
       "    </tr>\n",
       "    <tr>\n",
       "      <th>4</th>\n",
       "      <td>2011</td>\n",
       "      <td>56550860.0</td>\n",
       "      <td>11648.0</td>\n",
       "      <td>1070810.0</td>\n",
       "      <td>233.0</td>\n",
       "    </tr>\n",
       "    <tr>\n",
       "      <th>5</th>\n",
       "      <td>2012</td>\n",
       "      <td>85563380.0</td>\n",
       "      <td>17136.0</td>\n",
       "      <td>1477010.0</td>\n",
       "      <td>310.0</td>\n",
       "    </tr>\n",
       "    <tr>\n",
       "      <th>6</th>\n",
       "      <td>2013</td>\n",
       "      <td>115608890.0</td>\n",
       "      <td>23460.0</td>\n",
       "      <td>2355950.0</td>\n",
       "      <td>443.0</td>\n",
       "    </tr>\n",
       "    <tr>\n",
       "      <th>7</th>\n",
       "      <td>2014</td>\n",
       "      <td>133782540.0</td>\n",
       "      <td>20733.0</td>\n",
       "      <td>10180920.0</td>\n",
       "      <td>1394.0</td>\n",
       "    </tr>\n",
       "    <tr>\n",
       "      <th>8</th>\n",
       "      <td>2015</td>\n",
       "      <td>240436050.0</td>\n",
       "      <td>38092.0</td>\n",
       "      <td>40140070.0</td>\n",
       "      <td>5109.0</td>\n",
       "    </tr>\n",
       "    <tr>\n",
       "      <th>9</th>\n",
       "      <td>2016</td>\n",
       "      <td>258990822.0</td>\n",
       "      <td>45823.0</td>\n",
       "      <td>45119360.0</td>\n",
       "      <td>5862.0</td>\n",
       "    </tr>\n",
       "    <tr>\n",
       "      <th>10</th>\n",
       "      <td>2017</td>\n",
       "      <td>276704479.0</td>\n",
       "      <td>53083.0</td>\n",
       "      <td>52335365.0</td>\n",
       "      <td>6926.0</td>\n",
       "    </tr>\n",
       "    <tr>\n",
       "      <th>11</th>\n",
       "      <td>2018</td>\n",
       "      <td>178232577.0</td>\n",
       "      <td>33798.0</td>\n",
       "      <td>29960176.0</td>\n",
       "      <td>3210.0</td>\n",
       "    </tr>\n",
       "    <tr>\n",
       "      <th>12</th>\n",
       "      <td>2019</td>\n",
       "      <td>95490370.0</td>\n",
       "      <td>18536.0</td>\n",
       "      <td>13688728.0</td>\n",
       "      <td>1553.0</td>\n",
       "    </tr>\n",
       "    <tr>\n",
       "      <th>13</th>\n",
       "      <td>2020</td>\n",
       "      <td>4293880.0</td>\n",
       "      <td>653.0</td>\n",
       "      <td>15920.0</td>\n",
       "      <td>3.0</td>\n",
       "    </tr>\n",
       "  </tbody>\n",
       "</table>\n",
       "</div>"
      ],
      "text/plain": [
       "   Disbursal Year  Completed Loans Amount  Completed Loans Number  \\\n",
       "0            2007               8899140.0                  2285.0   \n",
       "1            2008              11457800.0                  2395.0   \n",
       "2            2009              31571890.0                  5636.0   \n",
       "3            2010              47348560.0                  9514.0   \n",
       "4            2011              56550860.0                 11648.0   \n",
       "5            2012              85563380.0                 17136.0   \n",
       "6            2013             115608890.0                 23460.0   \n",
       "7            2014             133782540.0                 20733.0   \n",
       "8            2015             240436050.0                 38092.0   \n",
       "9            2016             258990822.0                 45823.0   \n",
       "10           2017             276704479.0                 53083.0   \n",
       "11           2018             178232577.0                 33798.0   \n",
       "12           2019              95490370.0                 18536.0   \n",
       "13           2020               4293880.0                   653.0   \n",
       "\n",
       "    Default Loans Amount  Default Loans Number  \n",
       "0                94060.0                  17.0  \n",
       "1              1194500.0                 210.0  \n",
       "2              1478470.0                 258.0  \n",
       "3              1960690.0                 370.0  \n",
       "4              1070810.0                 233.0  \n",
       "5              1477010.0                 310.0  \n",
       "6              2355950.0                 443.0  \n",
       "7             10180920.0                1394.0  \n",
       "8             40140070.0                5109.0  \n",
       "9             45119360.0                5862.0  \n",
       "10            52335365.0                6926.0  \n",
       "11            29960176.0                3210.0  \n",
       "12            13688728.0                1553.0  \n",
       "13               15920.0                   3.0  "
      ]
     },
     "execution_count": 237,
     "metadata": {},
     "output_type": "execute_result"
    }
   ],
   "source": [
    "#pivot table for data without active loans\n",
    "loan_perf_years = data_new.pivot_table(index='Disbursal Year', columns='Latest Status', values='Original Loan Amount', aggfunc=['sum','count']).reset_index()\n",
    "loan_perf_years.columns = ['Disbursal Year','Completed Loans Amount','Default Loans Amount','Late Loans Amount','Completed Loans Number','Default Loans Number','Late Loans Number']\n",
    "loan_perf_years.fillna(0, inplace=True)\n",
    "loan_perf_years = loan_perf_years[['Disbursal Year','Completed Loans Amount','Completed Loans Number','Default Loans Amount','Default Loans Number']]\n",
    "loan_perf_years"
   ]
  },
  {
   "cell_type": "code",
   "execution_count": 238,
   "metadata": {},
   "outputs": [
    {
     "data": {
      "text/html": [
       "<div>\n",
       "<style scoped>\n",
       "    .dataframe tbody tr th:only-of-type {\n",
       "        vertical-align: middle;\n",
       "    }\n",
       "\n",
       "    .dataframe tbody tr th {\n",
       "        vertical-align: top;\n",
       "    }\n",
       "\n",
       "    .dataframe thead th {\n",
       "        text-align: right;\n",
       "    }\n",
       "</style>\n",
       "<table border=\"1\" class=\"dataframe\">\n",
       "  <thead>\n",
       "    <tr style=\"text-align: right;\">\n",
       "      <th></th>\n",
       "      <th>Disbursal Year</th>\n",
       "      <th>Completed Loans Amount</th>\n",
       "      <th>Completed Loans Number</th>\n",
       "      <th>Default Loans Amount</th>\n",
       "      <th>Default Loans Number</th>\n",
       "      <th>Total Loans Number</th>\n",
       "      <th>Completed pct</th>\n",
       "      <th>Default pct</th>\n",
       "    </tr>\n",
       "  </thead>\n",
       "  <tbody>\n",
       "    <tr>\n",
       "      <th>0</th>\n",
       "      <td>2007</td>\n",
       "      <td>8899140.0</td>\n",
       "      <td>2285.0</td>\n",
       "      <td>94060.0</td>\n",
       "      <td>17.0</td>\n",
       "      <td>2302.0</td>\n",
       "      <td>0.992615</td>\n",
       "      <td>0.007385</td>\n",
       "    </tr>\n",
       "    <tr>\n",
       "      <th>1</th>\n",
       "      <td>2008</td>\n",
       "      <td>11457800.0</td>\n",
       "      <td>2395.0</td>\n",
       "      <td>1194500.0</td>\n",
       "      <td>210.0</td>\n",
       "      <td>2605.0</td>\n",
       "      <td>0.919386</td>\n",
       "      <td>0.080614</td>\n",
       "    </tr>\n",
       "    <tr>\n",
       "      <th>2</th>\n",
       "      <td>2009</td>\n",
       "      <td>31571890.0</td>\n",
       "      <td>5636.0</td>\n",
       "      <td>1478470.0</td>\n",
       "      <td>258.0</td>\n",
       "      <td>5894.0</td>\n",
       "      <td>0.956227</td>\n",
       "      <td>0.043773</td>\n",
       "    </tr>\n",
       "    <tr>\n",
       "      <th>3</th>\n",
       "      <td>2010</td>\n",
       "      <td>47348560.0</td>\n",
       "      <td>9514.0</td>\n",
       "      <td>1960690.0</td>\n",
       "      <td>370.0</td>\n",
       "      <td>9884.0</td>\n",
       "      <td>0.962566</td>\n",
       "      <td>0.037434</td>\n",
       "    </tr>\n",
       "    <tr>\n",
       "      <th>4</th>\n",
       "      <td>2011</td>\n",
       "      <td>56550860.0</td>\n",
       "      <td>11648.0</td>\n",
       "      <td>1070810.0</td>\n",
       "      <td>233.0</td>\n",
       "      <td>11881.0</td>\n",
       "      <td>0.980389</td>\n",
       "      <td>0.019611</td>\n",
       "    </tr>\n",
       "    <tr>\n",
       "      <th>5</th>\n",
       "      <td>2012</td>\n",
       "      <td>85563380.0</td>\n",
       "      <td>17136.0</td>\n",
       "      <td>1477010.0</td>\n",
       "      <td>310.0</td>\n",
       "      <td>17446.0</td>\n",
       "      <td>0.982231</td>\n",
       "      <td>0.017769</td>\n",
       "    </tr>\n",
       "    <tr>\n",
       "      <th>6</th>\n",
       "      <td>2013</td>\n",
       "      <td>115608890.0</td>\n",
       "      <td>23460.0</td>\n",
       "      <td>2355950.0</td>\n",
       "      <td>443.0</td>\n",
       "      <td>23903.0</td>\n",
       "      <td>0.981467</td>\n",
       "      <td>0.018533</td>\n",
       "    </tr>\n",
       "    <tr>\n",
       "      <th>7</th>\n",
       "      <td>2014</td>\n",
       "      <td>133782540.0</td>\n",
       "      <td>20733.0</td>\n",
       "      <td>10180920.0</td>\n",
       "      <td>1394.0</td>\n",
       "      <td>22127.0</td>\n",
       "      <td>0.937000</td>\n",
       "      <td>0.063000</td>\n",
       "    </tr>\n",
       "    <tr>\n",
       "      <th>8</th>\n",
       "      <td>2015</td>\n",
       "      <td>240436050.0</td>\n",
       "      <td>38092.0</td>\n",
       "      <td>40140070.0</td>\n",
       "      <td>5109.0</td>\n",
       "      <td>43201.0</td>\n",
       "      <td>0.881739</td>\n",
       "      <td>0.118261</td>\n",
       "    </tr>\n",
       "    <tr>\n",
       "      <th>9</th>\n",
       "      <td>2016</td>\n",
       "      <td>258990822.0</td>\n",
       "      <td>45823.0</td>\n",
       "      <td>45119360.0</td>\n",
       "      <td>5862.0</td>\n",
       "      <td>51685.0</td>\n",
       "      <td>0.886582</td>\n",
       "      <td>0.113418</td>\n",
       "    </tr>\n",
       "    <tr>\n",
       "      <th>10</th>\n",
       "      <td>2017</td>\n",
       "      <td>276704479.0</td>\n",
       "      <td>53083.0</td>\n",
       "      <td>52335365.0</td>\n",
       "      <td>6926.0</td>\n",
       "      <td>60009.0</td>\n",
       "      <td>0.884584</td>\n",
       "      <td>0.115416</td>\n",
       "    </tr>\n",
       "    <tr>\n",
       "      <th>11</th>\n",
       "      <td>2018</td>\n",
       "      <td>178232577.0</td>\n",
       "      <td>33798.0</td>\n",
       "      <td>29960176.0</td>\n",
       "      <td>3210.0</td>\n",
       "      <td>37008.0</td>\n",
       "      <td>0.913262</td>\n",
       "      <td>0.086738</td>\n",
       "    </tr>\n",
       "    <tr>\n",
       "      <th>12</th>\n",
       "      <td>2019</td>\n",
       "      <td>95490370.0</td>\n",
       "      <td>18536.0</td>\n",
       "      <td>13688728.0</td>\n",
       "      <td>1553.0</td>\n",
       "      <td>20089.0</td>\n",
       "      <td>0.922694</td>\n",
       "      <td>0.077306</td>\n",
       "    </tr>\n",
       "    <tr>\n",
       "      <th>13</th>\n",
       "      <td>2020</td>\n",
       "      <td>4293880.0</td>\n",
       "      <td>653.0</td>\n",
       "      <td>15920.0</td>\n",
       "      <td>3.0</td>\n",
       "      <td>656.0</td>\n",
       "      <td>0.995427</td>\n",
       "      <td>0.004573</td>\n",
       "    </tr>\n",
       "  </tbody>\n",
       "</table>\n",
       "</div>"
      ],
      "text/plain": [
       "   Disbursal Year  Completed Loans Amount  Completed Loans Number  \\\n",
       "0            2007               8899140.0                  2285.0   \n",
       "1            2008              11457800.0                  2395.0   \n",
       "2            2009              31571890.0                  5636.0   \n",
       "3            2010              47348560.0                  9514.0   \n",
       "4            2011              56550860.0                 11648.0   \n",
       "5            2012              85563380.0                 17136.0   \n",
       "6            2013             115608890.0                 23460.0   \n",
       "7            2014             133782540.0                 20733.0   \n",
       "8            2015             240436050.0                 38092.0   \n",
       "9            2016             258990822.0                 45823.0   \n",
       "10           2017             276704479.0                 53083.0   \n",
       "11           2018             178232577.0                 33798.0   \n",
       "12           2019              95490370.0                 18536.0   \n",
       "13           2020               4293880.0                   653.0   \n",
       "\n",
       "    Default Loans Amount  Default Loans Number  Total Loans Number  \\\n",
       "0                94060.0                  17.0              2302.0   \n",
       "1              1194500.0                 210.0              2605.0   \n",
       "2              1478470.0                 258.0              5894.0   \n",
       "3              1960690.0                 370.0              9884.0   \n",
       "4              1070810.0                 233.0             11881.0   \n",
       "5              1477010.0                 310.0             17446.0   \n",
       "6              2355950.0                 443.0             23903.0   \n",
       "7             10180920.0                1394.0             22127.0   \n",
       "8             40140070.0                5109.0             43201.0   \n",
       "9             45119360.0                5862.0             51685.0   \n",
       "10            52335365.0                6926.0             60009.0   \n",
       "11            29960176.0                3210.0             37008.0   \n",
       "12            13688728.0                1553.0             20089.0   \n",
       "13               15920.0                   3.0               656.0   \n",
       "\n",
       "    Completed pct  Default pct  \n",
       "0        0.992615     0.007385  \n",
       "1        0.919386     0.080614  \n",
       "2        0.956227     0.043773  \n",
       "3        0.962566     0.037434  \n",
       "4        0.980389     0.019611  \n",
       "5        0.982231     0.017769  \n",
       "6        0.981467     0.018533  \n",
       "7        0.937000     0.063000  \n",
       "8        0.881739     0.118261  \n",
       "9        0.886582     0.113418  \n",
       "10       0.884584     0.115416  \n",
       "11       0.913262     0.086738  \n",
       "12       0.922694     0.077306  \n",
       "13       0.995427     0.004573  "
      ]
     },
     "execution_count": 238,
     "metadata": {},
     "output_type": "execute_result"
    }
   ],
   "source": [
    "loan_perf_years['Total Loans Number'] = loan_perf_years['Completed Loans Number']+loan_perf_years['Default Loans Number']\n",
    "loan_perf_years['Completed pct'] = loan_perf_years['Completed Loans Number']/loan_perf_years['Total Loans Number']\n",
    "loan_perf_years['Default pct'] = loan_perf_years['Default Loans Number']/loan_perf_years['Total Loans Number']\n",
    "loan_perf_years"
   ]
  },
  {
   "cell_type": "code",
   "execution_count": 239,
   "metadata": {},
   "outputs": [
    {
     "data": {
      "application/vnd.plotly.v1+json": {
       "config": {
        "plotlyServerURL": "https://plot.ly"
       },
       "data": [
        {
         "name": "Default",
         "type": "bar",
         "x": [
          "2007",
          "2008",
          "2009",
          "2010",
          "2011",
          "2012",
          "2013",
          "2014",
          "2015",
          "2016",
          "2017",
          "2018",
          "2019",
          "2020"
         ],
         "y": [
          0.007384882710686359,
          0.08061420345489444,
          0.04377332880895826,
          0.03743423715095103,
          0.01961114384311085,
          0.01776911612977187,
          0.01853323850562691,
          0.0629999548063452,
          0.11826115136223699,
          0.11341781948340911,
          0.1154160209301938,
          0.08673800259403372,
          0.07730598835183433,
          0.004573170731707317
         ]
        }
       ],
       "layout": {
        "barmode": "stack",
        "template": {
         "data": {
          "bar": [
           {
            "error_x": {
             "color": "#2a3f5f"
            },
            "error_y": {
             "color": "#2a3f5f"
            },
            "marker": {
             "line": {
              "color": "#E5ECF6",
              "width": 0.5
             }
            },
            "type": "bar"
           }
          ],
          "barpolar": [
           {
            "marker": {
             "line": {
              "color": "#E5ECF6",
              "width": 0.5
             }
            },
            "type": "barpolar"
           }
          ],
          "carpet": [
           {
            "aaxis": {
             "endlinecolor": "#2a3f5f",
             "gridcolor": "white",
             "linecolor": "white",
             "minorgridcolor": "white",
             "startlinecolor": "#2a3f5f"
            },
            "baxis": {
             "endlinecolor": "#2a3f5f",
             "gridcolor": "white",
             "linecolor": "white",
             "minorgridcolor": "white",
             "startlinecolor": "#2a3f5f"
            },
            "type": "carpet"
           }
          ],
          "choropleth": [
           {
            "colorbar": {
             "outlinewidth": 0,
             "ticks": ""
            },
            "type": "choropleth"
           }
          ],
          "contour": [
           {
            "colorbar": {
             "outlinewidth": 0,
             "ticks": ""
            },
            "colorscale": [
             [
              0,
              "#0d0887"
             ],
             [
              0.1111111111111111,
              "#46039f"
             ],
             [
              0.2222222222222222,
              "#7201a8"
             ],
             [
              0.3333333333333333,
              "#9c179e"
             ],
             [
              0.4444444444444444,
              "#bd3786"
             ],
             [
              0.5555555555555556,
              "#d8576b"
             ],
             [
              0.6666666666666666,
              "#ed7953"
             ],
             [
              0.7777777777777778,
              "#fb9f3a"
             ],
             [
              0.8888888888888888,
              "#fdca26"
             ],
             [
              1,
              "#f0f921"
             ]
            ],
            "type": "contour"
           }
          ],
          "contourcarpet": [
           {
            "colorbar": {
             "outlinewidth": 0,
             "ticks": ""
            },
            "type": "contourcarpet"
           }
          ],
          "heatmap": [
           {
            "colorbar": {
             "outlinewidth": 0,
             "ticks": ""
            },
            "colorscale": [
             [
              0,
              "#0d0887"
             ],
             [
              0.1111111111111111,
              "#46039f"
             ],
             [
              0.2222222222222222,
              "#7201a8"
             ],
             [
              0.3333333333333333,
              "#9c179e"
             ],
             [
              0.4444444444444444,
              "#bd3786"
             ],
             [
              0.5555555555555556,
              "#d8576b"
             ],
             [
              0.6666666666666666,
              "#ed7953"
             ],
             [
              0.7777777777777778,
              "#fb9f3a"
             ],
             [
              0.8888888888888888,
              "#fdca26"
             ],
             [
              1,
              "#f0f921"
             ]
            ],
            "type": "heatmap"
           }
          ],
          "heatmapgl": [
           {
            "colorbar": {
             "outlinewidth": 0,
             "ticks": ""
            },
            "colorscale": [
             [
              0,
              "#0d0887"
             ],
             [
              0.1111111111111111,
              "#46039f"
             ],
             [
              0.2222222222222222,
              "#7201a8"
             ],
             [
              0.3333333333333333,
              "#9c179e"
             ],
             [
              0.4444444444444444,
              "#bd3786"
             ],
             [
              0.5555555555555556,
              "#d8576b"
             ],
             [
              0.6666666666666666,
              "#ed7953"
             ],
             [
              0.7777777777777778,
              "#fb9f3a"
             ],
             [
              0.8888888888888888,
              "#fdca26"
             ],
             [
              1,
              "#f0f921"
             ]
            ],
            "type": "heatmapgl"
           }
          ],
          "histogram": [
           {
            "marker": {
             "colorbar": {
              "outlinewidth": 0,
              "ticks": ""
             }
            },
            "type": "histogram"
           }
          ],
          "histogram2d": [
           {
            "colorbar": {
             "outlinewidth": 0,
             "ticks": ""
            },
            "colorscale": [
             [
              0,
              "#0d0887"
             ],
             [
              0.1111111111111111,
              "#46039f"
             ],
             [
              0.2222222222222222,
              "#7201a8"
             ],
             [
              0.3333333333333333,
              "#9c179e"
             ],
             [
              0.4444444444444444,
              "#bd3786"
             ],
             [
              0.5555555555555556,
              "#d8576b"
             ],
             [
              0.6666666666666666,
              "#ed7953"
             ],
             [
              0.7777777777777778,
              "#fb9f3a"
             ],
             [
              0.8888888888888888,
              "#fdca26"
             ],
             [
              1,
              "#f0f921"
             ]
            ],
            "type": "histogram2d"
           }
          ],
          "histogram2dcontour": [
           {
            "colorbar": {
             "outlinewidth": 0,
             "ticks": ""
            },
            "colorscale": [
             [
              0,
              "#0d0887"
             ],
             [
              0.1111111111111111,
              "#46039f"
             ],
             [
              0.2222222222222222,
              "#7201a8"
             ],
             [
              0.3333333333333333,
              "#9c179e"
             ],
             [
              0.4444444444444444,
              "#bd3786"
             ],
             [
              0.5555555555555556,
              "#d8576b"
             ],
             [
              0.6666666666666666,
              "#ed7953"
             ],
             [
              0.7777777777777778,
              "#fb9f3a"
             ],
             [
              0.8888888888888888,
              "#fdca26"
             ],
             [
              1,
              "#f0f921"
             ]
            ],
            "type": "histogram2dcontour"
           }
          ],
          "mesh3d": [
           {
            "colorbar": {
             "outlinewidth": 0,
             "ticks": ""
            },
            "type": "mesh3d"
           }
          ],
          "parcoords": [
           {
            "line": {
             "colorbar": {
              "outlinewidth": 0,
              "ticks": ""
             }
            },
            "type": "parcoords"
           }
          ],
          "pie": [
           {
            "automargin": true,
            "type": "pie"
           }
          ],
          "scatter": [
           {
            "marker": {
             "colorbar": {
              "outlinewidth": 0,
              "ticks": ""
             }
            },
            "type": "scatter"
           }
          ],
          "scatter3d": [
           {
            "line": {
             "colorbar": {
              "outlinewidth": 0,
              "ticks": ""
             }
            },
            "marker": {
             "colorbar": {
              "outlinewidth": 0,
              "ticks": ""
             }
            },
            "type": "scatter3d"
           }
          ],
          "scattercarpet": [
           {
            "marker": {
             "colorbar": {
              "outlinewidth": 0,
              "ticks": ""
             }
            },
            "type": "scattercarpet"
           }
          ],
          "scattergeo": [
           {
            "marker": {
             "colorbar": {
              "outlinewidth": 0,
              "ticks": ""
             }
            },
            "type": "scattergeo"
           }
          ],
          "scattergl": [
           {
            "marker": {
             "colorbar": {
              "outlinewidth": 0,
              "ticks": ""
             }
            },
            "type": "scattergl"
           }
          ],
          "scattermapbox": [
           {
            "marker": {
             "colorbar": {
              "outlinewidth": 0,
              "ticks": ""
             }
            },
            "type": "scattermapbox"
           }
          ],
          "scatterpolar": [
           {
            "marker": {
             "colorbar": {
              "outlinewidth": 0,
              "ticks": ""
             }
            },
            "type": "scatterpolar"
           }
          ],
          "scatterpolargl": [
           {
            "marker": {
             "colorbar": {
              "outlinewidth": 0,
              "ticks": ""
             }
            },
            "type": "scatterpolargl"
           }
          ],
          "scatterternary": [
           {
            "marker": {
             "colorbar": {
              "outlinewidth": 0,
              "ticks": ""
             }
            },
            "type": "scatterternary"
           }
          ],
          "surface": [
           {
            "colorbar": {
             "outlinewidth": 0,
             "ticks": ""
            },
            "colorscale": [
             [
              0,
              "#0d0887"
             ],
             [
              0.1111111111111111,
              "#46039f"
             ],
             [
              0.2222222222222222,
              "#7201a8"
             ],
             [
              0.3333333333333333,
              "#9c179e"
             ],
             [
              0.4444444444444444,
              "#bd3786"
             ],
             [
              0.5555555555555556,
              "#d8576b"
             ],
             [
              0.6666666666666666,
              "#ed7953"
             ],
             [
              0.7777777777777778,
              "#fb9f3a"
             ],
             [
              0.8888888888888888,
              "#fdca26"
             ],
             [
              1,
              "#f0f921"
             ]
            ],
            "type": "surface"
           }
          ],
          "table": [
           {
            "cells": {
             "fill": {
              "color": "#EBF0F8"
             },
             "line": {
              "color": "white"
             }
            },
            "header": {
             "fill": {
              "color": "#C8D4E3"
             },
             "line": {
              "color": "white"
             }
            },
            "type": "table"
           }
          ]
         },
         "layout": {
          "annotationdefaults": {
           "arrowcolor": "#2a3f5f",
           "arrowhead": 0,
           "arrowwidth": 1
          },
          "autotypenumbers": "strict",
          "coloraxis": {
           "colorbar": {
            "outlinewidth": 0,
            "ticks": ""
           }
          },
          "colorscale": {
           "diverging": [
            [
             0,
             "#8e0152"
            ],
            [
             0.1,
             "#c51b7d"
            ],
            [
             0.2,
             "#de77ae"
            ],
            [
             0.3,
             "#f1b6da"
            ],
            [
             0.4,
             "#fde0ef"
            ],
            [
             0.5,
             "#f7f7f7"
            ],
            [
             0.6,
             "#e6f5d0"
            ],
            [
             0.7,
             "#b8e186"
            ],
            [
             0.8,
             "#7fbc41"
            ],
            [
             0.9,
             "#4d9221"
            ],
            [
             1,
             "#276419"
            ]
           ],
           "sequential": [
            [
             0,
             "#0d0887"
            ],
            [
             0.1111111111111111,
             "#46039f"
            ],
            [
             0.2222222222222222,
             "#7201a8"
            ],
            [
             0.3333333333333333,
             "#9c179e"
            ],
            [
             0.4444444444444444,
             "#bd3786"
            ],
            [
             0.5555555555555556,
             "#d8576b"
            ],
            [
             0.6666666666666666,
             "#ed7953"
            ],
            [
             0.7777777777777778,
             "#fb9f3a"
            ],
            [
             0.8888888888888888,
             "#fdca26"
            ],
            [
             1,
             "#f0f921"
            ]
           ],
           "sequentialminus": [
            [
             0,
             "#0d0887"
            ],
            [
             0.1111111111111111,
             "#46039f"
            ],
            [
             0.2222222222222222,
             "#7201a8"
            ],
            [
             0.3333333333333333,
             "#9c179e"
            ],
            [
             0.4444444444444444,
             "#bd3786"
            ],
            [
             0.5555555555555556,
             "#d8576b"
            ],
            [
             0.6666666666666666,
             "#ed7953"
            ],
            [
             0.7777777777777778,
             "#fb9f3a"
            ],
            [
             0.8888888888888888,
             "#fdca26"
            ],
            [
             1,
             "#f0f921"
            ]
           ]
          },
          "colorway": [
           "#636efa",
           "#EF553B",
           "#00cc96",
           "#ab63fa",
           "#FFA15A",
           "#19d3f3",
           "#FF6692",
           "#B6E880",
           "#FF97FF",
           "#FECB52"
          ],
          "font": {
           "color": "#2a3f5f"
          },
          "geo": {
           "bgcolor": "white",
           "lakecolor": "white",
           "landcolor": "#E5ECF6",
           "showlakes": true,
           "showland": true,
           "subunitcolor": "white"
          },
          "hoverlabel": {
           "align": "left"
          },
          "hovermode": "closest",
          "mapbox": {
           "style": "light"
          },
          "paper_bgcolor": "white",
          "plot_bgcolor": "#E5ECF6",
          "polar": {
           "angularaxis": {
            "gridcolor": "white",
            "linecolor": "white",
            "ticks": ""
           },
           "bgcolor": "#E5ECF6",
           "radialaxis": {
            "gridcolor": "white",
            "linecolor": "white",
            "ticks": ""
           }
          },
          "scene": {
           "xaxis": {
            "backgroundcolor": "#E5ECF6",
            "gridcolor": "white",
            "gridwidth": 2,
            "linecolor": "white",
            "showbackground": true,
            "ticks": "",
            "zerolinecolor": "white"
           },
           "yaxis": {
            "backgroundcolor": "#E5ECF6",
            "gridcolor": "white",
            "gridwidth": 2,
            "linecolor": "white",
            "showbackground": true,
            "ticks": "",
            "zerolinecolor": "white"
           },
           "zaxis": {
            "backgroundcolor": "#E5ECF6",
            "gridcolor": "white",
            "gridwidth": 2,
            "linecolor": "white",
            "showbackground": true,
            "ticks": "",
            "zerolinecolor": "white"
           }
          },
          "shapedefaults": {
           "line": {
            "color": "#2a3f5f"
           }
          },
          "ternary": {
           "aaxis": {
            "gridcolor": "white",
            "linecolor": "white",
            "ticks": ""
           },
           "baxis": {
            "gridcolor": "white",
            "linecolor": "white",
            "ticks": ""
           },
           "bgcolor": "#E5ECF6",
           "caxis": {
            "gridcolor": "white",
            "linecolor": "white",
            "ticks": ""
           }
          },
          "title": {
           "x": 0.05
          },
          "xaxis": {
           "automargin": true,
           "gridcolor": "white",
           "linecolor": "white",
           "ticks": "",
           "title": {
            "standoff": 15
           },
           "zerolinecolor": "white",
           "zerolinewidth": 2
          },
          "yaxis": {
           "automargin": true,
           "gridcolor": "white",
           "linecolor": "white",
           "ticks": "",
           "title": {
            "standoff": 15
           },
           "zerolinecolor": "white",
           "zerolinewidth": 2
          }
         }
        },
        "title": {
         "text": "Bar chart of default rates over time",
         "x": 0.5
        },
        "yaxis": {
         "title": {
          "text": "Loans amount"
         }
        }
       }
      },
      "text/html": [
       "<div>                            <div id=\"f5f5c54e-3ee8-458f-ae7d-c1961367eed6\" class=\"plotly-graph-div\" style=\"height:525px; width:100%;\"></div>            <script type=\"text/javascript\">                require([\"plotly\"], function(Plotly) {                    window.PLOTLYENV=window.PLOTLYENV || {};                                    if (document.getElementById(\"f5f5c54e-3ee8-458f-ae7d-c1961367eed6\")) {                    Plotly.newPlot(                        \"f5f5c54e-3ee8-458f-ae7d-c1961367eed6\",                        [{\"name\": \"Default\", \"type\": \"bar\", \"x\": [\"2007\", \"2008\", \"2009\", \"2010\", \"2011\", \"2012\", \"2013\", \"2014\", \"2015\", \"2016\", \"2017\", \"2018\", \"2019\", \"2020\"], \"y\": [0.007384882710686359, 0.08061420345489444, 0.04377332880895826, 0.03743423715095103, 0.01961114384311085, 0.01776911612977187, 0.01853323850562691, 0.0629999548063452, 0.11826115136223699, 0.11341781948340911, 0.1154160209301938, 0.08673800259403372, 0.07730598835183433, 0.004573170731707317]}],                        {\"barmode\": \"stack\", \"template\": {\"data\": {\"bar\": [{\"error_x\": {\"color\": \"#2a3f5f\"}, \"error_y\": {\"color\": \"#2a3f5f\"}, \"marker\": {\"line\": {\"color\": \"#E5ECF6\", \"width\": 0.5}}, \"type\": \"bar\"}], \"barpolar\": [{\"marker\": {\"line\": {\"color\": \"#E5ECF6\", \"width\": 0.5}}, \"type\": \"barpolar\"}], \"carpet\": [{\"aaxis\": {\"endlinecolor\": \"#2a3f5f\", \"gridcolor\": \"white\", \"linecolor\": \"white\", \"minorgridcolor\": \"white\", \"startlinecolor\": \"#2a3f5f\"}, \"baxis\": {\"endlinecolor\": \"#2a3f5f\", \"gridcolor\": \"white\", \"linecolor\": \"white\", \"minorgridcolor\": \"white\", \"startlinecolor\": \"#2a3f5f\"}, \"type\": \"carpet\"}], \"choropleth\": [{\"colorbar\": {\"outlinewidth\": 0, \"ticks\": \"\"}, \"type\": \"choropleth\"}], \"contour\": [{\"colorbar\": {\"outlinewidth\": 0, \"ticks\": \"\"}, \"colorscale\": [[0.0, \"#0d0887\"], [0.1111111111111111, \"#46039f\"], [0.2222222222222222, \"#7201a8\"], [0.3333333333333333, \"#9c179e\"], [0.4444444444444444, \"#bd3786\"], [0.5555555555555556, \"#d8576b\"], [0.6666666666666666, \"#ed7953\"], [0.7777777777777778, \"#fb9f3a\"], [0.8888888888888888, \"#fdca26\"], [1.0, \"#f0f921\"]], \"type\": \"contour\"}], \"contourcarpet\": [{\"colorbar\": {\"outlinewidth\": 0, \"ticks\": \"\"}, \"type\": \"contourcarpet\"}], \"heatmap\": [{\"colorbar\": {\"outlinewidth\": 0, \"ticks\": \"\"}, \"colorscale\": [[0.0, \"#0d0887\"], [0.1111111111111111, \"#46039f\"], [0.2222222222222222, \"#7201a8\"], [0.3333333333333333, \"#9c179e\"], [0.4444444444444444, \"#bd3786\"], [0.5555555555555556, \"#d8576b\"], [0.6666666666666666, \"#ed7953\"], [0.7777777777777778, \"#fb9f3a\"], [0.8888888888888888, \"#fdca26\"], [1.0, \"#f0f921\"]], \"type\": \"heatmap\"}], \"heatmapgl\": [{\"colorbar\": {\"outlinewidth\": 0, \"ticks\": \"\"}, \"colorscale\": [[0.0, \"#0d0887\"], [0.1111111111111111, \"#46039f\"], [0.2222222222222222, \"#7201a8\"], [0.3333333333333333, \"#9c179e\"], [0.4444444444444444, \"#bd3786\"], [0.5555555555555556, \"#d8576b\"], [0.6666666666666666, \"#ed7953\"], [0.7777777777777778, \"#fb9f3a\"], [0.8888888888888888, \"#fdca26\"], [1.0, \"#f0f921\"]], \"type\": \"heatmapgl\"}], \"histogram\": [{\"marker\": {\"colorbar\": {\"outlinewidth\": 0, \"ticks\": \"\"}}, \"type\": \"histogram\"}], \"histogram2d\": [{\"colorbar\": {\"outlinewidth\": 0, \"ticks\": \"\"}, \"colorscale\": [[0.0, \"#0d0887\"], [0.1111111111111111, \"#46039f\"], [0.2222222222222222, \"#7201a8\"], [0.3333333333333333, \"#9c179e\"], [0.4444444444444444, \"#bd3786\"], [0.5555555555555556, \"#d8576b\"], [0.6666666666666666, \"#ed7953\"], [0.7777777777777778, \"#fb9f3a\"], [0.8888888888888888, \"#fdca26\"], [1.0, \"#f0f921\"]], \"type\": \"histogram2d\"}], \"histogram2dcontour\": [{\"colorbar\": {\"outlinewidth\": 0, \"ticks\": \"\"}, \"colorscale\": [[0.0, \"#0d0887\"], [0.1111111111111111, \"#46039f\"], [0.2222222222222222, \"#7201a8\"], [0.3333333333333333, \"#9c179e\"], [0.4444444444444444, \"#bd3786\"], [0.5555555555555556, \"#d8576b\"], [0.6666666666666666, \"#ed7953\"], [0.7777777777777778, \"#fb9f3a\"], [0.8888888888888888, \"#fdca26\"], [1.0, \"#f0f921\"]], \"type\": \"histogram2dcontour\"}], \"mesh3d\": [{\"colorbar\": {\"outlinewidth\": 0, \"ticks\": \"\"}, \"type\": \"mesh3d\"}], \"parcoords\": [{\"line\": {\"colorbar\": {\"outlinewidth\": 0, \"ticks\": \"\"}}, \"type\": \"parcoords\"}], \"pie\": [{\"automargin\": true, \"type\": \"pie\"}], \"scatter\": [{\"marker\": {\"colorbar\": {\"outlinewidth\": 0, \"ticks\": \"\"}}, \"type\": \"scatter\"}], \"scatter3d\": [{\"line\": {\"colorbar\": {\"outlinewidth\": 0, \"ticks\": \"\"}}, \"marker\": {\"colorbar\": {\"outlinewidth\": 0, \"ticks\": \"\"}}, \"type\": \"scatter3d\"}], \"scattercarpet\": [{\"marker\": {\"colorbar\": {\"outlinewidth\": 0, \"ticks\": \"\"}}, \"type\": \"scattercarpet\"}], \"scattergeo\": [{\"marker\": {\"colorbar\": {\"outlinewidth\": 0, \"ticks\": \"\"}}, \"type\": \"scattergeo\"}], \"scattergl\": [{\"marker\": {\"colorbar\": {\"outlinewidth\": 0, \"ticks\": \"\"}}, \"type\": \"scattergl\"}], \"scattermapbox\": [{\"marker\": {\"colorbar\": {\"outlinewidth\": 0, \"ticks\": \"\"}}, \"type\": \"scattermapbox\"}], \"scatterpolar\": [{\"marker\": {\"colorbar\": {\"outlinewidth\": 0, \"ticks\": \"\"}}, \"type\": \"scatterpolar\"}], \"scatterpolargl\": [{\"marker\": {\"colorbar\": {\"outlinewidth\": 0, \"ticks\": \"\"}}, \"type\": \"scatterpolargl\"}], \"scatterternary\": [{\"marker\": {\"colorbar\": {\"outlinewidth\": 0, \"ticks\": \"\"}}, \"type\": \"scatterternary\"}], \"surface\": [{\"colorbar\": {\"outlinewidth\": 0, \"ticks\": \"\"}, \"colorscale\": [[0.0, \"#0d0887\"], [0.1111111111111111, \"#46039f\"], [0.2222222222222222, \"#7201a8\"], [0.3333333333333333, \"#9c179e\"], [0.4444444444444444, \"#bd3786\"], [0.5555555555555556, \"#d8576b\"], [0.6666666666666666, \"#ed7953\"], [0.7777777777777778, \"#fb9f3a\"], [0.8888888888888888, \"#fdca26\"], [1.0, \"#f0f921\"]], \"type\": \"surface\"}], \"table\": [{\"cells\": {\"fill\": {\"color\": \"#EBF0F8\"}, \"line\": {\"color\": \"white\"}}, \"header\": {\"fill\": {\"color\": \"#C8D4E3\"}, \"line\": {\"color\": \"white\"}}, \"type\": \"table\"}]}, \"layout\": {\"annotationdefaults\": {\"arrowcolor\": \"#2a3f5f\", \"arrowhead\": 0, \"arrowwidth\": 1}, \"autotypenumbers\": \"strict\", \"coloraxis\": {\"colorbar\": {\"outlinewidth\": 0, \"ticks\": \"\"}}, \"colorscale\": {\"diverging\": [[0, \"#8e0152\"], [0.1, \"#c51b7d\"], [0.2, \"#de77ae\"], [0.3, \"#f1b6da\"], [0.4, \"#fde0ef\"], [0.5, \"#f7f7f7\"], [0.6, \"#e6f5d0\"], [0.7, \"#b8e186\"], [0.8, \"#7fbc41\"], [0.9, \"#4d9221\"], [1, \"#276419\"]], \"sequential\": [[0.0, \"#0d0887\"], [0.1111111111111111, \"#46039f\"], [0.2222222222222222, \"#7201a8\"], [0.3333333333333333, \"#9c179e\"], [0.4444444444444444, \"#bd3786\"], [0.5555555555555556, \"#d8576b\"], [0.6666666666666666, \"#ed7953\"], [0.7777777777777778, \"#fb9f3a\"], [0.8888888888888888, \"#fdca26\"], [1.0, \"#f0f921\"]], \"sequentialminus\": [[0.0, \"#0d0887\"], [0.1111111111111111, \"#46039f\"], [0.2222222222222222, \"#7201a8\"], [0.3333333333333333, \"#9c179e\"], [0.4444444444444444, \"#bd3786\"], [0.5555555555555556, \"#d8576b\"], [0.6666666666666666, \"#ed7953\"], [0.7777777777777778, \"#fb9f3a\"], [0.8888888888888888, \"#fdca26\"], [1.0, \"#f0f921\"]]}, \"colorway\": [\"#636efa\", \"#EF553B\", \"#00cc96\", \"#ab63fa\", \"#FFA15A\", \"#19d3f3\", \"#FF6692\", \"#B6E880\", \"#FF97FF\", \"#FECB52\"], \"font\": {\"color\": \"#2a3f5f\"}, \"geo\": {\"bgcolor\": \"white\", \"lakecolor\": \"white\", \"landcolor\": \"#E5ECF6\", \"showlakes\": true, \"showland\": true, \"subunitcolor\": \"white\"}, \"hoverlabel\": {\"align\": \"left\"}, \"hovermode\": \"closest\", \"mapbox\": {\"style\": \"light\"}, \"paper_bgcolor\": \"white\", \"plot_bgcolor\": \"#E5ECF6\", \"polar\": {\"angularaxis\": {\"gridcolor\": \"white\", \"linecolor\": \"white\", \"ticks\": \"\"}, \"bgcolor\": \"#E5ECF6\", \"radialaxis\": {\"gridcolor\": \"white\", \"linecolor\": \"white\", \"ticks\": \"\"}}, \"scene\": {\"xaxis\": {\"backgroundcolor\": \"#E5ECF6\", \"gridcolor\": \"white\", \"gridwidth\": 2, \"linecolor\": \"white\", \"showbackground\": true, \"ticks\": \"\", \"zerolinecolor\": \"white\"}, \"yaxis\": {\"backgroundcolor\": \"#E5ECF6\", \"gridcolor\": \"white\", \"gridwidth\": 2, \"linecolor\": \"white\", \"showbackground\": true, \"ticks\": \"\", \"zerolinecolor\": \"white\"}, \"zaxis\": {\"backgroundcolor\": \"#E5ECF6\", \"gridcolor\": \"white\", \"gridwidth\": 2, \"linecolor\": \"white\", \"showbackground\": true, \"ticks\": \"\", \"zerolinecolor\": \"white\"}}, \"shapedefaults\": {\"line\": {\"color\": \"#2a3f5f\"}}, \"ternary\": {\"aaxis\": {\"gridcolor\": \"white\", \"linecolor\": \"white\", \"ticks\": \"\"}, \"baxis\": {\"gridcolor\": \"white\", \"linecolor\": \"white\", \"ticks\": \"\"}, \"bgcolor\": \"#E5ECF6\", \"caxis\": {\"gridcolor\": \"white\", \"linecolor\": \"white\", \"ticks\": \"\"}}, \"title\": {\"x\": 0.05}, \"xaxis\": {\"automargin\": true, \"gridcolor\": \"white\", \"linecolor\": \"white\", \"ticks\": \"\", \"title\": {\"standoff\": 15}, \"zerolinecolor\": \"white\", \"zerolinewidth\": 2}, \"yaxis\": {\"automargin\": true, \"gridcolor\": \"white\", \"linecolor\": \"white\", \"ticks\": \"\", \"title\": {\"standoff\": 15}, \"zerolinecolor\": \"white\", \"zerolinewidth\": 2}}}, \"title\": {\"text\": \"Bar chart of default rates over time\", \"x\": 0.5}, \"yaxis\": {\"title\": {\"text\": \"Loans amount\"}}},                        {\"responsive\": true}                    ).then(function(){\n",
       "                            \n",
       "var gd = document.getElementById('f5f5c54e-3ee8-458f-ae7d-c1961367eed6');\n",
       "var x = new MutationObserver(function (mutations, observer) {{\n",
       "        var display = window.getComputedStyle(gd).display;\n",
       "        if (!display || display === 'none') {{\n",
       "            console.log([gd, 'removed!']);\n",
       "            Plotly.purge(gd);\n",
       "            observer.disconnect();\n",
       "        }}\n",
       "}});\n",
       "\n",
       "// Listen for the removal of the full notebook cells\n",
       "var notebookContainer = gd.closest('#notebook-container');\n",
       "if (notebookContainer) {{\n",
       "    x.observe(notebookContainer, {childList: true});\n",
       "}}\n",
       "\n",
       "// Listen for the clearing of the current output cell\n",
       "var outputEl = gd.closest('.output');\n",
       "if (outputEl) {{\n",
       "    x.observe(outputEl, {childList: true});\n",
       "}}\n",
       "\n",
       "                        })                };                });            </script>        </div>"
      ]
     },
     "metadata": {},
     "output_type": "display_data"
    }
   ],
   "source": [
    "#display bar chart of default rates over the years\n",
    "\n",
    "bar_plots = [\n",
    "    go.Bar(x=loan_perf_years['Disbursal Year'], y=loan_perf_years['Default pct'], name='Default'),\n",
    "]\n",
    "layout = go.Layout(\n",
    "    title = go.layout.Title(text='Bar chart of default rates over time', x=0.5),\n",
    "    yaxis_title = 'Loans amount'\n",
    ")\n",
    "fig = go.Figure(data=bar_plots, layout=layout)\n",
    "fig.update_layout(barmode='stack')\n",
    "fig.show()"
   ]
  },
  {
   "cell_type": "code",
   "execution_count": 240,
   "metadata": {},
   "outputs": [
    {
     "data": {
      "text/html": [
       "<div>\n",
       "<style scoped>\n",
       "    .dataframe tbody tr th:only-of-type {\n",
       "        vertical-align: middle;\n",
       "    }\n",
       "\n",
       "    .dataframe tbody tr th {\n",
       "        vertical-align: top;\n",
       "    }\n",
       "\n",
       "    .dataframe thead th {\n",
       "        text-align: right;\n",
       "    }\n",
       "</style>\n",
       "<table border=\"1\" class=\"dataframe\">\n",
       "  <thead>\n",
       "    <tr style=\"text-align: right;\">\n",
       "      <th></th>\n",
       "      <th>Disbursal Year</th>\n",
       "      <th>Loans Amount</th>\n",
       "      <th>Number of Loans</th>\n",
       "    </tr>\n",
       "  </thead>\n",
       "  <tbody>\n",
       "    <tr>\n",
       "      <th>0</th>\n",
       "      <td>2007</td>\n",
       "      <td>94060</td>\n",
       "      <td>17</td>\n",
       "    </tr>\n",
       "    <tr>\n",
       "      <th>1</th>\n",
       "      <td>2008</td>\n",
       "      <td>1194500</td>\n",
       "      <td>210</td>\n",
       "    </tr>\n",
       "    <tr>\n",
       "      <th>2</th>\n",
       "      <td>2009</td>\n",
       "      <td>1478470</td>\n",
       "      <td>258</td>\n",
       "    </tr>\n",
       "    <tr>\n",
       "      <th>3</th>\n",
       "      <td>2010</td>\n",
       "      <td>1960690</td>\n",
       "      <td>370</td>\n",
       "    </tr>\n",
       "    <tr>\n",
       "      <th>4</th>\n",
       "      <td>2011</td>\n",
       "      <td>1070810</td>\n",
       "      <td>233</td>\n",
       "    </tr>\n",
       "    <tr>\n",
       "      <th>5</th>\n",
       "      <td>2012</td>\n",
       "      <td>1477010</td>\n",
       "      <td>310</td>\n",
       "    </tr>\n",
       "    <tr>\n",
       "      <th>6</th>\n",
       "      <td>2013</td>\n",
       "      <td>2355950</td>\n",
       "      <td>443</td>\n",
       "    </tr>\n",
       "    <tr>\n",
       "      <th>7</th>\n",
       "      <td>2014</td>\n",
       "      <td>10180920</td>\n",
       "      <td>1394</td>\n",
       "    </tr>\n",
       "    <tr>\n",
       "      <th>8</th>\n",
       "      <td>2015</td>\n",
       "      <td>40140070</td>\n",
       "      <td>5109</td>\n",
       "    </tr>\n",
       "    <tr>\n",
       "      <th>9</th>\n",
       "      <td>2016</td>\n",
       "      <td>45119360</td>\n",
       "      <td>5862</td>\n",
       "    </tr>\n",
       "    <tr>\n",
       "      <th>10</th>\n",
       "      <td>2017</td>\n",
       "      <td>52335365</td>\n",
       "      <td>6926</td>\n",
       "    </tr>\n",
       "    <tr>\n",
       "      <th>11</th>\n",
       "      <td>2018</td>\n",
       "      <td>29960176</td>\n",
       "      <td>3210</td>\n",
       "    </tr>\n",
       "    <tr>\n",
       "      <th>12</th>\n",
       "      <td>2019</td>\n",
       "      <td>13688728</td>\n",
       "      <td>1553</td>\n",
       "    </tr>\n",
       "    <tr>\n",
       "      <th>13</th>\n",
       "      <td>2020</td>\n",
       "      <td>15920</td>\n",
       "      <td>3</td>\n",
       "    </tr>\n",
       "  </tbody>\n",
       "</table>\n",
       "</div>"
      ],
      "text/plain": [
       "   Disbursal Year  Loans Amount  Number of Loans\n",
       "0            2007         94060               17\n",
       "1            2008       1194500              210\n",
       "2            2009       1478470              258\n",
       "3            2010       1960690              370\n",
       "4            2011       1070810              233\n",
       "5            2012       1477010              310\n",
       "6            2013       2355950              443\n",
       "7            2014      10180920             1394\n",
       "8            2015      40140070             5109\n",
       "9            2016      45119360             5862\n",
       "10           2017      52335365             6926\n",
       "11           2018      29960176             3210\n",
       "12           2019      13688728             1553\n",
       "13           2020         15920                3"
      ]
     },
     "metadata": {},
     "output_type": "display_data"
    },
    {
     "data": {
      "application/vnd.plotly.v1+json": {
       "config": {
        "plotlyServerURL": "https://plot.ly"
       },
       "data": [
        {
         "alignmentgroup": "True",
         "hovertemplate": "Disbursal Year=%{x}<br>Loans Amount=%{y}<br>Number of Loans=%{marker.color}<extra></extra>",
         "legendgroup": "",
         "marker": {
          "color": [
           17,
           210,
           258,
           370,
           233,
           310,
           443,
           1394,
           5109,
           5862,
           6926,
           3210,
           1553,
           3
          ],
          "coloraxis": "coloraxis"
         },
         "name": "",
         "offsetgroup": "",
         "orientation": "v",
         "showlegend": false,
         "textposition": "auto",
         "type": "bar",
         "x": [
          "2007",
          "2008",
          "2009",
          "2010",
          "2011",
          "2012",
          "2013",
          "2014",
          "2015",
          "2016",
          "2017",
          "2018",
          "2019",
          "2020"
         ],
         "xaxis": "x",
         "y": [
          94060,
          1194500,
          1478470,
          1960690,
          1070810,
          1477010,
          2355950,
          10180920,
          40140070,
          45119360,
          52335365,
          29960176,
          13688728,
          15920
         ],
         "yaxis": "y"
        }
       ],
       "layout": {
        "barmode": "relative",
        "coloraxis": {
         "colorbar": {
          "title": {
           "text": "Number of Loans"
          }
         },
         "colorscale": [
          [
           0,
           "#0d0887"
          ],
          [
           0.1111111111111111,
           "#46039f"
          ],
          [
           0.2222222222222222,
           "#7201a8"
          ],
          [
           0.3333333333333333,
           "#9c179e"
          ],
          [
           0.4444444444444444,
           "#bd3786"
          ],
          [
           0.5555555555555556,
           "#d8576b"
          ],
          [
           0.6666666666666666,
           "#ed7953"
          ],
          [
           0.7777777777777778,
           "#fb9f3a"
          ],
          [
           0.8888888888888888,
           "#fdca26"
          ],
          [
           1,
           "#f0f921"
          ]
         ]
        },
        "height": 500,
        "legend": {
         "tracegroupgap": 0
        },
        "margin": {
         "t": 60
        },
        "template": {
         "data": {
          "bar": [
           {
            "error_x": {
             "color": "#2a3f5f"
            },
            "error_y": {
             "color": "#2a3f5f"
            },
            "marker": {
             "line": {
              "color": "#E5ECF6",
              "width": 0.5
             }
            },
            "type": "bar"
           }
          ],
          "barpolar": [
           {
            "marker": {
             "line": {
              "color": "#E5ECF6",
              "width": 0.5
             }
            },
            "type": "barpolar"
           }
          ],
          "carpet": [
           {
            "aaxis": {
             "endlinecolor": "#2a3f5f",
             "gridcolor": "white",
             "linecolor": "white",
             "minorgridcolor": "white",
             "startlinecolor": "#2a3f5f"
            },
            "baxis": {
             "endlinecolor": "#2a3f5f",
             "gridcolor": "white",
             "linecolor": "white",
             "minorgridcolor": "white",
             "startlinecolor": "#2a3f5f"
            },
            "type": "carpet"
           }
          ],
          "choropleth": [
           {
            "colorbar": {
             "outlinewidth": 0,
             "ticks": ""
            },
            "type": "choropleth"
           }
          ],
          "contour": [
           {
            "colorbar": {
             "outlinewidth": 0,
             "ticks": ""
            },
            "colorscale": [
             [
              0,
              "#0d0887"
             ],
             [
              0.1111111111111111,
              "#46039f"
             ],
             [
              0.2222222222222222,
              "#7201a8"
             ],
             [
              0.3333333333333333,
              "#9c179e"
             ],
             [
              0.4444444444444444,
              "#bd3786"
             ],
             [
              0.5555555555555556,
              "#d8576b"
             ],
             [
              0.6666666666666666,
              "#ed7953"
             ],
             [
              0.7777777777777778,
              "#fb9f3a"
             ],
             [
              0.8888888888888888,
              "#fdca26"
             ],
             [
              1,
              "#f0f921"
             ]
            ],
            "type": "contour"
           }
          ],
          "contourcarpet": [
           {
            "colorbar": {
             "outlinewidth": 0,
             "ticks": ""
            },
            "type": "contourcarpet"
           }
          ],
          "heatmap": [
           {
            "colorbar": {
             "outlinewidth": 0,
             "ticks": ""
            },
            "colorscale": [
             [
              0,
              "#0d0887"
             ],
             [
              0.1111111111111111,
              "#46039f"
             ],
             [
              0.2222222222222222,
              "#7201a8"
             ],
             [
              0.3333333333333333,
              "#9c179e"
             ],
             [
              0.4444444444444444,
              "#bd3786"
             ],
             [
              0.5555555555555556,
              "#d8576b"
             ],
             [
              0.6666666666666666,
              "#ed7953"
             ],
             [
              0.7777777777777778,
              "#fb9f3a"
             ],
             [
              0.8888888888888888,
              "#fdca26"
             ],
             [
              1,
              "#f0f921"
             ]
            ],
            "type": "heatmap"
           }
          ],
          "heatmapgl": [
           {
            "colorbar": {
             "outlinewidth": 0,
             "ticks": ""
            },
            "colorscale": [
             [
              0,
              "#0d0887"
             ],
             [
              0.1111111111111111,
              "#46039f"
             ],
             [
              0.2222222222222222,
              "#7201a8"
             ],
             [
              0.3333333333333333,
              "#9c179e"
             ],
             [
              0.4444444444444444,
              "#bd3786"
             ],
             [
              0.5555555555555556,
              "#d8576b"
             ],
             [
              0.6666666666666666,
              "#ed7953"
             ],
             [
              0.7777777777777778,
              "#fb9f3a"
             ],
             [
              0.8888888888888888,
              "#fdca26"
             ],
             [
              1,
              "#f0f921"
             ]
            ],
            "type": "heatmapgl"
           }
          ],
          "histogram": [
           {
            "marker": {
             "colorbar": {
              "outlinewidth": 0,
              "ticks": ""
             }
            },
            "type": "histogram"
           }
          ],
          "histogram2d": [
           {
            "colorbar": {
             "outlinewidth": 0,
             "ticks": ""
            },
            "colorscale": [
             [
              0,
              "#0d0887"
             ],
             [
              0.1111111111111111,
              "#46039f"
             ],
             [
              0.2222222222222222,
              "#7201a8"
             ],
             [
              0.3333333333333333,
              "#9c179e"
             ],
             [
              0.4444444444444444,
              "#bd3786"
             ],
             [
              0.5555555555555556,
              "#d8576b"
             ],
             [
              0.6666666666666666,
              "#ed7953"
             ],
             [
              0.7777777777777778,
              "#fb9f3a"
             ],
             [
              0.8888888888888888,
              "#fdca26"
             ],
             [
              1,
              "#f0f921"
             ]
            ],
            "type": "histogram2d"
           }
          ],
          "histogram2dcontour": [
           {
            "colorbar": {
             "outlinewidth": 0,
             "ticks": ""
            },
            "colorscale": [
             [
              0,
              "#0d0887"
             ],
             [
              0.1111111111111111,
              "#46039f"
             ],
             [
              0.2222222222222222,
              "#7201a8"
             ],
             [
              0.3333333333333333,
              "#9c179e"
             ],
             [
              0.4444444444444444,
              "#bd3786"
             ],
             [
              0.5555555555555556,
              "#d8576b"
             ],
             [
              0.6666666666666666,
              "#ed7953"
             ],
             [
              0.7777777777777778,
              "#fb9f3a"
             ],
             [
              0.8888888888888888,
              "#fdca26"
             ],
             [
              1,
              "#f0f921"
             ]
            ],
            "type": "histogram2dcontour"
           }
          ],
          "mesh3d": [
           {
            "colorbar": {
             "outlinewidth": 0,
             "ticks": ""
            },
            "type": "mesh3d"
           }
          ],
          "parcoords": [
           {
            "line": {
             "colorbar": {
              "outlinewidth": 0,
              "ticks": ""
             }
            },
            "type": "parcoords"
           }
          ],
          "pie": [
           {
            "automargin": true,
            "type": "pie"
           }
          ],
          "scatter": [
           {
            "marker": {
             "colorbar": {
              "outlinewidth": 0,
              "ticks": ""
             }
            },
            "type": "scatter"
           }
          ],
          "scatter3d": [
           {
            "line": {
             "colorbar": {
              "outlinewidth": 0,
              "ticks": ""
             }
            },
            "marker": {
             "colorbar": {
              "outlinewidth": 0,
              "ticks": ""
             }
            },
            "type": "scatter3d"
           }
          ],
          "scattercarpet": [
           {
            "marker": {
             "colorbar": {
              "outlinewidth": 0,
              "ticks": ""
             }
            },
            "type": "scattercarpet"
           }
          ],
          "scattergeo": [
           {
            "marker": {
             "colorbar": {
              "outlinewidth": 0,
              "ticks": ""
             }
            },
            "type": "scattergeo"
           }
          ],
          "scattergl": [
           {
            "marker": {
             "colorbar": {
              "outlinewidth": 0,
              "ticks": ""
             }
            },
            "type": "scattergl"
           }
          ],
          "scattermapbox": [
           {
            "marker": {
             "colorbar": {
              "outlinewidth": 0,
              "ticks": ""
             }
            },
            "type": "scattermapbox"
           }
          ],
          "scatterpolar": [
           {
            "marker": {
             "colorbar": {
              "outlinewidth": 0,
              "ticks": ""
             }
            },
            "type": "scatterpolar"
           }
          ],
          "scatterpolargl": [
           {
            "marker": {
             "colorbar": {
              "outlinewidth": 0,
              "ticks": ""
             }
            },
            "type": "scatterpolargl"
           }
          ],
          "scatterternary": [
           {
            "marker": {
             "colorbar": {
              "outlinewidth": 0,
              "ticks": ""
             }
            },
            "type": "scatterternary"
           }
          ],
          "surface": [
           {
            "colorbar": {
             "outlinewidth": 0,
             "ticks": ""
            },
            "colorscale": [
             [
              0,
              "#0d0887"
             ],
             [
              0.1111111111111111,
              "#46039f"
             ],
             [
              0.2222222222222222,
              "#7201a8"
             ],
             [
              0.3333333333333333,
              "#9c179e"
             ],
             [
              0.4444444444444444,
              "#bd3786"
             ],
             [
              0.5555555555555556,
              "#d8576b"
             ],
             [
              0.6666666666666666,
              "#ed7953"
             ],
             [
              0.7777777777777778,
              "#fb9f3a"
             ],
             [
              0.8888888888888888,
              "#fdca26"
             ],
             [
              1,
              "#f0f921"
             ]
            ],
            "type": "surface"
           }
          ],
          "table": [
           {
            "cells": {
             "fill": {
              "color": "#EBF0F8"
             },
             "line": {
              "color": "white"
             }
            },
            "header": {
             "fill": {
              "color": "#C8D4E3"
             },
             "line": {
              "color": "white"
             }
            },
            "type": "table"
           }
          ]
         },
         "layout": {
          "annotationdefaults": {
           "arrowcolor": "#2a3f5f",
           "arrowhead": 0,
           "arrowwidth": 1
          },
          "autotypenumbers": "strict",
          "coloraxis": {
           "colorbar": {
            "outlinewidth": 0,
            "ticks": ""
           }
          },
          "colorscale": {
           "diverging": [
            [
             0,
             "#8e0152"
            ],
            [
             0.1,
             "#c51b7d"
            ],
            [
             0.2,
             "#de77ae"
            ],
            [
             0.3,
             "#f1b6da"
            ],
            [
             0.4,
             "#fde0ef"
            ],
            [
             0.5,
             "#f7f7f7"
            ],
            [
             0.6,
             "#e6f5d0"
            ],
            [
             0.7,
             "#b8e186"
            ],
            [
             0.8,
             "#7fbc41"
            ],
            [
             0.9,
             "#4d9221"
            ],
            [
             1,
             "#276419"
            ]
           ],
           "sequential": [
            [
             0,
             "#0d0887"
            ],
            [
             0.1111111111111111,
             "#46039f"
            ],
            [
             0.2222222222222222,
             "#7201a8"
            ],
            [
             0.3333333333333333,
             "#9c179e"
            ],
            [
             0.4444444444444444,
             "#bd3786"
            ],
            [
             0.5555555555555556,
             "#d8576b"
            ],
            [
             0.6666666666666666,
             "#ed7953"
            ],
            [
             0.7777777777777778,
             "#fb9f3a"
            ],
            [
             0.8888888888888888,
             "#fdca26"
            ],
            [
             1,
             "#f0f921"
            ]
           ],
           "sequentialminus": [
            [
             0,
             "#0d0887"
            ],
            [
             0.1111111111111111,
             "#46039f"
            ],
            [
             0.2222222222222222,
             "#7201a8"
            ],
            [
             0.3333333333333333,
             "#9c179e"
            ],
            [
             0.4444444444444444,
             "#bd3786"
            ],
            [
             0.5555555555555556,
             "#d8576b"
            ],
            [
             0.6666666666666666,
             "#ed7953"
            ],
            [
             0.7777777777777778,
             "#fb9f3a"
            ],
            [
             0.8888888888888888,
             "#fdca26"
            ],
            [
             1,
             "#f0f921"
            ]
           ]
          },
          "colorway": [
           "#636efa",
           "#EF553B",
           "#00cc96",
           "#ab63fa",
           "#FFA15A",
           "#19d3f3",
           "#FF6692",
           "#B6E880",
           "#FF97FF",
           "#FECB52"
          ],
          "font": {
           "color": "#2a3f5f"
          },
          "geo": {
           "bgcolor": "white",
           "lakecolor": "white",
           "landcolor": "#E5ECF6",
           "showlakes": true,
           "showland": true,
           "subunitcolor": "white"
          },
          "hoverlabel": {
           "align": "left"
          },
          "hovermode": "closest",
          "mapbox": {
           "style": "light"
          },
          "paper_bgcolor": "white",
          "plot_bgcolor": "#E5ECF6",
          "polar": {
           "angularaxis": {
            "gridcolor": "white",
            "linecolor": "white",
            "ticks": ""
           },
           "bgcolor": "#E5ECF6",
           "radialaxis": {
            "gridcolor": "white",
            "linecolor": "white",
            "ticks": ""
           }
          },
          "scene": {
           "xaxis": {
            "backgroundcolor": "#E5ECF6",
            "gridcolor": "white",
            "gridwidth": 2,
            "linecolor": "white",
            "showbackground": true,
            "ticks": "",
            "zerolinecolor": "white"
           },
           "yaxis": {
            "backgroundcolor": "#E5ECF6",
            "gridcolor": "white",
            "gridwidth": 2,
            "linecolor": "white",
            "showbackground": true,
            "ticks": "",
            "zerolinecolor": "white"
           },
           "zaxis": {
            "backgroundcolor": "#E5ECF6",
            "gridcolor": "white",
            "gridwidth": 2,
            "linecolor": "white",
            "showbackground": true,
            "ticks": "",
            "zerolinecolor": "white"
           }
          },
          "shapedefaults": {
           "line": {
            "color": "#2a3f5f"
           }
          },
          "ternary": {
           "aaxis": {
            "gridcolor": "white",
            "linecolor": "white",
            "ticks": ""
           },
           "baxis": {
            "gridcolor": "white",
            "linecolor": "white",
            "ticks": ""
           },
           "bgcolor": "#E5ECF6",
           "caxis": {
            "gridcolor": "white",
            "linecolor": "white",
            "ticks": ""
           }
          },
          "title": {
           "x": 0.05
          },
          "xaxis": {
           "automargin": true,
           "gridcolor": "white",
           "linecolor": "white",
           "ticks": "",
           "title": {
            "standoff": 15
           },
           "zerolinecolor": "white",
           "zerolinewidth": 2
          },
          "yaxis": {
           "automargin": true,
           "gridcolor": "white",
           "linecolor": "white",
           "ticks": "",
           "title": {
            "standoff": 15
           },
           "zerolinecolor": "white",
           "zerolinewidth": 2
          }
         }
        },
        "title": {
         "text": "Total amount of loans for each year",
         "x": 0.5
        },
        "xaxis": {
         "anchor": "y",
         "domain": [
          0,
          1
         ],
         "title": {
          "text": "Disbursal Year"
         }
        },
        "yaxis": {
         "anchor": "x",
         "domain": [
          0,
          1
         ],
         "title": {
          "text": "Loans Amount"
         }
        }
       }
      },
      "text/html": [
       "<div>                            <div id=\"51cbeb04-ef32-4e72-b9f9-62f6e25be3d4\" class=\"plotly-graph-div\" style=\"height:500px; width:100%;\"></div>            <script type=\"text/javascript\">                require([\"plotly\"], function(Plotly) {                    window.PLOTLYENV=window.PLOTLYENV || {};                                    if (document.getElementById(\"51cbeb04-ef32-4e72-b9f9-62f6e25be3d4\")) {                    Plotly.newPlot(                        \"51cbeb04-ef32-4e72-b9f9-62f6e25be3d4\",                        [{\"alignmentgroup\": \"True\", \"hovertemplate\": \"Disbursal Year=%{x}<br>Loans Amount=%{y}<br>Number of Loans=%{marker.color}<extra></extra>\", \"legendgroup\": \"\", \"marker\": {\"color\": [17, 210, 258, 370, 233, 310, 443, 1394, 5109, 5862, 6926, 3210, 1553, 3], \"coloraxis\": \"coloraxis\"}, \"name\": \"\", \"offsetgroup\": \"\", \"orientation\": \"v\", \"showlegend\": false, \"textposition\": \"auto\", \"type\": \"bar\", \"x\": [\"2007\", \"2008\", \"2009\", \"2010\", \"2011\", \"2012\", \"2013\", \"2014\", \"2015\", \"2016\", \"2017\", \"2018\", \"2019\", \"2020\"], \"xaxis\": \"x\", \"y\": [94060, 1194500, 1478470, 1960690, 1070810, 1477010, 2355950, 10180920, 40140070, 45119360, 52335365, 29960176, 13688728, 15920], \"yaxis\": \"y\"}],                        {\"barmode\": \"relative\", \"coloraxis\": {\"colorbar\": {\"title\": {\"text\": \"Number of Loans\"}}, \"colorscale\": [[0.0, \"#0d0887\"], [0.1111111111111111, \"#46039f\"], [0.2222222222222222, \"#7201a8\"], [0.3333333333333333, \"#9c179e\"], [0.4444444444444444, \"#bd3786\"], [0.5555555555555556, \"#d8576b\"], [0.6666666666666666, \"#ed7953\"], [0.7777777777777778, \"#fb9f3a\"], [0.8888888888888888, \"#fdca26\"], [1.0, \"#f0f921\"]]}, \"height\": 500, \"legend\": {\"tracegroupgap\": 0}, \"margin\": {\"t\": 60}, \"template\": {\"data\": {\"bar\": [{\"error_x\": {\"color\": \"#2a3f5f\"}, \"error_y\": {\"color\": \"#2a3f5f\"}, \"marker\": {\"line\": {\"color\": \"#E5ECF6\", \"width\": 0.5}}, \"type\": \"bar\"}], \"barpolar\": [{\"marker\": {\"line\": {\"color\": \"#E5ECF6\", \"width\": 0.5}}, \"type\": \"barpolar\"}], \"carpet\": [{\"aaxis\": {\"endlinecolor\": \"#2a3f5f\", \"gridcolor\": \"white\", \"linecolor\": \"white\", \"minorgridcolor\": \"white\", \"startlinecolor\": \"#2a3f5f\"}, \"baxis\": {\"endlinecolor\": \"#2a3f5f\", \"gridcolor\": \"white\", \"linecolor\": \"white\", \"minorgridcolor\": \"white\", \"startlinecolor\": \"#2a3f5f\"}, \"type\": \"carpet\"}], \"choropleth\": [{\"colorbar\": {\"outlinewidth\": 0, \"ticks\": \"\"}, \"type\": \"choropleth\"}], \"contour\": [{\"colorbar\": {\"outlinewidth\": 0, \"ticks\": \"\"}, \"colorscale\": [[0.0, \"#0d0887\"], [0.1111111111111111, \"#46039f\"], [0.2222222222222222, \"#7201a8\"], [0.3333333333333333, \"#9c179e\"], [0.4444444444444444, \"#bd3786\"], [0.5555555555555556, \"#d8576b\"], [0.6666666666666666, \"#ed7953\"], [0.7777777777777778, \"#fb9f3a\"], [0.8888888888888888, \"#fdca26\"], [1.0, \"#f0f921\"]], \"type\": \"contour\"}], \"contourcarpet\": [{\"colorbar\": {\"outlinewidth\": 0, \"ticks\": \"\"}, \"type\": \"contourcarpet\"}], \"heatmap\": [{\"colorbar\": {\"outlinewidth\": 0, \"ticks\": \"\"}, \"colorscale\": [[0.0, \"#0d0887\"], [0.1111111111111111, \"#46039f\"], [0.2222222222222222, \"#7201a8\"], [0.3333333333333333, \"#9c179e\"], [0.4444444444444444, \"#bd3786\"], [0.5555555555555556, \"#d8576b\"], [0.6666666666666666, \"#ed7953\"], [0.7777777777777778, \"#fb9f3a\"], [0.8888888888888888, \"#fdca26\"], [1.0, \"#f0f921\"]], \"type\": \"heatmap\"}], \"heatmapgl\": [{\"colorbar\": {\"outlinewidth\": 0, \"ticks\": \"\"}, \"colorscale\": [[0.0, \"#0d0887\"], [0.1111111111111111, \"#46039f\"], [0.2222222222222222, \"#7201a8\"], [0.3333333333333333, \"#9c179e\"], [0.4444444444444444, \"#bd3786\"], [0.5555555555555556, \"#d8576b\"], [0.6666666666666666, \"#ed7953\"], [0.7777777777777778, \"#fb9f3a\"], [0.8888888888888888, \"#fdca26\"], [1.0, \"#f0f921\"]], \"type\": \"heatmapgl\"}], \"histogram\": [{\"marker\": {\"colorbar\": {\"outlinewidth\": 0, \"ticks\": \"\"}}, \"type\": \"histogram\"}], \"histogram2d\": [{\"colorbar\": {\"outlinewidth\": 0, \"ticks\": \"\"}, \"colorscale\": [[0.0, \"#0d0887\"], [0.1111111111111111, \"#46039f\"], [0.2222222222222222, \"#7201a8\"], [0.3333333333333333, \"#9c179e\"], [0.4444444444444444, \"#bd3786\"], [0.5555555555555556, \"#d8576b\"], [0.6666666666666666, \"#ed7953\"], [0.7777777777777778, \"#fb9f3a\"], [0.8888888888888888, \"#fdca26\"], [1.0, \"#f0f921\"]], \"type\": \"histogram2d\"}], \"histogram2dcontour\": [{\"colorbar\": {\"outlinewidth\": 0, \"ticks\": \"\"}, \"colorscale\": [[0.0, \"#0d0887\"], [0.1111111111111111, \"#46039f\"], [0.2222222222222222, \"#7201a8\"], [0.3333333333333333, \"#9c179e\"], [0.4444444444444444, \"#bd3786\"], [0.5555555555555556, \"#d8576b\"], [0.6666666666666666, \"#ed7953\"], [0.7777777777777778, \"#fb9f3a\"], [0.8888888888888888, \"#fdca26\"], [1.0, \"#f0f921\"]], \"type\": \"histogram2dcontour\"}], \"mesh3d\": [{\"colorbar\": {\"outlinewidth\": 0, \"ticks\": \"\"}, \"type\": \"mesh3d\"}], \"parcoords\": [{\"line\": {\"colorbar\": {\"outlinewidth\": 0, \"ticks\": \"\"}}, \"type\": \"parcoords\"}], \"pie\": [{\"automargin\": true, \"type\": \"pie\"}], \"scatter\": [{\"marker\": {\"colorbar\": {\"outlinewidth\": 0, \"ticks\": \"\"}}, \"type\": \"scatter\"}], \"scatter3d\": [{\"line\": {\"colorbar\": {\"outlinewidth\": 0, \"ticks\": \"\"}}, \"marker\": {\"colorbar\": {\"outlinewidth\": 0, \"ticks\": \"\"}}, \"type\": \"scatter3d\"}], \"scattercarpet\": [{\"marker\": {\"colorbar\": {\"outlinewidth\": 0, \"ticks\": \"\"}}, \"type\": \"scattercarpet\"}], \"scattergeo\": [{\"marker\": {\"colorbar\": {\"outlinewidth\": 0, \"ticks\": \"\"}}, \"type\": \"scattergeo\"}], \"scattergl\": [{\"marker\": {\"colorbar\": {\"outlinewidth\": 0, \"ticks\": \"\"}}, \"type\": \"scattergl\"}], \"scattermapbox\": [{\"marker\": {\"colorbar\": {\"outlinewidth\": 0, \"ticks\": \"\"}}, \"type\": \"scattermapbox\"}], \"scatterpolar\": [{\"marker\": {\"colorbar\": {\"outlinewidth\": 0, \"ticks\": \"\"}}, \"type\": \"scatterpolar\"}], \"scatterpolargl\": [{\"marker\": {\"colorbar\": {\"outlinewidth\": 0, \"ticks\": \"\"}}, \"type\": \"scatterpolargl\"}], \"scatterternary\": [{\"marker\": {\"colorbar\": {\"outlinewidth\": 0, \"ticks\": \"\"}}, \"type\": \"scatterternary\"}], \"surface\": [{\"colorbar\": {\"outlinewidth\": 0, \"ticks\": \"\"}, \"colorscale\": [[0.0, \"#0d0887\"], [0.1111111111111111, \"#46039f\"], [0.2222222222222222, \"#7201a8\"], [0.3333333333333333, \"#9c179e\"], [0.4444444444444444, \"#bd3786\"], [0.5555555555555556, \"#d8576b\"], [0.6666666666666666, \"#ed7953\"], [0.7777777777777778, \"#fb9f3a\"], [0.8888888888888888, \"#fdca26\"], [1.0, \"#f0f921\"]], \"type\": \"surface\"}], \"table\": [{\"cells\": {\"fill\": {\"color\": \"#EBF0F8\"}, \"line\": {\"color\": \"white\"}}, \"header\": {\"fill\": {\"color\": \"#C8D4E3\"}, \"line\": {\"color\": \"white\"}}, \"type\": \"table\"}]}, \"layout\": {\"annotationdefaults\": {\"arrowcolor\": \"#2a3f5f\", \"arrowhead\": 0, \"arrowwidth\": 1}, \"autotypenumbers\": \"strict\", \"coloraxis\": {\"colorbar\": {\"outlinewidth\": 0, \"ticks\": \"\"}}, \"colorscale\": {\"diverging\": [[0, \"#8e0152\"], [0.1, \"#c51b7d\"], [0.2, \"#de77ae\"], [0.3, \"#f1b6da\"], [0.4, \"#fde0ef\"], [0.5, \"#f7f7f7\"], [0.6, \"#e6f5d0\"], [0.7, \"#b8e186\"], [0.8, \"#7fbc41\"], [0.9, \"#4d9221\"], [1, \"#276419\"]], \"sequential\": [[0.0, \"#0d0887\"], [0.1111111111111111, \"#46039f\"], [0.2222222222222222, \"#7201a8\"], [0.3333333333333333, \"#9c179e\"], [0.4444444444444444, \"#bd3786\"], [0.5555555555555556, \"#d8576b\"], [0.6666666666666666, \"#ed7953\"], [0.7777777777777778, \"#fb9f3a\"], [0.8888888888888888, \"#fdca26\"], [1.0, \"#f0f921\"]], \"sequentialminus\": [[0.0, \"#0d0887\"], [0.1111111111111111, \"#46039f\"], [0.2222222222222222, \"#7201a8\"], [0.3333333333333333, \"#9c179e\"], [0.4444444444444444, \"#bd3786\"], [0.5555555555555556, \"#d8576b\"], [0.6666666666666666, \"#ed7953\"], [0.7777777777777778, \"#fb9f3a\"], [0.8888888888888888, \"#fdca26\"], [1.0, \"#f0f921\"]]}, \"colorway\": [\"#636efa\", \"#EF553B\", \"#00cc96\", \"#ab63fa\", \"#FFA15A\", \"#19d3f3\", \"#FF6692\", \"#B6E880\", \"#FF97FF\", \"#FECB52\"], \"font\": {\"color\": \"#2a3f5f\"}, \"geo\": {\"bgcolor\": \"white\", \"lakecolor\": \"white\", \"landcolor\": \"#E5ECF6\", \"showlakes\": true, \"showland\": true, \"subunitcolor\": \"white\"}, \"hoverlabel\": {\"align\": \"left\"}, \"hovermode\": \"closest\", \"mapbox\": {\"style\": \"light\"}, \"paper_bgcolor\": \"white\", \"plot_bgcolor\": \"#E5ECF6\", \"polar\": {\"angularaxis\": {\"gridcolor\": \"white\", \"linecolor\": \"white\", \"ticks\": \"\"}, \"bgcolor\": \"#E5ECF6\", \"radialaxis\": {\"gridcolor\": \"white\", \"linecolor\": \"white\", \"ticks\": \"\"}}, \"scene\": {\"xaxis\": {\"backgroundcolor\": \"#E5ECF6\", \"gridcolor\": \"white\", \"gridwidth\": 2, \"linecolor\": \"white\", \"showbackground\": true, \"ticks\": \"\", \"zerolinecolor\": \"white\"}, \"yaxis\": {\"backgroundcolor\": \"#E5ECF6\", \"gridcolor\": \"white\", \"gridwidth\": 2, \"linecolor\": \"white\", \"showbackground\": true, \"ticks\": \"\", \"zerolinecolor\": \"white\"}, \"zaxis\": {\"backgroundcolor\": \"#E5ECF6\", \"gridcolor\": \"white\", \"gridwidth\": 2, \"linecolor\": \"white\", \"showbackground\": true, \"ticks\": \"\", \"zerolinecolor\": \"white\"}}, \"shapedefaults\": {\"line\": {\"color\": \"#2a3f5f\"}}, \"ternary\": {\"aaxis\": {\"gridcolor\": \"white\", \"linecolor\": \"white\", \"ticks\": \"\"}, \"baxis\": {\"gridcolor\": \"white\", \"linecolor\": \"white\", \"ticks\": \"\"}, \"bgcolor\": \"#E5ECF6\", \"caxis\": {\"gridcolor\": \"white\", \"linecolor\": \"white\", \"ticks\": \"\"}}, \"title\": {\"x\": 0.05}, \"xaxis\": {\"automargin\": true, \"gridcolor\": \"white\", \"linecolor\": \"white\", \"ticks\": \"\", \"title\": {\"standoff\": 15}, \"zerolinecolor\": \"white\", \"zerolinewidth\": 2}, \"yaxis\": {\"automargin\": true, \"gridcolor\": \"white\", \"linecolor\": \"white\", \"ticks\": \"\", \"title\": {\"standoff\": 15}, \"zerolinecolor\": \"white\", \"zerolinewidth\": 2}}}, \"title\": {\"text\": \"Total amount of loans for each year\", \"x\": 0.5}, \"xaxis\": {\"anchor\": \"y\", \"domain\": [0.0, 1.0], \"title\": {\"text\": \"Disbursal Year\"}}, \"yaxis\": {\"anchor\": \"x\", \"domain\": [0.0, 1.0], \"title\": {\"text\": \"Loans Amount\"}}},                        {\"responsive\": true}                    ).then(function(){\n",
       "                            \n",
       "var gd = document.getElementById('51cbeb04-ef32-4e72-b9f9-62f6e25be3d4');\n",
       "var x = new MutationObserver(function (mutations, observer) {{\n",
       "        var display = window.getComputedStyle(gd).display;\n",
       "        if (!display || display === 'none') {{\n",
       "            console.log([gd, 'removed!']);\n",
       "            Plotly.purge(gd);\n",
       "            observer.disconnect();\n",
       "        }}\n",
       "}});\n",
       "\n",
       "// Listen for the removal of the full notebook cells\n",
       "var notebookContainer = gd.closest('#notebook-container');\n",
       "if (notebookContainer) {{\n",
       "    x.observe(notebookContainer, {childList: true});\n",
       "}}\n",
       "\n",
       "// Listen for the clearing of the current output cell\n",
       "var outputEl = gd.closest('.output');\n",
       "if (outputEl) {{\n",
       "    x.observe(outputEl, {childList: true});\n",
       "}}\n",
       "\n",
       "                        })                };                });            </script>        </div>"
      ]
     },
     "metadata": {},
     "output_type": "display_data"
    }
   ],
   "source": [
    "default_loan_group_by_year = default_loans.groupby('Disbursal Year')['Original Loan Amount'].agg(['sum', 'count']).reset_index()\n",
    "default_loan_group_by_year.columns = ['Disbursal Year', 'Loans Amount', 'Number of Loans']\n",
    "display(default_loan_group_by_year)\n",
    "\n",
    "fig = px.bar(default_loan_group_by_year, x='Disbursal Year', y='Loans Amount', color='Number of Loans', height=500)\n",
    "fig.update_layout(title_text='Total amount of loans for each year', title_x=0.5)\n",
    "fig.show()"
   ]
  },
  {
   "cell_type": "code",
   "execution_count": 241,
   "metadata": {},
   "outputs": [],
   "source": [
    "def plotBar(x):\n",
    "    plt.figure(figsize=(10,5))\n",
    "    sns.countplot(default_loans[x])\n",
    "    plt.title(\"Loan Defaults wrt \"+str(x)+\" feature - countplot\")\n",
    "    plt.xlabel(x, fontsize=16)\n",
    "    plt.ylabel(\"defaulter ratio\", fontsize=16)\n",
    "    plt.show()"
   ]
  },
  {
   "cell_type": "code",
   "execution_count": 242,
   "metadata": {},
   "outputs": [
    {
     "data": {
      "image/png": "[encoded data removed]",
      "text/plain": [
       "<Figure size 720x360 with 1 Axes>"
      ]
     },
     "metadata": {
      "needs_background": "light"
     },
     "output_type": "display_data"
    }
   ],
   "source": [
    "plotBar('Term in months')"
   ]
  },
  {
   "cell_type": "code",
   "execution_count": 243,
   "metadata": {},
   "outputs": [
    {
     "data": {
      "image/png": "[encoded data removed]",
      "text/plain": [
       "<Figure size 720x360 with 1 Axes>"
      ]
     },
     "metadata": {
      "needs_background": "light"
     },
     "output_type": "display_data"
    }
   ],
   "source": [
    "plotBar('PostCode')"
   ]
  },
  {
   "cell_type": "markdown",
   "metadata": {},
   "source": [
    " Can you find and explain seasonality in loan performance over the course of a year?"
   ]
  },
  {
   "cell_type": "markdown",
   "metadata": {},
   "source": [
    "## Step 7. How has loan size changed over the years? What impact did it have on loan performance?\n",
    "<a class=\"anchor\" id=\"7\"></a>"
   ]
  },
  {
   "cell_type": "code",
   "execution_count": 244,
   "metadata": {},
   "outputs": [
    {
     "data": {
      "text/html": [
       "<div>\n",
       "<style scoped>\n",
       "    .dataframe tbody tr th:only-of-type {\n",
       "        vertical-align: middle;\n",
       "    }\n",
       "\n",
       "    .dataframe tbody tr th {\n",
       "        vertical-align: top;\n",
       "    }\n",
       "\n",
       "    .dataframe thead th {\n",
       "        text-align: right;\n",
       "    }\n",
       "</style>\n",
       "<table border=\"1\" class=\"dataframe\">\n",
       "  <thead>\n",
       "    <tr style=\"text-align: right;\">\n",
       "      <th></th>\n",
       "      <th>Disbursal Year</th>\n",
       "      <th>Loans Amount</th>\n",
       "      <th>Number of Loans</th>\n",
       "      <th>Loan Size</th>\n",
       "    </tr>\n",
       "  </thead>\n",
       "  <tbody>\n",
       "    <tr>\n",
       "      <th>0</th>\n",
       "      <td>2007</td>\n",
       "      <td>8993200</td>\n",
       "      <td>2302</td>\n",
       "      <td>3906.689835</td>\n",
       "    </tr>\n",
       "    <tr>\n",
       "      <th>1</th>\n",
       "      <td>2008</td>\n",
       "      <td>12652300</td>\n",
       "      <td>2605</td>\n",
       "      <td>4856.928983</td>\n",
       "    </tr>\n",
       "    <tr>\n",
       "      <th>2</th>\n",
       "      <td>2009</td>\n",
       "      <td>33050360</td>\n",
       "      <td>5894</td>\n",
       "      <td>5607.458432</td>\n",
       "    </tr>\n",
       "    <tr>\n",
       "      <th>3</th>\n",
       "      <td>2010</td>\n",
       "      <td>49309250</td>\n",
       "      <td>9884</td>\n",
       "      <td>4988.795022</td>\n",
       "    </tr>\n",
       "    <tr>\n",
       "      <th>4</th>\n",
       "      <td>2011</td>\n",
       "      <td>57621670</td>\n",
       "      <td>11881</td>\n",
       "      <td>4849.900682</td>\n",
       "    </tr>\n",
       "    <tr>\n",
       "      <th>5</th>\n",
       "      <td>2012</td>\n",
       "      <td>87040390</td>\n",
       "      <td>17446</td>\n",
       "      <td>4989.131606</td>\n",
       "    </tr>\n",
       "    <tr>\n",
       "      <th>6</th>\n",
       "      <td>2013</td>\n",
       "      <td>117971900</td>\n",
       "      <td>23904</td>\n",
       "      <td>4935.236780</td>\n",
       "    </tr>\n",
       "    <tr>\n",
       "      <th>7</th>\n",
       "      <td>2014</td>\n",
       "      <td>144111110</td>\n",
       "      <td>22144</td>\n",
       "      <td>6507.907785</td>\n",
       "    </tr>\n",
       "    <tr>\n",
       "      <th>8</th>\n",
       "      <td>2015</td>\n",
       "      <td>317212960</td>\n",
       "      <td>47169</td>\n",
       "      <td>6725.030423</td>\n",
       "    </tr>\n",
       "    <tr>\n",
       "      <th>9</th>\n",
       "      <td>2016</td>\n",
       "      <td>376270002</td>\n",
       "      <td>59736</td>\n",
       "      <td>6298.881780</td>\n",
       "    </tr>\n",
       "    <tr>\n",
       "      <th>10</th>\n",
       "      <td>2017</td>\n",
       "      <td>475971641</td>\n",
       "      <td>78833</td>\n",
       "      <td>6037.720764</td>\n",
       "    </tr>\n",
       "    <tr>\n",
       "      <th>11</th>\n",
       "      <td>2018</td>\n",
       "      <td>455605947</td>\n",
       "      <td>68328</td>\n",
       "      <td>6667.924526</td>\n",
       "    </tr>\n",
       "    <tr>\n",
       "      <th>12</th>\n",
       "      <td>2019</td>\n",
       "      <td>567322079</td>\n",
       "      <td>82991</td>\n",
       "      <td>6835.947018</td>\n",
       "    </tr>\n",
       "    <tr>\n",
       "      <th>13</th>\n",
       "      <td>2020</td>\n",
       "      <td>139630561</td>\n",
       "      <td>19166</td>\n",
       "      <td>7285.326150</td>\n",
       "    </tr>\n",
       "  </tbody>\n",
       "</table>\n",
       "</div>"
      ],
      "text/plain": [
       "   Disbursal Year  Loans Amount  Number of Loans    Loan Size\n",
       "0            2007       8993200             2302  3906.689835\n",
       "1            2008      12652300             2605  4856.928983\n",
       "2            2009      33050360             5894  5607.458432\n",
       "3            2010      49309250             9884  4988.795022\n",
       "4            2011      57621670            11881  4849.900682\n",
       "5            2012      87040390            17446  4989.131606\n",
       "6            2013     117971900            23904  4935.236780\n",
       "7            2014     144111110            22144  6507.907785\n",
       "8            2015     317212960            47169  6725.030423\n",
       "9            2016     376270002            59736  6298.881780\n",
       "10           2017     475971641            78833  6037.720764\n",
       "11           2018     455605947            68328  6667.924526\n",
       "12           2019     567322079            82991  6835.947018\n",
       "13           2020     139630561            19166  7285.326150"
      ]
     },
     "execution_count": 244,
     "metadata": {},
     "output_type": "execute_result"
    }
   ],
   "source": [
    "#to determine the change in the size of the loan over the years, we use the previously groupped table\n",
    "#we calculate the average loan size for each borrower for each year\n",
    "loan_group_by_year['Loan Size'] = loan_group_by_year['Loans Amount']/loan_group_by_year['Number of Loans']\n",
    "loan_group_by_year"
   ]
  },
  {
   "cell_type": "code",
   "execution_count": 245,
   "metadata": {},
   "outputs": [
    {
     "data": {
      "application/vnd.plotly.v1+json": {
       "config": {
        "plotlyServerURL": "https://plot.ly"
       },
       "data": [
        {
         "type": "bar",
         "x": [
          "2007",
          "2008",
          "2009",
          "2010",
          "2011",
          "2012",
          "2013",
          "2014",
          "2015",
          "2016",
          "2017",
          "2018",
          "2019",
          "2020"
         ],
         "y": [
          3906.689834926151,
          4856.928982725528,
          5607.458432304038,
          4988.795022258195,
          4849.900681760794,
          4989.131606098819,
          4935.236780455154,
          6507.9077854046245,
          6725.030422523268,
          6298.8817798312575,
          6037.720764146994,
          6667.924525816649,
          6835.947018351388,
          7285.326150474799
         ]
        }
       ],
       "layout": {
        "barmode": "stack",
        "template": {
         "data": {
          "bar": [
           {
            "error_x": {
             "color": "#2a3f5f"
            },
            "error_y": {
             "color": "#2a3f5f"
            },
            "marker": {
             "line": {
              "color": "#E5ECF6",
              "width": 0.5
             }
            },
            "type": "bar"
           }
          ],
          "barpolar": [
           {
            "marker": {
             "line": {
              "color": "#E5ECF6",
              "width": 0.5
             }
            },
            "type": "barpolar"
           }
          ],
          "carpet": [
           {
            "aaxis": {
             "endlinecolor": "#2a3f5f",
             "gridcolor": "white",
             "linecolor": "white",
             "minorgridcolor": "white",
             "startlinecolor": "#2a3f5f"
            },
            "baxis": {
             "endlinecolor": "#2a3f5f",
             "gridcolor": "white",
             "linecolor": "white",
             "minorgridcolor": "white",
             "startlinecolor": "#2a3f5f"
            },
            "type": "carpet"
           }
          ],
          "choropleth": [
           {
            "colorbar": {
             "outlinewidth": 0,
             "ticks": ""
            },
            "type": "choropleth"
           }
          ],
          "contour": [
           {
            "colorbar": {
             "outlinewidth": 0,
             "ticks": ""
            },
            "colorscale": [
             [
              0,
              "#0d0887"
             ],
             [
              0.1111111111111111,
              "#46039f"
             ],
             [
              0.2222222222222222,
              "#7201a8"
             ],
             [
              0.3333333333333333,
              "#9c179e"
             ],
             [
              0.4444444444444444,
              "#bd3786"
             ],
             [
              0.5555555555555556,
              "#d8576b"
             ],
             [
              0.6666666666666666,
              "#ed7953"
             ],
             [
              0.7777777777777778,
              "#fb9f3a"
             ],
             [
              0.8888888888888888,
              "#fdca26"
             ],
             [
              1,
              "#f0f921"
             ]
            ],
            "type": "contour"
           }
          ],
          "contourcarpet": [
           {
            "colorbar": {
             "outlinewidth": 0,
             "ticks": ""
            },
            "type": "contourcarpet"
           }
          ],
          "heatmap": [
           {
            "colorbar": {
             "outlinewidth": 0,
             "ticks": ""
            },
            "colorscale": [
             [
              0,
              "#0d0887"
             ],
             [
              0.1111111111111111,
              "#46039f"
             ],
             [
              0.2222222222222222,
              "#7201a8"
             ],
             [
              0.3333333333333333,
              "#9c179e"
             ],
             [
              0.4444444444444444,
              "#bd3786"
             ],
             [
              0.5555555555555556,
              "#d8576b"
             ],
             [
              0.6666666666666666,
              "#ed7953"
             ],
             [
              0.7777777777777778,
              "#fb9f3a"
             ],
             [
              0.8888888888888888,
              "#fdca26"
             ],
             [
              1,
              "#f0f921"
             ]
            ],
            "type": "heatmap"
           }
          ],
          "heatmapgl": [
           {
            "colorbar": {
             "outlinewidth": 0,
             "ticks": ""
            },
            "colorscale": [
             [
              0,
              "#0d0887"
             ],
             [
              0.1111111111111111,
              "#46039f"
             ],
             [
              0.2222222222222222,
              "#7201a8"
             ],
             [
              0.3333333333333333,
              "#9c179e"
             ],
             [
              0.4444444444444444,
              "#bd3786"
             ],
             [
              0.5555555555555556,
              "#d8576b"
             ],
             [
              0.6666666666666666,
              "#ed7953"
             ],
             [
              0.7777777777777778,
              "#fb9f3a"
             ],
             [
              0.8888888888888888,
              "#fdca26"
             ],
             [
              1,
              "#f0f921"
             ]
            ],
            "type": "heatmapgl"
           }
          ],
          "histogram": [
           {
            "marker": {
             "colorbar": {
              "outlinewidth": 0,
              "ticks": ""
             }
            },
            "type": "histogram"
           }
          ],
          "histogram2d": [
           {
            "colorbar": {
             "outlinewidth": 0,
             "ticks": ""
            },
            "colorscale": [
             [
              0,
              "#0d0887"
             ],
             [
              0.1111111111111111,
              "#46039f"
             ],
             [
              0.2222222222222222,
              "#7201a8"
             ],
             [
              0.3333333333333333,
              "#9c179e"
             ],
             [
              0.4444444444444444,
              "#bd3786"
             ],
             [
              0.5555555555555556,
              "#d8576b"
             ],
             [
              0.6666666666666666,
              "#ed7953"
             ],
             [
              0.7777777777777778,
              "#fb9f3a"
             ],
             [
              0.8888888888888888,
              "#fdca26"
             ],
             [
              1,
              "#f0f921"
             ]
            ],
            "type": "histogram2d"
           }
          ],
          "histogram2dcontour": [
           {
            "colorbar": {
             "outlinewidth": 0,
             "ticks": ""
            },
            "colorscale": [
             [
              0,
              "#0d0887"
             ],
             [
              0.1111111111111111,
              "#46039f"
             ],
             [
              0.2222222222222222,
              "#7201a8"
             ],
             [
              0.3333333333333333,
              "#9c179e"
             ],
             [
              0.4444444444444444,
              "#bd3786"
             ],
             [
              0.5555555555555556,
              "#d8576b"
             ],
             [
              0.6666666666666666,
              "#ed7953"
             ],
             [
              0.7777777777777778,
              "#fb9f3a"
             ],
             [
              0.8888888888888888,
              "#fdca26"
             ],
             [
              1,
              "#f0f921"
             ]
            ],
            "type": "histogram2dcontour"
           }
          ],
          "mesh3d": [
           {
            "colorbar": {
             "outlinewidth": 0,
             "ticks": ""
            },
            "type": "mesh3d"
           }
          ],
          "parcoords": [
           {
            "line": {
             "colorbar": {
              "outlinewidth": 0,
              "ticks": ""
             }
            },
            "type": "parcoords"
           }
          ],
          "pie": [
           {
            "automargin": true,
            "type": "pie"
           }
          ],
          "scatter": [
           {
            "marker": {
             "colorbar": {
              "outlinewidth": 0,
              "ticks": ""
             }
            },
            "type": "scatter"
           }
          ],
          "scatter3d": [
           {
            "line": {
             "colorbar": {
              "outlinewidth": 0,
              "ticks": ""
             }
            },
            "marker": {
             "colorbar": {
              "outlinewidth": 0,
              "ticks": ""
             }
            },
            "type": "scatter3d"
           }
          ],
          "scattercarpet": [
           {
            "marker": {
             "colorbar": {
              "outlinewidth": 0,
              "ticks": ""
             }
            },
            "type": "scattercarpet"
           }
          ],
          "scattergeo": [
           {
            "marker": {
             "colorbar": {
              "outlinewidth": 0,
              "ticks": ""
             }
            },
            "type": "scattergeo"
           }
          ],
          "scattergl": [
           {
            "marker": {
             "colorbar": {
              "outlinewidth": 0,
              "ticks": ""
             }
            },
            "type": "scattergl"
           }
          ],
          "scattermapbox": [
           {
            "marker": {
             "colorbar": {
              "outlinewidth": 0,
              "ticks": ""
             }
            },
            "type": "scattermapbox"
           }
          ],
          "scatterpolar": [
           {
            "marker": {
             "colorbar": {
              "outlinewidth": 0,
              "ticks": ""
             }
            },
            "type": "scatterpolar"
           }
          ],
          "scatterpolargl": [
           {
            "marker": {
             "colorbar": {
              "outlinewidth": 0,
              "ticks": ""
             }
            },
            "type": "scatterpolargl"
           }
          ],
          "scatterternary": [
           {
            "marker": {
             "colorbar": {
              "outlinewidth": 0,
              "ticks": ""
             }
            },
            "type": "scatterternary"
           }
          ],
          "surface": [
           {
            "colorbar": {
             "outlinewidth": 0,
             "ticks": ""
            },
            "colorscale": [
             [
              0,
              "#0d0887"
             ],
             [
              0.1111111111111111,
              "#46039f"
             ],
             [
              0.2222222222222222,
              "#7201a8"
             ],
             [
              0.3333333333333333,
              "#9c179e"
             ],
             [
              0.4444444444444444,
              "#bd3786"
             ],
             [
              0.5555555555555556,
              "#d8576b"
             ],
             [
              0.6666666666666666,
              "#ed7953"
             ],
             [
              0.7777777777777778,
              "#fb9f3a"
             ],
             [
              0.8888888888888888,
              "#fdca26"
             ],
             [
              1,
              "#f0f921"
             ]
            ],
            "type": "surface"
           }
          ],
          "table": [
           {
            "cells": {
             "fill": {
              "color": "#EBF0F8"
             },
             "line": {
              "color": "white"
             }
            },
            "header": {
             "fill": {
              "color": "#C8D4E3"
             },
             "line": {
              "color": "white"
             }
            },
            "type": "table"
           }
          ]
         },
         "layout": {
          "annotationdefaults": {
           "arrowcolor": "#2a3f5f",
           "arrowhead": 0,
           "arrowwidth": 1
          },
          "autotypenumbers": "strict",
          "coloraxis": {
           "colorbar": {
            "outlinewidth": 0,
            "ticks": ""
           }
          },
          "colorscale": {
           "diverging": [
            [
             0,
             "#8e0152"
            ],
            [
             0.1,
             "#c51b7d"
            ],
            [
             0.2,
             "#de77ae"
            ],
            [
             0.3,
             "#f1b6da"
            ],
            [
             0.4,
             "#fde0ef"
            ],
            [
             0.5,
             "#f7f7f7"
            ],
            [
             0.6,
             "#e6f5d0"
            ],
            [
             0.7,
             "#b8e186"
            ],
            [
             0.8,
             "#7fbc41"
            ],
            [
             0.9,
             "#4d9221"
            ],
            [
             1,
             "#276419"
            ]
           ],
           "sequential": [
            [
             0,
             "#0d0887"
            ],
            [
             0.1111111111111111,
             "#46039f"
            ],
            [
             0.2222222222222222,
             "#7201a8"
            ],
            [
             0.3333333333333333,
             "#9c179e"
            ],
            [
             0.4444444444444444,
             "#bd3786"
            ],
            [
             0.5555555555555556,
             "#d8576b"
            ],
            [
             0.6666666666666666,
             "#ed7953"
            ],
            [
             0.7777777777777778,
             "#fb9f3a"
            ],
            [
             0.8888888888888888,
             "#fdca26"
            ],
            [
             1,
             "#f0f921"
            ]
           ],
           "sequentialminus": [
            [
             0,
             "#0d0887"
            ],
            [
             0.1111111111111111,
             "#46039f"
            ],
            [
             0.2222222222222222,
             "#7201a8"
            ],
            [
             0.3333333333333333,
             "#9c179e"
            ],
            [
             0.4444444444444444,
             "#bd3786"
            ],
            [
             0.5555555555555556,
             "#d8576b"
            ],
            [
             0.6666666666666666,
             "#ed7953"
            ],
            [
             0.7777777777777778,
             "#fb9f3a"
            ],
            [
             0.8888888888888888,
             "#fdca26"
            ],
            [
             1,
             "#f0f921"
            ]
           ]
          },
          "colorway": [
           "#636efa",
           "#EF553B",
           "#00cc96",
           "#ab63fa",
           "#FFA15A",
           "#19d3f3",
           "#FF6692",
           "#B6E880",
           "#FF97FF",
           "#FECB52"
          ],
          "font": {
           "color": "#2a3f5f"
          },
          "geo": {
           "bgcolor": "white",
           "lakecolor": "white",
           "landcolor": "#E5ECF6",
           "showlakes": true,
           "showland": true,
           "subunitcolor": "white"
          },
          "hoverlabel": {
           "align": "left"
          },
          "hovermode": "closest",
          "mapbox": {
           "style": "light"
          },
          "paper_bgcolor": "white",
          "plot_bgcolor": "#E5ECF6",
          "polar": {
           "angularaxis": {
            "gridcolor": "white",
            "linecolor": "white",
            "ticks": ""
           },
           "bgcolor": "#E5ECF6",
           "radialaxis": {
            "gridcolor": "white",
            "linecolor": "white",
            "ticks": ""
           }
          },
          "scene": {
           "xaxis": {
            "backgroundcolor": "#E5ECF6",
            "gridcolor": "white",
            "gridwidth": 2,
            "linecolor": "white",
            "showbackground": true,
            "ticks": "",
            "zerolinecolor": "white"
           },
           "yaxis": {
            "backgroundcolor": "#E5ECF6",
            "gridcolor": "white",
            "gridwidth": 2,
            "linecolor": "white",
            "showbackground": true,
            "ticks": "",
            "zerolinecolor": "white"
           },
           "zaxis": {
            "backgroundcolor": "#E5ECF6",
            "gridcolor": "white",
            "gridwidth": 2,
            "linecolor": "white",
            "showbackground": true,
            "ticks": "",
            "zerolinecolor": "white"
           }
          },
          "shapedefaults": {
           "line": {
            "color": "#2a3f5f"
           }
          },
          "ternary": {
           "aaxis": {
            "gridcolor": "white",
            "linecolor": "white",
            "ticks": ""
           },
           "baxis": {
            "gridcolor": "white",
            "linecolor": "white",
            "ticks": ""
           },
           "bgcolor": "#E5ECF6",
           "caxis": {
            "gridcolor": "white",
            "linecolor": "white",
            "ticks": ""
           }
          },
          "title": {
           "x": 0.05
          },
          "xaxis": {
           "automargin": true,
           "gridcolor": "white",
           "linecolor": "white",
           "ticks": "",
           "title": {
            "standoff": 15
           },
           "zerolinecolor": "white",
           "zerolinewidth": 2
          },
          "yaxis": {
           "automargin": true,
           "gridcolor": "white",
           "linecolor": "white",
           "ticks": "",
           "title": {
            "standoff": 15
           },
           "zerolinecolor": "white",
           "zerolinewidth": 2
          }
         }
        },
        "title": {
         "text": "Bar chart of loan size distribution over the years",
         "x": 0.5
        },
        "yaxis": {
         "title": {
          "text": "Loan size"
         }
        }
       }
      },
      "text/html": [
       "<div>                            <div id=\"60cd5fe3-dcdf-43c5-bc68-f3520cbc2d6e\" class=\"plotly-graph-div\" style=\"height:525px; width:100%;\"></div>            <script type=\"text/javascript\">                require([\"plotly\"], function(Plotly) {                    window.PLOTLYENV=window.PLOTLYENV || {};                                    if (document.getElementById(\"60cd5fe3-dcdf-43c5-bc68-f3520cbc2d6e\")) {                    Plotly.newPlot(                        \"60cd5fe3-dcdf-43c5-bc68-f3520cbc2d6e\",                        [{\"type\": \"bar\", \"x\": [\"2007\", \"2008\", \"2009\", \"2010\", \"2011\", \"2012\", \"2013\", \"2014\", \"2015\", \"2016\", \"2017\", \"2018\", \"2019\", \"2020\"], \"y\": [3906.689834926151, 4856.928982725528, 5607.458432304038, 4988.795022258195, 4849.900681760794, 4989.131606098819, 4935.236780455154, 6507.9077854046245, 6725.030422523268, 6298.8817798312575, 6037.720764146994, 6667.924525816649, 6835.947018351388, 7285.326150474799]}],                        {\"barmode\": \"stack\", \"template\": {\"data\": {\"bar\": [{\"error_x\": {\"color\": \"#2a3f5f\"}, \"error_y\": {\"color\": \"#2a3f5f\"}, \"marker\": {\"line\": {\"color\": \"#E5ECF6\", \"width\": 0.5}}, \"type\": \"bar\"}], \"barpolar\": [{\"marker\": {\"line\": {\"color\": \"#E5ECF6\", \"width\": 0.5}}, \"type\": \"barpolar\"}], \"carpet\": [{\"aaxis\": {\"endlinecolor\": \"#2a3f5f\", \"gridcolor\": \"white\", \"linecolor\": \"white\", \"minorgridcolor\": \"white\", \"startlinecolor\": \"#2a3f5f\"}, \"baxis\": {\"endlinecolor\": \"#2a3f5f\", \"gridcolor\": \"white\", \"linecolor\": \"white\", \"minorgridcolor\": \"white\", \"startlinecolor\": \"#2a3f5f\"}, \"type\": \"carpet\"}], \"choropleth\": [{\"colorbar\": {\"outlinewidth\": 0, \"ticks\": \"\"}, \"type\": \"choropleth\"}], \"contour\": [{\"colorbar\": {\"outlinewidth\": 0, \"ticks\": \"\"}, \"colorscale\": [[0.0, \"#0d0887\"], [0.1111111111111111, \"#46039f\"], [0.2222222222222222, \"#7201a8\"], [0.3333333333333333, \"#9c179e\"], [0.4444444444444444, \"#bd3786\"], [0.5555555555555556, \"#d8576b\"], [0.6666666666666666, \"#ed7953\"], [0.7777777777777778, \"#fb9f3a\"], [0.8888888888888888, \"#fdca26\"], [1.0, \"#f0f921\"]], \"type\": \"contour\"}], \"contourcarpet\": [{\"colorbar\": {\"outlinewidth\": 0, \"ticks\": \"\"}, \"type\": \"contourcarpet\"}], \"heatmap\": [{\"colorbar\": {\"outlinewidth\": 0, \"ticks\": \"\"}, \"colorscale\": [[0.0, \"#0d0887\"], [0.1111111111111111, \"#46039f\"], [0.2222222222222222, \"#7201a8\"], [0.3333333333333333, \"#9c179e\"], [0.4444444444444444, \"#bd3786\"], [0.5555555555555556, \"#d8576b\"], [0.6666666666666666, \"#ed7953\"], [0.7777777777777778, \"#fb9f3a\"], [0.8888888888888888, \"#fdca26\"], [1.0, \"#f0f921\"]], \"type\": \"heatmap\"}], \"heatmapgl\": [{\"colorbar\": {\"outlinewidth\": 0, \"ticks\": \"\"}, \"colorscale\": [[0.0, \"#0d0887\"], [0.1111111111111111, \"#46039f\"], [0.2222222222222222, \"#7201a8\"], [0.3333333333333333, \"#9c179e\"], [0.4444444444444444, \"#bd3786\"], [0.5555555555555556, \"#d8576b\"], [0.6666666666666666, \"#ed7953\"], [0.7777777777777778, \"#fb9f3a\"], [0.8888888888888888, \"#fdca26\"], [1.0, \"#f0f921\"]], \"type\": \"heatmapgl\"}], \"histogram\": [{\"marker\": {\"colorbar\": {\"outlinewidth\": 0, \"ticks\": \"\"}}, \"type\": \"histogram\"}], \"histogram2d\": [{\"colorbar\": {\"outlinewidth\": 0, \"ticks\": \"\"}, \"colorscale\": [[0.0, \"#0d0887\"], [0.1111111111111111, \"#46039f\"], [0.2222222222222222, \"#7201a8\"], [0.3333333333333333, \"#9c179e\"], [0.4444444444444444, \"#bd3786\"], [0.5555555555555556, \"#d8576b\"], [0.6666666666666666, \"#ed7953\"], [0.7777777777777778, \"#fb9f3a\"], [0.8888888888888888, \"#fdca26\"], [1.0, \"#f0f921\"]], \"type\": \"histogram2d\"}], \"histogram2dcontour\": [{\"colorbar\": {\"outlinewidth\": 0, \"ticks\": \"\"}, \"colorscale\": [[0.0, \"#0d0887\"], [0.1111111111111111, \"#46039f\"], [0.2222222222222222, \"#7201a8\"], [0.3333333333333333, \"#9c179e\"], [0.4444444444444444, \"#bd3786\"], [0.5555555555555556, \"#d8576b\"], [0.6666666666666666, \"#ed7953\"], [0.7777777777777778, \"#fb9f3a\"], [0.8888888888888888, \"#fdca26\"], [1.0, \"#f0f921\"]], \"type\": \"histogram2dcontour\"}], \"mesh3d\": [{\"colorbar\": {\"outlinewidth\": 0, \"ticks\": \"\"}, \"type\": \"mesh3d\"}], \"parcoords\": [{\"line\": {\"colorbar\": {\"outlinewidth\": 0, \"ticks\": \"\"}}, \"type\": \"parcoords\"}], \"pie\": [{\"automargin\": true, \"type\": \"pie\"}], \"scatter\": [{\"marker\": {\"colorbar\": {\"outlinewidth\": 0, \"ticks\": \"\"}}, \"type\": \"scatter\"}], \"scatter3d\": [{\"line\": {\"colorbar\": {\"outlinewidth\": 0, \"ticks\": \"\"}}, \"marker\": {\"colorbar\": {\"outlinewidth\": 0, \"ticks\": \"\"}}, \"type\": \"scatter3d\"}], \"scattercarpet\": [{\"marker\": {\"colorbar\": {\"outlinewidth\": 0, \"ticks\": \"\"}}, \"type\": \"scattercarpet\"}], \"scattergeo\": [{\"marker\": {\"colorbar\": {\"outlinewidth\": 0, \"ticks\": \"\"}}, \"type\": \"scattergeo\"}], \"scattergl\": [{\"marker\": {\"colorbar\": {\"outlinewidth\": 0, \"ticks\": \"\"}}, \"type\": \"scattergl\"}], \"scattermapbox\": [{\"marker\": {\"colorbar\": {\"outlinewidth\": 0, \"ticks\": \"\"}}, \"type\": \"scattermapbox\"}], \"scatterpolar\": [{\"marker\": {\"colorbar\": {\"outlinewidth\": 0, \"ticks\": \"\"}}, \"type\": \"scatterpolar\"}], \"scatterpolargl\": [{\"marker\": {\"colorbar\": {\"outlinewidth\": 0, \"ticks\": \"\"}}, \"type\": \"scatterpolargl\"}], \"scatterternary\": [{\"marker\": {\"colorbar\": {\"outlinewidth\": 0, \"ticks\": \"\"}}, \"type\": \"scatterternary\"}], \"surface\": [{\"colorbar\": {\"outlinewidth\": 0, \"ticks\": \"\"}, \"colorscale\": [[0.0, \"#0d0887\"], [0.1111111111111111, \"#46039f\"], [0.2222222222222222, \"#7201a8\"], [0.3333333333333333, \"#9c179e\"], [0.4444444444444444, \"#bd3786\"], [0.5555555555555556, \"#d8576b\"], [0.6666666666666666, \"#ed7953\"], [0.7777777777777778, \"#fb9f3a\"], [0.8888888888888888, \"#fdca26\"], [1.0, \"#f0f921\"]], \"type\": \"surface\"}], \"table\": [{\"cells\": {\"fill\": {\"color\": \"#EBF0F8\"}, \"line\": {\"color\": \"white\"}}, \"header\": {\"fill\": {\"color\": \"#C8D4E3\"}, \"line\": {\"color\": \"white\"}}, \"type\": \"table\"}]}, \"layout\": {\"annotationdefaults\": {\"arrowcolor\": \"#2a3f5f\", \"arrowhead\": 0, \"arrowwidth\": 1}, \"autotypenumbers\": \"strict\", \"coloraxis\": {\"colorbar\": {\"outlinewidth\": 0, \"ticks\": \"\"}}, \"colorscale\": {\"diverging\": [[0, \"#8e0152\"], [0.1, \"#c51b7d\"], [0.2, \"#de77ae\"], [0.3, \"#f1b6da\"], [0.4, \"#fde0ef\"], [0.5, \"#f7f7f7\"], [0.6, \"#e6f5d0\"], [0.7, \"#b8e186\"], [0.8, \"#7fbc41\"], [0.9, \"#4d9221\"], [1, \"#276419\"]], \"sequential\": [[0.0, \"#0d0887\"], [0.1111111111111111, \"#46039f\"], [0.2222222222222222, \"#7201a8\"], [0.3333333333333333, \"#9c179e\"], [0.4444444444444444, \"#bd3786\"], [0.5555555555555556, \"#d8576b\"], [0.6666666666666666, \"#ed7953\"], [0.7777777777777778, \"#fb9f3a\"], [0.8888888888888888, \"#fdca26\"], [1.0, \"#f0f921\"]], \"sequentialminus\": [[0.0, \"#0d0887\"], [0.1111111111111111, \"#46039f\"], [0.2222222222222222, \"#7201a8\"], [0.3333333333333333, \"#9c179e\"], [0.4444444444444444, \"#bd3786\"], [0.5555555555555556, \"#d8576b\"], [0.6666666666666666, \"#ed7953\"], [0.7777777777777778, \"#fb9f3a\"], [0.8888888888888888, \"#fdca26\"], [1.0, \"#f0f921\"]]}, \"colorway\": [\"#636efa\", \"#EF553B\", \"#00cc96\", \"#ab63fa\", \"#FFA15A\", \"#19d3f3\", \"#FF6692\", \"#B6E880\", \"#FF97FF\", \"#FECB52\"], \"font\": {\"color\": \"#2a3f5f\"}, \"geo\": {\"bgcolor\": \"white\", \"lakecolor\": \"white\", \"landcolor\": \"#E5ECF6\", \"showlakes\": true, \"showland\": true, \"subunitcolor\": \"white\"}, \"hoverlabel\": {\"align\": \"left\"}, \"hovermode\": \"closest\", \"mapbox\": {\"style\": \"light\"}, \"paper_bgcolor\": \"white\", \"plot_bgcolor\": \"#E5ECF6\", \"polar\": {\"angularaxis\": {\"gridcolor\": \"white\", \"linecolor\": \"white\", \"ticks\": \"\"}, \"bgcolor\": \"#E5ECF6\", \"radialaxis\": {\"gridcolor\": \"white\", \"linecolor\": \"white\", \"ticks\": \"\"}}, \"scene\": {\"xaxis\": {\"backgroundcolor\": \"#E5ECF6\", \"gridcolor\": \"white\", \"gridwidth\": 2, \"linecolor\": \"white\", \"showbackground\": true, \"ticks\": \"\", \"zerolinecolor\": \"white\"}, \"yaxis\": {\"backgroundcolor\": \"#E5ECF6\", \"gridcolor\": \"white\", \"gridwidth\": 2, \"linecolor\": \"white\", \"showbackground\": true, \"ticks\": \"\", \"zerolinecolor\": \"white\"}, \"zaxis\": {\"backgroundcolor\": \"#E5ECF6\", \"gridcolor\": \"white\", \"gridwidth\": 2, \"linecolor\": \"white\", \"showbackground\": true, \"ticks\": \"\", \"zerolinecolor\": \"white\"}}, \"shapedefaults\": {\"line\": {\"color\": \"#2a3f5f\"}}, \"ternary\": {\"aaxis\": {\"gridcolor\": \"white\", \"linecolor\": \"white\", \"ticks\": \"\"}, \"baxis\": {\"gridcolor\": \"white\", \"linecolor\": \"white\", \"ticks\": \"\"}, \"bgcolor\": \"#E5ECF6\", \"caxis\": {\"gridcolor\": \"white\", \"linecolor\": \"white\", \"ticks\": \"\"}}, \"title\": {\"x\": 0.05}, \"xaxis\": {\"automargin\": true, \"gridcolor\": \"white\", \"linecolor\": \"white\", \"ticks\": \"\", \"title\": {\"standoff\": 15}, \"zerolinecolor\": \"white\", \"zerolinewidth\": 2}, \"yaxis\": {\"automargin\": true, \"gridcolor\": \"white\", \"linecolor\": \"white\", \"ticks\": \"\", \"title\": {\"standoff\": 15}, \"zerolinecolor\": \"white\", \"zerolinewidth\": 2}}}, \"title\": {\"text\": \"Bar chart of loan size distribution over the years\", \"x\": 0.5}, \"yaxis\": {\"title\": {\"text\": \"Loan size\"}}},                        {\"responsive\": true}                    ).then(function(){\n",
       "                            \n",
       "var gd = document.getElementById('60cd5fe3-dcdf-43c5-bc68-f3520cbc2d6e');\n",
       "var x = new MutationObserver(function (mutations, observer) {{\n",
       "        var display = window.getComputedStyle(gd).display;\n",
       "        if (!display || display === 'none') {{\n",
       "            console.log([gd, 'removed!']);\n",
       "            Plotly.purge(gd);\n",
       "            observer.disconnect();\n",
       "        }}\n",
       "}});\n",
       "\n",
       "// Listen for the removal of the full notebook cells\n",
       "var notebookContainer = gd.closest('#notebook-container');\n",
       "if (notebookContainer) {{\n",
       "    x.observe(notebookContainer, {childList: true});\n",
       "}}\n",
       "\n",
       "// Listen for the clearing of the current output cell\n",
       "var outputEl = gd.closest('.output');\n",
       "if (outputEl) {{\n",
       "    x.observe(outputEl, {childList: true});\n",
       "}}\n",
       "\n",
       "                        })                };                });            </script>        </div>"
      ]
     },
     "metadata": {},
     "output_type": "display_data"
    }
   ],
   "source": [
    "#build bar charts of loan performance devided by status of loan\n",
    "\n",
    "bar_plot = [\n",
    "    go.Bar(x=loan_group_by_year['Disbursal Year'], y=loan_group_by_year['Loan Size']),\n",
    "]\n",
    "layout = go.Layout(\n",
    "    title = go.layout.Title(text='Bar chart of loan size distribution over the years', x=0.5),\n",
    "    yaxis_title = 'Loan size'\n",
    ")\n",
    "fig = go.Figure(data=bar_plot, layout=layout)\n",
    "fig.update_layout(barmode='stack')\n",
    "fig.show()"
   ]
  },
  {
   "cell_type": "code",
   "execution_count": 246,
   "metadata": {},
   "outputs": [
    {
     "ename": "KeyError",
     "evalue": "'Completed Loans Size'",
     "output_type": "error",
     "traceback": [
      "\u001b[1;31m---------------------------------------------------------------------------\u001b[0m",
      "\u001b[1;31mKeyError\u001b[0m                                  Traceback (most recent call last)",
      "\u001b[1;32mC:\\ProgramData\\Anaconda3\\lib\\site-packages\\pandas\\core\\indexes\\base.py\u001b[0m in \u001b[0;36mget_loc\u001b[1;34m(self, key, method, tolerance)\u001b[0m\n\u001b[0;32m   2894\u001b[0m             \u001b[1;32mtry\u001b[0m\u001b[1;33m:\u001b[0m\u001b[1;33m\u001b[0m\u001b[1;33m\u001b[0m\u001b[0m\n\u001b[1;32m-> 2895\u001b[1;33m                 \u001b[1;32mreturn\u001b[0m \u001b[0mself\u001b[0m\u001b[1;33m.\u001b[0m\u001b[0m_engine\u001b[0m\u001b[1;33m.\u001b[0m\u001b[0mget_loc\u001b[0m\u001b[1;33m(\u001b[0m\u001b[0mcasted_key\u001b[0m\u001b[1;33m)\u001b[0m\u001b[1;33m\u001b[0m\u001b[1;33m\u001b[0m\u001b[0m\n\u001b[0m\u001b[0;32m   2896\u001b[0m             \u001b[1;32mexcept\u001b[0m \u001b[0mKeyError\u001b[0m \u001b[1;32mas\u001b[0m \u001b[0merr\u001b[0m\u001b[1;33m:\u001b[0m\u001b[1;33m\u001b[0m\u001b[1;33m\u001b[0m\u001b[0m\n",
      "\u001b[1;32mpandas\\_libs\\index.pyx\u001b[0m in \u001b[0;36mpandas._libs.index.IndexEngine.get_loc\u001b[1;34m()\u001b[0m\n",
      "\u001b[1;32mpandas\\_libs\\index.pyx\u001b[0m in \u001b[0;36mpandas._libs.index.IndexEngine.get_loc\u001b[1;34m()\u001b[0m\n",
      "\u001b[1;32mpandas\\_libs\\hashtable_class_helper.pxi\u001b[0m in \u001b[0;36mpandas._libs.hashtable.PyObjectHashTable.get_item\u001b[1;34m()\u001b[0m\n",
      "\u001b[1;32mpandas\\_libs\\hashtable_class_helper.pxi\u001b[0m in \u001b[0;36mpandas._libs.hashtable.PyObjectHashTable.get_item\u001b[1;34m()\u001b[0m\n",
      "\u001b[1;31mKeyError\u001b[0m: 'Completed Loans Size'",
      "\nThe above exception was the direct cause of the following exception:\n",
      "\u001b[1;31mKeyError\u001b[0m                                  Traceback (most recent call last)",
      "\u001b[1;32m<ipython-input-246-cbf78baf4abd>\u001b[0m in \u001b[0;36m<module>\u001b[1;34m\u001b[0m\n\u001b[0;32m      2\u001b[0m \u001b[1;33m\u001b[0m\u001b[0m\n\u001b[0;32m      3\u001b[0m bar_plots = [\n\u001b[1;32m----> 4\u001b[1;33m     \u001b[0mgo\u001b[0m\u001b[1;33m.\u001b[0m\u001b[0mBar\u001b[0m\u001b[1;33m(\u001b[0m\u001b[0mx\u001b[0m\u001b[1;33m=\u001b[0m\u001b[0mloan_perf_years\u001b[0m\u001b[1;33m[\u001b[0m\u001b[1;34m'Disbursal Year'\u001b[0m\u001b[1;33m]\u001b[0m\u001b[1;33m,\u001b[0m \u001b[0my\u001b[0m\u001b[1;33m=\u001b[0m\u001b[0mloan_perf_years\u001b[0m\u001b[1;33m[\u001b[0m\u001b[1;34m'Completed Loans Size'\u001b[0m\u001b[1;33m]\u001b[0m\u001b[1;33m,\u001b[0m \u001b[0mname\u001b[0m\u001b[1;33m=\u001b[0m\u001b[1;34m'Completed'\u001b[0m\u001b[1;33m)\u001b[0m\u001b[1;33m,\u001b[0m\u001b[1;33m\u001b[0m\u001b[1;33m\u001b[0m\u001b[0m\n\u001b[0m\u001b[0;32m      5\u001b[0m     \u001b[0mgo\u001b[0m\u001b[1;33m.\u001b[0m\u001b[0mBar\u001b[0m\u001b[1;33m(\u001b[0m\u001b[0mx\u001b[0m\u001b[1;33m=\u001b[0m\u001b[0mloan_perf_years\u001b[0m\u001b[1;33m[\u001b[0m\u001b[1;34m'Disbursal Year'\u001b[0m\u001b[1;33m]\u001b[0m\u001b[1;33m,\u001b[0m \u001b[0my\u001b[0m\u001b[1;33m=\u001b[0m\u001b[0mloan_perf_years\u001b[0m\u001b[1;33m[\u001b[0m\u001b[1;34m'Default Loans Size'\u001b[0m\u001b[1;33m]\u001b[0m\u001b[1;33m,\u001b[0m \u001b[0mname\u001b[0m\u001b[1;33m=\u001b[0m\u001b[1;34m'Default'\u001b[0m\u001b[1;33m)\u001b[0m\u001b[1;33m\u001b[0m\u001b[1;33m\u001b[0m\u001b[0m\n\u001b[0;32m      6\u001b[0m ]\n",
      "\u001b[1;32mC:\\ProgramData\\Anaconda3\\lib\\site-packages\\pandas\\core\\frame.py\u001b[0m in \u001b[0;36m__getitem__\u001b[1;34m(self, key)\u001b[0m\n\u001b[0;32m   2900\u001b[0m             \u001b[1;32mif\u001b[0m \u001b[0mself\u001b[0m\u001b[1;33m.\u001b[0m\u001b[0mcolumns\u001b[0m\u001b[1;33m.\u001b[0m\u001b[0mnlevels\u001b[0m \u001b[1;33m>\u001b[0m \u001b[1;36m1\u001b[0m\u001b[1;33m:\u001b[0m\u001b[1;33m\u001b[0m\u001b[1;33m\u001b[0m\u001b[0m\n\u001b[0;32m   2901\u001b[0m                 \u001b[1;32mreturn\u001b[0m \u001b[0mself\u001b[0m\u001b[1;33m.\u001b[0m\u001b[0m_getitem_multilevel\u001b[0m\u001b[1;33m(\u001b[0m\u001b[0mkey\u001b[0m\u001b[1;33m)\u001b[0m\u001b[1;33m\u001b[0m\u001b[1;33m\u001b[0m\u001b[0m\n\u001b[1;32m-> 2902\u001b[1;33m             \u001b[0mindexer\u001b[0m \u001b[1;33m=\u001b[0m \u001b[0mself\u001b[0m\u001b[1;33m.\u001b[0m\u001b[0mcolumns\u001b[0m\u001b[1;33m.\u001b[0m\u001b[0mget_loc\u001b[0m\u001b[1;33m(\u001b[0m\u001b[0mkey\u001b[0m\u001b[1;33m)\u001b[0m\u001b[1;33m\u001b[0m\u001b[1;33m\u001b[0m\u001b[0m\n\u001b[0m\u001b[0;32m   2903\u001b[0m             \u001b[1;32mif\u001b[0m \u001b[0mis_integer\u001b[0m\u001b[1;33m(\u001b[0m\u001b[0mindexer\u001b[0m\u001b[1;33m)\u001b[0m\u001b[1;33m:\u001b[0m\u001b[1;33m\u001b[0m\u001b[1;33m\u001b[0m\u001b[0m\n\u001b[0;32m   2904\u001b[0m                 \u001b[0mindexer\u001b[0m \u001b[1;33m=\u001b[0m \u001b[1;33m[\u001b[0m\u001b[0mindexer\u001b[0m\u001b[1;33m]\u001b[0m\u001b[1;33m\u001b[0m\u001b[1;33m\u001b[0m\u001b[0m\n",
      "\u001b[1;32mC:\\ProgramData\\Anaconda3\\lib\\site-packages\\pandas\\core\\indexes\\base.py\u001b[0m in \u001b[0;36mget_loc\u001b[1;34m(self, key, method, tolerance)\u001b[0m\n\u001b[0;32m   2895\u001b[0m                 \u001b[1;32mreturn\u001b[0m \u001b[0mself\u001b[0m\u001b[1;33m.\u001b[0m\u001b[0m_engine\u001b[0m\u001b[1;33m.\u001b[0m\u001b[0mget_loc\u001b[0m\u001b[1;33m(\u001b[0m\u001b[0mcasted_key\u001b[0m\u001b[1;33m)\u001b[0m\u001b[1;33m\u001b[0m\u001b[1;33m\u001b[0m\u001b[0m\n\u001b[0;32m   2896\u001b[0m             \u001b[1;32mexcept\u001b[0m \u001b[0mKeyError\u001b[0m \u001b[1;32mas\u001b[0m \u001b[0merr\u001b[0m\u001b[1;33m:\u001b[0m\u001b[1;33m\u001b[0m\u001b[1;33m\u001b[0m\u001b[0m\n\u001b[1;32m-> 2897\u001b[1;33m                 \u001b[1;32mraise\u001b[0m \u001b[0mKeyError\u001b[0m\u001b[1;33m(\u001b[0m\u001b[0mkey\u001b[0m\u001b[1;33m)\u001b[0m \u001b[1;32mfrom\u001b[0m \u001b[0merr\u001b[0m\u001b[1;33m\u001b[0m\u001b[1;33m\u001b[0m\u001b[0m\n\u001b[0m\u001b[0;32m   2898\u001b[0m \u001b[1;33m\u001b[0m\u001b[0m\n\u001b[0;32m   2899\u001b[0m         \u001b[1;32mif\u001b[0m \u001b[0mtolerance\u001b[0m \u001b[1;32mis\u001b[0m \u001b[1;32mnot\u001b[0m \u001b[1;32mNone\u001b[0m\u001b[1;33m:\u001b[0m\u001b[1;33m\u001b[0m\u001b[1;33m\u001b[0m\u001b[0m\n",
      "\u001b[1;31mKeyError\u001b[0m: 'Completed Loans Size'"
     ]
    }
   ],
   "source": [
    "#build bar charts of loan performance devided by status of loan\n",
    "\n",
    "bar_plots = [\n",
    "    go.Bar(x=loan_perf_years['Disbursal Year'], y=loan_perf_years['Completed Loans Size'], name='Completed'),\n",
    "    go.Bar(x=loan_perf_years['Disbursal Year'], y=loan_perf_years['Default Loans Size'], name='Default')\n",
    "]\n",
    "layout = go.Layout(\n",
    "    title = go.layout.Title(text='Bar chart of loan size performance over the years', x=0.5),\n",
    "    yaxis_title = 'Loans amount'\n",
    ")\n",
    "fig = go.Figure(data=bar_plots, layout=layout)\n",
    "fig.update_layout(barmode='group')\n",
    "\n",
    "fig.show()"
   ]
  },
  {
   "cell_type": "markdown",
   "metadata": {},
   "source": [
    "## Step 8. The seasonality in loan performance over the course of a year\n",
    "<a class=\"anchor\" id=\"8\"></a>"
   ]
  },
  {
   "cell_type": "code",
   "execution_count": 249,
   "metadata": {},
   "outputs": [
    {
     "data": {
      "text/html": [
       "<div>\n",
       "<style scoped>\n",
       "    .dataframe tbody tr th:only-of-type {\n",
       "        vertical-align: middle;\n",
       "    }\n",
       "\n",
       "    .dataframe tbody tr th {\n",
       "        vertical-align: top;\n",
       "    }\n",
       "\n",
       "    .dataframe thead th {\n",
       "        text-align: right;\n",
       "    }\n",
       "</style>\n",
       "<table border=\"1\" class=\"dataframe\">\n",
       "  <thead>\n",
       "    <tr style=\"text-align: right;\">\n",
       "      <th></th>\n",
       "      <th>Month</th>\n",
       "      <th>Completed Loans Amount</th>\n",
       "      <th>Completed Loans Number</th>\n",
       "      <th>Default Loans Amount</th>\n",
       "      <th>Default Loans Number</th>\n",
       "    </tr>\n",
       "  </thead>\n",
       "  <tbody>\n",
       "    <tr>\n",
       "      <th>0</th>\n",
       "      <td>01</td>\n",
       "      <td>149397984</td>\n",
       "      <td>27362</td>\n",
       "      <td>18711270</td>\n",
       "      <td>2372</td>\n",
       "    </tr>\n",
       "    <tr>\n",
       "      <th>1</th>\n",
       "      <td>02</td>\n",
       "      <td>133915073</td>\n",
       "      <td>24253</td>\n",
       "      <td>16444020</td>\n",
       "      <td>2105</td>\n",
       "    </tr>\n",
       "    <tr>\n",
       "      <th>2</th>\n",
       "      <td>03</td>\n",
       "      <td>131069045</td>\n",
       "      <td>24293</td>\n",
       "      <td>14566061</td>\n",
       "      <td>1939</td>\n",
       "    </tr>\n",
       "    <tr>\n",
       "      <th>3</th>\n",
       "      <td>04</td>\n",
       "      <td>125751048</td>\n",
       "      <td>22751</td>\n",
       "      <td>15816405</td>\n",
       "      <td>2071</td>\n",
       "    </tr>\n",
       "    <tr>\n",
       "      <th>4</th>\n",
       "      <td>05</td>\n",
       "      <td>130185033</td>\n",
       "      <td>23445</td>\n",
       "      <td>17067860</td>\n",
       "      <td>2247</td>\n",
       "    </tr>\n",
       "    <tr>\n",
       "      <th>5</th>\n",
       "      <td>06</td>\n",
       "      <td>126514486</td>\n",
       "      <td>23163</td>\n",
       "      <td>17953073</td>\n",
       "      <td>2307</td>\n",
       "    </tr>\n",
       "    <tr>\n",
       "      <th>6</th>\n",
       "      <td>07</td>\n",
       "      <td>134662237</td>\n",
       "      <td>24421</td>\n",
       "      <td>17412780</td>\n",
       "      <td>2337</td>\n",
       "    </tr>\n",
       "    <tr>\n",
       "      <th>7</th>\n",
       "      <td>08</td>\n",
       "      <td>129029978</td>\n",
       "      <td>23961</td>\n",
       "      <td>17106445</td>\n",
       "      <td>2217</td>\n",
       "    </tr>\n",
       "    <tr>\n",
       "      <th>8</th>\n",
       "      <td>09</td>\n",
       "      <td>129856459</td>\n",
       "      <td>23056</td>\n",
       "      <td>16928810</td>\n",
       "      <td>2128</td>\n",
       "    </tr>\n",
       "    <tr>\n",
       "      <th>9</th>\n",
       "      <td>10</td>\n",
       "      <td>131489558</td>\n",
       "      <td>23542</td>\n",
       "      <td>18049800</td>\n",
       "      <td>2248</td>\n",
       "    </tr>\n",
       "    <tr>\n",
       "      <th>10</th>\n",
       "      <td>11</td>\n",
       "      <td>126631036</td>\n",
       "      <td>23274</td>\n",
       "      <td>17376090</td>\n",
       "      <td>2117</td>\n",
       "    </tr>\n",
       "    <tr>\n",
       "      <th>11</th>\n",
       "      <td>12</td>\n",
       "      <td>96429301</td>\n",
       "      <td>19271</td>\n",
       "      <td>13639415</td>\n",
       "      <td>1810</td>\n",
       "    </tr>\n",
       "  </tbody>\n",
       "</table>\n",
       "</div>"
      ],
      "text/plain": [
       "   Month  Completed Loans Amount  Completed Loans Number  \\\n",
       "0     01               149397984                   27362   \n",
       "1     02               133915073                   24253   \n",
       "2     03               131069045                   24293   \n",
       "3     04               125751048                   22751   \n",
       "4     05               130185033                   23445   \n",
       "5     06               126514486                   23163   \n",
       "6     07               134662237                   24421   \n",
       "7     08               129029978                   23961   \n",
       "8     09               129856459                   23056   \n",
       "9     10               131489558                   23542   \n",
       "10    11               126631036                   23274   \n",
       "11    12                96429301                   19271   \n",
       "\n",
       "    Default Loans Amount  Default Loans Number  \n",
       "0               18711270                  2372  \n",
       "1               16444020                  2105  \n",
       "2               14566061                  1939  \n",
       "3               15816405                  2071  \n",
       "4               17067860                  2247  \n",
       "5               17953073                  2307  \n",
       "6               17412780                  2337  \n",
       "7               17106445                  2217  \n",
       "8               16928810                  2128  \n",
       "9               18049800                  2248  \n",
       "10              17376090                  2117  \n",
       "11              13639415                  1810  "
      ]
     },
     "execution_count": 249,
     "metadata": {},
     "output_type": "execute_result"
    }
   ],
   "source": [
    "#pivot table for data without active loans\n",
    "loan_perf_months = data_new.pivot_table(index='Month', columns='Latest Status', values='Original Loan Amount', aggfunc=['sum','count']).reset_index()\n",
    "loan_perf_months.columns = ['Month','Completed Loans Amount','Default Loans Amount','Late Loans Amount','Completed Loans Number','Default Loans Number','Late Loans Number']\n",
    "loan_perf_months.fillna(0, inplace=True)\n",
    "loan_perf_months = loan_perf_months[['Month','Completed Loans Amount','Completed Loans Number','Default Loans Amount','Default Loans Number']]\n",
    "loan_perf_months"
   ]
  },
  {
   "cell_type": "code",
   "execution_count": 250,
   "metadata": {},
   "outputs": [
    {
     "data": {
      "text/html": [
       "<div>\n",
       "<style scoped>\n",
       "    .dataframe tbody tr th:only-of-type {\n",
       "        vertical-align: middle;\n",
       "    }\n",
       "\n",
       "    .dataframe tbody tr th {\n",
       "        vertical-align: top;\n",
       "    }\n",
       "\n",
       "    .dataframe thead th {\n",
       "        text-align: right;\n",
       "    }\n",
       "</style>\n",
       "<table border=\"1\" class=\"dataframe\">\n",
       "  <thead>\n",
       "    <tr style=\"text-align: right;\">\n",
       "      <th></th>\n",
       "      <th>Month</th>\n",
       "      <th>Completed Loans Amount</th>\n",
       "      <th>Completed Loans Number</th>\n",
       "      <th>Default Loans Amount</th>\n",
       "      <th>Default Loans Number</th>\n",
       "      <th>Completed Loans Size</th>\n",
       "      <th>Default Loans Size</th>\n",
       "      <th>Total Loans Size</th>\n",
       "      <th>Completed pct</th>\n",
       "      <th>Default pct</th>\n",
       "    </tr>\n",
       "  </thead>\n",
       "  <tbody>\n",
       "    <tr>\n",
       "      <th>0</th>\n",
       "      <td>01</td>\n",
       "      <td>149397984</td>\n",
       "      <td>27362</td>\n",
       "      <td>18711270</td>\n",
       "      <td>2372</td>\n",
       "      <td>5460.053505</td>\n",
       "      <td>7888.393761</td>\n",
       "      <td>13348.447265</td>\n",
       "      <td>0.409040</td>\n",
       "      <td>0.590960</td>\n",
       "    </tr>\n",
       "    <tr>\n",
       "      <th>1</th>\n",
       "      <td>02</td>\n",
       "      <td>133915073</td>\n",
       "      <td>24253</td>\n",
       "      <td>16444020</td>\n",
       "      <td>2105</td>\n",
       "      <td>5521.587968</td>\n",
       "      <td>7811.885986</td>\n",
       "      <td>13333.473954</td>\n",
       "      <td>0.414115</td>\n",
       "      <td>0.585885</td>\n",
       "    </tr>\n",
       "    <tr>\n",
       "      <th>2</th>\n",
       "      <td>03</td>\n",
       "      <td>131069045</td>\n",
       "      <td>24293</td>\n",
       "      <td>14566061</td>\n",
       "      <td>1939</td>\n",
       "      <td>5395.342074</td>\n",
       "      <td>7512.151109</td>\n",
       "      <td>12907.493183</td>\n",
       "      <td>0.418001</td>\n",
       "      <td>0.581999</td>\n",
       "    </tr>\n",
       "    <tr>\n",
       "      <th>3</th>\n",
       "      <td>04</td>\n",
       "      <td>125751048</td>\n",
       "      <td>22751</td>\n",
       "      <td>15816405</td>\n",
       "      <td>2071</td>\n",
       "      <td>5527.275636</td>\n",
       "      <td>7637.085949</td>\n",
       "      <td>13164.361585</td>\n",
       "      <td>0.419867</td>\n",
       "      <td>0.580133</td>\n",
       "    </tr>\n",
       "    <tr>\n",
       "      <th>4</th>\n",
       "      <td>05</td>\n",
       "      <td>130185033</td>\n",
       "      <td>23445</td>\n",
       "      <td>17067860</td>\n",
       "      <td>2247</td>\n",
       "      <td>5552.784517</td>\n",
       "      <td>7595.843347</td>\n",
       "      <td>13148.627864</td>\n",
       "      <td>0.422309</td>\n",
       "      <td>0.577691</td>\n",
       "    </tr>\n",
       "    <tr>\n",
       "      <th>5</th>\n",
       "      <td>06</td>\n",
       "      <td>126514486</td>\n",
       "      <td>23163</td>\n",
       "      <td>17953073</td>\n",
       "      <td>2307</td>\n",
       "      <td>5461.921426</td>\n",
       "      <td>7781.999567</td>\n",
       "      <td>13243.920993</td>\n",
       "      <td>0.412410</td>\n",
       "      <td>0.587590</td>\n",
       "    </tr>\n",
       "    <tr>\n",
       "      <th>6</th>\n",
       "      <td>07</td>\n",
       "      <td>134662237</td>\n",
       "      <td>24421</td>\n",
       "      <td>17412780</td>\n",
       "      <td>2337</td>\n",
       "      <td>5514.198313</td>\n",
       "      <td>7450.911425</td>\n",
       "      <td>12965.109738</td>\n",
       "      <td>0.425311</td>\n",
       "      <td>0.574689</td>\n",
       "    </tr>\n",
       "    <tr>\n",
       "      <th>7</th>\n",
       "      <td>08</td>\n",
       "      <td>129029978</td>\n",
       "      <td>23961</td>\n",
       "      <td>17106445</td>\n",
       "      <td>2217</td>\n",
       "      <td>5384.999708</td>\n",
       "      <td>7716.032927</td>\n",
       "      <td>13101.032635</td>\n",
       "      <td>0.411036</td>\n",
       "      <td>0.588964</td>\n",
       "    </tr>\n",
       "    <tr>\n",
       "      <th>8</th>\n",
       "      <td>09</td>\n",
       "      <td>129856459</td>\n",
       "      <td>23056</td>\n",
       "      <td>16928810</td>\n",
       "      <td>2128</td>\n",
       "      <td>5632.219769</td>\n",
       "      <td>7955.267857</td>\n",
       "      <td>13587.487626</td>\n",
       "      <td>0.414515</td>\n",
       "      <td>0.585485</td>\n",
       "    </tr>\n",
       "    <tr>\n",
       "      <th>9</th>\n",
       "      <td>10</td>\n",
       "      <td>131489558</td>\n",
       "      <td>23542</td>\n",
       "      <td>18049800</td>\n",
       "      <td>2248</td>\n",
       "      <td>5585.318070</td>\n",
       "      <td>8029.270463</td>\n",
       "      <td>13614.588532</td>\n",
       "      <td>0.410245</td>\n",
       "      <td>0.589755</td>\n",
       "    </tr>\n",
       "    <tr>\n",
       "      <th>10</th>\n",
       "      <td>11</td>\n",
       "      <td>126631036</td>\n",
       "      <td>23274</td>\n",
       "      <td>17376090</td>\n",
       "      <td>2117</td>\n",
       "      <td>5440.879780</td>\n",
       "      <td>8207.883798</td>\n",
       "      <td>13648.763578</td>\n",
       "      <td>0.398635</td>\n",
       "      <td>0.601365</td>\n",
       "    </tr>\n",
       "    <tr>\n",
       "      <th>11</th>\n",
       "      <td>12</td>\n",
       "      <td>96429301</td>\n",
       "      <td>19271</td>\n",
       "      <td>13639415</td>\n",
       "      <td>1810</td>\n",
       "      <td>5003.855586</td>\n",
       "      <td>7535.588398</td>\n",
       "      <td>12539.443984</td>\n",
       "      <td>0.399049</td>\n",
       "      <td>0.600951</td>\n",
       "    </tr>\n",
       "  </tbody>\n",
       "</table>\n",
       "</div>"
      ],
      "text/plain": [
       "   Month  Completed Loans Amount  Completed Loans Number  \\\n",
       "0     01               149397984                   27362   \n",
       "1     02               133915073                   24253   \n",
       "2     03               131069045                   24293   \n",
       "3     04               125751048                   22751   \n",
       "4     05               130185033                   23445   \n",
       "5     06               126514486                   23163   \n",
       "6     07               134662237                   24421   \n",
       "7     08               129029978                   23961   \n",
       "8     09               129856459                   23056   \n",
       "9     10               131489558                   23542   \n",
       "10    11               126631036                   23274   \n",
       "11    12                96429301                   19271   \n",
       "\n",
       "    Default Loans Amount  Default Loans Number  Completed Loans Size  \\\n",
       "0               18711270                  2372           5460.053505   \n",
       "1               16444020                  2105           5521.587968   \n",
       "2               14566061                  1939           5395.342074   \n",
       "3               15816405                  2071           5527.275636   \n",
       "4               17067860                  2247           5552.784517   \n",
       "5               17953073                  2307           5461.921426   \n",
       "6               17412780                  2337           5514.198313   \n",
       "7               17106445                  2217           5384.999708   \n",
       "8               16928810                  2128           5632.219769   \n",
       "9               18049800                  2248           5585.318070   \n",
       "10              17376090                  2117           5440.879780   \n",
       "11              13639415                  1810           5003.855586   \n",
       "\n",
       "    Default Loans Size  Total Loans Size  Completed pct  Default pct  \n",
       "0          7888.393761      13348.447265       0.409040     0.590960  \n",
       "1          7811.885986      13333.473954       0.414115     0.585885  \n",
       "2          7512.151109      12907.493183       0.418001     0.581999  \n",
       "3          7637.085949      13164.361585       0.419867     0.580133  \n",
       "4          7595.843347      13148.627864       0.422309     0.577691  \n",
       "5          7781.999567      13243.920993       0.412410     0.587590  \n",
       "6          7450.911425      12965.109738       0.425311     0.574689  \n",
       "7          7716.032927      13101.032635       0.411036     0.588964  \n",
       "8          7955.267857      13587.487626       0.414515     0.585485  \n",
       "9          8029.270463      13614.588532       0.410245     0.589755  \n",
       "10         8207.883798      13648.763578       0.398635     0.601365  \n",
       "11         7535.588398      12539.443984       0.399049     0.600951  "
      ]
     },
     "execution_count": 250,
     "metadata": {},
     "output_type": "execute_result"
    }
   ],
   "source": [
    "loan_perf_months['Completed Loans Size'] = loan_perf_months['Completed Loans Amount']/loan_perf_months['Completed Loans Number']\n",
    "\n",
    "loan_perf_months['Default Loans Size'] = loan_perf_months['Default Loans Amount']/loan_perf_months['Default Loans Number']\n",
    "\n",
    "loan_perf_months\n",
    "#percentage calculate\n",
    "loan_perf_months['Total Loans Size'] = loan_perf_months['Completed Loans Size']+loan_perf_months['Default Loans Size']\n",
    "loan_perf_months['Completed pct'] = loan_perf_months['Completed Loans Size']/loan_perf_months['Total Loans Size']\n",
    "loan_perf_months['Default pct'] = loan_perf_months['Default Loans Size']/loan_perf_months['Total Loans Size']\n",
    "loan_perf_months"
   ]
  },
  {
   "cell_type": "code",
   "execution_count": 251,
   "metadata": {},
   "outputs": [
    {
     "data": {
      "application/vnd.plotly.v1+json": {
       "config": {
        "plotlyServerURL": "https://plot.ly"
       },
       "data": [
        {
         "name": "Completed, %",
         "type": "bar",
         "x": [
          "01",
          "02",
          "03",
          "04",
          "05",
          "06",
          "07",
          "08",
          "09",
          "10",
          "11",
          "12"
         ],
         "y": [
          0.40904034726296556,
          0.41411473014802813,
          0.4180007688164785,
          0.4198665921263978,
          0.42230904810304476,
          0.4124096956875937,
          0.42531057772981457,
          0.41103627918417135,
          0.41451517190816994,
          0.4102450879447135,
          0.39863535982454346,
          0.3990492395465848
         ]
        },
        {
         "name": "Default, %",
         "type": "bar",
         "x": [
          "01",
          "02",
          "03",
          "04",
          "05",
          "06",
          "07",
          "08",
          "09",
          "10",
          "11",
          "12"
         ],
         "y": [
          0.5909596527370345,
          0.5858852698519718,
          0.5819992311835215,
          0.5801334078736021,
          0.5776909518969553,
          0.5875903043124062,
          0.5746894222701855,
          0.5889637208158287,
          0.58548482809183,
          0.5897549120552864,
          0.6013646401754564,
          0.6009507604534153
         ]
        }
       ],
       "layout": {
        "barmode": "stack",
        "template": {
         "data": {
          "bar": [
           {
            "error_x": {
             "color": "#2a3f5f"
            },
            "error_y": {
             "color": "#2a3f5f"
            },
            "marker": {
             "line": {
              "color": "#E5ECF6",
              "width": 0.5
             }
            },
            "type": "bar"
           }
          ],
          "barpolar": [
           {
            "marker": {
             "line": {
              "color": "#E5ECF6",
              "width": 0.5
             }
            },
            "type": "barpolar"
           }
          ],
          "carpet": [
           {
            "aaxis": {
             "endlinecolor": "#2a3f5f",
             "gridcolor": "white",
             "linecolor": "white",
             "minorgridcolor": "white",
             "startlinecolor": "#2a3f5f"
            },
            "baxis": {
             "endlinecolor": "#2a3f5f",
             "gridcolor": "white",
             "linecolor": "white",
             "minorgridcolor": "white",
             "startlinecolor": "#2a3f5f"
            },
            "type": "carpet"
           }
          ],
          "choropleth": [
           {
            "colorbar": {
             "outlinewidth": 0,
             "ticks": ""
            },
            "type": "choropleth"
           }
          ],
          "contour": [
           {
            "colorbar": {
             "outlinewidth": 0,
             "ticks": ""
            },
            "colorscale": [
             [
              0,
              "#0d0887"
             ],
             [
              0.1111111111111111,
              "#46039f"
             ],
             [
              0.2222222222222222,
              "#7201a8"
             ],
             [
              0.3333333333333333,
              "#9c179e"
             ],
             [
              0.4444444444444444,
              "#bd3786"
             ],
             [
              0.5555555555555556,
              "#d8576b"
             ],
             [
              0.6666666666666666,
              "#ed7953"
             ],
             [
              0.7777777777777778,
              "#fb9f3a"
             ],
             [
              0.8888888888888888,
              "#fdca26"
             ],
             [
              1,
              "#f0f921"
             ]
            ],
            "type": "contour"
           }
          ],
          "contourcarpet": [
           {
            "colorbar": {
             "outlinewidth": 0,
             "ticks": ""
            },
            "type": "contourcarpet"
           }
          ],
          "heatmap": [
           {
            "colorbar": {
             "outlinewidth": 0,
             "ticks": ""
            },
            "colorscale": [
             [
              0,
              "#0d0887"
             ],
             [
              0.1111111111111111,
              "#46039f"
             ],
             [
              0.2222222222222222,
              "#7201a8"
             ],
             [
              0.3333333333333333,
              "#9c179e"
             ],
             [
              0.4444444444444444,
              "#bd3786"
             ],
             [
              0.5555555555555556,
              "#d8576b"
             ],
             [
              0.6666666666666666,
              "#ed7953"
             ],
             [
              0.7777777777777778,
              "#fb9f3a"
             ],
             [
              0.8888888888888888,
              "#fdca26"
             ],
             [
              1,
              "#f0f921"
             ]
            ],
            "type": "heatmap"
           }
          ],
          "heatmapgl": [
           {
            "colorbar": {
             "outlinewidth": 0,
             "ticks": ""
            },
            "colorscale": [
             [
              0,
              "#0d0887"
             ],
             [
              0.1111111111111111,
              "#46039f"
             ],
             [
              0.2222222222222222,
              "#7201a8"
             ],
             [
              0.3333333333333333,
              "#9c179e"
             ],
             [
              0.4444444444444444,
              "#bd3786"
             ],
             [
              0.5555555555555556,
              "#d8576b"
             ],
             [
              0.6666666666666666,
              "#ed7953"
             ],
             [
              0.7777777777777778,
              "#fb9f3a"
             ],
             [
              0.8888888888888888,
              "#fdca26"
             ],
             [
              1,
              "#f0f921"
             ]
            ],
            "type": "heatmapgl"
           }
          ],
          "histogram": [
           {
            "marker": {
             "colorbar": {
              "outlinewidth": 0,
              "ticks": ""
             }
            },
            "type": "histogram"
           }
          ],
          "histogram2d": [
           {
            "colorbar": {
             "outlinewidth": 0,
             "ticks": ""
            },
            "colorscale": [
             [
              0,
              "#0d0887"
             ],
             [
              0.1111111111111111,
              "#46039f"
             ],
             [
              0.2222222222222222,
              "#7201a8"
             ],
             [
              0.3333333333333333,
              "#9c179e"
             ],
             [
              0.4444444444444444,
              "#bd3786"
             ],
             [
              0.5555555555555556,
              "#d8576b"
             ],
             [
              0.6666666666666666,
              "#ed7953"
             ],
             [
              0.7777777777777778,
              "#fb9f3a"
             ],
             [
              0.8888888888888888,
              "#fdca26"
             ],
             [
              1,
              "#f0f921"
             ]
            ],
            "type": "histogram2d"
           }
          ],
          "histogram2dcontour": [
           {
            "colorbar": {
             "outlinewidth": 0,
             "ticks": ""
            },
            "colorscale": [
             [
              0,
              "#0d0887"
             ],
             [
              0.1111111111111111,
              "#46039f"
             ],
             [
              0.2222222222222222,
              "#7201a8"
             ],
             [
              0.3333333333333333,
              "#9c179e"
             ],
             [
              0.4444444444444444,
              "#bd3786"
             ],
             [
              0.5555555555555556,
              "#d8576b"
             ],
             [
              0.6666666666666666,
              "#ed7953"
             ],
             [
              0.7777777777777778,
              "#fb9f3a"
             ],
             [
              0.8888888888888888,
              "#fdca26"
             ],
             [
              1,
              "#f0f921"
             ]
            ],
            "type": "histogram2dcontour"
           }
          ],
          "mesh3d": [
           {
            "colorbar": {
             "outlinewidth": 0,
             "ticks": ""
            },
            "type": "mesh3d"
           }
          ],
          "parcoords": [
           {
            "line": {
             "colorbar": {
              "outlinewidth": 0,
              "ticks": ""
             }
            },
            "type": "parcoords"
           }
          ],
          "pie": [
           {
            "automargin": true,
            "type": "pie"
           }
          ],
          "scatter": [
           {
            "marker": {
             "colorbar": {
              "outlinewidth": 0,
              "ticks": ""
             }
            },
            "type": "scatter"
           }
          ],
          "scatter3d": [
           {
            "line": {
             "colorbar": {
              "outlinewidth": 0,
              "ticks": ""
             }
            },
            "marker": {
             "colorbar": {
              "outlinewidth": 0,
              "ticks": ""
             }
            },
            "type": "scatter3d"
           }
          ],
          "scattercarpet": [
           {
            "marker": {
             "colorbar": {
              "outlinewidth": 0,
              "ticks": ""
             }
            },
            "type": "scattercarpet"
           }
          ],
          "scattergeo": [
           {
            "marker": {
             "colorbar": {
              "outlinewidth": 0,
              "ticks": ""
             }
            },
            "type": "scattergeo"
           }
          ],
          "scattergl": [
           {
            "marker": {
             "colorbar": {
              "outlinewidth": 0,
              "ticks": ""
             }
            },
            "type": "scattergl"
           }
          ],
          "scattermapbox": [
           {
            "marker": {
             "colorbar": {
              "outlinewidth": 0,
              "ticks": ""
             }
            },
            "type": "scattermapbox"
           }
          ],
          "scatterpolar": [
           {
            "marker": {
             "colorbar": {
              "outlinewidth": 0,
              "ticks": ""
             }
            },
            "type": "scatterpolar"
           }
          ],
          "scatterpolargl": [
           {
            "marker": {
             "colorbar": {
              "outlinewidth": 0,
              "ticks": ""
             }
            },
            "type": "scatterpolargl"
           }
          ],
          "scatterternary": [
           {
            "marker": {
             "colorbar": {
              "outlinewidth": 0,
              "ticks": ""
             }
            },
            "type": "scatterternary"
           }
          ],
          "surface": [
           {
            "colorbar": {
             "outlinewidth": 0,
             "ticks": ""
            },
            "colorscale": [
             [
              0,
              "#0d0887"
             ],
             [
              0.1111111111111111,
              "#46039f"
             ],
             [
              0.2222222222222222,
              "#7201a8"
             ],
             [
              0.3333333333333333,
              "#9c179e"
             ],
             [
              0.4444444444444444,
              "#bd3786"
             ],
             [
              0.5555555555555556,
              "#d8576b"
             ],
             [
              0.6666666666666666,
              "#ed7953"
             ],
             [
              0.7777777777777778,
              "#fb9f3a"
             ],
             [
              0.8888888888888888,
              "#fdca26"
             ],
             [
              1,
              "#f0f921"
             ]
            ],
            "type": "surface"
           }
          ],
          "table": [
           {
            "cells": {
             "fill": {
              "color": "#EBF0F8"
             },
             "line": {
              "color": "white"
             }
            },
            "header": {
             "fill": {
              "color": "#C8D4E3"
             },
             "line": {
              "color": "white"
             }
            },
            "type": "table"
           }
          ]
         },
         "layout": {
          "annotationdefaults": {
           "arrowcolor": "#2a3f5f",
           "arrowhead": 0,
           "arrowwidth": 1
          },
          "autotypenumbers": "strict",
          "coloraxis": {
           "colorbar": {
            "outlinewidth": 0,
            "ticks": ""
           }
          },
          "colorscale": {
           "diverging": [
            [
             0,
             "#8e0152"
            ],
            [
             0.1,
             "#c51b7d"
            ],
            [
             0.2,
             "#de77ae"
            ],
            [
             0.3,
             "#f1b6da"
            ],
            [
             0.4,
             "#fde0ef"
            ],
            [
             0.5,
             "#f7f7f7"
            ],
            [
             0.6,
             "#e6f5d0"
            ],
            [
             0.7,
             "#b8e186"
            ],
            [
             0.8,
             "#7fbc41"
            ],
            [
             0.9,
             "#4d9221"
            ],
            [
             1,
             "#276419"
            ]
           ],
           "sequential": [
            [
             0,
             "#0d0887"
            ],
            [
             0.1111111111111111,
             "#46039f"
            ],
            [
             0.2222222222222222,
             "#7201a8"
            ],
            [
             0.3333333333333333,
             "#9c179e"
            ],
            [
             0.4444444444444444,
             "#bd3786"
            ],
            [
             0.5555555555555556,
             "#d8576b"
            ],
            [
             0.6666666666666666,
             "#ed7953"
            ],
            [
             0.7777777777777778,
             "#fb9f3a"
            ],
            [
             0.8888888888888888,
             "#fdca26"
            ],
            [
             1,
             "#f0f921"
            ]
           ],
           "sequentialminus": [
            [
             0,
             "#0d0887"
            ],
            [
             0.1111111111111111,
             "#46039f"
            ],
            [
             0.2222222222222222,
             "#7201a8"
            ],
            [
             0.3333333333333333,
             "#9c179e"
            ],
            [
             0.4444444444444444,
             "#bd3786"
            ],
            [
             0.5555555555555556,
             "#d8576b"
            ],
            [
             0.6666666666666666,
             "#ed7953"
            ],
            [
             0.7777777777777778,
             "#fb9f3a"
            ],
            [
             0.8888888888888888,
             "#fdca26"
            ],
            [
             1,
             "#f0f921"
            ]
           ]
          },
          "colorway": [
           "#636efa",
           "#EF553B",
           "#00cc96",
           "#ab63fa",
           "#FFA15A",
           "#19d3f3",
           "#FF6692",
           "#B6E880",
           "#FF97FF",
           "#FECB52"
          ],
          "font": {
           "color": "#2a3f5f"
          },
          "geo": {
           "bgcolor": "white",
           "lakecolor": "white",
           "landcolor": "#E5ECF6",
           "showlakes": true,
           "showland": true,
           "subunitcolor": "white"
          },
          "hoverlabel": {
           "align": "left"
          },
          "hovermode": "closest",
          "mapbox": {
           "style": "light"
          },
          "paper_bgcolor": "white",
          "plot_bgcolor": "#E5ECF6",
          "polar": {
           "angularaxis": {
            "gridcolor": "white",
            "linecolor": "white",
            "ticks": ""
           },
           "bgcolor": "#E5ECF6",
           "radialaxis": {
            "gridcolor": "white",
            "linecolor": "white",
            "ticks": ""
           }
          },
          "scene": {
           "xaxis": {
            "backgroundcolor": "#E5ECF6",
            "gridcolor": "white",
            "gridwidth": 2,
            "linecolor": "white",
            "showbackground": true,
            "ticks": "",
            "zerolinecolor": "white"
           },
           "yaxis": {
            "backgroundcolor": "#E5ECF6",
            "gridcolor": "white",
            "gridwidth": 2,
            "linecolor": "white",
            "showbackground": true,
            "ticks": "",
            "zerolinecolor": "white"
           },
           "zaxis": {
            "backgroundcolor": "#E5ECF6",
            "gridcolor": "white",
            "gridwidth": 2,
            "linecolor": "white",
            "showbackground": true,
            "ticks": "",
            "zerolinecolor": "white"
           }
          },
          "shapedefaults": {
           "line": {
            "color": "#2a3f5f"
           }
          },
          "ternary": {
           "aaxis": {
            "gridcolor": "white",
            "linecolor": "white",
            "ticks": ""
           },
           "baxis": {
            "gridcolor": "white",
            "linecolor": "white",
            "ticks": ""
           },
           "bgcolor": "#E5ECF6",
           "caxis": {
            "gridcolor": "white",
            "linecolor": "white",
            "ticks": ""
           }
          },
          "title": {
           "x": 0.05
          },
          "xaxis": {
           "automargin": true,
           "gridcolor": "white",
           "linecolor": "white",
           "ticks": "",
           "title": {
            "standoff": 15
           },
           "zerolinecolor": "white",
           "zerolinewidth": 2
          },
          "yaxis": {
           "automargin": true,
           "gridcolor": "white",
           "linecolor": "white",
           "ticks": "",
           "title": {
            "standoff": 15
           },
           "zerolinecolor": "white",
           "zerolinewidth": 2
          }
         }
        },
        "title": {
         "text": "Bar chart of loan size performance over the months (The Seasonality)",
         "x": 0.5
        },
        "yaxis": {
         "title": {
          "text": "Loans percentile"
         }
        }
       }
      },
      "text/html": [
       "<div>                            <div id=\"2db09670-e2f5-460e-bdb4-1d80febf4c37\" class=\"plotly-graph-div\" style=\"height:525px; width:100%;\"></div>            <script type=\"text/javascript\">                require([\"plotly\"], function(Plotly) {                    window.PLOTLYENV=window.PLOTLYENV || {};                                    if (document.getElementById(\"2db09670-e2f5-460e-bdb4-1d80febf4c37\")) {                    Plotly.newPlot(                        \"2db09670-e2f5-460e-bdb4-1d80febf4c37\",                        [{\"name\": \"Completed, %\", \"type\": \"bar\", \"x\": [\"01\", \"02\", \"03\", \"04\", \"05\", \"06\", \"07\", \"08\", \"09\", \"10\", \"11\", \"12\"], \"y\": [0.40904034726296556, 0.41411473014802813, 0.4180007688164785, 0.4198665921263978, 0.42230904810304476, 0.4124096956875937, 0.42531057772981457, 0.41103627918417135, 0.41451517190816994, 0.4102450879447135, 0.39863535982454346, 0.3990492395465848]}, {\"name\": \"Default, %\", \"type\": \"bar\", \"x\": [\"01\", \"02\", \"03\", \"04\", \"05\", \"06\", \"07\", \"08\", \"09\", \"10\", \"11\", \"12\"], \"y\": [0.5909596527370345, 0.5858852698519718, 0.5819992311835215, 0.5801334078736021, 0.5776909518969553, 0.5875903043124062, 0.5746894222701855, 0.5889637208158287, 0.58548482809183, 0.5897549120552864, 0.6013646401754564, 0.6009507604534153]}],                        {\"barmode\": \"stack\", \"template\": {\"data\": {\"bar\": [{\"error_x\": {\"color\": \"#2a3f5f\"}, \"error_y\": {\"color\": \"#2a3f5f\"}, \"marker\": {\"line\": {\"color\": \"#E5ECF6\", \"width\": 0.5}}, \"type\": \"bar\"}], \"barpolar\": [{\"marker\": {\"line\": {\"color\": \"#E5ECF6\", \"width\": 0.5}}, \"type\": \"barpolar\"}], \"carpet\": [{\"aaxis\": {\"endlinecolor\": \"#2a3f5f\", \"gridcolor\": \"white\", \"linecolor\": \"white\", \"minorgridcolor\": \"white\", \"startlinecolor\": \"#2a3f5f\"}, \"baxis\": {\"endlinecolor\": \"#2a3f5f\", \"gridcolor\": \"white\", \"linecolor\": \"white\", \"minorgridcolor\": \"white\", \"startlinecolor\": \"#2a3f5f\"}, \"type\": \"carpet\"}], \"choropleth\": [{\"colorbar\": {\"outlinewidth\": 0, \"ticks\": \"\"}, \"type\": \"choropleth\"}], \"contour\": [{\"colorbar\": {\"outlinewidth\": 0, \"ticks\": \"\"}, \"colorscale\": [[0.0, \"#0d0887\"], [0.1111111111111111, \"#46039f\"], [0.2222222222222222, \"#7201a8\"], [0.3333333333333333, \"#9c179e\"], [0.4444444444444444, \"#bd3786\"], [0.5555555555555556, \"#d8576b\"], [0.6666666666666666, \"#ed7953\"], [0.7777777777777778, \"#fb9f3a\"], [0.8888888888888888, \"#fdca26\"], [1.0, \"#f0f921\"]], \"type\": \"contour\"}], \"contourcarpet\": [{\"colorbar\": {\"outlinewidth\": 0, \"ticks\": \"\"}, \"type\": \"contourcarpet\"}], \"heatmap\": [{\"colorbar\": {\"outlinewidth\": 0, \"ticks\": \"\"}, \"colorscale\": [[0.0, \"#0d0887\"], [0.1111111111111111, \"#46039f\"], [0.2222222222222222, \"#7201a8\"], [0.3333333333333333, \"#9c179e\"], [0.4444444444444444, \"#bd3786\"], [0.5555555555555556, \"#d8576b\"], [0.6666666666666666, \"#ed7953\"], [0.7777777777777778, \"#fb9f3a\"], [0.8888888888888888, \"#fdca26\"], [1.0, \"#f0f921\"]], \"type\": \"heatmap\"}], \"heatmapgl\": [{\"colorbar\": {\"outlinewidth\": 0, \"ticks\": \"\"}, \"colorscale\": [[0.0, \"#0d0887\"], [0.1111111111111111, \"#46039f\"], [0.2222222222222222, \"#7201a8\"], [0.3333333333333333, \"#9c179e\"], [0.4444444444444444, \"#bd3786\"], [0.5555555555555556, \"#d8576b\"], [0.6666666666666666, \"#ed7953\"], [0.7777777777777778, \"#fb9f3a\"], [0.8888888888888888, \"#fdca26\"], [1.0, \"#f0f921\"]], \"type\": \"heatmapgl\"}], \"histogram\": [{\"marker\": {\"colorbar\": {\"outlinewidth\": 0, \"ticks\": \"\"}}, \"type\": \"histogram\"}], \"histogram2d\": [{\"colorbar\": {\"outlinewidth\": 0, \"ticks\": \"\"}, \"colorscale\": [[0.0, \"#0d0887\"], [0.1111111111111111, \"#46039f\"], [0.2222222222222222, \"#7201a8\"], [0.3333333333333333, \"#9c179e\"], [0.4444444444444444, \"#bd3786\"], [0.5555555555555556, \"#d8576b\"], [0.6666666666666666, \"#ed7953\"], [0.7777777777777778, \"#fb9f3a\"], [0.8888888888888888, \"#fdca26\"], [1.0, \"#f0f921\"]], \"type\": \"histogram2d\"}], \"histogram2dcontour\": [{\"colorbar\": {\"outlinewidth\": 0, \"ticks\": \"\"}, \"colorscale\": [[0.0, \"#0d0887\"], [0.1111111111111111, \"#46039f\"], [0.2222222222222222, \"#7201a8\"], [0.3333333333333333, \"#9c179e\"], [0.4444444444444444, \"#bd3786\"], [0.5555555555555556, \"#d8576b\"], [0.6666666666666666, \"#ed7953\"], [0.7777777777777778, \"#fb9f3a\"], [0.8888888888888888, \"#fdca26\"], [1.0, \"#f0f921\"]], \"type\": \"histogram2dcontour\"}], \"mesh3d\": [{\"colorbar\": {\"outlinewidth\": 0, \"ticks\": \"\"}, \"type\": \"mesh3d\"}], \"parcoords\": [{\"line\": {\"colorbar\": {\"outlinewidth\": 0, \"ticks\": \"\"}}, \"type\": \"parcoords\"}], \"pie\": [{\"automargin\": true, \"type\": \"pie\"}], \"scatter\": [{\"marker\": {\"colorbar\": {\"outlinewidth\": 0, \"ticks\": \"\"}}, \"type\": \"scatter\"}], \"scatter3d\": [{\"line\": {\"colorbar\": {\"outlinewidth\": 0, \"ticks\": \"\"}}, \"marker\": {\"colorbar\": {\"outlinewidth\": 0, \"ticks\": \"\"}}, \"type\": \"scatter3d\"}], \"scattercarpet\": [{\"marker\": {\"colorbar\": {\"outlinewidth\": 0, \"ticks\": \"\"}}, \"type\": \"scattercarpet\"}], \"scattergeo\": [{\"marker\": {\"colorbar\": {\"outlinewidth\": 0, \"ticks\": \"\"}}, \"type\": \"scattergeo\"}], \"scattergl\": [{\"marker\": {\"colorbar\": {\"outlinewidth\": 0, \"ticks\": \"\"}}, \"type\": \"scattergl\"}], \"scattermapbox\": [{\"marker\": {\"colorbar\": {\"outlinewidth\": 0, \"ticks\": \"\"}}, \"type\": \"scattermapbox\"}], \"scatterpolar\": [{\"marker\": {\"colorbar\": {\"outlinewidth\": 0, \"ticks\": \"\"}}, \"type\": \"scatterpolar\"}], \"scatterpolargl\": [{\"marker\": {\"colorbar\": {\"outlinewidth\": 0, \"ticks\": \"\"}}, \"type\": \"scatterpolargl\"}], \"scatterternary\": [{\"marker\": {\"colorbar\": {\"outlinewidth\": 0, \"ticks\": \"\"}}, \"type\": \"scatterternary\"}], \"surface\": [{\"colorbar\": {\"outlinewidth\": 0, \"ticks\": \"\"}, \"colorscale\": [[0.0, \"#0d0887\"], [0.1111111111111111, \"#46039f\"], [0.2222222222222222, \"#7201a8\"], [0.3333333333333333, \"#9c179e\"], [0.4444444444444444, \"#bd3786\"], [0.5555555555555556, \"#d8576b\"], [0.6666666666666666, \"#ed7953\"], [0.7777777777777778, \"#fb9f3a\"], [0.8888888888888888, \"#fdca26\"], [1.0, \"#f0f921\"]], \"type\": \"surface\"}], \"table\": [{\"cells\": {\"fill\": {\"color\": \"#EBF0F8\"}, \"line\": {\"color\": \"white\"}}, \"header\": {\"fill\": {\"color\": \"#C8D4E3\"}, \"line\": {\"color\": \"white\"}}, \"type\": \"table\"}]}, \"layout\": {\"annotationdefaults\": {\"arrowcolor\": \"#2a3f5f\", \"arrowhead\": 0, \"arrowwidth\": 1}, \"autotypenumbers\": \"strict\", \"coloraxis\": {\"colorbar\": {\"outlinewidth\": 0, \"ticks\": \"\"}}, \"colorscale\": {\"diverging\": [[0, \"#8e0152\"], [0.1, \"#c51b7d\"], [0.2, \"#de77ae\"], [0.3, \"#f1b6da\"], [0.4, \"#fde0ef\"], [0.5, \"#f7f7f7\"], [0.6, \"#e6f5d0\"], [0.7, \"#b8e186\"], [0.8, \"#7fbc41\"], [0.9, \"#4d9221\"], [1, \"#276419\"]], \"sequential\": [[0.0, \"#0d0887\"], [0.1111111111111111, \"#46039f\"], [0.2222222222222222, \"#7201a8\"], [0.3333333333333333, \"#9c179e\"], [0.4444444444444444, \"#bd3786\"], [0.5555555555555556, \"#d8576b\"], [0.6666666666666666, \"#ed7953\"], [0.7777777777777778, \"#fb9f3a\"], [0.8888888888888888, \"#fdca26\"], [1.0, \"#f0f921\"]], \"sequentialminus\": [[0.0, \"#0d0887\"], [0.1111111111111111, \"#46039f\"], [0.2222222222222222, \"#7201a8\"], [0.3333333333333333, \"#9c179e\"], [0.4444444444444444, \"#bd3786\"], [0.5555555555555556, \"#d8576b\"], [0.6666666666666666, \"#ed7953\"], [0.7777777777777778, \"#fb9f3a\"], [0.8888888888888888, \"#fdca26\"], [1.0, \"#f0f921\"]]}, \"colorway\": [\"#636efa\", \"#EF553B\", \"#00cc96\", \"#ab63fa\", \"#FFA15A\", \"#19d3f3\", \"#FF6692\", \"#B6E880\", \"#FF97FF\", \"#FECB52\"], \"font\": {\"color\": \"#2a3f5f\"}, \"geo\": {\"bgcolor\": \"white\", \"lakecolor\": \"white\", \"landcolor\": \"#E5ECF6\", \"showlakes\": true, \"showland\": true, \"subunitcolor\": \"white\"}, \"hoverlabel\": {\"align\": \"left\"}, \"hovermode\": \"closest\", \"mapbox\": {\"style\": \"light\"}, \"paper_bgcolor\": \"white\", \"plot_bgcolor\": \"#E5ECF6\", \"polar\": {\"angularaxis\": {\"gridcolor\": \"white\", \"linecolor\": \"white\", \"ticks\": \"\"}, \"bgcolor\": \"#E5ECF6\", \"radialaxis\": {\"gridcolor\": \"white\", \"linecolor\": \"white\", \"ticks\": \"\"}}, \"scene\": {\"xaxis\": {\"backgroundcolor\": \"#E5ECF6\", \"gridcolor\": \"white\", \"gridwidth\": 2, \"linecolor\": \"white\", \"showbackground\": true, \"ticks\": \"\", \"zerolinecolor\": \"white\"}, \"yaxis\": {\"backgroundcolor\": \"#E5ECF6\", \"gridcolor\": \"white\", \"gridwidth\": 2, \"linecolor\": \"white\", \"showbackground\": true, \"ticks\": \"\", \"zerolinecolor\": \"white\"}, \"zaxis\": {\"backgroundcolor\": \"#E5ECF6\", \"gridcolor\": \"white\", \"gridwidth\": 2, \"linecolor\": \"white\", \"showbackground\": true, \"ticks\": \"\", \"zerolinecolor\": \"white\"}}, \"shapedefaults\": {\"line\": {\"color\": \"#2a3f5f\"}}, \"ternary\": {\"aaxis\": {\"gridcolor\": \"white\", \"linecolor\": \"white\", \"ticks\": \"\"}, \"baxis\": {\"gridcolor\": \"white\", \"linecolor\": \"white\", \"ticks\": \"\"}, \"bgcolor\": \"#E5ECF6\", \"caxis\": {\"gridcolor\": \"white\", \"linecolor\": \"white\", \"ticks\": \"\"}}, \"title\": {\"x\": 0.05}, \"xaxis\": {\"automargin\": true, \"gridcolor\": \"white\", \"linecolor\": \"white\", \"ticks\": \"\", \"title\": {\"standoff\": 15}, \"zerolinecolor\": \"white\", \"zerolinewidth\": 2}, \"yaxis\": {\"automargin\": true, \"gridcolor\": \"white\", \"linecolor\": \"white\", \"ticks\": \"\", \"title\": {\"standoff\": 15}, \"zerolinecolor\": \"white\", \"zerolinewidth\": 2}}}, \"title\": {\"text\": \"Bar chart of loan size performance over the months (The Seasonality)\", \"x\": 0.5}, \"yaxis\": {\"title\": {\"text\": \"Loans percentile\"}}},                        {\"responsive\": true}                    ).then(function(){\n",
       "                            \n",
       "var gd = document.getElementById('2db09670-e2f5-460e-bdb4-1d80febf4c37');\n",
       "var x = new MutationObserver(function (mutations, observer) {{\n",
       "        var display = window.getComputedStyle(gd).display;\n",
       "        if (!display || display === 'none') {{\n",
       "            console.log([gd, 'removed!']);\n",
       "            Plotly.purge(gd);\n",
       "            observer.disconnect();\n",
       "        }}\n",
       "}});\n",
       "\n",
       "// Listen for the removal of the full notebook cells\n",
       "var notebookContainer = gd.closest('#notebook-container');\n",
       "if (notebookContainer) {{\n",
       "    x.observe(notebookContainer, {childList: true});\n",
       "}}\n",
       "\n",
       "// Listen for the clearing of the current output cell\n",
       "var outputEl = gd.closest('.output');\n",
       "if (outputEl) {{\n",
       "    x.observe(outputEl, {childList: true});\n",
       "}}\n",
       "\n",
       "                        })                };                });            </script>        </div>"
      ]
     },
     "metadata": {},
     "output_type": "display_data"
    }
   ],
   "source": [
    "#build bar charts of loan performance devided by status of loan\n",
    "\n",
    "bar_plots = [\n",
    "    go.Bar(x=loan_perf_months['Month'], y=loan_perf_months['Completed pct'], name='Completed, %'),\n",
    "    go.Bar(x=loan_perf_months['Month'], y=loan_perf_months['Default pct'], name='Default, %')\n",
    "]\n",
    "layout = go.Layout(\n",
    "    title = go.layout.Title(text='Bar chart of loan size performance over the months (The Seasonality)', x=0.5),\n",
    "    yaxis_title = 'Loans percentile'\n",
    ")\n",
    "fig = go.Figure(data=bar_plots, layout=layout)\n",
    "fig.update_layout(barmode='stack')\n",
    "\n",
    "fig.show()"
   ]
  },
  {
   "cell_type": "code",
   "execution_count": 252,
   "metadata": {
    "scrolled": true
   },
   "outputs": [
    {
     "data": {
      "image/png": "[encoded data removed]",
      "text/plain": [
       "<Figure size 864x576 with 1 Axes>"
      ]
     },
     "metadata": {
      "needs_background": "light"
     },
     "output_type": "display_data"
    }
   ],
   "source": [
    "#Boxplot of month-wise (Seasonal) distribution\n",
    "plt.figure(figsize=(12,8))\n",
    "sns.boxplot(x='Month', y='Original Loan Amount', data=data)\n",
    "plt.show()"
   ]
  },
  {
   "cell_type": "code",
   "execution_count": 253,
   "metadata": {},
   "outputs": [
    {
     "data": {
      "application/vnd.plotly.v1+json": {
       "config": {
        "plotlyServerURL": "https://plot.ly"
       },
       "data": [
        {
         "name": "Completed",
         "type": "bar",
         "x": [
          "01",
          "02",
          "03",
          "04",
          "05",
          "06",
          "07",
          "08",
          "09",
          "10",
          "11",
          "12"
         ],
         "y": [
          149397984,
          133915073,
          131069045,
          125751048,
          130185033,
          126514486,
          134662237,
          129029978,
          129856459,
          131489558,
          126631036,
          96429301
         ]
        },
        {
         "name": "Active",
         "type": "bar",
         "x": [
          "01",
          "02",
          "03",
          "04",
          "05",
          "06",
          "07",
          "08",
          "09",
          "10",
          "11",
          "12"
         ],
         "y": [
          98517573,
          97219974,
          90954966,
          66817354,
          75617083,
          71897783,
          81007475,
          74714207,
          77129052,
          86998654,
          87721245,
          54938536
         ]
        },
        {
         "name": "Default",
         "type": "bar",
         "x": [
          "01",
          "02",
          "03",
          "04",
          "05",
          "06",
          "07",
          "08",
          "09",
          "10",
          "11",
          "12"
         ],
         "y": [
          18711270,
          16444020,
          14566061,
          15816405,
          17067860,
          17953073,
          17412780,
          17106445,
          16928810,
          18049800,
          17376090,
          13639415
         ]
        },
        {
         "name": "Late",
         "type": "bar",
         "x": [
          "01",
          "02",
          "03",
          "04",
          "05",
          "06",
          "07",
          "08",
          "09",
          "10",
          "11",
          "12"
         ],
         "y": [
          13087853,
          11769770,
          10096372,
          10130382,
          11460994,
          10203255,
          11075710,
          10512423,
          10331956,
          12855229,
          13652475,
          8049782
         ]
        }
       ],
       "layout": {
        "barmode": "group",
        "template": {
         "data": {
          "bar": [
           {
            "error_x": {
             "color": "#2a3f5f"
            },
            "error_y": {
             "color": "#2a3f5f"
            },
            "marker": {
             "line": {
              "color": "#E5ECF6",
              "width": 0.5
             }
            },
            "type": "bar"
           }
          ],
          "barpolar": [
           {
            "marker": {
             "line": {
              "color": "#E5ECF6",
              "width": 0.5
             }
            },
            "type": "barpolar"
           }
          ],
          "carpet": [
           {
            "aaxis": {
             "endlinecolor": "#2a3f5f",
             "gridcolor": "white",
             "linecolor": "white",
             "minorgridcolor": "white",
             "startlinecolor": "#2a3f5f"
            },
            "baxis": {
             "endlinecolor": "#2a3f5f",
             "gridcolor": "white",
             "linecolor": "white",
             "minorgridcolor": "white",
             "startlinecolor": "#2a3f5f"
            },
            "type": "carpet"
           }
          ],
          "choropleth": [
           {
            "colorbar": {
             "outlinewidth": 0,
             "ticks": ""
            },
            "type": "choropleth"
           }
          ],
          "contour": [
           {
            "colorbar": {
             "outlinewidth": 0,
             "ticks": ""
            },
            "colorscale": [
             [
              0,
              "#0d0887"
             ],
             [
              0.1111111111111111,
              "#46039f"
             ],
             [
              0.2222222222222222,
              "#7201a8"
             ],
             [
              0.3333333333333333,
              "#9c179e"
             ],
             [
              0.4444444444444444,
              "#bd3786"
             ],
             [
              0.5555555555555556,
              "#d8576b"
             ],
             [
              0.6666666666666666,
              "#ed7953"
             ],
             [
              0.7777777777777778,
              "#fb9f3a"
             ],
             [
              0.8888888888888888,
              "#fdca26"
             ],
             [
              1,
              "#f0f921"
             ]
            ],
            "type": "contour"
           }
          ],
          "contourcarpet": [
           {
            "colorbar": {
             "outlinewidth": 0,
             "ticks": ""
            },
            "type": "contourcarpet"
           }
          ],
          "heatmap": [
           {
            "colorbar": {
             "outlinewidth": 0,
             "ticks": ""
            },
            "colorscale": [
             [
              0,
              "#0d0887"
             ],
             [
              0.1111111111111111,
              "#46039f"
             ],
             [
              0.2222222222222222,
              "#7201a8"
             ],
             [
              0.3333333333333333,
              "#9c179e"
             ],
             [
              0.4444444444444444,
              "#bd3786"
             ],
             [
              0.5555555555555556,
              "#d8576b"
             ],
             [
              0.6666666666666666,
              "#ed7953"
             ],
             [
              0.7777777777777778,
              "#fb9f3a"
             ],
             [
              0.8888888888888888,
              "#fdca26"
             ],
             [
              1,
              "#f0f921"
             ]
            ],
            "type": "heatmap"
           }
          ],
          "heatmapgl": [
           {
            "colorbar": {
             "outlinewidth": 0,
             "ticks": ""
            },
            "colorscale": [
             [
              0,
              "#0d0887"
             ],
             [
              0.1111111111111111,
              "#46039f"
             ],
             [
              0.2222222222222222,
              "#7201a8"
             ],
             [
              0.3333333333333333,
              "#9c179e"
             ],
             [
              0.4444444444444444,
              "#bd3786"
             ],
             [
              0.5555555555555556,
              "#d8576b"
             ],
             [
              0.6666666666666666,
              "#ed7953"
             ],
             [
              0.7777777777777778,
              "#fb9f3a"
             ],
             [
              0.8888888888888888,
              "#fdca26"
             ],
             [
              1,
              "#f0f921"
             ]
            ],
            "type": "heatmapgl"
           }
          ],
          "histogram": [
           {
            "marker": {
             "colorbar": {
              "outlinewidth": 0,
              "ticks": ""
             }
            },
            "type": "histogram"
           }
          ],
          "histogram2d": [
           {
            "colorbar": {
             "outlinewidth": 0,
             "ticks": ""
            },
            "colorscale": [
             [
              0,
              "#0d0887"
             ],
             [
              0.1111111111111111,
              "#46039f"
             ],
             [
              0.2222222222222222,
              "#7201a8"
             ],
             [
              0.3333333333333333,
              "#9c179e"
             ],
             [
              0.4444444444444444,
              "#bd3786"
             ],
             [
              0.5555555555555556,
              "#d8576b"
             ],
             [
              0.6666666666666666,
              "#ed7953"
             ],
             [
              0.7777777777777778,
              "#fb9f3a"
             ],
             [
              0.8888888888888888,
              "#fdca26"
             ],
             [
              1,
              "#f0f921"
             ]
            ],
            "type": "histogram2d"
           }
          ],
          "histogram2dcontour": [
           {
            "colorbar": {
             "outlinewidth": 0,
             "ticks": ""
            },
            "colorscale": [
             [
              0,
              "#0d0887"
             ],
             [
              0.1111111111111111,
              "#46039f"
             ],
             [
              0.2222222222222222,
              "#7201a8"
             ],
             [
              0.3333333333333333,
              "#9c179e"
             ],
             [
              0.4444444444444444,
              "#bd3786"
             ],
             [
              0.5555555555555556,
              "#d8576b"
             ],
             [
              0.6666666666666666,
              "#ed7953"
             ],
             [
              0.7777777777777778,
              "#fb9f3a"
             ],
             [
              0.8888888888888888,
              "#fdca26"
             ],
             [
              1,
              "#f0f921"
             ]
            ],
            "type": "histogram2dcontour"
           }
          ],
          "mesh3d": [
           {
            "colorbar": {
             "outlinewidth": 0,
             "ticks": ""
            },
            "type": "mesh3d"
           }
          ],
          "parcoords": [
           {
            "line": {
             "colorbar": {
              "outlinewidth": 0,
              "ticks": ""
             }
            },
            "type": "parcoords"
           }
          ],
          "pie": [
           {
            "automargin": true,
            "type": "pie"
           }
          ],
          "scatter": [
           {
            "marker": {
             "colorbar": {
              "outlinewidth": 0,
              "ticks": ""
             }
            },
            "type": "scatter"
           }
          ],
          "scatter3d": [
           {
            "line": {
             "colorbar": {
              "outlinewidth": 0,
              "ticks": ""
             }
            },
            "marker": {
             "colorbar": {
              "outlinewidth": 0,
              "ticks": ""
             }
            },
            "type": "scatter3d"
           }
          ],
          "scattercarpet": [
           {
            "marker": {
             "colorbar": {
              "outlinewidth": 0,
              "ticks": ""
             }
            },
            "type": "scattercarpet"
           }
          ],
          "scattergeo": [
           {
            "marker": {
             "colorbar": {
              "outlinewidth": 0,
              "ticks": ""
             }
            },
            "type": "scattergeo"
           }
          ],
          "scattergl": [
           {
            "marker": {
             "colorbar": {
              "outlinewidth": 0,
              "ticks": ""
             }
            },
            "type": "scattergl"
           }
          ],
          "scattermapbox": [
           {
            "marker": {
             "colorbar": {
              "outlinewidth": 0,
              "ticks": ""
             }
            },
            "type": "scattermapbox"
           }
          ],
          "scatterpolar": [
           {
            "marker": {
             "colorbar": {
              "outlinewidth": 0,
              "ticks": ""
             }
            },
            "type": "scatterpolar"
           }
          ],
          "scatterpolargl": [
           {
            "marker": {
             "colorbar": {
              "outlinewidth": 0,
              "ticks": ""
             }
            },
            "type": "scatterpolargl"
           }
          ],
          "scatterternary": [
           {
            "marker": {
             "colorbar": {
              "outlinewidth": 0,
              "ticks": ""
             }
            },
            "type": "scatterternary"
           }
          ],
          "surface": [
           {
            "colorbar": {
             "outlinewidth": 0,
             "ticks": ""
            },
            "colorscale": [
             [
              0,
              "#0d0887"
             ],
             [
              0.1111111111111111,
              "#46039f"
             ],
             [
              0.2222222222222222,
              "#7201a8"
             ],
             [
              0.3333333333333333,
              "#9c179e"
             ],
             [
              0.4444444444444444,
              "#bd3786"
             ],
             [
              0.5555555555555556,
              "#d8576b"
             ],
             [
              0.6666666666666666,
              "#ed7953"
             ],
             [
              0.7777777777777778,
              "#fb9f3a"
             ],
             [
              0.8888888888888888,
              "#fdca26"
             ],
             [
              1,
              "#f0f921"
             ]
            ],
            "type": "surface"
           }
          ],
          "table": [
           {
            "cells": {
             "fill": {
              "color": "#EBF0F8"
             },
             "line": {
              "color": "white"
             }
            },
            "header": {
             "fill": {
              "color": "#C8D4E3"
             },
             "line": {
              "color": "white"
             }
            },
            "type": "table"
           }
          ]
         },
         "layout": {
          "annotationdefaults": {
           "arrowcolor": "#2a3f5f",
           "arrowhead": 0,
           "arrowwidth": 1
          },
          "autotypenumbers": "strict",
          "coloraxis": {
           "colorbar": {
            "outlinewidth": 0,
            "ticks": ""
           }
          },
          "colorscale": {
           "diverging": [
            [
             0,
             "#8e0152"
            ],
            [
             0.1,
             "#c51b7d"
            ],
            [
             0.2,
             "#de77ae"
            ],
            [
             0.3,
             "#f1b6da"
            ],
            [
             0.4,
             "#fde0ef"
            ],
            [
             0.5,
             "#f7f7f7"
            ],
            [
             0.6,
             "#e6f5d0"
            ],
            [
             0.7,
             "#b8e186"
            ],
            [
             0.8,
             "#7fbc41"
            ],
            [
             0.9,
             "#4d9221"
            ],
            [
             1,
             "#276419"
            ]
           ],
           "sequential": [
            [
             0,
             "#0d0887"
            ],
            [
             0.1111111111111111,
             "#46039f"
            ],
            [
             0.2222222222222222,
             "#7201a8"
            ],
            [
             0.3333333333333333,
             "#9c179e"
            ],
            [
             0.4444444444444444,
             "#bd3786"
            ],
            [
             0.5555555555555556,
             "#d8576b"
            ],
            [
             0.6666666666666666,
             "#ed7953"
            ],
            [
             0.7777777777777778,
             "#fb9f3a"
            ],
            [
             0.8888888888888888,
             "#fdca26"
            ],
            [
             1,
             "#f0f921"
            ]
           ],
           "sequentialminus": [
            [
             0,
             "#0d0887"
            ],
            [
             0.1111111111111111,
             "#46039f"
            ],
            [
             0.2222222222222222,
             "#7201a8"
            ],
            [
             0.3333333333333333,
             "#9c179e"
            ],
            [
             0.4444444444444444,
             "#bd3786"
            ],
            [
             0.5555555555555556,
             "#d8576b"
            ],
            [
             0.6666666666666666,
             "#ed7953"
            ],
            [
             0.7777777777777778,
             "#fb9f3a"
            ],
            [
             0.8888888888888888,
             "#fdca26"
            ],
            [
             1,
             "#f0f921"
            ]
           ]
          },
          "colorway": [
           "#636efa",
           "#EF553B",
           "#00cc96",
           "#ab63fa",
           "#FFA15A",
           "#19d3f3",
           "#FF6692",
           "#B6E880",
           "#FF97FF",
           "#FECB52"
          ],
          "font": {
           "color": "#2a3f5f"
          },
          "geo": {
           "bgcolor": "white",
           "lakecolor": "white",
           "landcolor": "#E5ECF6",
           "showlakes": true,
           "showland": true,
           "subunitcolor": "white"
          },
          "hoverlabel": {
           "align": "left"
          },
          "hovermode": "closest",
          "mapbox": {
           "style": "light"
          },
          "paper_bgcolor": "white",
          "plot_bgcolor": "#E5ECF6",
          "polar": {
           "angularaxis": {
            "gridcolor": "white",
            "linecolor": "white",
            "ticks": ""
           },
           "bgcolor": "#E5ECF6",
           "radialaxis": {
            "gridcolor": "white",
            "linecolor": "white",
            "ticks": ""
           }
          },
          "scene": {
           "xaxis": {
            "backgroundcolor": "#E5ECF6",
            "gridcolor": "white",
            "gridwidth": 2,
            "linecolor": "white",
            "showbackground": true,
            "ticks": "",
            "zerolinecolor": "white"
           },
           "yaxis": {
            "backgroundcolor": "#E5ECF6",
            "gridcolor": "white",
            "gridwidth": 2,
            "linecolor": "white",
            "showbackground": true,
            "ticks": "",
            "zerolinecolor": "white"
           },
           "zaxis": {
            "backgroundcolor": "#E5ECF6",
            "gridcolor": "white",
            "gridwidth": 2,
            "linecolor": "white",
            "showbackground": true,
            "ticks": "",
            "zerolinecolor": "white"
           }
          },
          "shapedefaults": {
           "line": {
            "color": "#2a3f5f"
           }
          },
          "ternary": {
           "aaxis": {
            "gridcolor": "white",
            "linecolor": "white",
            "ticks": ""
           },
           "baxis": {
            "gridcolor": "white",
            "linecolor": "white",
            "ticks": ""
           },
           "bgcolor": "#E5ECF6",
           "caxis": {
            "gridcolor": "white",
            "linecolor": "white",
            "ticks": ""
           }
          },
          "title": {
           "x": 0.05
          },
          "xaxis": {
           "automargin": true,
           "gridcolor": "white",
           "linecolor": "white",
           "ticks": "",
           "title": {
            "standoff": 15
           },
           "zerolinecolor": "white",
           "zerolinewidth": 2
          },
          "yaxis": {
           "automargin": true,
           "gridcolor": "white",
           "linecolor": "white",
           "ticks": "",
           "title": {
            "standoff": 15
           },
           "zerolinecolor": "white",
           "zerolinewidth": 2
          }
         }
        },
        "title": {
         "text": "Month-wise bar plot total amount of loans splitted by status (The Seasonality)",
         "x": 0.5
        },
        "yaxis": {
         "title": {
          "text": "Loans amount"
         }
        }
       }
      },
      "text/html": [
       "<div>                            <div id=\"243f8ce4-3d60-48d3-968e-8c26dfbff8c3\" class=\"plotly-graph-div\" style=\"height:525px; width:100%;\"></div>            <script type=\"text/javascript\">                require([\"plotly\"], function(Plotly) {                    window.PLOTLYENV=window.PLOTLYENV || {};                                    if (document.getElementById(\"243f8ce4-3d60-48d3-968e-8c26dfbff8c3\")) {                    Plotly.newPlot(                        \"243f8ce4-3d60-48d3-968e-8c26dfbff8c3\",                        [{\"name\": \"Completed\", \"type\": \"bar\", \"x\": [\"01\", \"02\", \"03\", \"04\", \"05\", \"06\", \"07\", \"08\", \"09\", \"10\", \"11\", \"12\"], \"y\": [149397984, 133915073, 131069045, 125751048, 130185033, 126514486, 134662237, 129029978, 129856459, 131489558, 126631036, 96429301]}, {\"name\": \"Active\", \"type\": \"bar\", \"x\": [\"01\", \"02\", \"03\", \"04\", \"05\", \"06\", \"07\", \"08\", \"09\", \"10\", \"11\", \"12\"], \"y\": [98517573, 97219974, 90954966, 66817354, 75617083, 71897783, 81007475, 74714207, 77129052, 86998654, 87721245, 54938536]}, {\"name\": \"Default\", \"type\": \"bar\", \"x\": [\"01\", \"02\", \"03\", \"04\", \"05\", \"06\", \"07\", \"08\", \"09\", \"10\", \"11\", \"12\"], \"y\": [18711270, 16444020, 14566061, 15816405, 17067860, 17953073, 17412780, 17106445, 16928810, 18049800, 17376090, 13639415]}, {\"name\": \"Late\", \"type\": \"bar\", \"x\": [\"01\", \"02\", \"03\", \"04\", \"05\", \"06\", \"07\", \"08\", \"09\", \"10\", \"11\", \"12\"], \"y\": [13087853, 11769770, 10096372, 10130382, 11460994, 10203255, 11075710, 10512423, 10331956, 12855229, 13652475, 8049782]}],                        {\"barmode\": \"group\", \"template\": {\"data\": {\"bar\": [{\"error_x\": {\"color\": \"#2a3f5f\"}, \"error_y\": {\"color\": \"#2a3f5f\"}, \"marker\": {\"line\": {\"color\": \"#E5ECF6\", \"width\": 0.5}}, \"type\": \"bar\"}], \"barpolar\": [{\"marker\": {\"line\": {\"color\": \"#E5ECF6\", \"width\": 0.5}}, \"type\": \"barpolar\"}], \"carpet\": [{\"aaxis\": {\"endlinecolor\": \"#2a3f5f\", \"gridcolor\": \"white\", \"linecolor\": \"white\", \"minorgridcolor\": \"white\", \"startlinecolor\": \"#2a3f5f\"}, \"baxis\": {\"endlinecolor\": \"#2a3f5f\", \"gridcolor\": \"white\", \"linecolor\": \"white\", \"minorgridcolor\": \"white\", \"startlinecolor\": \"#2a3f5f\"}, \"type\": \"carpet\"}], \"choropleth\": [{\"colorbar\": {\"outlinewidth\": 0, \"ticks\": \"\"}, \"type\": \"choropleth\"}], \"contour\": [{\"colorbar\": {\"outlinewidth\": 0, \"ticks\": \"\"}, \"colorscale\": [[0.0, \"#0d0887\"], [0.1111111111111111, \"#46039f\"], [0.2222222222222222, \"#7201a8\"], [0.3333333333333333, \"#9c179e\"], [0.4444444444444444, \"#bd3786\"], [0.5555555555555556, \"#d8576b\"], [0.6666666666666666, \"#ed7953\"], [0.7777777777777778, \"#fb9f3a\"], [0.8888888888888888, \"#fdca26\"], [1.0, \"#f0f921\"]], \"type\": \"contour\"}], \"contourcarpet\": [{\"colorbar\": {\"outlinewidth\": 0, \"ticks\": \"\"}, \"type\": \"contourcarpet\"}], \"heatmap\": [{\"colorbar\": {\"outlinewidth\": 0, \"ticks\": \"\"}, \"colorscale\": [[0.0, \"#0d0887\"], [0.1111111111111111, \"#46039f\"], [0.2222222222222222, \"#7201a8\"], [0.3333333333333333, \"#9c179e\"], [0.4444444444444444, \"#bd3786\"], [0.5555555555555556, \"#d8576b\"], [0.6666666666666666, \"#ed7953\"], [0.7777777777777778, \"#fb9f3a\"], [0.8888888888888888, \"#fdca26\"], [1.0, \"#f0f921\"]], \"type\": \"heatmap\"}], \"heatmapgl\": [{\"colorbar\": {\"outlinewidth\": 0, \"ticks\": \"\"}, \"colorscale\": [[0.0, \"#0d0887\"], [0.1111111111111111, \"#46039f\"], [0.2222222222222222, \"#7201a8\"], [0.3333333333333333, \"#9c179e\"], [0.4444444444444444, \"#bd3786\"], [0.5555555555555556, \"#d8576b\"], [0.6666666666666666, \"#ed7953\"], [0.7777777777777778, \"#fb9f3a\"], [0.8888888888888888, \"#fdca26\"], [1.0, \"#f0f921\"]], \"type\": \"heatmapgl\"}], \"histogram\": [{\"marker\": {\"colorbar\": {\"outlinewidth\": 0, \"ticks\": \"\"}}, \"type\": \"histogram\"}], \"histogram2d\": [{\"colorbar\": {\"outlinewidth\": 0, \"ticks\": \"\"}, \"colorscale\": [[0.0, \"#0d0887\"], [0.1111111111111111, \"#46039f\"], [0.2222222222222222, \"#7201a8\"], [0.3333333333333333, \"#9c179e\"], [0.4444444444444444, \"#bd3786\"], [0.5555555555555556, \"#d8576b\"], [0.6666666666666666, \"#ed7953\"], [0.7777777777777778, \"#fb9f3a\"], [0.8888888888888888, \"#fdca26\"], [1.0, \"#f0f921\"]], \"type\": \"histogram2d\"}], \"histogram2dcontour\": [{\"colorbar\": {\"outlinewidth\": 0, \"ticks\": \"\"}, \"colorscale\": [[0.0, \"#0d0887\"], [0.1111111111111111, \"#46039f\"], [0.2222222222222222, \"#7201a8\"], [0.3333333333333333, \"#9c179e\"], [0.4444444444444444, \"#bd3786\"], [0.5555555555555556, \"#d8576b\"], [0.6666666666666666, \"#ed7953\"], [0.7777777777777778, \"#fb9f3a\"], [0.8888888888888888, \"#fdca26\"], [1.0, \"#f0f921\"]], \"type\": \"histogram2dcontour\"}], \"mesh3d\": [{\"colorbar\": {\"outlinewidth\": 0, \"ticks\": \"\"}, \"type\": \"mesh3d\"}], \"parcoords\": [{\"line\": {\"colorbar\": {\"outlinewidth\": 0, \"ticks\": \"\"}}, \"type\": \"parcoords\"}], \"pie\": [{\"automargin\": true, \"type\": \"pie\"}], \"scatter\": [{\"marker\": {\"colorbar\": {\"outlinewidth\": 0, \"ticks\": \"\"}}, \"type\": \"scatter\"}], \"scatter3d\": [{\"line\": {\"colorbar\": {\"outlinewidth\": 0, \"ticks\": \"\"}}, \"marker\": {\"colorbar\": {\"outlinewidth\": 0, \"ticks\": \"\"}}, \"type\": \"scatter3d\"}], \"scattercarpet\": [{\"marker\": {\"colorbar\": {\"outlinewidth\": 0, \"ticks\": \"\"}}, \"type\": \"scattercarpet\"}], \"scattergeo\": [{\"marker\": {\"colorbar\": {\"outlinewidth\": 0, \"ticks\": \"\"}}, \"type\": \"scattergeo\"}], \"scattergl\": [{\"marker\": {\"colorbar\": {\"outlinewidth\": 0, \"ticks\": \"\"}}, \"type\": \"scattergl\"}], \"scattermapbox\": [{\"marker\": {\"colorbar\": {\"outlinewidth\": 0, \"ticks\": \"\"}}, \"type\": \"scattermapbox\"}], \"scatterpolar\": [{\"marker\": {\"colorbar\": {\"outlinewidth\": 0, \"ticks\": \"\"}}, \"type\": \"scatterpolar\"}], \"scatterpolargl\": [{\"marker\": {\"colorbar\": {\"outlinewidth\": 0, \"ticks\": \"\"}}, \"type\": \"scatterpolargl\"}], \"scatterternary\": [{\"marker\": {\"colorbar\": {\"outlinewidth\": 0, \"ticks\": \"\"}}, \"type\": \"scatterternary\"}], \"surface\": [{\"colorbar\": {\"outlinewidth\": 0, \"ticks\": \"\"}, \"colorscale\": [[0.0, \"#0d0887\"], [0.1111111111111111, \"#46039f\"], [0.2222222222222222, \"#7201a8\"], [0.3333333333333333, \"#9c179e\"], [0.4444444444444444, \"#bd3786\"], [0.5555555555555556, \"#d8576b\"], [0.6666666666666666, \"#ed7953\"], [0.7777777777777778, \"#fb9f3a\"], [0.8888888888888888, \"#fdca26\"], [1.0, \"#f0f921\"]], \"type\": \"surface\"}], \"table\": [{\"cells\": {\"fill\": {\"color\": \"#EBF0F8\"}, \"line\": {\"color\": \"white\"}}, \"header\": {\"fill\": {\"color\": \"#C8D4E3\"}, \"line\": {\"color\": \"white\"}}, \"type\": \"table\"}]}, \"layout\": {\"annotationdefaults\": {\"arrowcolor\": \"#2a3f5f\", \"arrowhead\": 0, \"arrowwidth\": 1}, \"autotypenumbers\": \"strict\", \"coloraxis\": {\"colorbar\": {\"outlinewidth\": 0, \"ticks\": \"\"}}, \"colorscale\": {\"diverging\": [[0, \"#8e0152\"], [0.1, \"#c51b7d\"], [0.2, \"#de77ae\"], [0.3, \"#f1b6da\"], [0.4, \"#fde0ef\"], [0.5, \"#f7f7f7\"], [0.6, \"#e6f5d0\"], [0.7, \"#b8e186\"], [0.8, \"#7fbc41\"], [0.9, \"#4d9221\"], [1, \"#276419\"]], \"sequential\": [[0.0, \"#0d0887\"], [0.1111111111111111, \"#46039f\"], [0.2222222222222222, \"#7201a8\"], [0.3333333333333333, \"#9c179e\"], [0.4444444444444444, \"#bd3786\"], [0.5555555555555556, \"#d8576b\"], [0.6666666666666666, \"#ed7953\"], [0.7777777777777778, \"#fb9f3a\"], [0.8888888888888888, \"#fdca26\"], [1.0, \"#f0f921\"]], \"sequentialminus\": [[0.0, \"#0d0887\"], [0.1111111111111111, \"#46039f\"], [0.2222222222222222, \"#7201a8\"], [0.3333333333333333, \"#9c179e\"], [0.4444444444444444, \"#bd3786\"], [0.5555555555555556, \"#d8576b\"], [0.6666666666666666, \"#ed7953\"], [0.7777777777777778, \"#fb9f3a\"], [0.8888888888888888, \"#fdca26\"], [1.0, \"#f0f921\"]]}, \"colorway\": [\"#636efa\", \"#EF553B\", \"#00cc96\", \"#ab63fa\", \"#FFA15A\", \"#19d3f3\", \"#FF6692\", \"#B6E880\", \"#FF97FF\", \"#FECB52\"], \"font\": {\"color\": \"#2a3f5f\"}, \"geo\": {\"bgcolor\": \"white\", \"lakecolor\": \"white\", \"landcolor\": \"#E5ECF6\", \"showlakes\": true, \"showland\": true, \"subunitcolor\": \"white\"}, \"hoverlabel\": {\"align\": \"left\"}, \"hovermode\": \"closest\", \"mapbox\": {\"style\": \"light\"}, \"paper_bgcolor\": \"white\", \"plot_bgcolor\": \"#E5ECF6\", \"polar\": {\"angularaxis\": {\"gridcolor\": \"white\", \"linecolor\": \"white\", \"ticks\": \"\"}, \"bgcolor\": \"#E5ECF6\", \"radialaxis\": {\"gridcolor\": \"white\", \"linecolor\": \"white\", \"ticks\": \"\"}}, \"scene\": {\"xaxis\": {\"backgroundcolor\": \"#E5ECF6\", \"gridcolor\": \"white\", \"gridwidth\": 2, \"linecolor\": \"white\", \"showbackground\": true, \"ticks\": \"\", \"zerolinecolor\": \"white\"}, \"yaxis\": {\"backgroundcolor\": \"#E5ECF6\", \"gridcolor\": \"white\", \"gridwidth\": 2, \"linecolor\": \"white\", \"showbackground\": true, \"ticks\": \"\", \"zerolinecolor\": \"white\"}, \"zaxis\": {\"backgroundcolor\": \"#E5ECF6\", \"gridcolor\": \"white\", \"gridwidth\": 2, \"linecolor\": \"white\", \"showbackground\": true, \"ticks\": \"\", \"zerolinecolor\": \"white\"}}, \"shapedefaults\": {\"line\": {\"color\": \"#2a3f5f\"}}, \"ternary\": {\"aaxis\": {\"gridcolor\": \"white\", \"linecolor\": \"white\", \"ticks\": \"\"}, \"baxis\": {\"gridcolor\": \"white\", \"linecolor\": \"white\", \"ticks\": \"\"}, \"bgcolor\": \"#E5ECF6\", \"caxis\": {\"gridcolor\": \"white\", \"linecolor\": \"white\", \"ticks\": \"\"}}, \"title\": {\"x\": 0.05}, \"xaxis\": {\"automargin\": true, \"gridcolor\": \"white\", \"linecolor\": \"white\", \"ticks\": \"\", \"title\": {\"standoff\": 15}, \"zerolinecolor\": \"white\", \"zerolinewidth\": 2}, \"yaxis\": {\"automargin\": true, \"gridcolor\": \"white\", \"linecolor\": \"white\", \"ticks\": \"\", \"title\": {\"standoff\": 15}, \"zerolinecolor\": \"white\", \"zerolinewidth\": 2}}}, \"title\": {\"text\": \"Month-wise bar plot total amount of loans splitted by status (The Seasonality)\", \"x\": 0.5}, \"yaxis\": {\"title\": {\"text\": \"Loans amount\"}}},                        {\"responsive\": true}                    ).then(function(){\n",
       "                            \n",
       "var gd = document.getElementById('243f8ce4-3d60-48d3-968e-8c26dfbff8c3');\n",
       "var x = new MutationObserver(function (mutations, observer) {{\n",
       "        var display = window.getComputedStyle(gd).display;\n",
       "        if (!display || display === 'none') {{\n",
       "            console.log([gd, 'removed!']);\n",
       "            Plotly.purge(gd);\n",
       "            observer.disconnect();\n",
       "        }}\n",
       "}});\n",
       "\n",
       "// Listen for the removal of the full notebook cells\n",
       "var notebookContainer = gd.closest('#notebook-container');\n",
       "if (notebookContainer) {{\n",
       "    x.observe(notebookContainer, {childList: true});\n",
       "}}\n",
       "\n",
       "// Listen for the clearing of the current output cell\n",
       "var outputEl = gd.closest('.output');\n",
       "if (outputEl) {{\n",
       "    x.observe(outputEl, {childList: true});\n",
       "}}\n",
       "\n",
       "                        })                };                });            </script>        </div>"
      ]
     },
     "metadata": {},
     "output_type": "display_data"
    }
   ],
   "source": [
    "\n",
    "\n",
    "#build bar charts for each month devided by status of loan\n",
    "bar_plots = [\n",
    "    go.Bar(x=completed_loans_grouped['Month'], y=completed_loans_grouped['Loans amount'], name='Completed'),\n",
    "    go.Bar(x=active_loans_grouped['Month'], y=active_loans_grouped['Loans amount'], name='Active'),\n",
    "    go.Bar(x=default_loans_grouped['Month'], y=default_loans_grouped['Loans amount'], name='Default'),\n",
    "    go.Bar(x=late_loans_grouped['Month'], y=late_loans_grouped['Loans amount'], name='Late')\n",
    "]\n",
    "layout = go.Layout(\n",
    "    title = go.layout.Title(text='Month-wise bar plot total amount of loans splitted by status (The Seasonality)', x=0.5),\n",
    "    yaxis_title = 'Loans amount'\n",
    ")\n",
    "fig = go.Figure(data=bar_plots, layout=layout)\n",
    "fig.update_layout(barmode='group')\n",
    "#stack\n",
    "fig.show()"
   ]
  },
  {
   "cell_type": "markdown",
   "metadata": {},
   "source": [
    "## Step 9. You can request an additional data point. Which attribute will you ask for in order to accurately predict the default rate? \n",
    "<a class=\"anchor\" id=\"9\"></a>"
   ]
  },
  {
   "cell_type": "markdown",
   "metadata": {},
   "source": [
    "From the loan characteristics I'll ask for loan purpose, as it has impact on loan defaults.\n",
    "\n",
    "For example, borrowers who take out a house loan will do their best to complete the loan so that the house become their property. Borrowers who take out yje loan for business purpose, or for wedding are less reliable, since starting a new business is a risky investment (in principle, just like a wedding)."
   ]
  },
  {
   "cell_type": "markdown",
   "metadata": {},
   "source": [
    "## Step 10. Analyze returning borrowers and provide insights regarding their behavior\n",
    "<a class=\"anchor\" id=\"10\"></a>"
   ]
  },
  {
   "cell_type": "code",
   "execution_count": 254,
   "metadata": {},
   "outputs": [],
   "source": [
    "returning_borrowers = data[data['Borrower ID'].duplicated()]"
   ]
  },
  {
   "cell_type": "markdown",
   "metadata": {},
   "source": [
    "Analyze returning borrowers and provide insights regarding their behavior.\n"
   ]
  },
  {
   "cell_type": "code",
   "execution_count": 255,
   "metadata": {},
   "outputs": [
    {
     "data": {
      "text/html": [
       "<div>\n",
       "<style scoped>\n",
       "    .dataframe tbody tr th:only-of-type {\n",
       "        vertical-align: middle;\n",
       "    }\n",
       "\n",
       "    .dataframe tbody tr th {\n",
       "        vertical-align: top;\n",
       "    }\n",
       "\n",
       "    .dataframe thead th {\n",
       "        text-align: right;\n",
       "    }\n",
       "</style>\n",
       "<table border=\"1\" class=\"dataframe\">\n",
       "  <thead>\n",
       "    <tr style=\"text-align: right;\">\n",
       "      <th></th>\n",
       "      <th>Snapshot Date</th>\n",
       "      <th>Borrower ID</th>\n",
       "      <th>Loan ID</th>\n",
       "      <th>Disbursal date</th>\n",
       "      <th>Original Loan Amount</th>\n",
       "      <th>Principal Collected</th>\n",
       "      <th>Interest Collected</th>\n",
       "      <th>Term in months</th>\n",
       "      <th>Yearly interest rate</th>\n",
       "      <th>Latest Status</th>\n",
       "      <th>PostCode</th>\n",
       "      <th>Balance</th>\n",
       "      <th>Months duration</th>\n",
       "      <th>Disbursal Year and Month</th>\n",
       "      <th>Month</th>\n",
       "      <th>Disbursal Year</th>\n",
       "      <th>Loan Revenue</th>\n",
       "      <th>Loan Adjusted Revenue</th>\n",
       "      <th>Loan Yield</th>\n",
       "      <th>Loss Rate</th>\n",
       "    </tr>\n",
       "  </thead>\n",
       "  <tbody>\n",
       "    <tr>\n",
       "      <th>32710</th>\n",
       "      <td>2020-04-01</td>\n",
       "      <td>KXen+jqZ</td>\n",
       "      <td>KNnAZAO</td>\n",
       "      <td>2013-01-29</td>\n",
       "      <td>7060</td>\n",
       "      <td>6103.408429</td>\n",
       "      <td>1307.181571</td>\n",
       "      <td>60</td>\n",
       "      <td>0.0725</td>\n",
       "      <td>Late</td>\n",
       "      <td>G</td>\n",
       "      <td>956.591571</td>\n",
       "      <td>29</td>\n",
       "      <td>2013-01-01</td>\n",
       "      <td>01</td>\n",
       "      <td>2013</td>\n",
       "      <td>350.590000</td>\n",
       "      <td>12.089310</td>\n",
       "      <td>0.001712</td>\n",
       "      <td>0.070788</td>\n",
       "    </tr>\n",
       "    <tr>\n",
       "      <th>40339</th>\n",
       "      <td>2020-04-01</td>\n",
       "      <td>KUbUOdI/</td>\n",
       "      <td>KPyUqyv</td>\n",
       "      <td>2014-02-24</td>\n",
       "      <td>10720</td>\n",
       "      <td>10476.337470</td>\n",
       "      <td>1968.852527</td>\n",
       "      <td>60</td>\n",
       "      <td>0.0700</td>\n",
       "      <td>Late</td>\n",
       "      <td>K</td>\n",
       "      <td>243.662526</td>\n",
       "      <td>30</td>\n",
       "      <td>2014-02-01</td>\n",
       "      <td>02</td>\n",
       "      <td>2014</td>\n",
       "      <td>1725.189997</td>\n",
       "      <td>57.506333</td>\n",
       "      <td>0.005364</td>\n",
       "      <td>0.064636</td>\n",
       "    </tr>\n",
       "    <tr>\n",
       "      <th>51612</th>\n",
       "      <td>2020-04-01</td>\n",
       "      <td>KXVl4fsu</td>\n",
       "      <td>K6gFCUL</td>\n",
       "      <td>2019-10-31</td>\n",
       "      <td>16980</td>\n",
       "      <td>879.422197</td>\n",
       "      <td>576.767803</td>\n",
       "      <td>60</td>\n",
       "      <td>0.1090</td>\n",
       "      <td>Late</td>\n",
       "      <td>H</td>\n",
       "      <td>16100.577800</td>\n",
       "      <td>3</td>\n",
       "      <td>2019-10-01</td>\n",
       "      <td>10</td>\n",
       "      <td>2019</td>\n",
       "      <td>-15523.810000</td>\n",
       "      <td>-5174.603333</td>\n",
       "      <td>-0.304747</td>\n",
       "      <td>0.413747</td>\n",
       "    </tr>\n",
       "    <tr>\n",
       "      <th>51632</th>\n",
       "      <td>2020-04-01</td>\n",
       "      <td>KZULf6mr</td>\n",
       "      <td>KUCf71k</td>\n",
       "      <td>2019-11-11</td>\n",
       "      <td>7290</td>\n",
       "      <td>365.680433</td>\n",
       "      <td>247.939569</td>\n",
       "      <td>48</td>\n",
       "      <td>0.1190</td>\n",
       "      <td>Late</td>\n",
       "      <td>S</td>\n",
       "      <td>6924.319567</td>\n",
       "      <td>2</td>\n",
       "      <td>2019-11-01</td>\n",
       "      <td>11</td>\n",
       "      <td>2019</td>\n",
       "      <td>-6676.379998</td>\n",
       "      <td>-3338.189999</td>\n",
       "      <td>-0.457914</td>\n",
       "      <td>0.576914</td>\n",
       "    </tr>\n",
       "    <tr>\n",
       "      <th>51644</th>\n",
       "      <td>2020-04-01</td>\n",
       "      <td>KmrEglzt</td>\n",
       "      <td>K8wM6fM</td>\n",
       "      <td>2019-11-16</td>\n",
       "      <td>14000</td>\n",
       "      <td>0.000000</td>\n",
       "      <td>0.000000</td>\n",
       "      <td>60</td>\n",
       "      <td>0.1190</td>\n",
       "      <td>Late</td>\n",
       "      <td>G</td>\n",
       "      <td>14000.000000</td>\n",
       "      <td>0</td>\n",
       "      <td>2019-11-01</td>\n",
       "      <td>11</td>\n",
       "      <td>2019</td>\n",
       "      <td>-14000.000000</td>\n",
       "      <td>0.000000</td>\n",
       "      <td>0.000000</td>\n",
       "      <td>0.119000</td>\n",
       "    </tr>\n",
       "    <tr>\n",
       "      <th>51717</th>\n",
       "      <td>2020-04-01</td>\n",
       "      <td>KCxxc9Im</td>\n",
       "      <td>KYh7xHc</td>\n",
       "      <td>2020-03-03</td>\n",
       "      <td>17750</td>\n",
       "      <td>0.000000</td>\n",
       "      <td>0.000000</td>\n",
       "      <td>48</td>\n",
       "      <td>0.0890</td>\n",
       "      <td>Late</td>\n",
       "      <td>U</td>\n",
       "      <td>17750.000000</td>\n",
       "      <td>0</td>\n",
       "      <td>2020-03-01</td>\n",
       "      <td>03</td>\n",
       "      <td>2020</td>\n",
       "      <td>-17750.000000</td>\n",
       "      <td>0.000000</td>\n",
       "      <td>0.000000</td>\n",
       "      <td>0.089000</td>\n",
       "    </tr>\n",
       "    <tr>\n",
       "      <th>51773</th>\n",
       "      <td>2020-04-01</td>\n",
       "      <td>KEzzdIya</td>\n",
       "      <td>Kc/5Sc7</td>\n",
       "      <td>2020-03-09</td>\n",
       "      <td>14000</td>\n",
       "      <td>0.000000</td>\n",
       "      <td>0.000000</td>\n",
       "      <td>48</td>\n",
       "      <td>0.0950</td>\n",
       "      <td>Late</td>\n",
       "      <td>N</td>\n",
       "      <td>14000.000000</td>\n",
       "      <td>0</td>\n",
       "      <td>2020-03-01</td>\n",
       "      <td>03</td>\n",
       "      <td>2020</td>\n",
       "      <td>-14000.000000</td>\n",
       "      <td>0.000000</td>\n",
       "      <td>0.000000</td>\n",
       "      <td>0.095000</td>\n",
       "    </tr>\n",
       "    <tr>\n",
       "      <th>51899</th>\n",
       "      <td>2020-04-01</td>\n",
       "      <td>KtGCjy5o</td>\n",
       "      <td>KZp14bO</td>\n",
       "      <td>2019-10-31</td>\n",
       "      <td>11980</td>\n",
       "      <td>620.199390</td>\n",
       "      <td>406.760610</td>\n",
       "      <td>60</td>\n",
       "      <td>0.1090</td>\n",
       "      <td>Late</td>\n",
       "      <td>R</td>\n",
       "      <td>11359.800610</td>\n",
       "      <td>3</td>\n",
       "      <td>2019-10-01</td>\n",
       "      <td>10</td>\n",
       "      <td>2019</td>\n",
       "      <td>-10953.040000</td>\n",
       "      <td>-3651.013333</td>\n",
       "      <td>-0.304759</td>\n",
       "      <td>0.413759</td>\n",
       "    </tr>\n",
       "    <tr>\n",
       "      <th>51911</th>\n",
       "      <td>2020-04-01</td>\n",
       "      <td>KuaoyW9S</td>\n",
       "      <td>KYT7P0a</td>\n",
       "      <td>2019-11-04</td>\n",
       "      <td>5100</td>\n",
       "      <td>220.066377</td>\n",
       "      <td>284.653623</td>\n",
       "      <td>60</td>\n",
       "      <td>0.1890</td>\n",
       "      <td>Late</td>\n",
       "      <td>W</td>\n",
       "      <td>4879.933623</td>\n",
       "      <td>3</td>\n",
       "      <td>2019-11-01</td>\n",
       "      <td>11</td>\n",
       "      <td>2019</td>\n",
       "      <td>-4595.280000</td>\n",
       "      <td>-1531.760000</td>\n",
       "      <td>-0.300345</td>\n",
       "      <td>0.489345</td>\n",
       "    </tr>\n",
       "    <tr>\n",
       "      <th>51937</th>\n",
       "      <td>2020-04-01</td>\n",
       "      <td>KZ95tthD</td>\n",
       "      <td>KnNAh4T</td>\n",
       "      <td>2019-11-14</td>\n",
       "      <td>17820</td>\n",
       "      <td>922.771412</td>\n",
       "      <td>605.198588</td>\n",
       "      <td>60</td>\n",
       "      <td>0.1090</td>\n",
       "      <td>Late</td>\n",
       "      <td>E</td>\n",
       "      <td>16897.228590</td>\n",
       "      <td>3</td>\n",
       "      <td>2019-11-01</td>\n",
       "      <td>11</td>\n",
       "      <td>2019</td>\n",
       "      <td>-16292.030000</td>\n",
       "      <td>-5430.676667</td>\n",
       "      <td>-0.304752</td>\n",
       "      <td>0.413752</td>\n",
       "    </tr>\n",
       "    <tr>\n",
       "      <th>51965</th>\n",
       "      <td>2020-04-01</td>\n",
       "      <td>K9QzGJsA</td>\n",
       "      <td>KBteMz0</td>\n",
       "      <td>2020-02-20</td>\n",
       "      <td>12680</td>\n",
       "      <td>0.000000</td>\n",
       "      <td>0.000000</td>\n",
       "      <td>60</td>\n",
       "      <td>0.1150</td>\n",
       "      <td>Late</td>\n",
       "      <td>M</td>\n",
       "      <td>12680.000000</td>\n",
       "      <td>0</td>\n",
       "      <td>2020-02-01</td>\n",
       "      <td>02</td>\n",
       "      <td>2020</td>\n",
       "      <td>-12680.000000</td>\n",
       "      <td>0.000000</td>\n",
       "      <td>0.000000</td>\n",
       "      <td>0.115000</td>\n",
       "    </tr>\n",
       "    <tr>\n",
       "      <th>51971</th>\n",
       "      <td>2020-04-01</td>\n",
       "      <td>KeQ+Mo5q</td>\n",
       "      <td>Kl/FV2w</td>\n",
       "      <td>2020-02-20</td>\n",
       "      <td>12500</td>\n",
       "      <td>216.804810</td>\n",
       "      <td>111.195190</td>\n",
       "      <td>48</td>\n",
       "      <td>0.0950</td>\n",
       "      <td>Late</td>\n",
       "      <td>O</td>\n",
       "      <td>12283.195190</td>\n",
       "      <td>1</td>\n",
       "      <td>2020-02-01</td>\n",
       "      <td>02</td>\n",
       "      <td>2020</td>\n",
       "      <td>-12172.000000</td>\n",
       "      <td>-12172.000000</td>\n",
       "      <td>-0.973760</td>\n",
       "      <td>1.068760</td>\n",
       "    </tr>\n",
       "    <tr>\n",
       "      <th>51984</th>\n",
       "      <td>2020-04-01</td>\n",
       "      <td>K+CqXPTf</td>\n",
       "      <td>KweSVhp</td>\n",
       "      <td>2020-02-24</td>\n",
       "      <td>19920</td>\n",
       "      <td>283.113884</td>\n",
       "      <td>104.776116</td>\n",
       "      <td>60</td>\n",
       "      <td>0.0650</td>\n",
       "      <td>Late</td>\n",
       "      <td>N</td>\n",
       "      <td>19636.886120</td>\n",
       "      <td>1</td>\n",
       "      <td>2020-02-01</td>\n",
       "      <td>02</td>\n",
       "      <td>2020</td>\n",
       "      <td>-19532.110000</td>\n",
       "      <td>-19532.110000</td>\n",
       "      <td>-0.980528</td>\n",
       "      <td>1.045528</td>\n",
       "    </tr>\n",
       "    <tr>\n",
       "      <th>51986</th>\n",
       "      <td>2020-04-01</td>\n",
       "      <td>Kr8W6bxt</td>\n",
       "      <td>K5M7pzA</td>\n",
       "      <td>2020-02-25</td>\n",
       "      <td>11830</td>\n",
       "      <td>0.000000</td>\n",
       "      <td>0.000000</td>\n",
       "      <td>48</td>\n",
       "      <td>0.1150</td>\n",
       "      <td>Late</td>\n",
       "      <td>S</td>\n",
       "      <td>11830.000000</td>\n",
       "      <td>0</td>\n",
       "      <td>2020-02-01</td>\n",
       "      <td>02</td>\n",
       "      <td>2020</td>\n",
       "      <td>-11830.000000</td>\n",
       "      <td>0.000000</td>\n",
       "      <td>0.000000</td>\n",
       "      <td>0.115000</td>\n",
       "    </tr>\n",
       "    <tr>\n",
       "      <th>52009</th>\n",
       "      <td>2020-04-01</td>\n",
       "      <td>KAmGZSwG</td>\n",
       "      <td>KxjcgCH</td>\n",
       "      <td>2020-03-03</td>\n",
       "      <td>14000</td>\n",
       "      <td>0.000000</td>\n",
       "      <td>0.000000</td>\n",
       "      <td>59</td>\n",
       "      <td>0.0800</td>\n",
       "      <td>Late</td>\n",
       "      <td>E</td>\n",
       "      <td>14000.000000</td>\n",
       "      <td>0</td>\n",
       "      <td>2020-03-01</td>\n",
       "      <td>03</td>\n",
       "      <td>2020</td>\n",
       "      <td>-14000.000000</td>\n",
       "      <td>0.000000</td>\n",
       "      <td>0.000000</td>\n",
       "      <td>0.080000</td>\n",
       "    </tr>\n",
       "  </tbody>\n",
       "</table>\n",
       "</div>"
      ],
      "text/plain": [
       "      Snapshot Date Borrower ID  Loan ID Disbursal date  Original Loan Amount  \\\n",
       "32710    2020-04-01    KXen+jqZ  KNnAZAO     2013-01-29                  7060   \n",
       "40339    2020-04-01    KUbUOdI/  KPyUqyv     2014-02-24                 10720   \n",
       "51612    2020-04-01    KXVl4fsu  K6gFCUL     2019-10-31                 16980   \n",
       "51632    2020-04-01    KZULf6mr  KUCf71k     2019-11-11                  7290   \n",
       "51644    2020-04-01    KmrEglzt  K8wM6fM     2019-11-16                 14000   \n",
       "51717    2020-04-01    KCxxc9Im  KYh7xHc     2020-03-03                 17750   \n",
       "51773    2020-04-01    KEzzdIya  Kc/5Sc7     2020-03-09                 14000   \n",
       "51899    2020-04-01    KtGCjy5o  KZp14bO     2019-10-31                 11980   \n",
       "51911    2020-04-01    KuaoyW9S  KYT7P0a     2019-11-04                  5100   \n",
       "51937    2020-04-01    KZ95tthD  KnNAh4T     2019-11-14                 17820   \n",
       "51965    2020-04-01    K9QzGJsA  KBteMz0     2020-02-20                 12680   \n",
       "51971    2020-04-01    KeQ+Mo5q  Kl/FV2w     2020-02-20                 12500   \n",
       "51984    2020-04-01    K+CqXPTf  KweSVhp     2020-02-24                 19920   \n",
       "51986    2020-04-01    Kr8W6bxt  K5M7pzA     2020-02-25                 11830   \n",
       "52009    2020-04-01    KAmGZSwG  KxjcgCH     2020-03-03                 14000   \n",
       "\n",
       "       Principal Collected  Interest Collected  Term in months  \\\n",
       "32710          6103.408429         1307.181571              60   \n",
       "40339         10476.337470         1968.852527              60   \n",
       "51612           879.422197          576.767803              60   \n",
       "51632           365.680433          247.939569              48   \n",
       "51644             0.000000            0.000000              60   \n",
       "51717             0.000000            0.000000              48   \n",
       "51773             0.000000            0.000000              48   \n",
       "51899           620.199390          406.760610              60   \n",
       "51911           220.066377          284.653623              60   \n",
       "51937           922.771412          605.198588              60   \n",
       "51965             0.000000            0.000000              60   \n",
       "51971           216.804810          111.195190              48   \n",
       "51984           283.113884          104.776116              60   \n",
       "51986             0.000000            0.000000              48   \n",
       "52009             0.000000            0.000000              59   \n",
       "\n",
       "       Yearly interest rate Latest Status PostCode       Balance  \\\n",
       "32710                0.0725          Late        G    956.591571   \n",
       "40339                0.0700          Late        K    243.662526   \n",
       "51612                0.1090          Late        H  16100.577800   \n",
       "51632                0.1190          Late        S   6924.319567   \n",
       "51644                0.1190          Late        G  14000.000000   \n",
       "51717                0.0890          Late        U  17750.000000   \n",
       "51773                0.0950          Late        N  14000.000000   \n",
       "51899                0.1090          Late        R  11359.800610   \n",
       "51911                0.1890          Late        W   4879.933623   \n",
       "51937                0.1090          Late        E  16897.228590   \n",
       "51965                0.1150          Late        M  12680.000000   \n",
       "51971                0.0950          Late        O  12283.195190   \n",
       "51984                0.0650          Late        N  19636.886120   \n",
       "51986                0.1150          Late        S  11830.000000   \n",
       "52009                0.0800          Late        E  14000.000000   \n",
       "\n",
       "       Months duration Disbursal Year and Month Month Disbursal Year  \\\n",
       "32710               29               2013-01-01    01           2013   \n",
       "40339               30               2014-02-01    02           2014   \n",
       "51612                3               2019-10-01    10           2019   \n",
       "51632                2               2019-11-01    11           2019   \n",
       "51644                0               2019-11-01    11           2019   \n",
       "51717                0               2020-03-01    03           2020   \n",
       "51773                0               2020-03-01    03           2020   \n",
       "51899                3               2019-10-01    10           2019   \n",
       "51911                3               2019-11-01    11           2019   \n",
       "51937                3               2019-11-01    11           2019   \n",
       "51965                0               2020-02-01    02           2020   \n",
       "51971                1               2020-02-01    02           2020   \n",
       "51984                1               2020-02-01    02           2020   \n",
       "51986                0               2020-02-01    02           2020   \n",
       "52009                0               2020-03-01    03           2020   \n",
       "\n",
       "       Loan Revenue  Loan Adjusted Revenue  Loan Yield  Loss Rate  \n",
       "32710    350.590000              12.089310    0.001712   0.070788  \n",
       "40339   1725.189997              57.506333    0.005364   0.064636  \n",
       "51612 -15523.810000           -5174.603333   -0.304747   0.413747  \n",
       "51632  -6676.379998           -3338.189999   -0.457914   0.576914  \n",
       "51644 -14000.000000               0.000000    0.000000   0.119000  \n",
       "51717 -17750.000000               0.000000    0.000000   0.089000  \n",
       "51773 -14000.000000               0.000000    0.000000   0.095000  \n",
       "51899 -10953.040000           -3651.013333   -0.304759   0.413759  \n",
       "51911  -4595.280000           -1531.760000   -0.300345   0.489345  \n",
       "51937 -16292.030000           -5430.676667   -0.304752   0.413752  \n",
       "51965 -12680.000000               0.000000    0.000000   0.115000  \n",
       "51971 -12172.000000          -12172.000000   -0.973760   1.068760  \n",
       "51984 -19532.110000          -19532.110000   -0.980528   1.045528  \n",
       "51986 -11830.000000               0.000000    0.000000   0.115000  \n",
       "52009 -14000.000000               0.000000    0.000000   0.080000  "
      ]
     },
     "metadata": {},
     "output_type": "display_data"
    },
    {
     "data": {
      "text/html": [
       "<div>\n",
       "<style scoped>\n",
       "    .dataframe tbody tr th:only-of-type {\n",
       "        vertical-align: middle;\n",
       "    }\n",
       "\n",
       "    .dataframe tbody tr th {\n",
       "        vertical-align: top;\n",
       "    }\n",
       "\n",
       "    .dataframe thead th {\n",
       "        text-align: right;\n",
       "    }\n",
       "</style>\n",
       "<table border=\"1\" class=\"dataframe\">\n",
       "  <thead>\n",
       "    <tr style=\"text-align: right;\">\n",
       "      <th></th>\n",
       "      <th>Original Loan Amount</th>\n",
       "      <th>Principal Collected</th>\n",
       "      <th>Interest Collected</th>\n",
       "      <th>Term in months</th>\n",
       "      <th>Yearly interest rate</th>\n",
       "      <th>Balance</th>\n",
       "      <th>Months duration</th>\n",
       "      <th>Loan Revenue</th>\n",
       "      <th>Loan Adjusted Revenue</th>\n",
       "      <th>Loan Yield</th>\n",
       "      <th>Loss Rate</th>\n",
       "    </tr>\n",
       "  </thead>\n",
       "  <tbody>\n",
       "    <tr>\n",
       "      <th>count</th>\n",
       "      <td>13987.000000</td>\n",
       "      <td>13987.000000</td>\n",
       "      <td>13987.000000</td>\n",
       "      <td>13987.000000</td>\n",
       "      <td>13987.000000</td>\n",
       "      <td>13987.000000</td>\n",
       "      <td>13987.000000</td>\n",
       "      <td>13987.000000</td>\n",
       "      <td>13987.000000</td>\n",
       "      <td>13987.000000</td>\n",
       "      <td>13987.000000</td>\n",
       "    </tr>\n",
       "    <tr>\n",
       "      <th>mean</th>\n",
       "      <td>9525.001859</td>\n",
       "      <td>2985.128970</td>\n",
       "      <td>1235.777835</td>\n",
       "      <td>46.258812</td>\n",
       "      <td>0.123610</td>\n",
       "      <td>6539.873331</td>\n",
       "      <td>11.088439</td>\n",
       "      <td>-5304.095054</td>\n",
       "      <td>-1186.305545</td>\n",
       "      <td>-0.130530</td>\n",
       "      <td>0.254140</td>\n",
       "    </tr>\n",
       "    <tr>\n",
       "      <th>std</th>\n",
       "      <td>6464.969246</td>\n",
       "      <td>3314.823879</td>\n",
       "      <td>1327.306383</td>\n",
       "      <td>14.848097</td>\n",
       "      <td>0.038927</td>\n",
       "      <td>5309.414548</td>\n",
       "      <td>7.713432</td>\n",
       "      <td>5055.635530</td>\n",
       "      <td>2367.172271</td>\n",
       "      <td>0.205433</td>\n",
       "      <td>0.212287</td>\n",
       "    </tr>\n",
       "    <tr>\n",
       "      <th>min</th>\n",
       "      <td>580.000000</td>\n",
       "      <td>0.000000</td>\n",
       "      <td>0.000000</td>\n",
       "      <td>10.000000</td>\n",
       "      <td>0.050100</td>\n",
       "      <td>6.010000</td>\n",
       "      <td>0.000000</td>\n",
       "      <td>-27700.000000</td>\n",
       "      <td>-26844.810000</td>\n",
       "      <td>-0.980996</td>\n",
       "      <td>0.048972</td>\n",
       "    </tr>\n",
       "    <tr>\n",
       "      <th>25%</th>\n",
       "      <td>4510.000000</td>\n",
       "      <td>782.396148</td>\n",
       "      <td>286.150531</td>\n",
       "      <td>36.000000</td>\n",
       "      <td>0.088650</td>\n",
       "      <td>2370.657643</td>\n",
       "      <td>5.000000</td>\n",
       "      <td>-7975.005000</td>\n",
       "      <td>-1205.077727</td>\n",
       "      <td>-0.140032</td>\n",
       "      <td>0.137268</td>\n",
       "    </tr>\n",
       "    <tr>\n",
       "      <th>50%</th>\n",
       "      <td>8300.000000</td>\n",
       "      <td>1888.311118</td>\n",
       "      <td>800.118445</td>\n",
       "      <td>48.000000</td>\n",
       "      <td>0.130100</td>\n",
       "      <td>5159.880644</td>\n",
       "      <td>9.000000</td>\n",
       "      <td>-4017.920000</td>\n",
       "      <td>-429.195455</td>\n",
       "      <td>-0.058210</td>\n",
       "      <td>0.188320</td>\n",
       "    </tr>\n",
       "    <tr>\n",
       "      <th>75%</th>\n",
       "      <td>12725.000000</td>\n",
       "      <td>3977.123260</td>\n",
       "      <td>1710.014019</td>\n",
       "      <td>60.000000</td>\n",
       "      <td>0.153400</td>\n",
       "      <td>9388.367369</td>\n",
       "      <td>16.000000</td>\n",
       "      <td>-1463.449998</td>\n",
       "      <td>-106.993813</td>\n",
       "      <td>-0.016860</td>\n",
       "      <td>0.275782</td>\n",
       "    </tr>\n",
       "    <tr>\n",
       "      <th>max</th>\n",
       "      <td>29600.000000</td>\n",
       "      <td>28265.985440</td>\n",
       "      <td>12387.276530</td>\n",
       "      <td>60.000000</td>\n",
       "      <td>0.199900</td>\n",
       "      <td>27700.000000</td>\n",
       "      <td>30.000000</td>\n",
       "      <td>8364.710004</td>\n",
       "      <td>278.823667</td>\n",
       "      <td>0.018231</td>\n",
       "      <td>1.168425</td>\n",
       "    </tr>\n",
       "  </tbody>\n",
       "</table>\n",
       "</div>"
      ],
      "text/plain": [
       "       Original Loan Amount  Principal Collected  Interest Collected  \\\n",
       "count          13987.000000         13987.000000        13987.000000   \n",
       "mean            9525.001859          2985.128970         1235.777835   \n",
       "std             6464.969246          3314.823879         1327.306383   \n",
       "min              580.000000             0.000000            0.000000   \n",
       "25%             4510.000000           782.396148          286.150531   \n",
       "50%             8300.000000          1888.311118          800.118445   \n",
       "75%            12725.000000          3977.123260         1710.014019   \n",
       "max            29600.000000         28265.985440        12387.276530   \n",
       "\n",
       "       Term in months  Yearly interest rate       Balance  Months duration  \\\n",
       "count    13987.000000          13987.000000  13987.000000     13987.000000   \n",
       "mean        46.258812              0.123610   6539.873331        11.088439   \n",
       "std         14.848097              0.038927   5309.414548         7.713432   \n",
       "min         10.000000              0.050100      6.010000         0.000000   \n",
       "25%         36.000000              0.088650   2370.657643         5.000000   \n",
       "50%         48.000000              0.130100   5159.880644         9.000000   \n",
       "75%         60.000000              0.153400   9388.367369        16.000000   \n",
       "max         60.000000              0.199900  27700.000000        30.000000   \n",
       "\n",
       "       Loan Revenue  Loan Adjusted Revenue    Loan Yield     Loss Rate  \n",
       "count  13987.000000           13987.000000  13987.000000  13987.000000  \n",
       "mean   -5304.095054           -1186.305545     -0.130530      0.254140  \n",
       "std     5055.635530            2367.172271      0.205433      0.212287  \n",
       "min   -27700.000000          -26844.810000     -0.980996      0.048972  \n",
       "25%    -7975.005000           -1205.077727     -0.140032      0.137268  \n",
       "50%    -4017.920000            -429.195455     -0.058210      0.188320  \n",
       "75%    -1463.449998            -106.993813     -0.016860      0.275782  \n",
       "max     8364.710004             278.823667      0.018231      1.168425  "
      ]
     },
     "execution_count": 255,
     "metadata": {},
     "output_type": "execute_result"
    }
   ],
   "source": [
    "display(data[data['Latest Status'] == 'Late'].head(15))\n",
    "data[data['Latest Status'] == 'Late'].describe()"
   ]
  },
  {
   "cell_type": "code",
   "execution_count": 256,
   "metadata": {},
   "outputs": [
    {
     "data": {
      "text/html": [
       "<div>\n",
       "<style scoped>\n",
       "    .dataframe tbody tr th:only-of-type {\n",
       "        vertical-align: middle;\n",
       "    }\n",
       "\n",
       "    .dataframe tbody tr th {\n",
       "        vertical-align: top;\n",
       "    }\n",
       "\n",
       "    .dataframe thead th {\n",
       "        text-align: right;\n",
       "    }\n",
       "</style>\n",
       "<table border=\"1\" class=\"dataframe\">\n",
       "  <thead>\n",
       "    <tr style=\"text-align: right;\">\n",
       "      <th></th>\n",
       "      <th>Snapshot Date</th>\n",
       "      <th>Borrower ID</th>\n",
       "      <th>Loan ID</th>\n",
       "      <th>Disbursal date</th>\n",
       "      <th>Original Loan Amount</th>\n",
       "      <th>Principal Collected</th>\n",
       "      <th>Interest Collected</th>\n",
       "      <th>Term in months</th>\n",
       "      <th>Yearly interest rate</th>\n",
       "      <th>Latest Status</th>\n",
       "      <th>PostCode</th>\n",
       "      <th>Balance</th>\n",
       "      <th>Months duration</th>\n",
       "      <th>Disbursal Year and Month</th>\n",
       "      <th>Month</th>\n",
       "      <th>Disbursal Year</th>\n",
       "      <th>Loan Revenue</th>\n",
       "      <th>Loan Adjusted Revenue</th>\n",
       "      <th>Loan Yield</th>\n",
       "      <th>Loss Rate</th>\n",
       "    </tr>\n",
       "  </thead>\n",
       "  <tbody>\n",
       "    <tr>\n",
       "      <th>0</th>\n",
       "      <td>2020-04-01</td>\n",
       "      <td>KCZ0hABC</td>\n",
       "      <td>KEG5Zcm</td>\n",
       "      <td>2009-12-01</td>\n",
       "      <td>12120</td>\n",
       "      <td>12120.0</td>\n",
       "      <td>1433.160000</td>\n",
       "      <td>36</td>\n",
       "      <td>0.0872</td>\n",
       "      <td>Completed</td>\n",
       "      <td>D</td>\n",
       "      <td>0.0</td>\n",
       "      <td>18</td>\n",
       "      <td>2009-12-01</td>\n",
       "      <td>12</td>\n",
       "      <td>2009</td>\n",
       "      <td>1433.160000</td>\n",
       "      <td>79.620000</td>\n",
       "      <td>0.006569</td>\n",
       "      <td>0.080631</td>\n",
       "    </tr>\n",
       "    <tr>\n",
       "      <th>1</th>\n",
       "      <td>2020-04-01</td>\n",
       "      <td>Kbzjqk1X</td>\n",
       "      <td>K/eXt8O</td>\n",
       "      <td>2010-01-12</td>\n",
       "      <td>3120</td>\n",
       "      <td>3120.0</td>\n",
       "      <td>351.840000</td>\n",
       "      <td>36</td>\n",
       "      <td>0.0786</td>\n",
       "      <td>Completed</td>\n",
       "      <td>0</td>\n",
       "      <td>0.0</td>\n",
       "      <td>18</td>\n",
       "      <td>2010-01-01</td>\n",
       "      <td>01</td>\n",
       "      <td>2010</td>\n",
       "      <td>351.840000</td>\n",
       "      <td>19.546667</td>\n",
       "      <td>0.006265</td>\n",
       "      <td>0.072335</td>\n",
       "    </tr>\n",
       "    <tr>\n",
       "      <th>2</th>\n",
       "      <td>2020-04-01</td>\n",
       "      <td>KpImAAXO</td>\n",
       "      <td>KHAjSlB</td>\n",
       "      <td>2009-11-17</td>\n",
       "      <td>1120</td>\n",
       "      <td>1120.0</td>\n",
       "      <td>141.550000</td>\n",
       "      <td>36</td>\n",
       "      <td>0.1007</td>\n",
       "      <td>Completed</td>\n",
       "      <td>H</td>\n",
       "      <td>0.0</td>\n",
       "      <td>18</td>\n",
       "      <td>2009-11-01</td>\n",
       "      <td>11</td>\n",
       "      <td>2009</td>\n",
       "      <td>141.550000</td>\n",
       "      <td>7.863889</td>\n",
       "      <td>0.007021</td>\n",
       "      <td>0.093679</td>\n",
       "    </tr>\n",
       "    <tr>\n",
       "      <th>3</th>\n",
       "      <td>2020-04-01</td>\n",
       "      <td>KDAVgrky</td>\n",
       "      <td>Ka/qq6o</td>\n",
       "      <td>2009-12-22</td>\n",
       "      <td>10120</td>\n",
       "      <td>10120.0</td>\n",
       "      <td>1333.989778</td>\n",
       "      <td>60</td>\n",
       "      <td>0.1062</td>\n",
       "      <td>Completed</td>\n",
       "      <td>S</td>\n",
       "      <td>0.0</td>\n",
       "      <td>30</td>\n",
       "      <td>2009-12-01</td>\n",
       "      <td>12</td>\n",
       "      <td>2009</td>\n",
       "      <td>1333.989778</td>\n",
       "      <td>44.466326</td>\n",
       "      <td>0.004394</td>\n",
       "      <td>0.101806</td>\n",
       "    </tr>\n",
       "    <tr>\n",
       "      <th>4</th>\n",
       "      <td>2020-04-01</td>\n",
       "      <td>KJe9rDg/</td>\n",
       "      <td>KMc1n/Q</td>\n",
       "      <td>2009-12-29</td>\n",
       "      <td>5120</td>\n",
       "      <td>5120.0</td>\n",
       "      <td>713.650000</td>\n",
       "      <td>36</td>\n",
       "      <td>0.0920</td>\n",
       "      <td>Completed</td>\n",
       "      <td>B</td>\n",
       "      <td>0.0</td>\n",
       "      <td>18</td>\n",
       "      <td>2009-12-01</td>\n",
       "      <td>12</td>\n",
       "      <td>2009</td>\n",
       "      <td>713.650000</td>\n",
       "      <td>39.647222</td>\n",
       "      <td>0.007744</td>\n",
       "      <td>0.084256</td>\n",
       "    </tr>\n",
       "    <tr>\n",
       "      <th>5</th>\n",
       "      <td>2020-04-01</td>\n",
       "      <td>KkulrKZC</td>\n",
       "      <td>Ko8zLsG</td>\n",
       "      <td>2010-01-06</td>\n",
       "      <td>3120</td>\n",
       "      <td>3120.0</td>\n",
       "      <td>494.510000</td>\n",
       "      <td>36</td>\n",
       "      <td>0.1089</td>\n",
       "      <td>Completed</td>\n",
       "      <td>0</td>\n",
       "      <td>0.0</td>\n",
       "      <td>18</td>\n",
       "      <td>2010-01-01</td>\n",
       "      <td>01</td>\n",
       "      <td>2010</td>\n",
       "      <td>494.510000</td>\n",
       "      <td>27.472778</td>\n",
       "      <td>0.008805</td>\n",
       "      <td>0.100095</td>\n",
       "    </tr>\n",
       "    <tr>\n",
       "      <th>6</th>\n",
       "      <td>2020-04-01</td>\n",
       "      <td>KlhT54+a</td>\n",
       "      <td>KNnJAFx</td>\n",
       "      <td>2010-01-06</td>\n",
       "      <td>5120</td>\n",
       "      <td>5120.0</td>\n",
       "      <td>592.186408</td>\n",
       "      <td>36</td>\n",
       "      <td>0.0740</td>\n",
       "      <td>Completed</td>\n",
       "      <td>H</td>\n",
       "      <td>0.0</td>\n",
       "      <td>18</td>\n",
       "      <td>2010-01-01</td>\n",
       "      <td>01</td>\n",
       "      <td>2010</td>\n",
       "      <td>592.186408</td>\n",
       "      <td>32.899245</td>\n",
       "      <td>0.006426</td>\n",
       "      <td>0.067574</td>\n",
       "    </tr>\n",
       "    <tr>\n",
       "      <th>7</th>\n",
       "      <td>2020-04-01</td>\n",
       "      <td>Krw4DB81</td>\n",
       "      <td>Kr6ApyO</td>\n",
       "      <td>2010-01-13</td>\n",
       "      <td>9120</td>\n",
       "      <td>9120.0</td>\n",
       "      <td>477.340000</td>\n",
       "      <td>36</td>\n",
       "      <td>0.0736</td>\n",
       "      <td>Completed</td>\n",
       "      <td>0</td>\n",
       "      <td>0.0</td>\n",
       "      <td>18</td>\n",
       "      <td>2010-01-01</td>\n",
       "      <td>01</td>\n",
       "      <td>2010</td>\n",
       "      <td>477.340000</td>\n",
       "      <td>26.518889</td>\n",
       "      <td>0.002908</td>\n",
       "      <td>0.070692</td>\n",
       "    </tr>\n",
       "    <tr>\n",
       "      <th>8</th>\n",
       "      <td>2020-04-01</td>\n",
       "      <td>Kddp9uXY</td>\n",
       "      <td>Ke64VjS</td>\n",
       "      <td>2009-11-27</td>\n",
       "      <td>3120</td>\n",
       "      <td>3120.0</td>\n",
       "      <td>428.440000</td>\n",
       "      <td>36</td>\n",
       "      <td>0.0902</td>\n",
       "      <td>Completed</td>\n",
       "      <td>B</td>\n",
       "      <td>0.0</td>\n",
       "      <td>18</td>\n",
       "      <td>2009-11-01</td>\n",
       "      <td>11</td>\n",
       "      <td>2009</td>\n",
       "      <td>428.440000</td>\n",
       "      <td>23.802222</td>\n",
       "      <td>0.007629</td>\n",
       "      <td>0.082571</td>\n",
       "    </tr>\n",
       "    <tr>\n",
       "      <th>9</th>\n",
       "      <td>2020-04-01</td>\n",
       "      <td>KZdxQlx1</td>\n",
       "      <td>KvEFtpk</td>\n",
       "      <td>2009-12-04</td>\n",
       "      <td>2120</td>\n",
       "      <td>2120.0</td>\n",
       "      <td>252.130000</td>\n",
       "      <td>36</td>\n",
       "      <td>0.0771</td>\n",
       "      <td>Completed</td>\n",
       "      <td>K</td>\n",
       "      <td>0.0</td>\n",
       "      <td>18</td>\n",
       "      <td>2009-12-01</td>\n",
       "      <td>12</td>\n",
       "      <td>2009</td>\n",
       "      <td>252.130000</td>\n",
       "      <td>14.007222</td>\n",
       "      <td>0.006607</td>\n",
       "      <td>0.070493</td>\n",
       "    </tr>\n",
       "    <tr>\n",
       "      <th>10</th>\n",
       "      <td>2020-04-01</td>\n",
       "      <td>KIa17yTn</td>\n",
       "      <td>KqZOamh</td>\n",
       "      <td>2009-12-15</td>\n",
       "      <td>5120</td>\n",
       "      <td>5120.0</td>\n",
       "      <td>256.620000</td>\n",
       "      <td>36</td>\n",
       "      <td>0.0757</td>\n",
       "      <td>Completed</td>\n",
       "      <td>0</td>\n",
       "      <td>0.0</td>\n",
       "      <td>18</td>\n",
       "      <td>2009-12-01</td>\n",
       "      <td>12</td>\n",
       "      <td>2009</td>\n",
       "      <td>256.620000</td>\n",
       "      <td>14.256667</td>\n",
       "      <td>0.002785</td>\n",
       "      <td>0.072915</td>\n",
       "    </tr>\n",
       "    <tr>\n",
       "      <th>11</th>\n",
       "      <td>2020-04-01</td>\n",
       "      <td>KPr2EmOz</td>\n",
       "      <td>KdxXS+r</td>\n",
       "      <td>2010-01-04</td>\n",
       "      <td>5120</td>\n",
       "      <td>5120.0</td>\n",
       "      <td>727.109513</td>\n",
       "      <td>60</td>\n",
       "      <td>0.0939</td>\n",
       "      <td>Completed</td>\n",
       "      <td>W</td>\n",
       "      <td>0.0</td>\n",
       "      <td>30</td>\n",
       "      <td>2010-01-01</td>\n",
       "      <td>01</td>\n",
       "      <td>2010</td>\n",
       "      <td>727.109513</td>\n",
       "      <td>24.236984</td>\n",
       "      <td>0.004734</td>\n",
       "      <td>0.089166</td>\n",
       "    </tr>\n",
       "    <tr>\n",
       "      <th>14</th>\n",
       "      <td>2020-04-01</td>\n",
       "      <td>Kj/iMHxo</td>\n",
       "      <td>K+Qt3lO</td>\n",
       "      <td>2009-11-18</td>\n",
       "      <td>3120</td>\n",
       "      <td>3120.0</td>\n",
       "      <td>360.430000</td>\n",
       "      <td>36</td>\n",
       "      <td>0.0760</td>\n",
       "      <td>Completed</td>\n",
       "      <td>O</td>\n",
       "      <td>0.0</td>\n",
       "      <td>18</td>\n",
       "      <td>2009-11-01</td>\n",
       "      <td>11</td>\n",
       "      <td>2009</td>\n",
       "      <td>360.430000</td>\n",
       "      <td>20.023889</td>\n",
       "      <td>0.006418</td>\n",
       "      <td>0.069582</td>\n",
       "    </tr>\n",
       "    <tr>\n",
       "      <th>15</th>\n",
       "      <td>2020-04-01</td>\n",
       "      <td>Kk3u9ved</td>\n",
       "      <td>KyAQtSm</td>\n",
       "      <td>2009-11-23</td>\n",
       "      <td>7120</td>\n",
       "      <td>7120.0</td>\n",
       "      <td>25.190000</td>\n",
       "      <td>36</td>\n",
       "      <td>0.0788</td>\n",
       "      <td>Completed</td>\n",
       "      <td>0</td>\n",
       "      <td>0.0</td>\n",
       "      <td>18</td>\n",
       "      <td>2009-11-01</td>\n",
       "      <td>11</td>\n",
       "      <td>2009</td>\n",
       "      <td>25.190000</td>\n",
       "      <td>1.399444</td>\n",
       "      <td>0.000197</td>\n",
       "      <td>0.078603</td>\n",
       "    </tr>\n",
       "    <tr>\n",
       "      <th>16</th>\n",
       "      <td>2020-04-01</td>\n",
       "      <td>KUh4fqgD</td>\n",
       "      <td>KXoPzGZ</td>\n",
       "      <td>2010-01-08</td>\n",
       "      <td>7620</td>\n",
       "      <td>7620.0</td>\n",
       "      <td>1397.700000</td>\n",
       "      <td>36</td>\n",
       "      <td>0.1132</td>\n",
       "      <td>Completed</td>\n",
       "      <td>U</td>\n",
       "      <td>0.0</td>\n",
       "      <td>18</td>\n",
       "      <td>2010-01-01</td>\n",
       "      <td>01</td>\n",
       "      <td>2010</td>\n",
       "      <td>1397.700000</td>\n",
       "      <td>77.650000</td>\n",
       "      <td>0.010190</td>\n",
       "      <td>0.103010</td>\n",
       "    </tr>\n",
       "    <tr>\n",
       "      <th>17</th>\n",
       "      <td>2020-04-01</td>\n",
       "      <td>K69MVDQl</td>\n",
       "      <td>KL3cQ/W</td>\n",
       "      <td>2009-11-17</td>\n",
       "      <td>2720</td>\n",
       "      <td>2720.0</td>\n",
       "      <td>175.410000</td>\n",
       "      <td>36</td>\n",
       "      <td>0.1039</td>\n",
       "      <td>Completed</td>\n",
       "      <td>0</td>\n",
       "      <td>0.0</td>\n",
       "      <td>18</td>\n",
       "      <td>2009-11-01</td>\n",
       "      <td>11</td>\n",
       "      <td>2009</td>\n",
       "      <td>175.410000</td>\n",
       "      <td>9.745000</td>\n",
       "      <td>0.003583</td>\n",
       "      <td>0.100317</td>\n",
       "    </tr>\n",
       "    <tr>\n",
       "      <th>18</th>\n",
       "      <td>2020-04-01</td>\n",
       "      <td>KF+/kssC</td>\n",
       "      <td>KYFLkTT</td>\n",
       "      <td>2009-12-14</td>\n",
       "      <td>5120</td>\n",
       "      <td>5120.0</td>\n",
       "      <td>687.849588</td>\n",
       "      <td>36</td>\n",
       "      <td>0.1000</td>\n",
       "      <td>Completed</td>\n",
       "      <td>S</td>\n",
       "      <td>0.0</td>\n",
       "      <td>18</td>\n",
       "      <td>2009-12-01</td>\n",
       "      <td>12</td>\n",
       "      <td>2009</td>\n",
       "      <td>687.849588</td>\n",
       "      <td>38.213866</td>\n",
       "      <td>0.007464</td>\n",
       "      <td>0.092536</td>\n",
       "    </tr>\n",
       "    <tr>\n",
       "      <th>19</th>\n",
       "      <td>2020-04-01</td>\n",
       "      <td>K281189Q</td>\n",
       "      <td>K4FgPwr</td>\n",
       "      <td>2009-12-10</td>\n",
       "      <td>3120</td>\n",
       "      <td>3120.0</td>\n",
       "      <td>260.580000</td>\n",
       "      <td>36</td>\n",
       "      <td>0.0772</td>\n",
       "      <td>Completed</td>\n",
       "      <td>N</td>\n",
       "      <td>0.0</td>\n",
       "      <td>18</td>\n",
       "      <td>2009-12-01</td>\n",
       "      <td>12</td>\n",
       "      <td>2009</td>\n",
       "      <td>260.580000</td>\n",
       "      <td>14.476667</td>\n",
       "      <td>0.004640</td>\n",
       "      <td>0.072560</td>\n",
       "    </tr>\n",
       "    <tr>\n",
       "      <th>20</th>\n",
       "      <td>2020-04-01</td>\n",
       "      <td>KDlO+ipR</td>\n",
       "      <td>KlZdeer</td>\n",
       "      <td>2010-01-08</td>\n",
       "      <td>4120</td>\n",
       "      <td>4120.0</td>\n",
       "      <td>1082.830000</td>\n",
       "      <td>60</td>\n",
       "      <td>0.1036</td>\n",
       "      <td>Completed</td>\n",
       "      <td>0</td>\n",
       "      <td>0.0</td>\n",
       "      <td>30</td>\n",
       "      <td>2010-01-01</td>\n",
       "      <td>01</td>\n",
       "      <td>2010</td>\n",
       "      <td>1082.830000</td>\n",
       "      <td>36.094333</td>\n",
       "      <td>0.008761</td>\n",
       "      <td>0.094839</td>\n",
       "    </tr>\n",
       "    <tr>\n",
       "      <th>21</th>\n",
       "      <td>2020-04-01</td>\n",
       "      <td>KXehFrpp</td>\n",
       "      <td>Kty4pv2</td>\n",
       "      <td>2010-01-13</td>\n",
       "      <td>3120</td>\n",
       "      <td>3120.0</td>\n",
       "      <td>343.410000</td>\n",
       "      <td>36</td>\n",
       "      <td>0.0718</td>\n",
       "      <td>Completed</td>\n",
       "      <td>B</td>\n",
       "      <td>0.0</td>\n",
       "      <td>18</td>\n",
       "      <td>2010-01-01</td>\n",
       "      <td>01</td>\n",
       "      <td>2010</td>\n",
       "      <td>343.410000</td>\n",
       "      <td>19.078333</td>\n",
       "      <td>0.006115</td>\n",
       "      <td>0.065685</td>\n",
       "    </tr>\n",
       "    <tr>\n",
       "      <th>22</th>\n",
       "      <td>2020-04-01</td>\n",
       "      <td>KblsMXkf</td>\n",
       "      <td>KH+q0tI</td>\n",
       "      <td>2010-01-12</td>\n",
       "      <td>6120</td>\n",
       "      <td>6120.0</td>\n",
       "      <td>723.430000</td>\n",
       "      <td>36</td>\n",
       "      <td>0.0794</td>\n",
       "      <td>Completed</td>\n",
       "      <td>I</td>\n",
       "      <td>0.0</td>\n",
       "      <td>18</td>\n",
       "      <td>2010-01-01</td>\n",
       "      <td>01</td>\n",
       "      <td>2010</td>\n",
       "      <td>723.430000</td>\n",
       "      <td>40.190556</td>\n",
       "      <td>0.006567</td>\n",
       "      <td>0.072833</td>\n",
       "    </tr>\n",
       "    <tr>\n",
       "      <th>23</th>\n",
       "      <td>2020-04-01</td>\n",
       "      <td>K+z4rqkI</td>\n",
       "      <td>KUrU924</td>\n",
       "      <td>2009-10-27</td>\n",
       "      <td>6620</td>\n",
       "      <td>6620.0</td>\n",
       "      <td>908.160000</td>\n",
       "      <td>36</td>\n",
       "      <td>0.1008</td>\n",
       "      <td>Completed</td>\n",
       "      <td>S</td>\n",
       "      <td>0.0</td>\n",
       "      <td>18</td>\n",
       "      <td>2009-10-01</td>\n",
       "      <td>10</td>\n",
       "      <td>2009</td>\n",
       "      <td>908.160000</td>\n",
       "      <td>50.453333</td>\n",
       "      <td>0.007621</td>\n",
       "      <td>0.093179</td>\n",
       "    </tr>\n",
       "    <tr>\n",
       "      <th>24</th>\n",
       "      <td>2020-04-01</td>\n",
       "      <td>KpW1yx6H</td>\n",
       "      <td>KZU9YmK</td>\n",
       "      <td>2009-11-27</td>\n",
       "      <td>5120</td>\n",
       "      <td>5120.0</td>\n",
       "      <td>843.900000</td>\n",
       "      <td>36</td>\n",
       "      <td>0.1063</td>\n",
       "      <td>Completed</td>\n",
       "      <td>G</td>\n",
       "      <td>0.0</td>\n",
       "      <td>18</td>\n",
       "      <td>2009-11-01</td>\n",
       "      <td>11</td>\n",
       "      <td>2009</td>\n",
       "      <td>843.900000</td>\n",
       "      <td>46.883333</td>\n",
       "      <td>0.009157</td>\n",
       "      <td>0.097143</td>\n",
       "    </tr>\n",
       "    <tr>\n",
       "      <th>25</th>\n",
       "      <td>2020-04-01</td>\n",
       "      <td>K3GHEXqJ</td>\n",
       "      <td>KP+7GGU</td>\n",
       "      <td>2009-11-27</td>\n",
       "      <td>3120</td>\n",
       "      <td>3120.0</td>\n",
       "      <td>401.790000</td>\n",
       "      <td>36</td>\n",
       "      <td>0.0807</td>\n",
       "      <td>Completed</td>\n",
       "      <td>D</td>\n",
       "      <td>0.0</td>\n",
       "      <td>18</td>\n",
       "      <td>2009-11-01</td>\n",
       "      <td>11</td>\n",
       "      <td>2009</td>\n",
       "      <td>401.790000</td>\n",
       "      <td>22.321667</td>\n",
       "      <td>0.007154</td>\n",
       "      <td>0.073546</td>\n",
       "    </tr>\n",
       "    <tr>\n",
       "      <th>26</th>\n",
       "      <td>2020-04-01</td>\n",
       "      <td>KbzeKKLl</td>\n",
       "      <td>K+3MC2Q</td>\n",
       "      <td>2010-01-05</td>\n",
       "      <td>4120</td>\n",
       "      <td>4120.0</td>\n",
       "      <td>637.120000</td>\n",
       "      <td>36</td>\n",
       "      <td>0.1016</td>\n",
       "      <td>Completed</td>\n",
       "      <td>S</td>\n",
       "      <td>0.0</td>\n",
       "      <td>18</td>\n",
       "      <td>2010-01-01</td>\n",
       "      <td>01</td>\n",
       "      <td>2010</td>\n",
       "      <td>637.120000</td>\n",
       "      <td>35.395556</td>\n",
       "      <td>0.008591</td>\n",
       "      <td>0.093009</td>\n",
       "    </tr>\n",
       "    <tr>\n",
       "      <th>27</th>\n",
       "      <td>2020-04-01</td>\n",
       "      <td>Kx7g6Obw</td>\n",
       "      <td>KUYhDyE</td>\n",
       "      <td>2009-10-19</td>\n",
       "      <td>6120</td>\n",
       "      <td>6120.0</td>\n",
       "      <td>255.210000</td>\n",
       "      <td>36</td>\n",
       "      <td>0.0758</td>\n",
       "      <td>Completed</td>\n",
       "      <td>G</td>\n",
       "      <td>0.0</td>\n",
       "      <td>18</td>\n",
       "      <td>2009-10-01</td>\n",
       "      <td>10</td>\n",
       "      <td>2009</td>\n",
       "      <td>255.210000</td>\n",
       "      <td>14.178333</td>\n",
       "      <td>0.002317</td>\n",
       "      <td>0.073483</td>\n",
       "    </tr>\n",
       "    <tr>\n",
       "      <th>28</th>\n",
       "      <td>2020-04-01</td>\n",
       "      <td>KVkBKWf0</td>\n",
       "      <td>KHi3aBG</td>\n",
       "      <td>2009-11-02</td>\n",
       "      <td>3120</td>\n",
       "      <td>3120.0</td>\n",
       "      <td>51.730000</td>\n",
       "      <td>36</td>\n",
       "      <td>0.0739</td>\n",
       "      <td>Completed</td>\n",
       "      <td>0</td>\n",
       "      <td>0.0</td>\n",
       "      <td>18</td>\n",
       "      <td>2009-11-01</td>\n",
       "      <td>11</td>\n",
       "      <td>2009</td>\n",
       "      <td>51.730000</td>\n",
       "      <td>2.873889</td>\n",
       "      <td>0.000921</td>\n",
       "      <td>0.072979</td>\n",
       "    </tr>\n",
       "    <tr>\n",
       "      <th>29</th>\n",
       "      <td>2020-04-01</td>\n",
       "      <td>KkWFpKKz</td>\n",
       "      <td>KoGRRvV</td>\n",
       "      <td>2009-11-03</td>\n",
       "      <td>5120</td>\n",
       "      <td>5120.0</td>\n",
       "      <td>622.170000</td>\n",
       "      <td>36</td>\n",
       "      <td>0.0769</td>\n",
       "      <td>Completed</td>\n",
       "      <td>K</td>\n",
       "      <td>0.0</td>\n",
       "      <td>18</td>\n",
       "      <td>2009-11-01</td>\n",
       "      <td>11</td>\n",
       "      <td>2009</td>\n",
       "      <td>622.170000</td>\n",
       "      <td>34.565000</td>\n",
       "      <td>0.006751</td>\n",
       "      <td>0.070149</td>\n",
       "    </tr>\n",
       "    <tr>\n",
       "      <th>30</th>\n",
       "      <td>2020-04-01</td>\n",
       "      <td>KVZfEMvU</td>\n",
       "      <td>KDyzP9k</td>\n",
       "      <td>2009-11-05</td>\n",
       "      <td>7120</td>\n",
       "      <td>7120.0</td>\n",
       "      <td>866.380000</td>\n",
       "      <td>60</td>\n",
       "      <td>0.1001</td>\n",
       "      <td>Completed</td>\n",
       "      <td>0</td>\n",
       "      <td>0.0</td>\n",
       "      <td>30</td>\n",
       "      <td>2009-11-01</td>\n",
       "      <td>11</td>\n",
       "      <td>2009</td>\n",
       "      <td>866.380000</td>\n",
       "      <td>28.879333</td>\n",
       "      <td>0.004056</td>\n",
       "      <td>0.096044</td>\n",
       "    </tr>\n",
       "    <tr>\n",
       "      <th>31</th>\n",
       "      <td>2020-04-01</td>\n",
       "      <td>KcC6tD2r</td>\n",
       "      <td>KvJsT/4</td>\n",
       "      <td>2010-01-11</td>\n",
       "      <td>5120</td>\n",
       "      <td>5120.0</td>\n",
       "      <td>249.300000</td>\n",
       "      <td>36</td>\n",
       "      <td>0.0718</td>\n",
       "      <td>Completed</td>\n",
       "      <td>L</td>\n",
       "      <td>0.0</td>\n",
       "      <td>18</td>\n",
       "      <td>2010-01-01</td>\n",
       "      <td>01</td>\n",
       "      <td>2010</td>\n",
       "      <td>249.300000</td>\n",
       "      <td>13.850000</td>\n",
       "      <td>0.002705</td>\n",
       "      <td>0.069095</td>\n",
       "    </tr>\n",
       "    <tr>\n",
       "      <th>32</th>\n",
       "      <td>2020-04-01</td>\n",
       "      <td>KDw9Ipa2</td>\n",
       "      <td>Kl7NKp5</td>\n",
       "      <td>2009-11-02</td>\n",
       "      <td>15120</td>\n",
       "      <td>15120.0</td>\n",
       "      <td>1504.630000</td>\n",
       "      <td>36</td>\n",
       "      <td>0.0755</td>\n",
       "      <td>Completed</td>\n",
       "      <td>B</td>\n",
       "      <td>0.0</td>\n",
       "      <td>18</td>\n",
       "      <td>2009-11-01</td>\n",
       "      <td>11</td>\n",
       "      <td>2009</td>\n",
       "      <td>1504.630000</td>\n",
       "      <td>83.590556</td>\n",
       "      <td>0.005528</td>\n",
       "      <td>0.069972</td>\n",
       "    </tr>\n",
       "    <tr>\n",
       "      <th>34</th>\n",
       "      <td>2020-04-01</td>\n",
       "      <td>KhbGKTKJ</td>\n",
       "      <td>K1TkfI8</td>\n",
       "      <td>2009-12-16</td>\n",
       "      <td>2620</td>\n",
       "      <td>2620.0</td>\n",
       "      <td>79.040000</td>\n",
       "      <td>60</td>\n",
       "      <td>0.0975</td>\n",
       "      <td>Completed</td>\n",
       "      <td>0</td>\n",
       "      <td>0.0</td>\n",
       "      <td>30</td>\n",
       "      <td>2009-12-01</td>\n",
       "      <td>12</td>\n",
       "      <td>2009</td>\n",
       "      <td>79.040000</td>\n",
       "      <td>2.634667</td>\n",
       "      <td>0.001006</td>\n",
       "      <td>0.096494</td>\n",
       "    </tr>\n",
       "    <tr>\n",
       "      <th>35</th>\n",
       "      <td>2020-04-01</td>\n",
       "      <td>K7iwYQyl</td>\n",
       "      <td>K8VYmDu</td>\n",
       "      <td>2009-12-03</td>\n",
       "      <td>7120</td>\n",
       "      <td>7120.0</td>\n",
       "      <td>382.120000</td>\n",
       "      <td>60</td>\n",
       "      <td>0.1056</td>\n",
       "      <td>Completed</td>\n",
       "      <td>B</td>\n",
       "      <td>0.0</td>\n",
       "      <td>30</td>\n",
       "      <td>2009-12-01</td>\n",
       "      <td>12</td>\n",
       "      <td>2009</td>\n",
       "      <td>382.120000</td>\n",
       "      <td>12.737333</td>\n",
       "      <td>0.001789</td>\n",
       "      <td>0.103811</td>\n",
       "    </tr>\n",
       "    <tr>\n",
       "      <th>36</th>\n",
       "      <td>2020-04-01</td>\n",
       "      <td>KzwwPKEV</td>\n",
       "      <td>Kyy52YG</td>\n",
       "      <td>2009-11-03</td>\n",
       "      <td>8120</td>\n",
       "      <td>8120.0</td>\n",
       "      <td>2217.760000</td>\n",
       "      <td>60</td>\n",
       "      <td>0.1050</td>\n",
       "      <td>Completed</td>\n",
       "      <td>N</td>\n",
       "      <td>0.0</td>\n",
       "      <td>30</td>\n",
       "      <td>2009-11-01</td>\n",
       "      <td>11</td>\n",
       "      <td>2009</td>\n",
       "      <td>2217.760000</td>\n",
       "      <td>73.925333</td>\n",
       "      <td>0.009104</td>\n",
       "      <td>0.095896</td>\n",
       "    </tr>\n",
       "    <tr>\n",
       "      <th>37</th>\n",
       "      <td>2020-04-01</td>\n",
       "      <td>KG1l6K0L</td>\n",
       "      <td>K14FsvO</td>\n",
       "      <td>2009-12-15</td>\n",
       "      <td>4120</td>\n",
       "      <td>4120.0</td>\n",
       "      <td>1102.890000</td>\n",
       "      <td>60</td>\n",
       "      <td>0.1097</td>\n",
       "      <td>Completed</td>\n",
       "      <td>G</td>\n",
       "      <td>0.0</td>\n",
       "      <td>30</td>\n",
       "      <td>2009-12-01</td>\n",
       "      <td>12</td>\n",
       "      <td>2009</td>\n",
       "      <td>1102.890000</td>\n",
       "      <td>36.763000</td>\n",
       "      <td>0.008923</td>\n",
       "      <td>0.100777</td>\n",
       "    </tr>\n",
       "    <tr>\n",
       "      <th>38</th>\n",
       "      <td>2020-04-01</td>\n",
       "      <td>KbIvWsSj</td>\n",
       "      <td>KPL7iA4</td>\n",
       "      <td>2009-10-27</td>\n",
       "      <td>9120</td>\n",
       "      <td>9120.0</td>\n",
       "      <td>25.220000</td>\n",
       "      <td>36</td>\n",
       "      <td>0.0747</td>\n",
       "      <td>Completed</td>\n",
       "      <td>0</td>\n",
       "      <td>0.0</td>\n",
       "      <td>18</td>\n",
       "      <td>2009-10-01</td>\n",
       "      <td>10</td>\n",
       "      <td>2009</td>\n",
       "      <td>25.220000</td>\n",
       "      <td>1.401111</td>\n",
       "      <td>0.000154</td>\n",
       "      <td>0.074546</td>\n",
       "    </tr>\n",
       "    <tr>\n",
       "      <th>39</th>\n",
       "      <td>2020-04-01</td>\n",
       "      <td>KNDPAC2S</td>\n",
       "      <td>KlcG/+D</td>\n",
       "      <td>2009-12-02</td>\n",
       "      <td>3120</td>\n",
       "      <td>3120.0</td>\n",
       "      <td>718.560000</td>\n",
       "      <td>60</td>\n",
       "      <td>0.1083</td>\n",
       "      <td>Completed</td>\n",
       "      <td>W</td>\n",
       "      <td>0.0</td>\n",
       "      <td>30</td>\n",
       "      <td>2009-12-01</td>\n",
       "      <td>12</td>\n",
       "      <td>2009</td>\n",
       "      <td>718.560000</td>\n",
       "      <td>23.952000</td>\n",
       "      <td>0.007677</td>\n",
       "      <td>0.100623</td>\n",
       "    </tr>\n",
       "    <tr>\n",
       "      <th>40</th>\n",
       "      <td>2020-04-01</td>\n",
       "      <td>KDYUtRQl</td>\n",
       "      <td>KH+XZlh</td>\n",
       "      <td>2010-01-07</td>\n",
       "      <td>15120</td>\n",
       "      <td>15120.0</td>\n",
       "      <td>2603.590000</td>\n",
       "      <td>60</td>\n",
       "      <td>0.0962</td>\n",
       "      <td>Completed</td>\n",
       "      <td>T</td>\n",
       "      <td>0.0</td>\n",
       "      <td>30</td>\n",
       "      <td>2010-01-01</td>\n",
       "      <td>01</td>\n",
       "      <td>2010</td>\n",
       "      <td>2603.590000</td>\n",
       "      <td>86.786333</td>\n",
       "      <td>0.005740</td>\n",
       "      <td>0.090460</td>\n",
       "    </tr>\n",
       "    <tr>\n",
       "      <th>41</th>\n",
       "      <td>2020-04-01</td>\n",
       "      <td>KH21yuHO</td>\n",
       "      <td>KJLiWai</td>\n",
       "      <td>2010-01-07</td>\n",
       "      <td>2120</td>\n",
       "      <td>2120.0</td>\n",
       "      <td>229.350000</td>\n",
       "      <td>36</td>\n",
       "      <td>0.0715</td>\n",
       "      <td>Completed</td>\n",
       "      <td>O</td>\n",
       "      <td>0.0</td>\n",
       "      <td>18</td>\n",
       "      <td>2010-01-01</td>\n",
       "      <td>01</td>\n",
       "      <td>2010</td>\n",
       "      <td>229.350000</td>\n",
       "      <td>12.741667</td>\n",
       "      <td>0.006010</td>\n",
       "      <td>0.065490</td>\n",
       "    </tr>\n",
       "    <tr>\n",
       "      <th>42</th>\n",
       "      <td>2020-04-01</td>\n",
       "      <td>KjuVvXVa</td>\n",
       "      <td>KV7VzLL</td>\n",
       "      <td>2009-11-27</td>\n",
       "      <td>8120</td>\n",
       "      <td>8120.0</td>\n",
       "      <td>920.580000</td>\n",
       "      <td>36</td>\n",
       "      <td>0.0765</td>\n",
       "      <td>Completed</td>\n",
       "      <td>N</td>\n",
       "      <td>0.0</td>\n",
       "      <td>18</td>\n",
       "      <td>2009-11-01</td>\n",
       "      <td>11</td>\n",
       "      <td>2009</td>\n",
       "      <td>920.580000</td>\n",
       "      <td>51.143333</td>\n",
       "      <td>0.006298</td>\n",
       "      <td>0.070202</td>\n",
       "    </tr>\n",
       "    <tr>\n",
       "      <th>43</th>\n",
       "      <td>2020-04-01</td>\n",
       "      <td>KKaQkLCL</td>\n",
       "      <td>K6k+bUu</td>\n",
       "      <td>2009-12-10</td>\n",
       "      <td>3120</td>\n",
       "      <td>3120.0</td>\n",
       "      <td>381.433673</td>\n",
       "      <td>36</td>\n",
       "      <td>0.0794</td>\n",
       "      <td>Completed</td>\n",
       "      <td>C</td>\n",
       "      <td>0.0</td>\n",
       "      <td>18</td>\n",
       "      <td>2009-12-01</td>\n",
       "      <td>12</td>\n",
       "      <td>2009</td>\n",
       "      <td>381.433673</td>\n",
       "      <td>21.190760</td>\n",
       "      <td>0.006792</td>\n",
       "      <td>0.072608</td>\n",
       "    </tr>\n",
       "    <tr>\n",
       "      <th>44</th>\n",
       "      <td>2020-04-01</td>\n",
       "      <td>Kj/Ly/Gs</td>\n",
       "      <td>K9teQAY</td>\n",
       "      <td>2009-11-03</td>\n",
       "      <td>5120</td>\n",
       "      <td>5120.0</td>\n",
       "      <td>587.799964</td>\n",
       "      <td>36</td>\n",
       "      <td>0.0803</td>\n",
       "      <td>Completed</td>\n",
       "      <td>C</td>\n",
       "      <td>0.0</td>\n",
       "      <td>18</td>\n",
       "      <td>2009-11-01</td>\n",
       "      <td>11</td>\n",
       "      <td>2009</td>\n",
       "      <td>587.799964</td>\n",
       "      <td>32.655554</td>\n",
       "      <td>0.006378</td>\n",
       "      <td>0.073922</td>\n",
       "    </tr>\n",
       "    <tr>\n",
       "      <th>45</th>\n",
       "      <td>2020-04-01</td>\n",
       "      <td>KhLm+KFj</td>\n",
       "      <td>KACHPbV</td>\n",
       "      <td>2010-01-06</td>\n",
       "      <td>15120</td>\n",
       "      <td>15120.0</td>\n",
       "      <td>3534.960000</td>\n",
       "      <td>60</td>\n",
       "      <td>0.1059</td>\n",
       "      <td>Completed</td>\n",
       "      <td>N</td>\n",
       "      <td>0.0</td>\n",
       "      <td>30</td>\n",
       "      <td>2010-01-01</td>\n",
       "      <td>01</td>\n",
       "      <td>2010</td>\n",
       "      <td>3534.960000</td>\n",
       "      <td>117.832000</td>\n",
       "      <td>0.007793</td>\n",
       "      <td>0.098107</td>\n",
       "    </tr>\n",
       "    <tr>\n",
       "      <th>46</th>\n",
       "      <td>2020-04-01</td>\n",
       "      <td>KwZNsAHn</td>\n",
       "      <td>KeeXcYb</td>\n",
       "      <td>2010-01-13</td>\n",
       "      <td>12120</td>\n",
       "      <td>12120.0</td>\n",
       "      <td>1362.950000</td>\n",
       "      <td>36</td>\n",
       "      <td>0.0737</td>\n",
       "      <td>Completed</td>\n",
       "      <td>0</td>\n",
       "      <td>0.0</td>\n",
       "      <td>18</td>\n",
       "      <td>2010-01-01</td>\n",
       "      <td>01</td>\n",
       "      <td>2010</td>\n",
       "      <td>1362.950000</td>\n",
       "      <td>75.719444</td>\n",
       "      <td>0.006247</td>\n",
       "      <td>0.067453</td>\n",
       "    </tr>\n",
       "    <tr>\n",
       "      <th>47</th>\n",
       "      <td>2020-04-01</td>\n",
       "      <td>KD1JYOHg</td>\n",
       "      <td>KtZ8suv</td>\n",
       "      <td>2010-01-11</td>\n",
       "      <td>7120</td>\n",
       "      <td>7120.0</td>\n",
       "      <td>431.070000</td>\n",
       "      <td>36</td>\n",
       "      <td>0.0737</td>\n",
       "      <td>Completed</td>\n",
       "      <td>L</td>\n",
       "      <td>0.0</td>\n",
       "      <td>18</td>\n",
       "      <td>2010-01-01</td>\n",
       "      <td>01</td>\n",
       "      <td>2010</td>\n",
       "      <td>431.070000</td>\n",
       "      <td>23.948333</td>\n",
       "      <td>0.003364</td>\n",
       "      <td>0.070336</td>\n",
       "    </tr>\n",
       "    <tr>\n",
       "      <th>48</th>\n",
       "      <td>2020-04-01</td>\n",
       "      <td>KgfMBplZ</td>\n",
       "      <td>KXkvqyt</td>\n",
       "      <td>2009-10-29</td>\n",
       "      <td>3120</td>\n",
       "      <td>3120.0</td>\n",
       "      <td>506.480000</td>\n",
       "      <td>36</td>\n",
       "      <td>0.1024</td>\n",
       "      <td>Completed</td>\n",
       "      <td>0</td>\n",
       "      <td>0.0</td>\n",
       "      <td>18</td>\n",
       "      <td>2009-10-01</td>\n",
       "      <td>10</td>\n",
       "      <td>2009</td>\n",
       "      <td>506.480000</td>\n",
       "      <td>28.137778</td>\n",
       "      <td>0.009019</td>\n",
       "      <td>0.093381</td>\n",
       "    </tr>\n",
       "    <tr>\n",
       "      <th>49</th>\n",
       "      <td>2020-04-01</td>\n",
       "      <td>KpXBqmlJ</td>\n",
       "      <td>KjKxePn</td>\n",
       "      <td>2009-11-26</td>\n",
       "      <td>5120</td>\n",
       "      <td>5120.0</td>\n",
       "      <td>743.690000</td>\n",
       "      <td>36</td>\n",
       "      <td>0.0920</td>\n",
       "      <td>Completed</td>\n",
       "      <td>N</td>\n",
       "      <td>0.0</td>\n",
       "      <td>18</td>\n",
       "      <td>2009-11-01</td>\n",
       "      <td>11</td>\n",
       "      <td>2009</td>\n",
       "      <td>743.690000</td>\n",
       "      <td>41.316111</td>\n",
       "      <td>0.008070</td>\n",
       "      <td>0.083930</td>\n",
       "    </tr>\n",
       "    <tr>\n",
       "      <th>51</th>\n",
       "      <td>2020-04-01</td>\n",
       "      <td>KLbLcdo+</td>\n",
       "      <td>KfeglXO</td>\n",
       "      <td>2009-11-12</td>\n",
       "      <td>3620</td>\n",
       "      <td>3620.0</td>\n",
       "      <td>520.590000</td>\n",
       "      <td>36</td>\n",
       "      <td>0.0906</td>\n",
       "      <td>Completed</td>\n",
       "      <td>I</td>\n",
       "      <td>0.0</td>\n",
       "      <td>18</td>\n",
       "      <td>2009-11-01</td>\n",
       "      <td>11</td>\n",
       "      <td>2009</td>\n",
       "      <td>520.590000</td>\n",
       "      <td>28.921667</td>\n",
       "      <td>0.007989</td>\n",
       "      <td>0.082611</td>\n",
       "    </tr>\n",
       "    <tr>\n",
       "      <th>52</th>\n",
       "      <td>2020-04-01</td>\n",
       "      <td>KpeGGhHe</td>\n",
       "      <td>K6z51nn</td>\n",
       "      <td>2009-12-15</td>\n",
       "      <td>10120</td>\n",
       "      <td>10120.0</td>\n",
       "      <td>1032.719692</td>\n",
       "      <td>60</td>\n",
       "      <td>0.0943</td>\n",
       "      <td>Completed</td>\n",
       "      <td>D</td>\n",
       "      <td>0.0</td>\n",
       "      <td>30</td>\n",
       "      <td>2009-12-01</td>\n",
       "      <td>12</td>\n",
       "      <td>2009</td>\n",
       "      <td>1032.719692</td>\n",
       "      <td>34.423990</td>\n",
       "      <td>0.003402</td>\n",
       "      <td>0.090898</td>\n",
       "    </tr>\n",
       "    <tr>\n",
       "      <th>53</th>\n",
       "      <td>2020-04-01</td>\n",
       "      <td>Kkjss878</td>\n",
       "      <td>Ku7bEHl</td>\n",
       "      <td>2009-12-16</td>\n",
       "      <td>15120</td>\n",
       "      <td>15120.0</td>\n",
       "      <td>2334.470000</td>\n",
       "      <td>36</td>\n",
       "      <td>0.0980</td>\n",
       "      <td>Completed</td>\n",
       "      <td>B</td>\n",
       "      <td>0.0</td>\n",
       "      <td>18</td>\n",
       "      <td>2009-12-01</td>\n",
       "      <td>12</td>\n",
       "      <td>2009</td>\n",
       "      <td>2334.470000</td>\n",
       "      <td>129.692778</td>\n",
       "      <td>0.008578</td>\n",
       "      <td>0.089422</td>\n",
       "    </tr>\n",
       "  </tbody>\n",
       "</table>\n",
       "</div>"
      ],
      "text/plain": [
       "   Snapshot Date Borrower ID  Loan ID Disbursal date  Original Loan Amount  \\\n",
       "0     2020-04-01    KCZ0hABC  KEG5Zcm     2009-12-01                 12120   \n",
       "1     2020-04-01    Kbzjqk1X  K/eXt8O     2010-01-12                  3120   \n",
       "2     2020-04-01    KpImAAXO  KHAjSlB     2009-11-17                  1120   \n",
       "3     2020-04-01    KDAVgrky  Ka/qq6o     2009-12-22                 10120   \n",
       "4     2020-04-01    KJe9rDg/  KMc1n/Q     2009-12-29                  5120   \n",
       "5     2020-04-01    KkulrKZC  Ko8zLsG     2010-01-06                  3120   \n",
       "6     2020-04-01    KlhT54+a  KNnJAFx     2010-01-06                  5120   \n",
       "7     2020-04-01    Krw4DB81  Kr6ApyO     2010-01-13                  9120   \n",
       "8     2020-04-01    Kddp9uXY  Ke64VjS     2009-11-27                  3120   \n",
       "9     2020-04-01    KZdxQlx1  KvEFtpk     2009-12-04                  2120   \n",
       "10    2020-04-01    KIa17yTn  KqZOamh     2009-12-15                  5120   \n",
       "11    2020-04-01    KPr2EmOz  KdxXS+r     2010-01-04                  5120   \n",
       "14    2020-04-01    Kj/iMHxo  K+Qt3lO     2009-11-18                  3120   \n",
       "15    2020-04-01    Kk3u9ved  KyAQtSm     2009-11-23                  7120   \n",
       "16    2020-04-01    KUh4fqgD  KXoPzGZ     2010-01-08                  7620   \n",
       "17    2020-04-01    K69MVDQl  KL3cQ/W     2009-11-17                  2720   \n",
       "18    2020-04-01    KF+/kssC  KYFLkTT     2009-12-14                  5120   \n",
       "19    2020-04-01    K281189Q  K4FgPwr     2009-12-10                  3120   \n",
       "20    2020-04-01    KDlO+ipR  KlZdeer     2010-01-08                  4120   \n",
       "21    2020-04-01    KXehFrpp  Kty4pv2     2010-01-13                  3120   \n",
       "22    2020-04-01    KblsMXkf  KH+q0tI     2010-01-12                  6120   \n",
       "23    2020-04-01    K+z4rqkI  KUrU924     2009-10-27                  6620   \n",
       "24    2020-04-01    KpW1yx6H  KZU9YmK     2009-11-27                  5120   \n",
       "25    2020-04-01    K3GHEXqJ  KP+7GGU     2009-11-27                  3120   \n",
       "26    2020-04-01    KbzeKKLl  K+3MC2Q     2010-01-05                  4120   \n",
       "27    2020-04-01    Kx7g6Obw  KUYhDyE     2009-10-19                  6120   \n",
       "28    2020-04-01    KVkBKWf0  KHi3aBG     2009-11-02                  3120   \n",
       "29    2020-04-01    KkWFpKKz  KoGRRvV     2009-11-03                  5120   \n",
       "30    2020-04-01    KVZfEMvU  KDyzP9k     2009-11-05                  7120   \n",
       "31    2020-04-01    KcC6tD2r  KvJsT/4     2010-01-11                  5120   \n",
       "32    2020-04-01    KDw9Ipa2  Kl7NKp5     2009-11-02                 15120   \n",
       "34    2020-04-01    KhbGKTKJ  K1TkfI8     2009-12-16                  2620   \n",
       "35    2020-04-01    K7iwYQyl  K8VYmDu     2009-12-03                  7120   \n",
       "36    2020-04-01    KzwwPKEV  Kyy52YG     2009-11-03                  8120   \n",
       "37    2020-04-01    KG1l6K0L  K14FsvO     2009-12-15                  4120   \n",
       "38    2020-04-01    KbIvWsSj  KPL7iA4     2009-10-27                  9120   \n",
       "39    2020-04-01    KNDPAC2S  KlcG/+D     2009-12-02                  3120   \n",
       "40    2020-04-01    KDYUtRQl  KH+XZlh     2010-01-07                 15120   \n",
       "41    2020-04-01    KH21yuHO  KJLiWai     2010-01-07                  2120   \n",
       "42    2020-04-01    KjuVvXVa  KV7VzLL     2009-11-27                  8120   \n",
       "43    2020-04-01    KKaQkLCL  K6k+bUu     2009-12-10                  3120   \n",
       "44    2020-04-01    Kj/Ly/Gs  K9teQAY     2009-11-03                  5120   \n",
       "45    2020-04-01    KhLm+KFj  KACHPbV     2010-01-06                 15120   \n",
       "46    2020-04-01    KwZNsAHn  KeeXcYb     2010-01-13                 12120   \n",
       "47    2020-04-01    KD1JYOHg  KtZ8suv     2010-01-11                  7120   \n",
       "48    2020-04-01    KgfMBplZ  KXkvqyt     2009-10-29                  3120   \n",
       "49    2020-04-01    KpXBqmlJ  KjKxePn     2009-11-26                  5120   \n",
       "51    2020-04-01    KLbLcdo+  KfeglXO     2009-11-12                  3620   \n",
       "52    2020-04-01    KpeGGhHe  K6z51nn     2009-12-15                 10120   \n",
       "53    2020-04-01    Kkjss878  Ku7bEHl     2009-12-16                 15120   \n",
       "\n",
       "    Principal Collected  Interest Collected  Term in months  \\\n",
       "0               12120.0         1433.160000              36   \n",
       "1                3120.0          351.840000              36   \n",
       "2                1120.0          141.550000              36   \n",
       "3               10120.0         1333.989778              60   \n",
       "4                5120.0          713.650000              36   \n",
       "5                3120.0          494.510000              36   \n",
       "6                5120.0          592.186408              36   \n",
       "7                9120.0          477.340000              36   \n",
       "8                3120.0          428.440000              36   \n",
       "9                2120.0          252.130000              36   \n",
       "10               5120.0          256.620000              36   \n",
       "11               5120.0          727.109513              60   \n",
       "14               3120.0          360.430000              36   \n",
       "15               7120.0           25.190000              36   \n",
       "16               7620.0         1397.700000              36   \n",
       "17               2720.0          175.410000              36   \n",
       "18               5120.0          687.849588              36   \n",
       "19               3120.0          260.580000              36   \n",
       "20               4120.0         1082.830000              60   \n",
       "21               3120.0          343.410000              36   \n",
       "22               6120.0          723.430000              36   \n",
       "23               6620.0          908.160000              36   \n",
       "24               5120.0          843.900000              36   \n",
       "25               3120.0          401.790000              36   \n",
       "26               4120.0          637.120000              36   \n",
       "27               6120.0          255.210000              36   \n",
       "28               3120.0           51.730000              36   \n",
       "29               5120.0          622.170000              36   \n",
       "30               7120.0          866.380000              60   \n",
       "31               5120.0          249.300000              36   \n",
       "32              15120.0         1504.630000              36   \n",
       "34               2620.0           79.040000              60   \n",
       "35               7120.0          382.120000              60   \n",
       "36               8120.0         2217.760000              60   \n",
       "37               4120.0         1102.890000              60   \n",
       "38               9120.0           25.220000              36   \n",
       "39               3120.0          718.560000              60   \n",
       "40              15120.0         2603.590000              60   \n",
       "41               2120.0          229.350000              36   \n",
       "42               8120.0          920.580000              36   \n",
       "43               3120.0          381.433673              36   \n",
       "44               5120.0          587.799964              36   \n",
       "45              15120.0         3534.960000              60   \n",
       "46              12120.0         1362.950000              36   \n",
       "47               7120.0          431.070000              36   \n",
       "48               3120.0          506.480000              36   \n",
       "49               5120.0          743.690000              36   \n",
       "51               3620.0          520.590000              36   \n",
       "52              10120.0         1032.719692              60   \n",
       "53              15120.0         2334.470000              36   \n",
       "\n",
       "    Yearly interest rate Latest Status PostCode  Balance  Months duration  \\\n",
       "0                 0.0872     Completed        D      0.0               18   \n",
       "1                 0.0786     Completed        0      0.0               18   \n",
       "2                 0.1007     Completed        H      0.0               18   \n",
       "3                 0.1062     Completed        S      0.0               30   \n",
       "4                 0.0920     Completed        B      0.0               18   \n",
       "5                 0.1089     Completed        0      0.0               18   \n",
       "6                 0.0740     Completed        H      0.0               18   \n",
       "7                 0.0736     Completed        0      0.0               18   \n",
       "8                 0.0902     Completed        B      0.0               18   \n",
       "9                 0.0771     Completed        K      0.0               18   \n",
       "10                0.0757     Completed        0      0.0               18   \n",
       "11                0.0939     Completed        W      0.0               30   \n",
       "14                0.0760     Completed        O      0.0               18   \n",
       "15                0.0788     Completed        0      0.0               18   \n",
       "16                0.1132     Completed        U      0.0               18   \n",
       "17                0.1039     Completed        0      0.0               18   \n",
       "18                0.1000     Completed        S      0.0               18   \n",
       "19                0.0772     Completed        N      0.0               18   \n",
       "20                0.1036     Completed        0      0.0               30   \n",
       "21                0.0718     Completed        B      0.0               18   \n",
       "22                0.0794     Completed        I      0.0               18   \n",
       "23                0.1008     Completed        S      0.0               18   \n",
       "24                0.1063     Completed        G      0.0               18   \n",
       "25                0.0807     Completed        D      0.0               18   \n",
       "26                0.1016     Completed        S      0.0               18   \n",
       "27                0.0758     Completed        G      0.0               18   \n",
       "28                0.0739     Completed        0      0.0               18   \n",
       "29                0.0769     Completed        K      0.0               18   \n",
       "30                0.1001     Completed        0      0.0               30   \n",
       "31                0.0718     Completed        L      0.0               18   \n",
       "32                0.0755     Completed        B      0.0               18   \n",
       "34                0.0975     Completed        0      0.0               30   \n",
       "35                0.1056     Completed        B      0.0               30   \n",
       "36                0.1050     Completed        N      0.0               30   \n",
       "37                0.1097     Completed        G      0.0               30   \n",
       "38                0.0747     Completed        0      0.0               18   \n",
       "39                0.1083     Completed        W      0.0               30   \n",
       "40                0.0962     Completed        T      0.0               30   \n",
       "41                0.0715     Completed        O      0.0               18   \n",
       "42                0.0765     Completed        N      0.0               18   \n",
       "43                0.0794     Completed        C      0.0               18   \n",
       "44                0.0803     Completed        C      0.0               18   \n",
       "45                0.1059     Completed        N      0.0               30   \n",
       "46                0.0737     Completed        0      0.0               18   \n",
       "47                0.0737     Completed        L      0.0               18   \n",
       "48                0.1024     Completed        0      0.0               18   \n",
       "49                0.0920     Completed        N      0.0               18   \n",
       "51                0.0906     Completed        I      0.0               18   \n",
       "52                0.0943     Completed        D      0.0               30   \n",
       "53                0.0980     Completed        B      0.0               18   \n",
       "\n",
       "   Disbursal Year and Month Month Disbursal Year  Loan Revenue  \\\n",
       "0                2009-12-01    12           2009   1433.160000   \n",
       "1                2010-01-01    01           2010    351.840000   \n",
       "2                2009-11-01    11           2009    141.550000   \n",
       "3                2009-12-01    12           2009   1333.989778   \n",
       "4                2009-12-01    12           2009    713.650000   \n",
       "5                2010-01-01    01           2010    494.510000   \n",
       "6                2010-01-01    01           2010    592.186408   \n",
       "7                2010-01-01    01           2010    477.340000   \n",
       "8                2009-11-01    11           2009    428.440000   \n",
       "9                2009-12-01    12           2009    252.130000   \n",
       "10               2009-12-01    12           2009    256.620000   \n",
       "11               2010-01-01    01           2010    727.109513   \n",
       "14               2009-11-01    11           2009    360.430000   \n",
       "15               2009-11-01    11           2009     25.190000   \n",
       "16               2010-01-01    01           2010   1397.700000   \n",
       "17               2009-11-01    11           2009    175.410000   \n",
       "18               2009-12-01    12           2009    687.849588   \n",
       "19               2009-12-01    12           2009    260.580000   \n",
       "20               2010-01-01    01           2010   1082.830000   \n",
       "21               2010-01-01    01           2010    343.410000   \n",
       "22               2010-01-01    01           2010    723.430000   \n",
       "23               2009-10-01    10           2009    908.160000   \n",
       "24               2009-11-01    11           2009    843.900000   \n",
       "25               2009-11-01    11           2009    401.790000   \n",
       "26               2010-01-01    01           2010    637.120000   \n",
       "27               2009-10-01    10           2009    255.210000   \n",
       "28               2009-11-01    11           2009     51.730000   \n",
       "29               2009-11-01    11           2009    622.170000   \n",
       "30               2009-11-01    11           2009    866.380000   \n",
       "31               2010-01-01    01           2010    249.300000   \n",
       "32               2009-11-01    11           2009   1504.630000   \n",
       "34               2009-12-01    12           2009     79.040000   \n",
       "35               2009-12-01    12           2009    382.120000   \n",
       "36               2009-11-01    11           2009   2217.760000   \n",
       "37               2009-12-01    12           2009   1102.890000   \n",
       "38               2009-10-01    10           2009     25.220000   \n",
       "39               2009-12-01    12           2009    718.560000   \n",
       "40               2010-01-01    01           2010   2603.590000   \n",
       "41               2010-01-01    01           2010    229.350000   \n",
       "42               2009-11-01    11           2009    920.580000   \n",
       "43               2009-12-01    12           2009    381.433673   \n",
       "44               2009-11-01    11           2009    587.799964   \n",
       "45               2010-01-01    01           2010   3534.960000   \n",
       "46               2010-01-01    01           2010   1362.950000   \n",
       "47               2010-01-01    01           2010    431.070000   \n",
       "48               2009-10-01    10           2009    506.480000   \n",
       "49               2009-11-01    11           2009    743.690000   \n",
       "51               2009-11-01    11           2009    520.590000   \n",
       "52               2009-12-01    12           2009   1032.719692   \n",
       "53               2009-12-01    12           2009   2334.470000   \n",
       "\n",
       "    Loan Adjusted Revenue  Loan Yield  Loss Rate  \n",
       "0               79.620000    0.006569   0.080631  \n",
       "1               19.546667    0.006265   0.072335  \n",
       "2                7.863889    0.007021   0.093679  \n",
       "3               44.466326    0.004394   0.101806  \n",
       "4               39.647222    0.007744   0.084256  \n",
       "5               27.472778    0.008805   0.100095  \n",
       "6               32.899245    0.006426   0.067574  \n",
       "7               26.518889    0.002908   0.070692  \n",
       "8               23.802222    0.007629   0.082571  \n",
       "9               14.007222    0.006607   0.070493  \n",
       "10              14.256667    0.002785   0.072915  \n",
       "11              24.236984    0.004734   0.089166  \n",
       "14              20.023889    0.006418   0.069582  \n",
       "15               1.399444    0.000197   0.078603  \n",
       "16              77.650000    0.010190   0.103010  \n",
       "17               9.745000    0.003583   0.100317  \n",
       "18              38.213866    0.007464   0.092536  \n",
       "19              14.476667    0.004640   0.072560  \n",
       "20              36.094333    0.008761   0.094839  \n",
       "21              19.078333    0.006115   0.065685  \n",
       "22              40.190556    0.006567   0.072833  \n",
       "23              50.453333    0.007621   0.093179  \n",
       "24              46.883333    0.009157   0.097143  \n",
       "25              22.321667    0.007154   0.073546  \n",
       "26              35.395556    0.008591   0.093009  \n",
       "27              14.178333    0.002317   0.073483  \n",
       "28               2.873889    0.000921   0.072979  \n",
       "29              34.565000    0.006751   0.070149  \n",
       "30              28.879333    0.004056   0.096044  \n",
       "31              13.850000    0.002705   0.069095  \n",
       "32              83.590556    0.005528   0.069972  \n",
       "34               2.634667    0.001006   0.096494  \n",
       "35              12.737333    0.001789   0.103811  \n",
       "36              73.925333    0.009104   0.095896  \n",
       "37              36.763000    0.008923   0.100777  \n",
       "38               1.401111    0.000154   0.074546  \n",
       "39              23.952000    0.007677   0.100623  \n",
       "40              86.786333    0.005740   0.090460  \n",
       "41              12.741667    0.006010   0.065490  \n",
       "42              51.143333    0.006298   0.070202  \n",
       "43              21.190760    0.006792   0.072608  \n",
       "44              32.655554    0.006378   0.073922  \n",
       "45             117.832000    0.007793   0.098107  \n",
       "46              75.719444    0.006247   0.067453  \n",
       "47              23.948333    0.003364   0.070336  \n",
       "48              28.137778    0.009019   0.093381  \n",
       "49              41.316111    0.008070   0.083930  \n",
       "51              28.921667    0.007989   0.082611  \n",
       "52              34.423990    0.003402   0.090898  \n",
       "53             129.692778    0.008578   0.089422  "
      ]
     },
     "metadata": {},
     "output_type": "display_data"
    },
    {
     "data": {
      "text/html": [
       "<div>\n",
       "<style scoped>\n",
       "    .dataframe tbody tr th:only-of-type {\n",
       "        vertical-align: middle;\n",
       "    }\n",
       "\n",
       "    .dataframe tbody tr th {\n",
       "        vertical-align: top;\n",
       "    }\n",
       "\n",
       "    .dataframe thead th {\n",
       "        text-align: right;\n",
       "    }\n",
       "</style>\n",
       "<table border=\"1\" class=\"dataframe\">\n",
       "  <thead>\n",
       "    <tr style=\"text-align: right;\">\n",
       "      <th></th>\n",
       "      <th>Original Loan Amount</th>\n",
       "      <th>Principal Collected</th>\n",
       "      <th>Interest Collected</th>\n",
       "      <th>Term in months</th>\n",
       "      <th>Yearly interest rate</th>\n",
       "      <th>Balance</th>\n",
       "      <th>Months duration</th>\n",
       "      <th>Loan Revenue</th>\n",
       "      <th>Loan Adjusted Revenue</th>\n",
       "      <th>Loan Yield</th>\n",
       "      <th>Loss Rate</th>\n",
       "    </tr>\n",
       "  </thead>\n",
       "  <tbody>\n",
       "    <tr>\n",
       "      <th>count</th>\n",
       "      <td>282792.000000</td>\n",
       "      <td>282792.000000</td>\n",
       "      <td>282792.000000</td>\n",
       "      <td>282792.000000</td>\n",
       "      <td>282792.000000</td>\n",
       "      <td>282792.0</td>\n",
       "      <td>282792.000000</td>\n",
       "      <td>282792.000000</td>\n",
       "      <td>282792.000000</td>\n",
       "      <td>282792.000000</td>\n",
       "      <td>282792.000000</td>\n",
       "    </tr>\n",
       "    <tr>\n",
       "      <th>mean</th>\n",
       "      <td>5463.136291</td>\n",
       "      <td>5463.136371</td>\n",
       "      <td>551.321269</td>\n",
       "      <td>38.034962</td>\n",
       "      <td>0.092764</td>\n",
       "      <td>0.0</td>\n",
       "      <td>19.028102</td>\n",
       "      <td>551.321350</td>\n",
       "      <td>26.291429</td>\n",
       "      <td>0.005322</td>\n",
       "      <td>0.087442</td>\n",
       "    </tr>\n",
       "    <tr>\n",
       "      <th>std</th>\n",
       "      <td>4640.760181</td>\n",
       "      <td>4640.760325</td>\n",
       "      <td>718.694031</td>\n",
       "      <td>16.037663</td>\n",
       "      <td>0.037027</td>\n",
       "      <td>0.0</td>\n",
       "      <td>8.000572</td>\n",
       "      <td>718.694069</td>\n",
       "      <td>27.542208</td>\n",
       "      <td>0.003282</td>\n",
       "      <td>0.035555</td>\n",
       "    </tr>\n",
       "    <tr>\n",
       "      <th>min</th>\n",
       "      <td>260.000000</td>\n",
       "      <td>260.000000</td>\n",
       "      <td>0.000000</td>\n",
       "      <td>10.000000</td>\n",
       "      <td>0.050100</td>\n",
       "      <td>0.0</td>\n",
       "      <td>5.000000</td>\n",
       "      <td>0.000000</td>\n",
       "      <td>0.000000</td>\n",
       "      <td>0.000000</td>\n",
       "      <td>0.045195</td>\n",
       "    </tr>\n",
       "    <tr>\n",
       "      <th>25%</th>\n",
       "      <td>2220.000000</td>\n",
       "      <td>2220.000000</td>\n",
       "      <td>122.810000</td>\n",
       "      <td>24.000000</td>\n",
       "      <td>0.065200</td>\n",
       "      <td>0.0</td>\n",
       "      <td>12.000000</td>\n",
       "      <td>122.810000</td>\n",
       "      <td>9.520000</td>\n",
       "      <td>0.003076</td>\n",
       "      <td>0.060878</td>\n",
       "    </tr>\n",
       "    <tr>\n",
       "      <th>50%</th>\n",
       "      <td>4100.000000</td>\n",
       "      <td>4100.000000</td>\n",
       "      <td>311.310000</td>\n",
       "      <td>36.000000</td>\n",
       "      <td>0.078100</td>\n",
       "      <td>0.0</td>\n",
       "      <td>18.000000</td>\n",
       "      <td>311.310000</td>\n",
       "      <td>18.011667</td>\n",
       "      <td>0.005064</td>\n",
       "      <td>0.073573</td>\n",
       "    </tr>\n",
       "    <tr>\n",
       "      <th>75%</th>\n",
       "      <td>6910.000000</td>\n",
       "      <td>6910.000000</td>\n",
       "      <td>677.442500</td>\n",
       "      <td>60.000000</td>\n",
       "      <td>0.116100</td>\n",
       "      <td>0.0</td>\n",
       "      <td>30.000000</td>\n",
       "      <td>677.442500</td>\n",
       "      <td>32.686417</td>\n",
       "      <td>0.006699</td>\n",
       "      <td>0.106832</td>\n",
       "    </tr>\n",
       "    <tr>\n",
       "      <th>max</th>\n",
       "      <td>30000.000000</td>\n",
       "      <td>30000.000000</td>\n",
       "      <td>13002.227650</td>\n",
       "      <td>60.000000</td>\n",
       "      <td>0.199900</td>\n",
       "      <td>0.0</td>\n",
       "      <td>30.000000</td>\n",
       "      <td>13002.227650</td>\n",
       "      <td>433.407588</td>\n",
       "      <td>0.022215</td>\n",
       "      <td>0.199855</td>\n",
       "    </tr>\n",
       "  </tbody>\n",
       "</table>\n",
       "</div>"
      ],
      "text/plain": [
       "       Original Loan Amount  Principal Collected  Interest Collected  \\\n",
       "count         282792.000000        282792.000000       282792.000000   \n",
       "mean            5463.136291          5463.136371          551.321269   \n",
       "std             4640.760181          4640.760325          718.694031   \n",
       "min              260.000000           260.000000            0.000000   \n",
       "25%             2220.000000          2220.000000          122.810000   \n",
       "50%             4100.000000          4100.000000          311.310000   \n",
       "75%             6910.000000          6910.000000          677.442500   \n",
       "max            30000.000000         30000.000000        13002.227650   \n",
       "\n",
       "       Term in months  Yearly interest rate   Balance  Months duration  \\\n",
       "count   282792.000000         282792.000000  282792.0    282792.000000   \n",
       "mean        38.034962              0.092764       0.0        19.028102   \n",
       "std         16.037663              0.037027       0.0         8.000572   \n",
       "min         10.000000              0.050100       0.0         5.000000   \n",
       "25%         24.000000              0.065200       0.0        12.000000   \n",
       "50%         36.000000              0.078100       0.0        18.000000   \n",
       "75%         60.000000              0.116100       0.0        30.000000   \n",
       "max         60.000000              0.199900       0.0        30.000000   \n",
       "\n",
       "        Loan Revenue  Loan Adjusted Revenue     Loan Yield      Loss Rate  \n",
       "count  282792.000000          282792.000000  282792.000000  282792.000000  \n",
       "mean      551.321350              26.291429       0.005322       0.087442  \n",
       "std       718.694069              27.542208       0.003282       0.035555  \n",
       "min         0.000000               0.000000       0.000000       0.045195  \n",
       "25%       122.810000               9.520000       0.003076       0.060878  \n",
       "50%       311.310000              18.011667       0.005064       0.073573  \n",
       "75%       677.442500              32.686417       0.006699       0.106832  \n",
       "max     13002.227650             433.407588       0.022215       0.199855  "
      ]
     },
     "metadata": {},
     "output_type": "display_data"
    }
   ],
   "source": [
    "display(data[data['Latest Status'] == 'Completed'].head(50))\n",
    "display(data[data['Latest Status'] == 'Completed'].describe())\n"
   ]
  },
  {
   "cell_type": "code",
   "execution_count": 257,
   "metadata": {},
   "outputs": [
    {
     "data": {
      "text/html": [
       "<div>\n",
       "<style scoped>\n",
       "    .dataframe tbody tr th:only-of-type {\n",
       "        vertical-align: middle;\n",
       "    }\n",
       "\n",
       "    .dataframe tbody tr th {\n",
       "        vertical-align: top;\n",
       "    }\n",
       "\n",
       "    .dataframe thead th {\n",
       "        text-align: right;\n",
       "    }\n",
       "</style>\n",
       "<table border=\"1\" class=\"dataframe\">\n",
       "  <thead>\n",
       "    <tr style=\"text-align: right;\">\n",
       "      <th></th>\n",
       "      <th>Snapshot Date</th>\n",
       "      <th>Borrower ID</th>\n",
       "      <th>Loan ID</th>\n",
       "      <th>Disbursal date</th>\n",
       "      <th>Original Loan Amount</th>\n",
       "      <th>Principal Collected</th>\n",
       "      <th>Interest Collected</th>\n",
       "      <th>Term in months</th>\n",
       "      <th>Yearly interest rate</th>\n",
       "      <th>Latest Status</th>\n",
       "      <th>PostCode</th>\n",
       "      <th>Balance</th>\n",
       "      <th>Months duration</th>\n",
       "      <th>Disbursal Year and Month</th>\n",
       "      <th>Month</th>\n",
       "      <th>Disbursal Year</th>\n",
       "      <th>Loan Revenue</th>\n",
       "      <th>Loan Adjusted Revenue</th>\n",
       "      <th>Loan Yield</th>\n",
       "      <th>Loss Rate</th>\n",
       "    </tr>\n",
       "  </thead>\n",
       "  <tbody>\n",
       "    <tr>\n",
       "      <th>12</th>\n",
       "      <td>2020-04-01</td>\n",
       "      <td>KW/mFcZ8</td>\n",
       "      <td>Koef+xL</td>\n",
       "      <td>2009-11-02</td>\n",
       "      <td>8120</td>\n",
       "      <td>8118.946463</td>\n",
       "      <td>1990.723535</td>\n",
       "      <td>60</td>\n",
       "      <td>0.1214</td>\n",
       "      <td>Default</td>\n",
       "      <td>K</td>\n",
       "      <td>0.0</td>\n",
       "      <td>30</td>\n",
       "      <td>2009-11-01</td>\n",
       "      <td>11</td>\n",
       "      <td>2009</td>\n",
       "      <td>1989.669998</td>\n",
       "      <td>66.322333</td>\n",
       "      <td>0.008168</td>\n",
       "      <td>0.113232</td>\n",
       "    </tr>\n",
       "    <tr>\n",
       "      <th>13</th>\n",
       "      <td>2020-04-01</td>\n",
       "      <td>KyJ+1Rj3</td>\n",
       "      <td>KCM4lqm</td>\n",
       "      <td>2009-11-04</td>\n",
       "      <td>5120</td>\n",
       "      <td>4316.872831</td>\n",
       "      <td>334.257168</td>\n",
       "      <td>60</td>\n",
       "      <td>0.0964</td>\n",
       "      <td>Default</td>\n",
       "      <td>W</td>\n",
       "      <td>0.0</td>\n",
       "      <td>29</td>\n",
       "      <td>2009-11-01</td>\n",
       "      <td>11</td>\n",
       "      <td>2009</td>\n",
       "      <td>-468.870001</td>\n",
       "      <td>-16.167931</td>\n",
       "      <td>-0.003158</td>\n",
       "      <td>0.099558</td>\n",
       "    </tr>\n",
       "    <tr>\n",
       "      <th>33</th>\n",
       "      <td>2020-04-01</td>\n",
       "      <td>K/THm75m</td>\n",
       "      <td>KXlTAcD</td>\n",
       "      <td>2009-11-20</td>\n",
       "      <td>6120</td>\n",
       "      <td>2376.062006</td>\n",
       "      <td>496.927994</td>\n",
       "      <td>36</td>\n",
       "      <td>0.0817</td>\n",
       "      <td>Default</td>\n",
       "      <td>L</td>\n",
       "      <td>0.0</td>\n",
       "      <td>11</td>\n",
       "      <td>2009-11-01</td>\n",
       "      <td>11</td>\n",
       "      <td>2009</td>\n",
       "      <td>-3247.010000</td>\n",
       "      <td>-295.182727</td>\n",
       "      <td>-0.048232</td>\n",
       "      <td>0.129932</td>\n",
       "    </tr>\n",
       "    <tr>\n",
       "      <th>50</th>\n",
       "      <td>2020-04-01</td>\n",
       "      <td>K0+A94zB</td>\n",
       "      <td>K9eYXbh</td>\n",
       "      <td>2009-11-03</td>\n",
       "      <td>1620</td>\n",
       "      <td>1620.000000</td>\n",
       "      <td>189.459378</td>\n",
       "      <td>36</td>\n",
       "      <td>0.0750</td>\n",
       "      <td>Default</td>\n",
       "      <td>L</td>\n",
       "      <td>0.0</td>\n",
       "      <td>18</td>\n",
       "      <td>2009-11-01</td>\n",
       "      <td>11</td>\n",
       "      <td>2009</td>\n",
       "      <td>189.459378</td>\n",
       "      <td>10.525521</td>\n",
       "      <td>0.006497</td>\n",
       "      <td>0.068503</td>\n",
       "    </tr>\n",
       "    <tr>\n",
       "      <th>151</th>\n",
       "      <td>2020-04-01</td>\n",
       "      <td>KkVhstsl</td>\n",
       "      <td>KzseaOe</td>\n",
       "      <td>2010-01-06</td>\n",
       "      <td>3620</td>\n",
       "      <td>2332.023844</td>\n",
       "      <td>482.086156</td>\n",
       "      <td>36</td>\n",
       "      <td>0.0792</td>\n",
       "      <td>Default</td>\n",
       "      <td>S</td>\n",
       "      <td>0.0</td>\n",
       "      <td>16</td>\n",
       "      <td>2010-01-01</td>\n",
       "      <td>01</td>\n",
       "      <td>2010</td>\n",
       "      <td>-805.890000</td>\n",
       "      <td>-50.368125</td>\n",
       "      <td>-0.013914</td>\n",
       "      <td>0.093114</td>\n",
       "    </tr>\n",
       "    <tr>\n",
       "      <th>175</th>\n",
       "      <td>2020-04-01</td>\n",
       "      <td>KKxxwPnH</td>\n",
       "      <td>KfQ9XLi</td>\n",
       "      <td>2009-10-28</td>\n",
       "      <td>5120</td>\n",
       "      <td>4161.797577</td>\n",
       "      <td>730.792423</td>\n",
       "      <td>36</td>\n",
       "      <td>0.0911</td>\n",
       "      <td>Default</td>\n",
       "      <td>P</td>\n",
       "      <td>0.0</td>\n",
       "      <td>17</td>\n",
       "      <td>2009-10-01</td>\n",
       "      <td>10</td>\n",
       "      <td>2009</td>\n",
       "      <td>-227.410000</td>\n",
       "      <td>-13.377059</td>\n",
       "      <td>-0.002613</td>\n",
       "      <td>0.093713</td>\n",
       "    </tr>\n",
       "    <tr>\n",
       "      <th>242</th>\n",
       "      <td>2020-04-01</td>\n",
       "      <td>KkUAKIrT</td>\n",
       "      <td>KAX62/0</td>\n",
       "      <td>2009-10-23</td>\n",
       "      <td>6120</td>\n",
       "      <td>2691.035656</td>\n",
       "      <td>1373.714344</td>\n",
       "      <td>60</td>\n",
       "      <td>0.0941</td>\n",
       "      <td>Default</td>\n",
       "      <td>B</td>\n",
       "      <td>0.0</td>\n",
       "      <td>21</td>\n",
       "      <td>2009-10-01</td>\n",
       "      <td>10</td>\n",
       "      <td>2009</td>\n",
       "      <td>-2055.250000</td>\n",
       "      <td>-97.869048</td>\n",
       "      <td>-0.015992</td>\n",
       "      <td>0.110092</td>\n",
       "    </tr>\n",
       "    <tr>\n",
       "      <th>258</th>\n",
       "      <td>2020-04-01</td>\n",
       "      <td>KP4rojBz</td>\n",
       "      <td>KJzPuvd</td>\n",
       "      <td>2009-12-16</td>\n",
       "      <td>1120</td>\n",
       "      <td>1028.517586</td>\n",
       "      <td>322.342414</td>\n",
       "      <td>60</td>\n",
       "      <td>0.1110</td>\n",
       "      <td>Default</td>\n",
       "      <td>L</td>\n",
       "      <td>0.0</td>\n",
       "      <td>30</td>\n",
       "      <td>2009-12-01</td>\n",
       "      <td>12</td>\n",
       "      <td>2009</td>\n",
       "      <td>230.860000</td>\n",
       "      <td>7.695333</td>\n",
       "      <td>0.006871</td>\n",
       "      <td>0.104129</td>\n",
       "    </tr>\n",
       "    <tr>\n",
       "      <th>289</th>\n",
       "      <td>2020-04-01</td>\n",
       "      <td>KTJyFhaA</td>\n",
       "      <td>KZKZfLA</td>\n",
       "      <td>2009-12-23</td>\n",
       "      <td>6120</td>\n",
       "      <td>4122.368670</td>\n",
       "      <td>890.001337</td>\n",
       "      <td>36</td>\n",
       "      <td>0.0913</td>\n",
       "      <td>Default</td>\n",
       "      <td>M</td>\n",
       "      <td>0.0</td>\n",
       "      <td>16</td>\n",
       "      <td>2009-12-01</td>\n",
       "      <td>12</td>\n",
       "      <td>2009</td>\n",
       "      <td>-1107.629992</td>\n",
       "      <td>-69.226875</td>\n",
       "      <td>-0.011312</td>\n",
       "      <td>0.102612</td>\n",
       "    </tr>\n",
       "    <tr>\n",
       "      <th>381</th>\n",
       "      <td>2020-04-01</td>\n",
       "      <td>KmG/11c1</td>\n",
       "      <td>KCK4nrG</td>\n",
       "      <td>2009-11-30</td>\n",
       "      <td>9120</td>\n",
       "      <td>9119.460564</td>\n",
       "      <td>3361.209436</td>\n",
       "      <td>60</td>\n",
       "      <td>0.1360</td>\n",
       "      <td>Default</td>\n",
       "      <td>S</td>\n",
       "      <td>0.0</td>\n",
       "      <td>30</td>\n",
       "      <td>2009-11-01</td>\n",
       "      <td>11</td>\n",
       "      <td>2009</td>\n",
       "      <td>3360.670000</td>\n",
       "      <td>112.022333</td>\n",
       "      <td>0.012283</td>\n",
       "      <td>0.123717</td>\n",
       "    </tr>\n",
       "    <tr>\n",
       "      <th>397</th>\n",
       "      <td>2020-04-01</td>\n",
       "      <td>K7l0wvxD</td>\n",
       "      <td>KjSsZuW</td>\n",
       "      <td>2009-12-17</td>\n",
       "      <td>3120</td>\n",
       "      <td>2739.577265</td>\n",
       "      <td>806.242736</td>\n",
       "      <td>60</td>\n",
       "      <td>0.0946</td>\n",
       "      <td>Default</td>\n",
       "      <td>L</td>\n",
       "      <td>0.0</td>\n",
       "      <td>30</td>\n",
       "      <td>2009-12-01</td>\n",
       "      <td>12</td>\n",
       "      <td>2009</td>\n",
       "      <td>425.820001</td>\n",
       "      <td>14.194000</td>\n",
       "      <td>0.004549</td>\n",
       "      <td>0.090051</td>\n",
       "    </tr>\n",
       "    <tr>\n",
       "      <th>431</th>\n",
       "      <td>2020-04-01</td>\n",
       "      <td>Kon3/TRK</td>\n",
       "      <td>KyJ36uw</td>\n",
       "      <td>2009-12-15</td>\n",
       "      <td>15120</td>\n",
       "      <td>7788.053026</td>\n",
       "      <td>2373.876974</td>\n",
       "      <td>60</td>\n",
       "      <td>0.1141</td>\n",
       "      <td>Default</td>\n",
       "      <td>N</td>\n",
       "      <td>0.0</td>\n",
       "      <td>23</td>\n",
       "      <td>2009-12-01</td>\n",
       "      <td>12</td>\n",
       "      <td>2009</td>\n",
       "      <td>-4958.070000</td>\n",
       "      <td>-215.568261</td>\n",
       "      <td>-0.014257</td>\n",
       "      <td>0.128357</td>\n",
       "    </tr>\n",
       "    <tr>\n",
       "      <th>434</th>\n",
       "      <td>2020-04-01</td>\n",
       "      <td>K9DUnp09</td>\n",
       "      <td>KjpjlI/</td>\n",
       "      <td>2009-11-24</td>\n",
       "      <td>3120</td>\n",
       "      <td>2619.782234</td>\n",
       "      <td>678.677766</td>\n",
       "      <td>60</td>\n",
       "      <td>0.1002</td>\n",
       "      <td>Default</td>\n",
       "      <td>R</td>\n",
       "      <td>0.0</td>\n",
       "      <td>29</td>\n",
       "      <td>2009-11-01</td>\n",
       "      <td>11</td>\n",
       "      <td>2009</td>\n",
       "      <td>178.460000</td>\n",
       "      <td>6.153793</td>\n",
       "      <td>0.001972</td>\n",
       "      <td>0.098228</td>\n",
       "    </tr>\n",
       "    <tr>\n",
       "      <th>484</th>\n",
       "      <td>2020-04-01</td>\n",
       "      <td>KAyBHEz+</td>\n",
       "      <td>KrZbqjb</td>\n",
       "      <td>2009-11-18</td>\n",
       "      <td>1620</td>\n",
       "      <td>1602.925711</td>\n",
       "      <td>243.494288</td>\n",
       "      <td>36</td>\n",
       "      <td>0.0880</td>\n",
       "      <td>Default</td>\n",
       "      <td>C</td>\n",
       "      <td>0.0</td>\n",
       "      <td>18</td>\n",
       "      <td>2009-11-01</td>\n",
       "      <td>11</td>\n",
       "      <td>2009</td>\n",
       "      <td>226.419999</td>\n",
       "      <td>12.578889</td>\n",
       "      <td>0.007765</td>\n",
       "      <td>0.080235</td>\n",
       "    </tr>\n",
       "    <tr>\n",
       "      <th>499</th>\n",
       "      <td>2020-04-01</td>\n",
       "      <td>KC9lQ9Kh</td>\n",
       "      <td>KD2mw/h</td>\n",
       "      <td>2009-10-30</td>\n",
       "      <td>3120</td>\n",
       "      <td>3119.999113</td>\n",
       "      <td>675.530886</td>\n",
       "      <td>36</td>\n",
       "      <td>0.0922</td>\n",
       "      <td>Default</td>\n",
       "      <td>B</td>\n",
       "      <td>0.0</td>\n",
       "      <td>18</td>\n",
       "      <td>2009-10-01</td>\n",
       "      <td>10</td>\n",
       "      <td>2009</td>\n",
       "      <td>675.529999</td>\n",
       "      <td>37.529444</td>\n",
       "      <td>0.012029</td>\n",
       "      <td>0.080171</td>\n",
       "    </tr>\n",
       "  </tbody>\n",
       "</table>\n",
       "</div>"
      ],
      "text/plain": [
       "    Snapshot Date Borrower ID  Loan ID Disbursal date  Original Loan Amount  \\\n",
       "12     2020-04-01    KW/mFcZ8  Koef+xL     2009-11-02                  8120   \n",
       "13     2020-04-01    KyJ+1Rj3  KCM4lqm     2009-11-04                  5120   \n",
       "33     2020-04-01    K/THm75m  KXlTAcD     2009-11-20                  6120   \n",
       "50     2020-04-01    K0+A94zB  K9eYXbh     2009-11-03                  1620   \n",
       "151    2020-04-01    KkVhstsl  KzseaOe     2010-01-06                  3620   \n",
       "175    2020-04-01    KKxxwPnH  KfQ9XLi     2009-10-28                  5120   \n",
       "242    2020-04-01    KkUAKIrT  KAX62/0     2009-10-23                  6120   \n",
       "258    2020-04-01    KP4rojBz  KJzPuvd     2009-12-16                  1120   \n",
       "289    2020-04-01    KTJyFhaA  KZKZfLA     2009-12-23                  6120   \n",
       "381    2020-04-01    KmG/11c1  KCK4nrG     2009-11-30                  9120   \n",
       "397    2020-04-01    K7l0wvxD  KjSsZuW     2009-12-17                  3120   \n",
       "431    2020-04-01    Kon3/TRK  KyJ36uw     2009-12-15                 15120   \n",
       "434    2020-04-01    K9DUnp09  KjpjlI/     2009-11-24                  3120   \n",
       "484    2020-04-01    KAyBHEz+  KrZbqjb     2009-11-18                  1620   \n",
       "499    2020-04-01    KC9lQ9Kh  KD2mw/h     2009-10-30                  3120   \n",
       "\n",
       "     Principal Collected  Interest Collected  Term in months  \\\n",
       "12           8118.946463         1990.723535              60   \n",
       "13           4316.872831          334.257168              60   \n",
       "33           2376.062006          496.927994              36   \n",
       "50           1620.000000          189.459378              36   \n",
       "151          2332.023844          482.086156              36   \n",
       "175          4161.797577          730.792423              36   \n",
       "242          2691.035656         1373.714344              60   \n",
       "258          1028.517586          322.342414              60   \n",
       "289          4122.368670          890.001337              36   \n",
       "381          9119.460564         3361.209436              60   \n",
       "397          2739.577265          806.242736              60   \n",
       "431          7788.053026         2373.876974              60   \n",
       "434          2619.782234          678.677766              60   \n",
       "484          1602.925711          243.494288              36   \n",
       "499          3119.999113          675.530886              36   \n",
       "\n",
       "     Yearly interest rate Latest Status PostCode  Balance  Months duration  \\\n",
       "12                 0.1214       Default        K      0.0               30   \n",
       "13                 0.0964       Default        W      0.0               29   \n",
       "33                 0.0817       Default        L      0.0               11   \n",
       "50                 0.0750       Default        L      0.0               18   \n",
       "151                0.0792       Default        S      0.0               16   \n",
       "175                0.0911       Default        P      0.0               17   \n",
       "242                0.0941       Default        B      0.0               21   \n",
       "258                0.1110       Default        L      0.0               30   \n",
       "289                0.0913       Default        M      0.0               16   \n",
       "381                0.1360       Default        S      0.0               30   \n",
       "397                0.0946       Default        L      0.0               30   \n",
       "431                0.1141       Default        N      0.0               23   \n",
       "434                0.1002       Default        R      0.0               29   \n",
       "484                0.0880       Default        C      0.0               18   \n",
       "499                0.0922       Default        B      0.0               18   \n",
       "\n",
       "    Disbursal Year and Month Month Disbursal Year  Loan Revenue  \\\n",
       "12                2009-11-01    11           2009   1989.669998   \n",
       "13                2009-11-01    11           2009   -468.870001   \n",
       "33                2009-11-01    11           2009  -3247.010000   \n",
       "50                2009-11-01    11           2009    189.459378   \n",
       "151               2010-01-01    01           2010   -805.890000   \n",
       "175               2009-10-01    10           2009   -227.410000   \n",
       "242               2009-10-01    10           2009  -2055.250000   \n",
       "258               2009-12-01    12           2009    230.860000   \n",
       "289               2009-12-01    12           2009  -1107.629992   \n",
       "381               2009-11-01    11           2009   3360.670000   \n",
       "397               2009-12-01    12           2009    425.820001   \n",
       "431               2009-12-01    12           2009  -4958.070000   \n",
       "434               2009-11-01    11           2009    178.460000   \n",
       "484               2009-11-01    11           2009    226.419999   \n",
       "499               2009-10-01    10           2009    675.529999   \n",
       "\n",
       "     Loan Adjusted Revenue  Loan Yield  Loss Rate  \n",
       "12               66.322333    0.008168   0.113232  \n",
       "13              -16.167931   -0.003158   0.099558  \n",
       "33             -295.182727   -0.048232   0.129932  \n",
       "50               10.525521    0.006497   0.068503  \n",
       "151             -50.368125   -0.013914   0.093114  \n",
       "175             -13.377059   -0.002613   0.093713  \n",
       "242             -97.869048   -0.015992   0.110092  \n",
       "258               7.695333    0.006871   0.104129  \n",
       "289             -69.226875   -0.011312   0.102612  \n",
       "381             112.022333    0.012283   0.123717  \n",
       "397              14.194000    0.004549   0.090051  \n",
       "431            -215.568261   -0.014257   0.128357  \n",
       "434               6.153793    0.001972   0.098228  \n",
       "484              12.578889    0.007765   0.080235  \n",
       "499              37.529444    0.012029   0.080171  "
      ]
     },
     "metadata": {},
     "output_type": "display_data"
    },
    {
     "data": {
      "text/html": [
       "<div>\n",
       "<style scoped>\n",
       "    .dataframe tbody tr th:only-of-type {\n",
       "        vertical-align: middle;\n",
       "    }\n",
       "\n",
       "    .dataframe tbody tr th {\n",
       "        vertical-align: top;\n",
       "    }\n",
       "\n",
       "    .dataframe thead th {\n",
       "        text-align: right;\n",
       "    }\n",
       "</style>\n",
       "<table border=\"1\" class=\"dataframe\">\n",
       "  <thead>\n",
       "    <tr style=\"text-align: right;\">\n",
       "      <th></th>\n",
       "      <th>Original Loan Amount</th>\n",
       "      <th>Principal Collected</th>\n",
       "      <th>Interest Collected</th>\n",
       "      <th>Term in months</th>\n",
       "      <th>Yearly interest rate</th>\n",
       "      <th>Balance</th>\n",
       "      <th>Months duration</th>\n",
       "      <th>Loan Revenue</th>\n",
       "      <th>Loan Adjusted Revenue</th>\n",
       "      <th>Loan Yield</th>\n",
       "      <th>Loss Rate</th>\n",
       "    </tr>\n",
       "  </thead>\n",
       "  <tbody>\n",
       "    <tr>\n",
       "      <th>count</th>\n",
       "      <td>25898.000000</td>\n",
       "      <td>25898.000000</td>\n",
       "      <td>25898.000000</td>\n",
       "      <td>25898.000000</td>\n",
       "      <td>25898.000000</td>\n",
       "      <td>25898.0</td>\n",
       "      <td>25898.000000</td>\n",
       "      <td>25898.000000</td>\n",
       "      <td>25898.000000</td>\n",
       "      <td>25898.000000</td>\n",
       "      <td>25898.000000</td>\n",
       "    </tr>\n",
       "    <tr>\n",
       "      <th>mean</th>\n",
       "      <td>7763.998340</td>\n",
       "      <td>2235.598194</td>\n",
       "      <td>952.598481</td>\n",
       "      <td>47.206773</td>\n",
       "      <td>0.125287</td>\n",
       "      <td>0.0</td>\n",
       "      <td>10.799946</td>\n",
       "      <td>-4575.801665</td>\n",
       "      <td>-1124.924498</td>\n",
       "      <td>-0.133532</td>\n",
       "      <td>0.258819</td>\n",
       "    </tr>\n",
       "    <tr>\n",
       "      <th>std</th>\n",
       "      <td>5913.676924</td>\n",
       "      <td>2569.928282</td>\n",
       "      <td>1062.712602</td>\n",
       "      <td>14.206789</td>\n",
       "      <td>0.041280</td>\n",
       "      <td>0.0</td>\n",
       "      <td>7.448689</td>\n",
       "      <td>4868.490233</td>\n",
       "      <td>2533.137242</td>\n",
       "      <td>0.220488</td>\n",
       "      <td>0.228625</td>\n",
       "    </tr>\n",
       "    <tr>\n",
       "      <th>min</th>\n",
       "      <td>260.000000</td>\n",
       "      <td>0.000000</td>\n",
       "      <td>0.000000</td>\n",
       "      <td>10.000000</td>\n",
       "      <td>0.050100</td>\n",
       "      <td>0.0</td>\n",
       "      <td>0.000000</td>\n",
       "      <td>-29910.000000</td>\n",
       "      <td>-27068.850000</td>\n",
       "      <td>-0.981175</td>\n",
       "      <td>0.045778</td>\n",
       "    </tr>\n",
       "    <tr>\n",
       "      <th>25%</th>\n",
       "      <td>3230.000000</td>\n",
       "      <td>559.641636</td>\n",
       "      <td>222.106600</td>\n",
       "      <td>36.000000</td>\n",
       "      <td>0.088625</td>\n",
       "      <td>0.0</td>\n",
       "      <td>5.000000</td>\n",
       "      <td>-6638.580000</td>\n",
       "      <td>-953.762000</td>\n",
       "      <td>-0.136042</td>\n",
       "      <td>0.129527</td>\n",
       "    </tr>\n",
       "    <tr>\n",
       "      <th>50%</th>\n",
       "      <td>5900.000000</td>\n",
       "      <td>1405.996823</td>\n",
       "      <td>594.549239</td>\n",
       "      <td>48.000000</td>\n",
       "      <td>0.125600</td>\n",
       "      <td>0.0</td>\n",
       "      <td>10.000000</td>\n",
       "      <td>-3084.465000</td>\n",
       "      <td>-293.174040</td>\n",
       "      <td>-0.051266</td>\n",
       "      <td>0.188247</td>\n",
       "    </tr>\n",
       "    <tr>\n",
       "      <th>75%</th>\n",
       "      <td>10550.000000</td>\n",
       "      <td>2977.289419</td>\n",
       "      <td>1302.563449</td>\n",
       "      <td>60.000000</td>\n",
       "      <td>0.164100</td>\n",
       "      <td>0.0</td>\n",
       "      <td>16.000000</td>\n",
       "      <td>-1076.410000</td>\n",
       "      <td>-70.215409</td>\n",
       "      <td>-0.015873</td>\n",
       "      <td>0.277286</td>\n",
       "    </tr>\n",
       "    <tr>\n",
       "      <th>max</th>\n",
       "      <td>29910.000000</td>\n",
       "      <td>29639.993000</td>\n",
       "      <td>11852.814440</td>\n",
       "      <td>60.000000</td>\n",
       "      <td>0.199900</td>\n",
       "      <td>0.0</td>\n",
       "      <td>30.000000</td>\n",
       "      <td>8303.679998</td>\n",
       "      <td>276.789333</td>\n",
       "      <td>0.020614</td>\n",
       "      <td>1.171544</td>\n",
       "    </tr>\n",
       "  </tbody>\n",
       "</table>\n",
       "</div>"
      ],
      "text/plain": [
       "       Original Loan Amount  Principal Collected  Interest Collected  \\\n",
       "count          25898.000000         25898.000000        25898.000000   \n",
       "mean            7763.998340          2235.598194          952.598481   \n",
       "std             5913.676924          2569.928282         1062.712602   \n",
       "min              260.000000             0.000000            0.000000   \n",
       "25%             3230.000000           559.641636          222.106600   \n",
       "50%             5900.000000          1405.996823          594.549239   \n",
       "75%            10550.000000          2977.289419         1302.563449   \n",
       "max            29910.000000         29639.993000        11852.814440   \n",
       "\n",
       "       Term in months  Yearly interest rate  Balance  Months duration  \\\n",
       "count    25898.000000          25898.000000  25898.0     25898.000000   \n",
       "mean        47.206773              0.125287      0.0        10.799946   \n",
       "std         14.206789              0.041280      0.0         7.448689   \n",
       "min         10.000000              0.050100      0.0         0.000000   \n",
       "25%         36.000000              0.088625      0.0         5.000000   \n",
       "50%         48.000000              0.125600      0.0        10.000000   \n",
       "75%         60.000000              0.164100      0.0        16.000000   \n",
       "max         60.000000              0.199900      0.0        30.000000   \n",
       "\n",
       "       Loan Revenue  Loan Adjusted Revenue    Loan Yield     Loss Rate  \n",
       "count  25898.000000           25898.000000  25898.000000  25898.000000  \n",
       "mean   -4575.801665           -1124.924498     -0.133532      0.258819  \n",
       "std     4868.490233            2533.137242      0.220488      0.228625  \n",
       "min   -29910.000000          -27068.850000     -0.981175      0.045778  \n",
       "25%    -6638.580000            -953.762000     -0.136042      0.129527  \n",
       "50%    -3084.465000            -293.174040     -0.051266      0.188247  \n",
       "75%    -1076.410000             -70.215409     -0.015873      0.277286  \n",
       "max     8303.679998             276.789333      0.020614      1.171544  "
      ]
     },
     "execution_count": 257,
     "metadata": {},
     "output_type": "execute_result"
    }
   ],
   "source": [
    "display(data[data['Latest Status'] == 'Default'].head(15))\n",
    "data[data['Latest Status'] == 'Default'].describe()"
   ]
  },
  {
   "cell_type": "code",
   "execution_count": 258,
   "metadata": {},
   "outputs": [
    {
     "data": {
      "text/html": [
       "<div>\n",
       "<style scoped>\n",
       "    .dataframe tbody tr th:only-of-type {\n",
       "        vertical-align: middle;\n",
       "    }\n",
       "\n",
       "    .dataframe tbody tr th {\n",
       "        vertical-align: top;\n",
       "    }\n",
       "\n",
       "    .dataframe thead th {\n",
       "        text-align: right;\n",
       "    }\n",
       "</style>\n",
       "<table border=\"1\" class=\"dataframe\">\n",
       "  <thead>\n",
       "    <tr style=\"text-align: right;\">\n",
       "      <th></th>\n",
       "      <th>Original Loan Amount</th>\n",
       "      <th>Principal Collected</th>\n",
       "      <th>Interest Collected</th>\n",
       "      <th>Term in months</th>\n",
       "      <th>Yearly interest rate</th>\n",
       "      <th>Balance</th>\n",
       "      <th>Months duration</th>\n",
       "      <th>Loan Revenue</th>\n",
       "      <th>Loan Adjusted Revenue</th>\n",
       "      <th>Loan Yield</th>\n",
       "      <th>Loss Rate</th>\n",
       "      <th>check</th>\n",
       "    </tr>\n",
       "  </thead>\n",
       "  <tbody>\n",
       "    <tr>\n",
       "      <th>count</th>\n",
       "      <td>282792.000000</td>\n",
       "      <td>282792.000000</td>\n",
       "      <td>282792.000000</td>\n",
       "      <td>282792.000000</td>\n",
       "      <td>282792.000000</td>\n",
       "      <td>282792.0</td>\n",
       "      <td>282792.000000</td>\n",
       "      <td>282792.000000</td>\n",
       "      <td>282792.000000</td>\n",
       "      <td>282792.000000</td>\n",
       "      <td>282792.000000</td>\n",
       "      <td>282792.000000</td>\n",
       "    </tr>\n",
       "    <tr>\n",
       "      <th>mean</th>\n",
       "      <td>5463.136291</td>\n",
       "      <td>5463.136371</td>\n",
       "      <td>551.321269</td>\n",
       "      <td>38.034962</td>\n",
       "      <td>0.092764</td>\n",
       "      <td>0.0</td>\n",
       "      <td>19.028102</td>\n",
       "      <td>551.321350</td>\n",
       "      <td>26.291429</td>\n",
       "      <td>0.005322</td>\n",
       "      <td>0.087442</td>\n",
       "      <td>1.996342</td>\n",
       "    </tr>\n",
       "    <tr>\n",
       "      <th>std</th>\n",
       "      <td>4640.760181</td>\n",
       "      <td>4640.760325</td>\n",
       "      <td>718.694031</td>\n",
       "      <td>16.037663</td>\n",
       "      <td>0.037027</td>\n",
       "      <td>0.0</td>\n",
       "      <td>8.000572</td>\n",
       "      <td>718.694069</td>\n",
       "      <td>27.542208</td>\n",
       "      <td>0.003282</td>\n",
       "      <td>0.035555</td>\n",
       "      <td>0.024847</td>\n",
       "    </tr>\n",
       "    <tr>\n",
       "      <th>min</th>\n",
       "      <td>260.000000</td>\n",
       "      <td>260.000000</td>\n",
       "      <td>0.000000</td>\n",
       "      <td>10.000000</td>\n",
       "      <td>0.050100</td>\n",
       "      <td>0.0</td>\n",
       "      <td>5.000000</td>\n",
       "      <td>0.000000</td>\n",
       "      <td>0.000000</td>\n",
       "      <td>0.000000</td>\n",
       "      <td>0.045195</td>\n",
       "      <td>1.833333</td>\n",
       "    </tr>\n",
       "    <tr>\n",
       "      <th>25%</th>\n",
       "      <td>2220.000000</td>\n",
       "      <td>2220.000000</td>\n",
       "      <td>122.810000</td>\n",
       "      <td>24.000000</td>\n",
       "      <td>0.065200</td>\n",
       "      <td>0.0</td>\n",
       "      <td>12.000000</td>\n",
       "      <td>122.810000</td>\n",
       "      <td>9.520000</td>\n",
       "      <td>0.003076</td>\n",
       "      <td>0.060878</td>\n",
       "      <td>2.000000</td>\n",
       "    </tr>\n",
       "    <tr>\n",
       "      <th>50%</th>\n",
       "      <td>4100.000000</td>\n",
       "      <td>4100.000000</td>\n",
       "      <td>311.310000</td>\n",
       "      <td>36.000000</td>\n",
       "      <td>0.078100</td>\n",
       "      <td>0.0</td>\n",
       "      <td>18.000000</td>\n",
       "      <td>311.310000</td>\n",
       "      <td>18.011667</td>\n",
       "      <td>0.005064</td>\n",
       "      <td>0.073573</td>\n",
       "      <td>2.000000</td>\n",
       "    </tr>\n",
       "    <tr>\n",
       "      <th>75%</th>\n",
       "      <td>6910.000000</td>\n",
       "      <td>6910.000000</td>\n",
       "      <td>677.442500</td>\n",
       "      <td>60.000000</td>\n",
       "      <td>0.116100</td>\n",
       "      <td>0.0</td>\n",
       "      <td>30.000000</td>\n",
       "      <td>677.442500</td>\n",
       "      <td>32.686417</td>\n",
       "      <td>0.006699</td>\n",
       "      <td>0.106832</td>\n",
       "      <td>2.000000</td>\n",
       "    </tr>\n",
       "    <tr>\n",
       "      <th>max</th>\n",
       "      <td>30000.000000</td>\n",
       "      <td>30000.000000</td>\n",
       "      <td>13002.227650</td>\n",
       "      <td>60.000000</td>\n",
       "      <td>0.199900</td>\n",
       "      <td>0.0</td>\n",
       "      <td>30.000000</td>\n",
       "      <td>13002.227650</td>\n",
       "      <td>433.407588</td>\n",
       "      <td>0.022215</td>\n",
       "      <td>0.199855</td>\n",
       "      <td>2.071429</td>\n",
       "    </tr>\n",
       "  </tbody>\n",
       "</table>\n",
       "</div>"
      ],
      "text/plain": [
       "       Original Loan Amount  Principal Collected  Interest Collected  \\\n",
       "count         282792.000000        282792.000000       282792.000000   \n",
       "mean            5463.136291          5463.136371          551.321269   \n",
       "std             4640.760181          4640.760325          718.694031   \n",
       "min              260.000000           260.000000            0.000000   \n",
       "25%             2220.000000          2220.000000          122.810000   \n",
       "50%             4100.000000          4100.000000          311.310000   \n",
       "75%             6910.000000          6910.000000          677.442500   \n",
       "max            30000.000000         30000.000000        13002.227650   \n",
       "\n",
       "       Term in months  Yearly interest rate   Balance  Months duration  \\\n",
       "count   282792.000000         282792.000000  282792.0    282792.000000   \n",
       "mean        38.034962              0.092764       0.0        19.028102   \n",
       "std         16.037663              0.037027       0.0         8.000572   \n",
       "min         10.000000              0.050100       0.0         5.000000   \n",
       "25%         24.000000              0.065200       0.0        12.000000   \n",
       "50%         36.000000              0.078100       0.0        18.000000   \n",
       "75%         60.000000              0.116100       0.0        30.000000   \n",
       "max         60.000000              0.199900       0.0        30.000000   \n",
       "\n",
       "        Loan Revenue  Loan Adjusted Revenue     Loan Yield      Loss Rate  \\\n",
       "count  282792.000000          282792.000000  282792.000000  282792.000000   \n",
       "mean      551.321350              26.291429       0.005322       0.087442   \n",
       "std       718.694069              27.542208       0.003282       0.035555   \n",
       "min         0.000000               0.000000       0.000000       0.045195   \n",
       "25%       122.810000               9.520000       0.003076       0.060878   \n",
       "50%       311.310000              18.011667       0.005064       0.073573   \n",
       "75%       677.442500              32.686417       0.006699       0.106832   \n",
       "max     13002.227650             433.407588       0.022215       0.199855   \n",
       "\n",
       "               check  \n",
       "count  282792.000000  \n",
       "mean        1.996342  \n",
       "std         0.024847  \n",
       "min         1.833333  \n",
       "25%         2.000000  \n",
       "50%         2.000000  \n",
       "75%         2.000000  \n",
       "max         2.071429  "
      ]
     },
     "execution_count": 258,
     "metadata": {},
     "output_type": "execute_result"
    }
   ],
   "source": [
    "completed_loans['check'] = completed_loans['Term in months']/completed_loans['Months duration']\n",
    "completed_loans.describe()"
   ]
  },
  {
   "cell_type": "code",
   "execution_count": 259,
   "metadata": {},
   "outputs": [
    {
     "data": {
      "text/html": [
       "<div>\n",
       "<style scoped>\n",
       "    .dataframe tbody tr th:only-of-type {\n",
       "        vertical-align: middle;\n",
       "    }\n",
       "\n",
       "    .dataframe tbody tr th {\n",
       "        vertical-align: top;\n",
       "    }\n",
       "\n",
       "    .dataframe thead th {\n",
       "        text-align: right;\n",
       "    }\n",
       "</style>\n",
       "<table border=\"1\" class=\"dataframe\">\n",
       "  <thead>\n",
       "    <tr style=\"text-align: right;\">\n",
       "      <th></th>\n",
       "      <th>Snapshot Date</th>\n",
       "      <th>Borrower ID</th>\n",
       "      <th>Loan ID</th>\n",
       "      <th>Disbursal date</th>\n",
       "      <th>Original Loan Amount</th>\n",
       "      <th>Principal Collected</th>\n",
       "      <th>Interest Collected</th>\n",
       "      <th>Term in months</th>\n",
       "      <th>Yearly interest rate</th>\n",
       "      <th>Latest Status</th>\n",
       "      <th>...</th>\n",
       "      <th>Balance</th>\n",
       "      <th>Months duration</th>\n",
       "      <th>Disbursal Year and Month</th>\n",
       "      <th>Month</th>\n",
       "      <th>Disbursal Year</th>\n",
       "      <th>Loan Revenue</th>\n",
       "      <th>Loan Adjusted Revenue</th>\n",
       "      <th>Loan Yield</th>\n",
       "      <th>Loss Rate</th>\n",
       "      <th>check</th>\n",
       "    </tr>\n",
       "  </thead>\n",
       "  <tbody>\n",
       "    <tr>\n",
       "      <th>51849</th>\n",
       "      <td>2020-04-01</td>\n",
       "      <td>KvUUNtgE</td>\n",
       "      <td>KzPdyQU</td>\n",
       "      <td>2019-04-04</td>\n",
       "      <td>1650</td>\n",
       "      <td>1650.00</td>\n",
       "      <td>100.38</td>\n",
       "      <td>11</td>\n",
       "      <td>0.1161</td>\n",
       "      <td>Completed</td>\n",
       "      <td>...</td>\n",
       "      <td>0.0</td>\n",
       "      <td>6</td>\n",
       "      <td>2019-04-01</td>\n",
       "      <td>04</td>\n",
       "      <td>2019</td>\n",
       "      <td>100.38</td>\n",
       "      <td>16.730000</td>\n",
       "      <td>0.010139</td>\n",
       "      <td>0.105961</td>\n",
       "      <td>1.833333</td>\n",
       "    </tr>\n",
       "    <tr>\n",
       "      <th>51850</th>\n",
       "      <td>2020-04-01</td>\n",
       "      <td>KnqEAiKa</td>\n",
       "      <td>K+jHEEd</td>\n",
       "      <td>2019-04-01</td>\n",
       "      <td>5360</td>\n",
       "      <td>5360.00</td>\n",
       "      <td>300.01</td>\n",
       "      <td>11</td>\n",
       "      <td>0.1161</td>\n",
       "      <td>Completed</td>\n",
       "      <td>...</td>\n",
       "      <td>0.0</td>\n",
       "      <td>6</td>\n",
       "      <td>2019-04-01</td>\n",
       "      <td>04</td>\n",
       "      <td>2019</td>\n",
       "      <td>300.01</td>\n",
       "      <td>50.001667</td>\n",
       "      <td>0.009329</td>\n",
       "      <td>0.106771</td>\n",
       "      <td>1.833333</td>\n",
       "    </tr>\n",
       "    <tr>\n",
       "      <th>51851</th>\n",
       "      <td>2020-04-01</td>\n",
       "      <td>KCOti8vA</td>\n",
       "      <td>KMHcMLl</td>\n",
       "      <td>2019-04-01</td>\n",
       "      <td>2020</td>\n",
       "      <td>2020.00</td>\n",
       "      <td>29.50</td>\n",
       "      <td>11</td>\n",
       "      <td>0.1161</td>\n",
       "      <td>Completed</td>\n",
       "      <td>...</td>\n",
       "      <td>0.0</td>\n",
       "      <td>6</td>\n",
       "      <td>2019-04-01</td>\n",
       "      <td>04</td>\n",
       "      <td>2019</td>\n",
       "      <td>29.50</td>\n",
       "      <td>4.916667</td>\n",
       "      <td>0.002434</td>\n",
       "      <td>0.113666</td>\n",
       "      <td>1.833333</td>\n",
       "    </tr>\n",
       "    <tr>\n",
       "      <th>51852</th>\n",
       "      <td>2020-04-01</td>\n",
       "      <td>KRsK48et</td>\n",
       "      <td>KmJxEY7</td>\n",
       "      <td>2019-04-24</td>\n",
       "      <td>1410</td>\n",
       "      <td>1410.00</td>\n",
       "      <td>78.64</td>\n",
       "      <td>11</td>\n",
       "      <td>0.1161</td>\n",
       "      <td>Completed</td>\n",
       "      <td>...</td>\n",
       "      <td>0.0</td>\n",
       "      <td>6</td>\n",
       "      <td>2019-04-01</td>\n",
       "      <td>04</td>\n",
       "      <td>2019</td>\n",
       "      <td>78.64</td>\n",
       "      <td>13.106667</td>\n",
       "      <td>0.009296</td>\n",
       "      <td>0.106804</td>\n",
       "      <td>1.833333</td>\n",
       "    </tr>\n",
       "    <tr>\n",
       "      <th>51853</th>\n",
       "      <td>2020-04-01</td>\n",
       "      <td>KDUOH8r1</td>\n",
       "      <td>KpIfNkR</td>\n",
       "      <td>2019-03-29</td>\n",
       "      <td>2650</td>\n",
       "      <td>2650.00</td>\n",
       "      <td>149.08</td>\n",
       "      <td>11</td>\n",
       "      <td>0.1161</td>\n",
       "      <td>Completed</td>\n",
       "      <td>...</td>\n",
       "      <td>0.0</td>\n",
       "      <td>6</td>\n",
       "      <td>2019-03-01</td>\n",
       "      <td>03</td>\n",
       "      <td>2019</td>\n",
       "      <td>149.08</td>\n",
       "      <td>24.846667</td>\n",
       "      <td>0.009376</td>\n",
       "      <td>0.106724</td>\n",
       "      <td>1.833333</td>\n",
       "    </tr>\n",
       "    <tr>\n",
       "      <th>...</th>\n",
       "      <td>...</td>\n",
       "      <td>...</td>\n",
       "      <td>...</td>\n",
       "      <td>...</td>\n",
       "      <td>...</td>\n",
       "      <td>...</td>\n",
       "      <td>...</td>\n",
       "      <td>...</td>\n",
       "      <td>...</td>\n",
       "      <td>...</td>\n",
       "      <td>...</td>\n",
       "      <td>...</td>\n",
       "      <td>...</td>\n",
       "      <td>...</td>\n",
       "      <td>...</td>\n",
       "      <td>...</td>\n",
       "      <td>...</td>\n",
       "      <td>...</td>\n",
       "      <td>...</td>\n",
       "      <td>...</td>\n",
       "      <td>...</td>\n",
       "    </tr>\n",
       "    <tr>\n",
       "      <th>244874</th>\n",
       "      <td>2020-04-01</td>\n",
       "      <td>KmwWl862</td>\n",
       "      <td>K8drPEm</td>\n",
       "      <td>2019-08-20</td>\n",
       "      <td>1400</td>\n",
       "      <td>1400.00</td>\n",
       "      <td>54.55</td>\n",
       "      <td>11</td>\n",
       "      <td>0.1161</td>\n",
       "      <td>Completed</td>\n",
       "      <td>...</td>\n",
       "      <td>0.0</td>\n",
       "      <td>6</td>\n",
       "      <td>2019-08-01</td>\n",
       "      <td>08</td>\n",
       "      <td>2019</td>\n",
       "      <td>54.55</td>\n",
       "      <td>9.091667</td>\n",
       "      <td>0.006494</td>\n",
       "      <td>0.109606</td>\n",
       "      <td>1.833333</td>\n",
       "    </tr>\n",
       "    <tr>\n",
       "      <th>244882</th>\n",
       "      <td>2020-04-01</td>\n",
       "      <td>KF5NhMcc</td>\n",
       "      <td>K3sRKSu</td>\n",
       "      <td>2019-08-28</td>\n",
       "      <td>6840</td>\n",
       "      <td>6840.00</td>\n",
       "      <td>184.58</td>\n",
       "      <td>11</td>\n",
       "      <td>0.1161</td>\n",
       "      <td>Completed</td>\n",
       "      <td>...</td>\n",
       "      <td>0.0</td>\n",
       "      <td>6</td>\n",
       "      <td>2019-08-01</td>\n",
       "      <td>08</td>\n",
       "      <td>2019</td>\n",
       "      <td>184.58</td>\n",
       "      <td>30.763333</td>\n",
       "      <td>0.004498</td>\n",
       "      <td>0.111602</td>\n",
       "      <td>1.833333</td>\n",
       "    </tr>\n",
       "    <tr>\n",
       "      <th>244885</th>\n",
       "      <td>2020-04-01</td>\n",
       "      <td>KovbPeNc</td>\n",
       "      <td>KLj8cfb</td>\n",
       "      <td>2019-08-27</td>\n",
       "      <td>2570</td>\n",
       "      <td>2570.00</td>\n",
       "      <td>82.73</td>\n",
       "      <td>11</td>\n",
       "      <td>0.1161</td>\n",
       "      <td>Completed</td>\n",
       "      <td>...</td>\n",
       "      <td>0.0</td>\n",
       "      <td>6</td>\n",
       "      <td>2019-08-01</td>\n",
       "      <td>08</td>\n",
       "      <td>2019</td>\n",
       "      <td>82.73</td>\n",
       "      <td>13.788333</td>\n",
       "      <td>0.005365</td>\n",
       "      <td>0.110735</td>\n",
       "      <td>1.833333</td>\n",
       "    </tr>\n",
       "    <tr>\n",
       "      <th>244890</th>\n",
       "      <td>2020-04-01</td>\n",
       "      <td>KGealMpT</td>\n",
       "      <td>K5/v9Do</td>\n",
       "      <td>2019-09-30</td>\n",
       "      <td>5700</td>\n",
       "      <td>5700.00</td>\n",
       "      <td>76.95</td>\n",
       "      <td>11</td>\n",
       "      <td>0.1161</td>\n",
       "      <td>Completed</td>\n",
       "      <td>...</td>\n",
       "      <td>0.0</td>\n",
       "      <td>6</td>\n",
       "      <td>2019-09-01</td>\n",
       "      <td>09</td>\n",
       "      <td>2019</td>\n",
       "      <td>76.95</td>\n",
       "      <td>12.825000</td>\n",
       "      <td>0.002250</td>\n",
       "      <td>0.113850</td>\n",
       "      <td>1.833333</td>\n",
       "    </tr>\n",
       "    <tr>\n",
       "      <th>432367</th>\n",
       "      <td>2020-04-01</td>\n",
       "      <td>KMnDVtd/</td>\n",
       "      <td>KLjms+P</td>\n",
       "      <td>2019-07-15</td>\n",
       "      <td>8141</td>\n",
       "      <td>8141.96</td>\n",
       "      <td>237.21</td>\n",
       "      <td>43</td>\n",
       "      <td>0.0690</td>\n",
       "      <td>Completed</td>\n",
       "      <td>...</td>\n",
       "      <td>0.0</td>\n",
       "      <td>22</td>\n",
       "      <td>2019-07-01</td>\n",
       "      <td>07</td>\n",
       "      <td>2019</td>\n",
       "      <td>238.17</td>\n",
       "      <td>10.825909</td>\n",
       "      <td>0.001330</td>\n",
       "      <td>0.067670</td>\n",
       "      <td>1.954545</td>\n",
       "    </tr>\n",
       "  </tbody>\n",
       "</table>\n",
       "<p>6358 rows × 21 columns</p>\n",
       "</div>"
      ],
      "text/plain": [
       "       Snapshot Date Borrower ID  Loan ID Disbursal date  \\\n",
       "51849     2020-04-01    KvUUNtgE  KzPdyQU     2019-04-04   \n",
       "51850     2020-04-01    KnqEAiKa  K+jHEEd     2019-04-01   \n",
       "51851     2020-04-01    KCOti8vA  KMHcMLl     2019-04-01   \n",
       "51852     2020-04-01    KRsK48et  KmJxEY7     2019-04-24   \n",
       "51853     2020-04-01    KDUOH8r1  KpIfNkR     2019-03-29   \n",
       "...              ...         ...      ...            ...   \n",
       "244874    2020-04-01    KmwWl862  K8drPEm     2019-08-20   \n",
       "244882    2020-04-01    KF5NhMcc  K3sRKSu     2019-08-28   \n",
       "244885    2020-04-01    KovbPeNc  KLj8cfb     2019-08-27   \n",
       "244890    2020-04-01    KGealMpT  K5/v9Do     2019-09-30   \n",
       "432367    2020-04-01    KMnDVtd/  KLjms+P     2019-07-15   \n",
       "\n",
       "        Original Loan Amount  Principal Collected  Interest Collected  \\\n",
       "51849                   1650              1650.00              100.38   \n",
       "51850                   5360              5360.00              300.01   \n",
       "51851                   2020              2020.00               29.50   \n",
       "51852                   1410              1410.00               78.64   \n",
       "51853                   2650              2650.00              149.08   \n",
       "...                      ...                  ...                 ...   \n",
       "244874                  1400              1400.00               54.55   \n",
       "244882                  6840              6840.00              184.58   \n",
       "244885                  2570              2570.00               82.73   \n",
       "244890                  5700              5700.00               76.95   \n",
       "432367                  8141              8141.96              237.21   \n",
       "\n",
       "        Term in months  Yearly interest rate Latest Status  ... Balance  \\\n",
       "51849               11                0.1161     Completed  ...     0.0   \n",
       "51850               11                0.1161     Completed  ...     0.0   \n",
       "51851               11                0.1161     Completed  ...     0.0   \n",
       "51852               11                0.1161     Completed  ...     0.0   \n",
       "51853               11                0.1161     Completed  ...     0.0   \n",
       "...                ...                   ...           ...  ...     ...   \n",
       "244874              11                0.1161     Completed  ...     0.0   \n",
       "244882              11                0.1161     Completed  ...     0.0   \n",
       "244885              11                0.1161     Completed  ...     0.0   \n",
       "244890              11                0.1161     Completed  ...     0.0   \n",
       "432367              43                0.0690     Completed  ...     0.0   \n",
       "\n",
       "        Months duration  Disbursal Year and Month Month Disbursal Year  \\\n",
       "51849                 6                2019-04-01    04           2019   \n",
       "51850                 6                2019-04-01    04           2019   \n",
       "51851                 6                2019-04-01    04           2019   \n",
       "51852                 6                2019-04-01    04           2019   \n",
       "51853                 6                2019-03-01    03           2019   \n",
       "...                 ...                       ...   ...            ...   \n",
       "244874                6                2019-08-01    08           2019   \n",
       "244882                6                2019-08-01    08           2019   \n",
       "244885                6                2019-08-01    08           2019   \n",
       "244890                6                2019-09-01    09           2019   \n",
       "432367               22                2019-07-01    07           2019   \n",
       "\n",
       "       Loan Revenue  Loan Adjusted Revenue  Loan Yield  Loss Rate     check  \n",
       "51849        100.38              16.730000    0.010139   0.105961  1.833333  \n",
       "51850        300.01              50.001667    0.009329   0.106771  1.833333  \n",
       "51851         29.50               4.916667    0.002434   0.113666  1.833333  \n",
       "51852         78.64              13.106667    0.009296   0.106804  1.833333  \n",
       "51853        149.08              24.846667    0.009376   0.106724  1.833333  \n",
       "...             ...                    ...         ...        ...       ...  \n",
       "244874        54.55               9.091667    0.006494   0.109606  1.833333  \n",
       "244882       184.58              30.763333    0.004498   0.111602  1.833333  \n",
       "244885        82.73              13.788333    0.005365   0.110735  1.833333  \n",
       "244890        76.95              12.825000    0.002250   0.113850  1.833333  \n",
       "432367       238.17              10.825909    0.001330   0.067670  1.954545  \n",
       "\n",
       "[6358 rows x 21 columns]"
      ]
     },
     "execution_count": 259,
     "metadata": {},
     "output_type": "execute_result"
    }
   ],
   "source": [
    "completed_loans[completed_loans['check'] < 2.0]"
   ]
  },
  {
   "cell_type": "code",
   "execution_count": null,
   "metadata": {},
   "outputs": [],
   "source": []
  },
  {
   "cell_type": "code",
   "execution_count": 260,
   "metadata": {},
   "outputs": [
    {
     "data": {
      "image/png": "[encoded data removed]",
      "text/plain": [
       "<Figure size 864x1296 with 5 Axes>"
      ]
     },
     "metadata": {
      "needs_background": "light"
     },
     "output_type": "display_data"
    }
   ],
   "source": [
    "#not for this question\n",
    "count=1\n",
    "data_selected = data[['Latest Status', 'Loan Yield', 'Original Loan Amount','Yearly interest rate', 'Loan Revenue','Loan Adjusted Revenue', 'Loss Rate']]\n",
    "plt.subplots(figsize=(12, 18))\n",
    "for i in data_selected.drop([\"Latest Status\", \"Original Loan Amount\"],axis=1).columns:\n",
    "    if count > 12:\n",
    "        continue\n",
    "    else:\n",
    "        plt.subplot(3,2,count)\n",
    "        sns.histplot(data=data_selected, x=i, hue=\"Latest Status\", kde=True,  palette=\"bright\")\n",
    "        plt.title('Cluster Distribution: {}'.format(str(i)))\n",
    "        count+=1\n",
    "\n",
    "plt.tight_layout()\n",
    "plt.show()"
   ]
  },
  {
   "cell_type": "code",
   "execution_count": 261,
   "metadata": {},
   "outputs": [],
   "source": [
    "# function for plotting the count plot features wrt default ratio\n",
    "def plotUnivariateRatioBar(feature, data=default_loans, figsize=(10,5), rsorted=True):\n",
    "    plt.figure(figsize=figsize)\n",
    "    if rsorted:\n",
    "        feature_dimension = sorted(data[feature].unique())\n",
    "    else:\n",
    "        feature_dimension = data[feature].unique()\n",
    "    feature_values = []\n",
    "    for fd in feature_dimension:\n",
    "        feature_filter = data[data[feature]==fd]\n",
    "        feature_count = len(feature_filter[feature_filter[\"loan_status\"]==1])\n",
    "        feature_values.append(feature_count*100/feature_filter[\"loan_status\"].count())\n",
    "    plt.bar(feature_dimension, feature_values, color='orange', edgecolor='white')\n",
    "    plt.title(\"Loan Defaults wrt \"+str(feature)+\" feature - countplot\")\n",
    "    plt.xlabel(feature, fontsize=16)\n",
    "    plt.ylabel(\"defaulter %\", fontsize=16)\n",
    "    plt.show()\n",
    "# function to plot univariate with default status scale 0 - 1\n",
    "def plotUnivariateBar(x, figsize=(10,5)):\n",
    "    plt.figure(figsize=figsize)\n",
    "    sns.barplot(x=x, y='loan_status', data=loan)\n",
    "    plt.title(\"Loan Defaults wrt \"+str(x)+\" feature - countplot\")\n",
    "    plt.xlabel(x, fontsize=16)\n",
    "    plt.ylabel(\"defaulter ratio\", fontsize=16)\n",
    "    plt.show()"
   ]
  },
  {
   "cell_type": "code",
   "execution_count": 266,
   "metadata": {},
   "outputs": [],
   "source": [
    "#choose data on defaulted, late and completed loans\n",
    "#as we can’t infer any information regarding loan performance from active loans we'll remove records \n",
    "#with loan status as 'Active' and store new dataset into the new data frame\n",
    "data_ = data[data['Latest Status'] != 'Active']\n",
    "\n",
    "#create new column with boolean values for loan status\n",
    "#for completed loan: 1\n",
    "#for default and late loan: 0\n",
    "def status(n):\n",
    "    if n == 'Completed':\n",
    "        return 1\n",
    "    else:\n",
    "        return 0\n",
    "\n",
    "data_['Status'] = data_['Latest Status'].apply(lambda x: status(x))"
   ]
  },
  {
   "cell_type": "code",
   "execution_count": 267,
   "metadata": {},
   "outputs": [],
   "source": [
    "# function to plot boxplot for comparing two features\n",
    "def plotBox(x, y, hue=\"loan_status\"):\n",
    "    plt.figure(figsize=(16,6))\n",
    "    sns.boxplot(x=x, y=y, data=loan, hue=hue, order=sorted(loan[x].unique()))\n",
    "    plt.title(\"Box plot between \"+x+\" and \"+y+\" for each \"+hue)\n",
    "    plt.xlabel(x, fontsize=16)\n",
    "    plt.ylabel(y, fontsize=16)\n",
    "    plt.show()"
   ]
  },
  {
   "cell_type": "code",
   "execution_count": 268,
   "metadata": {},
   "outputs": [
    {
     "ename": "NameError",
     "evalue": "name 'loan' is not defined",
     "output_type": "error",
     "traceback": [
      "\u001b[1;31m---------------------------------------------------------------------------\u001b[0m",
      "\u001b[1;31mNameError\u001b[0m                                 Traceback (most recent call last)",
      "\u001b[1;32m<ipython-input-268-3a7c5399a142>\u001b[0m in \u001b[0;36m<module>\u001b[1;34m\u001b[0m\n\u001b[0;32m      1\u001b[0m \u001b[1;31m# plot box for issue_d vs int_rate for each loan_status\u001b[0m\u001b[1;33m\u001b[0m\u001b[1;33m\u001b[0m\u001b[1;33m\u001b[0m\u001b[0m\n\u001b[1;32m----> 2\u001b[1;33m \u001b[0mplotBox\u001b[0m\u001b[1;33m(\u001b[0m\u001b[1;34m\"Month\"\u001b[0m\u001b[1;33m,\u001b[0m \u001b[1;34m\"Yearly interest rate\"\u001b[0m\u001b[1;33m,\u001b[0m \u001b[1;34m\"Status\"\u001b[0m\u001b[1;33m)\u001b[0m\u001b[1;33m\u001b[0m\u001b[1;33m\u001b[0m\u001b[0m\n\u001b[0m",
      "\u001b[1;32m<ipython-input-267-a9facd4fb19b>\u001b[0m in \u001b[0;36mplotBox\u001b[1;34m(x, y, hue)\u001b[0m\n\u001b[0;32m      2\u001b[0m \u001b[1;32mdef\u001b[0m \u001b[0mplotBox\u001b[0m\u001b[1;33m(\u001b[0m\u001b[0mx\u001b[0m\u001b[1;33m,\u001b[0m \u001b[0my\u001b[0m\u001b[1;33m,\u001b[0m \u001b[0mhue\u001b[0m\u001b[1;33m=\u001b[0m\u001b[1;34m\"loan_status\"\u001b[0m\u001b[1;33m)\u001b[0m\u001b[1;33m:\u001b[0m\u001b[1;33m\u001b[0m\u001b[1;33m\u001b[0m\u001b[0m\n\u001b[0;32m      3\u001b[0m     \u001b[0mplt\u001b[0m\u001b[1;33m.\u001b[0m\u001b[0mfigure\u001b[0m\u001b[1;33m(\u001b[0m\u001b[0mfigsize\u001b[0m\u001b[1;33m=\u001b[0m\u001b[1;33m(\u001b[0m\u001b[1;36m16\u001b[0m\u001b[1;33m,\u001b[0m\u001b[1;36m6\u001b[0m\u001b[1;33m)\u001b[0m\u001b[1;33m)\u001b[0m\u001b[1;33m\u001b[0m\u001b[1;33m\u001b[0m\u001b[0m\n\u001b[1;32m----> 4\u001b[1;33m     \u001b[0msns\u001b[0m\u001b[1;33m.\u001b[0m\u001b[0mboxplot\u001b[0m\u001b[1;33m(\u001b[0m\u001b[0mx\u001b[0m\u001b[1;33m=\u001b[0m\u001b[0mx\u001b[0m\u001b[1;33m,\u001b[0m \u001b[0my\u001b[0m\u001b[1;33m=\u001b[0m\u001b[0my\u001b[0m\u001b[1;33m,\u001b[0m \u001b[0mdata\u001b[0m\u001b[1;33m=\u001b[0m\u001b[0mloan\u001b[0m\u001b[1;33m,\u001b[0m \u001b[0mhue\u001b[0m\u001b[1;33m=\u001b[0m\u001b[0mhue\u001b[0m\u001b[1;33m,\u001b[0m \u001b[0morder\u001b[0m\u001b[1;33m=\u001b[0m\u001b[0msorted\u001b[0m\u001b[1;33m(\u001b[0m\u001b[0mloan\u001b[0m\u001b[1;33m[\u001b[0m\u001b[0mx\u001b[0m\u001b[1;33m]\u001b[0m\u001b[1;33m.\u001b[0m\u001b[0munique\u001b[0m\u001b[1;33m(\u001b[0m\u001b[1;33m)\u001b[0m\u001b[1;33m)\u001b[0m\u001b[1;33m)\u001b[0m\u001b[1;33m\u001b[0m\u001b[1;33m\u001b[0m\u001b[0m\n\u001b[0m\u001b[0;32m      5\u001b[0m     \u001b[0mplt\u001b[0m\u001b[1;33m.\u001b[0m\u001b[0mtitle\u001b[0m\u001b[1;33m(\u001b[0m\u001b[1;34m\"Box plot between \"\u001b[0m\u001b[1;33m+\u001b[0m\u001b[0mx\u001b[0m\u001b[1;33m+\u001b[0m\u001b[1;34m\" and \"\u001b[0m\u001b[1;33m+\u001b[0m\u001b[0my\u001b[0m\u001b[1;33m+\u001b[0m\u001b[1;34m\" for each \"\u001b[0m\u001b[1;33m+\u001b[0m\u001b[0mhue\u001b[0m\u001b[1;33m)\u001b[0m\u001b[1;33m\u001b[0m\u001b[1;33m\u001b[0m\u001b[0m\n\u001b[0;32m      6\u001b[0m     \u001b[0mplt\u001b[0m\u001b[1;33m.\u001b[0m\u001b[0mxlabel\u001b[0m\u001b[1;33m(\u001b[0m\u001b[0mx\u001b[0m\u001b[1;33m,\u001b[0m \u001b[0mfontsize\u001b[0m\u001b[1;33m=\u001b[0m\u001b[1;36m16\u001b[0m\u001b[1;33m)\u001b[0m\u001b[1;33m\u001b[0m\u001b[1;33m\u001b[0m\u001b[0m\n",
      "\u001b[1;31mNameError\u001b[0m: name 'loan' is not defined"
     ]
    },
    {
     "data": {
      "text/plain": [
       "<Figure size 1152x432 with 0 Axes>"
      ]
     },
     "metadata": {},
     "output_type": "display_data"
    }
   ],
   "source": [
    "# plot box for issue_d vs int_rate for each loan_status\n",
    "plotBox(\"Month\", \"Yearly interest rate\", \"Status\")"
   ]
  },
  {
   "cell_type": "code",
   "execution_count": null,
   "metadata": {},
   "outputs": [],
   "source": []
  }
 ],
 "metadata": {
  "kernelspec": {
   "display_name": "Python 3",
   "language": "python",
   "name": "python3"
  },
  "language_info": {
   "codemirror_mode": {
    "name": "ipython",
    "version": 3
   },
   "file_extension": ".py",
   "mimetype": "text/x-python",
   "name": "python",
   "nbconvert_exporter": "python",
   "pygments_lexer": "ipython3",
   "version": "3.8.5"
  }
 },
 "nbformat": 4,
 "nbformat_minor": 4
}
