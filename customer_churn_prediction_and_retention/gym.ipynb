{
 "cells": [
  {
   "cell_type": "markdown",
   "metadata": {},
   "source": [
    "# The goal of the project\n",
    "### Based on analytic data on customers profiles and interactions collected by the gym chain Model Fitness, to analyze customer profiles and, on their basis, think over a customer retention strategy. Additional tasks of this project are drawing up a typical user profile, analyzing the factors affecting churn, and making recommendations for customer service."
   ]
  },
  {
   "cell_type": "code",
   "execution_count": 1,
   "metadata": {},
   "outputs": [
    {
     "name": "stdout",
     "output_type": "stream",
     "text": [
      "Requirement already satisfied: scikit-plot in c:\\programdata\\anaconda3\\lib\\site-packages (0.3.7)\n",
      "Requirement already satisfied: scipy>=0.9 in c:\\programdata\\anaconda3\\lib\\site-packages (from scikit-plot) (1.5.2)\n",
      "Requirement already satisfied: joblib>=0.10 in c:\\programdata\\anaconda3\\lib\\site-packages (from scikit-plot) (0.17.0)\n",
      "Requirement already satisfied: scikit-learn>=0.18 in c:\\programdata\\anaconda3\\lib\\site-packages (from scikit-plot) (0.23.2)\n",
      "Requirement already satisfied: matplotlib>=1.4.0 in c:\\programdata\\anaconda3\\lib\\site-packages (from scikit-plot) (3.3.2)\n",
      "Requirement already satisfied: numpy>=1.14.5 in c:\\programdata\\anaconda3\\lib\\site-packages (from scipy>=0.9->scikit-plot) (1.19.2)\n",
      "Requirement already satisfied: threadpoolctl>=2.0.0 in c:\\programdata\\anaconda3\\lib\\site-packages (from scikit-learn>=0.18->scikit-plot) (2.1.0)\n",
      "Requirement already satisfied: certifi>=2020.06.20 in c:\\programdata\\anaconda3\\lib\\site-packages (from matplotlib>=1.4.0->scikit-plot) (2020.6.20)\n",
      "Requirement already satisfied: cycler>=0.10 in c:\\programdata\\anaconda3\\lib\\site-packages (from matplotlib>=1.4.0->scikit-plot) (0.10.0)\n",
      "Requirement already satisfied: kiwisolver>=1.0.1 in c:\\programdata\\anaconda3\\lib\\site-packages (from matplotlib>=1.4.0->scikit-plot) (1.3.0)\n",
      "Requirement already satisfied: pyparsing!=2.0.4,!=2.1.2,!=2.1.6,>=2.0.3 in c:\\programdata\\anaconda3\\lib\\site-packages (from matplotlib>=1.4.0->scikit-plot) (2.4.7)\n",
      "Requirement already satisfied: pillow>=6.2.0 in c:\\programdata\\anaconda3\\lib\\site-packages (from matplotlib>=1.4.0->scikit-plot) (8.0.1)\n",
      "Requirement already satisfied: python-dateutil>=2.1 in c:\\programdata\\anaconda3\\lib\\site-packages (from matplotlib>=1.4.0->scikit-plot) (2.8.1)\n",
      "Requirement already satisfied: six in c:\\programdata\\anaconda3\\lib\\site-packages (from cycler>=0.10->matplotlib>=1.4.0->scikit-plot) (1.15.0)\n"
     ]
    }
   ],
   "source": [
    "!pip install scikit-plot"
   ]
  },
  {
   "cell_type": "code",
   "execution_count": 2,
   "metadata": {},
   "outputs": [],
   "source": [
    "import pandas as pd\n",
    "\n",
    "from scipy import stats\n",
    "import numpy as np\n",
    "from numpy import unique\n",
    "from numpy import where\n",
    "import math\n",
    "\n",
    "from io import BytesIO\n",
    "import requests\n",
    "\n",
    "import datetime\n",
    "from datetime import datetime\n",
    "\n",
    "from plotly import express as px\n",
    "import plotly.graph_objects as go\n",
    "import matplotlib.pyplot as plt\n",
    "import plotly.offline as pyoff\n",
    "import plotly as py\n",
    "import seaborn as sns\n",
    "\n",
    "from sklearn.model_selection import train_test_split\n",
    "from sklearn.ensemble import RandomForestClassifier\n",
    "from sklearn.linear_model import LogisticRegression\n",
    "from sklearn.metrics import accuracy_score, precision_score, recall_score, f1_score, roc_auc_score\n",
    "import scikitplot as skplt\n",
    "\n",
    "from sklearn.preprocessing import StandardScaler\n",
    "from sklearn.cluster import KMeans\n",
    "from sklearn.metrics import silhouette_score\n",
    "from scipy.cluster.hierarchy import dendrogram, linkage"
   ]
  },
  {
   "cell_type": "markdown",
   "metadata": {},
   "source": [
    "## Step 1. Open the data file and study general information"
   ]
  },
  {
   "cell_type": "code",
   "execution_count": 3,
   "metadata": {},
   "outputs": [],
   "source": [
    "spreadsheet_id = '1Qjn9omuF1D6NmVtjMPv_eMg9Y5qnSwvsN4RCozyMMlY'\n",
    "file_name = 'https://docs.google.com/spreadsheets/d/{}/export?format=csv'.format(spreadsheet_id)\n",
    "r = requests.get(file_name)\n",
    "mf = pd.read_csv(BytesIO(r.content))"
   ]
  },
  {
   "cell_type": "code",
   "execution_count": 4,
   "metadata": {},
   "outputs": [
    {
     "name": "stdout",
     "output_type": "stream",
     "text": [
      "(4000, 14)\n",
      "<class 'pandas.core.frame.DataFrame'>\n",
      "RangeIndex: 4000 entries, 0 to 3999\n",
      "Data columns (total 14 columns):\n",
      " #   Column                             Non-Null Count  Dtype  \n",
      "---  ------                             --------------  -----  \n",
      " 0   gender                             4000 non-null   int64  \n",
      " 1   Near_Location                      4000 non-null   int64  \n",
      " 2   Partner                            4000 non-null   int64  \n",
      " 3   Promo_friends                      4000 non-null   int64  \n",
      " 4   Phone                              4000 non-null   int64  \n",
      " 5   Contract_period                    4000 non-null   int64  \n",
      " 6   Group_visits                       4000 non-null   int64  \n",
      " 7   Age                                4000 non-null   int64  \n",
      " 8   Avg_additional_charges_total       4000 non-null   float64\n",
      " 9   Month_to_end_contract              4000 non-null   float64\n",
      " 10  Lifetime                           4000 non-null   int64  \n",
      " 11  Avg_class_frequency_total          4000 non-null   float64\n",
      " 12  Avg_class_frequency_current_month  4000 non-null   float64\n",
      " 13  Churn                              4000 non-null   int64  \n",
      "dtypes: float64(4), int64(10)\n",
      "memory usage: 437.6 KB\n"
     ]
    }
   ],
   "source": [
    "#mf = pd.read_csv('/datasets/gym_churn_us.csv')\n",
    "\n",
    "print(mf.shape)\n",
    "mf.info()"
   ]
  },
  {
   "cell_type": "code",
   "execution_count": 5,
   "metadata": {},
   "outputs": [
    {
     "data": {
      "text/html": [
       "<div>\n",
       "<style scoped>\n",
       "    .dataframe tbody tr th:only-of-type {\n",
       "        vertical-align: middle;\n",
       "    }\n",
       "\n",
       "    .dataframe tbody tr th {\n",
       "        vertical-align: top;\n",
       "    }\n",
       "\n",
       "    .dataframe thead th {\n",
       "        text-align: right;\n",
       "    }\n",
       "</style>\n",
       "<table border=\"1\" class=\"dataframe\">\n",
       "  <thead>\n",
       "    <tr style=\"text-align: right;\">\n",
       "      <th></th>\n",
       "      <th>gender</th>\n",
       "      <th>near_location</th>\n",
       "      <th>partner</th>\n",
       "      <th>promo_friends</th>\n",
       "      <th>phone</th>\n",
       "      <th>contract_period</th>\n",
       "      <th>group_visits</th>\n",
       "      <th>age</th>\n",
       "      <th>avg_additional_charges_total</th>\n",
       "      <th>month_to_end_contract</th>\n",
       "      <th>lifetime</th>\n",
       "      <th>avg_class_frequency_total</th>\n",
       "      <th>avg_class_frequency_current_month</th>\n",
       "      <th>churn</th>\n",
       "    </tr>\n",
       "  </thead>\n",
       "  <tbody>\n",
       "    <tr>\n",
       "      <th>0</th>\n",
       "      <td>1</td>\n",
       "      <td>1</td>\n",
       "      <td>1</td>\n",
       "      <td>1</td>\n",
       "      <td>0</td>\n",
       "      <td>6</td>\n",
       "      <td>1</td>\n",
       "      <td>29</td>\n",
       "      <td>14.227470</td>\n",
       "      <td>5</td>\n",
       "      <td>3</td>\n",
       "      <td>0.020398</td>\n",
       "      <td>0.000000</td>\n",
       "      <td>0</td>\n",
       "    </tr>\n",
       "    <tr>\n",
       "      <th>1</th>\n",
       "      <td>0</td>\n",
       "      <td>1</td>\n",
       "      <td>0</td>\n",
       "      <td>0</td>\n",
       "      <td>1</td>\n",
       "      <td>12</td>\n",
       "      <td>1</td>\n",
       "      <td>31</td>\n",
       "      <td>113.202938</td>\n",
       "      <td>12</td>\n",
       "      <td>7</td>\n",
       "      <td>1.922936</td>\n",
       "      <td>1.910244</td>\n",
       "      <td>0</td>\n",
       "    </tr>\n",
       "    <tr>\n",
       "      <th>2</th>\n",
       "      <td>0</td>\n",
       "      <td>1</td>\n",
       "      <td>1</td>\n",
       "      <td>0</td>\n",
       "      <td>1</td>\n",
       "      <td>1</td>\n",
       "      <td>0</td>\n",
       "      <td>28</td>\n",
       "      <td>129.448479</td>\n",
       "      <td>1</td>\n",
       "      <td>2</td>\n",
       "      <td>1.859098</td>\n",
       "      <td>1.736502</td>\n",
       "      <td>0</td>\n",
       "    </tr>\n",
       "    <tr>\n",
       "      <th>3</th>\n",
       "      <td>0</td>\n",
       "      <td>1</td>\n",
       "      <td>1</td>\n",
       "      <td>1</td>\n",
       "      <td>1</td>\n",
       "      <td>12</td>\n",
       "      <td>1</td>\n",
       "      <td>33</td>\n",
       "      <td>62.669863</td>\n",
       "      <td>12</td>\n",
       "      <td>2</td>\n",
       "      <td>3.205633</td>\n",
       "      <td>3.357215</td>\n",
       "      <td>0</td>\n",
       "    </tr>\n",
       "    <tr>\n",
       "      <th>4</th>\n",
       "      <td>1</td>\n",
       "      <td>1</td>\n",
       "      <td>1</td>\n",
       "      <td>1</td>\n",
       "      <td>1</td>\n",
       "      <td>1</td>\n",
       "      <td>0</td>\n",
       "      <td>26</td>\n",
       "      <td>198.362265</td>\n",
       "      <td>1</td>\n",
       "      <td>3</td>\n",
       "      <td>1.113884</td>\n",
       "      <td>1.120078</td>\n",
       "      <td>0</td>\n",
       "    </tr>\n",
       "  </tbody>\n",
       "</table>\n",
       "</div>"
      ],
      "text/plain": [
       "   gender  near_location  partner  promo_friends  phone  contract_period  \\\n",
       "0       1              1        1              1      0                6   \n",
       "1       0              1        0              0      1               12   \n",
       "2       0              1        1              0      1                1   \n",
       "3       0              1        1              1      1               12   \n",
       "4       1              1        1              1      1                1   \n",
       "\n",
       "   group_visits  age  avg_additional_charges_total  month_to_end_contract  \\\n",
       "0             1   29                     14.227470                      5   \n",
       "1             1   31                    113.202938                     12   \n",
       "2             0   28                    129.448479                      1   \n",
       "3             1   33                     62.669863                     12   \n",
       "4             0   26                    198.362265                      1   \n",
       "\n",
       "   lifetime  avg_class_frequency_total  avg_class_frequency_current_month  \\\n",
       "0         3                   0.020398                           0.000000   \n",
       "1         7                   1.922936                           1.910244   \n",
       "2         2                   1.859098                           1.736502   \n",
       "3         2                   3.205633                           3.357215   \n",
       "4         3                   1.113884                           1.120078   \n",
       "\n",
       "   churn  \n",
       "0      0  \n",
       "1      0  \n",
       "2      0  \n",
       "3      0  \n",
       "4      0  "
      ]
     },
     "execution_count": 5,
     "metadata": {},
     "output_type": "execute_result"
    }
   ],
   "source": [
    "mf.columns= mf.columns.str.lower()\n",
    "mf.month_to_end_contract = mf.month_to_end_contract.astype('int')\n",
    "mf.head()"
   ]
  },
  {
   "cell_type": "code",
   "execution_count": 6,
   "metadata": {},
   "outputs": [
    {
     "data": {
      "text/plain": [
       "0"
      ]
     },
     "execution_count": 6,
     "metadata": {},
     "output_type": "execute_result"
    }
   ],
   "source": [
    "mf.duplicated().sum()"
   ]
  },
  {
   "cell_type": "markdown",
   "metadata": {},
   "source": [
    "### Conclusion"
   ]
  },
  {
   "cell_type": "markdown",
   "metadata": {},
   "source": [
    "On this step of the project we have opened and studied the data on customers by the gym chain Model Fitness. The data looks good, there are no missing values, we only changed the data type of the column 'month_to_end_contract' to integer and changed the names of all columns to lowercase for more convenient work with the data.  \n",
    "Checking the data for duplicates did not reveal duplicate values."
   ]
  },
  {
   "cell_type": "markdown",
   "metadata": {},
   "source": [
    "## Step 2. Carry out exploratory data analysis (EDA)"
   ]
  },
  {
   "cell_type": "markdown",
   "metadata": {},
   "source": [
    "### Descriptive analytics"
   ]
  },
  {
   "cell_type": "code",
   "execution_count": 7,
   "metadata": {},
   "outputs": [],
   "source": [
    "#splitting the columns into Categorical and Numerical columns\n",
    "\n",
    "target_col = 'churn'\n",
    "num_cols = ['age', 'avg_additional_charges_total', 'month_to_end_contract', 'lifetime', 'avg_class_frequency_total', 'avg_class_frequency_current_month']\n",
    "cat_cols = ['gender', 'near_location', 'partner', 'promo_friends', 'phone', 'group_visits', 'contract_period']\n",
    "mf_num = mf[num_cols]\n",
    "# spliting categorical columns into Nominal and Binary columns\n",
    "nominal_cols = ['contract_period']\n",
    "binary_cols = ['gender', 'near_location', 'partner', 'promo_friends', 'phone', 'group_visits']"
   ]
  },
  {
   "cell_type": "code",
   "execution_count": 8,
   "metadata": {},
   "outputs": [
    {
     "data": {
      "text/html": [
       "<div>\n",
       "<style scoped>\n",
       "    .dataframe tbody tr th:only-of-type {\n",
       "        vertical-align: middle;\n",
       "    }\n",
       "\n",
       "    .dataframe tbody tr th {\n",
       "        vertical-align: top;\n",
       "    }\n",
       "\n",
       "    .dataframe thead th {\n",
       "        text-align: right;\n",
       "    }\n",
       "</style>\n",
       "<table border=\"1\" class=\"dataframe\">\n",
       "  <thead>\n",
       "    <tr style=\"text-align: right;\">\n",
       "      <th></th>\n",
       "      <th>gender</th>\n",
       "      <th>near_location</th>\n",
       "      <th>partner</th>\n",
       "      <th>promo_friends</th>\n",
       "      <th>phone</th>\n",
       "      <th>group_visits</th>\n",
       "      <th>contract_period</th>\n",
       "    </tr>\n",
       "  </thead>\n",
       "  <tbody>\n",
       "    <tr>\n",
       "      <th>count</th>\n",
       "      <td>4000.000000</td>\n",
       "      <td>4000.000000</td>\n",
       "      <td>4000.000000</td>\n",
       "      <td>4000.000000</td>\n",
       "      <td>4000.000000</td>\n",
       "      <td>4000.000000</td>\n",
       "      <td>4000.000000</td>\n",
       "    </tr>\n",
       "    <tr>\n",
       "      <th>mean</th>\n",
       "      <td>0.510250</td>\n",
       "      <td>0.845250</td>\n",
       "      <td>0.486750</td>\n",
       "      <td>0.308500</td>\n",
       "      <td>0.903500</td>\n",
       "      <td>0.412250</td>\n",
       "      <td>4.681250</td>\n",
       "    </tr>\n",
       "    <tr>\n",
       "      <th>std</th>\n",
       "      <td>0.499957</td>\n",
       "      <td>0.361711</td>\n",
       "      <td>0.499887</td>\n",
       "      <td>0.461932</td>\n",
       "      <td>0.295313</td>\n",
       "      <td>0.492301</td>\n",
       "      <td>4.549706</td>\n",
       "    </tr>\n",
       "    <tr>\n",
       "      <th>min</th>\n",
       "      <td>0.000000</td>\n",
       "      <td>0.000000</td>\n",
       "      <td>0.000000</td>\n",
       "      <td>0.000000</td>\n",
       "      <td>0.000000</td>\n",
       "      <td>0.000000</td>\n",
       "      <td>1.000000</td>\n",
       "    </tr>\n",
       "    <tr>\n",
       "      <th>25%</th>\n",
       "      <td>0.000000</td>\n",
       "      <td>1.000000</td>\n",
       "      <td>0.000000</td>\n",
       "      <td>0.000000</td>\n",
       "      <td>1.000000</td>\n",
       "      <td>0.000000</td>\n",
       "      <td>1.000000</td>\n",
       "    </tr>\n",
       "    <tr>\n",
       "      <th>50%</th>\n",
       "      <td>1.000000</td>\n",
       "      <td>1.000000</td>\n",
       "      <td>0.000000</td>\n",
       "      <td>0.000000</td>\n",
       "      <td>1.000000</td>\n",
       "      <td>0.000000</td>\n",
       "      <td>1.000000</td>\n",
       "    </tr>\n",
       "    <tr>\n",
       "      <th>75%</th>\n",
       "      <td>1.000000</td>\n",
       "      <td>1.000000</td>\n",
       "      <td>1.000000</td>\n",
       "      <td>1.000000</td>\n",
       "      <td>1.000000</td>\n",
       "      <td>1.000000</td>\n",
       "      <td>6.000000</td>\n",
       "    </tr>\n",
       "    <tr>\n",
       "      <th>max</th>\n",
       "      <td>1.000000</td>\n",
       "      <td>1.000000</td>\n",
       "      <td>1.000000</td>\n",
       "      <td>1.000000</td>\n",
       "      <td>1.000000</td>\n",
       "      <td>1.000000</td>\n",
       "      <td>12.000000</td>\n",
       "    </tr>\n",
       "  </tbody>\n",
       "</table>\n",
       "</div>"
      ],
      "text/plain": [
       "            gender  near_location      partner  promo_friends        phone  \\\n",
       "count  4000.000000    4000.000000  4000.000000    4000.000000  4000.000000   \n",
       "mean      0.510250       0.845250     0.486750       0.308500     0.903500   \n",
       "std       0.499957       0.361711     0.499887       0.461932     0.295313   \n",
       "min       0.000000       0.000000     0.000000       0.000000     0.000000   \n",
       "25%       0.000000       1.000000     0.000000       0.000000     1.000000   \n",
       "50%       1.000000       1.000000     0.000000       0.000000     1.000000   \n",
       "75%       1.000000       1.000000     1.000000       1.000000     1.000000   \n",
       "max       1.000000       1.000000     1.000000       1.000000     1.000000   \n",
       "\n",
       "       group_visits  contract_period  \n",
       "count   4000.000000      4000.000000  \n",
       "mean       0.412250         4.681250  \n",
       "std        0.492301         4.549706  \n",
       "min        0.000000         1.000000  \n",
       "25%        0.000000         1.000000  \n",
       "50%        0.000000         1.000000  \n",
       "75%        1.000000         6.000000  \n",
       "max        1.000000        12.000000  "
      ]
     },
     "execution_count": 8,
     "metadata": {},
     "output_type": "execute_result"
    }
   ],
   "source": [
    "mf[cat_cols].describe(include='all')"
   ]
  },
  {
   "cell_type": "code",
   "execution_count": 9,
   "metadata": {},
   "outputs": [
    {
     "data": {
      "text/html": [
       "<div>\n",
       "<style scoped>\n",
       "    .dataframe tbody tr th:only-of-type {\n",
       "        vertical-align: middle;\n",
       "    }\n",
       "\n",
       "    .dataframe tbody tr th {\n",
       "        vertical-align: top;\n",
       "    }\n",
       "\n",
       "    .dataframe thead th {\n",
       "        text-align: right;\n",
       "    }\n",
       "</style>\n",
       "<table border=\"1\" class=\"dataframe\">\n",
       "  <thead>\n",
       "    <tr style=\"text-align: right;\">\n",
       "      <th></th>\n",
       "      <th>age</th>\n",
       "      <th>avg_additional_charges_total</th>\n",
       "      <th>month_to_end_contract</th>\n",
       "      <th>lifetime</th>\n",
       "      <th>avg_class_frequency_total</th>\n",
       "      <th>avg_class_frequency_current_month</th>\n",
       "    </tr>\n",
       "  </thead>\n",
       "  <tbody>\n",
       "    <tr>\n",
       "      <th>count</th>\n",
       "      <td>4000.000000</td>\n",
       "      <td>4000.000000</td>\n",
       "      <td>4000.000000</td>\n",
       "      <td>4000.000000</td>\n",
       "      <td>4000.000000</td>\n",
       "      <td>4000.000000</td>\n",
       "    </tr>\n",
       "    <tr>\n",
       "      <th>mean</th>\n",
       "      <td>29.184250</td>\n",
       "      <td>146.943728</td>\n",
       "      <td>4.322750</td>\n",
       "      <td>3.724750</td>\n",
       "      <td>1.879020</td>\n",
       "      <td>1.767052</td>\n",
       "    </tr>\n",
       "    <tr>\n",
       "      <th>std</th>\n",
       "      <td>3.258367</td>\n",
       "      <td>96.355602</td>\n",
       "      <td>4.191297</td>\n",
       "      <td>3.749267</td>\n",
       "      <td>0.972245</td>\n",
       "      <td>1.052906</td>\n",
       "    </tr>\n",
       "    <tr>\n",
       "      <th>min</th>\n",
       "      <td>18.000000</td>\n",
       "      <td>0.148205</td>\n",
       "      <td>1.000000</td>\n",
       "      <td>0.000000</td>\n",
       "      <td>0.000000</td>\n",
       "      <td>0.000000</td>\n",
       "    </tr>\n",
       "    <tr>\n",
       "      <th>25%</th>\n",
       "      <td>27.000000</td>\n",
       "      <td>68.868830</td>\n",
       "      <td>1.000000</td>\n",
       "      <td>1.000000</td>\n",
       "      <td>1.180875</td>\n",
       "      <td>0.963003</td>\n",
       "    </tr>\n",
       "    <tr>\n",
       "      <th>50%</th>\n",
       "      <td>29.000000</td>\n",
       "      <td>136.220159</td>\n",
       "      <td>1.000000</td>\n",
       "      <td>3.000000</td>\n",
       "      <td>1.832768</td>\n",
       "      <td>1.719574</td>\n",
       "    </tr>\n",
       "    <tr>\n",
       "      <th>75%</th>\n",
       "      <td>31.000000</td>\n",
       "      <td>210.949625</td>\n",
       "      <td>6.000000</td>\n",
       "      <td>5.000000</td>\n",
       "      <td>2.536078</td>\n",
       "      <td>2.510336</td>\n",
       "    </tr>\n",
       "    <tr>\n",
       "      <th>max</th>\n",
       "      <td>41.000000</td>\n",
       "      <td>552.590740</td>\n",
       "      <td>12.000000</td>\n",
       "      <td>31.000000</td>\n",
       "      <td>6.023668</td>\n",
       "      <td>6.146783</td>\n",
       "    </tr>\n",
       "  </tbody>\n",
       "</table>\n",
       "</div>"
      ],
      "text/plain": [
       "               age  avg_additional_charges_total  month_to_end_contract  \\\n",
       "count  4000.000000                   4000.000000            4000.000000   \n",
       "mean     29.184250                    146.943728               4.322750   \n",
       "std       3.258367                     96.355602               4.191297   \n",
       "min      18.000000                      0.148205               1.000000   \n",
       "25%      27.000000                     68.868830               1.000000   \n",
       "50%      29.000000                    136.220159               1.000000   \n",
       "75%      31.000000                    210.949625               6.000000   \n",
       "max      41.000000                    552.590740              12.000000   \n",
       "\n",
       "          lifetime  avg_class_frequency_total  \\\n",
       "count  4000.000000                4000.000000   \n",
       "mean      3.724750                   1.879020   \n",
       "std       3.749267                   0.972245   \n",
       "min       0.000000                   0.000000   \n",
       "25%       1.000000                   1.180875   \n",
       "50%       3.000000                   1.832768   \n",
       "75%       5.000000                   2.536078   \n",
       "max      31.000000                   6.023668   \n",
       "\n",
       "       avg_class_frequency_current_month  \n",
       "count                        4000.000000  \n",
       "mean                            1.767052  \n",
       "std                             1.052906  \n",
       "min                             0.000000  \n",
       "25%                             0.963003  \n",
       "50%                             1.719574  \n",
       "75%                             2.510336  \n",
       "max                             6.146783  "
      ]
     },
     "execution_count": 9,
     "metadata": {},
     "output_type": "execute_result"
    }
   ],
   "source": [
    "mf[num_cols].describe()"
   ]
  },
  {
   "cell_type": "markdown",
   "metadata": {},
   "source": [
    "According to the results above I can draw some conclusions. First of all, we need to check numerical columns with outliers. Also I want to note the average of the column 'near location' is quite high (0.84).  \n",
    "On this step we can describe the typical client of the gym chain Model Fitness. The main indicator is the near location of the gym to the place of residence, study or work. The clients are in equal proportions both men and women, almost half of the members are employees of the partners companies of the gym. An average contract period is 4.7 months indicates that visitors are more likely to the 1-month contract (available contracts are 1, 6 or 12 months). The average age of the typical client is 29, the average frequency of visits about 2 times per week. The mean amount of money spent on other gym services (cafe, cosmetics, massages, etc) is 147$ per month."
   ]
  },
  {
   "cell_type": "markdown",
   "metadata": {},
   "source": [
    "### Mean feature values split into two groups (churn and stay)"
   ]
  },
  {
   "cell_type": "code",
   "execution_count": 10,
   "metadata": {},
   "outputs": [
    {
     "data": {
      "text/html": [
       "<div>\n",
       "<style scoped>\n",
       "    .dataframe tbody tr th:only-of-type {\n",
       "        vertical-align: middle;\n",
       "    }\n",
       "\n",
       "    .dataframe tbody tr th {\n",
       "        vertical-align: top;\n",
       "    }\n",
       "\n",
       "    .dataframe thead th {\n",
       "        text-align: right;\n",
       "    }\n",
       "</style>\n",
       "<table border=\"1\" class=\"dataframe\">\n",
       "  <thead>\n",
       "    <tr style=\"text-align: right;\">\n",
       "      <th></th>\n",
       "      <th>churn</th>\n",
       "      <th>gender</th>\n",
       "      <th>near_location</th>\n",
       "      <th>partner</th>\n",
       "      <th>promo_friends</th>\n",
       "      <th>phone</th>\n",
       "      <th>contract_period</th>\n",
       "      <th>group_visits</th>\n",
       "      <th>age</th>\n",
       "      <th>avg_additional_charges_total</th>\n",
       "      <th>month_to_end_contract</th>\n",
       "      <th>lifetime</th>\n",
       "      <th>avg_class_frequency_total</th>\n",
       "      <th>avg_class_frequency_current_month</th>\n",
       "    </tr>\n",
       "  </thead>\n",
       "  <tbody>\n",
       "    <tr>\n",
       "      <th>0</th>\n",
       "      <td>0</td>\n",
       "      <td>0.510037</td>\n",
       "      <td>0.873086</td>\n",
       "      <td>0.534195</td>\n",
       "      <td>0.353522</td>\n",
       "      <td>0.903709</td>\n",
       "      <td>5.747193</td>\n",
       "      <td>0.464103</td>\n",
       "      <td>29.976523</td>\n",
       "      <td>158.445715</td>\n",
       "      <td>5.283089</td>\n",
       "      <td>4.711807</td>\n",
       "      <td>2.024876</td>\n",
       "      <td>2.027882</td>\n",
       "    </tr>\n",
       "    <tr>\n",
       "      <th>1</th>\n",
       "      <td>1</td>\n",
       "      <td>0.510839</td>\n",
       "      <td>0.768143</td>\n",
       "      <td>0.355325</td>\n",
       "      <td>0.183789</td>\n",
       "      <td>0.902922</td>\n",
       "      <td>1.728558</td>\n",
       "      <td>0.268615</td>\n",
       "      <td>26.989632</td>\n",
       "      <td>115.082899</td>\n",
       "      <td>1.662582</td>\n",
       "      <td>0.990575</td>\n",
       "      <td>1.474995</td>\n",
       "      <td>1.044546</td>\n",
       "    </tr>\n",
       "  </tbody>\n",
       "</table>\n",
       "</div>"
      ],
      "text/plain": [
       "   churn    gender  near_location   partner  promo_friends     phone  \\\n",
       "0      0  0.510037       0.873086  0.534195       0.353522  0.903709   \n",
       "1      1  0.510839       0.768143  0.355325       0.183789  0.902922   \n",
       "\n",
       "   contract_period  group_visits        age  avg_additional_charges_total  \\\n",
       "0         5.747193      0.464103  29.976523                    158.445715   \n",
       "1         1.728558      0.268615  26.989632                    115.082899   \n",
       "\n",
       "   month_to_end_contract  lifetime  avg_class_frequency_total  \\\n",
       "0               5.283089  4.711807                   2.024876   \n",
       "1               1.662582  0.990575                   1.474995   \n",
       "\n",
       "   avg_class_frequency_current_month  \n",
       "0                           2.027882  \n",
       "1                           1.044546  "
      ]
     },
     "execution_count": 10,
     "metadata": {},
     "output_type": "execute_result"
    }
   ],
   "source": [
    "mean_mf_churn = mf.groupby('churn').mean().reset_index()\n",
    "mean_mf_churn"
   ]
  },
  {
   "cell_type": "markdown",
   "metadata": {},
   "source": [
    "The features I want to mark:\n",
    "<ul>\n",
    "    <li> promo_friends (the presence of a fiend disposes to continue and use the services of the gym);</li>\n",
    "    <li>contract period (the longer the contract the higher the likelihood that the customer stay);</li>\n",
    "    <li> month_to_end_contract (consequently, the customers usually stop using the gym when their contracts comes to an end);</li>\n",
    "    <li> lifetime (the presence of a large churn in the first lifetime);</li>\n",
    "    <li> avg_class_frequency_current_month (logical completion, when the user uses the service less and less often, in the end he end the cooperation).</li>\n",
    "</ul>"
   ]
  },
  {
   "cell_type": "markdown",
   "metadata": {},
   "source": [
    "### Bar histograms and feature distributions of features splitted by groups (churn vs stay)"
   ]
  },
  {
   "cell_type": "code",
   "execution_count": 12,
   "metadata": {},
   "outputs": [
    {
     "data": {
      "image/png": "[encoded data removed]",
      "text/plain": [
       "<Figure size 1152x1152 with 12 Axes>"
      ]
     },
     "metadata": {
      "needs_background": "light"
     },
     "output_type": "display_data"
    }
   ],
   "source": [
    "count=1\n",
    "plt.subplots(figsize=(16, 16))\n",
    "sns.color_palette(\"mako\", as_cmap=True)\n",
    "for i in mf.drop(\"churn\",axis=1).columns:\n",
    "    if count > 12:\n",
    "        continue\n",
    "    else:\n",
    "        plt.subplot(4,3,count)\n",
    "        plt.title('Churn Distribution: {}'.format(str(i)))\n",
    "        sns.histplot(data=mf, x= i, hue=\"churn\")\n",
    "        count+=1\n",
    "plt.tight_layout()\n",
    "plt.show()"
   ]
  },
  {
   "cell_type": "markdown",
   "metadata": {},
   "source": [
    "According to the graphs above we can draw some interesting conclusions:\n",
    "<ul>\n",
    "    <li>Age distribution: the peak of churn customers 25-27 years, the peak of staying customers 30-32 years.</li>\n",
    "    <li>Month to end contract distribution: peak of churn 6 months, the peak of stay customers 1-2 months.</li>\n",
    "    <li>Lifetime distribution: we can see a significant peak in the churn of visitors at 0 and 1 lifetime.</li>\n",
    "    <li>Average frequency total distribution: there is no pronounced peak in the number of remaining users, the indicator varies frm 1 to 3 visits per week, there is also a large number of users visiting th gym 4 times a week, while the churn peak occurs at 1 to 2 visits per week.\n",
    "    <li>More people who did not have partners churned over people with partners. Same for people with group visits</li>\n",
    "    <li>The highest churn by internet service is accounted for users with contract period of one month and very low churn rate for users with contract of 12 months.</li>\n",
    "</ul>"
   ]
  },
  {
   "cell_type": "markdown",
   "metadata": {},
   "source": [
    "### Correlation matrix"
   ]
  },
  {
   "cell_type": "code",
   "execution_count": 13,
   "metadata": {},
   "outputs": [
    {
     "data": {
      "image/png": "[encoded data removed]",
      "text/plain": [
       "<Figure size 864x720 with 2 Axes>"
      ]
     },
     "metadata": {
      "needs_background": "light"
     },
     "output_type": "display_data"
    }
   ],
   "source": [
    "cm = mf[num_cols].corr()\n",
    "cm.columns=['Age', 'Average additional charges total', 'Month to end contract', 'Lifetime', 'Average class frequency total', 'Average class frequency current month']\n",
    "cm.index=['Age', 'Average additional charges total', 'Month to end contract', 'Lifetime', 'Average class frequency total', 'Average class frequency current month']\n",
    "fig, ax = plt.subplots(figsize = (12, 14))\n",
    "\n",
    "fig.set_size_inches(12,10)\n",
    "ax.set_title('Correlation matrix')\n",
    "sns.color_palette(\"magma\", as_cmap=True)\n",
    "\n",
    "sns.heatmap(cm, annot = True, square=True, vmin=-1, vmax=1, center= 0, cmap='crest')\n",
    "\n",
    "plt.show()"
   ]
  },
  {
   "cell_type": "markdown",
   "metadata": {},
   "source": [
    "The correlation matrix above shows a strong dependency between two features: Average class frequency total and Average class frequency current month, the features have a correlation of about 0.95 which indicates presence of multicollinearity between the two variables. I will therefore drop Average class frequency current month."
   ]
  },
  {
   "cell_type": "code",
   "execution_count": 14,
   "metadata": {},
   "outputs": [
    {
     "name": "stderr",
     "output_type": "stream",
     "text": [
      "C:\\ProgramData\\Anaconda3\\lib\\site-packages\\pandas\\core\\frame.py:4163: SettingWithCopyWarning:\n",
      "\n",
      "\n",
      "A value is trying to be set on a copy of a slice from a DataFrame\n",
      "\n",
      "See the caveats in the documentation: https://pandas.pydata.org/pandas-docs/stable/user_guide/indexing.html#returning-a-view-versus-a-copy\n",
      "\n"
     ]
    }
   ],
   "source": [
    "mf.drop(['avg_class_frequency_current_month'], axis=1, inplace= True)\n",
    "mf_num.drop(['avg_class_frequency_current_month'], axis=1, inplace= True)"
   ]
  },
  {
   "cell_type": "markdown",
   "metadata": {},
   "source": [
    "### Conclusion"
   ]
  },
  {
   "cell_type": "markdown",
   "metadata": {},
   "source": [
    "On this part of the project we have described the typical client of the gym chain Model Fitness.  \n",
    "We also divided the data into two groups: churn and stay, in order to understand how the averages of our features change. EDA analysis has been done specifically to see the distribution of features based on churn. Correlation among the features and target variable (churn) has been done; presence of multicollinearity in the data has been detected and dealt with. The data is ready for prediction and analysis."
   ]
  },
  {
   "cell_type": "markdown",
   "metadata": {},
   "source": [
    "## Step 3. Build a model to predict user churn"
   ]
  },
  {
   "cell_type": "markdown",
   "metadata": {},
   "source": [
    "### Build a binary classification model for customers where the target feature is the user's leaving next month."
   ]
  },
  {
   "cell_type": "markdown",
   "metadata": {},
   "source": [
    "On this part of the project I'll divide the data into the train and validation sets using the train_test_split() function into 80% training and 20% validation. I will train the model on the train set with two methods: logistic regression and random forest. Lastly, I'll evaluate accuracy, precision, and recall for both models using the validation data, these metrics I'll use to compare the models and choose the model that gave better results."
   ]
  },
  {
   "cell_type": "code",
   "execution_count": 15,
   "metadata": {},
   "outputs": [],
   "source": [
    "#split data into train and validation sets\n",
    "\n",
    "X = mf.drop('churn', axis=1)\n",
    "y=mf['churn']\n",
    "X_train, X_test, y_train, y_test = train_test_split(\n",
    "    X, y, test_size=0.2, random_state=0\n",
    ")"
   ]
  },
  {
   "cell_type": "code",
   "execution_count": 16,
   "metadata": {},
   "outputs": [],
   "source": [
    "#define function for calculation metrics\n",
    "\n",
    "def print_all_metrics(y_true, y_pred, y_proba, title = 'Classification metrics'):\n",
    "    print(title)\n",
    "    print('\\tAccuracy: {:.2f}'.format(accuracy_score(y_true, y_pred)))\n",
    "    print('\\tPrecision: {:.2f}'.format(precision_score(y_true, y_pred)))\n",
    "    print('\\tRecall: {:.2f}'.format(recall_score(y_true, y_pred)))\n",
    "    print('\\tF1: {:.2f}'.format(f1_score(y_true, y_pred)))\n",
    "    print('\\tROC_AUC: {:.2f}'.format(roc_auc_score(y_true, y_proba)))"
   ]
  },
  {
   "cell_type": "markdown",
   "metadata": {},
   "source": [
    "### Logistic regression"
   ]
  },
  {
   "cell_type": "code",
   "execution_count": 17,
   "metadata": {},
   "outputs": [],
   "source": [
    "import sys\n",
    "import warnings\n",
    "if not sys.warnoptions:\n",
    "       warnings.simplefilter(\"ignore\")"
   ]
  },
  {
   "cell_type": "code",
   "execution_count": 18,
   "metadata": {},
   "outputs": [
    {
     "name": "stdout",
     "output_type": "stream",
     "text": [
      "Metrics for logistic regression:\n",
      "\tAccuracy: 0.89\n",
      "\tPrecision: 0.78\n",
      "\tRecall: 0.77\n",
      "\tF1: 0.77\n",
      "\tROC_AUC: 0.95\n"
     ]
    }
   ],
   "source": [
    "lr_model = LogisticRegression()\n",
    "lr_model.fit(X_train, y_train)\n",
    "lr_predictions = lr_model.predict(X_test)\n",
    "lr_probabilities = lr_model.predict_proba(X_test)[:,1]\n",
    "print_all_metrics(y_test, lr_predictions, lr_probabilities , title='Metrics for logistic regression:')"
   ]
  },
  {
   "cell_type": "markdown",
   "metadata": {},
   "source": [
    "We make correct predictions for more then 90 % of answers, the values for all metrics, calculated according to our test are really high and this is an excellent result."
   ]
  },
  {
   "cell_type": "markdown",
   "metadata": {},
   "source": [
    "To throw more light on the model performance, I will visualise a confusion matrix for the logistic regression model."
   ]
  },
  {
   "cell_type": "code",
   "execution_count": 19,
   "metadata": {},
   "outputs": [
    {
     "data": {
      "image/png": "[encoded data removed]",
      "text/plain": [
       "<Figure size 720x576 with 2 Axes>"
      ]
     },
     "metadata": {
      "needs_background": "light"
     },
     "output_type": "display_data"
    }
   ],
   "source": [
    "skplt.metrics.plot_confusion_matrix(y_test,lr_predictions,cmap='crest',figsize= (10,8), \\\n",
    "                                    title= \"Confusion Matrix for Logistic Regresion\")\n",
    "plt.show()"
   ]
  },
  {
   "cell_type": "markdown",
   "metadata": {},
   "source": [
    "Out of 602 non churn customers in the validation data, the model correctly predicted 558 of them (True positive), and wrongly predicted 44 of them (False negative or Type II error). Out of the 198 churn customers in the validation data, the model correctly predicted 152 (True negative), and wrongly predicted 46 of them (False positive or Type I error)."
   ]
  },
  {
   "cell_type": "markdown",
   "metadata": {},
   "source": [
    "### Random forest"
   ]
  },
  {
   "cell_type": "code",
   "execution_count": 20,
   "metadata": {},
   "outputs": [
    {
     "name": "stdout",
     "output_type": "stream",
     "text": [
      "Metrics for random forest:\n",
      "\tAccuracy: 0.89\n",
      "\tPrecision: 0.80\n",
      "\tRecall: 0.76\n",
      "\tF1: 0.78\n",
      "\tROC_AUC: 0.94\n"
     ]
    }
   ],
   "source": [
    "rf_model = RandomForestClassifier(random_state=0)\n",
    "\n",
    "rf_model.fit(X_train,y_train)\n",
    "\n",
    "rf_predictions = rf_model.predict(X_test)\n",
    "rf_probabilities = rf_model.predict_proba(X_test)[:,1]\n",
    "print_all_metrics(y_test, rf_predictions, rf_probabilities, title = 'Metrics for random forest:')"
   ]
  },
  {
   "cell_type": "markdown",
   "metadata": {},
   "source": [
    "Roc auc score is 0.97, so the models are strong, and the other metrics are also high."
   ]
  },
  {
   "cell_type": "markdown",
   "metadata": {},
   "source": [
    "To throw more light on the model performance, I will visualise a confusion matrix for the random forest model."
   ]
  },
  {
   "cell_type": "code",
   "execution_count": 21,
   "metadata": {},
   "outputs": [
    {
     "data": {
      "image/png": "[encoded data removed]",
      "text/plain": [
       "<Figure size 720x576 with 2 Axes>"
      ]
     },
     "metadata": {
      "needs_background": "light"
     },
     "output_type": "display_data"
    }
   ],
   "source": [
    "skplt.metrics.plot_confusion_matrix(y_test,rf_predictions,cmap='crest',figsize= (10,8), \\\n",
    "                                    title= \"Confusion Matrix for Random Forrest\")\n",
    "plt.show()"
   ]
  },
  {
   "cell_type": "markdown",
   "metadata": {},
   "source": [
    "### Conclusion"
   ]
  },
  {
   "cell_type": "markdown",
   "metadata": {},
   "source": [
    "Our Random forest model performed a little bit better than the logistic regression by catching 92% of the true cases (91% using the logistic regression) in the unseen/validation set and had an ROC_AUC of 0.97 (0.96 using logistic regression). Its a good results, but since our logistic regression and random forest model perfomed more or less the same, It's a good idea to go with the simpler and more intepretable model that is the logistic regression for the choice of model."
   ]
  },
  {
   "cell_type": "markdown",
   "metadata": {},
   "source": [
    "## Step 4. Create user clusters"
   ]
  },
  {
   "cell_type": "markdown",
   "metadata": {},
   "source": [
    "### Standardize the data"
   ]
  },
  {
   "cell_type": "code",
   "execution_count": 22,
   "metadata": {},
   "outputs": [],
   "source": [
    "scaler = StandardScaler() # creating a scaler class object (normalizer)\n",
    "x_sc = scaler.fit_transform(mf.drop(columns = ['churn']))"
   ]
  },
  {
   "cell_type": "markdown",
   "metadata": {},
   "source": [
    "### Matrix of distances"
   ]
  },
  {
   "cell_type": "code",
   "execution_count": 23,
   "metadata": {},
   "outputs": [],
   "source": [
    "linked = linkage(x_sc, method = 'ward')"
   ]
  },
  {
   "cell_type": "code",
   "execution_count": 24,
   "metadata": {},
   "outputs": [
    {
     "data": {
      "image/png": "[encoded data removed]",
      "text/plain": [
       "<Figure size 1080x720 with 1 Axes>"
      ]
     },
     "metadata": {
      "needs_background": "light"
     },
     "output_type": "display_data"
    }
   ],
   "source": [
    "plt.figure(figsize=(15, 10))  \n",
    "dendrogram(linked, orientation='top')\n",
    "plt.title('Hierarchical clustering for GYM')\n",
    "plt.show()"
   ]
  },
  {
   "cell_type": "markdown",
   "metadata": {},
   "source": [
    "The suggested optimal number of clusters corresponds to the five different colors on the plot."
   ]
  },
  {
   "cell_type": "markdown",
   "metadata": {},
   "source": [
    "### Train the clustering model and predict customer clusters"
   ]
  },
  {
   "cell_type": "code",
   "execution_count": 25,
   "metadata": {},
   "outputs": [],
   "source": [
    "# define the k_means model with 5 clusters\n",
    "km = KMeans(n_clusters = 5, random_state=0)\n",
    "# predict the clusters for observations\n",
    "labels = km.fit_predict(x_sc)\n",
    "\n",
    "mf['cluster_km'] = labels"
   ]
  },
  {
   "cell_type": "code",
   "execution_count": 26,
   "metadata": {},
   "outputs": [
    {
     "name": "stdout",
     "output_type": "stream",
     "text": [
      "Silhouette_score: 0.16\n"
     ]
    }
   ],
   "source": [
    "print('Silhouette_score: {:.2f}'.format(silhouette_score(x_sc, labels)))"
   ]
  },
  {
   "cell_type": "markdown",
   "metadata": {},
   "source": [
    "Silhouette score around zero (0.14) indicate overlapping clusters, maybe it will be the higher score if we will split the model into the 5 clusters."
   ]
  },
  {
   "cell_type": "markdown",
   "metadata": {},
   "source": [
    "### The mean feature values for clusters"
   ]
  },
  {
   "cell_type": "code",
   "execution_count": 27,
   "metadata": {},
   "outputs": [
    {
     "data": {
      "text/html": [
       "<div>\n",
       "<style scoped>\n",
       "    .dataframe tbody tr th:only-of-type {\n",
       "        vertical-align: middle;\n",
       "    }\n",
       "\n",
       "    .dataframe tbody tr th {\n",
       "        vertical-align: top;\n",
       "    }\n",
       "\n",
       "    .dataframe thead th {\n",
       "        text-align: right;\n",
       "    }\n",
       "</style>\n",
       "<table border=\"1\" class=\"dataframe\">\n",
       "  <thead>\n",
       "    <tr style=\"text-align: right;\">\n",
       "      <th></th>\n",
       "      <th>gender</th>\n",
       "      <th>near_location</th>\n",
       "      <th>partner</th>\n",
       "      <th>promo_friends</th>\n",
       "      <th>phone</th>\n",
       "      <th>contract_period</th>\n",
       "      <th>group_visits</th>\n",
       "      <th>age</th>\n",
       "      <th>avg_additional_charges_total</th>\n",
       "      <th>month_to_end_contract</th>\n",
       "      <th>lifetime</th>\n",
       "      <th>avg_class_frequency_total</th>\n",
       "      <th>churn</th>\n",
       "      <th>cluster_km</th>\n",
       "    </tr>\n",
       "  </thead>\n",
       "  <tbody>\n",
       "    <tr>\n",
       "      <th>0</th>\n",
       "      <td>1</td>\n",
       "      <td>1</td>\n",
       "      <td>1</td>\n",
       "      <td>1</td>\n",
       "      <td>0</td>\n",
       "      <td>6</td>\n",
       "      <td>1</td>\n",
       "      <td>29</td>\n",
       "      <td>14.227470</td>\n",
       "      <td>5</td>\n",
       "      <td>3</td>\n",
       "      <td>0.020398</td>\n",
       "      <td>0</td>\n",
       "      <td>0</td>\n",
       "    </tr>\n",
       "    <tr>\n",
       "      <th>1</th>\n",
       "      <td>0</td>\n",
       "      <td>1</td>\n",
       "      <td>0</td>\n",
       "      <td>0</td>\n",
       "      <td>1</td>\n",
       "      <td>12</td>\n",
       "      <td>1</td>\n",
       "      <td>31</td>\n",
       "      <td>113.202938</td>\n",
       "      <td>12</td>\n",
       "      <td>7</td>\n",
       "      <td>1.922936</td>\n",
       "      <td>0</td>\n",
       "      <td>4</td>\n",
       "    </tr>\n",
       "    <tr>\n",
       "      <th>2</th>\n",
       "      <td>0</td>\n",
       "      <td>1</td>\n",
       "      <td>1</td>\n",
       "      <td>0</td>\n",
       "      <td>1</td>\n",
       "      <td>1</td>\n",
       "      <td>0</td>\n",
       "      <td>28</td>\n",
       "      <td>129.448479</td>\n",
       "      <td>1</td>\n",
       "      <td>2</td>\n",
       "      <td>1.859098</td>\n",
       "      <td>0</td>\n",
       "      <td>1</td>\n",
       "    </tr>\n",
       "    <tr>\n",
       "      <th>3</th>\n",
       "      <td>0</td>\n",
       "      <td>1</td>\n",
       "      <td>1</td>\n",
       "      <td>1</td>\n",
       "      <td>1</td>\n",
       "      <td>12</td>\n",
       "      <td>1</td>\n",
       "      <td>33</td>\n",
       "      <td>62.669863</td>\n",
       "      <td>12</td>\n",
       "      <td>2</td>\n",
       "      <td>3.205633</td>\n",
       "      <td>0</td>\n",
       "      <td>4</td>\n",
       "    </tr>\n",
       "    <tr>\n",
       "      <th>4</th>\n",
       "      <td>1</td>\n",
       "      <td>1</td>\n",
       "      <td>1</td>\n",
       "      <td>1</td>\n",
       "      <td>1</td>\n",
       "      <td>1</td>\n",
       "      <td>0</td>\n",
       "      <td>26</td>\n",
       "      <td>198.362265</td>\n",
       "      <td>1</td>\n",
       "      <td>3</td>\n",
       "      <td>1.113884</td>\n",
       "      <td>0</td>\n",
       "      <td>2</td>\n",
       "    </tr>\n",
       "  </tbody>\n",
       "</table>\n",
       "</div>"
      ],
      "text/plain": [
       "   gender  near_location  partner  promo_friends  phone  contract_period  \\\n",
       "0       1              1        1              1      0                6   \n",
       "1       0              1        0              0      1               12   \n",
       "2       0              1        1              0      1                1   \n",
       "3       0              1        1              1      1               12   \n",
       "4       1              1        1              1      1                1   \n",
       "\n",
       "   group_visits  age  avg_additional_charges_total  month_to_end_contract  \\\n",
       "0             1   29                     14.227470                      5   \n",
       "1             1   31                    113.202938                     12   \n",
       "2             0   28                    129.448479                      1   \n",
       "3             1   33                     62.669863                     12   \n",
       "4             0   26                    198.362265                      1   \n",
       "\n",
       "   lifetime  avg_class_frequency_total  churn  cluster_km  \n",
       "0         3                   0.020398      0           0  \n",
       "1         7                   1.922936      0           4  \n",
       "2         2                   1.859098      0           1  \n",
       "3         2                   3.205633      0           4  \n",
       "4         3                   1.113884      0           2  "
      ]
     },
     "execution_count": 27,
     "metadata": {},
     "output_type": "execute_result"
    }
   ],
   "source": [
    "mf.head()"
   ]
  },
  {
   "cell_type": "code",
   "execution_count": 28,
   "metadata": {},
   "outputs": [
    {
     "ename": "KeyError",
     "evalue": "\"Columns not found: 'avg_class_frequency_current_month'\"",
     "output_type": "error",
     "traceback": [
      "\u001B[1;31m---------------------------------------------------------------------------\u001B[0m",
      "\u001B[1;31mKeyError\u001B[0m                                  Traceback (most recent call last)",
      "\u001B[1;32m<ipython-input-28-4ee21f906f12>\u001B[0m in \u001B[0;36m<module>\u001B[1;34m\u001B[0m\n\u001B[0;32m      1\u001B[0m \u001B[1;31m# get the statistics of the mean feature values per cluster\u001B[0m\u001B[1;33m\u001B[0m\u001B[1;33m\u001B[0m\u001B[1;33m\u001B[0m\u001B[0m\n\u001B[1;32m----> 2\u001B[1;33m \u001B[0mchurn_group_mean_num\u001B[0m \u001B[1;33m=\u001B[0m \u001B[0mmf\u001B[0m\u001B[1;33m.\u001B[0m\u001B[0mgroupby\u001B[0m\u001B[1;33m(\u001B[0m\u001B[1;33m[\u001B[0m\u001B[1;34m'cluster_km'\u001B[0m\u001B[1;33m]\u001B[0m\u001B[1;33m)\u001B[0m\u001B[1;33m[\u001B[0m\u001B[0mnum_cols\u001B[0m\u001B[1;33m]\u001B[0m\u001B[1;33m.\u001B[0m\u001B[0mmean\u001B[0m\u001B[1;33m(\u001B[0m\u001B[1;33m)\u001B[0m\u001B[1;33m.\u001B[0m\u001B[0mreset_index\u001B[0m\u001B[1;33m(\u001B[0m\u001B[1;33m)\u001B[0m\u001B[1;33m\u001B[0m\u001B[1;33m\u001B[0m\u001B[0m\n\u001B[0m\u001B[0;32m      3\u001B[0m \u001B[0mprint\u001B[0m\u001B[1;33m(\u001B[0m\u001B[0mchurn_group_mean_num\u001B[0m\u001B[1;33m)\u001B[0m\u001B[1;33m\u001B[0m\u001B[1;33m\u001B[0m\u001B[0m\n",
      "\u001B[1;32mC:\\ProgramData\\Anaconda3\\lib\\site-packages\\pandas\\core\\groupby\\generic.py\u001B[0m in \u001B[0;36m__getitem__\u001B[1;34m(self, key)\u001B[0m\n\u001B[0;32m   1648\u001B[0m                 \u001B[0mstacklevel\u001B[0m\u001B[1;33m=\u001B[0m\u001B[1;36m2\u001B[0m\u001B[1;33m,\u001B[0m\u001B[1;33m\u001B[0m\u001B[1;33m\u001B[0m\u001B[0m\n\u001B[0;32m   1649\u001B[0m             )\n\u001B[1;32m-> 1650\u001B[1;33m         \u001B[1;32mreturn\u001B[0m \u001B[0msuper\u001B[0m\u001B[1;33m(\u001B[0m\u001B[1;33m)\u001B[0m\u001B[1;33m.\u001B[0m\u001B[0m__getitem__\u001B[0m\u001B[1;33m(\u001B[0m\u001B[0mkey\u001B[0m\u001B[1;33m)\u001B[0m\u001B[1;33m\u001B[0m\u001B[1;33m\u001B[0m\u001B[0m\n\u001B[0m\u001B[0;32m   1651\u001B[0m \u001B[1;33m\u001B[0m\u001B[0m\n\u001B[0;32m   1652\u001B[0m     \u001B[1;32mdef\u001B[0m \u001B[0m_gotitem\u001B[0m\u001B[1;33m(\u001B[0m\u001B[0mself\u001B[0m\u001B[1;33m,\u001B[0m \u001B[0mkey\u001B[0m\u001B[1;33m,\u001B[0m \u001B[0mndim\u001B[0m\u001B[1;33m:\u001B[0m \u001B[0mint\u001B[0m\u001B[1;33m,\u001B[0m \u001B[0msubset\u001B[0m\u001B[1;33m=\u001B[0m\u001B[1;32mNone\u001B[0m\u001B[1;33m)\u001B[0m\u001B[1;33m:\u001B[0m\u001B[1;33m\u001B[0m\u001B[1;33m\u001B[0m\u001B[0m\n",
      "\u001B[1;32mC:\\ProgramData\\Anaconda3\\lib\\site-packages\\pandas\\core\\base.py\u001B[0m in \u001B[0;36m__getitem__\u001B[1;34m(self, key)\u001B[0m\n\u001B[0;32m    216\u001B[0m             \u001B[1;32mif\u001B[0m \u001B[0mlen\u001B[0m\u001B[1;33m(\u001B[0m\u001B[0mself\u001B[0m\u001B[1;33m.\u001B[0m\u001B[0mobj\u001B[0m\u001B[1;33m.\u001B[0m\u001B[0mcolumns\u001B[0m\u001B[1;33m.\u001B[0m\u001B[0mintersection\u001B[0m\u001B[1;33m(\u001B[0m\u001B[0mkey\u001B[0m\u001B[1;33m)\u001B[0m\u001B[1;33m)\u001B[0m \u001B[1;33m!=\u001B[0m \u001B[0mlen\u001B[0m\u001B[1;33m(\u001B[0m\u001B[0mkey\u001B[0m\u001B[1;33m)\u001B[0m\u001B[1;33m:\u001B[0m\u001B[1;33m\u001B[0m\u001B[1;33m\u001B[0m\u001B[0m\n\u001B[0;32m    217\u001B[0m                 \u001B[0mbad_keys\u001B[0m \u001B[1;33m=\u001B[0m \u001B[0mlist\u001B[0m\u001B[1;33m(\u001B[0m\u001B[0mset\u001B[0m\u001B[1;33m(\u001B[0m\u001B[0mkey\u001B[0m\u001B[1;33m)\u001B[0m\u001B[1;33m.\u001B[0m\u001B[0mdifference\u001B[0m\u001B[1;33m(\u001B[0m\u001B[0mself\u001B[0m\u001B[1;33m.\u001B[0m\u001B[0mobj\u001B[0m\u001B[1;33m.\u001B[0m\u001B[0mcolumns\u001B[0m\u001B[1;33m)\u001B[0m\u001B[1;33m)\u001B[0m\u001B[1;33m\u001B[0m\u001B[1;33m\u001B[0m\u001B[0m\n\u001B[1;32m--> 218\u001B[1;33m                 \u001B[1;32mraise\u001B[0m \u001B[0mKeyError\u001B[0m\u001B[1;33m(\u001B[0m\u001B[1;34mf\"Columns not found: {str(bad_keys)[1:-1]}\"\u001B[0m\u001B[1;33m)\u001B[0m\u001B[1;33m\u001B[0m\u001B[1;33m\u001B[0m\u001B[0m\n\u001B[0m\u001B[0;32m    219\u001B[0m             \u001B[1;32mreturn\u001B[0m \u001B[0mself\u001B[0m\u001B[1;33m.\u001B[0m\u001B[0m_gotitem\u001B[0m\u001B[1;33m(\u001B[0m\u001B[0mlist\u001B[0m\u001B[1;33m(\u001B[0m\u001B[0mkey\u001B[0m\u001B[1;33m)\u001B[0m\u001B[1;33m,\u001B[0m \u001B[0mndim\u001B[0m\u001B[1;33m=\u001B[0m\u001B[1;36m2\u001B[0m\u001B[1;33m)\u001B[0m\u001B[1;33m\u001B[0m\u001B[1;33m\u001B[0m\u001B[0m\n\u001B[0;32m    220\u001B[0m \u001B[1;33m\u001B[0m\u001B[0m\n",
      "\u001B[1;31mKeyError\u001B[0m: \"Columns not found: 'avg_class_frequency_current_month'\""
     ]
    }
   ],
   "source": [
    "# get the statistics of the mean feature values per cluster\n",
    "churn_group_mean_num = mf.groupby(['cluster_km'])[num_cols].mean().reset_index()\n",
    "print(churn_group_mean_num)"
   ]
  },
  {
   "cell_type": "markdown",
   "metadata": {},
   "source": [
    "Based on the observation above on average values of features broken down by clusters I want to mark 0 and 3 clusters, they have the highest rates of additional charges and average visit frequency (monthly and total). It means, that these groups include regular customers that bring the highest income to the gym. Cluster 3 have the high indicator of feature month to end contract, so likely they have contracts for 1 year. The most disadvantaged group is cluster 1."
   ]
  },
  {
   "cell_type": "code",
   "execution_count": null,
   "metadata": {},
   "outputs": [],
   "source": [
    "churn_group_mean_cat = mf.groupby(['cluster_km'])[cat_cols].mean().reset_index()\n",
    "print(churn_group_mean_cat)"
   ]
  },
  {
   "cell_type": "markdown",
   "metadata": {},
   "source": [
    "The metrics above represent customer profiles. It is worth highliting group 3, a rather clear profile clear out: the majority of users are employees of partner companies who recieve discounts on their contracts, this group also has the highest rate for a feature promo friend, group visits and the longest contract period. It is likely the most 'constant' cluster with the lowest churns, based an the analysis above, we see that most customers have contracts for a long term, and based on our analysis, the longer the term of the contract, the less churn. "
   ]
  },
  {
   "cell_type": "markdown",
   "metadata": {},
   "source": [
    "### Plot distributions of features for the clusters"
   ]
  },
  {
   "cell_type": "markdown",
   "metadata": {},
   "source": [
    "I will select the continuous variables and plot their distributions with respect to clusters. I will leave out the features that are categorical. "
   ]
  },
  {
   "cell_type": "code",
   "execution_count": null,
   "metadata": {},
   "outputs": [],
   "source": [
    "count=1\n",
    "\n",
    "plt.subplots(figsize=(12, 12))\n",
    "for i in mf_num.drop([\"churn\", \"cluster_km\"],axis=1).columns:\n",
    "    if count > 12:\n",
    "        continue\n",
    "    else:\n",
    "        plt.subplot(2,2,count)\n",
    "        sns.histplot(data = mf_num, x= i, hue=\"cluster_km\", kde=True,  palette=\"crest\")\n",
    "        plt.title('Cluster Distribution: {}'.format(str(i)))\n",
    "        count+=1\n",
    "print(\"Distribution of Selected Features:\")\n",
    "\n",
    "plt.tight_layout()\n",
    "plt.show()"
   ]
  },
  {
   "cell_type": "markdown",
   "metadata": {},
   "source": [
    "The graphs above shows the distribution of features for the clusters\n",
    "<ul>\n",
    "    <l"
   ]
  },
  {
   "cell_type": "markdown",
   "metadata": {},
   "source": [
    "### Churn rate for each cluster"
   ]
  },
  {
   "cell_type": "code",
   "execution_count": null,
   "metadata": {
    "scrolled": true
   },
   "outputs": [],
   "source": [
    "pivot_clusters = mf.pivot_table(index='cluster_km', values = 'churn', aggfunc=['sum', 'count'])\n",
    "pivot_clusters.columns = ['Churn customers', 'Total customers']\n",
    "pivot_clusters['Churn rate'] = pivot_clusters['Churn customers'] / pivot_clusters['Total customers']\n",
    "pivot_clusters.sort_values(by='Churn rate', ascending=False)"
   ]
  },
  {
   "cell_type": "markdown",
   "metadata": {},
   "source": [
    "The table above shows the churn rate for each cluster. We see the lowest churn rates among customers who are in clusters 0 and 3. "
   ]
  },
  {
   "cell_type": "code",
   "execution_count": null,
   "metadata": {},
   "outputs": [],
   "source": [
    "df_plot = mf.groupby('lifetime').churn.mean().reset_index()\n",
    "plot_data = [\n",
    "    go.Scatter(\n",
    "        x=df_plot['lifetime'],\n",
    "        y=df_plot['churn'],\n",
    "        mode='markers',\n",
    "        name='Low',\n",
    "        marker= dict(size= 7,\n",
    "            line= dict(width=1),\n",
    "            color= 'blue',\n",
    "            opacity= 0.8\n",
    "           ),\n",
    "    )\n",
    "]\n",
    "plot_layout = go.Layout(\n",
    "        yaxis= {'title': \"Churn Rate\"},\n",
    "        xaxis= {'title': \"Lifetime\"},\n",
    "        title='Lifetime vs Churn rate',\n",
    "        plot_bgcolor  = \"rgb(243,243,243)\",\n",
    "        paper_bgcolor  = \"rgb(243,243,243)\",\n",
    "    )\n",
    "fig = go.Figure(data=plot_data, layout=plot_layout)\n",
    "pyoff.iplot(fig)"
   ]
  },
  {
   "cell_type": "markdown",
   "metadata": {},
   "source": [
    "The plot above shows us the mean churn rate of customers by lifetime. The highest churn rate is on the lifetime 0. Therefore, we need to make some changes to the gym policy to retain customers in the very early stages and motivate them to stay with us."
   ]
  },
  {
   "cell_type": "markdown",
   "metadata": {},
   "source": [
    "### Conclusion"
   ]
  },
  {
   "cell_type": "markdown",
   "metadata": {},
   "source": [
    "On this step of the project we standardized our data, predicted and splitted the users by clusters based on dendrogram and k-means algorithm, studied the mean values of features and calculated the churn rates of clusters. Let's draw the helpful conclusions on the next step."
   ]
  },
  {
   "cell_type": "markdown",
   "metadata": {},
   "source": [
    "## Conclusions and basic recommendations on working with customers"
   ]
  },
  {
   "cell_type": "markdown",
   "metadata": {},
   "source": [
    "Based on the above research, I have developed some suggestions and recommendations.\n",
    "<ul>  \n",
    "    <li>First of all, I want to note the large churn of clients with contracts for one month and who leave the gym and no longer return after a few sessions.  there is a need to create an interest in continuing to use the gym services and motivational policies in order for them to renew their contracts.  for this purpose, I propose to create user cards with the possibility of accumulating points and subsequently exchanging these points for rewards.  for example, additional services of the gym (cafe, swimming pool, etc.), free classes or master classes.</li>\n",
    "    <li>My next suggestion is to offer promotions and discounts for those who renew the contract.  As we noticed in our research, we have the lowest customer churn for that group of customers who signed a contract for a year, therefore, we need to strive to ensure that users switch from short-term to long-term contracts</li>\n",
    "    <li>Creating a feedback system for improving gym services and eliminate deficiences, especially feedback from users who decide to leave the gym. We need to ask them their reasons for leaving, suggestions they have and what we can do to get them to stay.</li>\n",
    "    <li>Membership freeze. This option will help us to return customers who temporarily can not to visit the gym, but which are planning to return in the feature. In this way we will become more customer-oriented, and it will give us an advantage over other gyms.</li>\n",
    "</ul>"
   ]
  }
 ],
 "metadata": {
  "ExecuteTimeLog": [
   {
    "duration": 3589,
    "start_time": "2021-06-19T11:39:35.647Z"
   },
   {
    "duration": 41,
    "start_time": "2021-06-19T11:45:43.154Z"
   },
   {
    "duration": 70,
    "start_time": "2021-06-19T11:47:11.131Z"
   },
   {
    "duration": 30,
    "start_time": "2021-06-19T11:47:38.499Z"
   },
   {
    "duration": 108,
    "start_time": "2021-06-19T11:47:47.432Z"
   },
   {
    "duration": 38,
    "start_time": "2021-06-19T11:47:52.928Z"
   },
   {
    "duration": 38,
    "start_time": "2021-06-19T11:48:21.278Z"
   },
   {
    "duration": 39,
    "start_time": "2021-06-19T11:48:30.959Z"
   },
   {
    "duration": 28,
    "start_time": "2021-06-19T11:48:38.495Z"
   },
   {
    "duration": 37,
    "start_time": "2021-06-19T12:00:19.535Z"
   },
   {
    "duration": 75,
    "start_time": "2021-06-19T12:00:22.703Z"
   },
   {
    "duration": 65,
    "start_time": "2021-06-19T12:01:36.456Z"
   },
   {
    "duration": 620,
    "start_time": "2021-06-19T12:05:48.023Z"
   },
   {
    "duration": 6,
    "start_time": "2021-06-19T12:10:40.144Z"
   },
   {
    "duration": 27,
    "start_time": "2021-06-19T12:10:48.203Z"
   },
   {
    "duration": 6,
    "start_time": "2021-06-19T12:12:29.072Z"
   },
   {
    "duration": 31,
    "start_time": "2021-06-19T12:12:33.598Z"
   },
   {
    "duration": 325,
    "start_time": "2021-06-19T12:16:15.045Z"
   },
   {
    "duration": 307,
    "start_time": "2021-06-19T12:16:24.495Z"
   },
   {
    "duration": 4,
    "start_time": "2021-06-19T12:16:40.344Z"
   },
   {
    "duration": 7,
    "start_time": "2021-06-19T12:16:49.705Z"
   },
   {
    "duration": 324,
    "start_time": "2021-06-19T12:17:00.875Z"
   },
   {
    "duration": 10,
    "start_time": "2021-06-19T12:17:29.607Z"
   },
   {
    "duration": 52,
    "start_time": "2021-06-19T12:17:37.600Z"
   },
   {
    "duration": 3,
    "start_time": "2021-06-19T12:18:01.724Z"
   },
   {
    "duration": 6,
    "start_time": "2021-06-19T12:18:09.315Z"
   },
   {
    "duration": 18,
    "start_time": "2021-06-19T12:24:28.501Z"
   },
   {
    "duration": 39,
    "start_time": "2021-06-19T12:24:35.337Z"
   },
   {
    "duration": 312,
    "start_time": "2021-06-19T12:26:12.824Z"
   },
   {
    "duration": 353,
    "start_time": "2021-06-19T12:47:12.240Z"
   },
   {
    "duration": 7,
    "start_time": "2021-06-19T12:47:16.705Z"
   },
   {
    "duration": 1492,
    "start_time": "2021-06-19T12:48:06.828Z"
   },
   {
    "duration": 1894,
    "start_time": "2021-06-19T12:51:44.924Z"
   },
   {
    "duration": 1643,
    "start_time": "2021-06-19T12:52:20.886Z"
   },
   {
    "duration": 325,
    "start_time": "2021-06-19T12:55:08.106Z"
   },
   {
    "duration": 7368,
    "start_time": "2021-06-19T12:55:14.332Z"
   },
   {
    "duration": 1863,
    "start_time": "2021-06-20T15:22:25.497Z"
   },
   {
    "duration": 39,
    "start_time": "2021-06-20T15:22:29.459Z"
   },
   {
    "duration": 35,
    "start_time": "2021-06-20T15:22:33.404Z"
   },
   {
    "duration": 1569,
    "start_time": "2021-06-20T15:22:40.659Z"
   },
   {
    "duration": 442,
    "start_time": "2021-06-20T15:27:19.740Z"
   },
   {
    "duration": 279,
    "start_time": "2021-06-20T15:27:28.758Z"
   },
   {
    "duration": 271,
    "start_time": "2021-06-20T15:35:58.757Z"
   },
   {
    "duration": 351,
    "start_time": "2021-06-20T15:37:09.208Z"
   },
   {
    "duration": 630,
    "start_time": "2021-06-20T15:38:49.154Z"
   },
   {
    "duration": 840,
    "start_time": "2021-06-20T15:38:55.429Z"
   },
   {
    "duration": 331,
    "start_time": "2021-06-20T15:39:28.543Z"
   },
   {
    "duration": 612,
    "start_time": "2021-06-20T15:39:42.516Z"
   },
   {
    "duration": 1965,
    "start_time": "2021-06-21T16:46:26.084Z"
   },
   {
    "duration": 38,
    "start_time": "2021-06-21T16:46:28.052Z"
   },
   {
    "duration": 43,
    "start_time": "2021-06-21T16:46:28.093Z"
   },
   {
    "duration": 65,
    "start_time": "2021-06-21T16:46:28.138Z"
   },
   {
    "duration": 40,
    "start_time": "2021-06-21T16:46:28.205Z"
   },
   {
    "duration": 1593,
    "start_time": "2021-06-21T16:46:28.247Z"
   },
   {
    "duration": 5515,
    "start_time": "2021-06-21T16:46:29.842Z"
   },
   {
    "duration": 458,
    "start_time": "2021-06-21T16:46:35.359Z"
   },
   {
    "duration": 442,
    "start_time": "2021-06-21T16:46:35.820Z"
   },
   {
    "duration": 86,
    "start_time": "2021-06-21T16:50:32.855Z"
   },
   {
    "duration": 1137,
    "start_time": "2021-06-21T16:50:42.458Z"
   },
   {
    "duration": 5,
    "start_time": "2021-06-21T16:51:47.281Z"
   },
   {
    "duration": 6215,
    "start_time": "2021-06-21T16:51:54.402Z"
   },
   {
    "duration": 3,
    "start_time": "2021-06-21T17:29:22.108Z"
   },
   {
    "duration": 4,
    "start_time": "2021-06-21T17:29:23.431Z"
   },
   {
    "duration": 104,
    "start_time": "2021-06-21T17:31:23.227Z"
   },
   {
    "duration": 3285,
    "start_time": "2021-06-21T17:31:32.725Z"
   },
   {
    "duration": 6067,
    "start_time": "2021-06-21T17:34:23.922Z"
   },
   {
    "duration": 6103,
    "start_time": "2021-06-21T17:36:12.993Z"
   },
   {
    "duration": 4665,
    "start_time": "2021-06-21T17:41:31.788Z"
   },
   {
    "duration": 4631,
    "start_time": "2021-06-21T17:42:17.008Z"
   },
   {
    "duration": 4525,
    "start_time": "2021-06-21T17:42:39.393Z"
   },
   {
    "duration": 6,
    "start_time": "2021-06-21T18:28:56.828Z"
   },
   {
    "duration": 53,
    "start_time": "2021-06-21T18:28:56.836Z"
   },
   {
    "duration": 28,
    "start_time": "2021-06-21T18:28:56.892Z"
   },
   {
    "duration": 80,
    "start_time": "2021-06-21T18:28:56.924Z"
   },
   {
    "duration": 28,
    "start_time": "2021-06-21T18:28:57.006Z"
   },
   {
    "duration": 1707,
    "start_time": "2021-06-21T18:28:57.037Z"
   },
   {
    "duration": 5578,
    "start_time": "2021-06-21T18:28:58.746Z"
   },
   {
    "duration": 463,
    "start_time": "2021-06-21T18:29:04.326Z"
   },
   {
    "duration": 283,
    "start_time": "2021-06-21T18:29:04.792Z"
   },
   {
    "duration": -456,
    "start_time": "2021-06-21T18:29:05.534Z"
   },
   {
    "duration": -455,
    "start_time": "2021-06-21T18:29:05.536Z"
   },
   {
    "duration": 4656,
    "start_time": "2021-06-21T18:29:31.879Z"
   },
   {
    "duration": 94,
    "start_time": "2021-06-21T18:30:47.713Z"
   },
   {
    "duration": 90,
    "start_time": "2021-06-21T18:31:21.945Z"
   },
   {
    "duration": 87,
    "start_time": "2021-06-21T18:31:39.372Z"
   },
   {
    "duration": 7853,
    "start_time": "2021-06-21T18:32:21.339Z"
   },
   {
    "duration": 7131,
    "start_time": "2021-06-21T18:32:52.143Z"
   },
   {
    "duration": 83,
    "start_time": "2021-06-21T18:35:46.526Z"
   },
   {
    "duration": 10,
    "start_time": "2021-06-21T18:36:56.488Z"
   },
   {
    "duration": 99,
    "start_time": "2021-06-21T18:40:27.232Z"
   },
   {
    "duration": 5,
    "start_time": "2021-06-21T18:40:38.494Z"
   },
   {
    "duration": 99,
    "start_time": "2021-06-21T18:42:20.526Z"
   },
   {
    "duration": 464,
    "start_time": "2021-06-21T18:43:57.344Z"
   },
   {
    "duration": 5,
    "start_time": "2021-06-21T18:44:39.344Z"
   },
   {
    "duration": 158,
    "start_time": "2021-06-21T18:44:45.168Z"
   },
   {
    "duration": 381,
    "start_time": "2021-06-21T18:52:19.611Z"
   },
   {
    "duration": 267,
    "start_time": "2021-06-21T18:56:50.578Z"
   },
   {
    "duration": 5,
    "start_time": "2021-06-21T18:57:27.410Z"
   },
   {
    "duration": 73,
    "start_time": "2021-06-21T18:57:31.962Z"
   },
   {
    "duration": 5,
    "start_time": "2021-06-21T18:58:13.027Z"
   },
   {
    "duration": 626,
    "start_time": "2021-06-21T18:58:51.346Z"
   },
   {
    "duration": 5,
    "start_time": "2021-06-21T18:59:33.168Z"
   },
   {
    "duration": 167,
    "start_time": "2021-06-21T18:59:38.861Z"
   },
   {
    "duration": 75,
    "start_time": "2021-06-21T19:00:10.009Z"
   },
   {
    "duration": 93,
    "start_time": "2021-06-21T19:08:41.294Z"
   },
   {
    "duration": 6,
    "start_time": "2021-06-21T19:08:51.458Z"
   },
   {
    "duration": 9,
    "start_time": "2021-06-21T19:12:09.403Z"
   },
   {
    "duration": 5,
    "start_time": "2021-06-21T19:13:50.824Z"
   },
   {
    "duration": 283,
    "start_time": "2021-06-21T19:21:28.172Z"
   },
   {
    "duration": 265,
    "start_time": "2021-06-21T19:21:34.573Z"
   },
   {
    "duration": 26,
    "start_time": "2021-06-21T19:21:58.814Z"
   },
   {
    "duration": 1926,
    "start_time": "2021-06-21T19:22:05.617Z"
   },
   {
    "duration": 21,
    "start_time": "2021-06-21T19:22:17.285Z"
   },
   {
    "duration": 7321,
    "start_time": "2021-06-21T19:22:31.308Z"
   },
   {
    "duration": 6,
    "start_time": "2021-06-21T19:24:19.594Z"
   },
   {
    "duration": 646,
    "start_time": "2021-06-21T19:24:59.759Z"
   },
   {
    "duration": 661,
    "start_time": "2021-06-21T19:25:48.741Z"
   },
   {
    "duration": 7,
    "start_time": "2021-06-21T19:28:19.397Z"
   },
   {
    "duration": 1083,
    "start_time": "2021-06-21T19:28:42.482Z"
   },
   {
    "duration": 138981,
    "start_time": "2021-06-21T19:28:54.954Z"
   },
   {
    "duration": 1342,
    "start_time": "2021-06-21T19:40:44.992Z"
   },
   {
    "duration": 639,
    "start_time": "2021-06-21T19:40:55.463Z"
   },
   {
    "duration": 1590,
    "start_time": "2021-06-21T19:41:03.458Z"
   },
   {
    "duration": 609,
    "start_time": "2021-06-21T19:41:05.309Z"
   },
   {
    "duration": 6598,
    "start_time": "2021-06-21T19:44:13.331Z"
   },
   {
    "duration": 12405,
    "start_time": "2021-06-21T19:46:30.575Z"
   },
   {
    "duration": 12429,
    "start_time": "2021-06-21T19:48:20.443Z"
   },
   {
    "duration": 5387,
    "start_time": "2021-06-21T19:50:09.795Z"
   },
   {
    "duration": 336,
    "start_time": "2021-06-22T06:16:43.108Z"
   },
   {
    "duration": 2018,
    "start_time": "2021-06-22T06:16:58.873Z"
   },
   {
    "duration": 105,
    "start_time": "2021-06-22T06:17:01.433Z"
   },
   {
    "duration": 36,
    "start_time": "2021-06-22T06:17:02.492Z"
   },
   {
    "duration": 66,
    "start_time": "2021-06-22T06:17:04.797Z"
   },
   {
    "duration": 26,
    "start_time": "2021-06-22T06:17:05.446Z"
   },
   {
    "duration": 1575,
    "start_time": "2021-06-22T06:17:06.172Z"
   },
   {
    "duration": 5564,
    "start_time": "2021-06-22T06:17:07.750Z"
   },
   {
    "duration": 435,
    "start_time": "2021-06-22T06:17:13.317Z"
   },
   {
    "duration": 3,
    "start_time": "2021-06-22T06:17:13.755Z"
   },
   {
    "duration": 6695,
    "start_time": "2021-06-22T06:17:13.760Z"
   },
   {
    "duration": 10,
    "start_time": "2021-06-22T06:17:20.458Z"
   },
   {
    "duration": 29,
    "start_time": "2021-06-22T06:17:20.471Z"
   },
   {
    "duration": 297,
    "start_time": "2021-06-22T06:17:20.503Z"
   },
   {
    "duration": 72,
    "start_time": "2021-06-22T06:17:20.803Z"
   },
   {
    "duration": 10,
    "start_time": "2021-06-22T06:17:25.125Z"
   },
   {
    "duration": 800,
    "start_time": "2021-06-22T06:17:29.741Z"
   },
   {
    "duration": 135302,
    "start_time": "2021-06-22T06:17:31.328Z"
   },
   {
    "duration": 1968,
    "start_time": "2021-06-22T06:19:46.633Z"
   },
   {
    "duration": 701,
    "start_time": "2021-06-22T06:19:48.604Z"
   },
   {
    "duration": 26,
    "start_time": "2021-06-22T06:19:49.309Z"
   },
   {
    "duration": 6,
    "start_time": "2021-06-22T06:19:49.338Z"
   },
   {
    "duration": 5453,
    "start_time": "2021-06-22T06:19:49.347Z"
   },
   {
    "duration": 14016,
    "start_time": "2021-06-22T06:19:54.803Z"
   },
   {
    "duration": 335,
    "start_time": "2021-06-22T07:52:56.167Z"
   },
   {
    "duration": 275,
    "start_time": "2021-06-22T07:53:05.165Z"
   },
   {
    "duration": 1975,
    "start_time": "2021-06-22T19:38:30.576Z"
   },
   {
    "duration": 161,
    "start_time": "2021-06-22T19:38:32.554Z"
   },
   {
    "duration": 34,
    "start_time": "2021-06-22T19:38:32.718Z"
   },
   {
    "duration": 67,
    "start_time": "2021-06-22T19:38:32.755Z"
   },
   {
    "duration": 24,
    "start_time": "2021-06-22T19:38:32.824Z"
   },
   {
    "duration": 1618,
    "start_time": "2021-06-22T19:38:32.850Z"
   },
   {
    "duration": 5963,
    "start_time": "2021-06-22T19:38:34.470Z"
   },
   {
    "duration": 457,
    "start_time": "2021-06-22T19:38:40.436Z"
   },
   {
    "duration": 3,
    "start_time": "2021-06-22T19:38:40.897Z"
   },
   {
    "duration": 6731,
    "start_time": "2021-06-22T19:38:40.903Z"
   },
   {
    "duration": 9,
    "start_time": "2021-06-22T19:38:47.636Z"
   },
   {
    "duration": 25,
    "start_time": "2021-06-22T19:38:47.647Z"
   },
   {
    "duration": 202,
    "start_time": "2021-06-22T19:38:47.674Z"
   },
   {
    "duration": 161,
    "start_time": "2021-06-22T19:38:47.879Z"
   },
   {
    "duration": 34,
    "start_time": "2021-06-22T19:38:48.042Z"
   },
   {
    "duration": 710,
    "start_time": "2021-06-22T19:38:48.079Z"
   },
   {
    "duration": 138310,
    "start_time": "2021-06-22T19:38:48.791Z"
   },
   {
    "duration": 1766,
    "start_time": "2021-06-22T19:41:07.103Z"
   },
   {
    "duration": 695,
    "start_time": "2021-06-22T19:41:08.871Z"
   },
   {
    "duration": 19,
    "start_time": "2021-06-22T19:41:09.569Z"
   },
   {
    "duration": 5,
    "start_time": "2021-06-22T19:41:09.590Z"
   },
   {
    "duration": 5388,
    "start_time": "2021-06-22T19:41:09.598Z"
   },
   {
    "duration": 553,
    "start_time": "2021-06-22T19:41:14.988Z"
   },
   {
    "duration": 317,
    "start_time": "2021-06-22T19:46:11.374Z"
   },
   {
    "duration": 6,
    "start_time": "2021-06-22T19:46:22.207Z"
   },
   {
    "duration": 53,
    "start_time": "2021-06-22T19:46:23.945Z"
   },
   {
    "duration": 31,
    "start_time": "2021-06-22T19:46:24.892Z"
   },
   {
    "duration": 66,
    "start_time": "2021-06-22T19:46:28.743Z"
   },
   {
    "duration": 27,
    "start_time": "2021-06-22T19:46:29.846Z"
   },
   {
    "duration": 1600,
    "start_time": "2021-06-22T19:46:31.645Z"
   },
   {
    "duration": 445,
    "start_time": "2021-06-22T19:46:39.484Z"
   },
   {
    "duration": 3,
    "start_time": "2021-06-22T19:46:46.673Z"
   },
   {
    "duration": 501,
    "start_time": "2021-06-22T19:46:52.662Z"
   },
   {
    "duration": 6867,
    "start_time": "2021-06-22T19:47:06.698Z"
   },
   {
    "duration": 2009,
    "start_time": "2021-06-22T20:06:13.739Z"
   },
   {
    "duration": 37,
    "start_time": "2021-06-22T20:06:15.857Z"
   },
   {
    "duration": 37,
    "start_time": "2021-06-22T20:06:19.432Z"
   },
   {
    "duration": 4,
    "start_time": "2021-06-22T20:06:35.736Z"
   },
   {
    "duration": 11,
    "start_time": "2021-06-22T20:07:29.495Z"
   },
   {
    "duration": 13,
    "start_time": "2021-06-22T20:08:11.856Z"
   },
   {
    "duration": 661,
    "start_time": "2021-06-22T20:09:03.302Z"
   },
   {
    "duration": 6759,
    "start_time": "2021-06-22T20:09:39.016Z"
   },
   {
    "duration": 300,
    "start_time": "2021-06-22T20:09:57.626Z"
   },
   {
    "duration": 2051,
    "start_time": "2021-06-23T08:39:11.993Z"
   },
   {
    "duration": 40,
    "start_time": "2021-06-23T08:39:14.047Z"
   },
   {
    "duration": 34,
    "start_time": "2021-06-23T08:39:17.954Z"
   },
   {
    "duration": 25,
    "start_time": "2021-06-23T08:39:22.321Z"
   },
   {
    "duration": 599,
    "start_time": "2021-06-23T08:40:14.238Z"
   },
   {
    "duration": 586,
    "start_time": "2021-06-23T08:40:56.130Z"
   },
   {
    "duration": 593,
    "start_time": "2021-06-23T08:41:38.727Z"
   },
   {
    "duration": 434,
    "start_time": "2021-06-23T08:42:21.500Z"
   },
   {
    "duration": 4,
    "start_time": "2021-06-23T08:45:23.349Z"
   },
   {
    "duration": 3855,
    "start_time": "2021-06-23T08:47:36.769Z"
   },
   {
    "duration": 4,
    "start_time": "2021-06-23T08:48:38.237Z"
   },
   {
    "duration": 4738,
    "start_time": "2021-06-23T08:48:40.268Z"
   },
   {
    "duration": 4,
    "start_time": "2021-06-23T08:49:10.051Z"
   },
   {
    "duration": 5795,
    "start_time": "2021-06-23T08:49:11.006Z"
   },
   {
    "duration": 4,
    "start_time": "2021-06-23T08:53:35.599Z"
   },
   {
    "duration": 4565,
    "start_time": "2021-06-23T08:53:36.590Z"
   },
   {
    "duration": 4393,
    "start_time": "2021-06-23T08:54:42.826Z"
   },
   {
    "duration": 5,
    "start_time": "2021-06-23T09:01:35.822Z"
   },
   {
    "duration": 7,
    "start_time": "2021-06-23T09:11:17.068Z"
   },
   {
    "duration": 1081,
    "start_time": "2021-06-23T09:11:56.675Z"
   },
   {
    "duration": 5148,
    "start_time": "2021-06-23T09:13:04.890Z"
   },
   {
    "duration": 8,
    "start_time": "2021-06-23T09:18:16.145Z"
   },
   {
    "duration": 43,
    "start_time": "2021-06-23T09:18:16.157Z"
   },
   {
    "duration": 32,
    "start_time": "2021-06-23T09:18:16.204Z"
   },
   {
    "duration": 97,
    "start_time": "2021-06-23T09:18:16.239Z"
   },
   {
    "duration": 46,
    "start_time": "2021-06-23T09:18:16.339Z"
   },
   {
    "duration": 1630,
    "start_time": "2021-06-23T09:18:16.388Z"
   },
   {
    "duration": 5692,
    "start_time": "2021-06-23T09:18:18.021Z"
   },
   {
    "duration": 4,
    "start_time": "2021-06-23T09:18:23.716Z"
   },
   {
    "duration": 149,
    "start_time": "2021-06-23T09:18:23.727Z"
   },
   {
    "duration": 753,
    "start_time": "2021-06-23T09:18:23.886Z"
   },
   {
    "duration": 4844,
    "start_time": "2021-06-23T09:18:24.641Z"
   },
   {
    "duration": 3,
    "start_time": "2021-06-23T09:18:29.487Z"
   },
   {
    "duration": 4946,
    "start_time": "2021-06-23T09:18:29.492Z"
   },
   {
    "duration": 11,
    "start_time": "2021-06-23T09:18:34.442Z"
   },
   {
    "duration": 21,
    "start_time": "2021-06-23T09:18:34.455Z"
   },
   {
    "duration": 109,
    "start_time": "2021-06-23T09:18:34.486Z"
   },
   {
    "duration": 109,
    "start_time": "2021-06-23T09:18:34.687Z"
   },
   {
    "duration": 12,
    "start_time": "2021-06-23T09:18:34.799Z"
   },
   {
    "duration": 896,
    "start_time": "2021-06-23T09:18:34.814Z"
   },
   {
    "duration": 142059,
    "start_time": "2021-06-23T09:18:35.713Z"
   },
   {
    "duration": 1818,
    "start_time": "2021-06-23T09:20:57.774Z"
   },
   {
    "duration": 690,
    "start_time": "2021-06-23T09:20:59.594Z"
   },
   {
    "duration": 18,
    "start_time": "2021-06-23T09:21:00.287Z"
   },
   {
    "duration": 10,
    "start_time": "2021-06-23T09:21:00.308Z"
   },
   {
    "duration": 5280,
    "start_time": "2021-06-23T09:21:00.320Z"
   },
   {
    "duration": 530,
    "start_time": "2021-06-23T09:21:05.602Z"
   },
   {
    "duration": 311,
    "start_time": "2021-06-23T14:58:12.477Z"
   },
   {
    "duration": 24,
    "start_time": "2021-06-23T15:04:23.147Z"
   },
   {
    "duration": 32,
    "start_time": "2021-06-23T15:04:35.860Z"
   },
   {
    "duration": 325,
    "start_time": "2021-06-23T15:19:49.020Z"
   },
   {
    "duration": 380,
    "start_time": "2021-06-23T15:19:57.205Z"
   },
   {
    "duration": 10,
    "start_time": "2021-06-23T16:02:06.072Z"
   },
   {
    "duration": 25,
    "start_time": "2021-06-23T18:04:56.472Z"
   },
   {
    "duration": 27,
    "start_time": "2021-06-23T18:06:28.571Z"
   },
   {
    "duration": 32,
    "start_time": "2021-06-23T18:06:35.454Z"
   },
   {
    "duration": 6061,
    "start_time": "2021-06-23T18:11:33.335Z"
   },
   {
    "duration": 5372,
    "start_time": "2021-06-23T18:11:50.141Z"
   },
   {
    "duration": 5175,
    "start_time": "2021-06-23T18:11:58.556Z"
   },
   {
    "duration": 5017,
    "start_time": "2021-06-23T18:13:39.629Z"
   },
   {
    "duration": 5452,
    "start_time": "2021-06-23T18:15:26.525Z"
   },
   {
    "duration": 19,
    "start_time": "2021-06-23T18:20:41.815Z"
   },
   {
    "duration": 33,
    "start_time": "2021-06-23T18:21:00.157Z"
   },
   {
    "duration": 4,
    "start_time": "2021-06-23T18:23:48.626Z"
   },
   {
    "duration": 4,
    "start_time": "2021-06-23T18:27:08.857Z"
   },
   {
    "duration": 112,
    "start_time": "2021-06-23T18:27:42.821Z"
   },
   {
    "duration": 371,
    "start_time": "2021-06-23T18:27:48.572Z"
   },
   {
    "duration": 7,
    "start_time": "2021-06-23T18:28:03.083Z"
   },
   {
    "duration": 35,
    "start_time": "2021-06-23T18:28:05.033Z"
   },
   {
    "duration": 21,
    "start_time": "2021-06-23T18:28:08.831Z"
   },
   {
    "duration": 5,
    "start_time": "2021-06-23T18:28:10.349Z"
   },
   {
    "duration": 40,
    "start_time": "2021-06-23T18:28:13.238Z"
   },
   {
    "duration": 289,
    "start_time": "2021-06-23T18:28:55.279Z"
   },
   {
    "duration": 42,
    "start_time": "2021-06-23T18:29:02.173Z"
   },
   {
    "duration": 5,
    "start_time": "2021-06-23T18:30:11.500Z"
   },
   {
    "duration": 1664,
    "start_time": "2021-06-23T18:56:11.475Z"
   },
   {
    "duration": 787,
    "start_time": "2021-06-23T18:56:34.586Z"
   },
   {
    "duration": 1642,
    "start_time": "2021-06-23T18:56:52.808Z"
   },
   {
    "duration": 1279,
    "start_time": "2021-06-23T19:13:30.456Z"
   },
   {
    "duration": 2138,
    "start_time": "2021-06-24T06:07:53.154Z"
   },
   {
    "duration": 31,
    "start_time": "2021-06-24T06:07:55.295Z"
   },
   {
    "duration": 43,
    "start_time": "2021-06-24T06:07:55.329Z"
   },
   {
    "duration": 6,
    "start_time": "2021-06-24T06:07:55.376Z"
   },
   {
    "duration": 43,
    "start_time": "2021-06-24T06:07:55.384Z"
   },
   {
    "duration": 70,
    "start_time": "2021-06-24T06:07:55.429Z"
   },
   {
    "duration": 24,
    "start_time": "2021-06-24T06:07:55.502Z"
   },
   {
    "duration": 35,
    "start_time": "2021-06-24T06:07:55.528Z"
   },
   {
    "duration": 5012,
    "start_time": "2021-06-24T06:07:55.567Z"
   },
   {
    "duration": 4661,
    "start_time": "2021-06-24T06:08:00.582Z"
   },
   {
    "duration": 1845,
    "start_time": "2021-06-24T06:08:05.245Z"
   },
   {
    "duration": 12,
    "start_time": "2021-06-24T06:08:07.093Z"
   },
   {
    "duration": 7,
    "start_time": "2021-06-24T06:08:07.107Z"
   },
   {
    "duration": 245,
    "start_time": "2021-06-24T06:08:07.117Z"
   },
   {
    "duration": 99,
    "start_time": "2021-06-24T06:08:07.366Z"
   },
   {
    "duration": 13,
    "start_time": "2021-06-24T06:08:07.468Z"
   },
   {
    "duration": 819,
    "start_time": "2021-06-24T06:08:07.483Z"
   },
   {
    "duration": 143808,
    "start_time": "2021-06-24T06:08:08.304Z"
   },
   {
    "duration": 1766,
    "start_time": "2021-06-24T06:10:32.114Z"
   },
   {
    "duration": 746,
    "start_time": "2021-06-24T06:10:33.882Z"
   },
   {
    "duration": 18,
    "start_time": "2021-06-24T06:10:34.631Z"
   },
   {
    "duration": 5,
    "start_time": "2021-06-24T06:10:34.662Z"
   },
   {
    "duration": 523,
    "start_time": "2021-06-24T06:10:34.669Z"
   },
   {
    "duration": -81,
    "start_time": "2021-06-24T06:10:35.275Z"
   },
   {
    "duration": -84,
    "start_time": "2021-06-24T06:10:35.280Z"
   },
   {
    "duration": 332,
    "start_time": "2021-06-24T06:20:05.637Z"
   },
   {
    "duration": 831,
    "start_time": "2021-06-24T06:20:37.609Z"
   },
   {
    "duration": 112,
    "start_time": "2021-06-24T06:21:21.864Z"
   },
   {
    "duration": 8449,
    "start_time": "2021-06-24T06:21:27.787Z"
   },
   {
    "duration": 33,
    "start_time": "2021-06-24T06:25:48.239Z"
   },
   {
    "duration": 439,
    "start_time": "2021-06-24T06:25:50.277Z"
   },
   {
    "duration": 34,
    "start_time": "2021-06-24T06:26:32.760Z"
   },
   {
    "duration": 2116,
    "start_time": "2021-06-24T06:27:17.190Z"
   },
   {
    "duration": 33,
    "start_time": "2021-06-24T06:27:19.309Z"
   },
   {
    "duration": 37,
    "start_time": "2021-06-24T06:27:19.346Z"
   },
   {
    "duration": 5,
    "start_time": "2021-06-24T06:27:19.387Z"
   },
   {
    "duration": 73,
    "start_time": "2021-06-24T06:27:19.395Z"
   },
   {
    "duration": 43,
    "start_time": "2021-06-24T06:27:19.470Z"
   },
   {
    "duration": 49,
    "start_time": "2021-06-24T06:27:19.515Z"
   },
   {
    "duration": 7,
    "start_time": "2021-06-24T06:27:19.568Z"
   },
   {
    "duration": 4717,
    "start_time": "2021-06-24T06:27:19.578Z"
   },
   {
    "duration": 4607,
    "start_time": "2021-06-24T06:27:24.297Z"
   },
   {
    "duration": 1762,
    "start_time": "2021-06-24T06:27:28.907Z"
   },
   {
    "duration": 9,
    "start_time": "2021-06-24T06:27:30.671Z"
   },
   {
    "duration": 20,
    "start_time": "2021-06-24T06:27:30.683Z"
   },
   {
    "duration": 165,
    "start_time": "2021-06-24T06:27:30.705Z"
   },
   {
    "duration": 75,
    "start_time": "2021-06-24T06:27:30.962Z"
   },
   {
    "duration": 31,
    "start_time": "2021-06-24T06:27:31.039Z"
   },
   {
    "duration": 835,
    "start_time": "2021-06-24T06:27:31.072Z"
   },
   {
    "duration": 147548,
    "start_time": "2021-06-24T06:27:31.909Z"
   },
   {
    "duration": 1702,
    "start_time": "2021-06-24T06:29:59.460Z"
   },
   {
    "duration": 684,
    "start_time": "2021-06-24T06:30:01.164Z"
   },
   {
    "duration": 25,
    "start_time": "2021-06-24T06:30:01.850Z"
   },
   {
    "duration": 22,
    "start_time": "2021-06-24T06:30:01.877Z"
   },
   {
    "duration": 4441,
    "start_time": "2021-06-24T06:30:01.903Z"
   },
   {
    "duration": 53,
    "start_time": "2021-06-24T06:30:06.348Z"
   },
   {
    "duration": 474,
    "start_time": "2021-06-24T12:45:31.344Z"
   },
   {
    "duration": 1187,
    "start_time": "2021-06-24T12:59:03.320Z"
   },
   {
    "duration": 776,
    "start_time": "2021-06-24T12:59:44.893Z"
   },
   {
    "duration": 577,
    "start_time": "2021-06-24T13:00:17.818Z"
   },
   {
    "duration": 8974,
    "start_time": "2021-06-24T13:04:59.978Z"
   },
   {
    "duration": 318,
    "start_time": "2021-06-24T18:23:54.152Z"
   },
   {
    "duration": 2275,
    "start_time": "2021-06-24T18:27:55.576Z"
   },
   {
    "duration": 52,
    "start_time": "2021-06-24T18:27:57.854Z"
   },
   {
    "duration": 27,
    "start_time": "2021-06-24T18:27:57.910Z"
   },
   {
    "duration": 4,
    "start_time": "2021-06-24T18:27:57.940Z"
   },
   {
    "duration": 78,
    "start_time": "2021-06-24T18:27:57.947Z"
   },
   {
    "duration": 39,
    "start_time": "2021-06-24T18:27:58.028Z"
   },
   {
    "duration": 53,
    "start_time": "2021-06-24T18:27:58.069Z"
   },
   {
    "duration": 8,
    "start_time": "2021-06-24T18:27:58.125Z"
   },
   {
    "duration": 4787,
    "start_time": "2021-06-24T18:27:58.136Z"
   },
   {
    "duration": 4957,
    "start_time": "2021-06-24T18:28:02.926Z"
   },
   {
    "duration": 1800,
    "start_time": "2021-06-24T18:28:07.886Z"
   },
   {
    "duration": 19,
    "start_time": "2021-06-24T18:28:09.688Z"
   },
   {
    "duration": 8,
    "start_time": "2021-06-24T18:28:09.711Z"
   },
   {
    "duration": 189,
    "start_time": "2021-06-24T18:28:09.722Z"
   },
   {
    "duration": 74,
    "start_time": "2021-06-24T18:28:10.002Z"
   },
   {
    "duration": 31,
    "start_time": "2021-06-24T18:28:10.079Z"
   },
   {
    "duration": 836,
    "start_time": "2021-06-24T18:28:10.114Z"
   },
   {
    "duration": 147269,
    "start_time": "2021-06-24T18:28:10.953Z"
   },
   {
    "duration": 1492,
    "start_time": "2021-06-24T18:30:38.224Z"
   },
   {
    "duration": 690,
    "start_time": "2021-06-24T18:30:39.802Z"
   },
   {
    "duration": 29,
    "start_time": "2021-06-24T18:30:40.494Z"
   },
   {
    "duration": 5,
    "start_time": "2021-06-24T18:30:40.525Z"
   },
   {
    "duration": 4879,
    "start_time": "2021-06-24T18:30:40.535Z"
   },
   {
    "duration": 421,
    "start_time": "2021-06-24T18:30:45.418Z"
   },
   {
    "duration": -190,
    "start_time": "2021-06-24T18:30:46.033Z"
   },
   {
    "duration": -194,
    "start_time": "2021-06-24T18:30:46.039Z"
   },
   {
    "duration": 872,
    "start_time": "2021-06-24T18:53:11.243Z"
   },
   {
    "duration": 12,
    "start_time": "2021-06-24T18:53:27.479Z"
   },
   {
    "duration": 1711,
    "start_time": "2021-06-24T18:54:01.101Z"
   },
   {
    "duration": 1429,
    "start_time": "2021-06-24T18:54:19.175Z"
   },
   {
    "duration": 674,
    "start_time": "2021-06-24T18:54:26.521Z"
   },
   {
    "duration": 282,
    "start_time": "2021-06-24T18:55:00.278Z"
   },
   {
    "duration": 15,
    "start_time": "2021-06-24T18:55:16.898Z"
   },
   {
    "duration": 15,
    "start_time": "2021-06-24T18:56:03.813Z"
   },
   {
    "duration": 15,
    "start_time": "2021-06-24T18:56:07.780Z"
   },
   {
    "duration": 17,
    "start_time": "2021-06-24T18:56:42.764Z"
   },
   {
    "duration": 15,
    "start_time": "2021-06-24T18:57:25.608Z"
   },
   {
    "duration": 15,
    "start_time": "2021-06-24T18:57:37.889Z"
   },
   {
    "duration": 16,
    "start_time": "2021-06-24T18:57:42.219Z"
   },
   {
    "duration": 9,
    "start_time": "2021-06-24T18:59:42.745Z"
   },
   {
    "duration": 949,
    "start_time": "2021-06-24T18:59:46.209Z"
   },
   {
    "duration": 1233,
    "start_time": "2021-06-24T19:02:33.603Z"
   },
   {
    "duration": 549,
    "start_time": "2021-06-24T19:04:02.835Z"
   },
   {
    "duration": 6679,
    "start_time": "2021-06-24T19:05:15.350Z"
   },
   {
    "duration": 422,
    "start_time": "2021-06-24T19:05:26.004Z"
   },
   {
    "duration": 570,
    "start_time": "2021-06-24T19:05:52.360Z"
   },
   {
    "duration": 391,
    "start_time": "2021-06-24T19:06:25.548Z"
   },
   {
    "duration": 533,
    "start_time": "2021-06-24T19:06:58.873Z"
   },
   {
    "duration": 414,
    "start_time": "2021-06-24T19:07:41.971Z"
   },
   {
    "duration": 86,
    "start_time": "2021-06-24T19:17:16.400Z"
   },
   {
    "duration": 284,
    "start_time": "2021-06-24T19:17:23.330Z"
   },
   {
    "duration": 268,
    "start_time": "2021-06-24T19:18:53.872Z"
   },
   {
    "duration": 6,
    "start_time": "2021-06-24T19:19:45.642Z"
   },
   {
    "duration": 266,
    "start_time": "2021-06-24T19:19:45.651Z"
   },
   {
    "duration": 4,
    "start_time": "2021-06-24T19:20:21.072Z"
   },
   {
    "duration": 351,
    "start_time": "2021-06-24T19:20:21.951Z"
   },
   {
    "duration": 57,
    "start_time": "2021-06-24T19:20:50.835Z"
   },
   {
    "duration": 2010,
    "start_time": "2021-06-24T19:20:59.731Z"
   },
   {
    "duration": 1864,
    "start_time": "2021-06-24T19:22:40.940Z"
   },
   {
    "duration": 6,
    "start_time": "2021-06-24T19:23:13.845Z"
   },
   {
    "duration": 289,
    "start_time": "2021-06-24T19:23:22.531Z"
   },
   {
    "duration": 9,
    "start_time": "2021-06-24T19:23:36.829Z"
   },
   {
    "duration": 1871,
    "start_time": "2021-06-24T19:25:11.015Z"
   },
   {
    "duration": 6,
    "start_time": "2021-06-24T19:26:42.442Z"
   },
   {
    "duration": 2054,
    "start_time": "2021-06-24T19:27:23.092Z"
   },
   {
    "duration": 1612,
    "start_time": "2021-06-24T19:27:30.992Z"
   },
   {
    "duration": 562,
    "start_time": "2021-06-24T19:33:44.089Z"
   },
   {
    "duration": 33,
    "start_time": "2021-06-24T19:34:31.388Z"
   },
   {
    "duration": 354,
    "start_time": "2021-06-24T19:34:33.767Z"
   },
   {
    "duration": 516,
    "start_time": "2021-06-24T19:35:06.474Z"
   },
   {
    "duration": 108590,
    "start_time": "2021-06-25T10:34:49.087Z"
   },
   {
    "duration": 31,
    "start_time": "2021-06-25T10:36:37.680Z"
   },
   {
    "duration": 74,
    "start_time": "2021-06-25T10:36:37.714Z"
   },
   {
    "duration": 4,
    "start_time": "2021-06-25T10:36:37.790Z"
   },
   {
    "duration": 94,
    "start_time": "2021-06-25T10:36:37.797Z"
   },
   {
    "duration": 90,
    "start_time": "2021-06-25T10:36:37.893Z"
   },
   {
    "duration": 23,
    "start_time": "2021-06-25T10:36:37.985Z"
   },
   {
    "duration": 57,
    "start_time": "2021-06-25T10:36:38.011Z"
   },
   {
    "duration": 4971,
    "start_time": "2021-06-25T10:36:38.071Z"
   },
   {
    "duration": 5379,
    "start_time": "2021-06-25T10:36:43.044Z"
   },
   {
    "duration": 1906,
    "start_time": "2021-06-25T10:36:48.426Z"
   },
   {
    "duration": 10,
    "start_time": "2021-06-25T10:36:50.334Z"
   },
   {
    "duration": 9,
    "start_time": "2021-06-25T10:36:50.347Z"
   },
   {
    "duration": 1509,
    "start_time": "2021-06-25T10:36:50.359Z"
   },
   {
    "duration": 622,
    "start_time": "2021-06-25T10:36:51.870Z"
   },
   {
    "duration": 12,
    "start_time": "2021-06-25T10:36:52.495Z"
   },
   {
    "duration": 1040,
    "start_time": "2021-06-25T10:36:52.509Z"
   },
   {
    "duration": 139803,
    "start_time": "2021-06-25T10:36:53.551Z"
   },
   {
    "duration": 1824,
    "start_time": "2021-06-25T10:39:13.356Z"
   },
   {
    "duration": 776,
    "start_time": "2021-06-25T10:39:15.183Z"
   },
   {
    "duration": 19,
    "start_time": "2021-06-25T10:39:15.961Z"
   },
   {
    "duration": 14,
    "start_time": "2021-06-25T10:39:15.983Z"
   },
   {
    "duration": 4,
    "start_time": "2021-06-25T10:39:16.002Z"
   },
   {
    "duration": 4938,
    "start_time": "2021-06-25T10:39:16.008Z"
   },
   {
    "duration": 45,
    "start_time": "2021-06-25T10:39:20.949Z"
   },
   {
    "duration": 1171,
    "start_time": "2021-06-25T10:39:20.996Z"
   },
   {
    "duration": 4,
    "start_time": "2021-06-25T12:42:42.814Z"
   },
   {
    "duration": 1250,
    "start_time": "2021-06-25T12:42:43.418Z"
   },
   {
    "duration": 302,
    "start_time": "2021-06-25T17:24:03.586Z"
   },
   {
    "duration": 2048,
    "start_time": "2021-06-25T17:24:08.847Z"
   },
   {
    "duration": 35,
    "start_time": "2021-06-25T17:24:10.898Z"
   },
   {
    "duration": 33,
    "start_time": "2021-06-25T17:24:10.937Z"
   },
   {
    "duration": 20,
    "start_time": "2021-06-25T17:24:10.974Z"
   },
   {
    "duration": 5,
    "start_time": "2021-06-25T17:24:10.997Z"
   },
   {
    "duration": 69,
    "start_time": "2021-06-25T17:24:11.005Z"
   },
   {
    "duration": 39,
    "start_time": "2021-06-25T17:24:11.076Z"
   },
   {
    "duration": 49,
    "start_time": "2021-06-25T17:24:11.117Z"
   },
   {
    "duration": 7,
    "start_time": "2021-06-25T17:24:11.170Z"
   },
   {
    "duration": 4527,
    "start_time": "2021-06-25T17:24:11.180Z"
   },
   {
    "duration": 4288,
    "start_time": "2021-06-25T17:24:15.710Z"
   },
   {
    "duration": 1681,
    "start_time": "2021-06-25T17:24:20.000Z"
   },
   {
    "duration": 9,
    "start_time": "2021-06-25T17:24:21.684Z"
   },
   {
    "duration": 12,
    "start_time": "2021-06-25T17:24:21.696Z"
   },
   {
    "duration": 21,
    "start_time": "2021-06-25T17:24:21.710Z"
   },
   {
    "duration": 222,
    "start_time": "2021-06-25T17:24:21.733Z"
   },
   {
    "duration": 70,
    "start_time": "2021-06-25T17:24:21.957Z"
   },
   {
    "duration": 29,
    "start_time": "2021-06-25T17:24:22.029Z"
   },
   {
    "duration": 814,
    "start_time": "2021-06-25T17:24:22.060Z"
   },
   {
    "duration": 146354,
    "start_time": "2021-06-25T17:24:22.876Z"
   },
   {
    "duration": 1930,
    "start_time": "2021-06-25T17:26:49.233Z"
   },
   {
    "duration": 691,
    "start_time": "2021-06-25T17:26:51.165Z"
   },
   {
    "duration": 16,
    "start_time": "2021-06-25T17:26:51.859Z"
   },
   {
    "duration": 102,
    "start_time": "2021-06-25T17:26:51.878Z"
   },
   {
    "duration": 11,
    "start_time": "2021-06-25T17:26:51.983Z"
   },
   {
    "duration": 4390,
    "start_time": "2021-06-25T17:26:51.997Z"
   },
   {
    "duration": 33,
    "start_time": "2021-06-25T17:26:56.392Z"
   },
   {
    "duration": 1190,
    "start_time": "2021-06-25T17:26:56.427Z"
   },
   {
    "duration": 1852,
    "start_time": "2021-06-25T17:30:04.005Z"
   },
   {
    "duration": 655,
    "start_time": "2021-06-25T18:03:57.485Z"
   },
   {
    "duration": 15,
    "start_time": "2021-06-25T18:04:11.034Z"
   },
   {
    "duration": 14,
    "start_time": "2021-06-25T18:04:20.143Z"
   },
   {
    "duration": 6,
    "start_time": "2021-06-25T18:05:29.094Z"
   },
   {
    "duration": 13,
    "start_time": "2021-06-25T18:08:46.263Z"
   },
   {
    "duration": 1834,
    "start_time": "2021-06-25T18:34:44.040Z"
   },
   {
    "duration": 6,
    "start_time": "2021-06-25T18:37:05.582Z"
   },
   {
    "duration": 1966,
    "start_time": "2021-06-25T18:37:09.150Z"
   },
   {
    "duration": 7,
    "start_time": "2021-06-25T19:02:37.663Z"
   },
   {
    "duration": 38,
    "start_time": "2021-06-25T19:02:37.673Z"
   },
   {
    "duration": 19,
    "start_time": "2021-06-25T19:02:37.714Z"
   },
   {
    "duration": 31,
    "start_time": "2021-06-25T19:02:37.736Z"
   },
   {
    "duration": 5,
    "start_time": "2021-06-25T19:02:37.769Z"
   },
   {
    "duration": 45,
    "start_time": "2021-06-25T19:02:37.776Z"
   },
   {
    "duration": 40,
    "start_time": "2021-06-25T19:02:37.855Z"
   },
   {
    "duration": 24,
    "start_time": "2021-06-25T19:02:37.899Z"
   },
   {
    "duration": 32,
    "start_time": "2021-06-25T19:02:37.926Z"
   },
   {
    "duration": 4651,
    "start_time": "2021-06-25T19:02:37.960Z"
   },
   {
    "duration": 4510,
    "start_time": "2021-06-25T19:02:42.613Z"
   },
   {
    "duration": 4,
    "start_time": "2021-06-25T19:02:47.126Z"
   },
   {
    "duration": 1746,
    "start_time": "2021-06-25T19:02:47.133Z"
   },
   {
    "duration": 10,
    "start_time": "2021-06-25T19:02:48.882Z"
   },
   {
    "duration": 6,
    "start_time": "2021-06-25T19:02:48.895Z"
   },
   {
    "duration": 7,
    "start_time": "2021-06-25T19:02:48.903Z"
   },
   {
    "duration": 150,
    "start_time": "2021-06-25T19:02:48.912Z"
   },
   {
    "duration": 200,
    "start_time": "2021-06-25T19:02:49.066Z"
   },
   {
    "duration": 10,
    "start_time": "2021-06-25T19:02:49.269Z"
   },
   {
    "duration": 903,
    "start_time": "2021-06-25T19:02:49.281Z"
   },
   {
    "duration": 139527,
    "start_time": "2021-06-25T19:02:50.187Z"
   },
   {
    "duration": 1742,
    "start_time": "2021-06-25T19:05:09.716Z"
   },
   {
    "duration": 679,
    "start_time": "2021-06-25T19:05:11.463Z"
   },
   {
    "duration": 463,
    "start_time": "2021-06-25T19:05:12.145Z"
   },
   {
    "duration": -22,
    "start_time": "2021-06-25T19:05:12.632Z"
   },
   {
    "duration": -25,
    "start_time": "2021-06-25T19:05:12.637Z"
   },
   {
    "duration": -27,
    "start_time": "2021-06-25T19:05:12.640Z"
   },
   {
    "duration": -28,
    "start_time": "2021-06-25T19:05:12.642Z"
   },
   {
    "duration": -30,
    "start_time": "2021-06-25T19:05:12.645Z"
   },
   {
    "duration": 270,
    "start_time": "2021-06-25T19:06:40.911Z"
   },
   {
    "duration": 4,
    "start_time": "2021-06-25T19:06:46.279Z"
   },
   {
    "duration": 271,
    "start_time": "2021-06-25T19:06:47.258Z"
   },
   {
    "duration": 6,
    "start_time": "2021-06-25T19:06:58.976Z"
   },
   {
    "duration": 291,
    "start_time": "2021-06-25T19:07:00.745Z"
   },
   {
    "duration": 6,
    "start_time": "2021-06-25T19:07:26.432Z"
   },
   {
    "duration": 5,
    "start_time": "2021-06-25T19:07:28.628Z"
   },
   {
    "duration": 2687,
    "start_time": "2021-06-25T19:07:29.951Z"
   },
   {
    "duration": 13,
    "start_time": "2021-06-25T19:07:39.166Z"
   },
   {
    "duration": 6,
    "start_time": "2021-06-25T19:07:39.737Z"
   },
   {
    "duration": 4,
    "start_time": "2021-06-25T19:07:41.770Z"
   },
   {
    "duration": 154,
    "start_time": "2021-06-25T19:07:43.906Z"
   },
   {
    "duration": 107,
    "start_time": "2021-06-25T19:08:51.935Z"
   },
   {
    "duration": 15,
    "start_time": "2021-06-25T19:08:55.138Z"
   },
   {
    "duration": 1277,
    "start_time": "2021-06-25T19:08:56.625Z"
   },
   {
    "duration": 1428,
    "start_time": "2021-06-25T19:09:00.737Z"
   },
   {
    "duration": 753,
    "start_time": "2021-06-25T19:09:02.497Z"
   },
   {
    "duration": 266,
    "start_time": "2021-06-25T19:09:04.065Z"
   },
   {
    "duration": 268,
    "start_time": "2021-06-25T19:09:07.753Z"
   },
   {
    "duration": 9,
    "start_time": "2021-06-25T19:09:31.144Z"
   },
   {
    "duration": 41,
    "start_time": "2021-06-25T19:09:31.156Z"
   },
   {
    "duration": 23,
    "start_time": "2021-06-25T19:09:31.202Z"
   },
   {
    "duration": 14,
    "start_time": "2021-06-25T19:09:31.256Z"
   },
   {
    "duration": 6,
    "start_time": "2021-06-25T19:09:31.273Z"
   },
   {
    "duration": 74,
    "start_time": "2021-06-25T19:09:31.282Z"
   },
   {
    "duration": 41,
    "start_time": "2021-06-25T19:09:31.359Z"
   },
   {
    "duration": 52,
    "start_time": "2021-06-25T19:09:31.406Z"
   },
   {
    "duration": 6,
    "start_time": "2021-06-25T19:09:31.462Z"
   },
   {
    "duration": 4767,
    "start_time": "2021-06-25T19:09:31.471Z"
   },
   {
    "duration": 4379,
    "start_time": "2021-06-25T19:09:36.242Z"
   },
   {
    "duration": 5,
    "start_time": "2021-06-25T19:09:40.624Z"
   },
   {
    "duration": 1714,
    "start_time": "2021-06-25T19:09:40.631Z"
   },
   {
    "duration": 10,
    "start_time": "2021-06-25T19:09:42.354Z"
   },
   {
    "duration": 10,
    "start_time": "2021-06-25T19:09:42.366Z"
   },
   {
    "duration": 8,
    "start_time": "2021-06-25T19:09:42.378Z"
   },
   {
    "duration": 174,
    "start_time": "2021-06-25T19:09:42.389Z"
   },
   {
    "duration": 156,
    "start_time": "2021-06-25T19:09:42.566Z"
   },
   {
    "duration": 30,
    "start_time": "2021-06-25T19:09:42.724Z"
   },
   {
    "duration": 806,
    "start_time": "2021-06-25T19:09:42.757Z"
   },
   {
    "duration": 137441,
    "start_time": "2021-06-25T19:09:43.565Z"
   },
   {
    "duration": 1659,
    "start_time": "2021-06-25T19:12:01.009Z"
   },
   {
    "duration": 669,
    "start_time": "2021-06-25T19:12:02.757Z"
   },
   {
    "duration": 397,
    "start_time": "2021-06-25T19:12:03.429Z"
   },
   {
    "duration": 104,
    "start_time": "2021-06-25T19:12:03.725Z"
   },
   {
    "duration": -17,
    "start_time": "2021-06-25T19:12:03.847Z"
   },
   {
    "duration": -19,
    "start_time": "2021-06-25T19:12:03.851Z"
   },
   {
    "duration": -23,
    "start_time": "2021-06-25T19:12:03.856Z"
   },
   {
    "duration": -24,
    "start_time": "2021-06-25T19:12:03.859Z"
   },
   {
    "duration": 19,
    "start_time": "2021-06-25T19:18:14.683Z"
   },
   {
    "duration": 4,
    "start_time": "2021-06-25T19:18:45.259Z"
   },
   {
    "duration": 18,
    "start_time": "2021-06-25T19:18:54.842Z"
   },
   {
    "duration": 276,
    "start_time": "2021-06-25T19:18:57.645Z"
   },
   {
    "duration": 6,
    "start_time": "2021-06-25T19:19:37.912Z"
   },
   {
    "duration": 41,
    "start_time": "2021-06-25T19:19:37.922Z"
   },
   {
    "duration": 19,
    "start_time": "2021-06-25T19:19:37.966Z"
   },
   {
    "duration": 16,
    "start_time": "2021-06-25T19:19:37.988Z"
   },
   {
    "duration": 5,
    "start_time": "2021-06-25T19:19:38.007Z"
   },
   {
    "duration": 60,
    "start_time": "2021-06-25T19:19:38.056Z"
   },
   {
    "duration": 83,
    "start_time": "2021-06-25T19:19:38.119Z"
   },
   {
    "duration": 51,
    "start_time": "2021-06-25T19:19:38.205Z"
   },
   {
    "duration": 10,
    "start_time": "2021-06-25T19:19:38.262Z"
   },
   {
    "duration": 6565,
    "start_time": "2021-06-25T19:19:38.277Z"
   },
   {
    "duration": 4544,
    "start_time": "2021-06-25T19:19:44.844Z"
   },
   {
    "duration": 5,
    "start_time": "2021-06-25T19:19:49.391Z"
   },
   {
    "duration": 1759,
    "start_time": "2021-06-25T19:19:49.398Z"
   },
   {
    "duration": 9,
    "start_time": "2021-06-25T19:19:51.160Z"
   },
   {
    "duration": 8,
    "start_time": "2021-06-25T19:19:51.171Z"
   },
   {
    "duration": 6,
    "start_time": "2021-06-25T19:19:51.182Z"
   },
   {
    "duration": 170,
    "start_time": "2021-06-25T19:19:51.191Z"
   },
   {
    "duration": 72,
    "start_time": "2021-06-25T19:19:51.454Z"
   },
   {
    "duration": 27,
    "start_time": "2021-06-25T19:19:51.528Z"
   },
   {
    "duration": 803,
    "start_time": "2021-06-25T19:19:51.557Z"
   },
   {
    "duration": 153855,
    "start_time": "2021-06-25T19:19:52.362Z"
   },
   {
    "duration": 1843,
    "start_time": "2021-06-25T19:22:26.220Z"
   },
   {
    "duration": 684,
    "start_time": "2021-06-25T19:22:28.065Z"
   },
   {
    "duration": 17,
    "start_time": "2021-06-25T19:22:28.754Z"
   },
   {
    "duration": 327,
    "start_time": "2021-06-25T19:22:28.774Z"
   },
   {
    "duration": 94,
    "start_time": "2021-06-25T19:22:29.010Z"
   },
   {
    "duration": 92,
    "start_time": "2021-06-25T19:22:29.014Z"
   },
   {
    "duration": 91,
    "start_time": "2021-06-25T19:22:29.016Z"
   },
   {
    "duration": 87,
    "start_time": "2021-06-25T19:22:29.021Z"
   },
   {
    "duration": 85,
    "start_time": "2021-06-25T19:22:29.025Z"
   },
   {
    "duration": 26,
    "start_time": "2021-06-25T19:25:55.999Z"
   },
   {
    "duration": 18,
    "start_time": "2021-06-25T19:26:04.345Z"
   },
   {
    "duration": 1904,
    "start_time": "2021-06-25T19:26:35.380Z"
   },
   {
    "duration": 28,
    "start_time": "2021-06-25T19:26:46.228Z"
   },
   {
    "duration": 252,
    "start_time": "2021-06-25T19:26:48.600Z"
   },
   {
    "duration": 2751,
    "start_time": "2021-06-25T19:27:28.247Z"
   },
   {
    "duration": 43,
    "start_time": "2021-06-25T19:27:31.002Z"
   },
   {
    "duration": 36,
    "start_time": "2021-06-25T19:27:31.054Z"
   },
   {
    "duration": 19,
    "start_time": "2021-06-25T19:27:31.094Z"
   },
   {
    "duration": 37,
    "start_time": "2021-06-25T19:27:31.117Z"
   },
   {
    "duration": 72,
    "start_time": "2021-06-25T19:27:31.158Z"
   },
   {
    "duration": 67,
    "start_time": "2021-06-25T19:27:31.234Z"
   },
   {
    "duration": 52,
    "start_time": "2021-06-25T19:27:31.305Z"
   },
   {
    "duration": 11,
    "start_time": "2021-06-25T19:27:31.364Z"
   },
   {
    "duration": 7495,
    "start_time": "2021-06-25T19:27:31.379Z"
   },
   {
    "duration": 4709,
    "start_time": "2021-06-25T19:27:38.877Z"
   },
   {
    "duration": 1768,
    "start_time": "2021-06-25T19:27:43.589Z"
   },
   {
    "duration": 11,
    "start_time": "2021-06-25T19:27:45.360Z"
   },
   {
    "duration": 11,
    "start_time": "2021-06-25T19:27:45.375Z"
   },
   {
    "duration": 9,
    "start_time": "2021-06-25T19:27:45.389Z"
   },
   {
    "duration": 157,
    "start_time": "2021-06-25T19:27:45.400Z"
   },
   {
    "duration": 156,
    "start_time": "2021-06-25T19:27:45.560Z"
   },
   {
    "duration": 10,
    "start_time": "2021-06-25T19:27:45.718Z"
   },
   {
    "duration": 961,
    "start_time": "2021-06-25T19:27:45.732Z"
   },
   {
    "duration": 27803,
    "start_time": "2021-06-26T15:20:45.972Z"
   },
   {
    "duration": 33,
    "start_time": "2021-06-26T15:21:13.778Z"
   },
   {
    "duration": 24,
    "start_time": "2021-06-26T15:21:13.814Z"
   },
   {
    "duration": 14,
    "start_time": "2021-06-26T15:21:13.841Z"
   },
   {
    "duration": 5,
    "start_time": "2021-06-26T15:21:13.857Z"
   },
   {
    "duration": 78,
    "start_time": "2021-06-26T15:21:13.864Z"
   },
   {
    "duration": 59,
    "start_time": "2021-06-26T15:21:13.944Z"
   },
   {
    "duration": 24,
    "start_time": "2021-06-26T15:21:14.006Z"
   },
   {
    "duration": 8,
    "start_time": "2021-06-26T15:21:14.033Z"
   },
   {
    "duration": 4711,
    "start_time": "2021-06-26T15:21:14.043Z"
   },
   {
    "duration": 4710,
    "start_time": "2021-06-26T15:21:18.757Z"
   },
   {
    "duration": 1683,
    "start_time": "2021-06-26T15:21:23.470Z"
   },
   {
    "duration": 12,
    "start_time": "2021-06-26T15:21:25.156Z"
   },
   {
    "duration": 31,
    "start_time": "2021-06-26T15:21:25.170Z"
   },
   {
    "duration": 8,
    "start_time": "2021-06-26T15:21:25.204Z"
   },
   {
    "duration": 188,
    "start_time": "2021-06-26T15:21:25.214Z"
   },
   {
    "duration": 158,
    "start_time": "2021-06-26T15:21:25.406Z"
   },
   {
    "duration": 9,
    "start_time": "2021-06-26T15:21:25.567Z"
   },
   {
    "duration": 808,
    "start_time": "2021-06-26T15:21:25.578Z"
   },
   {
    "duration": 136816,
    "start_time": "2021-06-26T15:21:26.388Z"
   },
   {
    "duration": 1901,
    "start_time": "2021-06-26T15:23:43.207Z"
   },
   {
    "duration": 665,
    "start_time": "2021-06-26T15:23:45.111Z"
   },
   {
    "duration": 28,
    "start_time": "2021-06-26T15:23:45.782Z"
   },
   {
    "duration": 17,
    "start_time": "2021-06-26T15:23:45.813Z"
   },
   {
    "duration": 15,
    "start_time": "2021-06-26T15:23:45.832Z"
   },
   {
    "duration": 11,
    "start_time": "2021-06-26T15:23:45.849Z"
   },
   {
    "duration": 4392,
    "start_time": "2021-06-26T15:23:45.862Z"
   },
   {
    "duration": 48,
    "start_time": "2021-06-26T15:23:50.257Z"
   },
   {
    "duration": 1123,
    "start_time": "2021-06-26T15:23:50.308Z"
   }
  ],
  "kernelspec": {
   "display_name": "Python 3",
   "language": "python",
   "name": "python3"
  },
  "language_info": {
   "codemirror_mode": {
    "name": "ipython",
    "version": 3
   },
   "file_extension": ".py",
   "mimetype": "text/x-python",
   "name": "python",
   "nbconvert_exporter": "python",
   "pygments_lexer": "ipython3",
   "version": "3.8.5"
  },
  "toc": {
   "base_numbering": 1,
   "nav_menu": {},
   "number_sections": false,
   "sideBar": true,
   "skip_h1_title": true,
   "title_cell": "Table of Contents",
   "title_sidebar": "Contents",
   "toc_cell": false,
   "toc_position": {
    "height": "calc(100% - 180px)",
    "left": "10px",
    "top": "150px",
    "width": "273.267px"
   },
   "toc_section_display": true,
   "toc_window_display": false
  }
 },
 "nbformat": 4,
 "nbformat_minor": 2
}