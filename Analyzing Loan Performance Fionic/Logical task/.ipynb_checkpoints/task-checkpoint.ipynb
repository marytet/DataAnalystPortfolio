{
 "cells": [
  {
   "cell_type": "code",
   "execution_count": null,
   "metadata": {},
   "outputs": [],
   "source": [
    "import numpy as np\n",
    "\n",
    "#create array with randomly numbers\n",
    "stock_prices = np.random.randint(1,101,10)\n",
    "\n",
    "display(stock_prices)"
   ]
  },
  {
   "cell_type": "code",
   "execution_count": null,
   "metadata": {},
   "outputs": [],
   "source": [
    "#define max profit walking through the array from the left side, min price determining\n",
    "def max_profit(array):\n",
    "    profit=0\n",
    "    min_price = array[0]\n",
    "    for i in range(len(stock_prices)):\n",
    "        if (array[i]-min_price) > profit:\n",
    "            profit = array[i]-min_price\n",
    "        if array[i] < min_price:\n",
    "            min_price = array[i]\n",
    "        else:\n",
    "            continue\n",
    "    return profit\n",
    "\n",
    "print('Max profit when walking through the array from the left side (first price): ', max_profit(stock_prices))"
   ]
  },
  {
   "cell_type": "code",
   "execution_count": null,
   "metadata": {},
   "outputs": [],
   "source": [
    "#define max profit walking through the array from the left side, min price determining\n",
    "def max_profit(array):\n",
    "    profit=0\n",
    "    min_price = array[0]\n",
    "    for i in range(len(stock_prices)):\n",
    "        if (array[i]-min_price) > profit:\n",
    "            profit = array[i]-min_price\n",
    "        if array[i] < min_price:\n",
    "            min_price = array[i]\n",
    "        else:\n",
    "            continue\n",
    "    return profit\n",
    "\n",
    "print('Max profit when walking through the array from the right side (last price): ', max_profit(stock_prices))"
   ]
  },
  {
   "cell_type": "markdown",
   "metadata": {},
   "source": [
    "User Input and Lists:\n",
    "\n",
    "Write a Python program that prompts the user to enter scores for three players. Store these scores in a list and calculate the average score."
   ]
  },
  {
   "cell_type": "code",
   "execution_count": null,
   "metadata": {},
   "outputs": [],
   "source": [
    "def avg_score(list_scores):\n",
    "    sum_scores = sum(list_scores)\n",
    "    num = len(list_scores)\n",
    "    avg_score = sum_scores / num\n",
    "    return avg_score\n",
    "\n",
    "# Initialize an empty list to store scores\n",
    "player_scores = []\n",
    "\n",
    "# Loop to get scores for three players\n",
    "for i in range(3):\n",
    "    score = int(input(f\"Enter score for player {i+1}: \"))\n",
    "    player_scores.append(score)\n",
    "\n",
    "# Call the function to calculate the average score\n",
    "average_score = avg_score(player_scores)\n",
    "\n",
    "# Display the average score\n",
    "print(f\"The average score is: {average_score}\")\n"
   ]
  },
  {
   "cell_type": "markdown",
   "metadata": {},
   "source": [
    "String Manipulation:\n",
    "\n",
    "Given a player's username, write a Python script to check if the username contains at least 8 characters and display a message accordingly."
   ]
  },
  {
   "cell_type": "code",
   "execution_count": null,
   "metadata": {},
   "outputs": [],
   "source": [
    "def check_name_length(username):\n",
    "    if len(username) < 8:\n",
    "        print(\"Enter at least 8 characters\")\n",
    "    else:\n",
    "        print(\"Username is valid\")\n",
    "\n",
    "# Get user input\n",
    "inp = input(\"Enter a username: \")\n",
    "\n",
    "# Call the function with the user input\n",
    "check_name_length(inp)\n"
   ]
  },
  {
   "cell_type": "markdown",
   "metadata": {},
   "source": [
    "List and Tuple Manipulation:\n",
    "\n",
    "Create a Python function that takes a list of player scores and returns the average score. Additionally, convert this function to use a tuple instead of a list and explain any differences in their behavior."
   ]
  },
  {
   "cell_type": "code",
   "execution_count": null,
   "metadata": {},
   "outputs": [],
   "source": [
    "import pandas as pd\n",
    "\n",
    "df=pd.DataFrame({'Score': [9,10], 'Username': ['Ben', 'Koko']})\n",
    "\n",
    "def calculate_average_score(scores):\n",
    "    total = sum(scores)\n",
    "    average = total / len(scores)\n",
    "    return average\n",
    "\n",
    "# Using a list\n",
    "score_list = df['Score'].tolist()\n",
    "list_average = calculate_average_score(score_list)\n",
    "print(\"Average score using list:\", list_average)\n",
    "\n",
    "# Using a tuple\n",
    "score_tuple = tuple(df['Score'])\n",
    "tuple_average = calculate_average_score(score_tuple)\n",
    "print(\"Average score using tuple:\", tuple_average)\n"
   ]
  },
  {
   "cell_type": "markdown",
   "metadata": {},
   "source": [
    "Looping and Lists:\n",
    "\n",
    "Create a Python function that takes a list of player scores as input. Use a loop to iterate through the scores and print whether each player's score is above or below the average score."
   ]
  },
  {
   "cell_type": "code",
   "execution_count": null,
   "metadata": {},
   "outputs": [],
   "source": [
    "def compare_scores(list_scores):\n",
    "    avg_score = sum(list_scores)/len(list_scores)\n",
    "    \n",
    "    for i,score in enumerate(list_scores, start=1): \n",
    "        if score > avg_score:\n",
    "            print(f\"Player {i}'s score is above the average score.\")\n",
    "        elif score < avg_score:\n",
    "            print(f\"Player {i}'s score is below the average score.\")\n",
    "        else:\n",
    "            print(f\"Player {i}'s score is equal to the average score.\")\n",
    "            \n",
    "scores = [90, 77, 12, 90, 76, 43]\n",
    "compare_scores(scores)"
   ]
  },
  {
   "cell_type": "markdown",
   "metadata": {},
   "source": [
    "Data Validation:\n",
    "\n",
    "Write a Python function that takes a player's age as input. Validate that the age is a positive integer, and if not, prompt the user to enter a valid age."
   ]
  },
  {
   "cell_type": "code",
   "execution_count": null,
   "metadata": {},
   "outputs": [],
   "source": []
  },
  {
   "cell_type": "code",
   "execution_count": null,
   "metadata": {},
   "outputs": [],
   "source": [
    "def get_valid_age():\n",
    "    while True:\n",
    "        try:\n",
    "            age = int(input(\"Enter the player's age: \"))\n",
    "            if age > 0:\n",
    "                return age\n",
    "            else:\n",
    "                print(\"Age must be a positive integer. Please try again.\")\n",
    "        except ValueError:\n",
    "            print(\"Invalid input. Please enter a valid integer for age.\")\n",
    "\n",
    "# Example usage:\n",
    "player_age = get_valid_age()\n",
    "print(f\"Valid age entered: {player_age}\")\n"
   ]
  },
  {
   "cell_type": "markdown",
   "metadata": {},
   "source": [
    "## M1\n",
    "\n",
    "Data Aggregation and Visualization:\n",
    "\n",
    "Write a Python script that reads the Google Play Store data, aggregates the average Rating by Category, and creates a bar chart using a library like Matplotlib to visualize the average ratings for each category."
   ]
  },
  {
   "cell_type": "code",
   "execution_count": null,
   "metadata": {},
   "outputs": [],
   "source": [
    "import matplotlib.pyplot as plt\n",
    "\n",
    "daily_activity = pd.read_csv(\"googleplaystore.csv\")\n",
    "display(daily_activity.head())\n",
    "\n",
    "# avg_category_rates = daily_activity.pivot_table(index='Category', values='Rating', aggfunc='mean')\n",
    "# avg_category_rates.columns = ['Average Rating', 'Number of Entries']\n",
    "avg_category_rates = daily_activity.groupby('Category')['Rating'].agg(['mean', 'count'])\n",
    "# avg_category_rates = daily_activity.groupby('Category')['Rating'].mean()\n",
    "\n",
    "print(avg_category_rates)\n",
    "\n",
    "# Plotting the bar chart\n",
    "plt.figure(figsize=(12, 6))\n",
    "avg_category_rates.plot(kind='bar', color='skyblue')\n",
    "plt.title('Average Ratings by Category')\n",
    "plt.xlabel('Category')\n",
    "plt.ylabel('Average Rating')\n",
    "plt.xticks(rotation=45, ha='right')\n",
    "plt.show()"
   ]
  },
  {
   "cell_type": "markdown",
   "metadata": {},
   "source": [
    "## M2\n",
    "Correlation Analysis:\n",
    "\n",
    "Moonee is interested in understanding the correlation between the number of Reviews and the Rating of the apps. Write a Python script using Pandas to perform correlation analysis on these two variables and print the correlation coefficient."
   ]
  },
  {
   "cell_type": "code",
   "execution_count": null,
   "metadata": {},
   "outputs": [],
   "source": [
    "import pandas as pd\n",
    "\n",
    "# Read the Google Play Store data\n",
    "daily_activity = pd.read_csv(\"googleplaystore.csv\")\n",
    "\n",
    "# Clean column names by removing leading and trailing spaces\n",
    "daily_activity.columns = daily_activity.columns.str.strip()\n",
    "\n",
    "# Check data types of 'Reviews' and 'Rating' columns\n",
    "print(daily_activity[['Reviews', 'Rating']].dtypes)\n",
    "\n",
    "# Convert 'Reviews' to numeric if needed\n",
    "daily_activity['Reviews'] = pd.to_numeric(daily_activity['Reviews'], errors='coerce')\n",
    "\n",
    "# Calculate the correlation coefficient\n",
    "correlation_coefficient = daily_activity[['Reviews', 'Rating']].corr().loc['Reviews', 'Rating']\n",
    "\n",
    "# Print the result\n",
    "print(f\"Correlation Coefficient between Reviews and Rating: {correlation_coefficient}\")\n"
   ]
  },
  {
   "cell_type": "markdown",
   "metadata": {},
   "source": [
    "The error you encountered, specifically the KeyError: 'Reviews' message, usually occurs when the specified key (in this case, 'Reviews') is not found in the DataFrame's columns. Several factors can contribute to this issue:\n",
    "\n",
    "Leading or Trailing Spaces: Extra spaces in the column names might cause discrepancies. Stripping spaces from column names helps ensure accurate matching.\n",
    "\n",
    "Case Sensitivity: Column names are case-sensitive. Ensure that the case in your code matches the actual case of the column names in the DataFrame.\n",
    "\n",
    "Non-numeric Data Types: If the 'Reviews' column contains non-numeric values, attempting to calculate the correlation coefficient could result in an error. In this case, converting the column to numeric types or handling non-numeric values is necessary.\n",
    "\n",
    "The provided script addressed these potential issues by cleaning column names, checking data types, and converting 'Reviews' to numeric, if needed.\n",
    "\n",
    "The key steps taken in the corrected script were:\n",
    "\n",
    "Cleaning Column Names: Ensuring there are no leading or trailing spaces in the column names.\n",
    "\n",
    "Checking Data Types: Printing the data types of the selected columns to confirm that they are numeric.\n",
    "\n",
    "Converting to Numeric: If needed, converting the 'Reviews' column to numeric using pd.to_numeric to handle non-numeric values.\n",
    "\n",
    "By addressing these potential issues, the script becomes more robust and capable of handling variations in column names and data types."
   ]
  },
  {
   "cell_type": "markdown",
   "metadata": {},
   "source": [
    "## M3\n",
    "\n",
    "Data Cleaning and Transformation:\n",
    "\n",
    "The 'Size' column contains both numeric and non-numeric values (e.g., 'Varies with device'). Write a Python script using Pandas to clean and transform the 'Size' column, converting it to a numeric format where possible."
   ]
  },
  {
   "cell_type": "code",
   "execution_count": null,
   "metadata": {
    "scrolled": false
   },
   "outputs": [],
   "source": [
    "import pandas as pd\n",
    "\n",
    "# Read the Google Play Store data\n",
    "daily_activity = pd.read_csv(\"googleplaystore.csv\")\n",
    "\n",
    "# Clean column names by removing leading and trailing spaces\n",
    "daily_activity.columns = daily_activity.columns.str.strip()\n",
    "\n",
    "# Display unique values in the 'Size' column\n",
    "print(\"Unique values in 'Size' column before cleaning:\")\n",
    "print(daily_activity['Size'].unique())\n",
    "\n",
    "# Function to clean and transform the 'Size' column\n",
    "def clean_and_transform_size(size):\n",
    "    # Handle 'Varies with device' by returning NaN\n",
    "    if size == 'Varies with device':\n",
    "        return pd.NA\n",
    "    # Remove non-numeric characters and convert to numeric\n",
    "    return pd.to_numeric(size.replace('M', 'e6').replace('k', 'e3').replace(',', ''), errors='coerce')\n",
    "\n",
    "# Apply the function to the 'Size' column\n",
    "daily_activity['Size'] = daily_activity['Size'].apply(clean_and_transform_size)\n",
    "\n",
    "# Display unique values in the 'Size' column after cleaning\n",
    "print(\"\\nUnique values in 'Size' column after cleaning:\")\n",
    "print(daily_activity['Size'].unique())\n"
   ]
  },
  {
   "cell_type": "markdown",
   "metadata": {},
   "source": [
    "Displays unique values in the 'Size' column before cleaning.\n",
    "Defines a function (clean_and_transform_size) to handle 'Varies with device' and convert the size to numeric format.\n",
    "Applies the function to the 'Size' column using the apply method.\n",
    "Displays unique values in the 'Size' column after cleaning.\n",
    "The clean_and_transform_size function replaces 'Varies with device' with NaN and removes non-numeric characters ('M', 'k', and ',') before converting the size to numeric. The result is a cleaned and transformed 'Size' column."
   ]
  },
  {
   "cell_type": "markdown",
   "metadata": {},
   "source": [
    "## M4\n",
    "Advanced Visualization:\n",
    "\n",
    "Create a Python script that uses Plotly to visualize the distribution of app sizes ('Size' column) with an interactive histogram. Allow users to interact with the plot, such as zooming in on specific size ranges."
   ]
  },
  {
   "cell_type": "code",
   "execution_count": null,
   "metadata": {},
   "outputs": [],
   "source": [
    "import pandas as pd\n",
    "import plotly.graph_objects as go\n",
    "import numpy as np\n",
    "\n",
    "# Read the Google Play Store data\n",
    "daily_activity = pd.read_csv(\"googleplaystore.csv\")\n",
    "\n",
    "# Clean column names by removing leading and trailing spaces\n",
    "daily_activity.columns = daily_activity.columns.str.strip()\n",
    "\n",
    "# Clean and transform the 'Size' column\n",
    "def clean_and_transform_size(size):\n",
    "    if size == 'Varies with device':\n",
    "        return np.nan  # Use numpy.nan instead of pd.NA\n",
    "    return pd.to_numeric(size.replace('M', 'e6').replace('k', 'e3').replace(',', ''), errors='coerce')\n",
    "\n",
    "daily_activity['Size'] = daily_activity['Size'].apply(clean_and_transform_size)\n",
    "\n",
    "# Create an interactive histogram with Plotly\n",
    "fig = go.Figure()\n",
    "\n",
    "# Add histogram trace\n",
    "fig.add_trace(go.Histogram(x=daily_activity['Size'], nbinsx=50, marker_color='skyblue', opacity=0.8))\n",
    "\n",
    "# Customize the layout for a better user experience\n",
    "fig.update_layout(title='Distribution of App Sizes',\n",
    "                  xaxis_title='App Size',\n",
    "                  yaxis_title='Count',\n",
    "                  bargap=0.1)\n",
    "\n",
    "# Show the plot\n",
    "fig.show()\n",
    "\n"
   ]
  },
  {
   "cell_type": "markdown",
   "metadata": {},
   "source": [
    "## M5\n",
    "Statistical Analysis:\n",
    "\n",
    "Moonee wants to compare the average Ratings of paid and free apps. Write a Python script using a statistical test library (e.g., Scipy) to perform a hypothesis test and determine if there is a significant difference in ratings between paid and free apps."
   ]
  },
  {
   "cell_type": "code",
   "execution_count": null,
   "metadata": {},
   "outputs": [],
   "source": [
    "daily_activity['Type'].value_counts()"
   ]
  },
  {
   "cell_type": "code",
   "execution_count": null,
   "metadata": {},
   "outputs": [],
   "source": [
    "import pandas as pd\n",
    "from scipy.stats import ttest_ind\n",
    "\n",
    "# Read the Google Play Store data\n",
    "daily_activity = pd.read_csv(\"googleplaystore.csv\")\n",
    "\n",
    "# Filter out rows where 'Type' is '0'\n",
    "daily_activity = daily_activity[daily_activity['Type'] != '0']\n",
    "\n",
    "# Clean column names by removing leading and trailing spaces\n",
    "daily_activity.columns = daily_activity.columns.str.strip()\n",
    "\n",
    "# Filter data for paid and free apps\n",
    "paid_apps = daily_activity[daily_activity['Type'] == 'Paid']['Rating'].dropna()\n",
    "free_apps = daily_activity[daily_activity['Type'] == 'Free']['Rating'].dropna()\n",
    "\n",
    "# Perform a t-test for independent samples\n",
    "t_statistic, p_value = ttest_ind(paid_apps, free_apps, equal_var=False)\n",
    "\n",
    "# Display the results\n",
    "print(f'T-statistic: {t_statistic}')\n",
    "print(f'P-value: {p_value}')\n",
    "\n",
    "# Determine the significance level (alpha)\n",
    "alpha = 0.05\n",
    "\n",
    "# Compare p-value to alpha\n",
    "if p_value < alpha:\n",
    "    print(\"Reject the null hypothesis: There is a significant difference in ratings between paid and free apps.\")\n",
    "else:\n",
    "    print(\"Fail to reject the null hypothesis: There is no significant difference in ratings between paid and free apps.\")\n",
    "    \n",
    "# Conclusions\n",
    "if p_value < alpha:\n",
    "    print(\"The box plot and statistical test suggest a significant difference in ratings between paid and free apps.\")\n",
    "    print(\"Paid apps may have higher or lower ratings compared to free apps.\")\n",
    "else:\n",
    "    print(\"The box plot and statistical test do not provide strong evidence of a significant difference in ratings between paid and free apps.\")\n",
    "    print(\"The ratings for paid and free apps may be similar.\")\n"
   ]
  },
  {
   "cell_type": "markdown",
   "metadata": {},
   "source": [
    "In this script:\n",
    "\n",
    "We filter the data for paid and free apps based on the 'Type' column.\n",
    "We use the ttest_ind function to perform a t-test for independent samples.\n",
    "The null hypothesis is that there is no significant difference in ratings between paid and free apps.\n",
    "The p-value is compared to the significance level (alpha), and based on this comparison, we decide whether to reject the null hypothesis.\n",
    "Make sure to replace the 'Type' column with the correct column name representing the app type in your dataset.\n",
    "\n",
    "Please note that the choice of the t-test assumes that the ratings for paid and free apps are approximately normally distributed and have equal variances. If these assumptions are not met, alternative tests may be considered."
   ]
  },
  {
   "cell_type": "code",
   "execution_count": null,
   "metadata": {
    "scrolled": true
   },
   "outputs": [],
   "source": [
    "import pandas as pd\n",
    "import seaborn as sns\n",
    "import matplotlib.pyplot as plt\n",
    "\n",
    "# Read the Google Play Store data\n",
    "daily_activity = pd.read_csv(\"googleplaystore.csv\")\n",
    "\n",
    "# Filter out rows where 'Type' is '0'\n",
    "daily_activity = daily_activity[daily_activity['Type'] != '0']\n",
    "\n",
    "# Clean column names by removing leading and trailing spaces\n",
    "daily_activity.columns = daily_activity.columns.str.strip()\n",
    "\n",
    "# Filter data for paid and free apps\n",
    "paid_apps = daily_activity[daily_activity['Type'] == 'Paid']['Rating'].dropna()\n",
    "free_apps = daily_activity[daily_activity['Type'] == 'Free']['Rating'].dropna()\n",
    "\n",
    "# Set up the figure and axes\n",
    "fig, axes = plt.subplots(nrows=1, ncols=2, figsize=(12, 6), sharey=True)\n",
    "\n",
    "# Plot box plots\n",
    "sns.boxplot(x='Type', y='Rating', data=daily_activity, ax=axes[0])\n",
    "axes[0].set_title('Box Plot of Ratings for Paid and Free Apps')\n",
    "\n",
    "# Plot violin plots\n",
    "sns.violinplot(x='Type', y='Rating', data=daily_activity, ax=axes[1])\n",
    "axes[1].set_title('Violin Plot of Ratings for Paid and Free Apps')\n",
    "\n",
    "# Display the plots\n",
    "plt.show()\n"
   ]
  },
  {
   "cell_type": "markdown",
   "metadata": {},
   "source": [
    "**Conclusion: Exploring Ratings Differences Between Paid and Free Apps**\n",
    "\n",
    "The analysis of ratings between paid and free apps yielded intriguing insights. Here are the key conclusions:\n",
    "\n",
    "1. **Statistical Significance:**\n",
    "   - A two-sample t-test was conducted on the ratings of paid and free apps.\n",
    "   - The resulting p-value was found to be below the chosen significance level (α=0.05), indicating a statistically significant difference in ratings.\n",
    "\n",
    "2. **Box Plot Visualization:**\n",
    "   - A box plot was created to visually compare the distribution of ratings for paid and free apps.\n",
    "   - The plot suggests that paid apps tend to have higher ratings compared to free apps.\n",
    "\n",
    "3. **Interpretation:**\n",
    "   - The statistical significance, coupled with the visual evidence from the box plot, supports the observation that paid apps, on average, receive higher ratings than their free counterparts.\n",
    "\n",
    "4. **Possible Factors:**\n",
    "   - Users may perceive paid apps as having higher quality or more advanced features, contributing to elevated satisfaction and higher ratings.\n",
    "   - The financial commitment associated with purchasing a paid app may lead users to provide more positive feedback.\n",
    "\n",
    "5. **Implications:**\n",
    "   - Developers and stakeholders should consider the observed trend when pricing and marketing their apps. Highlighting the positive aspects of paid apps may further enhance their perceived value.\n",
    "\n",
    "6. **Caution:**\n",
    "   - While the analysis suggests a significant difference, it's essential to interpret the findings cautiously. Other factors, such as the type and purpose of the apps, can influence ratings.\n",
    "\n",
    "In summary, the analysis implies that users tend to assign higher ratings to paid apps. Developers should leverage this information strategically to optimize user satisfaction and app performance in the competitive marketplace.\n"
   ]
  },
  {
   "cell_type": "markdown",
   "metadata": {},
   "source": [
    "### Task 1: Sentiment Analysis\n",
    "*Objective: Perform sentiment analysis on app reviews.*\n",
    "\n",
    "**Task Description:**\n",
    "- Use the 'Reviews' column to analyze the sentiment of app reviews.\n",
    "- Implement a sentiment analysis algorithm (you can use a pre-trained model or libraries like NLTK or TextBlob).\n",
    "- Provide insights into the overall sentiment of the app reviews.\n",
    "\n",
    "### Task 2: Category-Based Analysis\n",
    "*Objective: Explore patterns and trends within different app categories.*\n",
    "\n",
    "**Task Description:**\n",
    "- Group the data by 'Category' and analyze the average ratings, number of installs, and size for each category.\n",
    "- Visualize the relationships between average ratings, installs, and size for the top three categories with the highest number of apps.\n",
    "\n",
    "### Task 3: Time-Series Analysis\n",
    "*Objective: Explore trends in app releases over time.*\n",
    "\n",
    "**Task Description:**\n",
    "- Convert the 'Last Updated' column to a datetime format.\n",
    "- Analyze the number of app releases over time (monthly or yearly).\n",
    "- Visualize the trends in app releases using a time-series plot.\n",
    "\n",
    "### Task 4: User Engagement Analysis\n",
    "*Objective: Explore user engagement metrics.*\n",
    "\n",
    "**Task Description:**\n",
    "- Calculate the average number of reviews per install for each app.\n",
    "- Identify the top five apps with the highest user engagement based on the calculated metric.\n",
    "- Provide insights into factors that might contribute to high user engagement.\n",
    "\n",
    "### Task 5: Price and Rating Relationship\n",
    "*Objective: Explore the relationship between app price and user ratings.*\n",
    "\n",
    "**Task Description:**\n",
    "- Analyze the relationship between app price ('Price' column) and user ratings ('Rating' column).\n",
    "- Use statistical methods to quantify the correlation between price and ratings.\n",
    "- Visualize the relationship using an appropriate plot.\n",
    "\n",
    "### Task 6: App Size Optimization\n",
    "*Objective: Provide recommendations for app size optimization.*\n",
    "\n",
    "**Task Description:**\n",
    "- Analyze the distribution of app sizes.\n",
    "- Identify the average app size for each category.\n",
    "- Provide recommendations for app size optimization, considering user preferences and potential impact on ratings.\n"
   ]
  },
  {
   "cell_type": "markdown",
   "metadata": {},
   "source": [
    "### What is Sentiment Analysis?\n",
    "\n",
    "Sentiment analysis, also known as opinion mining, is a natural language processing (NLP) technique that involves determining the sentiment or emotional tone expressed in a piece of text. The goal is to understand the subjective information present in the text and categorize it as positive, negative, or neutral.\n",
    "\n",
    "Key components of sentiment analysis include:\n",
    "\n",
    "1. **Positive Sentiment:** Indicates a favorable or positive opinion or emotion.\n",
    "2. **Negative Sentiment:** Indicates a unfavorable or negative opinion or emotion.\n",
    "3. **Neutral Sentiment:** Indicates a lack of strong positive or negative opinions.\n",
    "\n",
    "Sentiment analysis is widely used in various applications, including customer feedback analysis, social media monitoring, product reviews, and market research. It helps organizations understand public opinion, customer satisfaction, and trends, enabling them to make data-driven decisions.\n",
    "\n",
    "Task 1: Sentiment Analysis\n",
    "\n",
    "Objective: Perform sentiment analysis on app reviews.\n",
    "\n",
    "Task Description:\n",
    "\n",
    "1. **Data Preparation:**\n",
    "   - Load the Google Play Store dataset.\n",
    "   - Clean the 'Reviews' column, removing any irrelevant characters or symbols.\n",
    "\n",
    "2. **Sentiment Analysis Implementation:**\n",
    "   - Choose a sentiment analysis library or model. Suggested options include TextBlob or NLTK for simplicity or more advanced models like VADER or pre-trained models like BERT for accuracy.\n",
    "   - Tokenize the reviews and analyze the sentiment polarity (positive, negative, or neutral) of each review.\n",
    "\n",
    "3. **Overall Sentiment Analysis:**\n",
    "   - Calculate the overall sentiment score for the entire dataset.\n",
    "   - Provide insights into the distribution of sentiments (e.g., percentage of positive, negative, and neutral reviews).\n",
    "\n",
    "4. **Visualization:**\n",
    "   - Create visualizations such as a pie chart or bar chart to illustrate the distribution of sentiments.\n",
    "   - Optionally, visualize sentiment trends over time if the dataset includes a timestamp.\n",
    "\n",
    "5. **Insights and Recommendations:**\n",
    "   - Analyze the implications of the sentiment analysis results.\n",
    "   - Provide recommendations for app developers or stakeholders based on the sentiment insights.\n",
    "   - Discuss any patterns or trends observed in positive or negative sentiments."
   ]
  },
  {
   "cell_type": "code",
   "execution_count": null,
   "metadata": {},
   "outputs": [],
   "source": [
    "from textblob import TextBlob\n",
    "\n",
    "# Assuming 'df' is the DataFrame containing the dataset\n",
    "df['Sentiment'] = df['Reviews'].apply(lambda x: TextBlob(str(x)).sentiment.polarity)\n",
    "\n",
    "# Analyzing overall sentiment distribution\n",
    "positive_reviews = df[df['Sentiment'] > 0]\n",
    "negative_reviews = df[df['Sentiment'] < 0]\n",
    "neutral_reviews = df[df['Sentiment'] == 0]\n",
    "\n",
    "# Calculate percentages\n",
    "total_reviews = len(df)\n",
    "positive_percentage = len(positive_reviews) / total_reviews * 100\n",
    "negative_percentage = len(negative_reviews) / total_reviews * 100\n",
    "neutral_percentage = len(neutral_reviews) / total_reviews * 100\n",
    "\n",
    "print(f\"Positive Reviews: {positive_percentage:.2f}%\")\n",
    "print(f\"Negative Reviews: {negative_percentage:.2f}%\")\n",
    "print(f\"Neutral Reviews: {neutral_percentage:.2f}%\")\n"
   ]
  },
  {
   "cell_type": "markdown",
   "metadata": {},
   "source": [
    "## Task 2: Category-Based Analysis\n",
    "Objective: Explore patterns and trends within different app categories.\n",
    "\n",
    "Task Description:\n",
    "\n",
    "Group the data by 'Category' and analyze the average ratings, number of installs, and size for each category.\n",
    "Visualize the relationships between average ratings, installs, and size for the top three categories with the highest number of apps."
   ]
  },
  {
   "cell_type": "markdown",
   "metadata": {},
   "source": [
    "Task 2: Category-Based Analysis\n",
    "\n",
    "Objective: Explore patterns and trends within different app categories.\n",
    "\n",
    "Task Description:\n",
    "\n",
    "1. **Data Preparation:**\n",
    "   - Load the Google Play Store dataset.\n",
    "   - Ensure that the 'Rating,' 'Installs,' and 'Size' columns are in numeric format.\n",
    "\n",
    "2. **Group by Category:**\n",
    "   - Group the data by the 'Category' column.\n",
    "   - Calculate the average ratings, total number of installs, and average size for each category.\n",
    "\n",
    "3. **Top Three Categories:**\n",
    "   - Identify the top three categories with the highest number of apps.\n",
    "\n",
    "4. **Visualization:**\n",
    "   - Create visualizations (e.g., bar plots, scatter plots) to show the relationships between average ratings, installs, and size for the top three categories.\n",
    "   - Use appropriate labels and legends for clarity.\n",
    "\n",
    "5. **Insights and Analysis:**\n",
    "   - Analyze the visualizations and identify any patterns or trends within the top three categories.\n",
    "   - Discuss any correlations or differences between average ratings, installs, and size.\n",
    "\n",
    "\n",
    "This task assesses the candidate's ability to group data by category, perform calculations on grouped data, and visualize relationships between multiple variables. It also evaluates their analytical skills in interpreting patterns and trends within different app categories."
   ]
  },
  {
   "cell_type": "code",
   "execution_count": 1,
   "metadata": {},
   "outputs": [
    {
     "ename": "DataError",
     "evalue": "No numeric types to aggregate",
     "output_type": "error",
     "traceback": [
      "\u001b[1;31m---------------------------------------------------------------------------\u001b[0m",
      "\u001b[1;31mDataError\u001b[0m                                 Traceback (most recent call last)",
      "\u001b[1;32m<ipython-input-1-266c3bcbdb32>\u001b[0m in \u001b[0;36m<module>\u001b[1;34m\u001b[0m\n\u001b[0;32m     12\u001b[0m \u001b[1;33m\u001b[0m\u001b[0m\n\u001b[0;32m     13\u001b[0m \u001b[1;31m# Group by Category and calculate average ratings, total installs, and average size\u001b[0m\u001b[1;33m\u001b[0m\u001b[1;33m\u001b[0m\u001b[1;33m\u001b[0m\u001b[0m\n\u001b[1;32m---> 14\u001b[1;33m category_stats = df.groupby('Category').agg({\n\u001b[0m\u001b[0;32m     15\u001b[0m     \u001b[1;34m'Rating'\u001b[0m\u001b[1;33m:\u001b[0m \u001b[1;34m'mean'\u001b[0m\u001b[1;33m,\u001b[0m\u001b[1;33m\u001b[0m\u001b[1;33m\u001b[0m\u001b[0m\n\u001b[0;32m     16\u001b[0m     \u001b[1;34m'Installs'\u001b[0m\u001b[1;33m:\u001b[0m \u001b[1;34m'sum'\u001b[0m\u001b[1;33m,\u001b[0m\u001b[1;33m\u001b[0m\u001b[1;33m\u001b[0m\u001b[0m\n",
      "\u001b[1;32mC:\\ProgramData\\Anaconda3\\lib\\site-packages\\pandas\\core\\groupby\\generic.py\u001b[0m in \u001b[0;36maggregate\u001b[1;34m(self, func, engine, engine_kwargs, *args, **kwargs)\u001b[0m\n\u001b[0;32m    949\u001b[0m         \u001b[0mfunc\u001b[0m \u001b[1;33m=\u001b[0m \u001b[0mmaybe_mangle_lambdas\u001b[0m\u001b[1;33m(\u001b[0m\u001b[0mfunc\u001b[0m\u001b[1;33m)\u001b[0m\u001b[1;33m\u001b[0m\u001b[1;33m\u001b[0m\u001b[0m\n\u001b[0;32m    950\u001b[0m \u001b[1;33m\u001b[0m\u001b[0m\n\u001b[1;32m--> 951\u001b[1;33m         \u001b[0mresult\u001b[0m\u001b[1;33m,\u001b[0m \u001b[0mhow\u001b[0m \u001b[1;33m=\u001b[0m \u001b[0mself\u001b[0m\u001b[1;33m.\u001b[0m\u001b[0m_aggregate\u001b[0m\u001b[1;33m(\u001b[0m\u001b[0mfunc\u001b[0m\u001b[1;33m,\u001b[0m \u001b[1;33m*\u001b[0m\u001b[0margs\u001b[0m\u001b[1;33m,\u001b[0m \u001b[1;33m**\u001b[0m\u001b[0mkwargs\u001b[0m\u001b[1;33m)\u001b[0m\u001b[1;33m\u001b[0m\u001b[1;33m\u001b[0m\u001b[0m\n\u001b[0m\u001b[0;32m    952\u001b[0m         \u001b[1;32mif\u001b[0m \u001b[0mhow\u001b[0m \u001b[1;32mis\u001b[0m \u001b[1;32mNone\u001b[0m\u001b[1;33m:\u001b[0m\u001b[1;33m\u001b[0m\u001b[1;33m\u001b[0m\u001b[0m\n\u001b[0;32m    953\u001b[0m             \u001b[1;32mreturn\u001b[0m \u001b[0mresult\u001b[0m\u001b[1;33m\u001b[0m\u001b[1;33m\u001b[0m\u001b[0m\n",
      "\u001b[1;32mC:\\ProgramData\\Anaconda3\\lib\\site-packages\\pandas\\core\\base.py\u001b[0m in \u001b[0;36m_aggregate\u001b[1;34m(self, arg, *args, **kwargs)\u001b[0m\n\u001b[0;32m    414\u001b[0m \u001b[1;33m\u001b[0m\u001b[0m\n\u001b[0;32m    415\u001b[0m                 \u001b[1;32mtry\u001b[0m\u001b[1;33m:\u001b[0m\u001b[1;33m\u001b[0m\u001b[1;33m\u001b[0m\u001b[0m\n\u001b[1;32m--> 416\u001b[1;33m                     \u001b[0mresult\u001b[0m \u001b[1;33m=\u001b[0m \u001b[0m_agg\u001b[0m\u001b[1;33m(\u001b[0m\u001b[0marg\u001b[0m\u001b[1;33m,\u001b[0m \u001b[0m_agg_1dim\u001b[0m\u001b[1;33m)\u001b[0m\u001b[1;33m\u001b[0m\u001b[1;33m\u001b[0m\u001b[0m\n\u001b[0m\u001b[0;32m    417\u001b[0m                 \u001b[1;32mexcept\u001b[0m \u001b[0mSpecificationError\u001b[0m\u001b[1;33m:\u001b[0m\u001b[1;33m\u001b[0m\u001b[1;33m\u001b[0m\u001b[0m\n\u001b[0;32m    418\u001b[0m \u001b[1;33m\u001b[0m\u001b[0m\n",
      "\u001b[1;32mC:\\ProgramData\\Anaconda3\\lib\\site-packages\\pandas\\core\\base.py\u001b[0m in \u001b[0;36m_agg\u001b[1;34m(arg, func)\u001b[0m\n\u001b[0;32m    381\u001b[0m                 \u001b[0mresult\u001b[0m \u001b[1;33m=\u001b[0m \u001b[1;33m{\u001b[0m\u001b[1;33m}\u001b[0m\u001b[1;33m\u001b[0m\u001b[1;33m\u001b[0m\u001b[0m\n\u001b[0;32m    382\u001b[0m                 \u001b[1;32mfor\u001b[0m \u001b[0mfname\u001b[0m\u001b[1;33m,\u001b[0m \u001b[0magg_how\u001b[0m \u001b[1;32min\u001b[0m \u001b[0marg\u001b[0m\u001b[1;33m.\u001b[0m\u001b[0mitems\u001b[0m\u001b[1;33m(\u001b[0m\u001b[1;33m)\u001b[0m\u001b[1;33m:\u001b[0m\u001b[1;33m\u001b[0m\u001b[1;33m\u001b[0m\u001b[0m\n\u001b[1;32m--> 383\u001b[1;33m                     \u001b[0mresult\u001b[0m\u001b[1;33m[\u001b[0m\u001b[0mfname\u001b[0m\u001b[1;33m]\u001b[0m \u001b[1;33m=\u001b[0m \u001b[0mfunc\u001b[0m\u001b[1;33m(\u001b[0m\u001b[0mfname\u001b[0m\u001b[1;33m,\u001b[0m \u001b[0magg_how\u001b[0m\u001b[1;33m)\u001b[0m\u001b[1;33m\u001b[0m\u001b[1;33m\u001b[0m\u001b[0m\n\u001b[0m\u001b[0;32m    384\u001b[0m                 \u001b[1;32mreturn\u001b[0m \u001b[0mresult\u001b[0m\u001b[1;33m\u001b[0m\u001b[1;33m\u001b[0m\u001b[0m\n\u001b[0;32m    385\u001b[0m \u001b[1;33m\u001b[0m\u001b[0m\n",
      "\u001b[1;32mC:\\ProgramData\\Anaconda3\\lib\\site-packages\\pandas\\core\\base.py\u001b[0m in \u001b[0;36m_agg_1dim\u001b[1;34m(name, how, subset)\u001b[0m\n\u001b[0;32m    365\u001b[0m                         \u001b[1;34m\"nested dictionary is ambiguous in aggregation\"\u001b[0m\u001b[1;33m\u001b[0m\u001b[1;33m\u001b[0m\u001b[0m\n\u001b[0;32m    366\u001b[0m                     )\n\u001b[1;32m--> 367\u001b[1;33m                 \u001b[1;32mreturn\u001b[0m \u001b[0mcolg\u001b[0m\u001b[1;33m.\u001b[0m\u001b[0maggregate\u001b[0m\u001b[1;33m(\u001b[0m\u001b[0mhow\u001b[0m\u001b[1;33m)\u001b[0m\u001b[1;33m\u001b[0m\u001b[1;33m\u001b[0m\u001b[0m\n\u001b[0m\u001b[0;32m    368\u001b[0m \u001b[1;33m\u001b[0m\u001b[0m\n\u001b[0;32m    369\u001b[0m             \u001b[1;32mdef\u001b[0m \u001b[0m_agg_2dim\u001b[0m\u001b[1;33m(\u001b[0m\u001b[0mhow\u001b[0m\u001b[1;33m)\u001b[0m\u001b[1;33m:\u001b[0m\u001b[1;33m\u001b[0m\u001b[1;33m\u001b[0m\u001b[0m\n",
      "\u001b[1;32mC:\\ProgramData\\Anaconda3\\lib\\site-packages\\pandas\\core\\groupby\\generic.py\u001b[0m in \u001b[0;36maggregate\u001b[1;34m(self, func, engine, engine_kwargs, *args, **kwargs)\u001b[0m\n\u001b[0;32m    238\u001b[0m \u001b[1;33m\u001b[0m\u001b[0m\n\u001b[0;32m    239\u001b[0m         \u001b[1;32mif\u001b[0m \u001b[0misinstance\u001b[0m\u001b[1;33m(\u001b[0m\u001b[0mfunc\u001b[0m\u001b[1;33m,\u001b[0m \u001b[0mstr\u001b[0m\u001b[1;33m)\u001b[0m\u001b[1;33m:\u001b[0m\u001b[1;33m\u001b[0m\u001b[1;33m\u001b[0m\u001b[0m\n\u001b[1;32m--> 240\u001b[1;33m             \u001b[1;32mreturn\u001b[0m \u001b[0mgetattr\u001b[0m\u001b[1;33m(\u001b[0m\u001b[0mself\u001b[0m\u001b[1;33m,\u001b[0m \u001b[0mfunc\u001b[0m\u001b[1;33m)\u001b[0m\u001b[1;33m(\u001b[0m\u001b[1;33m*\u001b[0m\u001b[0margs\u001b[0m\u001b[1;33m,\u001b[0m \u001b[1;33m**\u001b[0m\u001b[0mkwargs\u001b[0m\u001b[1;33m)\u001b[0m\u001b[1;33m\u001b[0m\u001b[1;33m\u001b[0m\u001b[0m\n\u001b[0m\u001b[0;32m    241\u001b[0m \u001b[1;33m\u001b[0m\u001b[0m\n\u001b[0;32m    242\u001b[0m         \u001b[1;32melif\u001b[0m \u001b[0misinstance\u001b[0m\u001b[1;33m(\u001b[0m\u001b[0mfunc\u001b[0m\u001b[1;33m,\u001b[0m \u001b[0mabc\u001b[0m\u001b[1;33m.\u001b[0m\u001b[0mIterable\u001b[0m\u001b[1;33m)\u001b[0m\u001b[1;33m:\u001b[0m\u001b[1;33m\u001b[0m\u001b[1;33m\u001b[0m\u001b[0m\n",
      "\u001b[1;32mC:\\ProgramData\\Anaconda3\\lib\\site-packages\\pandas\\core\\groupby\\groupby.py\u001b[0m in \u001b[0;36mmean\u001b[1;34m(self, numeric_only)\u001b[0m\n\u001b[0;32m   1391\u001b[0m         \u001b[0mName\u001b[0m\u001b[1;33m:\u001b[0m \u001b[0mB\u001b[0m\u001b[1;33m,\u001b[0m \u001b[0mdtype\u001b[0m\u001b[1;33m:\u001b[0m \u001b[0mfloat64\u001b[0m\u001b[1;33m\u001b[0m\u001b[1;33m\u001b[0m\u001b[0m\n\u001b[0;32m   1392\u001b[0m         \"\"\"\n\u001b[1;32m-> 1393\u001b[1;33m         return self._cython_agg_general(\n\u001b[0m\u001b[0;32m   1394\u001b[0m             \u001b[1;34m\"mean\"\u001b[0m\u001b[1;33m,\u001b[0m\u001b[1;33m\u001b[0m\u001b[1;33m\u001b[0m\u001b[0m\n\u001b[0;32m   1395\u001b[0m             \u001b[0malt\u001b[0m\u001b[1;33m=\u001b[0m\u001b[1;32mlambda\u001b[0m \u001b[0mx\u001b[0m\u001b[1;33m,\u001b[0m \u001b[0maxis\u001b[0m\u001b[1;33m:\u001b[0m \u001b[0mSeries\u001b[0m\u001b[1;33m(\u001b[0m\u001b[0mx\u001b[0m\u001b[1;33m)\u001b[0m\u001b[1;33m.\u001b[0m\u001b[0mmean\u001b[0m\u001b[1;33m(\u001b[0m\u001b[0mnumeric_only\u001b[0m\u001b[1;33m=\u001b[0m\u001b[0mnumeric_only\u001b[0m\u001b[1;33m)\u001b[0m\u001b[1;33m,\u001b[0m\u001b[1;33m\u001b[0m\u001b[1;33m\u001b[0m\u001b[0m\n",
      "\u001b[1;32mC:\\ProgramData\\Anaconda3\\lib\\site-packages\\pandas\\core\\groupby\\groupby.py\u001b[0m in \u001b[0;36m_cython_agg_general\u001b[1;34m(self, how, alt, numeric_only, min_count)\u001b[0m\n\u001b[0;32m   1049\u001b[0m \u001b[1;33m\u001b[0m\u001b[0m\n\u001b[0;32m   1050\u001b[0m         \u001b[1;32mif\u001b[0m \u001b[0mlen\u001b[0m\u001b[1;33m(\u001b[0m\u001b[0moutput\u001b[0m\u001b[1;33m)\u001b[0m \u001b[1;33m==\u001b[0m \u001b[1;36m0\u001b[0m\u001b[1;33m:\u001b[0m\u001b[1;33m\u001b[0m\u001b[1;33m\u001b[0m\u001b[0m\n\u001b[1;32m-> 1051\u001b[1;33m             \u001b[1;32mraise\u001b[0m \u001b[0mDataError\u001b[0m\u001b[1;33m(\u001b[0m\u001b[1;34m\"No numeric types to aggregate\"\u001b[0m\u001b[1;33m)\u001b[0m\u001b[1;33m\u001b[0m\u001b[1;33m\u001b[0m\u001b[0m\n\u001b[0m\u001b[0;32m   1052\u001b[0m \u001b[1;33m\u001b[0m\u001b[0m\n\u001b[0;32m   1053\u001b[0m         \u001b[1;32mreturn\u001b[0m \u001b[0mself\u001b[0m\u001b[1;33m.\u001b[0m\u001b[0m_wrap_aggregated_output\u001b[0m\u001b[1;33m(\u001b[0m\u001b[0moutput\u001b[0m\u001b[1;33m,\u001b[0m \u001b[0mindex\u001b[0m\u001b[1;33m=\u001b[0m\u001b[0mself\u001b[0m\u001b[1;33m.\u001b[0m\u001b[0mgrouper\u001b[0m\u001b[1;33m.\u001b[0m\u001b[0mresult_index\u001b[0m\u001b[1;33m)\u001b[0m\u001b[1;33m\u001b[0m\u001b[1;33m\u001b[0m\u001b[0m\n",
      "\u001b[1;31mDataError\u001b[0m: No numeric types to aggregate"
     ]
    }
   ],
   "source": [
    "import pandas as pd\n",
    "import matplotlib.pyplot as plt\n",
    "import seaborn as sns\n",
    "\n",
    "# Read the Google Play Store data\n",
    "df = pd.read_csv(\"googleplaystore.csv\")\n",
    "# Assuming 'df' is the DataFrame containing the dataset\n",
    "df['Installs'] = df['Installs'].str.replace(',', '').str.replace('+', '')\n",
    "\n",
    "# Convert the 'Installs' column to numeric\n",
    "df['Installs'] = pd.to_numeric(df['Installs'], errors='coerce')\n",
    "\n",
    "# Group by Category and calculate average ratings, total installs, and average size\n",
    "category_stats = df.groupby('Category').agg({\n",
    "    'Rating': 'mean',\n",
    "    'Installs': 'sum',\n",
    "    'Size': 'mean'\n",
    "}).reset_index()\n",
    "\n",
    "# Identify the top three categories with the highest number of apps\n",
    "top_categories = category_stats.nlargest(3, 'Installs')['Category']\n",
    "\n",
    "# Filter data for the top three categories\n",
    "top_categories_data = df[df['Category'].isin(top_categories)]\n",
    "\n",
    "# Visualize relationships between average ratings, installs, and size\n",
    "sns.scatterplot(x='Installs', y='Rating', hue='Size', data=top_categories_data)\n",
    "plt.xlabel('Total Installs')\n",
    "plt.ylabel('Average Ratings')\n",
    "plt.title('Relationships between Ratings, Installs, and Size for Top Three Categories')\n",
    "plt.show()\n"
   ]
  },
  {
   "cell_type": "code",
   "execution_count": null,
   "metadata": {},
   "outputs": [],
   "source": [
    "import pandas as pd\n",
    "import matplotlib.pyplot as plt\n",
    "import seaborn as sns\n",
    "\n",
    "# Assuming 'df' is the DataFrame containing the dataset\n",
    "# Ensure other numeric columns are also in the correct format\n",
    "df['Rating'] = pd.to_numeric(df['Rating'], errors='coerce')\n",
    "df['Size'] = pd.to_numeric(df['Size'].str.replace('M', '').str.replace('k', '').replace('Varies with device', 'NaN'), errors='coerce')\n",
    "\n",
    "# Group by Category and calculate average ratings, total installs, and average size\n",
    "category_stats = df.groupby('Category').agg({\n",
    "    'Rating': 'mean',\n",
    "    'Installs': 'sum',\n",
    "    'Size': 'mean'\n",
    "}).reset_index()\n",
    "\n",
    "# Identify the top three categories with the highest number of apps\n",
    "top_categories = category_stats.nlargest(3, 'Installs')['Category']\n",
    "\n",
    "# Filter data for the top three categories\n",
    "top_categories_data = df[df['Category'].isin(top_categories)]\n",
    "\n",
    "# Visualize relationships between average ratings, installs, and size\n",
    "sns.scatterplot(x='Installs', y='Rating', hue='Size', data=top_categories_data)\n",
    "plt.xlabel('Total Installs')\n",
    "plt.ylabel('Average Ratings')\n",
    "plt.title('Relationships between Ratings, Installs, and Size for Top Three Categories')\n",
    "plt.show()\n",
    "\n"
   ]
  },
  {
   "cell_type": "code",
   "execution_count": null,
   "metadata": {},
   "outputs": [],
   "source": []
  },
  {
   "cell_type": "code",
   "execution_count": 2,
   "metadata": {
    "scrolled": false
   },
   "outputs": [
    {
     "name": "stdout",
     "output_type": "stream",
     "text": [
      "                                           App Category  Rating Reviews  \\\n",
      "10472  Life Made WI-Fi Touchscreen Photo Frame      1.9    19.0    3.0M   \n",
      "\n",
      "         Size  Installs Type     Price Content Rating             Genres  \\\n",
      "10472  1,000+       NaN    0  Everyone            NaN  February 11, 2018   \n",
      "\n",
      "      Last Updated Current Ver Android Ver  \n",
      "10472       1.0.19  4.0 and up         NaN  \n"
     ]
    },
    {
     "name": "stderr",
     "output_type": "stream",
     "text": [
      "<ipython-input-2-e027f184873b>:28: SettingWithCopyWarning: \n",
      "A value is trying to be set on a copy of a slice from a DataFrame.\n",
      "Try using .loc[row_indexer,col_indexer] = value instead\n",
      "\n",
      "See the caveats in the documentation: https://pandas.pydata.org/pandas-docs/stable/user_guide/indexing.html#returning-a-view-versus-a-copy\n",
      "  df['YearMonth'] = df['Last Updated'].dt.to_period('M')\n"
     ]
    },
    {
     "ename": "KeyError",
     "evalue": "'YearMonth'",
     "output_type": "error",
     "traceback": [
      "\u001b[1;31m---------------------------------------------------------------------------\u001b[0m",
      "\u001b[1;31mKeyError\u001b[0m                                  Traceback (most recent call last)",
      "\u001b[1;32mC:\\ProgramData\\Anaconda3\\lib\\site-packages\\pandas\\core\\indexes\\base.py\u001b[0m in \u001b[0;36mget_loc\u001b[1;34m(self, key, method, tolerance)\u001b[0m\n\u001b[0;32m   2894\u001b[0m             \u001b[1;32mtry\u001b[0m\u001b[1;33m:\u001b[0m\u001b[1;33m\u001b[0m\u001b[1;33m\u001b[0m\u001b[0m\n\u001b[1;32m-> 2895\u001b[1;33m                 \u001b[1;32mreturn\u001b[0m \u001b[0mself\u001b[0m\u001b[1;33m.\u001b[0m\u001b[0m_engine\u001b[0m\u001b[1;33m.\u001b[0m\u001b[0mget_loc\u001b[0m\u001b[1;33m(\u001b[0m\u001b[0mcasted_key\u001b[0m\u001b[1;33m)\u001b[0m\u001b[1;33m\u001b[0m\u001b[1;33m\u001b[0m\u001b[0m\n\u001b[0m\u001b[0;32m   2896\u001b[0m             \u001b[1;32mexcept\u001b[0m \u001b[0mKeyError\u001b[0m \u001b[1;32mas\u001b[0m \u001b[0merr\u001b[0m\u001b[1;33m:\u001b[0m\u001b[1;33m\u001b[0m\u001b[1;33m\u001b[0m\u001b[0m\n",
      "\u001b[1;32mpandas\\_libs\\index.pyx\u001b[0m in \u001b[0;36mpandas._libs.index.IndexEngine.get_loc\u001b[1;34m()\u001b[0m\n",
      "\u001b[1;32mpandas\\_libs\\index.pyx\u001b[0m in \u001b[0;36mpandas._libs.index.IndexEngine.get_loc\u001b[1;34m()\u001b[0m\n",
      "\u001b[1;32mpandas\\_libs\\hashtable_class_helper.pxi\u001b[0m in \u001b[0;36mpandas._libs.hashtable.PyObjectHashTable.get_item\u001b[1;34m()\u001b[0m\n",
      "\u001b[1;32mpandas\\_libs\\hashtable_class_helper.pxi\u001b[0m in \u001b[0;36mpandas._libs.hashtable.PyObjectHashTable.get_item\u001b[1;34m()\u001b[0m\n",
      "\u001b[1;31mKeyError\u001b[0m: 'YearMonth'",
      "\nThe above exception was the direct cause of the following exception:\n",
      "\u001b[1;31mKeyError\u001b[0m                                  Traceback (most recent call last)",
      "\u001b[1;32m<ipython-input-2-e027f184873b>\u001b[0m in \u001b[0;36m<module>\u001b[1;34m\u001b[0m\n\u001b[0;32m     33\u001b[0m \u001b[1;31m# Visualize the trends in app releases using a time-series plot\u001b[0m\u001b[1;33m\u001b[0m\u001b[1;33m\u001b[0m\u001b[1;33m\u001b[0m\u001b[0m\n\u001b[0;32m     34\u001b[0m \u001b[0mplt\u001b[0m\u001b[1;33m.\u001b[0m\u001b[0mfigure\u001b[0m\u001b[1;33m(\u001b[0m\u001b[0mfigsize\u001b[0m\u001b[1;33m=\u001b[0m\u001b[1;33m(\u001b[0m\u001b[1;36m18\u001b[0m\u001b[1;33m,\u001b[0m \u001b[1;36m6\u001b[0m\u001b[1;33m)\u001b[0m\u001b[1;33m)\u001b[0m\u001b[1;33m\u001b[0m\u001b[1;33m\u001b[0m\u001b[0m\n\u001b[1;32m---> 35\u001b[1;33m \u001b[0mplt\u001b[0m\u001b[1;33m.\u001b[0m\u001b[0mplot\u001b[0m\u001b[1;33m(\u001b[0m\u001b[0mapp_releases\u001b[0m\u001b[1;33m[\u001b[0m\u001b[1;34m'YearMonth'\u001b[0m\u001b[1;33m]\u001b[0m\u001b[1;33m.\u001b[0m\u001b[0mastype\u001b[0m\u001b[1;33m(\u001b[0m\u001b[0mstr\u001b[0m\u001b[1;33m)\u001b[0m\u001b[1;33m,\u001b[0m \u001b[0mapp_releases\u001b[0m\u001b[1;33m[\u001b[0m\u001b[1;34m'Number of Releases'\u001b[0m\u001b[1;33m]\u001b[0m\u001b[1;33m,\u001b[0m \u001b[0mmarker\u001b[0m\u001b[1;33m=\u001b[0m\u001b[1;34m'o'\u001b[0m\u001b[1;33m)\u001b[0m\u001b[1;33m\u001b[0m\u001b[1;33m\u001b[0m\u001b[0m\n\u001b[0m\u001b[0;32m     36\u001b[0m \u001b[0mplt\u001b[0m\u001b[1;33m.\u001b[0m\u001b[0mxlabel\u001b[0m\u001b[1;33m(\u001b[0m\u001b[1;34m'Year-Month'\u001b[0m\u001b[1;33m)\u001b[0m\u001b[1;33m\u001b[0m\u001b[1;33m\u001b[0m\u001b[0m\n\u001b[0;32m     37\u001b[0m \u001b[0mplt\u001b[0m\u001b[1;33m.\u001b[0m\u001b[0mylabel\u001b[0m\u001b[1;33m(\u001b[0m\u001b[1;34m'Number of Releases'\u001b[0m\u001b[1;33m)\u001b[0m\u001b[1;33m\u001b[0m\u001b[1;33m\u001b[0m\u001b[0m\n",
      "\u001b[1;32mC:\\ProgramData\\Anaconda3\\lib\\site-packages\\pandas\\core\\frame.py\u001b[0m in \u001b[0;36m__getitem__\u001b[1;34m(self, key)\u001b[0m\n\u001b[0;32m   2900\u001b[0m             \u001b[1;32mif\u001b[0m \u001b[0mself\u001b[0m\u001b[1;33m.\u001b[0m\u001b[0mcolumns\u001b[0m\u001b[1;33m.\u001b[0m\u001b[0mnlevels\u001b[0m \u001b[1;33m>\u001b[0m \u001b[1;36m1\u001b[0m\u001b[1;33m:\u001b[0m\u001b[1;33m\u001b[0m\u001b[1;33m\u001b[0m\u001b[0m\n\u001b[0;32m   2901\u001b[0m                 \u001b[1;32mreturn\u001b[0m \u001b[0mself\u001b[0m\u001b[1;33m.\u001b[0m\u001b[0m_getitem_multilevel\u001b[0m\u001b[1;33m(\u001b[0m\u001b[0mkey\u001b[0m\u001b[1;33m)\u001b[0m\u001b[1;33m\u001b[0m\u001b[1;33m\u001b[0m\u001b[0m\n\u001b[1;32m-> 2902\u001b[1;33m             \u001b[0mindexer\u001b[0m \u001b[1;33m=\u001b[0m \u001b[0mself\u001b[0m\u001b[1;33m.\u001b[0m\u001b[0mcolumns\u001b[0m\u001b[1;33m.\u001b[0m\u001b[0mget_loc\u001b[0m\u001b[1;33m(\u001b[0m\u001b[0mkey\u001b[0m\u001b[1;33m)\u001b[0m\u001b[1;33m\u001b[0m\u001b[1;33m\u001b[0m\u001b[0m\n\u001b[0m\u001b[0;32m   2903\u001b[0m             \u001b[1;32mif\u001b[0m \u001b[0mis_integer\u001b[0m\u001b[1;33m(\u001b[0m\u001b[0mindexer\u001b[0m\u001b[1;33m)\u001b[0m\u001b[1;33m:\u001b[0m\u001b[1;33m\u001b[0m\u001b[1;33m\u001b[0m\u001b[0m\n\u001b[0;32m   2904\u001b[0m                 \u001b[0mindexer\u001b[0m \u001b[1;33m=\u001b[0m \u001b[1;33m[\u001b[0m\u001b[0mindexer\u001b[0m\u001b[1;33m]\u001b[0m\u001b[1;33m\u001b[0m\u001b[1;33m\u001b[0m\u001b[0m\n",
      "\u001b[1;32mC:\\ProgramData\\Anaconda3\\lib\\site-packages\\pandas\\core\\indexes\\base.py\u001b[0m in \u001b[0;36mget_loc\u001b[1;34m(self, key, method, tolerance)\u001b[0m\n\u001b[0;32m   2895\u001b[0m                 \u001b[1;32mreturn\u001b[0m \u001b[0mself\u001b[0m\u001b[1;33m.\u001b[0m\u001b[0m_engine\u001b[0m\u001b[1;33m.\u001b[0m\u001b[0mget_loc\u001b[0m\u001b[1;33m(\u001b[0m\u001b[0mcasted_key\u001b[0m\u001b[1;33m)\u001b[0m\u001b[1;33m\u001b[0m\u001b[1;33m\u001b[0m\u001b[0m\n\u001b[0;32m   2896\u001b[0m             \u001b[1;32mexcept\u001b[0m \u001b[0mKeyError\u001b[0m \u001b[1;32mas\u001b[0m \u001b[0merr\u001b[0m\u001b[1;33m:\u001b[0m\u001b[1;33m\u001b[0m\u001b[1;33m\u001b[0m\u001b[0m\n\u001b[1;32m-> 2897\u001b[1;33m                 \u001b[1;32mraise\u001b[0m \u001b[0mKeyError\u001b[0m\u001b[1;33m(\u001b[0m\u001b[0mkey\u001b[0m\u001b[1;33m)\u001b[0m \u001b[1;32mfrom\u001b[0m \u001b[0merr\u001b[0m\u001b[1;33m\u001b[0m\u001b[1;33m\u001b[0m\u001b[0m\n\u001b[0m\u001b[0;32m   2898\u001b[0m \u001b[1;33m\u001b[0m\u001b[0m\n\u001b[0;32m   2899\u001b[0m         \u001b[1;32mif\u001b[0m \u001b[0mtolerance\u001b[0m \u001b[1;32mis\u001b[0m \u001b[1;32mnot\u001b[0m \u001b[1;32mNone\u001b[0m\u001b[1;33m:\u001b[0m\u001b[1;33m\u001b[0m\u001b[1;33m\u001b[0m\u001b[0m\n",
      "\u001b[1;31mKeyError\u001b[0m: 'YearMonth'"
     ]
    },
    {
     "data": {
      "text/plain": [
       "<Figure size 1296x432 with 0 Axes>"
      ]
     },
     "metadata": {},
     "output_type": "display_data"
    }
   ],
   "source": [
    "# Convert the 'Last Updated' column to a datetime format.\n",
    "\n",
    "# Assuming 'df' is the DataFrame containing the dataset\n",
    "\n",
    "# Find the row where 'Last Updated' is '1.0.19'\n",
    "row_1_0_19 = df[df['Last Updated'] == '1.0.19']\n",
    "\n",
    "# Display the row\n",
    "print(row_1_0_19)\n",
    "\n",
    "# Assuming 'df' is the DataFrame containing the dataset\n",
    "import pandas as pd\n",
    "import matplotlib.pyplot as plt\n",
    "\n",
    "# Assuming 'df' is the DataFrame containing the dataset\n",
    "\n",
    "# Clean the 'Last Updated' column\n",
    "df['Last Updated'] = df['Last Updated'].str.replace('19', '2019')  # Assuming it's the year 2019\n",
    "df['Last Updated'] = df['Last Updated'].str.replace('1.0.', '01.')  # Assuming it's a date with format MM.DD\n",
    "\n",
    "# Convert the 'Last Updated' column to a datetime format\n",
    "df['Last Updated'] = pd.to_datetime(df['Last Updated'], errors='coerce')\n",
    "\n",
    "# Drop rows with missing or invalid dates\n",
    "df = df.dropna(subset=['Last Updated'])\n",
    "\n",
    "# Plot the time-series\n",
    "df['YearMonth'] = df['Last Updated'].dt.to_period('M')\n",
    "\n",
    "# Count the number of app releases per month\n",
    "app_releases = df['YearMonth'].value_counts().sort_index().reset_index(name='Number of Releases')\n",
    "\n",
    "# Visualize the trends in app releases using a time-series plot\n",
    "plt.figure(figsize=(18, 6))\n",
    "plt.plot(app_releases['YearMonth'].astype(str), app_releases['Number of Releases'], marker='o')\n",
    "plt.xlabel('Year-Month')\n",
    "plt.ylabel('Number of Releases')\n",
    "plt.title('Trends in App Releases Over Time')\n",
    "plt.xticks(rotation=45)\n",
    "plt.grid(True)\n",
    "plt.tight_layout()\n",
    "plt.show()\n"
   ]
  },
  {
   "cell_type": "code",
   "execution_count": 9,
   "metadata": {},
   "outputs": [
    {
     "ename": "AttributeError",
     "evalue": "Can only use .str accessor with string values!",
     "output_type": "error",
     "traceback": [
      "\u001b[1;31m---------------------------------------------------------------------------\u001b[0m",
      "\u001b[1;31mAttributeError\u001b[0m                            Traceback (most recent call last)",
      "\u001b[1;32m<ipython-input-9-53c3fd4d7010>\u001b[0m in \u001b[0;36m<module>\u001b[1;34m\u001b[0m\n\u001b[0;32m      5\u001b[0m \u001b[1;33m\u001b[0m\u001b[0m\n\u001b[0;32m      6\u001b[0m \u001b[1;31m# Clean the 'Last Updated' column\u001b[0m\u001b[1;33m\u001b[0m\u001b[1;33m\u001b[0m\u001b[1;33m\u001b[0m\u001b[0m\n\u001b[1;32m----> 7\u001b[1;33m \u001b[0mdf\u001b[0m\u001b[1;33m[\u001b[0m\u001b[1;34m'Last Updated'\u001b[0m\u001b[1;33m]\u001b[0m \u001b[1;33m=\u001b[0m \u001b[0mdf\u001b[0m\u001b[1;33m[\u001b[0m\u001b[1;34m'Last Updated'\u001b[0m\u001b[1;33m]\u001b[0m\u001b[1;33m.\u001b[0m\u001b[0mstr\u001b[0m\u001b[1;33m.\u001b[0m\u001b[0mreplace\u001b[0m\u001b[1;33m(\u001b[0m\u001b[1;34mr'\\d+\\.\\d+\\.\\d+'\u001b[0m\u001b[1;33m,\u001b[0m \u001b[1;34m'01.01.2019'\u001b[0m\u001b[1;33m)\u001b[0m  \u001b[1;31m# Replace non-standard date with a default date\u001b[0m\u001b[1;33m\u001b[0m\u001b[1;33m\u001b[0m\u001b[0m\n\u001b[0m\u001b[0;32m      8\u001b[0m \u001b[0mdf\u001b[0m\u001b[1;33m[\u001b[0m\u001b[1;34m'Last Updated'\u001b[0m\u001b[1;33m]\u001b[0m \u001b[1;33m=\u001b[0m \u001b[0mpd\u001b[0m\u001b[1;33m.\u001b[0m\u001b[0mto_datetime\u001b[0m\u001b[1;33m(\u001b[0m\u001b[0mdf\u001b[0m\u001b[1;33m[\u001b[0m\u001b[1;34m'Last Updated'\u001b[0m\u001b[1;33m]\u001b[0m\u001b[1;33m,\u001b[0m \u001b[0merrors\u001b[0m\u001b[1;33m=\u001b[0m\u001b[1;34m'coerce'\u001b[0m\u001b[1;33m)\u001b[0m\u001b[1;33m\u001b[0m\u001b[1;33m\u001b[0m\u001b[0m\n\u001b[0;32m      9\u001b[0m \u001b[1;33m\u001b[0m\u001b[0m\n",
      "\u001b[1;32mC:\\ProgramData\\Anaconda3\\lib\\site-packages\\pandas\\core\\generic.py\u001b[0m in \u001b[0;36m__getattr__\u001b[1;34m(self, name)\u001b[0m\n\u001b[0;32m   5133\u001b[0m             \u001b[1;32mor\u001b[0m \u001b[0mname\u001b[0m \u001b[1;32min\u001b[0m \u001b[0mself\u001b[0m\u001b[1;33m.\u001b[0m\u001b[0m_accessors\u001b[0m\u001b[1;33m\u001b[0m\u001b[1;33m\u001b[0m\u001b[0m\n\u001b[0;32m   5134\u001b[0m         ):\n\u001b[1;32m-> 5135\u001b[1;33m             \u001b[1;32mreturn\u001b[0m \u001b[0mobject\u001b[0m\u001b[1;33m.\u001b[0m\u001b[0m__getattribute__\u001b[0m\u001b[1;33m(\u001b[0m\u001b[0mself\u001b[0m\u001b[1;33m,\u001b[0m \u001b[0mname\u001b[0m\u001b[1;33m)\u001b[0m\u001b[1;33m\u001b[0m\u001b[1;33m\u001b[0m\u001b[0m\n\u001b[0m\u001b[0;32m   5136\u001b[0m         \u001b[1;32melse\u001b[0m\u001b[1;33m:\u001b[0m\u001b[1;33m\u001b[0m\u001b[1;33m\u001b[0m\u001b[0m\n\u001b[0;32m   5137\u001b[0m             \u001b[1;32mif\u001b[0m \u001b[0mself\u001b[0m\u001b[1;33m.\u001b[0m\u001b[0m_info_axis\u001b[0m\u001b[1;33m.\u001b[0m\u001b[0m_can_hold_identifiers_and_holds_name\u001b[0m\u001b[1;33m(\u001b[0m\u001b[0mname\u001b[0m\u001b[1;33m)\u001b[0m\u001b[1;33m:\u001b[0m\u001b[1;33m\u001b[0m\u001b[1;33m\u001b[0m\u001b[0m\n",
      "\u001b[1;32mC:\\ProgramData\\Anaconda3\\lib\\site-packages\\pandas\\core\\accessor.py\u001b[0m in \u001b[0;36m__get__\u001b[1;34m(self, obj, cls)\u001b[0m\n\u001b[0;32m    185\u001b[0m             \u001b[1;31m# we're accessing the attribute of the class, i.e., Dataset.geo\u001b[0m\u001b[1;33m\u001b[0m\u001b[1;33m\u001b[0m\u001b[1;33m\u001b[0m\u001b[0m\n\u001b[0;32m    186\u001b[0m             \u001b[1;32mreturn\u001b[0m \u001b[0mself\u001b[0m\u001b[1;33m.\u001b[0m\u001b[0m_accessor\u001b[0m\u001b[1;33m\u001b[0m\u001b[1;33m\u001b[0m\u001b[0m\n\u001b[1;32m--> 187\u001b[1;33m         \u001b[0maccessor_obj\u001b[0m \u001b[1;33m=\u001b[0m \u001b[0mself\u001b[0m\u001b[1;33m.\u001b[0m\u001b[0m_accessor\u001b[0m\u001b[1;33m(\u001b[0m\u001b[0mobj\u001b[0m\u001b[1;33m)\u001b[0m\u001b[1;33m\u001b[0m\u001b[1;33m\u001b[0m\u001b[0m\n\u001b[0m\u001b[0;32m    188\u001b[0m         \u001b[1;31m# Replace the property with the accessor object. Inspired by:\u001b[0m\u001b[1;33m\u001b[0m\u001b[1;33m\u001b[0m\u001b[1;33m\u001b[0m\u001b[0m\n\u001b[0;32m    189\u001b[0m         \u001b[1;31m# https://www.pydanny.com/cached-property.html\u001b[0m\u001b[1;33m\u001b[0m\u001b[1;33m\u001b[0m\u001b[1;33m\u001b[0m\u001b[0m\n",
      "\u001b[1;32mC:\\ProgramData\\Anaconda3\\lib\\site-packages\\pandas\\core\\strings.py\u001b[0m in \u001b[0;36m__init__\u001b[1;34m(self, data)\u001b[0m\n\u001b[0;32m   2098\u001b[0m \u001b[1;33m\u001b[0m\u001b[0m\n\u001b[0;32m   2099\u001b[0m     \u001b[1;32mdef\u001b[0m \u001b[0m__init__\u001b[0m\u001b[1;33m(\u001b[0m\u001b[0mself\u001b[0m\u001b[1;33m,\u001b[0m \u001b[0mdata\u001b[0m\u001b[1;33m)\u001b[0m\u001b[1;33m:\u001b[0m\u001b[1;33m\u001b[0m\u001b[1;33m\u001b[0m\u001b[0m\n\u001b[1;32m-> 2100\u001b[1;33m         \u001b[0mself\u001b[0m\u001b[1;33m.\u001b[0m\u001b[0m_inferred_dtype\u001b[0m \u001b[1;33m=\u001b[0m \u001b[0mself\u001b[0m\u001b[1;33m.\u001b[0m\u001b[0m_validate\u001b[0m\u001b[1;33m(\u001b[0m\u001b[0mdata\u001b[0m\u001b[1;33m)\u001b[0m\u001b[1;33m\u001b[0m\u001b[1;33m\u001b[0m\u001b[0m\n\u001b[0m\u001b[0;32m   2101\u001b[0m         \u001b[0mself\u001b[0m\u001b[1;33m.\u001b[0m\u001b[0m_is_categorical\u001b[0m \u001b[1;33m=\u001b[0m \u001b[0mis_categorical_dtype\u001b[0m\u001b[1;33m(\u001b[0m\u001b[0mdata\u001b[0m\u001b[1;33m.\u001b[0m\u001b[0mdtype\u001b[0m\u001b[1;33m)\u001b[0m\u001b[1;33m\u001b[0m\u001b[1;33m\u001b[0m\u001b[0m\n\u001b[0;32m   2102\u001b[0m         \u001b[0mself\u001b[0m\u001b[1;33m.\u001b[0m\u001b[0m_is_string\u001b[0m \u001b[1;33m=\u001b[0m \u001b[0mdata\u001b[0m\u001b[1;33m.\u001b[0m\u001b[0mdtype\u001b[0m\u001b[1;33m.\u001b[0m\u001b[0mname\u001b[0m \u001b[1;33m==\u001b[0m \u001b[1;34m\"string\"\u001b[0m\u001b[1;33m\u001b[0m\u001b[1;33m\u001b[0m\u001b[0m\n",
      "\u001b[1;32mC:\\ProgramData\\Anaconda3\\lib\\site-packages\\pandas\\core\\strings.py\u001b[0m in \u001b[0;36m_validate\u001b[1;34m(data)\u001b[0m\n\u001b[0;32m   2155\u001b[0m \u001b[1;33m\u001b[0m\u001b[0m\n\u001b[0;32m   2156\u001b[0m         \u001b[1;32mif\u001b[0m \u001b[0minferred_dtype\u001b[0m \u001b[1;32mnot\u001b[0m \u001b[1;32min\u001b[0m \u001b[0mallowed_types\u001b[0m\u001b[1;33m:\u001b[0m\u001b[1;33m\u001b[0m\u001b[1;33m\u001b[0m\u001b[0m\n\u001b[1;32m-> 2157\u001b[1;33m             \u001b[1;32mraise\u001b[0m \u001b[0mAttributeError\u001b[0m\u001b[1;33m(\u001b[0m\u001b[1;34m\"Can only use .str accessor with string values!\"\u001b[0m\u001b[1;33m)\u001b[0m\u001b[1;33m\u001b[0m\u001b[1;33m\u001b[0m\u001b[0m\n\u001b[0m\u001b[0;32m   2158\u001b[0m         \u001b[1;32mreturn\u001b[0m \u001b[0minferred_dtype\u001b[0m\u001b[1;33m\u001b[0m\u001b[1;33m\u001b[0m\u001b[0m\n\u001b[0;32m   2159\u001b[0m \u001b[1;33m\u001b[0m\u001b[0m\n",
      "\u001b[1;31mAttributeError\u001b[0m: Can only use .str accessor with string values!"
     ]
    }
   ],
   "source": [
    "import pandas as pd\n",
    "import matplotlib.pyplot as plt\n",
    "\n",
    "# Assuming 'df' is the DataFrame containing the dataset\n",
    "\n",
    "# Clean the 'Last Updated' column\n",
    "df['Last Updated'] = df['Last Updated'].str.replace(r'\\d+\\.\\d+\\.\\d+', '01.01.2019')  # Replace non-standard date with a default date\n",
    "df['Last Updated'] = pd.to_datetime(df['Last Updated'], errors='coerce')\n",
    "\n",
    "# Drop rows with missing or invalid dates\n",
    "df = df.dropna(subset=['Last Updated'])\n",
    "\n",
    "# Plot the time-series\n",
    "df['YearMonth'] = df['Last Updated'].dt.to_period('M')\n",
    "\n",
    "# Count the number of app releases per month\n",
    "app_releases = df['YearMonth'].value_counts().sort_index().reset_index(name='Number of Releases')\n",
    "\n",
    "# Visualize the trends in app releases using a time-series plot\n",
    "plt.figure(figsize=(18, 6))\n",
    "plt.plot(app_releases['YearMonth'].astype(str), app_releases['Number of Releases'], marker='o')\n",
    "plt.xlabel('Year-Month')\n",
    "plt.ylabel('Number of Releases')\n",
    "plt.title('Trends in App Releases Over Time')\n",
    "plt.xticks(rotation=45)\n",
    "plt.grid(True)\n",
    "plt.tight_layout()\n",
    "plt.show()\n"
   ]
  },
  {
   "cell_type": "code",
   "execution_count": 8,
   "metadata": {},
   "outputs": [
    {
     "data": {
      "image/png": "[encoded data removed]",
      "text/plain": [
       "<Figure size 720x432 with 1 Axes>"
      ]
     },
     "metadata": {
      "needs_background": "light"
     },
     "output_type": "display_data"
    }
   ],
   "source": [
    "# Drop rows with missing or invalid dates\n",
    "df = df.dropna(subset=['Last Updated'])\n",
    "\n",
    "# Plot the time-series\n",
    "df['YearMonth'] = df['Last Updated'].dt.to_period('M')\n",
    "df['YearMonth'].value_counts().sort_index().plot(kind='line', figsize=(10, 6), marker='o')\n",
    "\n",
    "# Add labels and title\n",
    "plt.xlabel('Year-Month')\n",
    "plt.ylabel('Number of App Releases')\n",
    "plt.title('Number of App Releases Over Time')\n",
    "plt.xticks(rotation=45)\n",
    "plt.grid(True)\n",
    "plt.tight_layout()\n",
    "\n",
    "# Show the plot\n",
    "plt.show()"
   ]
  }
 ],
 "metadata": {
  "kernelspec": {
   "display_name": "Python 3",
   "language": "python",
   "name": "python3"
  },
  "language_info": {
   "codemirror_mode": {
    "name": "ipython",
    "version": 3
   },
   "file_extension": ".py",
   "mimetype": "text/x-python",
   "name": "python",
   "nbconvert_exporter": "python",
   "pygments_lexer": "ipython3",
   "version": "3.8.5"
  }
 },
 "nbformat": 4,
 "nbformat_minor": 4
}
